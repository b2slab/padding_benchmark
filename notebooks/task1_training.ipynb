{
 "cells": [
  {
   "cell_type": "code",
   "execution_count": 1,
   "metadata": {},
   "outputs": [
    {
     "name": "stderr",
     "output_type": "stream",
     "text": [
      "Using TensorFlow backend.\n"
     ]
    }
   ],
   "source": [
    "from __future__ import division, absolute_import\n",
    "\n",
    "import os\n",
    "import sys\n",
    "import random\n",
    "\n",
    "import numpy as np\n",
    "import datetime\n",
    "\n",
    "#root\n",
    "absPath = '/home/angela/padding_EBI/'\n",
    "sys.path.insert(0, absPath)\n",
    "\n",
    "#from src.Target import Target\n",
    "\n",
    "np.random.seed(8)\n",
    "random.seed(8)\n",
    "\n",
    "from src.preprocessing import *\n",
    "from src.model_architecture import *\n",
    "from src.training_model import *\n",
    "from src.postprocessing import *\n",
    "from src.comparing_results import *\n",
    "#from src.callbacks import *\n",
    "%matplotlib inline"
   ]
  },
  {
   "cell_type": "markdown",
   "metadata": {},
   "source": [
    "### Defining parameters"
   ]
  },
  {
   "cell_type": "code",
   "execution_count": 2,
   "metadata": {},
   "outputs": [],
   "source": [
    "list_paddings = [\n",
    "    'post_padding', 'pre_padding', 'mid_padding', \n",
    "                 'strf_padding', 'ext_padding', \n",
    "                 'rnd_padding', 'aug_padding', \"zoom_padding\"]\n",
    "#list_paddings = ['post_padding', 'pre_padding', 'mid_padding', 'strf_padding', 'ext_padding', \n",
    "#                 'rnd_padding']\n",
    "#list_paddings = [\"zoom_padding\"]\n",
    "#hierarchy of folders: annotation/dataset/architecture/n_neurs/task/padding\n",
    "folder = 'EC_number/archaea/1conv/64filts_size5/'#'EC_number/archaea/3denses/bio_neurons/'\n",
    "column = \"EC number\"\n",
    "\n",
    "n_folds = 10\n",
    "\n",
    "dicti = creating_dict()\n",
    "\n",
    "max_lenn = 1000\n",
    "\n",
    "n_class = 2 #number of classes to output\n",
    "drop_per = 0.2 #Input dropout \n",
    "n_neur = [314,77, 8]\n",
    "drop_hid = 0.5\n",
    "dict_size = len(dicti)\n",
    "final_act = \"softmax\"\n",
    "n_filt = 64 #None\n",
    "kernel_size = [5] #None\n",
    "pool_size = None\n",
    "n_hid = None\n",
    "\n",
    "batch_size = 54\n",
    "epochss = 200\n",
    "\n",
    "callbacks_list = [None, None, None, None, False, False, False, False]\n",
    "task = \"task1/\"\n",
    "#architecture = \"only_denses\"\n",
    "architecture = \"conv_dense\""
   ]
  },
  {
   "cell_type": "code",
   "execution_count": 3,
   "metadata": {},
   "outputs": [],
   "source": [
    "lr=0.0001\n",
    "optimizer = Adam(lr=lr)"
   ]
  },
  {
   "cell_type": "markdown",
   "metadata": {},
   "source": [
    "### Loading stuff"
   ]
  },
  {
   "cell_type": "code",
   "execution_count": 4,
   "metadata": {},
   "outputs": [],
   "source": [
    "file_idcs_aug = os.path.join(absPath, 'data/', folder, 'idcs_aug_split.pickle')\n",
    "\n",
    "with open(file_idcs_aug, \"rb\") as input_file:\n",
    "    k_aug_indices = pickle.load(input_file)\n",
    "    \n",
    "file_idcs = os.path.join(absPath, 'data/', folder, 'idcs_split.pickle')\n",
    "\n",
    "with open(file_idcs, \"rb\") as input_file:\n",
    "    splitting_sets = pickle.load(input_file)"
   ]
  },
  {
   "cell_type": "markdown",
   "metadata": {},
   "source": [
    "# Defining Deep Learning model  - Task 1"
   ]
  },
  {
   "cell_type": "code",
   "execution_count": 5,
   "metadata": {},
   "outputs": [
    {
     "name": "stdout",
     "output_type": "stream",
     "text": [
      "_________________________________________________________________\n",
      "Layer (type)                 Output Shape              Param #   \n",
      "=================================================================\n",
      "input_1 (InputLayer)         (None, 1000, 26)          0         \n",
      "_________________________________________________________________\n",
      "dropout_1 (Dropout)          (None, 1000, 26)          0         \n",
      "_________________________________________________________________\n",
      "conv1d_1 (Conv1D)            (None, 1000, 64)          8384      \n",
      "_________________________________________________________________\n",
      "dense_1 (Dense)              (None, 1000, 314)         20410     \n",
      "_________________________________________________________________\n",
      "dropout_2 (Dropout)          (None, 1000, 314)         0         \n",
      "_________________________________________________________________\n",
      "dense_2 (Dense)              (None, 1000, 77)          24255     \n",
      "_________________________________________________________________\n",
      "dropout_3 (Dropout)          (None, 1000, 77)          0         \n",
      "_________________________________________________________________\n",
      "dense_3 (Dense)              (None, 1000, 8)           624       \n",
      "_________________________________________________________________\n",
      "dropout_4 (Dropout)          (None, 1000, 8)           0         \n",
      "_________________________________________________________________\n",
      "flatten_1 (Flatten)          (None, 8000)              0         \n",
      "_________________________________________________________________\n",
      "dense_4 (Dense)              (None, 2)                 16002     \n",
      "=================================================================\n",
      "Total params: 69,675\n",
      "Trainable params: 69,675\n",
      "Non-trainable params: 0\n",
      "_________________________________________________________________\n",
      "None\n"
     ]
    }
   ],
   "source": [
    "#model = building_3dense_model_task1(max_lenn, dict_size, n_neur, n_class, drop_per, drop_hid, 'softmax', folder)\n",
    "model = building_1convdense_model_task1(max_lenn, dict_size, n_neur, n_class, drop_per, drop_hid, n_filt, kernel_size, final_act, folder)\n",
    "\n",
    "generators_dict = {} \n",
    "for model_type in list_paddings:\n",
    "    generators_dict[model_type] = trainval_generators(splitting_sets, k_aug_indices, model_type, \n",
    "                                                      folder, batch_size, 'labels_task1', True)"
   ]
  },
  {
   "cell_type": "markdown",
   "metadata": {},
   "source": [
    "### Training model"
   ]
  },
  {
   "cell_type": "code",
   "execution_count": 6,
   "metadata": {},
   "outputs": [
    {
     "name": "stdout",
     "output_type": "stream",
     "text": [
      "_________________________________________________________________\n",
      "Layer (type)                 Output Shape              Param #   \n",
      "=================================================================\n",
      "input_2 (InputLayer)         (None, 1000, 26)          0         \n",
      "_________________________________________________________________\n",
      "dropout_5 (Dropout)          (None, 1000, 26)          0         \n",
      "_________________________________________________________________\n",
      "conv1d_2 (Conv1D)            (None, 1000, 64)          8384      \n",
      "_________________________________________________________________\n",
      "dense_5 (Dense)              (None, 1000, 314)         20410     \n",
      "_________________________________________________________________\n",
      "dropout_6 (Dropout)          (None, 1000, 314)         0         \n",
      "_________________________________________________________________\n",
      "dense_6 (Dense)              (None, 1000, 77)          24255     \n",
      "_________________________________________________________________\n",
      "dropout_7 (Dropout)          (None, 1000, 77)          0         \n",
      "_________________________________________________________________\n",
      "dense_7 (Dense)              (None, 1000, 8)           624       \n",
      "_________________________________________________________________\n",
      "dropout_8 (Dropout)          (None, 1000, 8)           0         \n",
      "_________________________________________________________________\n",
      "flatten_2 (Flatten)          (None, 8000)              0         \n",
      "_________________________________________________________________\n",
      "dense_8 (Dense)              (None, 2)                 16002     \n",
      "=================================================================\n",
      "Total params: 69,675\n",
      "Trainable params: 69,675\n",
      "Non-trainable params: 0\n",
      "_________________________________________________________________\n",
      "None\n",
      "Epoch 1/200\n",
      "251/251 [==============================] - 8s 33ms/step - loss: 0.6737 - acc: 0.6018 - val_loss: 0.6790 - val_acc: 0.7110\n",
      "\n",
      "Epoch 00001: val_acc improved from -inf to 0.71104, saving model to /home/angela/padding_EBI/data/checkpoint/EC_number/archaea/1conv/64filts_size5/task1/post_padding/0/weights-improvement-001-0.7110.hdf5\n",
      "Epoch 2/200\n",
      "251/251 [==============================] - 7s 28ms/step - loss: 0.6673 - acc: 0.6182 - val_loss: 0.6788 - val_acc: 0.7530\n",
      "\n",
      "Epoch 00002: val_acc improved from 0.71104 to 0.75297, saving model to /home/angela/padding_EBI/data/checkpoint/EC_number/archaea/1conv/64filts_size5/task1/post_padding/0/weights-improvement-002-0.7530.hdf5\n",
      "Epoch 3/200\n",
      "251/251 [==============================] - 7s 28ms/step - loss: 0.6535 - acc: 0.6448 - val_loss: 0.6482 - val_acc: 0.7687\n",
      "\n",
      "Epoch 00003: val_acc improved from 0.75297 to 0.76869, saving model to /home/angela/padding_EBI/data/checkpoint/EC_number/archaea/1conv/64filts_size5/task1/post_padding/0/weights-improvement-003-0.7687.hdf5\n",
      "Epoch 4/200\n",
      "251/251 [==============================] - 7s 28ms/step - loss: 0.6325 - acc: 0.6734 - val_loss: 0.6161 - val_acc: 0.7715\n",
      "\n",
      "Epoch 00004: val_acc improved from 0.76869 to 0.77149, saving model to /home/angela/padding_EBI/data/checkpoint/EC_number/archaea/1conv/64filts_size5/task1/post_padding/0/weights-improvement-004-0.7715.hdf5\n",
      "Epoch 5/200\n",
      "251/251 [==============================] - 7s 28ms/step - loss: 0.6213 - acc: 0.6869 - val_loss: 0.6061 - val_acc: 0.7638\n",
      "\n",
      "Epoch 00005: val_acc did not improve from 0.77149\n",
      "Epoch 6/200\n",
      "251/251 [==============================] - 7s 28ms/step - loss: 0.6182 - acc: 0.6921 - val_loss: 0.6036 - val_acc: 0.7554\n",
      "\n",
      "Epoch 00006: val_acc did not improve from 0.77149\n",
      "Epoch 7/200\n",
      "251/251 [==============================] - 7s 28ms/step - loss: 0.6159 - acc: 0.6982 - val_loss: 0.6022 - val_acc: 0.7491\n",
      "\n",
      "Epoch 00007: val_acc did not improve from 0.77149\n",
      "Epoch 8/200\n",
      "251/251 [==============================] - 7s 28ms/step - loss: 0.6161 - acc: 0.6988 - val_loss: 0.6057 - val_acc: 0.7407\n",
      "\n",
      "Epoch 00008: val_acc did not improve from 0.77149\n",
      "Epoch 9/200\n",
      "251/251 [==============================] - 7s 28ms/step - loss: 0.6142 - acc: 0.7050 - val_loss: 0.6028 - val_acc: 0.7383\n",
      "\n",
      "Epoch 00009: val_acc did not improve from 0.77149\n",
      "Epoch 10/200\n",
      "251/251 [==============================] - 7s 28ms/step - loss: 0.6135 - acc: 0.7044 - val_loss: 0.6000 - val_acc: 0.7369\n",
      "\n",
      "Epoch 00010: val_acc did not improve from 0.77149\n",
      "Epoch 11/200\n",
      "251/251 [==============================] - 7s 28ms/step - loss: 0.6116 - acc: 0.7025 - val_loss: 0.6027 - val_acc: 0.7324\n",
      "\n",
      "Epoch 00011: val_acc did not improve from 0.77149\n",
      "Epoch 12/200\n",
      "251/251 [==============================] - 7s 28ms/step - loss: 0.6109 - acc: 0.7052 - val_loss: 0.6040 - val_acc: 0.7299\n",
      "\n",
      "Epoch 00012: val_acc did not improve from 0.77149\n",
      "Epoch 13/200\n",
      "251/251 [==============================] - 7s 28ms/step - loss: 0.6092 - acc: 0.7052 - val_loss: 0.5985 - val_acc: 0.7285\n",
      "\n",
      "Epoch 00013: val_acc did not improve from 0.77149\n",
      "Epoch 14/200\n",
      "251/251 [==============================] - 7s 28ms/step - loss: 0.6091 - acc: 0.7035 - val_loss: 0.6033 - val_acc: 0.7243\n",
      "\n",
      "Epoch 00014: val_acc did not improve from 0.77149\n",
      "Epoch 15/200\n",
      "251/251 [==============================] - 7s 28ms/step - loss: 0.6088 - acc: 0.7027 - val_loss: 0.6008 - val_acc: 0.7240\n",
      "\n",
      "Epoch 00015: val_acc did not improve from 0.77149\n",
      "Epoch 16/200\n",
      "251/251 [==============================] - 7s 28ms/step - loss: 0.6056 - acc: 0.7059 - val_loss: 0.5945 - val_acc: 0.7268\n",
      "\n",
      "Epoch 00016: val_acc did not improve from 0.77149\n",
      "Epoch 17/200\n",
      "251/251 [==============================] - 7s 28ms/step - loss: 0.6051 - acc: 0.7049 - val_loss: 0.5952 - val_acc: 0.7257\n",
      "\n",
      "Epoch 00017: val_acc did not improve from 0.77149\n",
      "Epoch 18/200\n",
      "251/251 [==============================] - 7s 28ms/step - loss: 0.6043 - acc: 0.7059 - val_loss: 0.5938 - val_acc: 0.7264\n",
      "\n",
      "Epoch 00018: val_acc did not improve from 0.77149\n",
      "Epoch 19/200\n",
      "198/251 [======================>.......] - ETA: 1s - loss: 0.5797 - acc: 0.7181"
     ]
    },
    {
     "ename": "KeyboardInterrupt",
     "evalue": "",
     "output_type": "error",
     "traceback": [
      "\u001b[0;31m---------------------------------------------------------------------------\u001b[0m",
      "\u001b[0;31mKeyboardInterrupt\u001b[0m                         Traceback (most recent call last)",
      "\u001b[0;32m<ipython-input-6-a9fe9cea2a19>\u001b[0m in \u001b[0;36m<module>\u001b[0;34m()\u001b[0m\n\u001b[1;32m     13\u001b[0m                         \u001b[0mlen_train\u001b[0m\u001b[0;34m,\u001b[0m \u001b[0mlen_val\u001b[0m\u001b[0;34m,\u001b[0m\u001b[0;34m\u001b[0m\u001b[0;34m\u001b[0m\u001b[0m\n\u001b[1;32m     14\u001b[0m                         \u001b[0mn_filt\u001b[0m \u001b[0;34m=\u001b[0m \u001b[0mn_filt\u001b[0m\u001b[0;34m,\u001b[0m \u001b[0mkernel_size\u001b[0m\u001b[0;34m=\u001b[0m\u001b[0mkernel_size\u001b[0m\u001b[0;34m,\u001b[0m \u001b[0mpool_size\u001b[0m\u001b[0;34m=\u001b[0m\u001b[0mpool_size\u001b[0m\u001b[0;34m,\u001b[0m\u001b[0;34m\u001b[0m\u001b[0;34m\u001b[0m\u001b[0m\n\u001b[0;32m---> 15\u001b[0;31m                       nhid=n_hid, optimizer=optimizer)\n\u001b[0m",
      "\u001b[0;32m/home/angela/padding_EBI/src/training_model.py\u001b[0m in \u001b[0;36mmodel_training\u001b[0;34m(model_type, folder, task, idx, callbacks_list, train_generator, val_generator, architecture, max_len, dict_size, batch_size, n_neur, n_class, drop_per, drop_hid, final_act, epochss, len_train, len_val, n_filt, kernel_size, pool_size, nhid, optimizer)\u001b[0m\n\u001b[1;32m    173\u001b[0m                             \u001b[0mepochs\u001b[0m\u001b[0;34m=\u001b[0m\u001b[0mepochss\u001b[0m\u001b[0;34m,\u001b[0m\u001b[0;34m\u001b[0m\u001b[0;34m\u001b[0m\u001b[0m\n\u001b[1;32m    174\u001b[0m                             \u001b[0mcallbacks\u001b[0m\u001b[0;34m=\u001b[0m\u001b[0mcallbacks_list\u001b[0m\u001b[0;34m,\u001b[0m\u001b[0;34m\u001b[0m\u001b[0;34m\u001b[0m\u001b[0m\n\u001b[0;32m--> 175\u001b[0;31m                             verbose=1)\n\u001b[0m\u001b[1;32m    176\u001b[0m     \u001b[0mend\u001b[0m \u001b[0;34m=\u001b[0m \u001b[0mtime\u001b[0m\u001b[0;34m.\u001b[0m\u001b[0mtime\u001b[0m\u001b[0;34m(\u001b[0m\u001b[0;34m)\u001b[0m\u001b[0;34m\u001b[0m\u001b[0;34m\u001b[0m\u001b[0m\n\u001b[1;32m    177\u001b[0m     \u001b[0mformatted_endtime\u001b[0m \u001b[0;34m=\u001b[0m \u001b[0mdatetime\u001b[0m\u001b[0;34m.\u001b[0m\u001b[0mdatetime\u001b[0m\u001b[0;34m.\u001b[0m\u001b[0mnow\u001b[0m\u001b[0;34m(\u001b[0m\u001b[0;34m)\u001b[0m\u001b[0;34m\u001b[0m\u001b[0;34m\u001b[0m\u001b[0m\n",
      "\u001b[0;32m/usr/local/lib/python3.6/dist-packages/keras/legacy/interfaces.py\u001b[0m in \u001b[0;36mwrapper\u001b[0;34m(*args, **kwargs)\u001b[0m\n\u001b[1;32m     89\u001b[0m                 warnings.warn('Update your `' + object_name + '` call to the ' +\n\u001b[1;32m     90\u001b[0m                               'Keras 2 API: ' + signature, stacklevel=2)\n\u001b[0;32m---> 91\u001b[0;31m             \u001b[0;32mreturn\u001b[0m \u001b[0mfunc\u001b[0m\u001b[0;34m(\u001b[0m\u001b[0;34m*\u001b[0m\u001b[0margs\u001b[0m\u001b[0;34m,\u001b[0m \u001b[0;34m**\u001b[0m\u001b[0mkwargs\u001b[0m\u001b[0;34m)\u001b[0m\u001b[0;34m\u001b[0m\u001b[0;34m\u001b[0m\u001b[0m\n\u001b[0m\u001b[1;32m     92\u001b[0m         \u001b[0mwrapper\u001b[0m\u001b[0;34m.\u001b[0m\u001b[0m_original_function\u001b[0m \u001b[0;34m=\u001b[0m \u001b[0mfunc\u001b[0m\u001b[0;34m\u001b[0m\u001b[0;34m\u001b[0m\u001b[0m\n\u001b[1;32m     93\u001b[0m         \u001b[0;32mreturn\u001b[0m \u001b[0mwrapper\u001b[0m\u001b[0;34m\u001b[0m\u001b[0;34m\u001b[0m\u001b[0m\n",
      "\u001b[0;32m/usr/local/lib/python3.6/dist-packages/keras/engine/training.py\u001b[0m in \u001b[0;36mfit_generator\u001b[0;34m(self, generator, steps_per_epoch, epochs, verbose, callbacks, validation_data, validation_steps, class_weight, max_queue_size, workers, use_multiprocessing, shuffle, initial_epoch)\u001b[0m\n\u001b[1;32m   1416\u001b[0m             \u001b[0muse_multiprocessing\u001b[0m\u001b[0;34m=\u001b[0m\u001b[0muse_multiprocessing\u001b[0m\u001b[0;34m,\u001b[0m\u001b[0;34m\u001b[0m\u001b[0;34m\u001b[0m\u001b[0m\n\u001b[1;32m   1417\u001b[0m             \u001b[0mshuffle\u001b[0m\u001b[0;34m=\u001b[0m\u001b[0mshuffle\u001b[0m\u001b[0;34m,\u001b[0m\u001b[0;34m\u001b[0m\u001b[0;34m\u001b[0m\u001b[0m\n\u001b[0;32m-> 1418\u001b[0;31m             initial_epoch=initial_epoch)\n\u001b[0m\u001b[1;32m   1419\u001b[0m \u001b[0;34m\u001b[0m\u001b[0m\n\u001b[1;32m   1420\u001b[0m     \u001b[0;34m@\u001b[0m\u001b[0minterfaces\u001b[0m\u001b[0;34m.\u001b[0m\u001b[0mlegacy_generator_methods_support\u001b[0m\u001b[0;34m\u001b[0m\u001b[0;34m\u001b[0m\u001b[0m\n",
      "\u001b[0;32m/usr/local/lib/python3.6/dist-packages/keras/engine/training_generator.py\u001b[0m in \u001b[0;36mfit_generator\u001b[0;34m(model, generator, steps_per_epoch, epochs, verbose, callbacks, validation_data, validation_steps, class_weight, max_queue_size, workers, use_multiprocessing, shuffle, initial_epoch)\u001b[0m\n\u001b[1;32m    215\u001b[0m                 outs = model.train_on_batch(x, y,\n\u001b[1;32m    216\u001b[0m                                             \u001b[0msample_weight\u001b[0m\u001b[0;34m=\u001b[0m\u001b[0msample_weight\u001b[0m\u001b[0;34m,\u001b[0m\u001b[0;34m\u001b[0m\u001b[0;34m\u001b[0m\u001b[0m\n\u001b[0;32m--> 217\u001b[0;31m                                             class_weight=class_weight)\n\u001b[0m\u001b[1;32m    218\u001b[0m \u001b[0;34m\u001b[0m\u001b[0m\n\u001b[1;32m    219\u001b[0m                 \u001b[0mouts\u001b[0m \u001b[0;34m=\u001b[0m \u001b[0mto_list\u001b[0m\u001b[0;34m(\u001b[0m\u001b[0mouts\u001b[0m\u001b[0;34m)\u001b[0m\u001b[0;34m\u001b[0m\u001b[0;34m\u001b[0m\u001b[0m\n",
      "\u001b[0;32m/usr/local/lib/python3.6/dist-packages/keras/engine/training.py\u001b[0m in \u001b[0;36mtrain_on_batch\u001b[0;34m(self, x, y, sample_weight, class_weight)\u001b[0m\n\u001b[1;32m   1215\u001b[0m             \u001b[0mins\u001b[0m \u001b[0;34m=\u001b[0m \u001b[0mx\u001b[0m \u001b[0;34m+\u001b[0m \u001b[0my\u001b[0m \u001b[0;34m+\u001b[0m \u001b[0msample_weights\u001b[0m\u001b[0;34m\u001b[0m\u001b[0;34m\u001b[0m\u001b[0m\n\u001b[1;32m   1216\u001b[0m         \u001b[0mself\u001b[0m\u001b[0;34m.\u001b[0m\u001b[0m_make_train_function\u001b[0m\u001b[0;34m(\u001b[0m\u001b[0;34m)\u001b[0m\u001b[0;34m\u001b[0m\u001b[0;34m\u001b[0m\u001b[0m\n\u001b[0;32m-> 1217\u001b[0;31m         \u001b[0moutputs\u001b[0m \u001b[0;34m=\u001b[0m \u001b[0mself\u001b[0m\u001b[0;34m.\u001b[0m\u001b[0mtrain_function\u001b[0m\u001b[0;34m(\u001b[0m\u001b[0mins\u001b[0m\u001b[0;34m)\u001b[0m\u001b[0;34m\u001b[0m\u001b[0;34m\u001b[0m\u001b[0m\n\u001b[0m\u001b[1;32m   1218\u001b[0m         \u001b[0;32mreturn\u001b[0m \u001b[0munpack_singleton\u001b[0m\u001b[0;34m(\u001b[0m\u001b[0moutputs\u001b[0m\u001b[0;34m)\u001b[0m\u001b[0;34m\u001b[0m\u001b[0;34m\u001b[0m\u001b[0m\n\u001b[1;32m   1219\u001b[0m \u001b[0;34m\u001b[0m\u001b[0m\n",
      "\u001b[0;32m/usr/local/lib/python3.6/dist-packages/keras/backend/tensorflow_backend.py\u001b[0m in \u001b[0;36m__call__\u001b[0;34m(self, inputs)\u001b[0m\n\u001b[1;32m   2713\u001b[0m                 \u001b[0;32mreturn\u001b[0m \u001b[0mself\u001b[0m\u001b[0;34m.\u001b[0m\u001b[0m_legacy_call\u001b[0m\u001b[0;34m(\u001b[0m\u001b[0minputs\u001b[0m\u001b[0;34m)\u001b[0m\u001b[0;34m\u001b[0m\u001b[0;34m\u001b[0m\u001b[0m\n\u001b[1;32m   2714\u001b[0m \u001b[0;34m\u001b[0m\u001b[0m\n\u001b[0;32m-> 2715\u001b[0;31m             \u001b[0;32mreturn\u001b[0m \u001b[0mself\u001b[0m\u001b[0;34m.\u001b[0m\u001b[0m_call\u001b[0m\u001b[0;34m(\u001b[0m\u001b[0minputs\u001b[0m\u001b[0;34m)\u001b[0m\u001b[0;34m\u001b[0m\u001b[0;34m\u001b[0m\u001b[0m\n\u001b[0m\u001b[1;32m   2716\u001b[0m         \u001b[0;32melse\u001b[0m\u001b[0;34m:\u001b[0m\u001b[0;34m\u001b[0m\u001b[0;34m\u001b[0m\u001b[0m\n\u001b[1;32m   2717\u001b[0m             \u001b[0;32mif\u001b[0m \u001b[0mpy_any\u001b[0m\u001b[0;34m(\u001b[0m\u001b[0mis_tensor\u001b[0m\u001b[0;34m(\u001b[0m\u001b[0mx\u001b[0m\u001b[0;34m)\u001b[0m \u001b[0;32mfor\u001b[0m \u001b[0mx\u001b[0m \u001b[0;32min\u001b[0m \u001b[0minputs\u001b[0m\u001b[0;34m)\u001b[0m\u001b[0;34m:\u001b[0m\u001b[0;34m\u001b[0m\u001b[0;34m\u001b[0m\u001b[0m\n",
      "\u001b[0;32m/usr/local/lib/python3.6/dist-packages/keras/backend/tensorflow_backend.py\u001b[0m in \u001b[0;36m_call\u001b[0;34m(self, inputs)\u001b[0m\n\u001b[1;32m   2673\u001b[0m             \u001b[0mfetched\u001b[0m \u001b[0;34m=\u001b[0m \u001b[0mself\u001b[0m\u001b[0;34m.\u001b[0m\u001b[0m_callable_fn\u001b[0m\u001b[0;34m(\u001b[0m\u001b[0;34m*\u001b[0m\u001b[0marray_vals\u001b[0m\u001b[0;34m,\u001b[0m \u001b[0mrun_metadata\u001b[0m\u001b[0;34m=\u001b[0m\u001b[0mself\u001b[0m\u001b[0;34m.\u001b[0m\u001b[0mrun_metadata\u001b[0m\u001b[0;34m)\u001b[0m\u001b[0;34m\u001b[0m\u001b[0;34m\u001b[0m\u001b[0m\n\u001b[1;32m   2674\u001b[0m         \u001b[0;32melse\u001b[0m\u001b[0;34m:\u001b[0m\u001b[0;34m\u001b[0m\u001b[0;34m\u001b[0m\u001b[0m\n\u001b[0;32m-> 2675\u001b[0;31m             \u001b[0mfetched\u001b[0m \u001b[0;34m=\u001b[0m \u001b[0mself\u001b[0m\u001b[0;34m.\u001b[0m\u001b[0m_callable_fn\u001b[0m\u001b[0;34m(\u001b[0m\u001b[0;34m*\u001b[0m\u001b[0marray_vals\u001b[0m\u001b[0;34m)\u001b[0m\u001b[0;34m\u001b[0m\u001b[0;34m\u001b[0m\u001b[0m\n\u001b[0m\u001b[1;32m   2676\u001b[0m         \u001b[0;32mreturn\u001b[0m \u001b[0mfetched\u001b[0m\u001b[0;34m[\u001b[0m\u001b[0;34m:\u001b[0m\u001b[0mlen\u001b[0m\u001b[0;34m(\u001b[0m\u001b[0mself\u001b[0m\u001b[0;34m.\u001b[0m\u001b[0moutputs\u001b[0m\u001b[0;34m)\u001b[0m\u001b[0;34m]\u001b[0m\u001b[0;34m\u001b[0m\u001b[0;34m\u001b[0m\u001b[0m\n\u001b[1;32m   2677\u001b[0m \u001b[0;34m\u001b[0m\u001b[0m\n",
      "\u001b[0;32m/usr/local/lib/python3.6/dist-packages/tensorflow/python/client/session.py\u001b[0m in \u001b[0;36m__call__\u001b[0;34m(self, *args)\u001b[0m\n\u001b[1;32m   1449\u001b[0m         \u001b[0;32mif\u001b[0m \u001b[0mself\u001b[0m\u001b[0;34m.\u001b[0m\u001b[0m_session\u001b[0m\u001b[0;34m.\u001b[0m\u001b[0m_created_with_new_api\u001b[0m\u001b[0;34m:\u001b[0m\u001b[0;34m\u001b[0m\u001b[0;34m\u001b[0m\u001b[0m\n\u001b[1;32m   1450\u001b[0m           return tf_session.TF_SessionRunCallable(\n\u001b[0;32m-> 1451\u001b[0;31m               self._session._session, self._handle, args, status, None)\n\u001b[0m\u001b[1;32m   1452\u001b[0m         \u001b[0;32melse\u001b[0m\u001b[0;34m:\u001b[0m\u001b[0;34m\u001b[0m\u001b[0;34m\u001b[0m\u001b[0m\n\u001b[1;32m   1453\u001b[0m           return tf_session.TF_DeprecatedSessionRunCallable(\n",
      "\u001b[0;31mKeyboardInterrupt\u001b[0m: "
     ]
    }
   ],
   "source": [
    "for model_type in list_paddings:\n",
    "    generators = generators_dict[model_type]\n",
    "    for idx,i in enumerate(generators):\n",
    "        if model_type == \"aug_padding\":\n",
    "            i_train, i_val, i_test = k_aug_indices[idx]\n",
    "        else: \n",
    "            i_train, i_val, i_test = splitting_sets[idx]\n",
    "        len_train, len_val, len_test = len(i_train), len(i_val), len(i_test)\n",
    "        train_generator, val_generator = i\n",
    "        model_training(model_type, folder, task, idx, callbacks_list, train_generator, val_generator,\n",
    "                        architecture, max_lenn, dict_size, batch_size,\n",
    "                        n_neur, n_class, drop_per, drop_hid, final_act, epochss, \n",
    "                        len_train, len_val, \n",
    "                        n_filt = n_filt, kernel_size=kernel_size, pool_size=pool_size,\n",
    "                      nhid=n_hid, optimizer=optimizer)"
   ]
  },
  {
   "cell_type": "code",
   "execution_count": null,
   "metadata": {},
   "outputs": [],
   "source": []
  },
  {
   "cell_type": "code",
   "execution_count": null,
   "metadata": {},
   "outputs": [],
   "source": []
  },
  {
   "cell_type": "code",
   "execution_count": null,
   "metadata": {},
   "outputs": [],
   "source": []
  },
  {
   "cell_type": "code",
   "execution_count": null,
   "metadata": {},
   "outputs": [],
   "source": []
  },
  {
   "cell_type": "code",
   "execution_count": null,
   "metadata": {},
   "outputs": [],
   "source": []
  },
  {
   "cell_type": "code",
   "execution_count": null,
   "metadata": {},
   "outputs": [],
   "source": []
  }
 ],
 "metadata": {
  "kernelspec": {
   "display_name": "Python 3",
   "language": "python",
   "name": "python3"
  },
  "language_info": {
   "codemirror_mode": {
    "name": "ipython",
    "version": 3
   },
   "file_extension": ".py",
   "mimetype": "text/x-python",
   "name": "python",
   "nbconvert_exporter": "python",
   "pygments_lexer": "ipython3",
   "version": "3.6.7"
  }
 },
 "nbformat": 4,
 "nbformat_minor": 2
}
