{
 "cells": [
  {
   "cell_type": "code",
   "execution_count": 3,
   "metadata": {},
   "outputs": [],
   "source": [
    "library(\"stargazer\")"
   ]
  },
  {
   "cell_type": "code",
   "execution_count": 4,
   "metadata": {},
   "outputs": [],
   "source": [
    "absPath = '/home/angela/padding_EBI/'"
   ]
  },
  {
   "cell_type": "markdown",
   "metadata": {},
   "source": [
    "## Processing PCAs"
   ]
  },
  {
   "cell_type": "markdown",
   "metadata": {},
   "source": [
    "## Task 1, 1Conv 64 filters size=5"
   ]
  },
  {
   "cell_type": "code",
   "execution_count": 5,
   "metadata": {},
   "outputs": [],
   "source": [
    "task <- \"task1/\"\n",
    "folder = 'EC_number/archaea/1conv/64filts_size5/'\n",
    "filename <- \"pca_results.csv\"\n",
    "file_path <- paste0(absPath, \"data/results/\", folder, task, filename)"
   ]
  },
  {
   "cell_type": "code",
   "execution_count": 6,
   "metadata": {},
   "outputs": [],
   "source": [
    "pc1_task1 <- read.csv(file=file_path, header=TRUE, sep=\",\")"
   ]
  },
  {
   "cell_type": "code",
   "execution_count": 7,
   "metadata": {},
   "outputs": [
    {
     "data": {
      "text/html": [
       "<table>\n",
       "<caption>A data.frame: 5 x 7</caption>\n",
       "<thead>\n",
       "\t<tr><th scope=col>X</th><th scope=col>PC1</th><th scope=col>PC2</th><th scope=col>padding</th><th scope=col>order</th><th scope=col>fold</th><th scope=col>enzyme_type</th></tr>\n",
       "\t<tr><th scope=col>&lt;int&gt;</th><th scope=col>&lt;dbl&gt;</th><th scope=col>&lt;dbl&gt;</th><th scope=col>&lt;fct&gt;</th><th scope=col>&lt;int&gt;</th><th scope=col>&lt;int&gt;</th><th scope=col>&lt;int&gt;</th></tr>\n",
       "</thead>\n",
       "<tbody>\n",
       "\t<tr><td>0</td><td>-12.13514</td><td>-1.9236737</td><td>ext_padding</td><td>0</td><td>0</td><td>1</td></tr>\n",
       "\t<tr><td>1</td><td>-12.17740</td><td>-3.8692107</td><td>ext_padding</td><td>1</td><td>0</td><td>1</td></tr>\n",
       "\t<tr><td>2</td><td>-12.25765</td><td>-0.2300599</td><td>ext_padding</td><td>2</td><td>0</td><td>1</td></tr>\n",
       "\t<tr><td>3</td><td>-12.14779</td><td> 1.8137847</td><td>ext_padding</td><td>3</td><td>0</td><td>1</td></tr>\n",
       "\t<tr><td>4</td><td>-12.35663</td><td> 3.0754972</td><td>ext_padding</td><td>4</td><td>0</td><td>1</td></tr>\n",
       "</tbody>\n",
       "</table>\n"
      ],
      "text/latex": [
       "A data.frame: 5 x 7\n",
       "\\begin{tabular}{r|lllllll}\n",
       " X & PC1 & PC2 & padding & order & fold & enzyme\\_type\\\\\n",
       " <int> & <dbl> & <dbl> & <fct> & <int> & <int> & <int>\\\\\n",
       "\\hline\n",
       "\t 0 & -12.13514 & -1.9236737 & ext\\_padding & 0 & 0 & 1\\\\\n",
       "\t 1 & -12.17740 & -3.8692107 & ext\\_padding & 1 & 0 & 1\\\\\n",
       "\t 2 & -12.25765 & -0.2300599 & ext\\_padding & 2 & 0 & 1\\\\\n",
       "\t 3 & -12.14779 &  1.8137847 & ext\\_padding & 3 & 0 & 1\\\\\n",
       "\t 4 & -12.35663 &  3.0754972 & ext\\_padding & 4 & 0 & 1\\\\\n",
       "\\end{tabular}\n"
      ],
      "text/markdown": [
       "\n",
       "A data.frame: 5 x 7\n",
       "\n",
       "| X &lt;int&gt; | PC1 &lt;dbl&gt; | PC2 &lt;dbl&gt; | padding &lt;fct&gt; | order &lt;int&gt; | fold &lt;int&gt; | enzyme_type &lt;int&gt; |\n",
       "|---|---|---|---|---|---|---|\n",
       "| 0 | -12.13514 | -1.9236737 | ext_padding | 0 | 0 | 1 |\n",
       "| 1 | -12.17740 | -3.8692107 | ext_padding | 1 | 0 | 1 |\n",
       "| 2 | -12.25765 | -0.2300599 | ext_padding | 2 | 0 | 1 |\n",
       "| 3 | -12.14779 |  1.8137847 | ext_padding | 3 | 0 | 1 |\n",
       "| 4 | -12.35663 |  3.0754972 | ext_padding | 4 | 0 | 1 |\n",
       "\n"
      ],
      "text/plain": [
       "  X PC1       PC2        padding     order fold enzyme_type\n",
       "1 0 -12.13514 -1.9236737 ext_padding 0     0    1          \n",
       "2 1 -12.17740 -3.8692107 ext_padding 1     0    1          \n",
       "3 2 -12.25765 -0.2300599 ext_padding 2     0    1          \n",
       "4 3 -12.14779  1.8137847 ext_padding 3     0    1          \n",
       "5 4 -12.35663  3.0754972 ext_padding 4     0    1          "
      ]
     },
     "metadata": {},
     "output_type": "display_data"
    }
   ],
   "source": [
    "pc1_task1[0:5,]"
   ]
  },
  {
   "cell_type": "code",
   "execution_count": 8,
   "metadata": {},
   "outputs": [],
   "source": [
    "pc1_task1$task <- \"task1\""
   ]
  },
  {
   "cell_type": "code",
   "execution_count": 9,
   "metadata": {},
   "outputs": [],
   "source": [
    "pc1_task1$X <- NULL"
   ]
  },
  {
   "cell_type": "code",
   "execution_count": 11,
   "metadata": {},
   "outputs": [
    {
     "data": {
      "text/html": [
       "<ol class=list-inline>\n",
       "\t<li>'PC1'</li>\n",
       "\t<li>'PC2'</li>\n",
       "\t<li>'padding'</li>\n",
       "\t<li>'order'</li>\n",
       "\t<li>'fold'</li>\n",
       "\t<li>'enzyme_type'</li>\n",
       "\t<li>'task'</li>\n",
       "</ol>\n"
      ],
      "text/latex": [
       "\\begin{enumerate*}\n",
       "\\item 'PC1'\n",
       "\\item 'PC2'\n",
       "\\item 'padding'\n",
       "\\item 'order'\n",
       "\\item 'fold'\n",
       "\\item 'enzyme\\_type'\n",
       "\\item 'task'\n",
       "\\end{enumerate*}\n"
      ],
      "text/markdown": [
       "1. 'PC1'\n",
       "2. 'PC2'\n",
       "3. 'padding'\n",
       "4. 'order'\n",
       "5. 'fold'\n",
       "6. 'enzyme_type'\n",
       "7. 'task'\n",
       "\n",
       "\n"
      ],
      "text/plain": [
       "[1] \"PC1\"         \"PC2\"         \"padding\"     \"order\"       \"fold\"       \n",
       "[6] \"enzyme_type\" \"task\"       "
      ]
     },
     "metadata": {},
     "output_type": "display_data"
    }
   ],
   "source": [
    "colnames(pc1_task1)"
   ]
  },
  {
   "cell_type": "code",
   "execution_count": 13,
   "metadata": {},
   "outputs": [
    {
     "data": {
      "text/html": [
       "<dl class=dl-horizontal>\n",
       "\t<dt>PC1</dt>\n",
       "\t\t<dd>'numeric'</dd>\n",
       "\t<dt>PC2</dt>\n",
       "\t\t<dd>'numeric'</dd>\n",
       "\t<dt>padding</dt>\n",
       "\t\t<dd>'factor'</dd>\n",
       "\t<dt>order</dt>\n",
       "\t\t<dd>'integer'</dd>\n",
       "\t<dt>fold</dt>\n",
       "\t\t<dd>'integer'</dd>\n",
       "\t<dt>enzyme_type</dt>\n",
       "\t\t<dd>'integer'</dd>\n",
       "\t<dt>task</dt>\n",
       "\t\t<dd>'character'</dd>\n",
       "</dl>\n"
      ],
      "text/latex": [
       "\\begin{description*}\n",
       "\\item[PC1] 'numeric'\n",
       "\\item[PC2] 'numeric'\n",
       "\\item[padding] 'factor'\n",
       "\\item[order] 'integer'\n",
       "\\item[fold] 'integer'\n",
       "\\item[enzyme\\textbackslash{}\\_type] 'integer'\n",
       "\\item[task] 'character'\n",
       "\\end{description*}\n"
      ],
      "text/markdown": [
       "PC1\n",
       ":   'numeric'PC2\n",
       ":   'numeric'padding\n",
       ":   'factor'order\n",
       ":   'integer'fold\n",
       ":   'integer'enzyme_type\n",
       ":   'integer'task\n",
       ":   'character'\n",
       "\n"
      ],
      "text/plain": [
       "        PC1         PC2     padding       order        fold enzyme_type \n",
       "  \"numeric\"   \"numeric\"    \"factor\"   \"integer\"   \"integer\"   \"integer\" \n",
       "       task \n",
       "\"character\" "
      ]
     },
     "metadata": {},
     "output_type": "display_data"
    }
   ],
   "source": [
    "sapply(pc1_task1, class)"
   ]
  },
  {
   "cell_type": "code",
   "execution_count": 14,
   "metadata": {},
   "outputs": [],
   "source": [
    "# converting each column to the corresponding type\n",
    "cols <- c( \"order\", \"fold\", \"enzyme_type\", \"task\")"
   ]
  },
  {
   "cell_type": "code",
   "execution_count": 15,
   "metadata": {},
   "outputs": [],
   "source": [
    "pc1_task1[cols] <- lapply(pc1_task1[cols], factor)"
   ]
  },
  {
   "cell_type": "markdown",
   "metadata": {},
   "source": [
    "## Task 2"
   ]
  },
  {
   "cell_type": "code",
   "execution_count": 16,
   "metadata": {},
   "outputs": [],
   "source": [
    "task <- \"task2/\"\n",
    "file_path <- paste0(absPath, \"data/results/\", folder, task, filename)"
   ]
  },
  {
   "cell_type": "code",
   "execution_count": 17,
   "metadata": {},
   "outputs": [
    {
     "data": {
      "text/html": [
       "<table>\n",
       "<caption>A data.frame: 5 x 7</caption>\n",
       "<thead>\n",
       "\t<tr><th scope=col>X</th><th scope=col>PC1</th><th scope=col>PC2</th><th scope=col>padding</th><th scope=col>order</th><th scope=col>fold</th><th scope=col>enzyme_type</th></tr>\n",
       "\t<tr><th scope=col>&lt;int&gt;</th><th scope=col>&lt;dbl&gt;</th><th scope=col>&lt;dbl&gt;</th><th scope=col>&lt;fct&gt;</th><th scope=col>&lt;int&gt;</th><th scope=col>&lt;int&gt;</th><th scope=col>&lt;int&gt;</th></tr>\n",
       "</thead>\n",
       "<tbody>\n",
       "\t<tr><td>0</td><td>-12.13515</td><td> 2.130209</td><td>ext_padding</td><td>0</td><td>0</td><td>1</td></tr>\n",
       "\t<tr><td>1</td><td>-12.17741</td><td> 1.375574</td><td>ext_padding</td><td>1</td><td>0</td><td>1</td></tr>\n",
       "\t<tr><td>2</td><td>-12.25764</td><td>-1.394552</td><td>ext_padding</td><td>2</td><td>0</td><td>1</td></tr>\n",
       "\t<tr><td>3</td><td>-12.14780</td><td>-2.361478</td><td>ext_padding</td><td>3</td><td>0</td><td>1</td></tr>\n",
       "\t<tr><td>4</td><td>-12.35664</td><td>-2.832066</td><td>ext_padding</td><td>4</td><td>0</td><td>1</td></tr>\n",
       "</tbody>\n",
       "</table>\n"
      ],
      "text/latex": [
       "A data.frame: 5 x 7\n",
       "\\begin{tabular}{r|lllllll}\n",
       " X & PC1 & PC2 & padding & order & fold & enzyme\\_type\\\\\n",
       " <int> & <dbl> & <dbl> & <fct> & <int> & <int> & <int>\\\\\n",
       "\\hline\n",
       "\t 0 & -12.13515 &  2.130209 & ext\\_padding & 0 & 0 & 1\\\\\n",
       "\t 1 & -12.17741 &  1.375574 & ext\\_padding & 1 & 0 & 1\\\\\n",
       "\t 2 & -12.25764 & -1.394552 & ext\\_padding & 2 & 0 & 1\\\\\n",
       "\t 3 & -12.14780 & -2.361478 & ext\\_padding & 3 & 0 & 1\\\\\n",
       "\t 4 & -12.35664 & -2.832066 & ext\\_padding & 4 & 0 & 1\\\\\n",
       "\\end{tabular}\n"
      ],
      "text/markdown": [
       "\n",
       "A data.frame: 5 x 7\n",
       "\n",
       "| X &lt;int&gt; | PC1 &lt;dbl&gt; | PC2 &lt;dbl&gt; | padding &lt;fct&gt; | order &lt;int&gt; | fold &lt;int&gt; | enzyme_type &lt;int&gt; |\n",
       "|---|---|---|---|---|---|---|\n",
       "| 0 | -12.13515 |  2.130209 | ext_padding | 0 | 0 | 1 |\n",
       "| 1 | -12.17741 |  1.375574 | ext_padding | 1 | 0 | 1 |\n",
       "| 2 | -12.25764 | -1.394552 | ext_padding | 2 | 0 | 1 |\n",
       "| 3 | -12.14780 | -2.361478 | ext_padding | 3 | 0 | 1 |\n",
       "| 4 | -12.35664 | -2.832066 | ext_padding | 4 | 0 | 1 |\n",
       "\n"
      ],
      "text/plain": [
       "  X PC1       PC2       padding     order fold enzyme_type\n",
       "1 0 -12.13515  2.130209 ext_padding 0     0    1          \n",
       "2 1 -12.17741  1.375574 ext_padding 1     0    1          \n",
       "3 2 -12.25764 -1.394552 ext_padding 2     0    1          \n",
       "4 3 -12.14780 -2.361478 ext_padding 3     0    1          \n",
       "5 4 -12.35664 -2.832066 ext_padding 4     0    1          "
      ]
     },
     "metadata": {},
     "output_type": "display_data"
    }
   ],
   "source": [
    "pc1_task2 <- read.csv(file=file_path, header=TRUE, sep=\",\")\n",
    "pc1_task2[0:5,]"
   ]
  },
  {
   "cell_type": "code",
   "execution_count": 18,
   "metadata": {},
   "outputs": [],
   "source": [
    "pc1_task2$task <- \"task2\"\n",
    "pc1_task2$X <- NULL"
   ]
  },
  {
   "cell_type": "code",
   "execution_count": 19,
   "metadata": {},
   "outputs": [
    {
     "data": {
      "text/html": [
       "<dl class=dl-horizontal>\n",
       "\t<dt>PC1</dt>\n",
       "\t\t<dd>'numeric'</dd>\n",
       "\t<dt>PC2</dt>\n",
       "\t\t<dd>'numeric'</dd>\n",
       "\t<dt>padding</dt>\n",
       "\t\t<dd>'factor'</dd>\n",
       "\t<dt>order</dt>\n",
       "\t\t<dd>'integer'</dd>\n",
       "\t<dt>fold</dt>\n",
       "\t\t<dd>'integer'</dd>\n",
       "\t<dt>enzyme_type</dt>\n",
       "\t\t<dd>'integer'</dd>\n",
       "\t<dt>task</dt>\n",
       "\t\t<dd>'character'</dd>\n",
       "</dl>\n"
      ],
      "text/latex": [
       "\\begin{description*}\n",
       "\\item[PC1] 'numeric'\n",
       "\\item[PC2] 'numeric'\n",
       "\\item[padding] 'factor'\n",
       "\\item[order] 'integer'\n",
       "\\item[fold] 'integer'\n",
       "\\item[enzyme\\textbackslash{}\\_type] 'integer'\n",
       "\\item[task] 'character'\n",
       "\\end{description*}\n"
      ],
      "text/markdown": [
       "PC1\n",
       ":   'numeric'PC2\n",
       ":   'numeric'padding\n",
       ":   'factor'order\n",
       ":   'integer'fold\n",
       ":   'integer'enzyme_type\n",
       ":   'integer'task\n",
       ":   'character'\n",
       "\n"
      ],
      "text/plain": [
       "        PC1         PC2     padding       order        fold enzyme_type \n",
       "  \"numeric\"   \"numeric\"    \"factor\"   \"integer\"   \"integer\"   \"integer\" \n",
       "       task \n",
       "\"character\" "
      ]
     },
     "metadata": {},
     "output_type": "display_data"
    }
   ],
   "source": [
    "sapply(pc1_task2, class)"
   ]
  },
  {
   "cell_type": "code",
   "execution_count": 20,
   "metadata": {},
   "outputs": [],
   "source": [
    "pc1_task2[cols] <- lapply(pc1_task2[cols], factor)"
   ]
  },
  {
   "cell_type": "markdown",
   "metadata": {},
   "source": [
    "### Joining data frames"
   ]
  },
  {
   "cell_type": "code",
   "execution_count": 21,
   "metadata": {},
   "outputs": [],
   "source": [
    "#total <- rbind(pc1_task1, pc1_task2)\n",
    "#actually I only need task 2 'cause it's where enzyme types are"
   ]
  },
  {
   "cell_type": "code",
   "execution_count": 28,
   "metadata": {},
   "outputs": [],
   "source": [
    "pc1_task2$padding <- relevel(pc1_task2$padding, \"post_padding\")"
   ]
  },
  {
   "cell_type": "markdown",
   "metadata": {},
   "source": [
    "### LM"
   ]
  },
  {
   "cell_type": "code",
   "execution_count": 31,
   "metadata": {},
   "outputs": [],
   "source": [
    "lm.fit <- lm(PC1 ~ padding + enzyme_type, data=pc1_task2)"
   ]
  },
  {
   "cell_type": "code",
   "execution_count": 32,
   "metadata": {},
   "outputs": [
    {
     "data": {
      "text/plain": [
       "\n",
       "Call:\n",
       "lm(formula = PC1 ~ padding + enzyme_type, data = pc1_task2)\n",
       "\n",
       "Residuals:\n",
       "    Min      1Q  Median      3Q     Max \n",
       "-16.656  -7.022  -2.277   4.904  29.448 \n",
       "\n",
       "Coefficients:\n",
       "                     Estimate Std. Error t value Pr(>|t|)    \n",
       "(Intercept)         -2.730835   0.130164 -20.980  < 2e-16 ***\n",
       "paddingext_padding  -0.006532   0.135078  -0.048 0.961434    \n",
       "paddingmid_padding  -0.523882   0.135078  -3.878 0.000105 ***\n",
       "paddingpre_padding  -1.180540   0.135078  -8.740  < 2e-16 ***\n",
       "paddingrnd_padding   6.355472   0.135078  47.051  < 2e-16 ***\n",
       "paddingstrf_padding  7.892995   0.135078  58.433  < 2e-16 ***\n",
       "paddingzoom_padding  6.473341   0.135078  47.923  < 2e-16 ***\n",
       "enzyme_type2        -2.425356   0.135078 -17.955  < 2e-16 ***\n",
       "enzyme_type3        -1.305381   0.135078  -9.664  < 2e-16 ***\n",
       "enzyme_type4        -1.834761   0.135078 -13.583  < 2e-16 ***\n",
       "enzyme_type5         0.959668   0.135078   7.105 1.22e-12 ***\n",
       "enzyme_type6         3.128340   0.135078  23.160  < 2e-16 ***\n",
       "enzyme_type7         1.582468   0.135078  11.715  < 2e-16 ***\n",
       "---\n",
       "Signif. codes:  0 ‘***’ 0.001 ‘**’ 0.01 ‘*’ 0.05 ‘.’ 0.1 ‘ ’ 1\n",
       "\n",
       "Residual standard error: 9.041 on 62707 degrees of freedom\n",
       "Multiple R-squared:  0.172,\tAdjusted R-squared:  0.1718 \n",
       "F-statistic:  1085 on 12 and 62707 DF,  p-value: < 2.2e-16\n"
      ]
     },
     "metadata": {},
     "output_type": "display_data"
    }
   ],
   "source": [
    "summary(lm.fit)"
   ]
  },
  {
   "cell_type": "markdown",
   "metadata": {},
   "source": [
    "## Building tables"
   ]
  },
  {
   "cell_type": "code",
   "execution_count": 33,
   "metadata": {},
   "outputs": [
    {
     "name": "stdout",
     "output_type": "stream",
     "text": [
      "\n",
      "% Table created by stargazer v.5.2.2 by Marek Hlavac, Harvard University. E-mail: hlavac at fas.harvard.edu\n",
      "% Date and time: Sun, Jan 05, 2020 - 04:28:49 PM\n",
      "\\begin{table}[!htbp] \\centering \n",
      "  \\caption{Linear model on PC1 of the activations. The reference levels were omitted.} \n",
      "  \\label{tab:lm_pc1} \n",
      "\\begin{tabular}{@{\\extracolsep{5pt}}lc} \n",
      "\\\\[-1.8ex]\\hline \n",
      "\\hline \\\\[-1.8ex] \n",
      " paddingext\\_padding & $-$0.007 ($-$0.271, 0.258) \\\\ \n",
      "  paddingmid\\_padding & $-$0.524$^{***}$ ($-$0.789, $-$0.259) \\\\ \n",
      "  paddingpre\\_padding & $-$1.181$^{***}$ ($-$1.445, $-$0.916) \\\\ \n",
      "  paddingrnd\\_padding & 6.355$^{***}$ (6.091, 6.620) \\\\ \n",
      "  paddingstrf\\_padding & 7.893$^{***}$ (7.628, 8.158) \\\\ \n",
      "  paddingzoom\\_padding & 6.473$^{***}$ (6.209, 6.738) \\\\ \n",
      "  enzyme\\_type2 & $-$2.425$^{***}$ ($-$2.690, $-$2.161) \\\\ \n",
      "  enzyme\\_type3 & $-$1.305$^{***}$ ($-$1.570, $-$1.041) \\\\ \n",
      "  enzyme\\_type4 & $-$1.835$^{***}$ ($-$2.100, $-$1.570) \\\\ \n",
      "  enzyme\\_type5 & 0.960$^{***}$ (0.695, 1.224) \\\\ \n",
      "  enzyme\\_type6 & 3.128$^{***}$ (2.864, 3.393) \\\\ \n",
      "  enzyme\\_type7 & 1.582$^{***}$ (1.318, 1.847) \\\\ \n",
      "  Constant & $-$2.731$^{***}$ ($-$2.986, $-$2.476) \\\\ \n",
      " \\hline \\\\[-1.8ex] \n",
      "Observations & 62,720 \\\\ \n",
      "R$^{2}$ & 0.172 \\\\ \n",
      "Adjusted R$^{2}$ & 0.172 \\\\ \n",
      "Residual Std. Error & 9.041 (df = 62707) \\\\ \n",
      "F Statistic & 1,085.138$^{***}$ (df = 12; 62707) \\\\ \n",
      "\\hline \n",
      "\\hline \\\\[-1.8ex] \n",
      "\\textit{Note:}  & \\multicolumn{1}{r}{$^{*}$p$<$0.1; $^{**}$p$<$0.05; $^{***}$p$<$0.01} \\\\ \n",
      "\\end{tabular} \n",
      "\\end{table} \n"
     ]
    }
   ],
   "source": [
    "stargazer::stargazer(lm.fit,   \n",
    "          #column.labels = c(\"Task 1\", \"Task 2\"), \n",
    "  model.numbers = FALSE,\n",
    "  ci = TRUE, ci.level = 0.95, \n",
    "  single.row = TRUE, omit.table.layout = \"mdl\", \n",
    "  label = \"tab:lm_pc1\",\n",
    "  title = \"Linear model on PC1 of the activations. The reference levels were omitted.\", \n",
    "  type = 'latex'\n",
    "          #,out = paste0(dir_out, \"/1_cv_models.tex\"\n",
    "         )"
   ]
  }
 ],
 "metadata": {
  "kernelspec": {
   "display_name": "R",
   "language": "R",
   "name": "ir"
  },
  "language_info": {
   "codemirror_mode": "r",
   "file_extension": ".r",
   "mimetype": "text/x-r-source",
   "name": "R",
   "pygments_lexer": "r",
   "version": "3.4.4"
  }
 },
 "nbformat": 4,
 "nbformat_minor": 2
}
