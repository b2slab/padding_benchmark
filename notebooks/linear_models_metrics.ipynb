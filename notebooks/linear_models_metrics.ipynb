{
 "cells": [
  {
   "cell_type": "code",
   "execution_count": 101,
   "metadata": {},
   "outputs": [
    {
     "name": "stderr",
     "output_type": "stream",
     "text": [
      "Installing package into ‘/home/angela/R/x86_64-pc-linux-gnu-library/3.4’\n",
      "(as ‘lib’ is unspecified)\n"
     ]
    }
   ],
   "source": [
    "# install.packages(\"stargazer\")"
   ]
  },
  {
   "cell_type": "code",
   "execution_count": 102,
   "metadata": {},
   "outputs": [
    {
     "name": "stderr",
     "output_type": "stream",
     "text": [
      "\n",
      "Please cite as: \n",
      "\n",
      " Hlavac, Marek (2018). stargazer: Well-Formatted Regression and Summary Statistics Tables.\n",
      " R package version 5.2.2. https://CRAN.R-project.org/package=stargazer \n",
      "\n"
     ]
    }
   ],
   "source": [
    "library(\"reshape2\")\n",
    "library(\"stargazer\")"
   ]
  },
  {
   "cell_type": "code",
   "execution_count": 2,
   "metadata": {},
   "outputs": [],
   "source": [
    "absPath = '/home/angela/padding_EBI/'"
   ]
  },
  {
   "cell_type": "code",
   "execution_count": null,
   "metadata": {},
   "outputs": [],
   "source": [
    "file_scores <- \"scores_final.csv\"\n",
    "file_accuracy <- \"accu_final.csv\""
   ]
  },
  {
   "cell_type": "markdown",
   "metadata": {},
   "source": [
    "# Task 1"
   ]
  },
  {
   "cell_type": "code",
   "execution_count": 6,
   "metadata": {},
   "outputs": [],
   "source": [
    "task <- \"task1/\"\n",
    "\n",
    "path_scores_task1 <- paste0(absPath, \"data/results/\", task, file_scores)\n",
    "path_accu_task1 <- paste0(absPath, \"data/results/\", task, file_accuracy)\n",
    "\n",
    "scores_task1 <- read.csv(file=path_scores_task1, header=TRUE, sep=\",\")\n",
    "accu_task1 <- read.csv(file=path_accu_task1, header=TRUE, sep=\",\")"
   ]
  },
  {
   "cell_type": "markdown",
   "metadata": {},
   "source": [
    "## Scores"
   ]
  },
  {
   "cell_type": "code",
   "execution_count": 13,
   "metadata": {},
   "outputs": [
    {
     "data": {
      "text/html": [
       "<table>\n",
       "<caption>A data.frame: 5 x 7</caption>\n",
       "<thead>\n",
       "\t<tr><th scope=col>X</th><th scope=col>enz_type</th><th scope=col>index</th><th scope=col>type_padding</th><th scope=col>architecture</th><th scope=col>variable</th><th scope=col>value</th></tr>\n",
       "\t<tr><th scope=col>&lt;int&gt;</th><th scope=col>&lt;fct&gt;</th><th scope=col>&lt;int&gt;</th><th scope=col>&lt;fct&gt;</th><th scope=col>&lt;fct&gt;</th><th scope=col>&lt;fct&gt;</th><th scope=col>&lt;dbl&gt;</th></tr>\n",
       "</thead>\n",
       "<tbody>\n",
       "\t<tr><td>0</td><td>0           </td><td>0</td><td>post_padding</td><td>1_conv</td><td>f1-score</td><td>0.8548043</td></tr>\n",
       "\t<tr><td>1</td><td>1           </td><td>0</td><td>post_padding</td><td>1_conv</td><td>f1-score</td><td>0.8642715</td></tr>\n",
       "\t<tr><td>2</td><td>micro avg   </td><td>0</td><td>post_padding</td><td>1_conv</td><td>f1-score</td><td>0.8596974</td></tr>\n",
       "\t<tr><td>3</td><td>macro avg   </td><td>0</td><td>post_padding</td><td>1_conv</td><td>f1-score</td><td>0.8595379</td></tr>\n",
       "\t<tr><td>4</td><td>weighted avg</td><td>0</td><td>post_padding</td><td>1_conv</td><td>f1-score</td><td>0.8600099</td></tr>\n",
       "</tbody>\n",
       "</table>\n"
      ],
      "text/latex": [
       "A data.frame: 5 x 7\n",
       "\\begin{tabular}{r|lllllll}\n",
       " X & enz\\_type & index & type\\_padding & architecture & variable & value\\\\\n",
       " <int> & <fct> & <int> & <fct> & <fct> & <fct> & <dbl>\\\\\n",
       "\\hline\n",
       "\t 0 & 0            & 0 & post\\_padding & 1\\_conv & f1-score & 0.8548043\\\\\n",
       "\t 1 & 1            & 0 & post\\_padding & 1\\_conv & f1-score & 0.8642715\\\\\n",
       "\t 2 & micro avg    & 0 & post\\_padding & 1\\_conv & f1-score & 0.8596974\\\\\n",
       "\t 3 & macro avg    & 0 & post\\_padding & 1\\_conv & f1-score & 0.8595379\\\\\n",
       "\t 4 & weighted avg & 0 & post\\_padding & 1\\_conv & f1-score & 0.8600099\\\\\n",
       "\\end{tabular}\n"
      ],
      "text/markdown": [
       "\n",
       "A data.frame: 5 x 7\n",
       "\n",
       "| X &lt;int&gt; | enz_type &lt;fct&gt; | index &lt;int&gt; | type_padding &lt;fct&gt; | architecture &lt;fct&gt; | variable &lt;fct&gt; | value &lt;dbl&gt; |\n",
       "|---|---|---|---|---|---|---|\n",
       "| 0 | 0            | 0 | post_padding | 1_conv | f1-score | 0.8548043 |\n",
       "| 1 | 1            | 0 | post_padding | 1_conv | f1-score | 0.8642715 |\n",
       "| 2 | micro avg    | 0 | post_padding | 1_conv | f1-score | 0.8596974 |\n",
       "| 3 | macro avg    | 0 | post_padding | 1_conv | f1-score | 0.8595379 |\n",
       "| 4 | weighted avg | 0 | post_padding | 1_conv | f1-score | 0.8600099 |\n",
       "\n"
      ],
      "text/plain": [
       "  X enz_type     index type_padding architecture variable value    \n",
       "1 0 0            0     post_padding 1_conv       f1-score 0.8548043\n",
       "2 1 1            0     post_padding 1_conv       f1-score 0.8642715\n",
       "3 2 micro avg    0     post_padding 1_conv       f1-score 0.8596974\n",
       "4 3 macro avg    0     post_padding 1_conv       f1-score 0.8595379\n",
       "5 4 weighted avg 0     post_padding 1_conv       f1-score 0.8600099"
      ]
     },
     "metadata": {},
     "output_type": "display_data"
    }
   ],
   "source": [
    "scores_task1[0:5,]\n",
    "scores_task1$X <- NULL"
   ]
  },
  {
   "cell_type": "code",
   "execution_count": 16,
   "metadata": {},
   "outputs": [
    {
     "data": {
      "text/html": [
       "<dl class=dl-horizontal>\n",
       "\t<dt>enz_type</dt>\n",
       "\t\t<dd>'factor'</dd>\n",
       "\t<dt>index</dt>\n",
       "\t\t<dd>'integer'</dd>\n",
       "\t<dt>type_padding</dt>\n",
       "\t\t<dd>'factor'</dd>\n",
       "\t<dt>architecture</dt>\n",
       "\t\t<dd>'factor'</dd>\n",
       "\t<dt>variable</dt>\n",
       "\t\t<dd>'factor'</dd>\n",
       "\t<dt>value</dt>\n",
       "\t\t<dd>'numeric'</dd>\n",
       "</dl>\n"
      ],
      "text/latex": [
       "\\begin{description*}\n",
       "\\item[enz\\textbackslash{}\\_type] 'factor'\n",
       "\\item[index] 'integer'\n",
       "\\item[type\\textbackslash{}\\_padding] 'factor'\n",
       "\\item[architecture] 'factor'\n",
       "\\item[variable] 'factor'\n",
       "\\item[value] 'numeric'\n",
       "\\end{description*}\n"
      ],
      "text/markdown": [
       "enz_type\n",
       ":   'factor'index\n",
       ":   'integer'type_padding\n",
       ":   'factor'architecture\n",
       ":   'factor'variable\n",
       ":   'factor'value\n",
       ":   'numeric'\n",
       "\n"
      ],
      "text/plain": [
       "    enz_type        index type_padding architecture     variable        value \n",
       "    \"factor\"    \"integer\"     \"factor\"     \"factor\"     \"factor\"    \"numeric\" "
      ]
     },
     "metadata": {},
     "output_type": "display_data"
    }
   ],
   "source": [
    "#filtering \n",
    "scores_task1 <- scores_task1[scores_task1$enz_type %in% c(0,1),]\n",
    "\n",
    "sapply(scores_task1, class)"
   ]
  },
  {
   "cell_type": "code",
   "execution_count": 62,
   "metadata": {},
   "outputs": [
    {
     "data": {
      "text/html": [
       "<dl class=dl-horizontal>\n",
       "\t<dt>0</dt>\n",
       "\t\t<dd>960</dd>\n",
       "\t<dt>1</dt>\n",
       "\t\t<dd>960</dd>\n",
       "\t<dt>macro avg</dt>\n",
       "\t\t<dd>0</dd>\n",
       "\t<dt>micro avg</dt>\n",
       "\t\t<dd>0</dd>\n",
       "\t<dt>weighted avg</dt>\n",
       "\t\t<dd>0</dd>\n",
       "</dl>\n"
      ],
      "text/latex": [
       "\\begin{description*}\n",
       "\\item[0] 960\n",
       "\\item[1] 960\n",
       "\\item[macro avg] 0\n",
       "\\item[micro avg] 0\n",
       "\\item[weighted avg] 0\n",
       "\\end{description*}\n"
      ],
      "text/markdown": [
       "0\n",
       ":   9601\n",
       ":   960macro avg\n",
       ":   0micro avg\n",
       ":   0weighted avg\n",
       ":   0\n",
       "\n"
      ],
      "text/plain": [
       "           0            1    macro avg    micro avg weighted avg \n",
       "         960          960            0            0            0 "
      ]
     },
     "metadata": {},
     "output_type": "display_data"
    }
   ],
   "source": [
    "summary(scores_task1$enz_type)"
   ]
  },
  {
   "cell_type": "code",
   "execution_count": 31,
   "metadata": {},
   "outputs": [],
   "source": [
    "# habria que hacer un unmelt de variable-value\n",
    "scores_task1_dcasted <- dcast(data = scores_task1,formula = enz_type+index+type_padding+architecture~variable,\n",
    "                              fun.aggregate = sum,value.var = \"value\")"
   ]
  },
  {
   "cell_type": "code",
   "execution_count": 33,
   "metadata": {},
   "outputs": [
    {
     "data": {
      "text/html": [
       "<table>\n",
       "<caption>A data.frame: 5 x 7</caption>\n",
       "<thead>\n",
       "\t<tr><th scope=col>enz_type</th><th scope=col>index</th><th scope=col>type_padding</th><th scope=col>architecture</th><th scope=col>f1_score</th><th scope=col>precision</th><th scope=col>recall</th></tr>\n",
       "\t<tr><th scope=col>&lt;fct&gt;</th><th scope=col>&lt;int&gt;</th><th scope=col>&lt;fct&gt;</th><th scope=col>&lt;fct&gt;</th><th scope=col>&lt;dbl&gt;</th><th scope=col>&lt;dbl&gt;</th><th scope=col>&lt;dbl&gt;</th></tr>\n",
       "</thead>\n",
       "<tbody>\n",
       "\t<tr><td>0</td><td>0</td><td>aug_padding</td><td>1_conv     </td><td>0.7512593</td><td>0.6471795</td><td>0.8952308</td></tr>\n",
       "\t<tr><td>0</td><td>0</td><td>aug_padding</td><td>bi_lstm    </td><td>0.7167895</td><td>0.5736383</td><td>0.9551457</td></tr>\n",
       "\t<tr><td>0</td><td>0</td><td>aug_padding</td><td>only_denses</td><td>0.8760426</td><td>0.8434343</td><td>0.9112736</td></tr>\n",
       "\t<tr><td>0</td><td>0</td><td>aug_padding</td><td>stack_conv </td><td>0.7811460</td><td>0.6844007</td><td>0.9097457</td></tr>\n",
       "\t<tr><td>0</td><td>0</td><td>ext_padding</td><td>1_conv     </td><td>0.8403179</td><td>0.7971213</td><td>0.8884645</td></tr>\n",
       "</tbody>\n",
       "</table>\n"
      ],
      "text/latex": [
       "A data.frame: 5 x 7\n",
       "\\begin{tabular}{r|lllllll}\n",
       " enz\\_type & index & type\\_padding & architecture & f1\\_score & precision & recall\\\\\n",
       " <fct> & <int> & <fct> & <fct> & <dbl> & <dbl> & <dbl>\\\\\n",
       "\\hline\n",
       "\t 0 & 0 & aug\\_padding & 1\\_conv      & 0.7512593 & 0.6471795 & 0.8952308\\\\\n",
       "\t 0 & 0 & aug\\_padding & bi\\_lstm     & 0.7167895 & 0.5736383 & 0.9551457\\\\\n",
       "\t 0 & 0 & aug\\_padding & only\\_denses & 0.8760426 & 0.8434343 & 0.9112736\\\\\n",
       "\t 0 & 0 & aug\\_padding & stack\\_conv  & 0.7811460 & 0.6844007 & 0.9097457\\\\\n",
       "\t 0 & 0 & ext\\_padding & 1\\_conv      & 0.8403179 & 0.7971213 & 0.8884645\\\\\n",
       "\\end{tabular}\n"
      ],
      "text/markdown": [
       "\n",
       "A data.frame: 5 x 7\n",
       "\n",
       "| enz_type &lt;fct&gt; | index &lt;int&gt; | type_padding &lt;fct&gt; | architecture &lt;fct&gt; | f1_score &lt;dbl&gt; | precision &lt;dbl&gt; | recall &lt;dbl&gt; |\n",
       "|---|---|---|---|---|---|---|\n",
       "| 0 | 0 | aug_padding | 1_conv      | 0.7512593 | 0.6471795 | 0.8952308 |\n",
       "| 0 | 0 | aug_padding | bi_lstm     | 0.7167895 | 0.5736383 | 0.9551457 |\n",
       "| 0 | 0 | aug_padding | only_denses | 0.8760426 | 0.8434343 | 0.9112736 |\n",
       "| 0 | 0 | aug_padding | stack_conv  | 0.7811460 | 0.6844007 | 0.9097457 |\n",
       "| 0 | 0 | ext_padding | 1_conv      | 0.8403179 | 0.7971213 | 0.8884645 |\n",
       "\n"
      ],
      "text/plain": [
       "  enz_type index type_padding architecture f1_score  precision recall   \n",
       "1 0        0     aug_padding  1_conv       0.7512593 0.6471795 0.8952308\n",
       "2 0        0     aug_padding  bi_lstm      0.7167895 0.5736383 0.9551457\n",
       "3 0        0     aug_padding  only_denses  0.8760426 0.8434343 0.9112736\n",
       "4 0        0     aug_padding  stack_conv   0.7811460 0.6844007 0.9097457\n",
       "5 0        0     ext_padding  1_conv       0.8403179 0.7971213 0.8884645"
      ]
     },
     "metadata": {},
     "output_type": "display_data"
    }
   ],
   "source": [
    "#tengo que cambiar el nombre de f1-score\n",
    "colnames(scores_task1_dcasted) <- c(\"enz_type\", \"index\", \"type_padding\", \"architecture\", \"f1_score\",\n",
    "                                    \"precision\", \"recall\")\n",
    "scores_task1_dcasted[0:5,]"
   ]
  },
  {
   "cell_type": "code",
   "execution_count": 89,
   "metadata": {},
   "outputs": [],
   "source": [
    "lm_f1_task1 <- lm(f1_score~architecture+enz_type+type_padding+type_padding:architecture, data=scores_task1_dcasted)"
   ]
  },
  {
   "cell_type": "code",
   "execution_count": 90,
   "metadata": {},
   "outputs": [
    {
     "data": {
      "text/plain": [
       "\n",
       "Call:\n",
       "lm(formula = f1_score ~ architecture + enz_type + type_padding + \n",
       "    type_padding:architecture, data = scores_task1_dcasted)\n",
       "\n",
       "Residuals:\n",
       "     Min       1Q   Median       3Q      Max \n",
       "-0.64410 -0.01056  0.00265  0.01684  0.10410 \n",
       "\n",
       "Coefficients:\n",
       "                                                  Estimate Std. Error t value\n",
       "(Intercept)                                       0.743947   0.008572  86.786\n",
       "architecturebi_lstm                              -0.043522   0.011938  -3.646\n",
       "architectureonly_denses                           0.143824   0.011938  12.048\n",
       "architecturestack_conv                            0.033960   0.011938   2.845\n",
       "enz_type1                                         0.024232   0.002984   8.119\n",
       "type_paddingext_padding                           0.086189   0.011938   7.220\n",
       "type_paddingmid_padding                           0.112035   0.011938   9.385\n",
       "type_paddingpost_padding                          0.116773   0.011938   9.782\n",
       "type_paddingpre_padding                           0.102183   0.011938   8.560\n",
       "type_paddingrnd_padding                           0.030170   0.011938   2.527\n",
       "type_paddingstrf_padding                          0.111400   0.011938   9.332\n",
       "type_paddingzoom_padding                          0.111491   0.011938   9.339\n",
       "architecturebi_lstm:type_paddingext_padding      -0.142509   0.016883  -8.441\n",
       "architectureonly_denses:type_paddingext_padding  -0.090165   0.016883  -5.341\n",
       "architecturestack_conv:type_paddingext_padding   -0.001001   0.016883  -0.059\n",
       "architecturebi_lstm:type_paddingmid_padding      -0.005092   0.016883  -0.302\n",
       "architectureonly_denses:type_paddingmid_padding  -0.101333   0.016883  -6.002\n",
       "architecturestack_conv:type_paddingmid_padding   -0.028491   0.016883  -1.688\n",
       "architecturebi_lstm:type_paddingpost_padding     -0.030244   0.016883  -1.791\n",
       "architectureonly_denses:type_paddingpost_padding -0.116580   0.016883  -6.905\n",
       "architecturestack_conv:type_paddingpost_padding  -0.027653   0.016883  -1.638\n",
       "architecturebi_lstm:type_paddingpre_padding      -0.030447   0.016883  -1.803\n",
       "architectureonly_denses:type_paddingpre_padding  -0.102827   0.016883  -6.091\n",
       "architecturestack_conv:type_paddingpre_padding   -0.029664   0.016883  -1.757\n",
       "architecturebi_lstm:type_paddingrnd_padding       0.004003   0.016883   0.237\n",
       "architectureonly_denses:type_paddingrnd_padding  -0.034159   0.016883  -2.023\n",
       "architecturestack_conv:type_paddingrnd_padding   -0.007966   0.016883  -0.472\n",
       "architecturebi_lstm:type_paddingstrf_padding     -0.062835   0.016883  -3.722\n",
       "architectureonly_denses:type_paddingstrf_padding -0.081157   0.016883  -4.807\n",
       "architecturestack_conv:type_paddingstrf_padding  -0.050222   0.016883  -2.975\n",
       "architecturebi_lstm:type_paddingzoom_padding     -0.029649   0.016883  -1.756\n",
       "architectureonly_denses:type_paddingzoom_padding -0.118072   0.016883  -6.994\n",
       "architecturestack_conv:type_paddingzoom_padding  -0.039191   0.016883  -2.321\n",
       "                                                 Pr(>|t|)    \n",
       "(Intercept)                                       < 2e-16 ***\n",
       "architecturebi_lstm                              0.000289 ***\n",
       "architectureonly_denses                           < 2e-16 ***\n",
       "architecturestack_conv                           0.004594 ** \n",
       "enz_type1                                        2.62e-15 ***\n",
       "type_paddingext_padding                          1.56e-12 ***\n",
       "type_paddingmid_padding                           < 2e-16 ***\n",
       "type_paddingpost_padding                          < 2e-16 ***\n",
       "type_paddingpre_padding                           < 2e-16 ***\n",
       "type_paddingrnd_padding                          0.011750 *  \n",
       "type_paddingstrf_padding                          < 2e-16 ***\n",
       "type_paddingzoom_padding                          < 2e-16 ***\n",
       "architecturebi_lstm:type_paddingext_padding      2.31e-16 ***\n",
       "architectureonly_denses:type_paddingext_padding  1.31e-07 ***\n",
       "architecturestack_conv:type_paddingext_padding   0.952719    \n",
       "architecturebi_lstm:type_paddingmid_padding      0.763072    \n",
       "architectureonly_denses:type_paddingmid_padding  3.35e-09 ***\n",
       "architecturestack_conv:type_paddingmid_padding   0.092000 .  \n",
       "architecturebi_lstm:type_paddingpost_padding     0.073727 .  \n",
       "architectureonly_denses:type_paddingpost_padding 1.27e-11 ***\n",
       "architecturestack_conv:type_paddingpost_padding  0.101946    \n",
       "architecturebi_lstm:type_paddingpre_padding      0.071815 .  \n",
       "architectureonly_denses:type_paddingpre_padding  2.00e-09 ***\n",
       "architecturestack_conv:type_paddingpre_padding   0.079413 .  \n",
       "architecturebi_lstm:type_paddingrnd_padding      0.812657    \n",
       "architectureonly_denses:type_paddingrnd_padding  0.043480 *  \n",
       "architecturestack_conv:type_paddingrnd_padding   0.637227    \n",
       "architecturebi_lstm:type_paddingstrf_padding     0.000216 ***\n",
       "architectureonly_denses:type_paddingstrf_padding 1.93e-06 ***\n",
       "architecturestack_conv:type_paddingstrf_padding  0.003049 ** \n",
       "architecturebi_lstm:type_paddingzoom_padding     0.079565 .  \n",
       "architectureonly_denses:type_paddingzoom_padding 7.09e-12 ***\n",
       "architecturestack_conv:type_paddingzoom_padding  0.020596 *  \n",
       "---\n",
       "Signif. codes:  0 ‘***’ 0.001 ‘**’ 0.01 ‘*’ 0.05 ‘.’ 0.1 ‘ ’ 1\n",
       "\n",
       "Residual standard error: 0.03775 on 607 degrees of freedom\n",
       "Multiple R-squared:  0.7528,\tAdjusted R-squared:  0.7397 \n",
       "F-statistic: 57.75 on 32 and 607 DF,  p-value: < 2.2e-16\n"
      ]
     },
     "metadata": {},
     "output_type": "display_data"
    }
   ],
   "source": [
    "summary(lm_f1_task1)"
   ]
  },
  {
   "cell_type": "code",
   "execution_count": 95,
   "metadata": {},
   "outputs": [
    {
     "data": {
      "text/plain": [
       "\n",
       "Call:\n",
       "lm(formula = f1_score ~ architecture + enz_type + type_padding, \n",
       "    data = scores_task1_dcasted)\n",
       "\n",
       "Residuals:\n",
       "     Min       1Q   Median       3Q      Max \n",
       "-0.72626 -0.01819  0.00412  0.02333  0.09002 \n",
       "\n",
       "Coefficients:\n",
       "                          Estimate Std. Error t value Pr(>|t|)    \n",
       "(Intercept)               0.779111   0.006112 127.471  < 2e-16 ***\n",
       "architecturebi_lstm      -0.080619   0.004990 -16.155  < 2e-16 ***\n",
       "architectureonly_denses   0.063287   0.004990  12.682  < 2e-16 ***\n",
       "architecturestack_conv    0.010937   0.004990   2.192  0.02878 *  \n",
       "enz_type1                 0.024232   0.003529   6.867 1.58e-11 ***\n",
       "type_paddingext_padding   0.027770   0.007058   3.935 9.26e-05 ***\n",
       "type_paddingmid_padding   0.078306   0.007058  11.095  < 2e-16 ***\n",
       "type_paddingpost_padding  0.073154   0.007058  10.365  < 2e-16 ***\n",
       "type_paddingpre_padding   0.061448   0.007058   8.707  < 2e-16 ***\n",
       "type_paddingrnd_padding   0.020639   0.007058   2.924  0.00358 ** \n",
       "type_paddingstrf_padding  0.062846   0.007058   8.905  < 2e-16 ***\n",
       "type_paddingzoom_padding  0.064763   0.007058   9.176  < 2e-16 ***\n",
       "---\n",
       "Signif. codes:  0 ‘***’ 0.001 ‘**’ 0.01 ‘*’ 0.05 ‘.’ 0.1 ‘ ’ 1\n",
       "\n",
       "Residual standard error: 0.04464 on 628 degrees of freedom\n",
       "Multiple R-squared:  0.6424,\tAdjusted R-squared:  0.6361 \n",
       "F-statistic: 102.6 on 11 and 628 DF,  p-value: < 2.2e-16\n"
      ]
     },
     "metadata": {},
     "output_type": "display_data"
    }
   ],
   "source": [
    "lm_f1_task1 <- lm(f1_score~architecture+enz_type+type_padding, data=scores_task1_dcasted)\n",
    "summary(lm_f1_task1)"
   ]
  },
  {
   "cell_type": "code",
   "execution_count": 111,
   "metadata": {},
   "outputs": [],
   "source": [
    "# stargazer(lm_f1_task1, title=\"Linear models on F1 score\", align=TRUE)"
   ]
  },
  {
   "cell_type": "markdown",
   "metadata": {},
   "source": [
    "### Accuracy"
   ]
  },
  {
   "cell_type": "code",
   "execution_count": 74,
   "metadata": {},
   "outputs": [
    {
     "data": {
      "text/html": [
       "<table>\n",
       "<caption>A data.frame: 5 x 4</caption>\n",
       "<thead>\n",
       "\t<tr><th scope=col>index</th><th scope=col>variable</th><th scope=col>value</th><th scope=col>architecture</th></tr>\n",
       "\t<tr><th scope=col>&lt;int&gt;</th><th scope=col>&lt;fct&gt;</th><th scope=col>&lt;dbl&gt;</th><th scope=col>&lt;fct&gt;</th></tr>\n",
       "</thead>\n",
       "<tbody>\n",
       "\t<tr><td>0</td><td>post_padding</td><td>0.8596974</td><td>1_conv</td></tr>\n",
       "\t<tr><td>1</td><td>post_padding</td><td>0.8820495</td><td>1_conv</td></tr>\n",
       "\t<tr><td>2</td><td>post_padding</td><td>0.8786107</td><td>1_conv</td></tr>\n",
       "\t<tr><td>3</td><td>post_padding</td><td>0.8772352</td><td>1_conv</td></tr>\n",
       "\t<tr><td>4</td><td>post_padding</td><td>0.8693260</td><td>1_conv</td></tr>\n",
       "</tbody>\n",
       "</table>\n"
      ],
      "text/latex": [
       "A data.frame: 5 x 4\n",
       "\\begin{tabular}{r|llll}\n",
       " index & variable & value & architecture\\\\\n",
       " <int> & <fct> & <dbl> & <fct>\\\\\n",
       "\\hline\n",
       "\t 0 & post\\_padding & 0.8596974 & 1\\_conv\\\\\n",
       "\t 1 & post\\_padding & 0.8820495 & 1\\_conv\\\\\n",
       "\t 2 & post\\_padding & 0.8786107 & 1\\_conv\\\\\n",
       "\t 3 & post\\_padding & 0.8772352 & 1\\_conv\\\\\n",
       "\t 4 & post\\_padding & 0.8693260 & 1\\_conv\\\\\n",
       "\\end{tabular}\n"
      ],
      "text/markdown": [
       "\n",
       "A data.frame: 5 x 4\n",
       "\n",
       "| index &lt;int&gt; | variable &lt;fct&gt; | value &lt;dbl&gt; | architecture &lt;fct&gt; |\n",
       "|---|---|---|---|\n",
       "| 0 | post_padding | 0.8596974 | 1_conv |\n",
       "| 1 | post_padding | 0.8820495 | 1_conv |\n",
       "| 2 | post_padding | 0.8786107 | 1_conv |\n",
       "| 3 | post_padding | 0.8772352 | 1_conv |\n",
       "| 4 | post_padding | 0.8693260 | 1_conv |\n",
       "\n"
      ],
      "text/plain": [
       "  index variable     value     architecture\n",
       "1 0     post_padding 0.8596974 1_conv      \n",
       "2 1     post_padding 0.8820495 1_conv      \n",
       "3 2     post_padding 0.8786107 1_conv      \n",
       "4 3     post_padding 0.8772352 1_conv      \n",
       "5 4     post_padding 0.8693260 1_conv      "
      ]
     },
     "metadata": {},
     "output_type": "display_data"
    }
   ],
   "source": [
    "accu_task1[0:5,]\n",
    "accu_task2$X <- NULL"
   ]
  },
  {
   "cell_type": "code",
   "execution_count": 11,
   "metadata": {},
   "outputs": [],
   "source": [
    "#lo hago con la accuracy pero sin el tipo de enzima"
   ]
  },
  {
   "cell_type": "code",
   "execution_count": 75,
   "metadata": {},
   "outputs": [
    {
     "data": {
      "text/html": [
       "<dl class=dl-horizontal>\n",
       "\t<dt>index</dt>\n",
       "\t\t<dd>'integer'</dd>\n",
       "\t<dt>variable</dt>\n",
       "\t\t<dd>'factor'</dd>\n",
       "\t<dt>value</dt>\n",
       "\t\t<dd>'numeric'</dd>\n",
       "\t<dt>architecture</dt>\n",
       "\t\t<dd>'factor'</dd>\n",
       "</dl>\n"
      ],
      "text/latex": [
       "\\begin{description*}\n",
       "\\item[index] 'integer'\n",
       "\\item[variable] 'factor'\n",
       "\\item[value] 'numeric'\n",
       "\\item[architecture] 'factor'\n",
       "\\end{description*}\n"
      ],
      "text/markdown": [
       "index\n",
       ":   'integer'variable\n",
       ":   'factor'value\n",
       ":   'numeric'architecture\n",
       ":   'factor'\n",
       "\n"
      ],
      "text/plain": [
       "       index     variable        value architecture \n",
       "   \"integer\"     \"factor\"    \"numeric\"     \"factor\" "
      ]
     },
     "metadata": {},
     "output_type": "display_data"
    }
   ],
   "source": [
    "#filtering \n",
    "sapply(accu_task1, class)"
   ]
  },
  {
   "cell_type": "code",
   "execution_count": 77,
   "metadata": {},
   "outputs": [
    {
     "data": {
      "text/html": [
       "<table>\n",
       "<caption>A data.frame: 5 x 4</caption>\n",
       "<thead>\n",
       "\t<tr><th scope=col>index</th><th scope=col>type_padding</th><th scope=col>accuracy</th><th scope=col>architecture</th></tr>\n",
       "\t<tr><th scope=col>&lt;int&gt;</th><th scope=col>&lt;fct&gt;</th><th scope=col>&lt;dbl&gt;</th><th scope=col>&lt;fct&gt;</th></tr>\n",
       "</thead>\n",
       "<tbody>\n",
       "\t<tr><td>0</td><td>post_padding</td><td>0.8596974</td><td>1_conv</td></tr>\n",
       "\t<tr><td>1</td><td>post_padding</td><td>0.8820495</td><td>1_conv</td></tr>\n",
       "\t<tr><td>2</td><td>post_padding</td><td>0.8786107</td><td>1_conv</td></tr>\n",
       "\t<tr><td>3</td><td>post_padding</td><td>0.8772352</td><td>1_conv</td></tr>\n",
       "\t<tr><td>4</td><td>post_padding</td><td>0.8693260</td><td>1_conv</td></tr>\n",
       "</tbody>\n",
       "</table>\n"
      ],
      "text/latex": [
       "A data.frame: 5 x 4\n",
       "\\begin{tabular}{r|llll}\n",
       " index & type\\_padding & accuracy & architecture\\\\\n",
       " <int> & <fct> & <dbl> & <fct>\\\\\n",
       "\\hline\n",
       "\t 0 & post\\_padding & 0.8596974 & 1\\_conv\\\\\n",
       "\t 1 & post\\_padding & 0.8820495 & 1\\_conv\\\\\n",
       "\t 2 & post\\_padding & 0.8786107 & 1\\_conv\\\\\n",
       "\t 3 & post\\_padding & 0.8772352 & 1\\_conv\\\\\n",
       "\t 4 & post\\_padding & 0.8693260 & 1\\_conv\\\\\n",
       "\\end{tabular}\n"
      ],
      "text/markdown": [
       "\n",
       "A data.frame: 5 x 4\n",
       "\n",
       "| index &lt;int&gt; | type_padding &lt;fct&gt; | accuracy &lt;dbl&gt; | architecture &lt;fct&gt; |\n",
       "|---|---|---|---|\n",
       "| 0 | post_padding | 0.8596974 | 1_conv |\n",
       "| 1 | post_padding | 0.8820495 | 1_conv |\n",
       "| 2 | post_padding | 0.8786107 | 1_conv |\n",
       "| 3 | post_padding | 0.8772352 | 1_conv |\n",
       "| 4 | post_padding | 0.8693260 | 1_conv |\n",
       "\n"
      ],
      "text/plain": [
       "  index type_padding accuracy  architecture\n",
       "1 0     post_padding 0.8596974 1_conv      \n",
       "2 1     post_padding 0.8820495 1_conv      \n",
       "3 2     post_padding 0.8786107 1_conv      \n",
       "4 3     post_padding 0.8772352 1_conv      \n",
       "5 4     post_padding 0.8693260 1_conv      "
      ]
     },
     "metadata": {},
     "output_type": "display_data"
    }
   ],
   "source": [
    "#cambio el nombre a las columnas\n",
    "colnames(accu_task1) <- c(\"index\", \"type_padding\", \"accuracy\", \"architecture\")\n",
    "accu_task1[0:5,]"
   ]
  },
  {
   "cell_type": "code",
   "execution_count": 93,
   "metadata": {},
   "outputs": [],
   "source": [
    "lm_acc_task1 <- lm(accuracy~architecture+type_padding+architecture:type_padding, data=accu_task1)"
   ]
  },
  {
   "cell_type": "code",
   "execution_count": 94,
   "metadata": {},
   "outputs": [
    {
     "data": {
      "text/plain": [
       "\n",
       "Call:\n",
       "lm(formula = accuracy ~ architecture + type_padding + architecture:type_padding, \n",
       "    data = accu_task1)\n",
       "\n",
       "Residuals:\n",
       "      Min        1Q    Median        3Q       Max \n",
       "-0.129711 -0.007806  0.001840  0.009964  0.067302 \n",
       "\n",
       "Coefficients:\n",
       "                                                   Estimate Std. Error t value\n",
       "(Intercept)                                       0.7579829  0.0064654 117.237\n",
       "architecturebi_lstm                              -0.0397180  0.0091434  -4.344\n",
       "architectureonly_denses                           0.1425329  0.0091434  15.589\n",
       "architecturestack_conv                            0.0325113  0.0091434   3.556\n",
       "type_paddingext_padding                           0.0845205  0.0091434   9.244\n",
       "type_paddingmid_padding                           0.1102427  0.0091434  12.057\n",
       "type_paddingpost_padding                          0.1152289  0.0091434  12.602\n",
       "type_paddingpre_padding                           0.1005109  0.0091434  10.993\n",
       "type_paddingrnd_padding                           0.0321134  0.0091434   3.512\n",
       "type_paddingstrf_padding                          0.1104490  0.0091434  12.080\n",
       "type_paddingzoom_padding                          0.1108273  0.0091434  12.121\n",
       "architecturebi_lstm:type_paddingext_padding      -0.1232118  0.0129308  -9.529\n",
       "architectureonly_denses:type_paddingext_padding  -0.0889566  0.0129308  -6.879\n",
       "architecturestack_conv:type_paddingext_padding    0.0004323  0.0129308   0.033\n",
       "architecturebi_lstm:type_paddingmid_padding      -0.0038514  0.0129308  -0.298\n",
       "architectureonly_denses:type_paddingmid_padding  -0.0999951  0.0129308  -7.733\n",
       "architecturestack_conv:type_paddingmid_padding   -0.0269405  0.0129308  -2.083\n",
       "architecturebi_lstm:type_paddingpost_padding     -0.0274415  0.0129308  -2.122\n",
       "architectureonly_denses:type_paddingpost_padding -0.1155384  0.0129308  -8.935\n",
       "architecturestack_conv:type_paddingpost_padding  -0.0263215  0.0129308  -2.036\n",
       "architecturebi_lstm:type_paddingpre_padding      -0.0273040  0.0129308  -2.112\n",
       "architectureonly_denses:type_paddingpre_padding  -0.1016113  0.0129308  -7.858\n",
       "architecturestack_conv:type_paddingpre_padding   -0.0281784  0.0129308  -2.179\n",
       "architecturebi_lstm:type_paddingrnd_padding       0.0034044  0.0129308   0.263\n",
       "architectureonly_denses:type_paddingrnd_padding  -0.0361024  0.0129308  -2.792\n",
       "architecturestack_conv:type_paddingrnd_padding   -0.0078896  0.0129308  -0.610\n",
       "architecturebi_lstm:type_paddingstrf_padding     -0.0637208  0.0129308  -4.928\n",
       "architectureonly_denses:type_paddingstrf_padding -0.0805315  0.0129308  -6.228\n",
       "architecturestack_conv:type_paddingstrf_padding  -0.0486048  0.0129308  -3.759\n",
       "architecturebi_lstm:type_paddingzoom_padding     -0.0281637  0.0129308  -2.178\n",
       "architectureonly_denses:type_paddingzoom_padding -0.1179456  0.0129308  -9.121\n",
       "architecturestack_conv:type_paddingzoom_padding  -0.0385636  0.0129308  -2.982\n",
       "                                                 Pr(>|t|)    \n",
       "(Intercept)                                       < 2e-16 ***\n",
       "architecturebi_lstm                              1.94e-05 ***\n",
       "architectureonly_denses                           < 2e-16 ***\n",
       "architecturestack_conv                           0.000441 ***\n",
       "type_paddingext_padding                           < 2e-16 ***\n",
       "type_paddingmid_padding                           < 2e-16 ***\n",
       "type_paddingpost_padding                          < 2e-16 ***\n",
       "type_paddingpre_padding                           < 2e-16 ***\n",
       "type_paddingrnd_padding                          0.000516 ***\n",
       "type_paddingstrf_padding                          < 2e-16 ***\n",
       "type_paddingzoom_padding                          < 2e-16 ***\n",
       "architecturebi_lstm:type_paddingext_padding       < 2e-16 ***\n",
       "architectureonly_denses:type_paddingext_padding  3.75e-11 ***\n",
       "architecturestack_conv:type_paddingext_padding   0.973353    \n",
       "architecturebi_lstm:type_paddingmid_padding      0.766032    \n",
       "architectureonly_denses:type_paddingmid_padding  1.77e-13 ***\n",
       "architecturestack_conv:type_paddingmid_padding   0.038093 *  \n",
       "architecturebi_lstm:type_paddingpost_padding     0.034676 *  \n",
       "architectureonly_denses:type_paddingpost_padding  < 2e-16 ***\n",
       "architecturestack_conv:type_paddingpost_padding  0.042709 *  \n",
       "architecturebi_lstm:type_paddingpre_padding      0.035586 *  \n",
       "architectureonly_denses:type_paddingpre_padding  7.82e-14 ***\n",
       "architecturestack_conv:type_paddingpre_padding   0.030129 *  \n",
       "architecturebi_lstm:type_paddingrnd_padding      0.792524    \n",
       "architectureonly_denses:type_paddingrnd_padding  0.005589 ** \n",
       "architecturestack_conv:type_paddingrnd_padding   0.542251    \n",
       "architecturebi_lstm:type_paddingstrf_padding     1.41e-06 ***\n",
       "architectureonly_denses:type_paddingstrf_padding 1.67e-09 ***\n",
       "architecturestack_conv:type_paddingstrf_padding  0.000207 ***\n",
       "architecturebi_lstm:type_paddingzoom_padding     0.030215 *  \n",
       "architectureonly_denses:type_paddingzoom_padding  < 2e-16 ***\n",
       "architecturestack_conv:type_paddingzoom_padding  0.003106 ** \n",
       "---\n",
       "Signif. codes:  0 ‘***’ 0.001 ‘**’ 0.01 ‘*’ 0.05 ‘.’ 0.1 ‘ ’ 1\n",
       "\n",
       "Residual standard error: 0.02045 on 288 degrees of freedom\n",
       "Multiple R-squared:  0.904,\tAdjusted R-squared:  0.8937 \n",
       "F-statistic: 87.51 on 31 and 288 DF,  p-value: < 2.2e-16\n"
      ]
     },
     "metadata": {},
     "output_type": "display_data"
    }
   ],
   "source": [
    "summary(lm_acc_task1)"
   ]
  },
  {
   "cell_type": "code",
   "execution_count": 110,
   "metadata": {},
   "outputs": [],
   "source": [
    "#stargazer(lm_acc_task1, title=\"Linear models on F1 score\", align=TRUE)"
   ]
  },
  {
   "cell_type": "markdown",
   "metadata": {},
   "source": [
    "# Task 2"
   ]
  },
  {
   "cell_type": "code",
   "execution_count": 65,
   "metadata": {},
   "outputs": [],
   "source": [
    "task <- \"task2/\"\n",
    "\n",
    "path_scores_task2 <- paste0(absPath, \"data/results/\", task, file_scores)\n",
    "path_accu_task2 <- paste0(absPath, \"data/results/\", task, file_accuracy)\n",
    "\n",
    "scores_task2 <- read.csv(file=path_scores_task2, header=TRUE, sep=\",\")\n",
    "accu_task2 <- read.csv(file=path_accu_task2, header=TRUE, sep=\",\")"
   ]
  },
  {
   "cell_type": "markdown",
   "metadata": {},
   "source": [
    "## Scores"
   ]
  },
  {
   "cell_type": "code",
   "execution_count": 66,
   "metadata": {},
   "outputs": [
    {
     "data": {
      "text/html": [
       "<table>\n",
       "<caption>A data.frame: 5 x 7</caption>\n",
       "<thead>\n",
       "\t<tr><th scope=col>X</th><th scope=col>enz_type</th><th scope=col>index</th><th scope=col>type_padding</th><th scope=col>architecture</th><th scope=col>variable</th><th scope=col>value</th></tr>\n",
       "\t<tr><th scope=col>&lt;int&gt;</th><th scope=col>&lt;fct&gt;</th><th scope=col>&lt;int&gt;</th><th scope=col>&lt;fct&gt;</th><th scope=col>&lt;fct&gt;</th><th scope=col>&lt;fct&gt;</th><th scope=col>&lt;dbl&gt;</th></tr>\n",
       "</thead>\n",
       "<tbody>\n",
       "\t<tr><td>0</td><td>1</td><td>0</td><td>post_padding</td><td>1_conv</td><td>f1-score</td><td>0.4609665</td></tr>\n",
       "\t<tr><td>1</td><td>2</td><td>0</td><td>post_padding</td><td>1_conv</td><td>f1-score</td><td>0.6056475</td></tr>\n",
       "\t<tr><td>2</td><td>3</td><td>0</td><td>post_padding</td><td>1_conv</td><td>f1-score</td><td>0.5493562</td></tr>\n",
       "\t<tr><td>3</td><td>4</td><td>0</td><td>post_padding</td><td>1_conv</td><td>f1-score</td><td>0.4986877</td></tr>\n",
       "\t<tr><td>4</td><td>5</td><td>0</td><td>post_padding</td><td>1_conv</td><td>f1-score</td><td>0.6060606</td></tr>\n",
       "</tbody>\n",
       "</table>\n"
      ],
      "text/latex": [
       "A data.frame: 5 x 7\n",
       "\\begin{tabular}{r|lllllll}\n",
       " X & enz\\_type & index & type\\_padding & architecture & variable & value\\\\\n",
       " <int> & <fct> & <int> & <fct> & <fct> & <fct> & <dbl>\\\\\n",
       "\\hline\n",
       "\t 0 & 1 & 0 & post\\_padding & 1\\_conv & f1-score & 0.4609665\\\\\n",
       "\t 1 & 2 & 0 & post\\_padding & 1\\_conv & f1-score & 0.6056475\\\\\n",
       "\t 2 & 3 & 0 & post\\_padding & 1\\_conv & f1-score & 0.5493562\\\\\n",
       "\t 3 & 4 & 0 & post\\_padding & 1\\_conv & f1-score & 0.4986877\\\\\n",
       "\t 4 & 5 & 0 & post\\_padding & 1\\_conv & f1-score & 0.6060606\\\\\n",
       "\\end{tabular}\n"
      ],
      "text/markdown": [
       "\n",
       "A data.frame: 5 x 7\n",
       "\n",
       "| X &lt;int&gt; | enz_type &lt;fct&gt; | index &lt;int&gt; | type_padding &lt;fct&gt; | architecture &lt;fct&gt; | variable &lt;fct&gt; | value &lt;dbl&gt; |\n",
       "|---|---|---|---|---|---|---|\n",
       "| 0 | 1 | 0 | post_padding | 1_conv | f1-score | 0.4609665 |\n",
       "| 1 | 2 | 0 | post_padding | 1_conv | f1-score | 0.6056475 |\n",
       "| 2 | 3 | 0 | post_padding | 1_conv | f1-score | 0.5493562 |\n",
       "| 3 | 4 | 0 | post_padding | 1_conv | f1-score | 0.4986877 |\n",
       "| 4 | 5 | 0 | post_padding | 1_conv | f1-score | 0.6060606 |\n",
       "\n"
      ],
      "text/plain": [
       "  X enz_type index type_padding architecture variable value    \n",
       "1 0 1        0     post_padding 1_conv       f1-score 0.4609665\n",
       "2 1 2        0     post_padding 1_conv       f1-score 0.6056475\n",
       "3 2 3        0     post_padding 1_conv       f1-score 0.5493562\n",
       "4 3 4        0     post_padding 1_conv       f1-score 0.4986877\n",
       "5 4 5        0     post_padding 1_conv       f1-score 0.6060606"
      ]
     },
     "metadata": {},
     "output_type": "display_data"
    },
    {
     "data": {
      "text/html": [
       "<ol class=list-inline>\n",
       "\t<li>9600</li>\n",
       "\t<li>7</li>\n",
       "</ol>\n"
      ],
      "text/latex": [
       "\\begin{enumerate*}\n",
       "\\item 9600\n",
       "\\item 7\n",
       "\\end{enumerate*}\n"
      ],
      "text/markdown": [
       "1. 9600\n",
       "2. 7\n",
       "\n",
       "\n"
      ],
      "text/plain": [
       "[1] 9600    7"
      ]
     },
     "metadata": {},
     "output_type": "display_data"
    }
   ],
   "source": [
    "scores_task2[0:5,]\n",
    "dim(scores_task2)\n",
    "scores_task2$X <- NULL"
   ]
  },
  {
   "cell_type": "code",
   "execution_count": 67,
   "metadata": {},
   "outputs": [
    {
     "data": {
      "text/html": [
       "<ol class=list-inline>\n",
       "\t<li>6720</li>\n",
       "\t<li>6</li>\n",
       "</ol>\n"
      ],
      "text/latex": [
       "\\begin{enumerate*}\n",
       "\\item 6720\n",
       "\\item 6\n",
       "\\end{enumerate*}\n"
      ],
      "text/markdown": [
       "1. 6720\n",
       "2. 6\n",
       "\n",
       "\n"
      ],
      "text/plain": [
       "[1] 6720    6"
      ]
     },
     "metadata": {},
     "output_type": "display_data"
    },
    {
     "data": {
      "text/html": [
       "<dl class=dl-horizontal>\n",
       "\t<dt>enz_type</dt>\n",
       "\t\t<dd>'factor'</dd>\n",
       "\t<dt>index</dt>\n",
       "\t\t<dd>'integer'</dd>\n",
       "\t<dt>type_padding</dt>\n",
       "\t\t<dd>'factor'</dd>\n",
       "\t<dt>architecture</dt>\n",
       "\t\t<dd>'factor'</dd>\n",
       "\t<dt>variable</dt>\n",
       "\t\t<dd>'factor'</dd>\n",
       "\t<dt>value</dt>\n",
       "\t\t<dd>'numeric'</dd>\n",
       "</dl>\n"
      ],
      "text/latex": [
       "\\begin{description*}\n",
       "\\item[enz\\textbackslash{}\\_type] 'factor'\n",
       "\\item[index] 'integer'\n",
       "\\item[type\\textbackslash{}\\_padding] 'factor'\n",
       "\\item[architecture] 'factor'\n",
       "\\item[variable] 'factor'\n",
       "\\item[value] 'numeric'\n",
       "\\end{description*}\n"
      ],
      "text/markdown": [
       "enz_type\n",
       ":   'factor'index\n",
       ":   'integer'type_padding\n",
       ":   'factor'architecture\n",
       ":   'factor'variable\n",
       ":   'factor'value\n",
       ":   'numeric'\n",
       "\n"
      ],
      "text/plain": [
       "    enz_type        index type_padding architecture     variable        value \n",
       "    \"factor\"    \"integer\"     \"factor\"     \"factor\"     \"factor\"    \"numeric\" "
      ]
     },
     "metadata": {},
     "output_type": "display_data"
    }
   ],
   "source": [
    "#filtering \n",
    "scores_task2 <- scores_task2[scores_task2$enz_type %in% c(1,2,3,4,5,6,7),]\n",
    "dim(scores_task2)\n",
    "sapply(scores_task2, class)"
   ]
  },
  {
   "cell_type": "code",
   "execution_count": 68,
   "metadata": {},
   "outputs": [],
   "source": [
    "# habria que hacer un unmelt de variable-value\n",
    "scores_task2_dcasted <- dcast(data = scores_task2, formula = enz_type+index+type_padding+architecture~variable,\n",
    "                              fun.aggregate = sum,value.var = \"value\")"
   ]
  },
  {
   "cell_type": "code",
   "execution_count": 69,
   "metadata": {},
   "outputs": [
    {
     "data": {
      "text/html": [
       "<table>\n",
       "<caption>A data.frame: 5 x 7</caption>\n",
       "<thead>\n",
       "\t<tr><th scope=col>enz_type</th><th scope=col>index</th><th scope=col>type_padding</th><th scope=col>architecture</th><th scope=col>f1_score</th><th scope=col>precision</th><th scope=col>recall</th></tr>\n",
       "\t<tr><th scope=col>&lt;fct&gt;</th><th scope=col>&lt;int&gt;</th><th scope=col>&lt;fct&gt;</th><th scope=col>&lt;fct&gt;</th><th scope=col>&lt;dbl&gt;</th><th scope=col>&lt;dbl&gt;</th><th scope=col>&lt;dbl&gt;</th></tr>\n",
       "</thead>\n",
       "<tbody>\n",
       "\t<tr><td>1</td><td>0</td><td>aug_padding</td><td>1_conv     </td><td>0.4514306</td><td>0.4031546</td><td>0.51284109</td></tr>\n",
       "\t<tr><td>1</td><td>0</td><td>aug_padding</td><td>bi_lstm    </td><td>0.1046196</td><td>0.3407080</td><td>0.06179775</td></tr>\n",
       "\t<tr><td>1</td><td>0</td><td>aug_padding</td><td>only_denses</td><td>0.4247295</td><td>0.3453997</td><td>0.55136437</td></tr>\n",
       "\t<tr><td>1</td><td>0</td><td>aug_padding</td><td>stack_conv </td><td>0.4891587</td><td>0.5320755</td><td>0.45264848</td></tr>\n",
       "\t<tr><td>1</td><td>0</td><td>ext_padding</td><td>1_conv     </td><td>0.3833866</td><td>0.2678571</td><td>0.67415730</td></tr>\n",
       "</tbody>\n",
       "</table>\n"
      ],
      "text/latex": [
       "A data.frame: 5 x 7\n",
       "\\begin{tabular}{r|lllllll}\n",
       " enz\\_type & index & type\\_padding & architecture & f1\\_score & precision & recall\\\\\n",
       " <fct> & <int> & <fct> & <fct> & <dbl> & <dbl> & <dbl>\\\\\n",
       "\\hline\n",
       "\t 1 & 0 & aug\\_padding & 1\\_conv      & 0.4514306 & 0.4031546 & 0.51284109\\\\\n",
       "\t 1 & 0 & aug\\_padding & bi\\_lstm     & 0.1046196 & 0.3407080 & 0.06179775\\\\\n",
       "\t 1 & 0 & aug\\_padding & only\\_denses & 0.4247295 & 0.3453997 & 0.55136437\\\\\n",
       "\t 1 & 0 & aug\\_padding & stack\\_conv  & 0.4891587 & 0.5320755 & 0.45264848\\\\\n",
       "\t 1 & 0 & ext\\_padding & 1\\_conv      & 0.3833866 & 0.2678571 & 0.67415730\\\\\n",
       "\\end{tabular}\n"
      ],
      "text/markdown": [
       "\n",
       "A data.frame: 5 x 7\n",
       "\n",
       "| enz_type &lt;fct&gt; | index &lt;int&gt; | type_padding &lt;fct&gt; | architecture &lt;fct&gt; | f1_score &lt;dbl&gt; | precision &lt;dbl&gt; | recall &lt;dbl&gt; |\n",
       "|---|---|---|---|---|---|---|\n",
       "| 1 | 0 | aug_padding | 1_conv      | 0.4514306 | 0.4031546 | 0.51284109 |\n",
       "| 1 | 0 | aug_padding | bi_lstm     | 0.1046196 | 0.3407080 | 0.06179775 |\n",
       "| 1 | 0 | aug_padding | only_denses | 0.4247295 | 0.3453997 | 0.55136437 |\n",
       "| 1 | 0 | aug_padding | stack_conv  | 0.4891587 | 0.5320755 | 0.45264848 |\n",
       "| 1 | 0 | ext_padding | 1_conv      | 0.3833866 | 0.2678571 | 0.67415730 |\n",
       "\n"
      ],
      "text/plain": [
       "  enz_type index type_padding architecture f1_score  precision recall    \n",
       "1 1        0     aug_padding  1_conv       0.4514306 0.4031546 0.51284109\n",
       "2 1        0     aug_padding  bi_lstm      0.1046196 0.3407080 0.06179775\n",
       "3 1        0     aug_padding  only_denses  0.4247295 0.3453997 0.55136437\n",
       "4 1        0     aug_padding  stack_conv   0.4891587 0.5320755 0.45264848\n",
       "5 1        0     ext_padding  1_conv       0.3833866 0.2678571 0.67415730"
      ]
     },
     "metadata": {},
     "output_type": "display_data"
    }
   ],
   "source": [
    "#tengo que cambiar el nombre de f1-score\n",
    "colnames(scores_task2_dcasted) <- c(\"enz_type\", \"index\", \"type_padding\", \"architecture\", \"f1_score\",\n",
    "                                    \"precision\", \"recall\")\n",
    "scores_task2_dcasted[0:5,]"
   ]
  },
  {
   "cell_type": "code",
   "execution_count": 70,
   "metadata": {},
   "outputs": [
    {
     "data": {
      "text/html": [
       "<dl class=dl-horizontal>\n",
       "\t<dt>1</dt>\n",
       "\t\t<dd>320</dd>\n",
       "\t<dt>2</dt>\n",
       "\t\t<dd>320</dd>\n",
       "\t<dt>3</dt>\n",
       "\t\t<dd>320</dd>\n",
       "\t<dt>4</dt>\n",
       "\t\t<dd>320</dd>\n",
       "\t<dt>5</dt>\n",
       "\t\t<dd>320</dd>\n",
       "\t<dt>6</dt>\n",
       "\t\t<dd>320</dd>\n",
       "\t<dt>7</dt>\n",
       "\t\t<dd>320</dd>\n",
       "\t<dt>macro avg</dt>\n",
       "\t\t<dd>0</dd>\n",
       "\t<dt>micro avg</dt>\n",
       "\t\t<dd>0</dd>\n",
       "\t<dt>weighted avg</dt>\n",
       "\t\t<dd>0</dd>\n",
       "</dl>\n"
      ],
      "text/latex": [
       "\\begin{description*}\n",
       "\\item[1] 320\n",
       "\\item[2] 320\n",
       "\\item[3] 320\n",
       "\\item[4] 320\n",
       "\\item[5] 320\n",
       "\\item[6] 320\n",
       "\\item[7] 320\n",
       "\\item[macro avg] 0\n",
       "\\item[micro avg] 0\n",
       "\\item[weighted avg] 0\n",
       "\\end{description*}\n"
      ],
      "text/markdown": [
       "1\n",
       ":   3202\n",
       ":   3203\n",
       ":   3204\n",
       ":   3205\n",
       ":   3206\n",
       ":   3207\n",
       ":   320macro avg\n",
       ":   0micro avg\n",
       ":   0weighted avg\n",
       ":   0\n",
       "\n"
      ],
      "text/plain": [
       "           1            2            3            4            5            6 \n",
       "         320          320          320          320          320          320 \n",
       "           7    macro avg    micro avg weighted avg \n",
       "         320            0            0            0 "
      ]
     },
     "metadata": {},
     "output_type": "display_data"
    }
   ],
   "source": [
    "summary(scores_task2_dcasted$enz_type)"
   ]
  },
  {
   "cell_type": "code",
   "execution_count": 87,
   "metadata": {},
   "outputs": [],
   "source": [
    "lm_f1_task2 <- lm(f1_score~architecture+enz_type+type_padding+type_padding:architecture, data=scores_task2_dcasted)"
   ]
  },
  {
   "cell_type": "code",
   "execution_count": 88,
   "metadata": {},
   "outputs": [
    {
     "data": {
      "text/plain": [
       "\n",
       "Call:\n",
       "lm(formula = f1_score ~ architecture + enz_type + type_padding + \n",
       "    type_padding:architecture, data = scores_task2_dcasted)\n",
       "\n",
       "Residuals:\n",
       "     Min       1Q   Median       3Q      Max \n",
       "-0.49637 -0.06331 -0.00732  0.03937  0.40353 \n",
       "\n",
       "Coefficients:\n",
       "                                                  Estimate Std. Error t value\n",
       "(Intercept)                                       0.451611   0.013375  33.765\n",
       "architecturebi_lstm                              -0.446992   0.017358 -25.751\n",
       "architectureonly_denses                          -0.004791   0.017358  -0.276\n",
       "architecturestack_conv                           -0.032003   0.017358  -1.844\n",
       "enz_type2                                         0.255984   0.008118  31.531\n",
       "enz_type3                                         0.093885   0.008118  11.564\n",
       "enz_type4                                         0.003971   0.008118   0.489\n",
       "enz_type5                                         0.122621   0.008118  15.104\n",
       "enz_type6                                         0.042608   0.008118   5.248\n",
       "enz_type7                                         0.072239   0.008118   8.898\n",
       "type_paddingext_padding                           0.018144   0.017358   1.045\n",
       "type_paddingmid_padding                           0.022309   0.017358   1.285\n",
       "type_paddingpost_padding                          0.013798   0.017358   0.795\n",
       "type_paddingpre_padding                           0.004493   0.017358   0.259\n",
       "type_paddingrnd_padding                          -0.084046   0.017358  -4.842\n",
       "type_paddingstrf_padding                          0.014153   0.017358   0.815\n",
       "type_paddingzoom_padding                          0.006544   0.017358   0.377\n",
       "architecturebi_lstm:type_paddingext_padding      -0.028258   0.024548  -1.151\n",
       "architectureonly_denses:type_paddingext_padding  -0.006902   0.024548  -0.281\n",
       "architecturestack_conv:type_paddingext_padding    0.017826   0.024548   0.726\n",
       "architecturebi_lstm:type_paddingmid_padding       0.041195   0.024548   1.678\n",
       "architectureonly_denses:type_paddingmid_padding  -0.011269   0.024548  -0.459\n",
       "architecturestack_conv:type_paddingmid_padding    0.031105   0.024548   1.267\n",
       "architecturebi_lstm:type_paddingpost_padding      0.007013   0.024548   0.286\n",
       "architectureonly_denses:type_paddingpost_padding -0.036490   0.024548  -1.486\n",
       "architecturestack_conv:type_paddingpost_padding   0.035753   0.024548   1.456\n",
       "architecturebi_lstm:type_paddingpre_padding       0.023532   0.024548   0.959\n",
       "architectureonly_denses:type_paddingpre_padding   0.005674   0.024548   0.231\n",
       "architecturestack_conv:type_paddingpre_padding    0.018199   0.024548   0.741\n",
       "architecturebi_lstm:type_paddingrnd_padding       0.070716   0.024548   2.881\n",
       "architectureonly_denses:type_paddingrnd_padding   0.001189   0.024548   0.048\n",
       "architecturestack_conv:type_paddingrnd_padding    0.035442   0.024548   1.444\n",
       "architecturebi_lstm:type_paddingstrf_padding     -0.027483   0.024548  -1.120\n",
       "architectureonly_denses:type_paddingstrf_padding  0.002967   0.024548   0.121\n",
       "architecturestack_conv:type_paddingstrf_padding   0.028637   0.024548   1.167\n",
       "architecturebi_lstm:type_paddingzoom_padding     -0.001888   0.024548  -0.077\n",
       "architectureonly_denses:type_paddingzoom_padding -0.082336   0.024548  -3.354\n",
       "architecturestack_conv:type_paddingzoom_padding   0.004813   0.024548   0.196\n",
       "                                                 Pr(>|t|)    \n",
       "(Intercept)                                       < 2e-16 ***\n",
       "architecturebi_lstm                               < 2e-16 ***\n",
       "architectureonly_denses                           0.78258    \n",
       "architecturestack_conv                            0.06536 .  \n",
       "enz_type2                                         < 2e-16 ***\n",
       "enz_type3                                         < 2e-16 ***\n",
       "enz_type4                                         0.62484    \n",
       "enz_type5                                         < 2e-16 ***\n",
       "enz_type6                                        1.68e-07 ***\n",
       "enz_type7                                         < 2e-16 ***\n",
       "type_paddingext_padding                           0.29601    \n",
       "type_paddingmid_padding                           0.19884    \n",
       "type_paddingpost_padding                          0.42677    \n",
       "type_paddingpre_padding                           0.79576    \n",
       "type_paddingrnd_padding                          1.38e-06 ***\n",
       "type_paddingstrf_padding                          0.41494    \n",
       "type_paddingzoom_padding                          0.70621    \n",
       "architecturebi_lstm:type_paddingext_padding       0.24981    \n",
       "architectureonly_denses:type_paddingext_padding   0.77862    \n",
       "architecturestack_conv:type_paddingext_padding    0.46781    \n",
       "architecturebi_lstm:type_paddingmid_padding       0.09346 .  \n",
       "architectureonly_denses:type_paddingmid_padding   0.64624    \n",
       "architecturestack_conv:type_paddingmid_padding    0.20524    \n",
       "architecturebi_lstm:type_paddingpost_padding      0.77515    \n",
       "architectureonly_denses:type_paddingpost_padding  0.13730    \n",
       "architecturestack_conv:type_paddingpost_padding   0.14541    \n",
       "architecturebi_lstm:type_paddingpre_padding       0.33787    \n",
       "architectureonly_denses:type_paddingpre_padding   0.81724    \n",
       "architecturestack_conv:type_paddingpre_padding    0.45855    \n",
       "architecturebi_lstm:type_paddingrnd_padding       0.00401 ** \n",
       "architectureonly_denses:type_paddingrnd_padding   0.96138    \n",
       "architecturestack_conv:type_paddingrnd_padding    0.14894    \n",
       "architecturebi_lstm:type_paddingstrf_padding      0.26303    \n",
       "architectureonly_denses:type_paddingstrf_padding  0.90380    \n",
       "architecturestack_conv:type_paddingstrf_padding   0.24350    \n",
       "architecturebi_lstm:type_paddingzoom_padding      0.93869    \n",
       "architectureonly_denses:type_paddingzoom_padding  0.00081 ***\n",
       "architecturestack_conv:type_paddingzoom_padding   0.84457    \n",
       "---\n",
       "Signif. codes:  0 ‘***’ 0.001 ‘**’ 0.01 ‘*’ 0.05 ‘.’ 0.1 ‘ ’ 1\n",
       "\n",
       "Residual standard error: 0.1027 on 2202 degrees of freedom\n",
       "Multiple R-squared:  0.8011,\tAdjusted R-squared:  0.7977 \n",
       "F-statistic: 239.6 on 37 and 2202 DF,  p-value: < 2.2e-16\n"
      ]
     },
     "metadata": {},
     "output_type": "display_data"
    }
   ],
   "source": [
    "summary(lm_f1_task2)"
   ]
  },
  {
   "cell_type": "code",
   "execution_count": 99,
   "metadata": {},
   "outputs": [
    {
     "data": {
      "text/plain": [
       "\n",
       "Call:\n",
       "lm(formula = f1_score ~ architecture + enz_type + type_padding, \n",
       "    data = scores_task1_dcasted)\n",
       "\n",
       "Residuals:\n",
       "     Min       1Q   Median       3Q      Max \n",
       "-0.72626 -0.01819  0.00412  0.02333  0.09002 \n",
       "\n",
       "Coefficients:\n",
       "                          Estimate Std. Error t value Pr(>|t|)    \n",
       "(Intercept)               0.779111   0.006112 127.471  < 2e-16 ***\n",
       "architecturebi_lstm      -0.080619   0.004990 -16.155  < 2e-16 ***\n",
       "architectureonly_denses   0.063287   0.004990  12.682  < 2e-16 ***\n",
       "architecturestack_conv    0.010937   0.004990   2.192  0.02878 *  \n",
       "enz_type1                 0.024232   0.003529   6.867 1.58e-11 ***\n",
       "type_paddingext_padding   0.027770   0.007058   3.935 9.26e-05 ***\n",
       "type_paddingmid_padding   0.078306   0.007058  11.095  < 2e-16 ***\n",
       "type_paddingpost_padding  0.073154   0.007058  10.365  < 2e-16 ***\n",
       "type_paddingpre_padding   0.061448   0.007058   8.707  < 2e-16 ***\n",
       "type_paddingrnd_padding   0.020639   0.007058   2.924  0.00358 ** \n",
       "type_paddingstrf_padding  0.062846   0.007058   8.905  < 2e-16 ***\n",
       "type_paddingzoom_padding  0.064763   0.007058   9.176  < 2e-16 ***\n",
       "---\n",
       "Signif. codes:  0 ‘***’ 0.001 ‘**’ 0.01 ‘*’ 0.05 ‘.’ 0.1 ‘ ’ 1\n",
       "\n",
       "Residual standard error: 0.04464 on 628 degrees of freedom\n",
       "Multiple R-squared:  0.6424,\tAdjusted R-squared:  0.6361 \n",
       "F-statistic: 102.6 on 11 and 628 DF,  p-value: < 2.2e-16\n"
      ]
     },
     "metadata": {},
     "output_type": "display_data"
    }
   ],
   "source": [
    "lm_f1_task2 <- lm(f1_score~architecture+enz_type+type_padding, data=scores_task2_dcasted)\n",
    "summary(lm_f1_task1)"
   ]
  },
  {
   "cell_type": "code",
   "execution_count": 108,
   "metadata": {},
   "outputs": [],
   "source": [
    "#stargazer(lm_f1_task2, title=\"Linear models on F1 score\", align=TRUE)"
   ]
  },
  {
   "cell_type": "markdown",
   "metadata": {},
   "source": [
    "## Accuracy"
   ]
  },
  {
   "cell_type": "code",
   "execution_count": 73,
   "metadata": {},
   "outputs": [
    {
     "data": {
      "text/html": [
       "<table>\n",
       "<caption>A data.frame: 5 x 5</caption>\n",
       "<thead>\n",
       "\t<tr><th scope=col>X</th><th scope=col>index</th><th scope=col>variable</th><th scope=col>value</th><th scope=col>architecture</th></tr>\n",
       "\t<tr><th scope=col>&lt;int&gt;</th><th scope=col>&lt;int&gt;</th><th scope=col>&lt;fct&gt;</th><th scope=col>&lt;dbl&gt;</th><th scope=col>&lt;fct&gt;</th></tr>\n",
       "</thead>\n",
       "<tbody>\n",
       "\t<tr><td>0</td><td>0</td><td>post_padding</td><td>0.5472170</td><td>1_conv</td></tr>\n",
       "\t<tr><td>1</td><td>1</td><td>post_padding</td><td>0.5284553</td><td>1_conv</td></tr>\n",
       "\t<tr><td>2</td><td>2</td><td>post_padding</td><td>0.5121951</td><td>1_conv</td></tr>\n",
       "\t<tr><td>3</td><td>3</td><td>post_padding</td><td>0.5247029</td><td>1_conv</td></tr>\n",
       "\t<tr><td>4</td><td>4</td><td>post_padding</td><td>0.5247029</td><td>1_conv</td></tr>\n",
       "</tbody>\n",
       "</table>\n"
      ],
      "text/latex": [
       "A data.frame: 5 x 5\n",
       "\\begin{tabular}{r|lllll}\n",
       " X & index & variable & value & architecture\\\\\n",
       " <int> & <int> & <fct> & <dbl> & <fct>\\\\\n",
       "\\hline\n",
       "\t 0 & 0 & post\\_padding & 0.5472170 & 1\\_conv\\\\\n",
       "\t 1 & 1 & post\\_padding & 0.5284553 & 1\\_conv\\\\\n",
       "\t 2 & 2 & post\\_padding & 0.5121951 & 1\\_conv\\\\\n",
       "\t 3 & 3 & post\\_padding & 0.5247029 & 1\\_conv\\\\\n",
       "\t 4 & 4 & post\\_padding & 0.5247029 & 1\\_conv\\\\\n",
       "\\end{tabular}\n"
      ],
      "text/markdown": [
       "\n",
       "A data.frame: 5 x 5\n",
       "\n",
       "| X &lt;int&gt; | index &lt;int&gt; | variable &lt;fct&gt; | value &lt;dbl&gt; | architecture &lt;fct&gt; |\n",
       "|---|---|---|---|---|\n",
       "| 0 | 0 | post_padding | 0.5472170 | 1_conv |\n",
       "| 1 | 1 | post_padding | 0.5284553 | 1_conv |\n",
       "| 2 | 2 | post_padding | 0.5121951 | 1_conv |\n",
       "| 3 | 3 | post_padding | 0.5247029 | 1_conv |\n",
       "| 4 | 4 | post_padding | 0.5247029 | 1_conv |\n",
       "\n"
      ],
      "text/plain": [
       "  X index variable     value     architecture\n",
       "1 0 0     post_padding 0.5472170 1_conv      \n",
       "2 1 1     post_padding 0.5284553 1_conv      \n",
       "3 2 2     post_padding 0.5121951 1_conv      \n",
       "4 3 3     post_padding 0.5247029 1_conv      \n",
       "5 4 4     post_padding 0.5247029 1_conv      "
      ]
     },
     "metadata": {},
     "output_type": "display_data"
    }
   ],
   "source": [
    "accu_task2[0:5,]"
   ]
  },
  {
   "cell_type": "code",
   "execution_count": 81,
   "metadata": {},
   "outputs": [
    {
     "data": {
      "text/html": [
       "<dl class=dl-horizontal>\n",
       "\t<dt>index</dt>\n",
       "\t\t<dd>'integer'</dd>\n",
       "\t<dt>variable</dt>\n",
       "\t\t<dd>'factor'</dd>\n",
       "\t<dt>value</dt>\n",
       "\t\t<dd>'numeric'</dd>\n",
       "\t<dt>architecture</dt>\n",
       "\t\t<dd>'factor'</dd>\n",
       "</dl>\n"
      ],
      "text/latex": [
       "\\begin{description*}\n",
       "\\item[index] 'integer'\n",
       "\\item[variable] 'factor'\n",
       "\\item[value] 'numeric'\n",
       "\\item[architecture] 'factor'\n",
       "\\end{description*}\n"
      ],
      "text/markdown": [
       "index\n",
       ":   'integer'variable\n",
       ":   'factor'value\n",
       ":   'numeric'architecture\n",
       ":   'factor'\n",
       "\n"
      ],
      "text/plain": [
       "       index     variable        value architecture \n",
       "   \"integer\"     \"factor\"    \"numeric\"     \"factor\" "
      ]
     },
     "metadata": {},
     "output_type": "display_data"
    }
   ],
   "source": [
    "#filtering \n",
    "sapply(accu_task2, class)"
   ]
  },
  {
   "cell_type": "code",
   "execution_count": 82,
   "metadata": {},
   "outputs": [
    {
     "data": {
      "text/html": [
       "<table>\n",
       "<caption>A data.frame: 5 x 4</caption>\n",
       "<thead>\n",
       "\t<tr><th scope=col>index</th><th scope=col>type_padding</th><th scope=col>accuracy</th><th scope=col>architecture</th></tr>\n",
       "\t<tr><th scope=col>&lt;int&gt;</th><th scope=col>&lt;fct&gt;</th><th scope=col>&lt;dbl&gt;</th><th scope=col>&lt;fct&gt;</th></tr>\n",
       "</thead>\n",
       "<tbody>\n",
       "\t<tr><td>0</td><td>post_padding</td><td>0.5472170</td><td>1_conv</td></tr>\n",
       "\t<tr><td>1</td><td>post_padding</td><td>0.5284553</td><td>1_conv</td></tr>\n",
       "\t<tr><td>2</td><td>post_padding</td><td>0.5121951</td><td>1_conv</td></tr>\n",
       "\t<tr><td>3</td><td>post_padding</td><td>0.5247029</td><td>1_conv</td></tr>\n",
       "\t<tr><td>4</td><td>post_padding</td><td>0.5247029</td><td>1_conv</td></tr>\n",
       "</tbody>\n",
       "</table>\n"
      ],
      "text/latex": [
       "A data.frame: 5 x 4\n",
       "\\begin{tabular}{r|llll}\n",
       " index & type\\_padding & accuracy & architecture\\\\\n",
       " <int> & <fct> & <dbl> & <fct>\\\\\n",
       "\\hline\n",
       "\t 0 & post\\_padding & 0.5472170 & 1\\_conv\\\\\n",
       "\t 1 & post\\_padding & 0.5284553 & 1\\_conv\\\\\n",
       "\t 2 & post\\_padding & 0.5121951 & 1\\_conv\\\\\n",
       "\t 3 & post\\_padding & 0.5247029 & 1\\_conv\\\\\n",
       "\t 4 & post\\_padding & 0.5247029 & 1\\_conv\\\\\n",
       "\\end{tabular}\n"
      ],
      "text/markdown": [
       "\n",
       "A data.frame: 5 x 4\n",
       "\n",
       "| index &lt;int&gt; | type_padding &lt;fct&gt; | accuracy &lt;dbl&gt; | architecture &lt;fct&gt; |\n",
       "|---|---|---|---|\n",
       "| 0 | post_padding | 0.5472170 | 1_conv |\n",
       "| 1 | post_padding | 0.5284553 | 1_conv |\n",
       "| 2 | post_padding | 0.5121951 | 1_conv |\n",
       "| 3 | post_padding | 0.5247029 | 1_conv |\n",
       "| 4 | post_padding | 0.5247029 | 1_conv |\n",
       "\n"
      ],
      "text/plain": [
       "  index type_padding accuracy  architecture\n",
       "1 0     post_padding 0.5472170 1_conv      \n",
       "2 1     post_padding 0.5284553 1_conv      \n",
       "3 2     post_padding 0.5121951 1_conv      \n",
       "4 3     post_padding 0.5247029 1_conv      \n",
       "5 4     post_padding 0.5247029 1_conv      "
      ]
     },
     "metadata": {},
     "output_type": "display_data"
    }
   ],
   "source": [
    "#cambio el nombre a las columnas\n",
    "colnames(accu_task2) <- c(\"index\", \"type_padding\", \"accuracy\", \"architecture\")\n",
    "accu_task2[0:5,]"
   ]
  },
  {
   "cell_type": "code",
   "execution_count": 91,
   "metadata": {},
   "outputs": [],
   "source": [
    "lm_accu_task2 <- lm(accuracy~architecture+type_padding+ type_padding:architecture, data=accu_task2)"
   ]
  },
  {
   "cell_type": "code",
   "execution_count": 92,
   "metadata": {},
   "outputs": [
    {
     "data": {
      "text/plain": [
       "\n",
       "Call:\n",
       "lm(formula = accuracy ~ architecture + type_padding + type_padding:architecture, \n",
       "    data = accu_task2)\n",
       "\n",
       "Residuals:\n",
       "      Min        1Q    Median        3Q       Max \n",
       "-0.058286 -0.006551  0.000000  0.008456  0.043340 \n",
       "\n",
       "Coefficients:\n",
       "                                                  Estimate Std. Error t value\n",
       "(Intercept)                                       0.547923   0.004672 117.279\n",
       "architecturebi_lstm                              -0.185580   0.006607 -28.088\n",
       "architectureonly_denses                          -0.012088   0.006607  -1.830\n",
       "architecturestack_conv                           -0.021379   0.006607  -3.236\n",
       "type_paddingext_padding                          -0.009086   0.006607  -1.375\n",
       "type_paddingmid_padding                          -0.009086   0.006607  -1.375\n",
       "type_paddingpost_padding                         -0.017716   0.006607  -2.681\n",
       "type_paddingpre_padding                          -0.015528   0.006607  -2.350\n",
       "type_paddingrnd_padding                          -0.092763   0.006607 -14.040\n",
       "type_paddingstrf_padding                          0.008112   0.006607   1.228\n",
       "type_paddingzoom_padding                          0.002234   0.006607   0.338\n",
       "architecturebi_lstm:type_paddingext_padding       0.008470   0.009344   0.906\n",
       "architectureonly_denses:type_paddingext_padding   0.017154   0.009344   1.836\n",
       "architecturestack_conv:type_paddingext_padding    0.032011   0.009344   3.426\n",
       "architecturebi_lstm:type_paddingmid_padding       0.050558   0.009344   5.411\n",
       "architectureonly_denses:type_paddingmid_padding   0.018154   0.009344   1.943\n",
       "architecturestack_conv:type_paddingmid_padding    0.051711   0.009344   5.534\n",
       "architecturebi_lstm:type_paddingpost_padding      0.031359   0.009344   3.356\n",
       "architectureonly_denses:type_paddingpost_padding  0.013589   0.009344   1.454\n",
       "architecturestack_conv:type_paddingpost_padding   0.051211   0.009344   5.481\n",
       "architecturebi_lstm:type_paddingpre_padding       0.033986   0.009344   3.637\n",
       "architectureonly_denses:type_paddingpre_padding   0.021656   0.009344   2.318\n",
       "architecturestack_conv:type_paddingpre_padding    0.033825   0.009344   3.620\n",
       "architecturebi_lstm:type_paddingrnd_padding       0.091271   0.009344   9.768\n",
       "architectureonly_denses:type_paddingrnd_padding   0.029974   0.009344   3.208\n",
       "architecturestack_conv:type_paddingrnd_padding    0.075163   0.009344   8.044\n",
       "architecturebi_lstm:type_paddingstrf_padding     -0.009604   0.009344  -1.028\n",
       "architectureonly_denses:type_paddingstrf_padding  0.012213   0.009344   1.307\n",
       "architecturestack_conv:type_paddingstrf_padding   0.030760   0.009344   3.292\n",
       "architecturebi_lstm:type_paddingzoom_padding      0.004842   0.009344   0.518\n",
       "architectureonly_denses:type_paddingzoom_padding -0.010551   0.009344  -1.129\n",
       "architecturestack_conv:type_paddingzoom_padding   0.001930   0.009344   0.207\n",
       "                                                 Pr(>|t|)    \n",
       "(Intercept)                                       < 2e-16 ***\n",
       "architecturebi_lstm                               < 2e-16 ***\n",
       "architectureonly_denses                          0.068354 .  \n",
       "architecturestack_conv                           0.001354 ** \n",
       "type_paddingext_padding                          0.170142    \n",
       "type_paddingmid_padding                          0.170142    \n",
       "type_paddingpost_padding                         0.007754 ** \n",
       "type_paddingpre_padding                          0.019442 *  \n",
       "type_paddingrnd_padding                           < 2e-16 ***\n",
       "type_paddingstrf_padding                         0.220525    \n",
       "type_paddingzoom_padding                         0.735572    \n",
       "architecturebi_lstm:type_paddingext_padding      0.365466    \n",
       "architectureonly_denses:type_paddingext_padding  0.067417 .  \n",
       "architecturestack_conv:type_paddingext_padding   0.000702 ***\n",
       "architecturebi_lstm:type_paddingmid_padding      1.32e-07 ***\n",
       "architectureonly_denses:type_paddingmid_padding  0.053003 .  \n",
       "architecturestack_conv:type_paddingmid_padding   7.03e-08 ***\n",
       "architecturebi_lstm:type_paddingpost_padding     0.000897 ***\n",
       "architectureonly_denses:type_paddingpost_padding 0.146951    \n",
       "architecturestack_conv:type_paddingpost_padding  9.26e-08 ***\n",
       "architecturebi_lstm:type_paddingpre_padding      0.000326 ***\n",
       "architectureonly_denses:type_paddingpre_padding  0.021166 *  \n",
       "architecturestack_conv:type_paddingpre_padding   0.000348 ***\n",
       "architecturebi_lstm:type_paddingrnd_padding       < 2e-16 ***\n",
       "architectureonly_denses:type_paddingrnd_padding  0.001488 ** \n",
       "architecturestack_conv:type_paddingrnd_padding   2.28e-14 ***\n",
       "architecturebi_lstm:type_paddingstrf_padding     0.304877    \n",
       "architectureonly_denses:type_paddingstrf_padding 0.192236    \n",
       "architecturestack_conv:type_paddingstrf_padding  0.001119 ** \n",
       "architecturebi_lstm:type_paddingzoom_padding     0.604693    \n",
       "architectureonly_denses:type_paddingzoom_padding 0.259747    \n",
       "architecturestack_conv:type_paddingzoom_padding  0.836524    \n",
       "---\n",
       "Signif. codes:  0 ‘***’ 0.001 ‘**’ 0.01 ‘*’ 0.05 ‘.’ 0.1 ‘ ’ 1\n",
       "\n",
       "Residual standard error: 0.01477 on 288 degrees of freedom\n",
       "Multiple R-squared:  0.9659,\tAdjusted R-squared:  0.9623 \n",
       "F-statistic: 263.5 on 31 and 288 DF,  p-value: < 2.2e-16\n"
      ]
     },
     "metadata": {},
     "output_type": "display_data"
    }
   ],
   "source": [
    "summary(lm_accu_task2)"
   ]
  },
  {
   "cell_type": "markdown",
   "metadata": {},
   "source": [
    "## Construyendo tablas"
   ]
  },
  {
   "cell_type": "code",
   "execution_count": 107,
   "metadata": {},
   "outputs": [
    {
     "name": "stdout",
     "output_type": "stream",
     "text": [
      "\n",
      "% Table created by stargazer v.5.2.2 by Marek Hlavac, Harvard University. E-mail: hlavac at fas.harvard.edu\n",
      "% Date and time: Wed, Oct 30, 2019 - 12:29:50 PM\n",
      "% Requires LaTeX packages: dcolumn \n",
      "\\begin{table}[!htbp] \\centering \n",
      "  \\caption{Linear models on F1 score} \n",
      "  \\label{} \n",
      "\\begin{tabular}{@{\\extracolsep{5pt}}lD{.}{.}{-3} D{.}{.}{-3} } \n",
      "\\\\[-1.8ex]\\hline \n",
      "\\hline \\\\[-1.8ex] \n",
      " & \\multicolumn{2}{c}{\\textit{Dependent variable:}} \\\\ \n",
      "\\cline{2-3} \n",
      "\\\\[-1.8ex] & \\multicolumn{2}{c}{accuracy} \\\\ \n",
      "\\\\[-1.8ex] & \\multicolumn{1}{c}{(1)} & \\multicolumn{1}{c}{(2)}\\\\ \n",
      "\\hline \\\\[-1.8ex] \n",
      " architecturebi\\_lstm & -0.040^{***} & -0.186^{***} \\\\ \n",
      "  & (0.009) & (0.007) \\\\ \n",
      "  & & \\\\ \n",
      " architectureonly\\_denses & 0.143^{***} & -0.012^{*} \\\\ \n",
      "  & (0.009) & (0.007) \\\\ \n",
      "  & & \\\\ \n",
      " architecturestack\\_conv & 0.033^{***} & -0.021^{***} \\\\ \n",
      "  & (0.009) & (0.007) \\\\ \n",
      "  & & \\\\ \n",
      " type\\_paddingext\\_padding & 0.085^{***} & -0.009 \\\\ \n",
      "  & (0.009) & (0.007) \\\\ \n",
      "  & & \\\\ \n",
      " type\\_paddingmid\\_padding & 0.110^{***} & -0.009 \\\\ \n",
      "  & (0.009) & (0.007) \\\\ \n",
      "  & & \\\\ \n",
      " type\\_paddingpost\\_padding & 0.115^{***} & -0.018^{***} \\\\ \n",
      "  & (0.009) & (0.007) \\\\ \n",
      "  & & \\\\ \n",
      " type\\_paddingpre\\_padding & 0.101^{***} & -0.016^{**} \\\\ \n",
      "  & (0.009) & (0.007) \\\\ \n",
      "  & & \\\\ \n",
      " type\\_paddingrnd\\_padding & 0.032^{***} & -0.093^{***} \\\\ \n",
      "  & (0.009) & (0.007) \\\\ \n",
      "  & & \\\\ \n",
      " type\\_paddingstrf\\_padding & 0.110^{***} & 0.008 \\\\ \n",
      "  & (0.009) & (0.007) \\\\ \n",
      "  & & \\\\ \n",
      " type\\_paddingzoom\\_padding & 0.111^{***} & 0.002 \\\\ \n",
      "  & (0.009) & (0.007) \\\\ \n",
      "  & & \\\\ \n",
      " architecturebi\\_lstm:type\\_paddingext\\_padding & -0.123^{***} & 0.008 \\\\ \n",
      "  & (0.013) & (0.009) \\\\ \n",
      "  & & \\\\ \n",
      " architectureonly\\_denses:type\\_paddingext\\_padding & -0.089^{***} & 0.017^{*} \\\\ \n",
      "  & (0.013) & (0.009) \\\\ \n",
      "  & & \\\\ \n",
      " architecturestack\\_conv:type\\_paddingext\\_padding & 0.0004 & 0.032^{***} \\\\ \n",
      "  & (0.013) & (0.009) \\\\ \n",
      "  & & \\\\ \n",
      " architecturebi\\_lstm:type\\_paddingmid\\_padding & -0.004 & 0.051^{***} \\\\ \n",
      "  & (0.013) & (0.009) \\\\ \n",
      "  & & \\\\ \n",
      " architectureonly\\_denses:type\\_paddingmid\\_padding & -0.100^{***} & 0.018^{*} \\\\ \n",
      "  & (0.013) & (0.009) \\\\ \n",
      "  & & \\\\ \n",
      " architecturestack\\_conv:type\\_paddingmid\\_padding & -0.027^{**} & 0.052^{***} \\\\ \n",
      "  & (0.013) & (0.009) \\\\ \n",
      "  & & \\\\ \n",
      " architecturebi\\_lstm:type\\_paddingpost\\_padding & -0.027^{**} & 0.031^{***} \\\\ \n",
      "  & (0.013) & (0.009) \\\\ \n",
      "  & & \\\\ \n",
      " architectureonly\\_denses:type\\_paddingpost\\_padding & -0.116^{***} & 0.014 \\\\ \n",
      "  & (0.013) & (0.009) \\\\ \n",
      "  & & \\\\ \n",
      " architecturestack\\_conv:type\\_paddingpost\\_padding & -0.026^{**} & 0.051^{***} \\\\ \n",
      "  & (0.013) & (0.009) \\\\ \n",
      "  & & \\\\ \n",
      " architecturebi\\_lstm:type\\_paddingpre\\_padding & -0.027^{**} & 0.034^{***} \\\\ \n",
      "  & (0.013) & (0.009) \\\\ \n",
      "  & & \\\\ \n",
      " architectureonly\\_denses:type\\_paddingpre\\_padding & -0.102^{***} & 0.022^{**} \\\\ \n",
      "  & (0.013) & (0.009) \\\\ \n",
      "  & & \\\\ \n",
      " architecturestack\\_conv:type\\_paddingpre\\_padding & -0.028^{**} & 0.034^{***} \\\\ \n",
      "  & (0.013) & (0.009) \\\\ \n",
      "  & & \\\\ \n",
      " architecturebi\\_lstm:type\\_paddingrnd\\_padding & 0.003 & 0.091^{***} \\\\ \n",
      "  & (0.013) & (0.009) \\\\ \n",
      "  & & \\\\ \n",
      " architectureonly\\_denses:type\\_paddingrnd\\_padding & -0.036^{***} & 0.030^{***} \\\\ \n",
      "  & (0.013) & (0.009) \\\\ \n",
      "  & & \\\\ \n",
      " architecturestack\\_conv:type\\_paddingrnd\\_padding & -0.008 & 0.075^{***} \\\\ \n",
      "  & (0.013) & (0.009) \\\\ \n",
      "  & & \\\\ \n",
      " architecturebi\\_lstm:type\\_paddingstrf\\_padding & -0.064^{***} & -0.010 \\\\ \n",
      "  & (0.013) & (0.009) \\\\ \n",
      "  & & \\\\ \n",
      " architectureonly\\_denses:type\\_paddingstrf\\_padding & -0.081^{***} & 0.012 \\\\ \n",
      "  & (0.013) & (0.009) \\\\ \n",
      "  & & \\\\ \n",
      " architecturestack\\_conv:type\\_paddingstrf\\_padding & -0.049^{***} & 0.031^{***} \\\\ \n",
      "  & (0.013) & (0.009) \\\\ \n",
      "  & & \\\\ \n",
      " architecturebi\\_lstm:type\\_paddingzoom\\_padding & -0.028^{**} & 0.005 \\\\ \n",
      "  & (0.013) & (0.009) \\\\ \n",
      "  & & \\\\ \n",
      " architectureonly\\_denses:type\\_paddingzoom\\_padding & -0.118^{***} & -0.011 \\\\ \n",
      "  & (0.013) & (0.009) \\\\ \n",
      "  & & \\\\ \n",
      " architecturestack\\_conv:type\\_paddingzoom\\_padding & -0.039^{***} & 0.002 \\\\ \n",
      "  & (0.013) & (0.009) \\\\ \n",
      "  & & \\\\ \n",
      " Constant & 0.758^{***} & 0.548^{***} \\\\ \n",
      "  & (0.006) & (0.005) \\\\ \n",
      "  & & \\\\ \n",
      "\\hline \\\\[-1.8ex] \n",
      "Observations & \\multicolumn{1}{c}{320} & \\multicolumn{1}{c}{320} \\\\ \n",
      "R$^{2}$ & \\multicolumn{1}{c}{0.904} & \\multicolumn{1}{c}{0.966} \\\\ \n",
      "Adjusted R$^{2}$ & \\multicolumn{1}{c}{0.894} & \\multicolumn{1}{c}{0.962} \\\\ \n",
      "Residual Std. Error (df = 288) & \\multicolumn{1}{c}{0.020} & \\multicolumn{1}{c}{0.015} \\\\ \n",
      "F Statistic (df = 31; 288) & \\multicolumn{1}{c}{87.505$^{***}$} & \\multicolumn{1}{c}{263.459$^{***}$} \\\\ \n",
      "\\hline \n",
      "\\hline \\\\[-1.8ex] \n",
      "\\textit{Note:}  & \\multicolumn{2}{r}{$^{*}$p$<$0.1; $^{**}$p$<$0.05; $^{***}$p$<$0.01} \\\\ \n",
      "\\end{tabular} \n",
      "\\end{table} \n"
     ]
    }
   ],
   "source": [
    "stargazer(lm_acc_task1,lm_accu_task2, title=\"Linear models on F1 score\", align=TRUE)"
   ]
  },
  {
   "cell_type": "code",
   "execution_count": 109,
   "metadata": {},
   "outputs": [
    {
     "name": "stdout",
     "output_type": "stream",
     "text": [
      "\n",
      "% Table created by stargazer v.5.2.2 by Marek Hlavac, Harvard University. E-mail: hlavac at fas.harvard.edu\n",
      "% Date and time: Wed, Oct 30, 2019 - 12:30:37 PM\n",
      "% Requires LaTeX packages: dcolumn \n",
      "\\begin{table}[!htbp] \\centering \n",
      "  \\caption{Linear models on F1 score} \n",
      "  \\label{} \n",
      "\\begin{tabular}{@{\\extracolsep{5pt}}lD{.}{.}{-3} D{.}{.}{-3} } \n",
      "\\\\[-1.8ex]\\hline \n",
      "\\hline \\\\[-1.8ex] \n",
      " & \\multicolumn{2}{c}{\\textit{Dependent variable:}} \\\\ \n",
      "\\cline{2-3} \n",
      "\\\\[-1.8ex] & \\multicolumn{2}{c}{f1\\_score} \\\\ \n",
      "\\\\[-1.8ex] & \\multicolumn{1}{c}{(1)} & \\multicolumn{1}{c}{(2)}\\\\ \n",
      "\\hline \\\\[-1.8ex] \n",
      " architecturebi\\_lstm & -0.081^{***} & -0.436^{***} \\\\ \n",
      "  & (0.005) & (0.006) \\\\ \n",
      "  & & \\\\ \n",
      " architectureonly\\_denses & 0.063^{***} & -0.021^{***} \\\\ \n",
      "  & (0.005) & (0.006) \\\\ \n",
      "  & & \\\\ \n",
      " architecturestack\\_conv & 0.011^{**} & -0.011^{*} \\\\ \n",
      "  & (0.005) & (0.006) \\\\ \n",
      "  & & \\\\ \n",
      " enz\\_type1 & 0.024^{***} &  \\\\ \n",
      "  & (0.004) &  \\\\ \n",
      "  & & \\\\ \n",
      " enz\\_type2 &  & 0.256^{***} \\\\ \n",
      "  &  & (0.008) \\\\ \n",
      "  & & \\\\ \n",
      " enz\\_type3 &  & 0.094^{***} \\\\ \n",
      "  &  & (0.008) \\\\ \n",
      "  & & \\\\ \n",
      " enz\\_type4 &  & 0.004 \\\\ \n",
      "  &  & (0.008) \\\\ \n",
      "  & & \\\\ \n",
      " enz\\_type5 &  & 0.123^{***} \\\\ \n",
      "  &  & (0.008) \\\\ \n",
      "  & & \\\\ \n",
      " enz\\_type6 &  & 0.043^{***} \\\\ \n",
      "  &  & (0.008) \\\\ \n",
      "  & & \\\\ \n",
      " enz\\_type7 &  & 0.072^{***} \\\\ \n",
      "  &  & (0.008) \\\\ \n",
      "  & & \\\\ \n",
      " type\\_paddingext\\_padding & 0.028^{***} & 0.014 \\\\ \n",
      "  & (0.007) & (0.009) \\\\ \n",
      "  & & \\\\ \n",
      " type\\_paddingmid\\_padding & 0.078^{***} & 0.038^{***} \\\\ \n",
      "  & (0.007) & (0.009) \\\\ \n",
      "  & & \\\\ \n",
      " type\\_paddingpost\\_padding & 0.073^{***} & 0.015^{*} \\\\ \n",
      "  & (0.007) & (0.009) \\\\ \n",
      "  & & \\\\ \n",
      " type\\_paddingpre\\_padding & 0.061^{***} & 0.016^{*} \\\\ \n",
      "  & (0.007) & (0.009) \\\\ \n",
      "  & & \\\\ \n",
      " type\\_paddingrnd\\_padding & 0.021^{***} & -0.057^{***} \\\\ \n",
      "  & (0.007) & (0.009) \\\\ \n",
      "  & & \\\\ \n",
      " type\\_paddingstrf\\_padding & 0.063^{***} & 0.015^{*} \\\\ \n",
      "  & (0.007) & (0.009) \\\\ \n",
      "  & & \\\\ \n",
      " type\\_paddingzoom\\_padding & 0.065^{***} & -0.013 \\\\ \n",
      "  & (0.007) & (0.009) \\\\ \n",
      "  & & \\\\ \n",
      " Constant & 0.779^{***} & 0.448^{***} \\\\ \n",
      "  & (0.006) & (0.009) \\\\ \n",
      "  & & \\\\ \n",
      "\\hline \\\\[-1.8ex] \n",
      "Observations & \\multicolumn{1}{c}{640} & \\multicolumn{1}{c}{2,240} \\\\ \n",
      "R$^{2}$ & \\multicolumn{1}{c}{0.642} & \\multicolumn{1}{c}{0.795} \\\\ \n",
      "Adjusted R$^{2}$ & \\multicolumn{1}{c}{0.636} & \\multicolumn{1}{c}{0.794} \\\\ \n",
      "Residual Std. Error & \\multicolumn{1}{c}{0.045 (df = 628)} & \\multicolumn{1}{c}{0.104 (df = 2223)} \\\\ \n",
      "F Statistic & \\multicolumn{1}{c}{102.553$^{***}$ (df = 11; 628)} & \\multicolumn{1}{c}{538.906$^{***}$ (df = 16; 2223)} \\\\ \n",
      "\\hline \n",
      "\\hline \\\\[-1.8ex] \n",
      "\\textit{Note:}  & \\multicolumn{2}{r}{$^{*}$p$<$0.1; $^{**}$p$<$0.05; $^{***}$p$<$0.01} \\\\ \n",
      "\\end{tabular} \n",
      "\\end{table} \n"
     ]
    }
   ],
   "source": [
    "stargazer(lm_f1_task1,lm_f1_task2, title=\"Linear models on F1 score\", align=TRUE)"
   ]
  },
  {
   "cell_type": "code",
   "execution_count": null,
   "metadata": {},
   "outputs": [],
   "source": []
  }
 ],
 "metadata": {
  "kernelspec": {
   "display_name": "R",
   "language": "R",
   "name": "ir"
  },
  "language_info": {
   "codemirror_mode": "r",
   "file_extension": ".r",
   "mimetype": "text/x-r-source",
   "name": "R",
   "pygments_lexer": "r",
   "version": "3.4.4"
  }
 },
 "nbformat": 4,
 "nbformat_minor": 2
}
