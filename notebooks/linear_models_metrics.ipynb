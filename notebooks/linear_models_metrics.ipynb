{
 "cells": [
  {
   "cell_type": "code",
   "execution_count": 114,
   "metadata": {},
   "outputs": [
    {
     "name": "stderr",
     "output_type": "stream",
     "text": [
      "Installing package into ‘/home/angela/R/x86_64-pc-linux-gnu-library/3.4’\n",
      "(as ‘lib’ is unspecified)\n",
      "Warning message:\n",
      "“package ‘mvtnorm’ is not available (for R version 3.4.4)”Installing package into ‘/home/angela/R/x86_64-pc-linux-gnu-library/3.4’\n",
      "(as ‘lib’ is unspecified)\n",
      "Warning message:\n",
      "“dependency ‘mvtnorm’ is not available”Warning message in install.packages(\"emmeans\"):\n",
      "“installation of package ‘emmeans’ had non-zero exit status”"
     ]
    }
   ],
   "source": [
    "# install.packages(\"stargazer\")\n",
    "#install.packages(\"mvtnorm\")\n",
    "#install.packages(\"emmeans\")"
   ]
  },
  {
   "cell_type": "code",
   "execution_count": 112,
   "metadata": {},
   "outputs": [
    {
     "ename": "ERROR",
     "evalue": "Error in library(\"emmeans\"): there is no package called ‘emmeans’\n",
     "output_type": "error",
     "traceback": [
      "Error in library(\"emmeans\"): there is no package called ‘emmeans’\nTraceback:\n",
      "1. library(\"emmeans\")",
      "2. stop(txt, domain = NA)"
     ]
    }
   ],
   "source": [
    "library(\"reshape2\")\n",
    "library(\"stargazer\")\n",
    "#library(\"emmeans\")"
   ]
  },
  {
   "cell_type": "code",
   "execution_count": 2,
   "metadata": {},
   "outputs": [],
   "source": [
    "absPath = '/home/angela/padding_EBI/'"
   ]
  },
  {
   "cell_type": "code",
   "execution_count": null,
   "metadata": {},
   "outputs": [],
   "source": [
    "file_scores <- \"scores_final.csv\"\n",
    "file_accuracy <- \"accu_final.csv\""
   ]
  },
  {
   "cell_type": "markdown",
   "metadata": {},
   "source": [
    "# Task 1"
   ]
  },
  {
   "cell_type": "code",
   "execution_count": 6,
   "metadata": {},
   "outputs": [],
   "source": [
    "task <- \"task1/\"\n",
    "\n",
    "path_scores_task1 <- paste0(absPath, \"data/results/\", task, file_scores)\n",
    "path_accu_task1 <- paste0(absPath, \"data/results/\", task, file_accuracy)\n",
    "\n",
    "scores_task1 <- read.csv(file=path_scores_task1, header=TRUE, sep=\",\")\n",
    "accu_task1 <- read.csv(file=path_accu_task1, header=TRUE, sep=\",\")"
   ]
  },
  {
   "cell_type": "markdown",
   "metadata": {},
   "source": [
    "## Scores"
   ]
  },
  {
   "cell_type": "code",
   "execution_count": 13,
   "metadata": {},
   "outputs": [
    {
     "data": {
      "text/html": [
       "<table>\n",
       "<caption>A data.frame: 5 x 7</caption>\n",
       "<thead>\n",
       "\t<tr><th scope=col>X</th><th scope=col>enz_type</th><th scope=col>index</th><th scope=col>type_padding</th><th scope=col>architecture</th><th scope=col>variable</th><th scope=col>value</th></tr>\n",
       "\t<tr><th scope=col>&lt;int&gt;</th><th scope=col>&lt;fct&gt;</th><th scope=col>&lt;int&gt;</th><th scope=col>&lt;fct&gt;</th><th scope=col>&lt;fct&gt;</th><th scope=col>&lt;fct&gt;</th><th scope=col>&lt;dbl&gt;</th></tr>\n",
       "</thead>\n",
       "<tbody>\n",
       "\t<tr><td>0</td><td>0           </td><td>0</td><td>post_padding</td><td>1_conv</td><td>f1-score</td><td>0.8548043</td></tr>\n",
       "\t<tr><td>1</td><td>1           </td><td>0</td><td>post_padding</td><td>1_conv</td><td>f1-score</td><td>0.8642715</td></tr>\n",
       "\t<tr><td>2</td><td>micro avg   </td><td>0</td><td>post_padding</td><td>1_conv</td><td>f1-score</td><td>0.8596974</td></tr>\n",
       "\t<tr><td>3</td><td>macro avg   </td><td>0</td><td>post_padding</td><td>1_conv</td><td>f1-score</td><td>0.8595379</td></tr>\n",
       "\t<tr><td>4</td><td>weighted avg</td><td>0</td><td>post_padding</td><td>1_conv</td><td>f1-score</td><td>0.8600099</td></tr>\n",
       "</tbody>\n",
       "</table>\n"
      ],
      "text/latex": [
       "A data.frame: 5 x 7\n",
       "\\begin{tabular}{r|lllllll}\n",
       " X & enz\\_type & index & type\\_padding & architecture & variable & value\\\\\n",
       " <int> & <fct> & <int> & <fct> & <fct> & <fct> & <dbl>\\\\\n",
       "\\hline\n",
       "\t 0 & 0            & 0 & post\\_padding & 1\\_conv & f1-score & 0.8548043\\\\\n",
       "\t 1 & 1            & 0 & post\\_padding & 1\\_conv & f1-score & 0.8642715\\\\\n",
       "\t 2 & micro avg    & 0 & post\\_padding & 1\\_conv & f1-score & 0.8596974\\\\\n",
       "\t 3 & macro avg    & 0 & post\\_padding & 1\\_conv & f1-score & 0.8595379\\\\\n",
       "\t 4 & weighted avg & 0 & post\\_padding & 1\\_conv & f1-score & 0.8600099\\\\\n",
       "\\end{tabular}\n"
      ],
      "text/markdown": [
       "\n",
       "A data.frame: 5 x 7\n",
       "\n",
       "| X &lt;int&gt; | enz_type &lt;fct&gt; | index &lt;int&gt; | type_padding &lt;fct&gt; | architecture &lt;fct&gt; | variable &lt;fct&gt; | value &lt;dbl&gt; |\n",
       "|---|---|---|---|---|---|---|\n",
       "| 0 | 0            | 0 | post_padding | 1_conv | f1-score | 0.8548043 |\n",
       "| 1 | 1            | 0 | post_padding | 1_conv | f1-score | 0.8642715 |\n",
       "| 2 | micro avg    | 0 | post_padding | 1_conv | f1-score | 0.8596974 |\n",
       "| 3 | macro avg    | 0 | post_padding | 1_conv | f1-score | 0.8595379 |\n",
       "| 4 | weighted avg | 0 | post_padding | 1_conv | f1-score | 0.8600099 |\n",
       "\n"
      ],
      "text/plain": [
       "  X enz_type     index type_padding architecture variable value    \n",
       "1 0 0            0     post_padding 1_conv       f1-score 0.8548043\n",
       "2 1 1            0     post_padding 1_conv       f1-score 0.8642715\n",
       "3 2 micro avg    0     post_padding 1_conv       f1-score 0.8596974\n",
       "4 3 macro avg    0     post_padding 1_conv       f1-score 0.8595379\n",
       "5 4 weighted avg 0     post_padding 1_conv       f1-score 0.8600099"
      ]
     },
     "metadata": {},
     "output_type": "display_data"
    }
   ],
   "source": [
    "scores_task1[0:5,]\n",
    "scores_task1$X <- NULL"
   ]
  },
  {
   "cell_type": "code",
   "execution_count": 16,
   "metadata": {},
   "outputs": [
    {
     "data": {
      "text/html": [
       "<dl class=dl-horizontal>\n",
       "\t<dt>enz_type</dt>\n",
       "\t\t<dd>'factor'</dd>\n",
       "\t<dt>index</dt>\n",
       "\t\t<dd>'integer'</dd>\n",
       "\t<dt>type_padding</dt>\n",
       "\t\t<dd>'factor'</dd>\n",
       "\t<dt>architecture</dt>\n",
       "\t\t<dd>'factor'</dd>\n",
       "\t<dt>variable</dt>\n",
       "\t\t<dd>'factor'</dd>\n",
       "\t<dt>value</dt>\n",
       "\t\t<dd>'numeric'</dd>\n",
       "</dl>\n"
      ],
      "text/latex": [
       "\\begin{description*}\n",
       "\\item[enz\\textbackslash{}\\_type] 'factor'\n",
       "\\item[index] 'integer'\n",
       "\\item[type\\textbackslash{}\\_padding] 'factor'\n",
       "\\item[architecture] 'factor'\n",
       "\\item[variable] 'factor'\n",
       "\\item[value] 'numeric'\n",
       "\\end{description*}\n"
      ],
      "text/markdown": [
       "enz_type\n",
       ":   'factor'index\n",
       ":   'integer'type_padding\n",
       ":   'factor'architecture\n",
       ":   'factor'variable\n",
       ":   'factor'value\n",
       ":   'numeric'\n",
       "\n"
      ],
      "text/plain": [
       "    enz_type        index type_padding architecture     variable        value \n",
       "    \"factor\"    \"integer\"     \"factor\"     \"factor\"     \"factor\"    \"numeric\" "
      ]
     },
     "metadata": {},
     "output_type": "display_data"
    }
   ],
   "source": [
    "#filtering \n",
    "scores_task1 <- scores_task1[scores_task1$enz_type %in% c(0,1),]\n",
    "\n",
    "sapply(scores_task1, class)"
   ]
  },
  {
   "cell_type": "code",
   "execution_count": 62,
   "metadata": {},
   "outputs": [
    {
     "data": {
      "text/html": [
       "<dl class=dl-horizontal>\n",
       "\t<dt>0</dt>\n",
       "\t\t<dd>960</dd>\n",
       "\t<dt>1</dt>\n",
       "\t\t<dd>960</dd>\n",
       "\t<dt>macro avg</dt>\n",
       "\t\t<dd>0</dd>\n",
       "\t<dt>micro avg</dt>\n",
       "\t\t<dd>0</dd>\n",
       "\t<dt>weighted avg</dt>\n",
       "\t\t<dd>0</dd>\n",
       "</dl>\n"
      ],
      "text/latex": [
       "\\begin{description*}\n",
       "\\item[0] 960\n",
       "\\item[1] 960\n",
       "\\item[macro avg] 0\n",
       "\\item[micro avg] 0\n",
       "\\item[weighted avg] 0\n",
       "\\end{description*}\n"
      ],
      "text/markdown": [
       "0\n",
       ":   9601\n",
       ":   960macro avg\n",
       ":   0micro avg\n",
       ":   0weighted avg\n",
       ":   0\n",
       "\n"
      ],
      "text/plain": [
       "           0            1    macro avg    micro avg weighted avg \n",
       "         960          960            0            0            0 "
      ]
     },
     "metadata": {},
     "output_type": "display_data"
    }
   ],
   "source": [
    "summary(scores_task1$enz_type)"
   ]
  },
  {
   "cell_type": "code",
   "execution_count": 31,
   "metadata": {},
   "outputs": [],
   "source": [
    "# habria que hacer un unmelt de variable-value\n",
    "scores_task1_dcasted <- dcast(data = scores_task1,formula = enz_type+index+type_padding+architecture~variable,\n",
    "                              fun.aggregate = sum,value.var = \"value\")"
   ]
  },
  {
   "cell_type": "code",
   "execution_count": 33,
   "metadata": {},
   "outputs": [
    {
     "data": {
      "text/html": [
       "<table>\n",
       "<caption>A data.frame: 5 x 7</caption>\n",
       "<thead>\n",
       "\t<tr><th scope=col>enz_type</th><th scope=col>index</th><th scope=col>type_padding</th><th scope=col>architecture</th><th scope=col>f1_score</th><th scope=col>precision</th><th scope=col>recall</th></tr>\n",
       "\t<tr><th scope=col>&lt;fct&gt;</th><th scope=col>&lt;int&gt;</th><th scope=col>&lt;fct&gt;</th><th scope=col>&lt;fct&gt;</th><th scope=col>&lt;dbl&gt;</th><th scope=col>&lt;dbl&gt;</th><th scope=col>&lt;dbl&gt;</th></tr>\n",
       "</thead>\n",
       "<tbody>\n",
       "\t<tr><td>0</td><td>0</td><td>aug_padding</td><td>1_conv     </td><td>0.7512593</td><td>0.6471795</td><td>0.8952308</td></tr>\n",
       "\t<tr><td>0</td><td>0</td><td>aug_padding</td><td>bi_lstm    </td><td>0.7167895</td><td>0.5736383</td><td>0.9551457</td></tr>\n",
       "\t<tr><td>0</td><td>0</td><td>aug_padding</td><td>only_denses</td><td>0.8760426</td><td>0.8434343</td><td>0.9112736</td></tr>\n",
       "\t<tr><td>0</td><td>0</td><td>aug_padding</td><td>stack_conv </td><td>0.7811460</td><td>0.6844007</td><td>0.9097457</td></tr>\n",
       "\t<tr><td>0</td><td>0</td><td>ext_padding</td><td>1_conv     </td><td>0.8403179</td><td>0.7971213</td><td>0.8884645</td></tr>\n",
       "</tbody>\n",
       "</table>\n"
      ],
      "text/latex": [
       "A data.frame: 5 x 7\n",
       "\\begin{tabular}{r|lllllll}\n",
       " enz\\_type & index & type\\_padding & architecture & f1\\_score & precision & recall\\\\\n",
       " <fct> & <int> & <fct> & <fct> & <dbl> & <dbl> & <dbl>\\\\\n",
       "\\hline\n",
       "\t 0 & 0 & aug\\_padding & 1\\_conv      & 0.7512593 & 0.6471795 & 0.8952308\\\\\n",
       "\t 0 & 0 & aug\\_padding & bi\\_lstm     & 0.7167895 & 0.5736383 & 0.9551457\\\\\n",
       "\t 0 & 0 & aug\\_padding & only\\_denses & 0.8760426 & 0.8434343 & 0.9112736\\\\\n",
       "\t 0 & 0 & aug\\_padding & stack\\_conv  & 0.7811460 & 0.6844007 & 0.9097457\\\\\n",
       "\t 0 & 0 & ext\\_padding & 1\\_conv      & 0.8403179 & 0.7971213 & 0.8884645\\\\\n",
       "\\end{tabular}\n"
      ],
      "text/markdown": [
       "\n",
       "A data.frame: 5 x 7\n",
       "\n",
       "| enz_type &lt;fct&gt; | index &lt;int&gt; | type_padding &lt;fct&gt; | architecture &lt;fct&gt; | f1_score &lt;dbl&gt; | precision &lt;dbl&gt; | recall &lt;dbl&gt; |\n",
       "|---|---|---|---|---|---|---|\n",
       "| 0 | 0 | aug_padding | 1_conv      | 0.7512593 | 0.6471795 | 0.8952308 |\n",
       "| 0 | 0 | aug_padding | bi_lstm     | 0.7167895 | 0.5736383 | 0.9551457 |\n",
       "| 0 | 0 | aug_padding | only_denses | 0.8760426 | 0.8434343 | 0.9112736 |\n",
       "| 0 | 0 | aug_padding | stack_conv  | 0.7811460 | 0.6844007 | 0.9097457 |\n",
       "| 0 | 0 | ext_padding | 1_conv      | 0.8403179 | 0.7971213 | 0.8884645 |\n",
       "\n"
      ],
      "text/plain": [
       "  enz_type index type_padding architecture f1_score  precision recall   \n",
       "1 0        0     aug_padding  1_conv       0.7512593 0.6471795 0.8952308\n",
       "2 0        0     aug_padding  bi_lstm      0.7167895 0.5736383 0.9551457\n",
       "3 0        0     aug_padding  only_denses  0.8760426 0.8434343 0.9112736\n",
       "4 0        0     aug_padding  stack_conv   0.7811460 0.6844007 0.9097457\n",
       "5 0        0     ext_padding  1_conv       0.8403179 0.7971213 0.8884645"
      ]
     },
     "metadata": {},
     "output_type": "display_data"
    }
   ],
   "source": [
    "#tengo que cambiar el nombre de f1-score\n",
    "colnames(scores_task1_dcasted) <- c(\"enz_type\", \"index\", \"type_padding\", \"architecture\", \"f1_score\",\n",
    "                                    \"precision\", \"recall\")\n",
    "scores_task1_dcasted[0:5,]"
   ]
  },
  {
   "cell_type": "code",
   "execution_count": 122,
   "metadata": {},
   "outputs": [],
   "source": [
    "scores_task1_dcasted$architecture <- relevel(scores_task1_dcasted$architecture, \"only_denses\")\n",
    "scores_task1_dcasted$type_padding <- relevel(scores_task1_dcasted$type_padding, \"post_padding\")"
   ]
  },
  {
   "cell_type": "code",
   "execution_count": 123,
   "metadata": {},
   "outputs": [],
   "source": [
    "lm_f1_task1_additive <- lm(f1_score~architecture+enz_type+type_padding, data=scores_task1_dcasted)"
   ]
  },
  {
   "cell_type": "code",
   "execution_count": 124,
   "metadata": {},
   "outputs": [
    {
     "data": {
      "text/plain": [
       "\n",
       "Call:\n",
       "lm(formula = f1_score ~ architecture + enz_type + type_padding, \n",
       "    data = scores_task1_dcasted)\n",
       "\n",
       "Residuals:\n",
       "     Min       1Q   Median       3Q      Max \n",
       "-0.72626 -0.01819  0.00412  0.02333  0.09002 \n",
       "\n",
       "Coefficients:\n",
       "                          Estimate Std. Error t value Pr(>|t|)    \n",
       "(Intercept)               0.915552   0.006112 149.794  < 2e-16 ***\n",
       "architecture1_conv       -0.063287   0.004990 -12.682  < 2e-16 ***\n",
       "architecturebi_lstm      -0.143906   0.004990 -28.836  < 2e-16 ***\n",
       "architecturestack_conv   -0.052351   0.004990 -10.490  < 2e-16 ***\n",
       "enz_type1                 0.024232   0.003529   6.867 1.58e-11 ***\n",
       "type_paddingaug_padding  -0.073154   0.007058 -10.365  < 2e-16 ***\n",
       "type_paddingext_padding  -0.045384   0.007058  -6.431 2.52e-10 ***\n",
       "type_paddingmid_padding   0.005152   0.007058   0.730   0.4657    \n",
       "type_paddingpre_padding  -0.011706   0.007058  -1.659   0.0977 .  \n",
       "type_paddingrnd_padding  -0.052515   0.007058  -7.441 3.30e-13 ***\n",
       "type_paddingstrf_padding -0.010308   0.007058  -1.461   0.1446    \n",
       "type_paddingzoom_padding -0.008391   0.007058  -1.189   0.2349    \n",
       "---\n",
       "Signif. codes:  0 ‘***’ 0.001 ‘**’ 0.01 ‘*’ 0.05 ‘.’ 0.1 ‘ ’ 1\n",
       "\n",
       "Residual standard error: 0.04464 on 628 degrees of freedom\n",
       "Multiple R-squared:  0.6424,\tAdjusted R-squared:  0.6361 \n",
       "F-statistic: 102.6 on 11 and 628 DF,  p-value: < 2.2e-16\n"
      ]
     },
     "metadata": {},
     "output_type": "display_data"
    }
   ],
   "source": [
    "summary(lm_f1_task1_additive)"
   ]
  },
  {
   "cell_type": "code",
   "execution_count": 130,
   "metadata": {},
   "outputs": [],
   "source": [
    "soa_arch <- c(\"stack_conv\", \"bi_lstm\")\n",
    "soa_pad <- c(\"post_padding\", \"pre_padding\", \"mid_padding\", \"ext_padding\")\n",
    "lm_f1_task1_additive_soa <- lm(f1_score~architecture+enz_type+type_padding+type_padding:architecture, \n",
    "                               data=subset(scores_task1_dcasted, architecture %in% soa_arch & type_padding %in% soa_pad))"
   ]
  },
  {
   "cell_type": "code",
   "execution_count": 131,
   "metadata": {
    "scrolled": false
   },
   "outputs": [
    {
     "data": {
      "text/plain": [
       "\n",
       "Call:\n",
       "lm(formula = f1_score ~ architecture + enz_type + type_padding + \n",
       "    type_padding:architecture, data = subset(scores_task1_dcasted, \n",
       "    architecture %in% soa_arch & type_padding %in% soa_pad))\n",
       "\n",
       "Residuals:\n",
       "     Min       1Q   Median       3Q      Max \n",
       "-0.63387 -0.01356  0.00976  0.02012  0.09387 \n",
       "\n",
       "Coefficients:\n",
       "                                                Estimate Std. Error t value\n",
       "(Intercept)                                     0.776724   0.014281  54.387\n",
       "architecturestack_conv                          0.080073   0.019042   4.205\n",
       "enz_type1                                       0.044692   0.009521   4.694\n",
       "type_paddingext_padding                        -0.142850   0.019042  -7.502\n",
       "type_paddingmid_padding                         0.020414   0.019042   1.072\n",
       "type_paddingpre_padding                        -0.014794   0.019042  -0.777\n",
       "architecturestack_conv:type_paddingext_padding  0.138917   0.026929   5.159\n",
       "architecturestack_conv:type_paddingmid_padding -0.025990   0.026929  -0.965\n",
       "architecturestack_conv:type_paddingpre_padding -0.001807   0.026929  -0.067\n",
       "                                               Pr(>|t|)    \n",
       "(Intercept)                                     < 2e-16 ***\n",
       "architecturestack_conv                         4.45e-05 ***\n",
       "enz_type1                                      5.96e-06 ***\n",
       "type_paddingext_padding                        5.02e-12 ***\n",
       "type_paddingmid_padding                           0.285    \n",
       "type_paddingpre_padding                           0.438    \n",
       "architecturestack_conv:type_paddingext_padding 7.71e-07 ***\n",
       "architecturestack_conv:type_paddingmid_padding    0.336    \n",
       "architecturestack_conv:type_paddingpre_padding    0.947    \n",
       "---\n",
       "Signif. codes:  0 ‘***’ 0.001 ‘**’ 0.01 ‘*’ 0.05 ‘.’ 0.1 ‘ ’ 1\n",
       "\n",
       "Residual standard error: 0.06022 on 151 degrees of freedom\n",
       "Multiple R-squared:  0.6151,\tAdjusted R-squared:  0.5947 \n",
       "F-statistic: 30.16 on 8 and 151 DF,  p-value: < 2.2e-16\n"
      ]
     },
     "metadata": {},
     "output_type": "display_data"
    }
   ],
   "source": [
    "summary(lm_f1_task1_additive_soa)"
   ]
  },
  {
   "cell_type": "code",
   "execution_count": 142,
   "metadata": {},
   "outputs": [],
   "source": [
    "# interactions non significant\n",
    "soa2_pad <- c(\"post_padding\", \"strf_padding\", \"rnd_padding\", \"zoom_padding\")\n",
    "lm_f1_task1_additive_soa2 <- lm(f1_score~architecture+enz_type+type_padding, \n",
    "                               data=subset(scores_task1_dcasted, architecture %in% soa_arch & type_padding %in% soa2_pad))"
   ]
  },
  {
   "cell_type": "code",
   "execution_count": 143,
   "metadata": {},
   "outputs": [
    {
     "data": {
      "text/plain": [
       "\n",
       "Call:\n",
       "lm(formula = f1_score ~ architecture + enz_type + type_padding, \n",
       "    data = subset(scores_task1_dcasted, architecture %in% soa_arch & \n",
       "        type_padding %in% soa2_pad))\n",
       "\n",
       "Residuals:\n",
       "      Min        1Q    Median        3Q       Max \n",
       "-0.125632 -0.013578  0.002155  0.016052  0.049521 \n",
       "\n",
       "Coefficients:\n",
       "                          Estimate Std. Error t value Pr(>|t|)    \n",
       "(Intercept)               0.777703   0.004489 173.256  < 2e-16 ***\n",
       "architecturestack_conv    0.075906   0.003665  20.711  < 2e-16 ***\n",
       "enz_type1                 0.046901   0.003665  12.797  < 2e-16 ***\n",
       "type_paddingrnd_padding  -0.059636   0.005183 -11.506  < 2e-16 ***\n",
       "type_paddingstrf_padding -0.032954   0.005183  -6.358 2.21e-09 ***\n",
       "type_paddingzoom_padding -0.010754   0.005183  -2.075   0.0397 *  \n",
       "---\n",
       "Signif. codes:  0 ‘***’ 0.001 ‘**’ 0.01 ‘*’ 0.05 ‘.’ 0.1 ‘ ’ 1\n",
       "\n",
       "Residual standard error: 0.02318 on 154 degrees of freedom\n",
       "Multiple R-squared:  0.8293,\tAdjusted R-squared:  0.8238 \n",
       "F-statistic: 149.6 on 5 and 154 DF,  p-value: < 2.2e-16\n"
      ]
     },
     "metadata": {},
     "output_type": "display_data"
    }
   ],
   "source": [
    "summary(lm_f1_task1_additive_soa2)"
   ]
  },
  {
   "cell_type": "code",
   "execution_count": 145,
   "metadata": {},
   "outputs": [],
   "source": [
    "lm_f1_task1_additive_soa3 <- lm(f1_score~enz_type+type_padding, \n",
    "                               data=subset(scores_task1_dcasted, architecture == \"only_denses\"))"
   ]
  },
  {
   "cell_type": "code",
   "execution_count": 146,
   "metadata": {},
   "outputs": [
    {
     "data": {
      "text/plain": [
       "\n",
       "Call:\n",
       "lm(formula = f1_score ~ enz_type + type_padding, data = subset(scores_task1_dcasted, \n",
       "    architecture == \"only_denses\"))\n",
       "\n",
       "Residuals:\n",
       "      Min        1Q    Median        3Q       Max \n",
       "-0.075505 -0.008432  0.002578  0.010467  0.031178 \n",
       "\n",
       "Coefficients:\n",
       "                           Estimate Std. Error t value Pr(>|t|)    \n",
       "(Intercept)               0.8956930  0.0038765 231.057  < 2e-16 ***\n",
       "enz_type1                 0.0087738  0.0025843   3.395 0.000877 ***\n",
       "type_paddingaug_padding  -0.0001935  0.0051687  -0.037 0.970191    \n",
       "type_paddingext_padding  -0.0041699  0.0051687  -0.807 0.421071    \n",
       "type_paddingmid_padding   0.0105087  0.0051687   2.033 0.043789 *  \n",
       "type_paddingpre_padding  -0.0008379  0.0051687  -0.162 0.871442    \n",
       "type_paddingrnd_padding  -0.0041826  0.0051687  -0.809 0.419664    \n",
       "type_paddingstrf_padding  0.0300487  0.0051687   5.814 3.51e-08 ***\n",
       "type_paddingzoom_padding -0.0067748  0.0051687  -1.311 0.191932    \n",
       "---\n",
       "Signif. codes:  0 ‘***’ 0.001 ‘**’ 0.01 ‘*’ 0.05 ‘.’ 0.1 ‘ ’ 1\n",
       "\n",
       "Residual standard error: 0.01634 on 151 degrees of freedom\n",
       "Multiple R-squared:  0.368,\tAdjusted R-squared:  0.3345 \n",
       "F-statistic: 10.99 on 8 and 151 DF,  p-value: 3.726e-12\n"
      ]
     },
     "metadata": {},
     "output_type": "display_data"
    }
   ],
   "source": [
    "summary(lm_f1_task1_additive_soa3)"
   ]
  },
  {
   "cell_type": "code",
   "execution_count": 125,
   "metadata": {},
   "outputs": [],
   "source": [
    "lm_f1_task1 <- lm(f1_score~architecture+enz_type+type_padding+type_padding:architecture, data=scores_task1_dcasted)"
   ]
  },
  {
   "cell_type": "code",
   "execution_count": 126,
   "metadata": {
    "scrolled": true
   },
   "outputs": [
    {
     "data": {
      "text/plain": [
       "\n",
       "Call:\n",
       "lm(formula = f1_score ~ architecture + enz_type + type_padding + \n",
       "    type_padding:architecture, data = scores_task1_dcasted)\n",
       "\n",
       "Residuals:\n",
       "     Min       1Q   Median       3Q      Max \n",
       "-0.64410 -0.01056  0.00265  0.01684  0.10410 \n",
       "\n",
       "Coefficients:\n",
       "                                                  Estimate Std. Error t value\n",
       "(Intercept)                                      0.8879640  0.0085722 103.586\n",
       "architecture1_conv                              -0.0272441  0.0119379  -2.282\n",
       "architecturebi_lstm                             -0.1010102  0.0119379  -8.461\n",
       "architecturestack_conv                          -0.0209371  0.0119379  -1.754\n",
       "enz_type1                                        0.0242318  0.0029845   8.119\n",
       "type_paddingaug_padding                         -0.0001935  0.0119379  -0.016\n",
       "type_paddingext_padding                         -0.0041699  0.0119379  -0.349\n",
       "type_paddingmid_padding                          0.0105087  0.0119379   0.880\n",
       "type_paddingpre_padding                         -0.0008379  0.0119379  -0.070\n",
       "type_paddingrnd_padding                         -0.0041826  0.0119379  -0.350\n",
       "type_paddingstrf_padding                         0.0300487  0.0119379   2.517\n",
       "type_paddingzoom_padding                        -0.0067748  0.0119379  -0.568\n",
       "architecture1_conv:type_paddingaug_padding      -0.1165799  0.0168827  -6.905\n",
       "architecturebi_lstm:type_paddingaug_padding     -0.0863362  0.0168827  -5.114\n",
       "architecturestack_conv:type_paddingaug_padding  -0.0889266  0.0168827  -5.267\n",
       "architecture1_conv:type_paddingext_padding      -0.0264149  0.0168827  -1.565\n",
       "architecturebi_lstm:type_paddingext_padding     -0.1386802  0.0168827  -8.214\n",
       "architecturestack_conv:type_paddingext_padding   0.0002370  0.0168827   0.014\n",
       "architecture1_conv:type_paddingmid_padding      -0.0152470  0.0168827  -0.903\n",
       "architecturebi_lstm:type_paddingmid_padding      0.0099052  0.0168827   0.587\n",
       "architecturestack_conv:type_paddingmid_padding  -0.0160850  0.0168827  -0.953\n",
       "architecture1_conv:type_paddingpre_padding      -0.0137529  0.0168827  -0.815\n",
       "architecturebi_lstm:type_paddingpre_padding     -0.0139561  0.0168827  -0.827\n",
       "architecturestack_conv:type_paddingpre_padding  -0.0157633  0.0168827  -0.934\n",
       "architecture1_conv:type_paddingrnd_padding      -0.0824211  0.0168827  -4.882\n",
       "architecturebi_lstm:type_paddingrnd_padding     -0.0481745  0.0168827  -2.853\n",
       "architecturestack_conv:type_paddingrnd_padding  -0.0627333  0.0168827  -3.716\n",
       "architecture1_conv:type_paddingstrf_padding     -0.0354225  0.0168827  -2.098\n",
       "architecturebi_lstm:type_paddingstrf_padding    -0.0680143  0.0168827  -4.029\n",
       "architecturestack_conv:type_paddingstrf_padding -0.0579909  0.0168827  -3.435\n",
       "architecture1_conv:type_paddingzoom_padding      0.0014925  0.0168827   0.088\n",
       "architecturebi_lstm:type_paddingzoom_padding     0.0020874  0.0168827   0.124\n",
       "architecturestack_conv:type_paddingzoom_padding -0.0100454  0.0168827  -0.595\n",
       "                                                Pr(>|t|)    \n",
       "(Intercept)                                      < 2e-16 ***\n",
       "architecture1_conv                              0.022825 *  \n",
       "architecturebi_lstm                              < 2e-16 ***\n",
       "architecturestack_conv                          0.079963 .  \n",
       "enz_type1                                       2.62e-15 ***\n",
       "type_paddingaug_padding                         0.987075    \n",
       "type_paddingext_padding                         0.726985    \n",
       "type_paddingmid_padding                         0.379055    \n",
       "type_paddingpre_padding                         0.944070    \n",
       "type_paddingrnd_padding                         0.726189    \n",
       "type_paddingstrf_padding                        0.012089 *  \n",
       "type_paddingzoom_padding                        0.570579    \n",
       "architecture1_conv:type_paddingaug_padding      1.27e-11 ***\n",
       "architecturebi_lstm:type_paddingaug_padding     4.24e-07 ***\n",
       "architecturestack_conv:type_paddingaug_padding  1.92e-07 ***\n",
       "architecture1_conv:type_paddingext_padding      0.118194    \n",
       "architecturebi_lstm:type_paddingext_padding     1.29e-15 ***\n",
       "architecturestack_conv:type_paddingext_padding  0.988804    \n",
       "architecture1_conv:type_paddingmid_padding      0.366824    \n",
       "architecturebi_lstm:type_paddingmid_padding     0.557620    \n",
       "architecturestack_conv:type_paddingmid_padding  0.341095    \n",
       "architecture1_conv:type_paddingpre_padding      0.415611    \n",
       "architecturebi_lstm:type_paddingpre_padding     0.408758    \n",
       "architecturestack_conv:type_paddingpre_padding  0.350831    \n",
       "architecture1_conv:type_paddingrnd_padding      1.34e-06 ***\n",
       "architecturebi_lstm:type_paddingrnd_padding     0.004472 ** \n",
       "architecturestack_conv:type_paddingrnd_padding  0.000221 ***\n",
       "architecture1_conv:type_paddingstrf_padding     0.036304 *  \n",
       "architecturebi_lstm:type_paddingstrf_padding    6.32e-05 ***\n",
       "architecturestack_conv:type_paddingstrf_padding 0.000633 ***\n",
       "architecture1_conv:type_paddingzoom_padding     0.929585    \n",
       "architecturebi_lstm:type_paddingzoom_padding    0.901639    \n",
       "architecturestack_conv:type_paddingzoom_padding 0.552055    \n",
       "---\n",
       "Signif. codes:  0 ‘***’ 0.001 ‘**’ 0.01 ‘*’ 0.05 ‘.’ 0.1 ‘ ’ 1\n",
       "\n",
       "Residual standard error: 0.03775 on 607 degrees of freedom\n",
       "Multiple R-squared:  0.7528,\tAdjusted R-squared:  0.7397 \n",
       "F-statistic: 57.75 on 32 and 607 DF,  p-value: < 2.2e-16\n"
      ]
     },
     "metadata": {},
     "output_type": "display_data"
    }
   ],
   "source": [
    "summary(lm_f1_task1)"
   ]
  },
  {
   "cell_type": "code",
   "execution_count": 95,
   "metadata": {},
   "outputs": [
    {
     "data": {
      "text/plain": [
       "\n",
       "Call:\n",
       "lm(formula = f1_score ~ architecture + enz_type + type_padding, \n",
       "    data = scores_task1_dcasted)\n",
       "\n",
       "Residuals:\n",
       "     Min       1Q   Median       3Q      Max \n",
       "-0.72626 -0.01819  0.00412  0.02333  0.09002 \n",
       "\n",
       "Coefficients:\n",
       "                          Estimate Std. Error t value Pr(>|t|)    \n",
       "(Intercept)               0.779111   0.006112 127.471  < 2e-16 ***\n",
       "architecturebi_lstm      -0.080619   0.004990 -16.155  < 2e-16 ***\n",
       "architectureonly_denses   0.063287   0.004990  12.682  < 2e-16 ***\n",
       "architecturestack_conv    0.010937   0.004990   2.192  0.02878 *  \n",
       "enz_type1                 0.024232   0.003529   6.867 1.58e-11 ***\n",
       "type_paddingext_padding   0.027770   0.007058   3.935 9.26e-05 ***\n",
       "type_paddingmid_padding   0.078306   0.007058  11.095  < 2e-16 ***\n",
       "type_paddingpost_padding  0.073154   0.007058  10.365  < 2e-16 ***\n",
       "type_paddingpre_padding   0.061448   0.007058   8.707  < 2e-16 ***\n",
       "type_paddingrnd_padding   0.020639   0.007058   2.924  0.00358 ** \n",
       "type_paddingstrf_padding  0.062846   0.007058   8.905  < 2e-16 ***\n",
       "type_paddingzoom_padding  0.064763   0.007058   9.176  < 2e-16 ***\n",
       "---\n",
       "Signif. codes:  0 ‘***’ 0.001 ‘**’ 0.01 ‘*’ 0.05 ‘.’ 0.1 ‘ ’ 1\n",
       "\n",
       "Residual standard error: 0.04464 on 628 degrees of freedom\n",
       "Multiple R-squared:  0.6424,\tAdjusted R-squared:  0.6361 \n",
       "F-statistic: 102.6 on 11 and 628 DF,  p-value: < 2.2e-16\n"
      ]
     },
     "metadata": {},
     "output_type": "display_data"
    }
   ],
   "source": [
    "lm_f1_task1 <- lm(f1_score~architecture+enz_type+type_padding, data=scores_task1_dcasted)\n",
    "summary(lm_f1_task1)"
   ]
  },
  {
   "cell_type": "code",
   "execution_count": 111,
   "metadata": {},
   "outputs": [],
   "source": [
    "# stargazer(lm_f1_task1, title=\"Linear models on F1 score\", align=TRUE)"
   ]
  },
  {
   "cell_type": "code",
   "execution_count": 147,
   "metadata": {},
   "outputs": [],
   "source": [
    "soa_pad <- c(\"post_padding\", \"strf_padding\")\n",
    "lm_f1_task1_soa4 <- lm(f1_score~architecture+enz_type+type_padding+type_padding:architecture, \n",
    "                               data=subset(scores_task1_dcasted, type_padding %in% soa_pad))"
   ]
  },
  {
   "cell_type": "code",
   "execution_count": 148,
   "metadata": {},
   "outputs": [
    {
     "data": {
      "text/plain": [
       "\n",
       "Call:\n",
       "lm(formula = f1_score ~ architecture + enz_type + type_padding + \n",
       "    type_padding:architecture, data = subset(scores_task1_dcasted, \n",
       "    type_padding %in% soa_pad))\n",
       "\n",
       "Residuals:\n",
       "      Min        1Q    Median        3Q       Max \n",
       "-0.133528 -0.009068 -0.000109  0.012975  0.037458 \n",
       "\n",
       "Coefficients:\n",
       "                                                 Estimate Std. Error t value\n",
       "(Intercept)                                      0.886609   0.004840 183.167\n",
       "architecture1_conv                              -0.027244   0.006454  -4.221\n",
       "architecturebi_lstm                             -0.101010   0.006454 -15.651\n",
       "architecturestack_conv                          -0.020937   0.006454  -3.244\n",
       "enz_type1                                        0.026942   0.003227   8.349\n",
       "type_paddingstrf_padding                         0.030049   0.006454   4.656\n",
       "architecture1_conv:type_paddingstrf_padding     -0.035423   0.009127  -3.881\n",
       "architecturebi_lstm:type_paddingstrf_padding    -0.068014   0.009127  -7.452\n",
       "architecturestack_conv:type_paddingstrf_padding -0.057991   0.009127  -6.354\n",
       "                                                Pr(>|t|)    \n",
       "(Intercept)                                      < 2e-16 ***\n",
       "architecture1_conv                              4.18e-05 ***\n",
       "architecturebi_lstm                              < 2e-16 ***\n",
       "architecturestack_conv                          0.001451 ** \n",
       "enz_type1                                       4.08e-14 ***\n",
       "type_paddingstrf_padding                        7.01e-06 ***\n",
       "architecture1_conv:type_paddingstrf_padding     0.000155 ***\n",
       "architecturebi_lstm:type_paddingstrf_padding    6.63e-12 ***\n",
       "architecturestack_conv:type_paddingstrf_padding 2.35e-09 ***\n",
       "---\n",
       "Signif. codes:  0 ‘***’ 0.001 ‘**’ 0.01 ‘*’ 0.05 ‘.’ 0.1 ‘ ’ 1\n",
       "\n",
       "Residual standard error: 0.02041 on 151 degrees of freedom\n",
       "Multiple R-squared:  0.8754,\tAdjusted R-squared:  0.8688 \n",
       "F-statistic: 132.6 on 8 and 151 DF,  p-value: < 2.2e-16\n"
      ]
     },
     "metadata": {},
     "output_type": "display_data"
    }
   ],
   "source": [
    "summary(lm_f1_task1_soa4)"
   ]
  },
  {
   "cell_type": "code",
   "execution_count": 187,
   "metadata": {},
   "outputs": [
    {
     "data": {
      "text/plain": [
       "\n",
       "Call:\n",
       "lm(formula = f1_score ~ architecture + enz_type + type_padding + \n",
       "    type_padding:architecture, data = subset(scores_task1_dcasted, \n",
       "    type_padding %in% soa_pad))\n",
       "\n",
       "Residuals:\n",
       "      Min        1Q    Median        3Q       Max \n",
       "-0.173831 -0.012287  0.003771  0.013166  0.081870 \n",
       "\n",
       "Coefficients:\n",
       "                                                  Estimate Std. Error t value\n",
       "(Intercept)                                      0.8941772  0.0071540 124.989\n",
       "architecture1_conv                              -0.0272441  0.0097204  -2.803\n",
       "architecturebi_lstm                             -0.1010102  0.0097204 -10.392\n",
       "architecturestack_conv                          -0.0209371  0.0097204  -2.154\n",
       "enz_type1                                        0.0118053  0.0039684   2.975\n",
       "type_paddingaug_padding                         -0.0001935  0.0097204  -0.020\n",
       "type_paddingstrf_padding                         0.0300487  0.0097204   3.091\n",
       "architecture1_conv:type_paddingaug_padding      -0.1165799  0.0137468  -8.481\n",
       "architecturebi_lstm:type_paddingaug_padding     -0.0863362  0.0137468  -6.280\n",
       "architecturestack_conv:type_paddingaug_padding  -0.0889266  0.0137468  -6.469\n",
       "architecture1_conv:type_paddingstrf_padding     -0.0354225  0.0137468  -2.577\n",
       "architecturebi_lstm:type_paddingstrf_padding    -0.0680143  0.0137468  -4.948\n",
       "architecturestack_conv:type_paddingstrf_padding -0.0579909  0.0137468  -4.219\n",
       "                                                Pr(>|t|)    \n",
       "(Intercept)                                      < 2e-16 ***\n",
       "architecture1_conv                               0.00550 ** \n",
       "architecturebi_lstm                              < 2e-16 ***\n",
       "architecturestack_conv                           0.03230 *  \n",
       "enz_type1                                        0.00325 ** \n",
       "type_paddingaug_padding                          0.98414    \n",
       "type_paddingstrf_padding                         0.00224 ** \n",
       "architecture1_conv:type_paddingaug_padding      2.89e-15 ***\n",
       "architecturebi_lstm:type_paddingaug_padding     1.70e-09 ***\n",
       "architecturestack_conv:type_paddingaug_padding  5.99e-10 ***\n",
       "architecture1_conv:type_paddingstrf_padding      0.01061 *  \n",
       "architecturebi_lstm:type_paddingstrf_padding    1.46e-06 ***\n",
       "architecturestack_conv:type_paddingstrf_padding 3.56e-05 ***\n",
       "---\n",
       "Signif. codes:  0 ‘***’ 0.001 ‘**’ 0.01 ‘*’ 0.05 ‘.’ 0.1 ‘ ’ 1\n",
       "\n",
       "Residual standard error: 0.03074 on 227 degrees of freedom\n",
       "Multiple R-squared:  0.8307,\tAdjusted R-squared:  0.8217 \n",
       "F-statistic:  92.8 on 12 and 227 DF,  p-value: < 2.2e-16\n"
      ]
     },
     "metadata": {},
     "output_type": "display_data"
    }
   ],
   "source": [
    "soa_pad <- c(\"post_padding\", \"strf_padding\", \"aug_padding\")\n",
    "lm_f1_task1_soa5 <- lm(f1_score~architecture+enz_type+type_padding+type_padding:architecture, \n",
    "                               data=subset(scores_task1_dcasted, type_padding %in% soa_pad))\n",
    "summary(lm_f1_task1_soa5)"
   ]
  },
  {
   "cell_type": "code",
   "execution_count": 191,
   "metadata": {},
   "outputs": [
    {
     "data": {
      "text/plain": [
       "\n",
       "Call:\n",
       "lm(formula = f1_score ~ architecture + enz_type + type_padding + \n",
       "    type_padding:architecture, data = subset(scores_task1_dcasted_aug, \n",
       "    type_padding %in% soa_pad))\n",
       "\n",
       "Residuals:\n",
       "      Min        1Q    Median        3Q       Max \n",
       "-0.173831 -0.012287  0.003771  0.013166  0.081870 \n",
       "\n",
       "Coefficients:\n",
       "                                                  Estimate Std. Error t value\n",
       "(Intercept)                                      0.8939838  0.0071540 124.962\n",
       "architecture1_conv                              -0.1438240  0.0097204 -14.796\n",
       "architecturebi_lstm                             -0.1873464  0.0097204 -19.273\n",
       "architecturestack_conv                          -0.1098636  0.0097204 -11.302\n",
       "enz_type1                                        0.0118053  0.0039684   2.975\n",
       "type_paddingpost_padding                         0.0001935  0.0097204   0.020\n",
       "type_paddingstrf_padding                         0.0302421  0.0097204   3.111\n",
       "architecture1_conv:type_paddingpost_padding      0.1165799  0.0137468   8.481\n",
       "architecturebi_lstm:type_paddingpost_padding     0.0863362  0.0137468   6.280\n",
       "architecturestack_conv:type_paddingpost_padding  0.0889266  0.0137468   6.469\n",
       "architecture1_conv:type_paddingstrf_padding      0.0811574  0.0137468   5.904\n",
       "architecturebi_lstm:type_paddingstrf_padding     0.0183219  0.0137468   1.333\n",
       "architecturestack_conv:type_paddingstrf_padding  0.0309356  0.0137468   2.250\n",
       "                                                Pr(>|t|)    \n",
       "(Intercept)                                      < 2e-16 ***\n",
       "architecture1_conv                               < 2e-16 ***\n",
       "architecturebi_lstm                              < 2e-16 ***\n",
       "architecturestack_conv                           < 2e-16 ***\n",
       "enz_type1                                        0.00325 ** \n",
       "type_paddingpost_padding                         0.98414    \n",
       "type_paddingstrf_padding                         0.00210 ** \n",
       "architecture1_conv:type_paddingpost_padding     2.89e-15 ***\n",
       "architecturebi_lstm:type_paddingpost_padding    1.70e-09 ***\n",
       "architecturestack_conv:type_paddingpost_padding 5.99e-10 ***\n",
       "architecture1_conv:type_paddingstrf_padding     1.29e-08 ***\n",
       "architecturebi_lstm:type_paddingstrf_padding     0.18393    \n",
       "architecturestack_conv:type_paddingstrf_padding  0.02538 *  \n",
       "---\n",
       "Signif. codes:  0 ‘***’ 0.001 ‘**’ 0.01 ‘*’ 0.05 ‘.’ 0.1 ‘ ’ 1\n",
       "\n",
       "Residual standard error: 0.03074 on 227 degrees of freedom\n",
       "Multiple R-squared:  0.8307,\tAdjusted R-squared:  0.8217 \n",
       "F-statistic:  92.8 on 12 and 227 DF,  p-value: < 2.2e-16\n"
      ]
     },
     "metadata": {},
     "output_type": "display_data"
    }
   ],
   "source": [
    "soa_pad <- c(\"post_padding\", \"strf_padding\", \"aug_padding\")\n",
    "scores_task1_dcasted_aug <- scores_task1_dcasted\n",
    "scores_task1_dcasted_aug$type_padding <- relevel(scores_task1_dcasted_aug$type_padding, \"aug_padding\")\n",
    "lm_f1_task2_soa5 <- lm(f1_score~architecture+enz_type+type_padding+type_padding:architecture, \n",
    "                               data=subset(scores_task1_dcasted_aug, type_padding %in% soa_pad))\n",
    "summary(lm_f1_task2_soa5)"
   ]
  },
  {
   "cell_type": "markdown",
   "metadata": {},
   "source": [
    "### Accuracy"
   ]
  },
  {
   "cell_type": "code",
   "execution_count": 74,
   "metadata": {},
   "outputs": [
    {
     "data": {
      "text/html": [
       "<table>\n",
       "<caption>A data.frame: 5 x 4</caption>\n",
       "<thead>\n",
       "\t<tr><th scope=col>index</th><th scope=col>variable</th><th scope=col>value</th><th scope=col>architecture</th></tr>\n",
       "\t<tr><th scope=col>&lt;int&gt;</th><th scope=col>&lt;fct&gt;</th><th scope=col>&lt;dbl&gt;</th><th scope=col>&lt;fct&gt;</th></tr>\n",
       "</thead>\n",
       "<tbody>\n",
       "\t<tr><td>0</td><td>post_padding</td><td>0.8596974</td><td>1_conv</td></tr>\n",
       "\t<tr><td>1</td><td>post_padding</td><td>0.8820495</td><td>1_conv</td></tr>\n",
       "\t<tr><td>2</td><td>post_padding</td><td>0.8786107</td><td>1_conv</td></tr>\n",
       "\t<tr><td>3</td><td>post_padding</td><td>0.8772352</td><td>1_conv</td></tr>\n",
       "\t<tr><td>4</td><td>post_padding</td><td>0.8693260</td><td>1_conv</td></tr>\n",
       "</tbody>\n",
       "</table>\n"
      ],
      "text/latex": [
       "A data.frame: 5 x 4\n",
       "\\begin{tabular}{r|llll}\n",
       " index & variable & value & architecture\\\\\n",
       " <int> & <fct> & <dbl> & <fct>\\\\\n",
       "\\hline\n",
       "\t 0 & post\\_padding & 0.8596974 & 1\\_conv\\\\\n",
       "\t 1 & post\\_padding & 0.8820495 & 1\\_conv\\\\\n",
       "\t 2 & post\\_padding & 0.8786107 & 1\\_conv\\\\\n",
       "\t 3 & post\\_padding & 0.8772352 & 1\\_conv\\\\\n",
       "\t 4 & post\\_padding & 0.8693260 & 1\\_conv\\\\\n",
       "\\end{tabular}\n"
      ],
      "text/markdown": [
       "\n",
       "A data.frame: 5 x 4\n",
       "\n",
       "| index &lt;int&gt; | variable &lt;fct&gt; | value &lt;dbl&gt; | architecture &lt;fct&gt; |\n",
       "|---|---|---|---|\n",
       "| 0 | post_padding | 0.8596974 | 1_conv |\n",
       "| 1 | post_padding | 0.8820495 | 1_conv |\n",
       "| 2 | post_padding | 0.8786107 | 1_conv |\n",
       "| 3 | post_padding | 0.8772352 | 1_conv |\n",
       "| 4 | post_padding | 0.8693260 | 1_conv |\n",
       "\n"
      ],
      "text/plain": [
       "  index variable     value     architecture\n",
       "1 0     post_padding 0.8596974 1_conv      \n",
       "2 1     post_padding 0.8820495 1_conv      \n",
       "3 2     post_padding 0.8786107 1_conv      \n",
       "4 3     post_padding 0.8772352 1_conv      \n",
       "5 4     post_padding 0.8693260 1_conv      "
      ]
     },
     "metadata": {},
     "output_type": "display_data"
    }
   ],
   "source": [
    "accu_task1[0:5,]\n",
    "accu_task2$X <- NULL"
   ]
  },
  {
   "cell_type": "code",
   "execution_count": 11,
   "metadata": {},
   "outputs": [],
   "source": [
    "#lo hago con la accuracy pero sin el tipo de enzima"
   ]
  },
  {
   "cell_type": "code",
   "execution_count": 75,
   "metadata": {},
   "outputs": [
    {
     "data": {
      "text/html": [
       "<dl class=dl-horizontal>\n",
       "\t<dt>index</dt>\n",
       "\t\t<dd>'integer'</dd>\n",
       "\t<dt>variable</dt>\n",
       "\t\t<dd>'factor'</dd>\n",
       "\t<dt>value</dt>\n",
       "\t\t<dd>'numeric'</dd>\n",
       "\t<dt>architecture</dt>\n",
       "\t\t<dd>'factor'</dd>\n",
       "</dl>\n"
      ],
      "text/latex": [
       "\\begin{description*}\n",
       "\\item[index] 'integer'\n",
       "\\item[variable] 'factor'\n",
       "\\item[value] 'numeric'\n",
       "\\item[architecture] 'factor'\n",
       "\\end{description*}\n"
      ],
      "text/markdown": [
       "index\n",
       ":   'integer'variable\n",
       ":   'factor'value\n",
       ":   'numeric'architecture\n",
       ":   'factor'\n",
       "\n"
      ],
      "text/plain": [
       "       index     variable        value architecture \n",
       "   \"integer\"     \"factor\"    \"numeric\"     \"factor\" "
      ]
     },
     "metadata": {},
     "output_type": "display_data"
    }
   ],
   "source": [
    "#filtering \n",
    "sapply(accu_task1, class)"
   ]
  },
  {
   "cell_type": "code",
   "execution_count": 77,
   "metadata": {},
   "outputs": [
    {
     "data": {
      "text/html": [
       "<table>\n",
       "<caption>A data.frame: 5 x 4</caption>\n",
       "<thead>\n",
       "\t<tr><th scope=col>index</th><th scope=col>type_padding</th><th scope=col>accuracy</th><th scope=col>architecture</th></tr>\n",
       "\t<tr><th scope=col>&lt;int&gt;</th><th scope=col>&lt;fct&gt;</th><th scope=col>&lt;dbl&gt;</th><th scope=col>&lt;fct&gt;</th></tr>\n",
       "</thead>\n",
       "<tbody>\n",
       "\t<tr><td>0</td><td>post_padding</td><td>0.8596974</td><td>1_conv</td></tr>\n",
       "\t<tr><td>1</td><td>post_padding</td><td>0.8820495</td><td>1_conv</td></tr>\n",
       "\t<tr><td>2</td><td>post_padding</td><td>0.8786107</td><td>1_conv</td></tr>\n",
       "\t<tr><td>3</td><td>post_padding</td><td>0.8772352</td><td>1_conv</td></tr>\n",
       "\t<tr><td>4</td><td>post_padding</td><td>0.8693260</td><td>1_conv</td></tr>\n",
       "</tbody>\n",
       "</table>\n"
      ],
      "text/latex": [
       "A data.frame: 5 x 4\n",
       "\\begin{tabular}{r|llll}\n",
       " index & type\\_padding & accuracy & architecture\\\\\n",
       " <int> & <fct> & <dbl> & <fct>\\\\\n",
       "\\hline\n",
       "\t 0 & post\\_padding & 0.8596974 & 1\\_conv\\\\\n",
       "\t 1 & post\\_padding & 0.8820495 & 1\\_conv\\\\\n",
       "\t 2 & post\\_padding & 0.8786107 & 1\\_conv\\\\\n",
       "\t 3 & post\\_padding & 0.8772352 & 1\\_conv\\\\\n",
       "\t 4 & post\\_padding & 0.8693260 & 1\\_conv\\\\\n",
       "\\end{tabular}\n"
      ],
      "text/markdown": [
       "\n",
       "A data.frame: 5 x 4\n",
       "\n",
       "| index &lt;int&gt; | type_padding &lt;fct&gt; | accuracy &lt;dbl&gt; | architecture &lt;fct&gt; |\n",
       "|---|---|---|---|\n",
       "| 0 | post_padding | 0.8596974 | 1_conv |\n",
       "| 1 | post_padding | 0.8820495 | 1_conv |\n",
       "| 2 | post_padding | 0.8786107 | 1_conv |\n",
       "| 3 | post_padding | 0.8772352 | 1_conv |\n",
       "| 4 | post_padding | 0.8693260 | 1_conv |\n",
       "\n"
      ],
      "text/plain": [
       "  index type_padding accuracy  architecture\n",
       "1 0     post_padding 0.8596974 1_conv      \n",
       "2 1     post_padding 0.8820495 1_conv      \n",
       "3 2     post_padding 0.8786107 1_conv      \n",
       "4 3     post_padding 0.8772352 1_conv      \n",
       "5 4     post_padding 0.8693260 1_conv      "
      ]
     },
     "metadata": {},
     "output_type": "display_data"
    }
   ],
   "source": [
    "#cambio el nombre a las columnas\n",
    "colnames(accu_task1) <- c(\"index\", \"type_padding\", \"accuracy\", \"architecture\")\n",
    "accu_task1[0:5,]"
   ]
  },
  {
   "cell_type": "code",
   "execution_count": 93,
   "metadata": {},
   "outputs": [],
   "source": [
    "lm_acc_task1 <- lm(accuracy~architecture+type_padding+architecture:type_padding, data=accu_task1)"
   ]
  },
  {
   "cell_type": "code",
   "execution_count": 94,
   "metadata": {},
   "outputs": [
    {
     "data": {
      "text/plain": [
       "\n",
       "Call:\n",
       "lm(formula = accuracy ~ architecture + type_padding + architecture:type_padding, \n",
       "    data = accu_task1)\n",
       "\n",
       "Residuals:\n",
       "      Min        1Q    Median        3Q       Max \n",
       "-0.129711 -0.007806  0.001840  0.009964  0.067302 \n",
       "\n",
       "Coefficients:\n",
       "                                                   Estimate Std. Error t value\n",
       "(Intercept)                                       0.7579829  0.0064654 117.237\n",
       "architecturebi_lstm                              -0.0397180  0.0091434  -4.344\n",
       "architectureonly_denses                           0.1425329  0.0091434  15.589\n",
       "architecturestack_conv                            0.0325113  0.0091434   3.556\n",
       "type_paddingext_padding                           0.0845205  0.0091434   9.244\n",
       "type_paddingmid_padding                           0.1102427  0.0091434  12.057\n",
       "type_paddingpost_padding                          0.1152289  0.0091434  12.602\n",
       "type_paddingpre_padding                           0.1005109  0.0091434  10.993\n",
       "type_paddingrnd_padding                           0.0321134  0.0091434   3.512\n",
       "type_paddingstrf_padding                          0.1104490  0.0091434  12.080\n",
       "type_paddingzoom_padding                          0.1108273  0.0091434  12.121\n",
       "architecturebi_lstm:type_paddingext_padding      -0.1232118  0.0129308  -9.529\n",
       "architectureonly_denses:type_paddingext_padding  -0.0889566  0.0129308  -6.879\n",
       "architecturestack_conv:type_paddingext_padding    0.0004323  0.0129308   0.033\n",
       "architecturebi_lstm:type_paddingmid_padding      -0.0038514  0.0129308  -0.298\n",
       "architectureonly_denses:type_paddingmid_padding  -0.0999951  0.0129308  -7.733\n",
       "architecturestack_conv:type_paddingmid_padding   -0.0269405  0.0129308  -2.083\n",
       "architecturebi_lstm:type_paddingpost_padding     -0.0274415  0.0129308  -2.122\n",
       "architectureonly_denses:type_paddingpost_padding -0.1155384  0.0129308  -8.935\n",
       "architecturestack_conv:type_paddingpost_padding  -0.0263215  0.0129308  -2.036\n",
       "architecturebi_lstm:type_paddingpre_padding      -0.0273040  0.0129308  -2.112\n",
       "architectureonly_denses:type_paddingpre_padding  -0.1016113  0.0129308  -7.858\n",
       "architecturestack_conv:type_paddingpre_padding   -0.0281784  0.0129308  -2.179\n",
       "architecturebi_lstm:type_paddingrnd_padding       0.0034044  0.0129308   0.263\n",
       "architectureonly_denses:type_paddingrnd_padding  -0.0361024  0.0129308  -2.792\n",
       "architecturestack_conv:type_paddingrnd_padding   -0.0078896  0.0129308  -0.610\n",
       "architecturebi_lstm:type_paddingstrf_padding     -0.0637208  0.0129308  -4.928\n",
       "architectureonly_denses:type_paddingstrf_padding -0.0805315  0.0129308  -6.228\n",
       "architecturestack_conv:type_paddingstrf_padding  -0.0486048  0.0129308  -3.759\n",
       "architecturebi_lstm:type_paddingzoom_padding     -0.0281637  0.0129308  -2.178\n",
       "architectureonly_denses:type_paddingzoom_padding -0.1179456  0.0129308  -9.121\n",
       "architecturestack_conv:type_paddingzoom_padding  -0.0385636  0.0129308  -2.982\n",
       "                                                 Pr(>|t|)    \n",
       "(Intercept)                                       < 2e-16 ***\n",
       "architecturebi_lstm                              1.94e-05 ***\n",
       "architectureonly_denses                           < 2e-16 ***\n",
       "architecturestack_conv                           0.000441 ***\n",
       "type_paddingext_padding                           < 2e-16 ***\n",
       "type_paddingmid_padding                           < 2e-16 ***\n",
       "type_paddingpost_padding                          < 2e-16 ***\n",
       "type_paddingpre_padding                           < 2e-16 ***\n",
       "type_paddingrnd_padding                          0.000516 ***\n",
       "type_paddingstrf_padding                          < 2e-16 ***\n",
       "type_paddingzoom_padding                          < 2e-16 ***\n",
       "architecturebi_lstm:type_paddingext_padding       < 2e-16 ***\n",
       "architectureonly_denses:type_paddingext_padding  3.75e-11 ***\n",
       "architecturestack_conv:type_paddingext_padding   0.973353    \n",
       "architecturebi_lstm:type_paddingmid_padding      0.766032    \n",
       "architectureonly_denses:type_paddingmid_padding  1.77e-13 ***\n",
       "architecturestack_conv:type_paddingmid_padding   0.038093 *  \n",
       "architecturebi_lstm:type_paddingpost_padding     0.034676 *  \n",
       "architectureonly_denses:type_paddingpost_padding  < 2e-16 ***\n",
       "architecturestack_conv:type_paddingpost_padding  0.042709 *  \n",
       "architecturebi_lstm:type_paddingpre_padding      0.035586 *  \n",
       "architectureonly_denses:type_paddingpre_padding  7.82e-14 ***\n",
       "architecturestack_conv:type_paddingpre_padding   0.030129 *  \n",
       "architecturebi_lstm:type_paddingrnd_padding      0.792524    \n",
       "architectureonly_denses:type_paddingrnd_padding  0.005589 ** \n",
       "architecturestack_conv:type_paddingrnd_padding   0.542251    \n",
       "architecturebi_lstm:type_paddingstrf_padding     1.41e-06 ***\n",
       "architectureonly_denses:type_paddingstrf_padding 1.67e-09 ***\n",
       "architecturestack_conv:type_paddingstrf_padding  0.000207 ***\n",
       "architecturebi_lstm:type_paddingzoom_padding     0.030215 *  \n",
       "architectureonly_denses:type_paddingzoom_padding  < 2e-16 ***\n",
       "architecturestack_conv:type_paddingzoom_padding  0.003106 ** \n",
       "---\n",
       "Signif. codes:  0 ‘***’ 0.001 ‘**’ 0.01 ‘*’ 0.05 ‘.’ 0.1 ‘ ’ 1\n",
       "\n",
       "Residual standard error: 0.02045 on 288 degrees of freedom\n",
       "Multiple R-squared:  0.904,\tAdjusted R-squared:  0.8937 \n",
       "F-statistic: 87.51 on 31 and 288 DF,  p-value: < 2.2e-16\n"
      ]
     },
     "metadata": {},
     "output_type": "display_data"
    }
   ],
   "source": [
    "summary(lm_acc_task1)"
   ]
  },
  {
   "cell_type": "code",
   "execution_count": 110,
   "metadata": {},
   "outputs": [],
   "source": [
    "#stargazer(lm_acc_task1, title=\"Linear models on F1 score\", align=TRUE)"
   ]
  },
  {
   "cell_type": "markdown",
   "metadata": {},
   "source": [
    "# Task 2"
   ]
  },
  {
   "cell_type": "code",
   "execution_count": 166,
   "metadata": {},
   "outputs": [],
   "source": [
    "task <- \"task2/\"\n",
    "\n",
    "path_scores_task2 <- paste0(absPath, \"data/results/\", task, file_scores)\n",
    "path_accu_task2 <- paste0(absPath, \"data/results/\", task, file_accuracy)\n",
    "\n",
    "scores_task2 <- read.csv(file=path_scores_task2, header=TRUE, sep=\",\")\n",
    "accu_task2 <- read.csv(file=path_accu_task2, header=TRUE, sep=\",\")"
   ]
  },
  {
   "cell_type": "markdown",
   "metadata": {},
   "source": [
    "## Scores"
   ]
  },
  {
   "cell_type": "code",
   "execution_count": 167,
   "metadata": {},
   "outputs": [
    {
     "data": {
      "text/html": [
       "<table>\n",
       "<caption>A data.frame: 5 x 7</caption>\n",
       "<thead>\n",
       "\t<tr><th scope=col>X</th><th scope=col>enz_type</th><th scope=col>index</th><th scope=col>type_padding</th><th scope=col>architecture</th><th scope=col>variable</th><th scope=col>value</th></tr>\n",
       "\t<tr><th scope=col>&lt;int&gt;</th><th scope=col>&lt;fct&gt;</th><th scope=col>&lt;int&gt;</th><th scope=col>&lt;fct&gt;</th><th scope=col>&lt;fct&gt;</th><th scope=col>&lt;fct&gt;</th><th scope=col>&lt;dbl&gt;</th></tr>\n",
       "</thead>\n",
       "<tbody>\n",
       "\t<tr><td>0</td><td>1</td><td>0</td><td>post_padding</td><td>1_conv</td><td>f1-score</td><td>0.4609665</td></tr>\n",
       "\t<tr><td>1</td><td>2</td><td>0</td><td>post_padding</td><td>1_conv</td><td>f1-score</td><td>0.6056475</td></tr>\n",
       "\t<tr><td>2</td><td>3</td><td>0</td><td>post_padding</td><td>1_conv</td><td>f1-score</td><td>0.5493562</td></tr>\n",
       "\t<tr><td>3</td><td>4</td><td>0</td><td>post_padding</td><td>1_conv</td><td>f1-score</td><td>0.4986877</td></tr>\n",
       "\t<tr><td>4</td><td>5</td><td>0</td><td>post_padding</td><td>1_conv</td><td>f1-score</td><td>0.6060606</td></tr>\n",
       "</tbody>\n",
       "</table>\n"
      ],
      "text/latex": [
       "A data.frame: 5 x 7\n",
       "\\begin{tabular}{r|lllllll}\n",
       " X & enz\\_type & index & type\\_padding & architecture & variable & value\\\\\n",
       " <int> & <fct> & <int> & <fct> & <fct> & <fct> & <dbl>\\\\\n",
       "\\hline\n",
       "\t 0 & 1 & 0 & post\\_padding & 1\\_conv & f1-score & 0.4609665\\\\\n",
       "\t 1 & 2 & 0 & post\\_padding & 1\\_conv & f1-score & 0.6056475\\\\\n",
       "\t 2 & 3 & 0 & post\\_padding & 1\\_conv & f1-score & 0.5493562\\\\\n",
       "\t 3 & 4 & 0 & post\\_padding & 1\\_conv & f1-score & 0.4986877\\\\\n",
       "\t 4 & 5 & 0 & post\\_padding & 1\\_conv & f1-score & 0.6060606\\\\\n",
       "\\end{tabular}\n"
      ],
      "text/markdown": [
       "\n",
       "A data.frame: 5 x 7\n",
       "\n",
       "| X &lt;int&gt; | enz_type &lt;fct&gt; | index &lt;int&gt; | type_padding &lt;fct&gt; | architecture &lt;fct&gt; | variable &lt;fct&gt; | value &lt;dbl&gt; |\n",
       "|---|---|---|---|---|---|---|\n",
       "| 0 | 1 | 0 | post_padding | 1_conv | f1-score | 0.4609665 |\n",
       "| 1 | 2 | 0 | post_padding | 1_conv | f1-score | 0.6056475 |\n",
       "| 2 | 3 | 0 | post_padding | 1_conv | f1-score | 0.5493562 |\n",
       "| 3 | 4 | 0 | post_padding | 1_conv | f1-score | 0.4986877 |\n",
       "| 4 | 5 | 0 | post_padding | 1_conv | f1-score | 0.6060606 |\n",
       "\n"
      ],
      "text/plain": [
       "  X enz_type index type_padding architecture variable value    \n",
       "1 0 1        0     post_padding 1_conv       f1-score 0.4609665\n",
       "2 1 2        0     post_padding 1_conv       f1-score 0.6056475\n",
       "3 2 3        0     post_padding 1_conv       f1-score 0.5493562\n",
       "4 3 4        0     post_padding 1_conv       f1-score 0.4986877\n",
       "5 4 5        0     post_padding 1_conv       f1-score 0.6060606"
      ]
     },
     "metadata": {},
     "output_type": "display_data"
    },
    {
     "data": {
      "text/html": [
       "<ol class=list-inline>\n",
       "\t<li>9600</li>\n",
       "\t<li>7</li>\n",
       "</ol>\n"
      ],
      "text/latex": [
       "\\begin{enumerate*}\n",
       "\\item 9600\n",
       "\\item 7\n",
       "\\end{enumerate*}\n"
      ],
      "text/markdown": [
       "1. 9600\n",
       "2. 7\n",
       "\n",
       "\n"
      ],
      "text/plain": [
       "[1] 9600    7"
      ]
     },
     "metadata": {},
     "output_type": "display_data"
    }
   ],
   "source": [
    "scores_task2[0:5,]\n",
    "dim(scores_task2)\n",
    "scores_task2$X <- NULL"
   ]
  },
  {
   "cell_type": "code",
   "execution_count": 168,
   "metadata": {},
   "outputs": [
    {
     "data": {
      "text/html": [
       "<ol class=list-inline>\n",
       "\t<li>6720</li>\n",
       "\t<li>6</li>\n",
       "</ol>\n"
      ],
      "text/latex": [
       "\\begin{enumerate*}\n",
       "\\item 6720\n",
       "\\item 6\n",
       "\\end{enumerate*}\n"
      ],
      "text/markdown": [
       "1. 6720\n",
       "2. 6\n",
       "\n",
       "\n"
      ],
      "text/plain": [
       "[1] 6720    6"
      ]
     },
     "metadata": {},
     "output_type": "display_data"
    },
    {
     "data": {
      "text/html": [
       "<dl class=dl-horizontal>\n",
       "\t<dt>enz_type</dt>\n",
       "\t\t<dd>'factor'</dd>\n",
       "\t<dt>index</dt>\n",
       "\t\t<dd>'integer'</dd>\n",
       "\t<dt>type_padding</dt>\n",
       "\t\t<dd>'factor'</dd>\n",
       "\t<dt>architecture</dt>\n",
       "\t\t<dd>'factor'</dd>\n",
       "\t<dt>variable</dt>\n",
       "\t\t<dd>'factor'</dd>\n",
       "\t<dt>value</dt>\n",
       "\t\t<dd>'numeric'</dd>\n",
       "</dl>\n"
      ],
      "text/latex": [
       "\\begin{description*}\n",
       "\\item[enz\\textbackslash{}\\_type] 'factor'\n",
       "\\item[index] 'integer'\n",
       "\\item[type\\textbackslash{}\\_padding] 'factor'\n",
       "\\item[architecture] 'factor'\n",
       "\\item[variable] 'factor'\n",
       "\\item[value] 'numeric'\n",
       "\\end{description*}\n"
      ],
      "text/markdown": [
       "enz_type\n",
       ":   'factor'index\n",
       ":   'integer'type_padding\n",
       ":   'factor'architecture\n",
       ":   'factor'variable\n",
       ":   'factor'value\n",
       ":   'numeric'\n",
       "\n"
      ],
      "text/plain": [
       "    enz_type        index type_padding architecture     variable        value \n",
       "    \"factor\"    \"integer\"     \"factor\"     \"factor\"     \"factor\"    \"numeric\" "
      ]
     },
     "metadata": {},
     "output_type": "display_data"
    }
   ],
   "source": [
    "#filtering \n",
    "scores_task2 <- scores_task2[scores_task2$enz_type %in% c(1,2,3,4,5,6,7),]\n",
    "dim(scores_task2)\n",
    "sapply(scores_task2, class)"
   ]
  },
  {
   "cell_type": "code",
   "execution_count": 169,
   "metadata": {},
   "outputs": [],
   "source": [
    "# habria que hacer un unmelt de variable-value\n",
    "scores_task2_dcasted <- dcast(data = scores_task2, formula = enz_type+index+type_padding+architecture~variable,\n",
    "                              fun.aggregate = sum,value.var = \"value\")"
   ]
  },
  {
   "cell_type": "code",
   "execution_count": 170,
   "metadata": {
    "scrolled": false
   },
   "outputs": [
    {
     "data": {
      "text/html": [
       "<table>\n",
       "<caption>A data.frame: 5 x 7</caption>\n",
       "<thead>\n",
       "\t<tr><th scope=col>enz_type</th><th scope=col>index</th><th scope=col>type_padding</th><th scope=col>architecture</th><th scope=col>f1_score</th><th scope=col>precision</th><th scope=col>recall</th></tr>\n",
       "\t<tr><th scope=col>&lt;fct&gt;</th><th scope=col>&lt;int&gt;</th><th scope=col>&lt;fct&gt;</th><th scope=col>&lt;fct&gt;</th><th scope=col>&lt;dbl&gt;</th><th scope=col>&lt;dbl&gt;</th><th scope=col>&lt;dbl&gt;</th></tr>\n",
       "</thead>\n",
       "<tbody>\n",
       "\t<tr><td>1</td><td>0</td><td>aug_padding</td><td>1_conv     </td><td>0.4514306</td><td>0.4031546</td><td>0.51284109</td></tr>\n",
       "\t<tr><td>1</td><td>0</td><td>aug_padding</td><td>bi_lstm    </td><td>0.1046196</td><td>0.3407080</td><td>0.06179775</td></tr>\n",
       "\t<tr><td>1</td><td>0</td><td>aug_padding</td><td>only_denses</td><td>0.4247295</td><td>0.3453997</td><td>0.55136437</td></tr>\n",
       "\t<tr><td>1</td><td>0</td><td>aug_padding</td><td>stack_conv </td><td>0.4891587</td><td>0.5320755</td><td>0.45264848</td></tr>\n",
       "\t<tr><td>1</td><td>0</td><td>ext_padding</td><td>1_conv     </td><td>0.3833866</td><td>0.2678571</td><td>0.67415730</td></tr>\n",
       "</tbody>\n",
       "</table>\n"
      ],
      "text/latex": [
       "A data.frame: 5 x 7\n",
       "\\begin{tabular}{r|lllllll}\n",
       " enz\\_type & index & type\\_padding & architecture & f1\\_score & precision & recall\\\\\n",
       " <fct> & <int> & <fct> & <fct> & <dbl> & <dbl> & <dbl>\\\\\n",
       "\\hline\n",
       "\t 1 & 0 & aug\\_padding & 1\\_conv      & 0.4514306 & 0.4031546 & 0.51284109\\\\\n",
       "\t 1 & 0 & aug\\_padding & bi\\_lstm     & 0.1046196 & 0.3407080 & 0.06179775\\\\\n",
       "\t 1 & 0 & aug\\_padding & only\\_denses & 0.4247295 & 0.3453997 & 0.55136437\\\\\n",
       "\t 1 & 0 & aug\\_padding & stack\\_conv  & 0.4891587 & 0.5320755 & 0.45264848\\\\\n",
       "\t 1 & 0 & ext\\_padding & 1\\_conv      & 0.3833866 & 0.2678571 & 0.67415730\\\\\n",
       "\\end{tabular}\n"
      ],
      "text/markdown": [
       "\n",
       "A data.frame: 5 x 7\n",
       "\n",
       "| enz_type &lt;fct&gt; | index &lt;int&gt; | type_padding &lt;fct&gt; | architecture &lt;fct&gt; | f1_score &lt;dbl&gt; | precision &lt;dbl&gt; | recall &lt;dbl&gt; |\n",
       "|---|---|---|---|---|---|---|\n",
       "| 1 | 0 | aug_padding | 1_conv      | 0.4514306 | 0.4031546 | 0.51284109 |\n",
       "| 1 | 0 | aug_padding | bi_lstm     | 0.1046196 | 0.3407080 | 0.06179775 |\n",
       "| 1 | 0 | aug_padding | only_denses | 0.4247295 | 0.3453997 | 0.55136437 |\n",
       "| 1 | 0 | aug_padding | stack_conv  | 0.4891587 | 0.5320755 | 0.45264848 |\n",
       "| 1 | 0 | ext_padding | 1_conv      | 0.3833866 | 0.2678571 | 0.67415730 |\n",
       "\n"
      ],
      "text/plain": [
       "  enz_type index type_padding architecture f1_score  precision recall    \n",
       "1 1        0     aug_padding  1_conv       0.4514306 0.4031546 0.51284109\n",
       "2 1        0     aug_padding  bi_lstm      0.1046196 0.3407080 0.06179775\n",
       "3 1        0     aug_padding  only_denses  0.4247295 0.3453997 0.55136437\n",
       "4 1        0     aug_padding  stack_conv   0.4891587 0.5320755 0.45264848\n",
       "5 1        0     ext_padding  1_conv       0.3833866 0.2678571 0.67415730"
      ]
     },
     "metadata": {},
     "output_type": "display_data"
    }
   ],
   "source": [
    "#tengo que cambiar el nombre de f1-score\n",
    "colnames(scores_task2_dcasted) <- c(\"enz_type\", \"index\", \"type_padding\", \"architecture\", \"f1_score\",\n",
    "                                    \"precision\", \"recall\")\n",
    "scores_task2_dcasted[0:5,]"
   ]
  },
  {
   "cell_type": "code",
   "execution_count": 171,
   "metadata": {},
   "outputs": [
    {
     "data": {
      "text/html": [
       "<table>\n",
       "<caption>A data.frame: 5 x 7</caption>\n",
       "<thead>\n",
       "\t<tr><th scope=col>enz_type</th><th scope=col>index</th><th scope=col>type_padding</th><th scope=col>architecture</th><th scope=col>f1_score</th><th scope=col>precision</th><th scope=col>recall</th></tr>\n",
       "\t<tr><th scope=col>&lt;fct&gt;</th><th scope=col>&lt;int&gt;</th><th scope=col>&lt;fct&gt;</th><th scope=col>&lt;fct&gt;</th><th scope=col>&lt;dbl&gt;</th><th scope=col>&lt;dbl&gt;</th><th scope=col>&lt;dbl&gt;</th></tr>\n",
       "</thead>\n",
       "<tbody>\n",
       "\t<tr><td>1</td><td>0</td><td>aug_padding</td><td>1_conv     </td><td>0.4514306</td><td>0.4031546</td><td>0.51284109</td></tr>\n",
       "\t<tr><td>1</td><td>0</td><td>aug_padding</td><td>bi_lstm    </td><td>0.1046196</td><td>0.3407080</td><td>0.06179775</td></tr>\n",
       "\t<tr><td>1</td><td>0</td><td>aug_padding</td><td>only_denses</td><td>0.4247295</td><td>0.3453997</td><td>0.55136437</td></tr>\n",
       "\t<tr><td>1</td><td>0</td><td>aug_padding</td><td>stack_conv </td><td>0.4891587</td><td>0.5320755</td><td>0.45264848</td></tr>\n",
       "\t<tr><td>1</td><td>0</td><td>ext_padding</td><td>1_conv     </td><td>0.3833866</td><td>0.2678571</td><td>0.67415730</td></tr>\n",
       "</tbody>\n",
       "</table>\n"
      ],
      "text/latex": [
       "A data.frame: 5 x 7\n",
       "\\begin{tabular}{r|lllllll}\n",
       " enz\\_type & index & type\\_padding & architecture & f1\\_score & precision & recall\\\\\n",
       " <fct> & <int> & <fct> & <fct> & <dbl> & <dbl> & <dbl>\\\\\n",
       "\\hline\n",
       "\t 1 & 0 & aug\\_padding & 1\\_conv      & 0.4514306 & 0.4031546 & 0.51284109\\\\\n",
       "\t 1 & 0 & aug\\_padding & bi\\_lstm     & 0.1046196 & 0.3407080 & 0.06179775\\\\\n",
       "\t 1 & 0 & aug\\_padding & only\\_denses & 0.4247295 & 0.3453997 & 0.55136437\\\\\n",
       "\t 1 & 0 & aug\\_padding & stack\\_conv  & 0.4891587 & 0.5320755 & 0.45264848\\\\\n",
       "\t 1 & 0 & ext\\_padding & 1\\_conv      & 0.3833866 & 0.2678571 & 0.67415730\\\\\n",
       "\\end{tabular}\n"
      ],
      "text/markdown": [
       "\n",
       "A data.frame: 5 x 7\n",
       "\n",
       "| enz_type &lt;fct&gt; | index &lt;int&gt; | type_padding &lt;fct&gt; | architecture &lt;fct&gt; | f1_score &lt;dbl&gt; | precision &lt;dbl&gt; | recall &lt;dbl&gt; |\n",
       "|---|---|---|---|---|---|---|\n",
       "| 1 | 0 | aug_padding | 1_conv      | 0.4514306 | 0.4031546 | 0.51284109 |\n",
       "| 1 | 0 | aug_padding | bi_lstm     | 0.1046196 | 0.3407080 | 0.06179775 |\n",
       "| 1 | 0 | aug_padding | only_denses | 0.4247295 | 0.3453997 | 0.55136437 |\n",
       "| 1 | 0 | aug_padding | stack_conv  | 0.4891587 | 0.5320755 | 0.45264848 |\n",
       "| 1 | 0 | ext_padding | 1_conv      | 0.3833866 | 0.2678571 | 0.67415730 |\n",
       "\n"
      ],
      "text/plain": [
       "  enz_type index type_padding architecture f1_score  precision recall    \n",
       "1 1        0     aug_padding  1_conv       0.4514306 0.4031546 0.51284109\n",
       "2 1        0     aug_padding  bi_lstm      0.1046196 0.3407080 0.06179775\n",
       "3 1        0     aug_padding  only_denses  0.4247295 0.3453997 0.55136437\n",
       "4 1        0     aug_padding  stack_conv   0.4891587 0.5320755 0.45264848\n",
       "5 1        0     ext_padding  1_conv       0.3833866 0.2678571 0.67415730"
      ]
     },
     "metadata": {},
     "output_type": "display_data"
    }
   ],
   "source": [
    "scores_task2_dcasted[0:5,]"
   ]
  },
  {
   "cell_type": "code",
   "execution_count": 172,
   "metadata": {},
   "outputs": [],
   "source": [
    "scores_task2_dcasted$architecture <- relevel(scores_task2_dcasted$architecture, \"only_denses\")\n",
    "scores_task2_dcasted$type_padding <- relevel(scores_task2_dcasted$type_padding, \"post_padding\")"
   ]
  },
  {
   "cell_type": "code",
   "execution_count": 173,
   "metadata": {},
   "outputs": [],
   "source": [
    "lm_f1_task2_additive <- lm(f1_score~architecture+enz_type+type_padding, \n",
    "                           data=scores_task2_dcasted)"
   ]
  },
  {
   "cell_type": "code",
   "execution_count": 174,
   "metadata": {},
   "outputs": [
    {
     "data": {
      "text/plain": [
       "\n",
       "Call:\n",
       "lm(formula = f1_score ~ architecture + enz_type + type_padding, \n",
       "    data = scores_task2_dcasted)\n",
       "\n",
       "Residuals:\n",
       "     Min       1Q   Median       3Q      Max \n",
       "-0.51449 -0.05887 -0.00777  0.04113  0.40756 \n",
       "\n",
       "Coefficients:\n",
       "                           Estimate Std. Error t value Pr(>|t|)    \n",
       "(Intercept)               0.4422464  0.0090377  48.934  < 2e-16 ***\n",
       "architecture1_conv        0.0206864  0.0061998   3.337 0.000862 ***\n",
       "architecturebi_lstm      -0.4157025  0.0061998 -67.051  < 2e-16 ***\n",
       "architecturestack_conv    0.0101555  0.0061998   1.638 0.101557    \n",
       "enz_type2                 0.2559840  0.0082016  31.212  < 2e-16 ***\n",
       "enz_type3                 0.0938845  0.0082016  11.447  < 2e-16 ***\n",
       "enz_type4                 0.0039705  0.0082016   0.484 0.628352    \n",
       "enz_type5                 0.1226206  0.0082016  14.951  < 2e-16 ***\n",
       "enz_type6                 0.0426076  0.0082016   5.195 2.23e-07 ***\n",
       "enz_type7                 0.0722387  0.0082016   8.808  < 2e-16 ***\n",
       "type_paddingaug_padding  -0.0153667  0.0087679  -1.753 0.079806 .  \n",
       "type_paddingext_padding  -0.0015559  0.0087679  -0.177 0.859166    \n",
       "type_paddingmid_padding   0.0222004  0.0087679   2.532 0.011409 *  \n",
       "type_paddingpre_padding   0.0009777  0.0087679   0.112 0.911221    \n",
       "type_paddingrnd_padding  -0.0725757  0.0087679  -8.277  < 2e-16 ***\n",
       "type_paddingstrf_padding -0.0001829  0.0087679  -0.021 0.983360    \n",
       "type_paddingzoom_padding -0.0286755  0.0087679  -3.271 0.001090 ** \n",
       "---\n",
       "Signif. codes:  0 ‘***’ 0.001 ‘**’ 0.01 ‘*’ 0.05 ‘.’ 0.1 ‘ ’ 1\n",
       "\n",
       "Residual standard error: 0.1037 on 2223 degrees of freedom\n",
       "Multiple R-squared:  0.795,\tAdjusted R-squared:  0.7936 \n",
       "F-statistic: 538.9 on 16 and 2223 DF,  p-value: < 2.2e-16\n"
      ]
     },
     "metadata": {},
     "output_type": "display_data"
    }
   ],
   "source": [
    "summary(lm_f1_task2_additive)"
   ]
  },
  {
   "cell_type": "code",
   "execution_count": 175,
   "metadata": {
    "scrolled": true
   },
   "outputs": [
    {
     "data": {
      "text/plain": [
       "\n",
       "Call:\n",
       "lm(formula = f1_score ~ architecture + enz_type + type_padding + \n",
       "    type_padding:architecture, data = subset(scores_task2_dcasted, \n",
       "    architecture %in% soa_arch & type_padding %in% soa_pad))\n",
       "\n",
       "Residuals:\n",
       "     Min       1Q   Median       3Q      Max \n",
       "-0.20633 -0.06346 -0.01382  0.05131  0.36483 \n",
       "\n",
       "Coefficients:\n",
       "                                                Estimate Std. Error t value\n",
       "(Intercept)                                     0.020241   0.016375   1.236\n",
       "architecturestack_conv                          0.443730   0.017505  25.349\n",
       "enz_type2                                       0.344084   0.016375  21.013\n",
       "enz_type3                                       0.109937   0.016375   6.714\n",
       "enz_type4                                      -0.008815   0.016375  -0.538\n",
       "enz_type5                                       0.065530   0.016375   4.002\n",
       "enz_type6                                       0.057103   0.016375   3.487\n",
       "enz_type7                                       0.059785   0.016375   3.651\n",
       "type_paddingext_padding                        -0.030924   0.017505  -1.767\n",
       "type_paddingmid_padding                         0.042694   0.017505   2.439\n",
       "type_paddingpre_padding                         0.007215   0.017505   0.412\n",
       "architecturestack_conv:type_paddingext_padding  0.017343   0.024756   0.701\n",
       "architecturestack_conv:type_paddingmid_padding -0.038830   0.024756  -1.569\n",
       "architecturestack_conv:type_paddingpre_padding -0.034073   0.024756  -1.376\n",
       "                                               Pr(>|t|)    \n",
       "(Intercept)                                    0.216947    \n",
       "architecturestack_conv                          < 2e-16 ***\n",
       "enz_type2                                       < 2e-16 ***\n",
       "enz_type3                                      4.76e-11 ***\n",
       "enz_type4                                      0.590585    \n",
       "enz_type5                                      7.15e-05 ***\n",
       "enz_type6                                      0.000527 ***\n",
       "enz_type7                                      0.000286 ***\n",
       "type_paddingext_padding                        0.077860 .  \n",
       "type_paddingmid_padding                        0.015048 *  \n",
       "type_paddingpre_padding                        0.680396    \n",
       "architecturestack_conv:type_paddingext_padding 0.483870    \n",
       "architecturestack_conv:type_paddingmid_padding 0.117342    \n",
       "architecturestack_conv:type_paddingpre_padding 0.169276    \n",
       "---\n",
       "Signif. codes:  0 ‘***’ 0.001 ‘**’ 0.01 ‘*’ 0.05 ‘.’ 0.1 ‘ ’ 1\n",
       "\n",
       "Residual standard error: 0.1036 on 546 degrees of freedom\n",
       "Multiple R-squared:  0.849,\tAdjusted R-squared:  0.8454 \n",
       "F-statistic: 236.2 on 13 and 546 DF,  p-value: < 2.2e-16\n"
      ]
     },
     "metadata": {},
     "output_type": "display_data"
    }
   ],
   "source": [
    "soa_arch <- c(\"stack_conv\", \"bi_lstm\")\n",
    "soa_pad <- c(\"post_padding\", \"pre_padding\", \"mid_padding\", \"ext_padding\")\n",
    "lm_f1_task2_additive_soa <- lm(f1_score~architecture+enz_type+type_padding+type_padding:architecture,\n",
    "                               data=subset(scores_task2_dcasted, architecture %in% soa_arch &\n",
    "                                          type_padding %in% soa_pad))\n",
    "summary(lm_f1_task2_additive_soa)"
   ]
  },
  {
   "cell_type": "code",
   "execution_count": 182,
   "metadata": {},
   "outputs": [],
   "source": [
    "soa_pad <- c(\"post_padding\", \"strf_padding\", \"rnd_padding\", \"zoom_padding\")\n",
    "lm_f1_task2_additive_soa2 <- lm(f1_score~architecture+enz_type+type_padding+type_padding*architecture,\n",
    "                               data=subset(scores_task2_dcasted, architecture %in% soa_arch &\n",
    "                                          type_padding %in% soa_pad))"
   ]
  },
  {
   "cell_type": "code",
   "execution_count": 183,
   "metadata": {},
   "outputs": [
    {
     "data": {
      "text/plain": [
       "\n",
       "Call:\n",
       "lm(formula = f1_score ~ architecture + enz_type + type_padding + \n",
       "    type_padding * architecture, data = subset(scores_task2_dcasted, \n",
       "    architecture %in% soa_arch & type_padding %in% soa_pad))\n",
       "\n",
       "Residuals:\n",
       "     Min       1Q   Median       3Q      Max \n",
       "-0.40811 -0.04638 -0.00637  0.04437  0.37064 \n",
       "\n",
       "Coefficients:\n",
       "                                                  Estimate Std. Error t value\n",
       "(Intercept)                                      0.0405106  0.0150445   2.693\n",
       "architecturestack_conv                           0.4437296  0.0160832  27.590\n",
       "enz_type2                                        0.3422050  0.0150445  22.746\n",
       "enz_type3                                        0.0662313  0.0150445   4.402\n",
       "enz_type4                                       -0.0078110  0.0150445  -0.519\n",
       "enz_type5                                        0.0633978  0.0150445   4.214\n",
       "enz_type6                                       -0.0003121  0.0150445  -0.021\n",
       "enz_type7                                        0.0220250  0.0150445   1.464\n",
       "type_paddingrnd_padding                         -0.0341399  0.0160832  -2.123\n",
       "type_paddingstrf_padding                        -0.0341399  0.0160832  -2.123\n",
       "type_paddingzoom_padding                        -0.0161549  0.0160832  -1.004\n",
       "architecturestack_conv:type_paddingrnd_padding  -0.0640145  0.0227451  -2.814\n",
       "architecturestack_conv:type_paddingstrf_padding  0.0273799  0.0227451   1.204\n",
       "architecturestack_conv:type_paddingzoom_padding -0.0220386  0.0227451  -0.969\n",
       "                                                Pr(>|t|)    \n",
       "(Intercept)                                      0.00730 ** \n",
       "architecturestack_conv                           < 2e-16 ***\n",
       "enz_type2                                        < 2e-16 ***\n",
       "enz_type3                                       1.29e-05 ***\n",
       "enz_type4                                        0.60383    \n",
       "enz_type5                                       2.94e-05 ***\n",
       "enz_type6                                        0.98346    \n",
       "enz_type7                                        0.14377    \n",
       "type_paddingrnd_padding                          0.03423 *  \n",
       "type_paddingstrf_padding                         0.03423 *  \n",
       "type_paddingzoom_padding                         0.31560    \n",
       "architecturestack_conv:type_paddingrnd_padding   0.00506 ** \n",
       "architecturestack_conv:type_paddingstrf_padding  0.22920    \n",
       "architecturestack_conv:type_paddingzoom_padding  0.33300    \n",
       "---\n",
       "Signif. codes:  0 ‘***’ 0.001 ‘**’ 0.01 ‘*’ 0.05 ‘.’ 0.1 ‘ ’ 1\n",
       "\n",
       "Residual standard error: 0.09515 on 546 degrees of freedom\n",
       "Multiple R-squared:  0.8719,\tAdjusted R-squared:  0.8688 \n",
       "F-statistic: 285.8 on 13 and 546 DF,  p-value: < 2.2e-16\n"
      ]
     },
     "metadata": {},
     "output_type": "display_data"
    }
   ],
   "source": [
    "summary(lm_f1_task2_additive_soa2)"
   ]
  },
  {
   "cell_type": "code",
   "execution_count": 185,
   "metadata": {},
   "outputs": [
    {
     "data": {
      "text/plain": [
       "\n",
       "Call:\n",
       "lm(formula = f1_score ~ enz_type + type_padding, data = subset(scores_task2_dcasted, \n",
       "    architecture == \"only_denses\"))\n",
       "\n",
       "Residuals:\n",
       "     Min       1Q   Median       3Q      Max \n",
       "-0.49560 -0.03289  0.00192  0.03583  0.43419 \n",
       "\n",
       "Coefficients:\n",
       "                         Estimate Std. Error t value Pr(>|t|)    \n",
       "(Intercept)               0.43554    0.01546  28.170  < 2e-16 ***\n",
       "enz_type2                 0.15236    0.01546   9.854  < 2e-16 ***\n",
       "enz_type3                 0.10727    0.01546   6.938 1.13e-11 ***\n",
       "enz_type4                 0.00524    0.01546   0.339 0.734809    \n",
       "enz_type5                 0.16644    0.01546  10.765  < 2e-16 ***\n",
       "enz_type6                 0.05805    0.01546   3.754 0.000192 ***\n",
       "enz_type7                 0.02208    0.01546   1.428 0.153929    \n",
       "type_paddingaug_padding   0.02269    0.01653   1.373 0.170354    \n",
       "type_paddingext_padding   0.03393    0.01653   2.053 0.040543 *  \n",
       "type_paddingmid_padding   0.03373    0.01653   2.041 0.041749 *  \n",
       "type_paddingpre_padding   0.03286    0.01653   1.988 0.047312 *  \n",
       "type_paddingrnd_padding  -0.06017    0.01653  -3.640 0.000299 ***\n",
       "type_paddingstrf_padding  0.03981    0.01653   2.409 0.016340 *  \n",
       "type_paddingzoom_padding -0.05310    0.01653  -3.213 0.001393 ** \n",
       "---\n",
       "Signif. codes:  0 ‘***’ 0.001 ‘**’ 0.01 ‘*’ 0.05 ‘.’ 0.1 ‘ ’ 1\n",
       "\n",
       "Residual standard error: 0.09779 on 546 degrees of freedom\n",
       "Multiple R-squared:  0.3746,\tAdjusted R-squared:  0.3597 \n",
       "F-statistic: 25.16 on 13 and 546 DF,  p-value: < 2.2e-16\n"
      ]
     },
     "metadata": {},
     "output_type": "display_data"
    }
   ],
   "source": [
    "lm_f1_task2_additive_soa3 <- lm(f1_score~enz_type+type_padding, \n",
    "                                data=subset(scores_task2_dcasted, architecture==\"only_denses\"))\n",
    "\n",
    "summary(lm_f1_task2_additive_soa3 )"
   ]
  },
  {
   "cell_type": "code",
   "execution_count": 186,
   "metadata": {},
   "outputs": [
    {
     "data": {
      "text/plain": [
       "\n",
       "Call:\n",
       "lm(formula = f1_score ~ architecture + enz_type + type_padding + \n",
       "    type_padding:architecture, data = subset(scores_task2_dcasted, \n",
       "    type_padding %in% soa_pad))\n",
       "\n",
       "Residuals:\n",
       "     Min       1Q   Median       3Q      Max \n",
       "-0.51926 -0.05773 -0.00332  0.04109  0.38064 \n",
       "\n",
       "Coefficients:\n",
       "                                                Estimate Std. Error t value\n",
       "(Intercept)                                      0.42715    0.01598  26.736\n",
       "architecture1_conv                               0.04128    0.01708   2.417\n",
       "architecturebi_lstm                             -0.39870    0.01708 -23.343\n",
       "architecturestack_conv                           0.04503    0.01708   2.636\n",
       "enz_type2                                        0.25161    0.01598  15.749\n",
       "enz_type3                                        0.09749    0.01598   6.102\n",
       "enz_type4                                       -0.01585    0.01598  -0.992\n",
       "enz_type5                                        0.10563    0.01598   6.612\n",
       "enz_type6                                        0.03917    0.01598   2.451\n",
       "enz_type7                                        0.09211    0.01598   5.765\n",
       "type_paddingstrf_padding                         0.03981    0.01708   2.331\n",
       "architecture1_conv:type_paddingstrf_padding     -0.03946    0.02415  -1.634\n",
       "architecturebi_lstm:type_paddingstrf_padding    -0.07395    0.02415  -3.062\n",
       "architecturestack_conv:type_paddingstrf_padding -0.04657    0.02415  -1.928\n",
       "                                                Pr(>|t|)    \n",
       "(Intercept)                                      < 2e-16 ***\n",
       "architecture1_conv                               0.01598 *  \n",
       "architecturebi_lstm                              < 2e-16 ***\n",
       "architecturestack_conv                           0.00862 ** \n",
       "enz_type2                                        < 2e-16 ***\n",
       "enz_type3                                       1.99e-09 ***\n",
       "enz_type4                                        0.32175    \n",
       "enz_type5                                       9.07e-11 ***\n",
       "enz_type6                                        0.01454 *  \n",
       "enz_type7                                       1.36e-08 ***\n",
       "type_paddingstrf_padding                         0.02012 *  \n",
       "architecture1_conv:type_paddingstrf_padding      0.10294    \n",
       "architecturebi_lstm:type_paddingstrf_padding     0.00231 ** \n",
       "architecturestack_conv:type_paddingstrf_padding  0.05436 .  \n",
       "---\n",
       "Signif. codes:  0 ‘***’ 0.001 ‘**’ 0.01 ‘*’ 0.05 ‘.’ 0.1 ‘ ’ 1\n",
       "\n",
       "Residual standard error: 0.101 on 546 degrees of freedom\n",
       "Multiple R-squared:  0.8191,\tAdjusted R-squared:  0.8148 \n",
       "F-statistic: 190.1 on 13 and 546 DF,  p-value: < 2.2e-16\n"
      ]
     },
     "metadata": {},
     "output_type": "display_data"
    }
   ],
   "source": [
    "soa_pad <- c(\"post_padding\", \"strf_padding\")\n",
    "lm_f1_task2_soa4 <- lm(f1_score~architecture+enz_type+type_padding+type_padding:architecture, \n",
    "                               data=subset(scores_task2_dcasted, type_padding %in% soa_pad))\n",
    "summary(lm_f1_task2_soa4)"
   ]
  },
  {
   "cell_type": "code",
   "execution_count": 193,
   "metadata": {},
   "outputs": [
    {
     "data": {
      "text/plain": [
       "\n",
       "Call:\n",
       "lm(formula = f1_score ~ architecture + enz_type + type_padding + \n",
       "    type_padding:architecture, data = subset(scores_task2_dcasted_aug, \n",
       "    type_padding %in% soa_pad))\n",
       "\n",
       "Residuals:\n",
       "     Min       1Q   Median       3Q      Max \n",
       "-0.51669 -0.05483 -0.00686  0.03844  0.38321 \n",
       "\n",
       "Coefficients:\n",
       "                                                 Estimate Std. Error t value\n",
       "(Intercept)                                      0.450800   0.014164  31.827\n",
       "architecture1_conv                               0.004791   0.016355   0.293\n",
       "architecturebi_lstm                             -0.442202   0.016355 -27.037\n",
       "architecturestack_conv                          -0.027212   0.016355  -1.664\n",
       "enz_type2                                        0.252614   0.012492  20.223\n",
       "enz_type3                                        0.087289   0.012492   6.988\n",
       "enz_type4                                       -0.001736   0.012492  -0.139\n",
       "enz_type5                                        0.111277   0.012492   8.908\n",
       "enz_type6                                        0.025423   0.012492   2.035\n",
       "enz_type7                                        0.088583   0.012492   7.091\n",
       "type_paddingpost_padding                        -0.022692   0.016355  -1.387\n",
       "type_paddingstrf_padding                         0.017121   0.016355   1.047\n",
       "architecture1_conv:type_paddingpost_padding      0.036490   0.023130   1.578\n",
       "architecturebi_lstm:type_paddingpost_padding     0.043502   0.023130   1.881\n",
       "architecturestack_conv:type_paddingpost_padding  0.072243   0.023130   3.123\n",
       "architecture1_conv:type_paddingstrf_padding     -0.002967   0.023130  -0.128\n",
       "architecturebi_lstm:type_paddingstrf_padding    -0.030450   0.023130  -1.316\n",
       "architecturestack_conv:type_paddingstrf_padding  0.025670   0.023130   1.110\n",
       "                                                Pr(>|t|)    \n",
       "(Intercept)                                      < 2e-16 ***\n",
       "architecture1_conv                               0.76966    \n",
       "architecturebi_lstm                              < 2e-16 ***\n",
       "architecturestack_conv                           0.09653 .  \n",
       "enz_type2                                        < 2e-16 ***\n",
       "enz_type3                                       5.77e-12 ***\n",
       "enz_type4                                        0.88952    \n",
       "enz_type5                                        < 2e-16 ***\n",
       "enz_type6                                        0.04215 *  \n",
       "enz_type7                                       2.86e-12 ***\n",
       "type_paddingpost_padding                         0.16569    \n",
       "type_paddingstrf_padding                         0.29551    \n",
       "architecture1_conv:type_paddingpost_padding      0.11505    \n",
       "architecturebi_lstm:type_paddingpost_padding     0.06036 .  \n",
       "architecturestack_conv:type_paddingpost_padding  0.00185 ** \n",
       "architecture1_conv:type_paddingstrf_padding      0.89795    \n",
       "architecturebi_lstm:type_paddingstrf_padding     0.18838    \n",
       "architecturestack_conv:type_paddingstrf_padding  0.26740    \n",
       "---\n",
       "Signif. codes:  0 ‘***’ 0.001 ‘**’ 0.01 ‘*’ 0.05 ‘.’ 0.1 ‘ ’ 1\n",
       "\n",
       "Residual standard error: 0.09676 on 822 degrees of freedom\n",
       "Multiple R-squared:  0.828,\tAdjusted R-squared:  0.8245 \n",
       "F-statistic: 232.8 on 17 and 822 DF,  p-value: < 2.2e-16\n"
      ]
     },
     "metadata": {},
     "output_type": "display_data"
    }
   ],
   "source": [
    "soa_pad <- c(\"post_padding\", \"strf_padding\", \"aug_padding\")\n",
    "scores_task2_dcasted_aug <- scores_task2_dcasted\n",
    "scores_task2_dcasted_aug$type_padding <- relevel(scores_task2_dcasted_aug$type_padding, \"aug_padding\")\n",
    "lm_f1_task2_soa5 <- lm(f1_score~architecture+enz_type+type_padding+type_padding:architecture, \n",
    "                               data=subset(scores_task2_dcasted_aug, type_padding %in% soa_pad))\n",
    "summary(lm_f1_task2_soa5)"
   ]
  },
  {
   "cell_type": "markdown",
   "metadata": {},
   "source": [
    "## Accuracy"
   ]
  },
  {
   "cell_type": "code",
   "execution_count": 73,
   "metadata": {},
   "outputs": [
    {
     "data": {
      "text/html": [
       "<table>\n",
       "<caption>A data.frame: 5 x 5</caption>\n",
       "<thead>\n",
       "\t<tr><th scope=col>X</th><th scope=col>index</th><th scope=col>variable</th><th scope=col>value</th><th scope=col>architecture</th></tr>\n",
       "\t<tr><th scope=col>&lt;int&gt;</th><th scope=col>&lt;int&gt;</th><th scope=col>&lt;fct&gt;</th><th scope=col>&lt;dbl&gt;</th><th scope=col>&lt;fct&gt;</th></tr>\n",
       "</thead>\n",
       "<tbody>\n",
       "\t<tr><td>0</td><td>0</td><td>post_padding</td><td>0.5472170</td><td>1_conv</td></tr>\n",
       "\t<tr><td>1</td><td>1</td><td>post_padding</td><td>0.5284553</td><td>1_conv</td></tr>\n",
       "\t<tr><td>2</td><td>2</td><td>post_padding</td><td>0.5121951</td><td>1_conv</td></tr>\n",
       "\t<tr><td>3</td><td>3</td><td>post_padding</td><td>0.5247029</td><td>1_conv</td></tr>\n",
       "\t<tr><td>4</td><td>4</td><td>post_padding</td><td>0.5247029</td><td>1_conv</td></tr>\n",
       "</tbody>\n",
       "</table>\n"
      ],
      "text/latex": [
       "A data.frame: 5 x 5\n",
       "\\begin{tabular}{r|lllll}\n",
       " X & index & variable & value & architecture\\\\\n",
       " <int> & <int> & <fct> & <dbl> & <fct>\\\\\n",
       "\\hline\n",
       "\t 0 & 0 & post\\_padding & 0.5472170 & 1\\_conv\\\\\n",
       "\t 1 & 1 & post\\_padding & 0.5284553 & 1\\_conv\\\\\n",
       "\t 2 & 2 & post\\_padding & 0.5121951 & 1\\_conv\\\\\n",
       "\t 3 & 3 & post\\_padding & 0.5247029 & 1\\_conv\\\\\n",
       "\t 4 & 4 & post\\_padding & 0.5247029 & 1\\_conv\\\\\n",
       "\\end{tabular}\n"
      ],
      "text/markdown": [
       "\n",
       "A data.frame: 5 x 5\n",
       "\n",
       "| X &lt;int&gt; | index &lt;int&gt; | variable &lt;fct&gt; | value &lt;dbl&gt; | architecture &lt;fct&gt; |\n",
       "|---|---|---|---|---|\n",
       "| 0 | 0 | post_padding | 0.5472170 | 1_conv |\n",
       "| 1 | 1 | post_padding | 0.5284553 | 1_conv |\n",
       "| 2 | 2 | post_padding | 0.5121951 | 1_conv |\n",
       "| 3 | 3 | post_padding | 0.5247029 | 1_conv |\n",
       "| 4 | 4 | post_padding | 0.5247029 | 1_conv |\n",
       "\n"
      ],
      "text/plain": [
       "  X index variable     value     architecture\n",
       "1 0 0     post_padding 0.5472170 1_conv      \n",
       "2 1 1     post_padding 0.5284553 1_conv      \n",
       "3 2 2     post_padding 0.5121951 1_conv      \n",
       "4 3 3     post_padding 0.5247029 1_conv      \n",
       "5 4 4     post_padding 0.5247029 1_conv      "
      ]
     },
     "metadata": {},
     "output_type": "display_data"
    }
   ],
   "source": [
    "accu_task2[0:5,]"
   ]
  },
  {
   "cell_type": "code",
   "execution_count": 81,
   "metadata": {},
   "outputs": [
    {
     "data": {
      "text/html": [
       "<dl class=dl-horizontal>\n",
       "\t<dt>index</dt>\n",
       "\t\t<dd>'integer'</dd>\n",
       "\t<dt>variable</dt>\n",
       "\t\t<dd>'factor'</dd>\n",
       "\t<dt>value</dt>\n",
       "\t\t<dd>'numeric'</dd>\n",
       "\t<dt>architecture</dt>\n",
       "\t\t<dd>'factor'</dd>\n",
       "</dl>\n"
      ],
      "text/latex": [
       "\\begin{description*}\n",
       "\\item[index] 'integer'\n",
       "\\item[variable] 'factor'\n",
       "\\item[value] 'numeric'\n",
       "\\item[architecture] 'factor'\n",
       "\\end{description*}\n"
      ],
      "text/markdown": [
       "index\n",
       ":   'integer'variable\n",
       ":   'factor'value\n",
       ":   'numeric'architecture\n",
       ":   'factor'\n",
       "\n"
      ],
      "text/plain": [
       "       index     variable        value architecture \n",
       "   \"integer\"     \"factor\"    \"numeric\"     \"factor\" "
      ]
     },
     "metadata": {},
     "output_type": "display_data"
    }
   ],
   "source": [
    "#filtering \n",
    "sapply(accu_task2, class)"
   ]
  },
  {
   "cell_type": "code",
   "execution_count": 82,
   "metadata": {},
   "outputs": [
    {
     "data": {
      "text/html": [
       "<table>\n",
       "<caption>A data.frame: 5 x 4</caption>\n",
       "<thead>\n",
       "\t<tr><th scope=col>index</th><th scope=col>type_padding</th><th scope=col>accuracy</th><th scope=col>architecture</th></tr>\n",
       "\t<tr><th scope=col>&lt;int&gt;</th><th scope=col>&lt;fct&gt;</th><th scope=col>&lt;dbl&gt;</th><th scope=col>&lt;fct&gt;</th></tr>\n",
       "</thead>\n",
       "<tbody>\n",
       "\t<tr><td>0</td><td>post_padding</td><td>0.5472170</td><td>1_conv</td></tr>\n",
       "\t<tr><td>1</td><td>post_padding</td><td>0.5284553</td><td>1_conv</td></tr>\n",
       "\t<tr><td>2</td><td>post_padding</td><td>0.5121951</td><td>1_conv</td></tr>\n",
       "\t<tr><td>3</td><td>post_padding</td><td>0.5247029</td><td>1_conv</td></tr>\n",
       "\t<tr><td>4</td><td>post_padding</td><td>0.5247029</td><td>1_conv</td></tr>\n",
       "</tbody>\n",
       "</table>\n"
      ],
      "text/latex": [
       "A data.frame: 5 x 4\n",
       "\\begin{tabular}{r|llll}\n",
       " index & type\\_padding & accuracy & architecture\\\\\n",
       " <int> & <fct> & <dbl> & <fct>\\\\\n",
       "\\hline\n",
       "\t 0 & post\\_padding & 0.5472170 & 1\\_conv\\\\\n",
       "\t 1 & post\\_padding & 0.5284553 & 1\\_conv\\\\\n",
       "\t 2 & post\\_padding & 0.5121951 & 1\\_conv\\\\\n",
       "\t 3 & post\\_padding & 0.5247029 & 1\\_conv\\\\\n",
       "\t 4 & post\\_padding & 0.5247029 & 1\\_conv\\\\\n",
       "\\end{tabular}\n"
      ],
      "text/markdown": [
       "\n",
       "A data.frame: 5 x 4\n",
       "\n",
       "| index &lt;int&gt; | type_padding &lt;fct&gt; | accuracy &lt;dbl&gt; | architecture &lt;fct&gt; |\n",
       "|---|---|---|---|\n",
       "| 0 | post_padding | 0.5472170 | 1_conv |\n",
       "| 1 | post_padding | 0.5284553 | 1_conv |\n",
       "| 2 | post_padding | 0.5121951 | 1_conv |\n",
       "| 3 | post_padding | 0.5247029 | 1_conv |\n",
       "| 4 | post_padding | 0.5247029 | 1_conv |\n",
       "\n"
      ],
      "text/plain": [
       "  index type_padding accuracy  architecture\n",
       "1 0     post_padding 0.5472170 1_conv      \n",
       "2 1     post_padding 0.5284553 1_conv      \n",
       "3 2     post_padding 0.5121951 1_conv      \n",
       "4 3     post_padding 0.5247029 1_conv      \n",
       "5 4     post_padding 0.5247029 1_conv      "
      ]
     },
     "metadata": {},
     "output_type": "display_data"
    }
   ],
   "source": [
    "#cambio el nombre a las columnas\n",
    "colnames(accu_task2) <- c(\"index\", \"type_padding\", \"accuracy\", \"architecture\")\n",
    "accu_task2[0:5,]"
   ]
  },
  {
   "cell_type": "code",
   "execution_count": 91,
   "metadata": {},
   "outputs": [],
   "source": [
    "lm_accu_task2 <- lm(accuracy~architecture+type_padding+ type_padding:architecture, data=accu_task2)"
   ]
  },
  {
   "cell_type": "code",
   "execution_count": 92,
   "metadata": {},
   "outputs": [
    {
     "data": {
      "text/plain": [
       "\n",
       "Call:\n",
       "lm(formula = accuracy ~ architecture + type_padding + type_padding:architecture, \n",
       "    data = accu_task2)\n",
       "\n",
       "Residuals:\n",
       "      Min        1Q    Median        3Q       Max \n",
       "-0.058286 -0.006551  0.000000  0.008456  0.043340 \n",
       "\n",
       "Coefficients:\n",
       "                                                  Estimate Std. Error t value\n",
       "(Intercept)                                       0.547923   0.004672 117.279\n",
       "architecturebi_lstm                              -0.185580   0.006607 -28.088\n",
       "architectureonly_denses                          -0.012088   0.006607  -1.830\n",
       "architecturestack_conv                           -0.021379   0.006607  -3.236\n",
       "type_paddingext_padding                          -0.009086   0.006607  -1.375\n",
       "type_paddingmid_padding                          -0.009086   0.006607  -1.375\n",
       "type_paddingpost_padding                         -0.017716   0.006607  -2.681\n",
       "type_paddingpre_padding                          -0.015528   0.006607  -2.350\n",
       "type_paddingrnd_padding                          -0.092763   0.006607 -14.040\n",
       "type_paddingstrf_padding                          0.008112   0.006607   1.228\n",
       "type_paddingzoom_padding                          0.002234   0.006607   0.338\n",
       "architecturebi_lstm:type_paddingext_padding       0.008470   0.009344   0.906\n",
       "architectureonly_denses:type_paddingext_padding   0.017154   0.009344   1.836\n",
       "architecturestack_conv:type_paddingext_padding    0.032011   0.009344   3.426\n",
       "architecturebi_lstm:type_paddingmid_padding       0.050558   0.009344   5.411\n",
       "architectureonly_denses:type_paddingmid_padding   0.018154   0.009344   1.943\n",
       "architecturestack_conv:type_paddingmid_padding    0.051711   0.009344   5.534\n",
       "architecturebi_lstm:type_paddingpost_padding      0.031359   0.009344   3.356\n",
       "architectureonly_denses:type_paddingpost_padding  0.013589   0.009344   1.454\n",
       "architecturestack_conv:type_paddingpost_padding   0.051211   0.009344   5.481\n",
       "architecturebi_lstm:type_paddingpre_padding       0.033986   0.009344   3.637\n",
       "architectureonly_denses:type_paddingpre_padding   0.021656   0.009344   2.318\n",
       "architecturestack_conv:type_paddingpre_padding    0.033825   0.009344   3.620\n",
       "architecturebi_lstm:type_paddingrnd_padding       0.091271   0.009344   9.768\n",
       "architectureonly_denses:type_paddingrnd_padding   0.029974   0.009344   3.208\n",
       "architecturestack_conv:type_paddingrnd_padding    0.075163   0.009344   8.044\n",
       "architecturebi_lstm:type_paddingstrf_padding     -0.009604   0.009344  -1.028\n",
       "architectureonly_denses:type_paddingstrf_padding  0.012213   0.009344   1.307\n",
       "architecturestack_conv:type_paddingstrf_padding   0.030760   0.009344   3.292\n",
       "architecturebi_lstm:type_paddingzoom_padding      0.004842   0.009344   0.518\n",
       "architectureonly_denses:type_paddingzoom_padding -0.010551   0.009344  -1.129\n",
       "architecturestack_conv:type_paddingzoom_padding   0.001930   0.009344   0.207\n",
       "                                                 Pr(>|t|)    \n",
       "(Intercept)                                       < 2e-16 ***\n",
       "architecturebi_lstm                               < 2e-16 ***\n",
       "architectureonly_denses                          0.068354 .  \n",
       "architecturestack_conv                           0.001354 ** \n",
       "type_paddingext_padding                          0.170142    \n",
       "type_paddingmid_padding                          0.170142    \n",
       "type_paddingpost_padding                         0.007754 ** \n",
       "type_paddingpre_padding                          0.019442 *  \n",
       "type_paddingrnd_padding                           < 2e-16 ***\n",
       "type_paddingstrf_padding                         0.220525    \n",
       "type_paddingzoom_padding                         0.735572    \n",
       "architecturebi_lstm:type_paddingext_padding      0.365466    \n",
       "architectureonly_denses:type_paddingext_padding  0.067417 .  \n",
       "architecturestack_conv:type_paddingext_padding   0.000702 ***\n",
       "architecturebi_lstm:type_paddingmid_padding      1.32e-07 ***\n",
       "architectureonly_denses:type_paddingmid_padding  0.053003 .  \n",
       "architecturestack_conv:type_paddingmid_padding   7.03e-08 ***\n",
       "architecturebi_lstm:type_paddingpost_padding     0.000897 ***\n",
       "architectureonly_denses:type_paddingpost_padding 0.146951    \n",
       "architecturestack_conv:type_paddingpost_padding  9.26e-08 ***\n",
       "architecturebi_lstm:type_paddingpre_padding      0.000326 ***\n",
       "architectureonly_denses:type_paddingpre_padding  0.021166 *  \n",
       "architecturestack_conv:type_paddingpre_padding   0.000348 ***\n",
       "architecturebi_lstm:type_paddingrnd_padding       < 2e-16 ***\n",
       "architectureonly_denses:type_paddingrnd_padding  0.001488 ** \n",
       "architecturestack_conv:type_paddingrnd_padding   2.28e-14 ***\n",
       "architecturebi_lstm:type_paddingstrf_padding     0.304877    \n",
       "architectureonly_denses:type_paddingstrf_padding 0.192236    \n",
       "architecturestack_conv:type_paddingstrf_padding  0.001119 ** \n",
       "architecturebi_lstm:type_paddingzoom_padding     0.604693    \n",
       "architectureonly_denses:type_paddingzoom_padding 0.259747    \n",
       "architecturestack_conv:type_paddingzoom_padding  0.836524    \n",
       "---\n",
       "Signif. codes:  0 ‘***’ 0.001 ‘**’ 0.01 ‘*’ 0.05 ‘.’ 0.1 ‘ ’ 1\n",
       "\n",
       "Residual standard error: 0.01477 on 288 degrees of freedom\n",
       "Multiple R-squared:  0.9659,\tAdjusted R-squared:  0.9623 \n",
       "F-statistic: 263.5 on 31 and 288 DF,  p-value: < 2.2e-16\n"
      ]
     },
     "metadata": {},
     "output_type": "display_data"
    }
   ],
   "source": [
    "summary(lm_accu_task2)"
   ]
  },
  {
   "cell_type": "markdown",
   "metadata": {},
   "source": [
    "## Construyendo tablas"
   ]
  },
  {
   "cell_type": "code",
   "execution_count": 107,
   "metadata": {},
   "outputs": [
    {
     "name": "stdout",
     "output_type": "stream",
     "text": [
      "\n",
      "% Table created by stargazer v.5.2.2 by Marek Hlavac, Harvard University. E-mail: hlavac at fas.harvard.edu\n",
      "% Date and time: Wed, Oct 30, 2019 - 12:29:50 PM\n",
      "% Requires LaTeX packages: dcolumn \n",
      "\\begin{table}[!htbp] \\centering \n",
      "  \\caption{Linear models on F1 score} \n",
      "  \\label{} \n",
      "\\begin{tabular}{@{\\extracolsep{5pt}}lD{.}{.}{-3} D{.}{.}{-3} } \n",
      "\\\\[-1.8ex]\\hline \n",
      "\\hline \\\\[-1.8ex] \n",
      " & \\multicolumn{2}{c}{\\textit{Dependent variable:}} \\\\ \n",
      "\\cline{2-3} \n",
      "\\\\[-1.8ex] & \\multicolumn{2}{c}{accuracy} \\\\ \n",
      "\\\\[-1.8ex] & \\multicolumn{1}{c}{(1)} & \\multicolumn{1}{c}{(2)}\\\\ \n",
      "\\hline \\\\[-1.8ex] \n",
      " architecturebi\\_lstm & -0.040^{***} & -0.186^{***} \\\\ \n",
      "  & (0.009) & (0.007) \\\\ \n",
      "  & & \\\\ \n",
      " architectureonly\\_denses & 0.143^{***} & -0.012^{*} \\\\ \n",
      "  & (0.009) & (0.007) \\\\ \n",
      "  & & \\\\ \n",
      " architecturestack\\_conv & 0.033^{***} & -0.021^{***} \\\\ \n",
      "  & (0.009) & (0.007) \\\\ \n",
      "  & & \\\\ \n",
      " type\\_paddingext\\_padding & 0.085^{***} & -0.009 \\\\ \n",
      "  & (0.009) & (0.007) \\\\ \n",
      "  & & \\\\ \n",
      " type\\_paddingmid\\_padding & 0.110^{***} & -0.009 \\\\ \n",
      "  & (0.009) & (0.007) \\\\ \n",
      "  & & \\\\ \n",
      " type\\_paddingpost\\_padding & 0.115^{***} & -0.018^{***} \\\\ \n",
      "  & (0.009) & (0.007) \\\\ \n",
      "  & & \\\\ \n",
      " type\\_paddingpre\\_padding & 0.101^{***} & -0.016^{**} \\\\ \n",
      "  & (0.009) & (0.007) \\\\ \n",
      "  & & \\\\ \n",
      " type\\_paddingrnd\\_padding & 0.032^{***} & -0.093^{***} \\\\ \n",
      "  & (0.009) & (0.007) \\\\ \n",
      "  & & \\\\ \n",
      " type\\_paddingstrf\\_padding & 0.110^{***} & 0.008 \\\\ \n",
      "  & (0.009) & (0.007) \\\\ \n",
      "  & & \\\\ \n",
      " type\\_paddingzoom\\_padding & 0.111^{***} & 0.002 \\\\ \n",
      "  & (0.009) & (0.007) \\\\ \n",
      "  & & \\\\ \n",
      " architecturebi\\_lstm:type\\_paddingext\\_padding & -0.123^{***} & 0.008 \\\\ \n",
      "  & (0.013) & (0.009) \\\\ \n",
      "  & & \\\\ \n",
      " architectureonly\\_denses:type\\_paddingext\\_padding & -0.089^{***} & 0.017^{*} \\\\ \n",
      "  & (0.013) & (0.009) \\\\ \n",
      "  & & \\\\ \n",
      " architecturestack\\_conv:type\\_paddingext\\_padding & 0.0004 & 0.032^{***} \\\\ \n",
      "  & (0.013) & (0.009) \\\\ \n",
      "  & & \\\\ \n",
      " architecturebi\\_lstm:type\\_paddingmid\\_padding & -0.004 & 0.051^{***} \\\\ \n",
      "  & (0.013) & (0.009) \\\\ \n",
      "  & & \\\\ \n",
      " architectureonly\\_denses:type\\_paddingmid\\_padding & -0.100^{***} & 0.018^{*} \\\\ \n",
      "  & (0.013) & (0.009) \\\\ \n",
      "  & & \\\\ \n",
      " architecturestack\\_conv:type\\_paddingmid\\_padding & -0.027^{**} & 0.052^{***} \\\\ \n",
      "  & (0.013) & (0.009) \\\\ \n",
      "  & & \\\\ \n",
      " architecturebi\\_lstm:type\\_paddingpost\\_padding & -0.027^{**} & 0.031^{***} \\\\ \n",
      "  & (0.013) & (0.009) \\\\ \n",
      "  & & \\\\ \n",
      " architectureonly\\_denses:type\\_paddingpost\\_padding & -0.116^{***} & 0.014 \\\\ \n",
      "  & (0.013) & (0.009) \\\\ \n",
      "  & & \\\\ \n",
      " architecturestack\\_conv:type\\_paddingpost\\_padding & -0.026^{**} & 0.051^{***} \\\\ \n",
      "  & (0.013) & (0.009) \\\\ \n",
      "  & & \\\\ \n",
      " architecturebi\\_lstm:type\\_paddingpre\\_padding & -0.027^{**} & 0.034^{***} \\\\ \n",
      "  & (0.013) & (0.009) \\\\ \n",
      "  & & \\\\ \n",
      " architectureonly\\_denses:type\\_paddingpre\\_padding & -0.102^{***} & 0.022^{**} \\\\ \n",
      "  & (0.013) & (0.009) \\\\ \n",
      "  & & \\\\ \n",
      " architecturestack\\_conv:type\\_paddingpre\\_padding & -0.028^{**} & 0.034^{***} \\\\ \n",
      "  & (0.013) & (0.009) \\\\ \n",
      "  & & \\\\ \n",
      " architecturebi\\_lstm:type\\_paddingrnd\\_padding & 0.003 & 0.091^{***} \\\\ \n",
      "  & (0.013) & (0.009) \\\\ \n",
      "  & & \\\\ \n",
      " architectureonly\\_denses:type\\_paddingrnd\\_padding & -0.036^{***} & 0.030^{***} \\\\ \n",
      "  & (0.013) & (0.009) \\\\ \n",
      "  & & \\\\ \n",
      " architecturestack\\_conv:type\\_paddingrnd\\_padding & -0.008 & 0.075^{***} \\\\ \n",
      "  & (0.013) & (0.009) \\\\ \n",
      "  & & \\\\ \n",
      " architecturebi\\_lstm:type\\_paddingstrf\\_padding & -0.064^{***} & -0.010 \\\\ \n",
      "  & (0.013) & (0.009) \\\\ \n",
      "  & & \\\\ \n",
      " architectureonly\\_denses:type\\_paddingstrf\\_padding & -0.081^{***} & 0.012 \\\\ \n",
      "  & (0.013) & (0.009) \\\\ \n",
      "  & & \\\\ \n",
      " architecturestack\\_conv:type\\_paddingstrf\\_padding & -0.049^{***} & 0.031^{***} \\\\ \n",
      "  & (0.013) & (0.009) \\\\ \n",
      "  & & \\\\ \n",
      " architecturebi\\_lstm:type\\_paddingzoom\\_padding & -0.028^{**} & 0.005 \\\\ \n",
      "  & (0.013) & (0.009) \\\\ \n",
      "  & & \\\\ \n",
      " architectureonly\\_denses:type\\_paddingzoom\\_padding & -0.118^{***} & -0.011 \\\\ \n",
      "  & (0.013) & (0.009) \\\\ \n",
      "  & & \\\\ \n",
      " architecturestack\\_conv:type\\_paddingzoom\\_padding & -0.039^{***} & 0.002 \\\\ \n",
      "  & (0.013) & (0.009) \\\\ \n",
      "  & & \\\\ \n",
      " Constant & 0.758^{***} & 0.548^{***} \\\\ \n",
      "  & (0.006) & (0.005) \\\\ \n",
      "  & & \\\\ \n",
      "\\hline \\\\[-1.8ex] \n",
      "Observations & \\multicolumn{1}{c}{320} & \\multicolumn{1}{c}{320} \\\\ \n",
      "R$^{2}$ & \\multicolumn{1}{c}{0.904} & \\multicolumn{1}{c}{0.966} \\\\ \n",
      "Adjusted R$^{2}$ & \\multicolumn{1}{c}{0.894} & \\multicolumn{1}{c}{0.962} \\\\ \n",
      "Residual Std. Error (df = 288) & \\multicolumn{1}{c}{0.020} & \\multicolumn{1}{c}{0.015} \\\\ \n",
      "F Statistic (df = 31; 288) & \\multicolumn{1}{c}{87.505$^{***}$} & \\multicolumn{1}{c}{263.459$^{***}$} \\\\ \n",
      "\\hline \n",
      "\\hline \\\\[-1.8ex] \n",
      "\\textit{Note:}  & \\multicolumn{2}{r}{$^{*}$p$<$0.1; $^{**}$p$<$0.05; $^{***}$p$<$0.01} \\\\ \n",
      "\\end{tabular} \n",
      "\\end{table} \n"
     ]
    }
   ],
   "source": [
    "stargazer(lm_acc_task1,lm_accu_task2, title=\"Linear models on F1 score\", align=TRUE)"
   ]
  },
  {
   "cell_type": "code",
   "execution_count": 109,
   "metadata": {},
   "outputs": [
    {
     "name": "stdout",
     "output_type": "stream",
     "text": [
      "\n",
      "% Table created by stargazer v.5.2.2 by Marek Hlavac, Harvard University. E-mail: hlavac at fas.harvard.edu\n",
      "% Date and time: Wed, Oct 30, 2019 - 12:30:37 PM\n",
      "% Requires LaTeX packages: dcolumn \n",
      "\\begin{table}[!htbp] \\centering \n",
      "  \\caption{Linear models on F1 score} \n",
      "  \\label{} \n",
      "\\begin{tabular}{@{\\extracolsep{5pt}}lD{.}{.}{-3} D{.}{.}{-3} } \n",
      "\\\\[-1.8ex]\\hline \n",
      "\\hline \\\\[-1.8ex] \n",
      " & \\multicolumn{2}{c}{\\textit{Dependent variable:}} \\\\ \n",
      "\\cline{2-3} \n",
      "\\\\[-1.8ex] & \\multicolumn{2}{c}{f1\\_score} \\\\ \n",
      "\\\\[-1.8ex] & \\multicolumn{1}{c}{(1)} & \\multicolumn{1}{c}{(2)}\\\\ \n",
      "\\hline \\\\[-1.8ex] \n",
      " architecturebi\\_lstm & -0.081^{***} & -0.436^{***} \\\\ \n",
      "  & (0.005) & (0.006) \\\\ \n",
      "  & & \\\\ \n",
      " architectureonly\\_denses & 0.063^{***} & -0.021^{***} \\\\ \n",
      "  & (0.005) & (0.006) \\\\ \n",
      "  & & \\\\ \n",
      " architecturestack\\_conv & 0.011^{**} & -0.011^{*} \\\\ \n",
      "  & (0.005) & (0.006) \\\\ \n",
      "  & & \\\\ \n",
      " enz\\_type1 & 0.024^{***} &  \\\\ \n",
      "  & (0.004) &  \\\\ \n",
      "  & & \\\\ \n",
      " enz\\_type2 &  & 0.256^{***} \\\\ \n",
      "  &  & (0.008) \\\\ \n",
      "  & & \\\\ \n",
      " enz\\_type3 &  & 0.094^{***} \\\\ \n",
      "  &  & (0.008) \\\\ \n",
      "  & & \\\\ \n",
      " enz\\_type4 &  & 0.004 \\\\ \n",
      "  &  & (0.008) \\\\ \n",
      "  & & \\\\ \n",
      " enz\\_type5 &  & 0.123^{***} \\\\ \n",
      "  &  & (0.008) \\\\ \n",
      "  & & \\\\ \n",
      " enz\\_type6 &  & 0.043^{***} \\\\ \n",
      "  &  & (0.008) \\\\ \n",
      "  & & \\\\ \n",
      " enz\\_type7 &  & 0.072^{***} \\\\ \n",
      "  &  & (0.008) \\\\ \n",
      "  & & \\\\ \n",
      " type\\_paddingext\\_padding & 0.028^{***} & 0.014 \\\\ \n",
      "  & (0.007) & (0.009) \\\\ \n",
      "  & & \\\\ \n",
      " type\\_paddingmid\\_padding & 0.078^{***} & 0.038^{***} \\\\ \n",
      "  & (0.007) & (0.009) \\\\ \n",
      "  & & \\\\ \n",
      " type\\_paddingpost\\_padding & 0.073^{***} & 0.015^{*} \\\\ \n",
      "  & (0.007) & (0.009) \\\\ \n",
      "  & & \\\\ \n",
      " type\\_paddingpre\\_padding & 0.061^{***} & 0.016^{*} \\\\ \n",
      "  & (0.007) & (0.009) \\\\ \n",
      "  & & \\\\ \n",
      " type\\_paddingrnd\\_padding & 0.021^{***} & -0.057^{***} \\\\ \n",
      "  & (0.007) & (0.009) \\\\ \n",
      "  & & \\\\ \n",
      " type\\_paddingstrf\\_padding & 0.063^{***} & 0.015^{*} \\\\ \n",
      "  & (0.007) & (0.009) \\\\ \n",
      "  & & \\\\ \n",
      " type\\_paddingzoom\\_padding & 0.065^{***} & -0.013 \\\\ \n",
      "  & (0.007) & (0.009) \\\\ \n",
      "  & & \\\\ \n",
      " Constant & 0.779^{***} & 0.448^{***} \\\\ \n",
      "  & (0.006) & (0.009) \\\\ \n",
      "  & & \\\\ \n",
      "\\hline \\\\[-1.8ex] \n",
      "Observations & \\multicolumn{1}{c}{640} & \\multicolumn{1}{c}{2,240} \\\\ \n",
      "R$^{2}$ & \\multicolumn{1}{c}{0.642} & \\multicolumn{1}{c}{0.795} \\\\ \n",
      "Adjusted R$^{2}$ & \\multicolumn{1}{c}{0.636} & \\multicolumn{1}{c}{0.794} \\\\ \n",
      "Residual Std. Error & \\multicolumn{1}{c}{0.045 (df = 628)} & \\multicolumn{1}{c}{0.104 (df = 2223)} \\\\ \n",
      "F Statistic & \\multicolumn{1}{c}{102.553$^{***}$ (df = 11; 628)} & \\multicolumn{1}{c}{538.906$^{***}$ (df = 16; 2223)} \\\\ \n",
      "\\hline \n",
      "\\hline \\\\[-1.8ex] \n",
      "\\textit{Note:}  & \\multicolumn{2}{r}{$^{*}$p$<$0.1; $^{**}$p$<$0.05; $^{***}$p$<$0.01} \\\\ \n",
      "\\end{tabular} \n",
      "\\end{table} \n"
     ]
    }
   ],
   "source": [
    "stargazer(lm_f1_task1,lm_f1_task2, title=\"Linear models on F1 score\", align=TRUE)"
   ]
  },
  {
   "cell_type": "code",
   "execution_count": null,
   "metadata": {},
   "outputs": [],
   "source": []
  }
 ],
 "metadata": {
  "kernelspec": {
   "display_name": "R",
   "language": "R",
   "name": "ir"
  },
  "language_info": {
   "codemirror_mode": "r",
   "file_extension": ".r",
   "mimetype": "text/x-r-source",
   "name": "R",
   "pygments_lexer": "r",
   "version": "3.4.4"
  }
 },
 "nbformat": 4,
 "nbformat_minor": 2
}
