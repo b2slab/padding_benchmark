{
 "cells": [
  {
   "cell_type": "code",
   "execution_count": 114,
   "metadata": {},
   "outputs": [
    {
     "name": "stderr",
     "output_type": "stream",
     "text": [
      "Installing package into ‘/home/angela/R/x86_64-pc-linux-gnu-library/3.4’\n",
      "(as ‘lib’ is unspecified)\n",
      "Warning message:\n",
      "“package ‘mvtnorm’ is not available (for R version 3.4.4)”Installing package into ‘/home/angela/R/x86_64-pc-linux-gnu-library/3.4’\n",
      "(as ‘lib’ is unspecified)\n",
      "Warning message:\n",
      "“dependency ‘mvtnorm’ is not available”Warning message in install.packages(\"emmeans\"):\n",
      "“installation of package ‘emmeans’ had non-zero exit status”"
     ]
    }
   ],
   "source": [
    "# install.packages(\"stargazer\")\n",
    "#install.packages(\"mvtnorm\")\n",
    "#install.packages(\"emmeans\")"
   ]
  },
  {
   "cell_type": "code",
   "execution_count": 224,
   "metadata": {},
   "outputs": [],
   "source": [
    "library(\"reshape2\")\n",
    "library(\"stargazer\")\n",
    "library(\"ggplot2\")\n",
    "#library(\"emmeans\")"
   ]
  },
  {
   "cell_type": "code",
   "execution_count": 2,
   "metadata": {},
   "outputs": [],
   "source": [
    "absPath = '/home/angela/padding_EBI/'"
   ]
  },
  {
   "cell_type": "code",
   "execution_count": null,
   "metadata": {},
   "outputs": [],
   "source": [
    "file_scores <- \"scores_final.csv\"\n",
    "file_accuracy <- \"accu_final.csv\""
   ]
  },
  {
   "cell_type": "markdown",
   "metadata": {},
   "source": [
    "### Defining functions"
   ]
  },
  {
   "cell_type": "code",
   "execution_count": 639,
   "metadata": {},
   "outputs": [],
   "source": [
    "postproc_lm <- function(lm_res){\n",
    "    sm <- summary(lm_res)\n",
    "    sm_df <- as.data.frame(sm$coefficients)\n",
    "    colnames(sm_df) <- c(\"Estimate\", \"Std.Error\", \"t.value\", \"p_val\")\n",
    "    sm_df[\"p_adjusted\"] = p.adjust(sm_df$p_val, method = \"fdr\")\n",
    "    index <- sm_df[\"p_adjusted\"] >= 0.05\n",
    "    #sm_df$Estimate[index] <- 0\n",
    "    return(sm_df)\n",
    "}\n",
    "\n",
    "dividing_rownames <- function(group, df){\n",
    "    names <- c()\n",
    "    estimates <- c()\n",
    "    pvals <- c()\n",
    "    indices <- grep(group,rownames(df))\n",
    "    subgroup <- rownames(df)[indices]\n",
    "    for (i in 1:length(subgroup)){\n",
    "        sg <- unlist(strsplit(subgroup[i], group)[1])[2]\n",
    "        names <- c(names, sg)\n",
    "        estimates <- c(estimates, df[subgroup[i], \"Estimate\"])\n",
    "        pvals <- c(pvals, df[subgroup[i], \"p_adjusted\"])\n",
    "              }\n",
    "    mini_df <- data.frame(\"estimates\"=estimates, \"p_valor\"=pvals)\n",
    "    mini_df$significant <- mini_df[\"p_valor\"] < 0.05\n",
    "    rownames(mini_df) <- names\n",
    "    mini_df[group] <- rownames(mini_df)\n",
    "    mini_df[\"x\"] <- 1\n",
    "    return(mini_df)\n",
    "}    \n",
    "\n",
    "values_significant <- c(\"black\", NA)\n",
    "names(values_significant) <- c(TRUE, FALSE)\n",
    "\n",
    "separating_interactions <- function(group1, group2, df){\n",
    "    estimates_list <- c()\n",
    "    xs <- c()\n",
    "    ys <- c()\n",
    "    interactions <- grep(\":\", rownames(df))\n",
    "    df_int <- df[interactions,]\n",
    "    df_esti <- df[-interactions,]\n",
    "    pvals_list <- c()\n",
    "    for (i in 1:length(rownames(df_int))){\n",
    "        sg <- unlist(strsplit(rownames(df_int)[i], \":\")[1])\n",
    "        x <- unlist(strsplit(sg[1], group1)[1])[2]\n",
    "        y <- unlist(strsplit(sg[2], group2)[1])[2]\n",
    "        estimates_list <- c(estimates_list, df[rownames(df_int)[i], \"Estimate\"])\n",
    "        pvals_list <- c(pvals_list, df_int[rownames(df_int)[i], \"p_adjusted\"])\n",
    "        xs <- c(xs, x)\n",
    "        ys <- c(ys, y)\n",
    "        }\n",
    "    interactions_df <- data.frame(\"estimates\"=estimates_list, \"x\"=xs, \"y\"=ys, \"p_val\"=pvals_list)\n",
    "    interactions_df$significant <- interactions_df$p_val < 0.05\n",
    "    newList <- list(\"estimates_df\"=df_esti, \"interactions_df\"=interactions_df)\n",
    "    return(newList)\n",
    "\n",
    "}\n",
    "\n",
    "plotting_additive <- function(group, df){\n",
    "    ggplot(df, aes_string( x=\"x\", y=group)) +\n",
    "geom_tile(aes(fill = estimates), colour = \"white\") + \n",
    "geom_tile(aes(color=significant), fill=NA, size=0.5) + \n",
    "scale_fill_gradient2(limits=c(-1, 1)) + \n",
    "scale_color_manual(values= values_significant) +  \n",
    "theme_bw() + \n",
    "theme(axis.title.x=element_blank(), axis.text.x=element_blank(), axis.ticks.x=element_blank(),\n",
    "     axis.title.y=element_blank(), axis.text.y=element_text(size=11))+ \n",
    "coord_equal()\n",
    "}\n",
    "\n",
    "plotting_interactions <- function(df){\n",
    "    ggplot(df$interactions_df, aes( x=x, y=y)) +\n",
    "geom_tile(aes(fill = estimates), colour = \"white\") + \n",
    "geom_tile(aes(color=significant), fill=NA, size=0.5) + \n",
    "scale_fill_gradient2(limits=c(-1, 1)) + \n",
    "scale_color_manual(values= values_significant) +  \n",
    "theme_bw() + \n",
    "theme(axis.title.x=element_blank(), axis.ticks.x=element_blank(),\n",
    "     axis.title.y=element_blank(), axis.text.y=element_text(size=11),\n",
    "     axis.text.x=element_text(size=10)) +\n",
    "coord_equal()\n",
    "    \n",
    "}"
   ]
  },
  {
   "cell_type": "markdown",
   "metadata": {},
   "source": [
    "# Task 1"
   ]
  },
  {
   "cell_type": "code",
   "execution_count": 6,
   "metadata": {},
   "outputs": [],
   "source": [
    "task <- \"task1/\"\n",
    "\n",
    "path_scores_task1 <- paste0(absPath, \"data/results/\", task, file_scores)\n",
    "path_accu_task1 <- paste0(absPath, \"data/results/\", task, file_accuracy)\n",
    "\n",
    "scores_task1 <- read.csv(file=path_scores_task1, header=TRUE, sep=\",\")\n",
    "accu_task1 <- read.csv(file=path_accu_task1, header=TRUE, sep=\",\")"
   ]
  },
  {
   "cell_type": "markdown",
   "metadata": {},
   "source": [
    "## Scores"
   ]
  },
  {
   "cell_type": "code",
   "execution_count": 510,
   "metadata": {},
   "outputs": [
    {
     "data": {
      "text/html": [
       "<table>\n",
       "<caption>A data.frame: 5 x 6</caption>\n",
       "<thead>\n",
       "\t<tr><th></th><th scope=col>enz_type</th><th scope=col>index</th><th scope=col>type_padding</th><th scope=col>architecture</th><th scope=col>variable</th><th scope=col>value</th></tr>\n",
       "\t<tr><th></th><th scope=col>&lt;fct&gt;</th><th scope=col>&lt;int&gt;</th><th scope=col>&lt;fct&gt;</th><th scope=col>&lt;fct&gt;</th><th scope=col>&lt;fct&gt;</th><th scope=col>&lt;dbl&gt;</th></tr>\n",
       "</thead>\n",
       "<tbody>\n",
       "\t<tr><th scope=row>1</th><td>0</td><td>0</td><td>post_padding</td><td>1_conv</td><td>f1-score</td><td>0.8548043</td></tr>\n",
       "\t<tr><th scope=row>2</th><td>1</td><td>0</td><td>post_padding</td><td>1_conv</td><td>f1-score</td><td>0.8642715</td></tr>\n",
       "\t<tr><th scope=row>6</th><td>0</td><td>0</td><td>pre_padding </td><td>1_conv</td><td>f1-score</td><td>0.8653776</td></tr>\n",
       "\t<tr><th scope=row>7</th><td>1</td><td>0</td><td>pre_padding </td><td>1_conv</td><td>f1-score</td><td>0.8800000</td></tr>\n",
       "\t<tr><th scope=row>11</th><td>0</td><td>0</td><td>mid_padding </td><td>1_conv</td><td>f1-score</td><td>0.8617318</td></tr>\n",
       "</tbody>\n",
       "</table>\n"
      ],
      "text/latex": [
       "A data.frame: 5 x 6\n",
       "\\begin{tabular}{r|llllll}\n",
       "  & enz\\_type & index & type\\_padding & architecture & variable & value\\\\\n",
       "  & <fct> & <int> & <fct> & <fct> & <fct> & <dbl>\\\\\n",
       "\\hline\n",
       "\t1 & 0 & 0 & post\\_padding & 1\\_conv & f1-score & 0.8548043\\\\\n",
       "\t2 & 1 & 0 & post\\_padding & 1\\_conv & f1-score & 0.8642715\\\\\n",
       "\t6 & 0 & 0 & pre\\_padding  & 1\\_conv & f1-score & 0.8653776\\\\\n",
       "\t7 & 1 & 0 & pre\\_padding  & 1\\_conv & f1-score & 0.8800000\\\\\n",
       "\t11 & 0 & 0 & mid\\_padding  & 1\\_conv & f1-score & 0.8617318\\\\\n",
       "\\end{tabular}\n"
      ],
      "text/markdown": [
       "\n",
       "A data.frame: 5 x 6\n",
       "\n",
       "| <!--/--> | enz_type &lt;fct&gt; | index &lt;int&gt; | type_padding &lt;fct&gt; | architecture &lt;fct&gt; | variable &lt;fct&gt; | value &lt;dbl&gt; |\n",
       "|---|---|---|---|---|---|---|\n",
       "| 1 | 0 | 0 | post_padding | 1_conv | f1-score | 0.8548043 |\n",
       "| 2 | 1 | 0 | post_padding | 1_conv | f1-score | 0.8642715 |\n",
       "| 6 | 0 | 0 | pre_padding  | 1_conv | f1-score | 0.8653776 |\n",
       "| 7 | 1 | 0 | pre_padding  | 1_conv | f1-score | 0.8800000 |\n",
       "| 11 | 0 | 0 | mid_padding  | 1_conv | f1-score | 0.8617318 |\n",
       "\n"
      ],
      "text/plain": [
       "   enz_type index type_padding architecture variable value    \n",
       "1  0        0     post_padding 1_conv       f1-score 0.8548043\n",
       "2  1        0     post_padding 1_conv       f1-score 0.8642715\n",
       "6  0        0     pre_padding  1_conv       f1-score 0.8653776\n",
       "7  1        0     pre_padding  1_conv       f1-score 0.8800000\n",
       "11 0        0     mid_padding  1_conv       f1-score 0.8617318"
      ]
     },
     "metadata": {},
     "output_type": "display_data"
    },
    {
     "data": {
      "text/html": [
       "<dl class=dl-horizontal>\n",
       "\t<dt>enz_type</dt>\n",
       "\t\t<dd>'factor'</dd>\n",
       "\t<dt>index</dt>\n",
       "\t\t<dd>'integer'</dd>\n",
       "\t<dt>type_padding</dt>\n",
       "\t\t<dd>'factor'</dd>\n",
       "\t<dt>architecture</dt>\n",
       "\t\t<dd>'factor'</dd>\n",
       "\t<dt>variable</dt>\n",
       "\t\t<dd>'factor'</dd>\n",
       "\t<dt>value</dt>\n",
       "\t\t<dd>'numeric'</dd>\n",
       "</dl>\n"
      ],
      "text/latex": [
       "\\begin{description*}\n",
       "\\item[enz\\textbackslash{}\\_type] 'factor'\n",
       "\\item[index] 'integer'\n",
       "\\item[type\\textbackslash{}\\_padding] 'factor'\n",
       "\\item[architecture] 'factor'\n",
       "\\item[variable] 'factor'\n",
       "\\item[value] 'numeric'\n",
       "\\end{description*}\n"
      ],
      "text/markdown": [
       "enz_type\n",
       ":   'factor'index\n",
       ":   'integer'type_padding\n",
       ":   'factor'architecture\n",
       ":   'factor'variable\n",
       ":   'factor'value\n",
       ":   'numeric'\n",
       "\n"
      ],
      "text/plain": [
       "    enz_type        index type_padding architecture     variable        value \n",
       "    \"factor\"    \"integer\"     \"factor\"     \"factor\"     \"factor\"    \"numeric\" "
      ]
     },
     "metadata": {},
     "output_type": "display_data"
    },
    {
     "data": {
      "text/html": [
       "<table>\n",
       "<caption>A data.frame: 5 x 7</caption>\n",
       "<thead>\n",
       "\t<tr><th scope=col>enz_type</th><th scope=col>index</th><th scope=col>type_padding</th><th scope=col>architecture</th><th scope=col>f1_score</th><th scope=col>precision</th><th scope=col>recall</th></tr>\n",
       "\t<tr><th scope=col>&lt;fct&gt;</th><th scope=col>&lt;int&gt;</th><th scope=col>&lt;fct&gt;</th><th scope=col>&lt;fct&gt;</th><th scope=col>&lt;dbl&gt;</th><th scope=col>&lt;dbl&gt;</th><th scope=col>&lt;dbl&gt;</th></tr>\n",
       "</thead>\n",
       "<tbody>\n",
       "\t<tr><td>0</td><td>0</td><td>aug_padding</td><td>1_conv     </td><td>0.7512593</td><td>0.6471795</td><td>0.8952308</td></tr>\n",
       "\t<tr><td>0</td><td>0</td><td>aug_padding</td><td>bi_lstm    </td><td>0.7167895</td><td>0.5736383</td><td>0.9551457</td></tr>\n",
       "\t<tr><td>0</td><td>0</td><td>aug_padding</td><td>only_denses</td><td>0.8760426</td><td>0.8434343</td><td>0.9112736</td></tr>\n",
       "\t<tr><td>0</td><td>0</td><td>aug_padding</td><td>stack_conv </td><td>0.7811460</td><td>0.6844007</td><td>0.9097457</td></tr>\n",
       "\t<tr><td>0</td><td>0</td><td>ext_padding</td><td>1_conv     </td><td>0.8403179</td><td>0.7971213</td><td>0.8884645</td></tr>\n",
       "</tbody>\n",
       "</table>\n"
      ],
      "text/latex": [
       "A data.frame: 5 x 7\n",
       "\\begin{tabular}{r|lllllll}\n",
       " enz\\_type & index & type\\_padding & architecture & f1\\_score & precision & recall\\\\\n",
       " <fct> & <int> & <fct> & <fct> & <dbl> & <dbl> & <dbl>\\\\\n",
       "\\hline\n",
       "\t 0 & 0 & aug\\_padding & 1\\_conv      & 0.7512593 & 0.6471795 & 0.8952308\\\\\n",
       "\t 0 & 0 & aug\\_padding & bi\\_lstm     & 0.7167895 & 0.5736383 & 0.9551457\\\\\n",
       "\t 0 & 0 & aug\\_padding & only\\_denses & 0.8760426 & 0.8434343 & 0.9112736\\\\\n",
       "\t 0 & 0 & aug\\_padding & stack\\_conv  & 0.7811460 & 0.6844007 & 0.9097457\\\\\n",
       "\t 0 & 0 & ext\\_padding & 1\\_conv      & 0.8403179 & 0.7971213 & 0.8884645\\\\\n",
       "\\end{tabular}\n"
      ],
      "text/markdown": [
       "\n",
       "A data.frame: 5 x 7\n",
       "\n",
       "| enz_type &lt;fct&gt; | index &lt;int&gt; | type_padding &lt;fct&gt; | architecture &lt;fct&gt; | f1_score &lt;dbl&gt; | precision &lt;dbl&gt; | recall &lt;dbl&gt; |\n",
       "|---|---|---|---|---|---|---|\n",
       "| 0 | 0 | aug_padding | 1_conv      | 0.7512593 | 0.6471795 | 0.8952308 |\n",
       "| 0 | 0 | aug_padding | bi_lstm     | 0.7167895 | 0.5736383 | 0.9551457 |\n",
       "| 0 | 0 | aug_padding | only_denses | 0.8760426 | 0.8434343 | 0.9112736 |\n",
       "| 0 | 0 | aug_padding | stack_conv  | 0.7811460 | 0.6844007 | 0.9097457 |\n",
       "| 0 | 0 | ext_padding | 1_conv      | 0.8403179 | 0.7971213 | 0.8884645 |\n",
       "\n"
      ],
      "text/plain": [
       "  enz_type index type_padding architecture f1_score  precision recall   \n",
       "1 0        0     aug_padding  1_conv       0.7512593 0.6471795 0.8952308\n",
       "2 0        0     aug_padding  bi_lstm      0.7167895 0.5736383 0.9551457\n",
       "3 0        0     aug_padding  only_denses  0.8760426 0.8434343 0.9112736\n",
       "4 0        0     aug_padding  stack_conv   0.7811460 0.6844007 0.9097457\n",
       "5 0        0     ext_padding  1_conv       0.8403179 0.7971213 0.8884645"
      ]
     },
     "metadata": {},
     "output_type": "display_data"
    }
   ],
   "source": [
    "scores_task1[0:5,]\n",
    "scores_task1$X <- NULL\n",
    "#filtering \n",
    "scores_task1 <- scores_task1[scores_task1$enz_type %in% c(0,1),]\n",
    "sapply(scores_task1, class)\n",
    "# habria que hacer un unmelt de variable-value\n",
    "scores_task1_dcasted <- dcast(data = scores_task1,formula = enz_type+index+type_padding+architecture~variable,\n",
    "                              fun.aggregate = sum,value.var = \"value\")\n",
    "#tengo que cambiar el nombre de f1-score\n",
    "colnames(scores_task1_dcasted) <- c(\"enz_type\", \"index\", \"type_padding\", \"architecture\", \"f1_score\",\n",
    "                                    \"precision\", \"recall\")\n",
    "scores_task1_dcasted[0:5,]"
   ]
  },
  {
   "cell_type": "markdown",
   "metadata": {},
   "source": [
    "## changing reference"
   ]
  },
  {
   "cell_type": "code",
   "execution_count": 511,
   "metadata": {},
   "outputs": [],
   "source": [
    "scores_task1_dcasted$architecture <- relevel(scores_task1_dcasted$architecture, \"only_denses\")\n",
    "scores_task1_dcasted$type_padding <- relevel(scores_task1_dcasted$type_padding, \"post_padding\")"
   ]
  },
  {
   "cell_type": "markdown",
   "metadata": {},
   "source": [
    "## defining \"complete\" lm task 1 (Additive)"
   ]
  },
  {
   "cell_type": "code",
   "execution_count": 512,
   "metadata": {},
   "outputs": [],
   "source": [
    "lm_f1_task1_additive <- lm(f1_score~architecture+enz_type+type_padding, data=scores_task1_dcasted)"
   ]
  },
  {
   "cell_type": "code",
   "execution_count": 513,
   "metadata": {},
   "outputs": [
    {
     "data": {
      "text/plain": [
       "\n",
       "Call:\n",
       "lm(formula = f1_score ~ architecture + enz_type + type_padding, \n",
       "    data = scores_task1_dcasted)\n",
       "\n",
       "Residuals:\n",
       "     Min       1Q   Median       3Q      Max \n",
       "-0.72626 -0.01819  0.00412  0.02333  0.09002 \n",
       "\n",
       "Coefficients:\n",
       "                          Estimate Std. Error t value Pr(>|t|)    \n",
       "(Intercept)               0.915552   0.006112 149.794  < 2e-16 ***\n",
       "architecture1_conv       -0.063287   0.004990 -12.682  < 2e-16 ***\n",
       "architecturebi_lstm      -0.143906   0.004990 -28.836  < 2e-16 ***\n",
       "architecturestack_conv   -0.052351   0.004990 -10.490  < 2e-16 ***\n",
       "enz_type1                 0.024232   0.003529   6.867 1.58e-11 ***\n",
       "type_paddingaug_padding  -0.073154   0.007058 -10.365  < 2e-16 ***\n",
       "type_paddingext_padding  -0.045384   0.007058  -6.431 2.52e-10 ***\n",
       "type_paddingmid_padding   0.005152   0.007058   0.730   0.4657    \n",
       "type_paddingpre_padding  -0.011706   0.007058  -1.659   0.0977 .  \n",
       "type_paddingrnd_padding  -0.052515   0.007058  -7.441 3.30e-13 ***\n",
       "type_paddingstrf_padding -0.010308   0.007058  -1.461   0.1446    \n",
       "type_paddingzoom_padding -0.008391   0.007058  -1.189   0.2349    \n",
       "---\n",
       "Signif. codes:  0 ‘***’ 0.001 ‘**’ 0.01 ‘*’ 0.05 ‘.’ 0.1 ‘ ’ 1\n",
       "\n",
       "Residual standard error: 0.04464 on 628 degrees of freedom\n",
       "Multiple R-squared:  0.6424,\tAdjusted R-squared:  0.6361 \n",
       "F-statistic: 102.6 on 11 and 628 DF,  p-value: < 2.2e-16\n"
      ]
     },
     "metadata": {},
     "output_type": "display_data"
    }
   ],
   "source": [
    "summary(lm_f1_task1_additive)"
   ]
  },
  {
   "cell_type": "code",
   "execution_count": 514,
   "metadata": {},
   "outputs": [
    {
     "data": {
      "text/html": [
       "<table>\n",
       "<caption>A data.frame: 12 x 5</caption>\n",
       "<thead>\n",
       "\t<tr><th></th><th scope=col>Estimate</th><th scope=col>Std.Error</th><th scope=col>t.value</th><th scope=col>p_val</th><th scope=col>p_adjusted</th></tr>\n",
       "\t<tr><th></th><th scope=col>&lt;dbl&gt;</th><th scope=col>&lt;dbl&gt;</th><th scope=col>&lt;dbl&gt;</th><th scope=col>&lt;dbl&gt;</th><th scope=col>&lt;dbl&gt;</th></tr>\n",
       "</thead>\n",
       "<tbody>\n",
       "\t<tr><th scope=row>(Intercept)</th><td> 0.915552229</td><td>0.006112069</td><td>149.7941639</td><td> 0.000000e+00</td><td> 0.000000e+00</td></tr>\n",
       "\t<tr><th scope=row>architecture1_conv</th><td>-0.063287318</td><td>0.004990483</td><td>-12.6816012</td><td> 5.664933e-33</td><td> 2.265973e-32</td></tr>\n",
       "\t<tr><th scope=row>architecturebi_lstm</th><td>-0.143906274</td><td>0.004990483</td><td>-28.8361402</td><td>4.183409e-117</td><td>2.510045e-116</td></tr>\n",
       "\t<tr><th scope=row>architecturestack_conv</th><td>-0.052350501</td><td>0.004990483</td><td>-10.4900665</td><td> 7.837249e-24</td><td> 2.351175e-23</td></tr>\n",
       "\t<tr><th scope=row>enz_type1</th><td> 0.024231756</td><td>0.003528805</td><td>  6.8668457</td><td> 1.580926e-11</td><td> 2.710159e-11</td></tr>\n",
       "\t<tr><th scope=row>type_paddingaug_padding</th><td>-0.073154146</td><td>0.007057609</td><td>-10.3652874</td><td> 2.399845e-23</td><td> 5.759629e-23</td></tr>\n",
       "\t<tr><th scope=row>type_paddingext_padding</th><td>-0.045384439</td><td>0.007057609</td><td> -6.4305686</td><td> 2.518908e-10</td><td> 3.778362e-10</td></tr>\n",
       "\t<tr><th scope=row>type_paddingmid_padding</th><td> 0.005151980</td><td>0.007057609</td><td>  0.7299895</td><td> 4.656688e-01</td><td> 4.656688e-01</td></tr>\n",
       "\t<tr><th scope=row>type_paddingpre_padding</th><td>-0.011705948</td><td>0.007057609</td><td> -1.6586280</td><td> 9.769011e-02</td><td> 1.302535e-01</td></tr>\n",
       "\t<tr><th scope=row>type_paddingrnd_padding</th><td>-0.052514809</td><td>0.007057609</td><td> -7.4408781</td><td> 3.303938e-13</td><td> 6.607875e-13</td></tr>\n",
       "\t<tr><th scope=row>type_paddingstrf_padding</th><td>-0.010308260</td><td>0.007057609</td><td> -1.4605881</td><td> 1.446286e-01</td><td> 1.735543e-01</td></tr>\n",
       "\t<tr><th scope=row>type_paddingzoom_padding</th><td>-0.008391218</td><td>0.007057609</td><td> -1.1889604</td><td> 2.349046e-01</td><td> 2.562596e-01</td></tr>\n",
       "</tbody>\n",
       "</table>\n"
      ],
      "text/latex": [
       "A data.frame: 12 x 5\n",
       "\\begin{tabular}{r|lllll}\n",
       "  & Estimate & Std.Error & t.value & p\\_val & p\\_adjusted\\\\\n",
       "  & <dbl> & <dbl> & <dbl> & <dbl> & <dbl>\\\\\n",
       "\\hline\n",
       "\t(Intercept) &  0.915552229 & 0.006112069 & 149.7941639 &  0.000000e+00 &  0.000000e+00\\\\\n",
       "\tarchitecture1\\_conv & -0.063287318 & 0.004990483 & -12.6816012 &  5.664933e-33 &  2.265973e-32\\\\\n",
       "\tarchitecturebi\\_lstm & -0.143906274 & 0.004990483 & -28.8361402 & 4.183409e-117 & 2.510045e-116\\\\\n",
       "\tarchitecturestack\\_conv & -0.052350501 & 0.004990483 & -10.4900665 &  7.837249e-24 &  2.351175e-23\\\\\n",
       "\tenz\\_type1 &  0.024231756 & 0.003528805 &   6.8668457 &  1.580926e-11 &  2.710159e-11\\\\\n",
       "\ttype\\_paddingaug\\_padding & -0.073154146 & 0.007057609 & -10.3652874 &  2.399845e-23 &  5.759629e-23\\\\\n",
       "\ttype\\_paddingext\\_padding & -0.045384439 & 0.007057609 &  -6.4305686 &  2.518908e-10 &  3.778362e-10\\\\\n",
       "\ttype\\_paddingmid\\_padding &  0.005151980 & 0.007057609 &   0.7299895 &  4.656688e-01 &  4.656688e-01\\\\\n",
       "\ttype\\_paddingpre\\_padding & -0.011705948 & 0.007057609 &  -1.6586280 &  9.769011e-02 &  1.302535e-01\\\\\n",
       "\ttype\\_paddingrnd\\_padding & -0.052514809 & 0.007057609 &  -7.4408781 &  3.303938e-13 &  6.607875e-13\\\\\n",
       "\ttype\\_paddingstrf\\_padding & -0.010308260 & 0.007057609 &  -1.4605881 &  1.446286e-01 &  1.735543e-01\\\\\n",
       "\ttype\\_paddingzoom\\_padding & -0.008391218 & 0.007057609 &  -1.1889604 &  2.349046e-01 &  2.562596e-01\\\\\n",
       "\\end{tabular}\n"
      ],
      "text/markdown": [
       "\n",
       "A data.frame: 12 x 5\n",
       "\n",
       "| <!--/--> | Estimate &lt;dbl&gt; | Std.Error &lt;dbl&gt; | t.value &lt;dbl&gt; | p_val &lt;dbl&gt; | p_adjusted &lt;dbl&gt; |\n",
       "|---|---|---|---|---|---|\n",
       "| (Intercept) |  0.915552229 | 0.006112069 | 149.7941639 |  0.000000e+00 |  0.000000e+00 |\n",
       "| architecture1_conv | -0.063287318 | 0.004990483 | -12.6816012 |  5.664933e-33 |  2.265973e-32 |\n",
       "| architecturebi_lstm | -0.143906274 | 0.004990483 | -28.8361402 | 4.183409e-117 | 2.510045e-116 |\n",
       "| architecturestack_conv | -0.052350501 | 0.004990483 | -10.4900665 |  7.837249e-24 |  2.351175e-23 |\n",
       "| enz_type1 |  0.024231756 | 0.003528805 |   6.8668457 |  1.580926e-11 |  2.710159e-11 |\n",
       "| type_paddingaug_padding | -0.073154146 | 0.007057609 | -10.3652874 |  2.399845e-23 |  5.759629e-23 |\n",
       "| type_paddingext_padding | -0.045384439 | 0.007057609 |  -6.4305686 |  2.518908e-10 |  3.778362e-10 |\n",
       "| type_paddingmid_padding |  0.005151980 | 0.007057609 |   0.7299895 |  4.656688e-01 |  4.656688e-01 |\n",
       "| type_paddingpre_padding | -0.011705948 | 0.007057609 |  -1.6586280 |  9.769011e-02 |  1.302535e-01 |\n",
       "| type_paddingrnd_padding | -0.052514809 | 0.007057609 |  -7.4408781 |  3.303938e-13 |  6.607875e-13 |\n",
       "| type_paddingstrf_padding | -0.010308260 | 0.007057609 |  -1.4605881 |  1.446286e-01 |  1.735543e-01 |\n",
       "| type_paddingzoom_padding | -0.008391218 | 0.007057609 |  -1.1889604 |  2.349046e-01 |  2.562596e-01 |\n",
       "\n"
      ],
      "text/plain": [
       "                         Estimate     Std.Error   t.value     p_val        \n",
       "(Intercept)               0.915552229 0.006112069 149.7941639  0.000000e+00\n",
       "architecture1_conv       -0.063287318 0.004990483 -12.6816012  5.664933e-33\n",
       "architecturebi_lstm      -0.143906274 0.004990483 -28.8361402 4.183409e-117\n",
       "architecturestack_conv   -0.052350501 0.004990483 -10.4900665  7.837249e-24\n",
       "enz_type1                 0.024231756 0.003528805   6.8668457  1.580926e-11\n",
       "type_paddingaug_padding  -0.073154146 0.007057609 -10.3652874  2.399845e-23\n",
       "type_paddingext_padding  -0.045384439 0.007057609  -6.4305686  2.518908e-10\n",
       "type_paddingmid_padding   0.005151980 0.007057609   0.7299895  4.656688e-01\n",
       "type_paddingpre_padding  -0.011705948 0.007057609  -1.6586280  9.769011e-02\n",
       "type_paddingrnd_padding  -0.052514809 0.007057609  -7.4408781  3.303938e-13\n",
       "type_paddingstrf_padding -0.010308260 0.007057609  -1.4605881  1.446286e-01\n",
       "type_paddingzoom_padding -0.008391218 0.007057609  -1.1889604  2.349046e-01\n",
       "                         p_adjusted   \n",
       "(Intercept)               0.000000e+00\n",
       "architecture1_conv        2.265973e-32\n",
       "architecturebi_lstm      2.510045e-116\n",
       "architecturestack_conv    2.351175e-23\n",
       "enz_type1                 2.710159e-11\n",
       "type_paddingaug_padding   5.759629e-23\n",
       "type_paddingext_padding   3.778362e-10\n",
       "type_paddingmid_padding   4.656688e-01\n",
       "type_paddingpre_padding   1.302535e-01\n",
       "type_paddingrnd_padding   6.607875e-13\n",
       "type_paddingstrf_padding  1.735543e-01\n",
       "type_paddingzoom_padding  2.562596e-01"
      ]
     },
     "metadata": {},
     "output_type": "display_data"
    }
   ],
   "source": [
    "sm1_df <- postproc_lm(lm_f1_task1_additive)\n",
    "sm1_df"
   ]
  },
  {
   "cell_type": "code",
   "execution_count": 547,
   "metadata": {},
   "outputs": [],
   "source": [
    "# Dividing lm in representable tiles\n",
    "arch_df_1 <- dividing_rownames(\"architecture\", sm1_df)\n",
    "enz_df_1 <- dividing_rownames(\"enz_type\", sm1_df)\n",
    "pad_df_1 <- dividing_rownames(\"type_padding\", sm1_df)"
   ]
  },
  {
   "cell_type": "code",
   "execution_count": 615,
   "metadata": {},
   "outputs": [
    {
     "data": {
      "image/png": "[encoded data removed]",
      "text/plain": [
       "plot without title"
      ]
     },
     "metadata": {},
     "output_type": "display_data"
    }
   ],
   "source": [
    "options(repr.plot.width=2.5, repr.plot.height=3)\n",
    "plotting_additive(\"architecture\", arch_df_1)"
   ]
  },
  {
   "cell_type": "code",
   "execution_count": 616,
   "metadata": {},
   "outputs": [
    {
     "data": {
      "image/png": "[encoded data removed]",
      "text/plain": [
       "plot without title"
      ]
     },
     "metadata": {},
     "output_type": "display_data"
    }
   ],
   "source": [
    "options(repr.plot.width=2.25, repr.plot.height=3)\n",
    "plotting_additive(\"enz_type\", enz_df_1)"
   ]
  },
  {
   "cell_type": "code",
   "execution_count": 619,
   "metadata": {},
   "outputs": [
    {
     "data": {
      "image/png": "[encoded data removed]",
      "text/plain": [
       "plot without title"
      ]
     },
     "metadata": {},
     "output_type": "display_data"
    }
   ],
   "source": [
    "options(repr.plot.width=2.5, repr.plot.height=3)\n",
    "plotting_additive(\"type_padding\", pad_df_1)"
   ]
  },
  {
   "cell_type": "markdown",
   "metadata": {},
   "source": [
    "## in SoA models, are dense paddings the same? "
   ]
  },
  {
   "cell_type": "code",
   "execution_count": 520,
   "metadata": {},
   "outputs": [],
   "source": [
    "soa_arch <- c(\"stack_conv\", \"bi_lstm\")\n",
    "soa_pad <- c(\"post_padding\", \"pre_padding\", \"mid_padding\", \"ext_padding\")\n",
    "lm_f1_task1_additive_soa <- lm(f1_score~architecture+enz_type+type_padding+type_padding:architecture, \n",
    "                               data=subset(scores_task1_dcasted, architecture %in% soa_arch & type_padding %in% soa_pad))"
   ]
  },
  {
   "cell_type": "code",
   "execution_count": 521,
   "metadata": {
    "scrolled": false
   },
   "outputs": [
    {
     "data": {
      "text/plain": [
       "\n",
       "Call:\n",
       "lm(formula = f1_score ~ architecture + enz_type + type_padding + \n",
       "    type_padding:architecture, data = subset(scores_task1_dcasted, \n",
       "    architecture %in% soa_arch & type_padding %in% soa_pad))\n",
       "\n",
       "Residuals:\n",
       "     Min       1Q   Median       3Q      Max \n",
       "-0.63387 -0.01356  0.00976  0.02012  0.09387 \n",
       "\n",
       "Coefficients:\n",
       "                                                Estimate Std. Error t value\n",
       "(Intercept)                                     0.776724   0.014281  54.387\n",
       "architecturestack_conv                          0.080073   0.019042   4.205\n",
       "enz_type1                                       0.044692   0.009521   4.694\n",
       "type_paddingext_padding                        -0.142850   0.019042  -7.502\n",
       "type_paddingmid_padding                         0.020414   0.019042   1.072\n",
       "type_paddingpre_padding                        -0.014794   0.019042  -0.777\n",
       "architecturestack_conv:type_paddingext_padding  0.138917   0.026929   5.159\n",
       "architecturestack_conv:type_paddingmid_padding -0.025990   0.026929  -0.965\n",
       "architecturestack_conv:type_paddingpre_padding -0.001807   0.026929  -0.067\n",
       "                                               Pr(>|t|)    \n",
       "(Intercept)                                     < 2e-16 ***\n",
       "architecturestack_conv                         4.45e-05 ***\n",
       "enz_type1                                      5.96e-06 ***\n",
       "type_paddingext_padding                        5.02e-12 ***\n",
       "type_paddingmid_padding                           0.285    \n",
       "type_paddingpre_padding                           0.438    \n",
       "architecturestack_conv:type_paddingext_padding 7.71e-07 ***\n",
       "architecturestack_conv:type_paddingmid_padding    0.336    \n",
       "architecturestack_conv:type_paddingpre_padding    0.947    \n",
       "---\n",
       "Signif. codes:  0 ‘***’ 0.001 ‘**’ 0.01 ‘*’ 0.05 ‘.’ 0.1 ‘ ’ 1\n",
       "\n",
       "Residual standard error: 0.06022 on 151 degrees of freedom\n",
       "Multiple R-squared:  0.6151,\tAdjusted R-squared:  0.5947 \n",
       "F-statistic: 30.16 on 8 and 151 DF,  p-value: < 2.2e-16\n"
      ]
     },
     "metadata": {},
     "output_type": "display_data"
    }
   ],
   "source": [
    "summary(lm_f1_task1_additive_soa)"
   ]
  },
  {
   "cell_type": "code",
   "execution_count": 535,
   "metadata": {},
   "outputs": [],
   "source": [
    "sm2_df <- postproc_lm(lm_f1_task1_additive_soa)\n",
    "sm2_df_proc <- separating_interactions(\"architecture\", \"type_padding\", sm2_df)"
   ]
  },
  {
   "cell_type": "code",
   "execution_count": 537,
   "metadata": {},
   "outputs": [],
   "source": [
    "# Dividing lm in representable tiles\n",
    "arch_df_2 <- dividing_rownames(\"architecture\", sm2_df_proc$estimates_df)\n",
    "enz_df_2 <- dividing_rownames(\"enz_type\", sm2_df_proc$estimates_df)\n",
    "pad_df_2 <- dividing_rownames(\"type_padding\", sm2_df_proc$estimates_df)"
   ]
  },
  {
   "cell_type": "code",
   "execution_count": 620,
   "metadata": {},
   "outputs": [
    {
     "data": {
      "image/png": "[encoded data removed]",
      "text/plain": [
       "plot without title"
      ]
     },
     "metadata": {},
     "output_type": "display_data"
    }
   ],
   "source": [
    "options(repr.plot.width=2.5, repr.plot.height=3)\n",
    "plotting_additive(\"architecture\", arch_df_2)"
   ]
  },
  {
   "cell_type": "code",
   "execution_count": 621,
   "metadata": {},
   "outputs": [
    {
     "data": {
      "image/png": "[encoded data removed]",
      "text/plain": [
       "plot without title"
      ]
     },
     "metadata": {},
     "output_type": "display_data"
    }
   ],
   "source": [
    "options(repr.plot.width=2.5, repr.plot.height=3)\n",
    "plotting_additive(\"enz_type\", enz_df_2)"
   ]
  },
  {
   "cell_type": "code",
   "execution_count": 622,
   "metadata": {},
   "outputs": [
    {
     "data": {
      "image/png": "[encoded data removed]",
      "text/plain": [
       "plot without title"
      ]
     },
     "metadata": {},
     "output_type": "display_data"
    }
   ],
   "source": [
    "options(repr.plot.width=2.5, repr.plot.height=3)\n",
    "plotting_additive(\"type_padding\", pad_df_2)"
   ]
  },
  {
   "cell_type": "code",
   "execution_count": 626,
   "metadata": {},
   "outputs": [
    {
     "data": {
      "image/png": "[encoded data removed]",
      "text/plain": [
       "plot without title"
      ]
     },
     "metadata": {},
     "output_type": "display_data"
    }
   ],
   "source": [
    "options(repr.plot.width=4, repr.plot.height=3)\n",
    "plotting_interactions(sm2_df_proc)"
   ]
  },
  {
   "cell_type": "markdown",
   "metadata": {},
   "source": [
    "## effect of sparse padding to state of the art architectures?"
   ]
  },
  {
   "cell_type": "code",
   "execution_count": 562,
   "metadata": {},
   "outputs": [],
   "source": [
    "# interactions non significant\n",
    "soa2_pad <- c(\"post_padding\", \"strf_padding\", \"rnd_padding\", \"zoom_padding\")\n",
    "lm_f1_task1_additive_soa3 <- lm(f1_score~architecture+enz_type+type_padding, \n",
    "                               data=subset(scores_task1_dcasted, architecture %in% soa_arch & type_padding %in% soa2_pad))"
   ]
  },
  {
   "cell_type": "code",
   "execution_count": 565,
   "metadata": {},
   "outputs": [
    {
     "data": {
      "text/plain": [
       "\n",
       "Call:\n",
       "lm(formula = f1_score ~ architecture + enz_type + type_padding, \n",
       "    data = subset(scores_task1_dcasted, architecture %in% soa_arch & \n",
       "        type_padding %in% soa2_pad))\n",
       "\n",
       "Residuals:\n",
       "      Min        1Q    Median        3Q       Max \n",
       "-0.125632 -0.013578  0.002155  0.016052  0.049521 \n",
       "\n",
       "Coefficients:\n",
       "                          Estimate Std. Error t value Pr(>|t|)    \n",
       "(Intercept)               0.777703   0.004489 173.256  < 2e-16 ***\n",
       "architecturestack_conv    0.075906   0.003665  20.711  < 2e-16 ***\n",
       "enz_type1                 0.046901   0.003665  12.797  < 2e-16 ***\n",
       "type_paddingrnd_padding  -0.059636   0.005183 -11.506  < 2e-16 ***\n",
       "type_paddingstrf_padding -0.032954   0.005183  -6.358 2.21e-09 ***\n",
       "type_paddingzoom_padding -0.010754   0.005183  -2.075   0.0397 *  \n",
       "---\n",
       "Signif. codes:  0 ‘***’ 0.001 ‘**’ 0.01 ‘*’ 0.05 ‘.’ 0.1 ‘ ’ 1\n",
       "\n",
       "Residual standard error: 0.02318 on 154 degrees of freedom\n",
       "Multiple R-squared:  0.8293,\tAdjusted R-squared:  0.8238 \n",
       "F-statistic: 149.6 on 5 and 154 DF,  p-value: < 2.2e-16\n"
      ]
     },
     "metadata": {},
     "output_type": "display_data"
    }
   ],
   "source": [
    "summary(lm_f1_task1_additive_soa3)"
   ]
  },
  {
   "cell_type": "code",
   "execution_count": 568,
   "metadata": {},
   "outputs": [],
   "source": [
    "sm3_df <- postproc_lm(lm_f1_task1_additive_soa3)\n",
    "\n",
    "# Dividing lm in representable tiles\n",
    "arch_df_3 <- dividing_rownames(\"architecture\", sm3_df)\n",
    "enz_df_3 <- dividing_rownames(\"enz_type\", sm3_df)\n",
    "pad_df_3 <- dividing_rownames(\"type_padding\", sm3_df)"
   ]
  },
  {
   "cell_type": "code",
   "execution_count": 628,
   "metadata": {},
   "outputs": [
    {
     "data": {
      "image/png": "[encoded data removed]",
      "text/plain": [
       "plot without title"
      ]
     },
     "metadata": {},
     "output_type": "display_data"
    }
   ],
   "source": [
    "options(repr.plot.width=2.5, repr.plot.height=3)\n",
    "plotting_additive(\"architecture\", arch_df_3)"
   ]
  },
  {
   "cell_type": "code",
   "execution_count": 629,
   "metadata": {},
   "outputs": [
    {
     "data": {
      "image/png": "[encoded data removed]",
      "text/plain": [
       "plot without title"
      ]
     },
     "metadata": {},
     "output_type": "display_data"
    }
   ],
   "source": [
    "options(repr.plot.width=2.5, repr.plot.height=3)\n",
    "plotting_additive(\"enz_type\", enz_df_3)"
   ]
  },
  {
   "cell_type": "code",
   "execution_count": 631,
   "metadata": {},
   "outputs": [
    {
     "data": {
      "image/png": "[encoded data removed]",
      "text/plain": [
       "plot without title"
      ]
     },
     "metadata": {},
     "output_type": "display_data"
    }
   ],
   "source": [
    "options(repr.plot.width=2.5, repr.plot.height=3)\n",
    "plotting_additive(\"type_padding\", pad_df_3)"
   ]
  },
  {
   "cell_type": "markdown",
   "metadata": {},
   "source": [
    "## differences between types of padding?"
   ]
  },
  {
   "cell_type": "code",
   "execution_count": 574,
   "metadata": {},
   "outputs": [],
   "source": [
    "lm_f1_task1_additive_soa4 <- lm(f1_score~enz_type+type_padding, \n",
    "                               data=subset(scores_task1_dcasted, architecture == \"only_denses\"))"
   ]
  },
  {
   "cell_type": "code",
   "execution_count": 575,
   "metadata": {},
   "outputs": [
    {
     "data": {
      "text/plain": [
       "\n",
       "Call:\n",
       "lm(formula = f1_score ~ enz_type + type_padding, data = subset(scores_task1_dcasted, \n",
       "    architecture == \"only_denses\"))\n",
       "\n",
       "Residuals:\n",
       "      Min        1Q    Median        3Q       Max \n",
       "-0.075505 -0.008432  0.002578  0.010467  0.031178 \n",
       "\n",
       "Coefficients:\n",
       "                           Estimate Std. Error t value Pr(>|t|)    \n",
       "(Intercept)               0.8956930  0.0038765 231.057  < 2e-16 ***\n",
       "enz_type1                 0.0087738  0.0025843   3.395 0.000877 ***\n",
       "type_paddingaug_padding  -0.0001935  0.0051687  -0.037 0.970191    \n",
       "type_paddingext_padding  -0.0041699  0.0051687  -0.807 0.421071    \n",
       "type_paddingmid_padding   0.0105087  0.0051687   2.033 0.043789 *  \n",
       "type_paddingpre_padding  -0.0008379  0.0051687  -0.162 0.871442    \n",
       "type_paddingrnd_padding  -0.0041826  0.0051687  -0.809 0.419664    \n",
       "type_paddingstrf_padding  0.0300487  0.0051687   5.814 3.51e-08 ***\n",
       "type_paddingzoom_padding -0.0067748  0.0051687  -1.311 0.191932    \n",
       "---\n",
       "Signif. codes:  0 ‘***’ 0.001 ‘**’ 0.01 ‘*’ 0.05 ‘.’ 0.1 ‘ ’ 1\n",
       "\n",
       "Residual standard error: 0.01634 on 151 degrees of freedom\n",
       "Multiple R-squared:  0.368,\tAdjusted R-squared:  0.3345 \n",
       "F-statistic: 10.99 on 8 and 151 DF,  p-value: 3.726e-12\n"
      ]
     },
     "metadata": {},
     "output_type": "display_data"
    }
   ],
   "source": [
    "summary(lm_f1_task1_additive_soa4)"
   ]
  },
  {
   "cell_type": "code",
   "execution_count": 579,
   "metadata": {},
   "outputs": [],
   "source": [
    "sm4_df <- postproc_lm(lm_f1_task1_additive_soa4)\n",
    "\n",
    "enz_df_4 <- dividing_rownames(\"enz_type\", sm4_df)\n",
    "pad_df_4 <- dividing_rownames(\"type_padding\", sm4_df)"
   ]
  },
  {
   "cell_type": "code",
   "execution_count": 633,
   "metadata": {},
   "outputs": [
    {
     "data": {
      "image/png": "[encoded data removed]",
      "text/plain": [
       "plot without title"
      ]
     },
     "metadata": {},
     "output_type": "display_data"
    }
   ],
   "source": [
    "options(repr.plot.width=2.5, repr.plot.height=3)\n",
    "plotting_additive(\"enz_type\", enz_df_4)"
   ]
  },
  {
   "cell_type": "code",
   "execution_count": 634,
   "metadata": {},
   "outputs": [
    {
     "data": {
      "image/png": "[encoded data removed]",
      "text/plain": [
       "plot without title"
      ]
     },
     "metadata": {},
     "output_type": "display_data"
    }
   ],
   "source": [
    "options(repr.plot.width=2.5, repr.plot.height=3)\n",
    "plotting_additive(\"type_padding\", pad_df_4)"
   ]
  },
  {
   "cell_type": "markdown",
   "metadata": {},
   "source": [
    "## mejoran las capas convolucionales la performance de los modelos?"
   ]
  },
  {
   "cell_type": "code",
   "execution_count": 584,
   "metadata": {},
   "outputs": [],
   "source": [
    "soa_pad <- c(\"post_padding\", \"strf_padding\")\n",
    "lm_f1_task1_soa5 <- lm(f1_score~architecture+enz_type+type_padding+type_padding:architecture, \n",
    "                               data=subset(scores_task1_dcasted, type_padding %in% soa_pad))"
   ]
  },
  {
   "cell_type": "code",
   "execution_count": 585,
   "metadata": {},
   "outputs": [
    {
     "data": {
      "text/plain": [
       "\n",
       "Call:\n",
       "lm(formula = f1_score ~ architecture + enz_type + type_padding + \n",
       "    type_padding:architecture, data = subset(scores_task1_dcasted, \n",
       "    type_padding %in% soa_pad))\n",
       "\n",
       "Residuals:\n",
       "      Min        1Q    Median        3Q       Max \n",
       "-0.133528 -0.009068 -0.000109  0.012975  0.037458 \n",
       "\n",
       "Coefficients:\n",
       "                                                 Estimate Std. Error t value\n",
       "(Intercept)                                      0.886609   0.004840 183.167\n",
       "architecture1_conv                              -0.027244   0.006454  -4.221\n",
       "architecturebi_lstm                             -0.101010   0.006454 -15.651\n",
       "architecturestack_conv                          -0.020937   0.006454  -3.244\n",
       "enz_type1                                        0.026942   0.003227   8.349\n",
       "type_paddingstrf_padding                         0.030049   0.006454   4.656\n",
       "architecture1_conv:type_paddingstrf_padding     -0.035423   0.009127  -3.881\n",
       "architecturebi_lstm:type_paddingstrf_padding    -0.068014   0.009127  -7.452\n",
       "architecturestack_conv:type_paddingstrf_padding -0.057991   0.009127  -6.354\n",
       "                                                Pr(>|t|)    \n",
       "(Intercept)                                      < 2e-16 ***\n",
       "architecture1_conv                              4.18e-05 ***\n",
       "architecturebi_lstm                              < 2e-16 ***\n",
       "architecturestack_conv                          0.001451 ** \n",
       "enz_type1                                       4.08e-14 ***\n",
       "type_paddingstrf_padding                        7.01e-06 ***\n",
       "architecture1_conv:type_paddingstrf_padding     0.000155 ***\n",
       "architecturebi_lstm:type_paddingstrf_padding    6.63e-12 ***\n",
       "architecturestack_conv:type_paddingstrf_padding 2.35e-09 ***\n",
       "---\n",
       "Signif. codes:  0 ‘***’ 0.001 ‘**’ 0.01 ‘*’ 0.05 ‘.’ 0.1 ‘ ’ 1\n",
       "\n",
       "Residual standard error: 0.02041 on 151 degrees of freedom\n",
       "Multiple R-squared:  0.8754,\tAdjusted R-squared:  0.8688 \n",
       "F-statistic: 132.6 on 8 and 151 DF,  p-value: < 2.2e-16\n"
      ]
     },
     "metadata": {},
     "output_type": "display_data"
    }
   ],
   "source": [
    "summary(lm_f1_task1_soa5)"
   ]
  },
  {
   "cell_type": "code",
   "execution_count": 586,
   "metadata": {},
   "outputs": [],
   "source": [
    "sm5_df <- postproc_lm(lm_f1_task1_soa5)\n",
    "sm5_df_proc <- separating_interactions(\"architecture\", \"type_padding\", sm5_df)"
   ]
  },
  {
   "cell_type": "code",
   "execution_count": 587,
   "metadata": {
    "scrolled": true
   },
   "outputs": [],
   "source": [
    "# Dividing lm in representable tiles\n",
    "arch_df_5 <- dividing_rownames(\"architecture\", sm5_df_proc$estimates_df)\n",
    "enz_df_5 <- dividing_rownames(\"enz_type\", sm5_df_proc$estimates_df)\n",
    "pad_df_5 <- dividing_rownames(\"type_padding\", sm5_df_proc$estimates_df)"
   ]
  },
  {
   "cell_type": "code",
   "execution_count": 635,
   "metadata": {},
   "outputs": [
    {
     "data": {
      "image/png": "[encoded data removed]",
      "text/plain": [
       "plot without title"
      ]
     },
     "metadata": {},
     "output_type": "display_data"
    }
   ],
   "source": [
    "options(repr.plot.width=2.5, repr.plot.height=3)\n",
    "plotting_additive(\"architecture\", arch_df_5)"
   ]
  },
  {
   "cell_type": "code",
   "execution_count": 636,
   "metadata": {},
   "outputs": [
    {
     "data": {
      "image/png": "[encoded data removed]",
      "text/plain": [
       "plot without title"
      ]
     },
     "metadata": {},
     "output_type": "display_data"
    }
   ],
   "source": [
    "options(repr.plot.width=2.5, repr.plot.height=3)\n",
    "plotting_additive(\"enz_type\", enz_df_5)"
   ]
  },
  {
   "cell_type": "code",
   "execution_count": 637,
   "metadata": {},
   "outputs": [
    {
     "data": {
      "image/png": "[encoded data removed]",
      "text/plain": [
       "plot without title"
      ]
     },
     "metadata": {},
     "output_type": "display_data"
    }
   ],
   "source": [
    "options(repr.plot.width=2.5, repr.plot.height=3)\n",
    "plotting_additive(\"type_padding\", pad_df_5)"
   ]
  },
  {
   "cell_type": "code",
   "execution_count": 640,
   "metadata": {},
   "outputs": [
    {
     "data": {
      "image/png": "[encoded data removed]",
      "text/plain": [
       "plot without title"
      ]
     },
     "metadata": {},
     "output_type": "display_data"
    }
   ],
   "source": [
    "options(repr.plot.width=4, repr.plot.height=3)\n",
    "plotting_interactions(sm5_df_proc)"
   ]
  },
  {
   "cell_type": "markdown",
   "metadata": {},
   "source": [
    "## tiene aug_padding un buen efecto? "
   ]
  },
  {
   "cell_type": "code",
   "execution_count": 601,
   "metadata": {},
   "outputs": [
    {
     "data": {
      "text/plain": [
       "\n",
       "Call:\n",
       "lm(formula = f1_score ~ architecture + enz_type + type_padding + \n",
       "    type_padding:architecture, data = subset(scores_task1_dcasted_aug, \n",
       "    type_padding %in% soa_pad))\n",
       "\n",
       "Residuals:\n",
       "      Min        1Q    Median        3Q       Max \n",
       "-0.173831 -0.012287  0.003771  0.013166  0.081870 \n",
       "\n",
       "Coefficients:\n",
       "                                                  Estimate Std. Error t value\n",
       "(Intercept)                                      0.8939838  0.0071540 124.962\n",
       "architecture1_conv                              -0.1438240  0.0097204 -14.796\n",
       "architecturebi_lstm                             -0.1873464  0.0097204 -19.273\n",
       "architecturestack_conv                          -0.1098636  0.0097204 -11.302\n",
       "enz_type1                                        0.0118053  0.0039684   2.975\n",
       "type_paddingpost_padding                         0.0001935  0.0097204   0.020\n",
       "type_paddingstrf_padding                         0.0302421  0.0097204   3.111\n",
       "architecture1_conv:type_paddingpost_padding      0.1165799  0.0137468   8.481\n",
       "architecturebi_lstm:type_paddingpost_padding     0.0863362  0.0137468   6.280\n",
       "architecturestack_conv:type_paddingpost_padding  0.0889266  0.0137468   6.469\n",
       "architecture1_conv:type_paddingstrf_padding      0.0811574  0.0137468   5.904\n",
       "architecturebi_lstm:type_paddingstrf_padding     0.0183219  0.0137468   1.333\n",
       "architecturestack_conv:type_paddingstrf_padding  0.0309356  0.0137468   2.250\n",
       "                                                Pr(>|t|)    \n",
       "(Intercept)                                      < 2e-16 ***\n",
       "architecture1_conv                               < 2e-16 ***\n",
       "architecturebi_lstm                              < 2e-16 ***\n",
       "architecturestack_conv                           < 2e-16 ***\n",
       "enz_type1                                        0.00325 ** \n",
       "type_paddingpost_padding                         0.98414    \n",
       "type_paddingstrf_padding                         0.00210 ** \n",
       "architecture1_conv:type_paddingpost_padding     2.89e-15 ***\n",
       "architecturebi_lstm:type_paddingpost_padding    1.70e-09 ***\n",
       "architecturestack_conv:type_paddingpost_padding 5.99e-10 ***\n",
       "architecture1_conv:type_paddingstrf_padding     1.29e-08 ***\n",
       "architecturebi_lstm:type_paddingstrf_padding     0.18393    \n",
       "architecturestack_conv:type_paddingstrf_padding  0.02538 *  \n",
       "---\n",
       "Signif. codes:  0 ‘***’ 0.001 ‘**’ 0.01 ‘*’ 0.05 ‘.’ 0.1 ‘ ’ 1\n",
       "\n",
       "Residual standard error: 0.03074 on 227 degrees of freedom\n",
       "Multiple R-squared:  0.8307,\tAdjusted R-squared:  0.8217 \n",
       "F-statistic:  92.8 on 12 and 227 DF,  p-value: < 2.2e-16\n"
      ]
     },
     "metadata": {},
     "output_type": "display_data"
    }
   ],
   "source": [
    "soa_pad <- c(\"post_padding\", \"strf_padding\", \"aug_padding\")\n",
    "scores_task1_dcasted_aug <- scores_task1_dcasted\n",
    "scores_task1_dcasted_aug$type_padding <- relevel(scores_task1_dcasted_aug$type_padding, \"aug_padding\")\n",
    "lm_f1_task1_soa6 <- lm(f1_score~architecture+enz_type+type_padding+type_padding:architecture, \n",
    "                               data=subset(scores_task1_dcasted_aug, type_padding %in% soa_pad))\n",
    "summary(lm_f1_task1_soa6)"
   ]
  },
  {
   "cell_type": "code",
   "execution_count": 602,
   "metadata": {},
   "outputs": [],
   "source": [
    "sm6_df <- postproc_lm(lm_f1_task1_soa6)\n",
    "sm6_df_proc <- separating_interactions(\"architecture\", \"type_padding\", sm6_df)"
   ]
  },
  {
   "cell_type": "code",
   "execution_count": 603,
   "metadata": {},
   "outputs": [],
   "source": [
    "# Dividing lm in representable tiles\n",
    "arch_df_6 <- dividing_rownames(\"architecture\", sm6_df_proc$estimates_df)\n",
    "enz_df_6 <- dividing_rownames(\"enz_type\", sm6_df_proc$estimates_df)\n",
    "pad_df_6 <- dividing_rownames(\"type_padding\", sm6_df_proc$estimates_df)"
   ]
  },
  {
   "cell_type": "code",
   "execution_count": 642,
   "metadata": {},
   "outputs": [
    {
     "data": {
      "image/png": "[encoded data removed]",
      "text/plain": [
       "plot without title"
      ]
     },
     "metadata": {},
     "output_type": "display_data"
    }
   ],
   "source": [
    "options(repr.plot.width=2.5, repr.plot.height=3)\n",
    "plotting_additive(\"architecture\", arch_df_6)"
   ]
  },
  {
   "cell_type": "code",
   "execution_count": 643,
   "metadata": {},
   "outputs": [
    {
     "data": {
      "image/png": "[encoded data removed]",
      "text/plain": [
       "plot without title"
      ]
     },
     "metadata": {},
     "output_type": "display_data"
    }
   ],
   "source": [
    "options(repr.plot.width=2.5, repr.plot.height=3)\n",
    "plotting_additive(\"type_padding\", pad_df_6)"
   ]
  },
  {
   "cell_type": "code",
   "execution_count": 644,
   "metadata": {},
   "outputs": [
    {
     "data": {
      "image/png": "[encoded data removed]",
      "text/plain": [
       "plot without title"
      ]
     },
     "metadata": {},
     "output_type": "display_data"
    }
   ],
   "source": [
    "options(repr.plot.width=2.5, repr.plot.height=3)\n",
    "plotting_additive(\"enz_type\", enz_df_6)"
   ]
  },
  {
   "cell_type": "code",
   "execution_count": 641,
   "metadata": {},
   "outputs": [
    {
     "data": {
      "image/png": "[encoded data removed]",
      "text/plain": [
       "plot without title"
      ]
     },
     "metadata": {},
     "output_type": "display_data"
    }
   ],
   "source": [
    "options(repr.plot.width=4, repr.plot.height=3)\n",
    "plotting_interactions(sm6_df_proc)"
   ]
  },
  {
   "cell_type": "markdown",
   "metadata": {},
   "source": [
    "# Task 2"
   ]
  },
  {
   "cell_type": "code",
   "execution_count": null,
   "metadata": {},
   "outputs": [],
   "source": []
  },
  {
   "cell_type": "code",
   "execution_count": null,
   "metadata": {},
   "outputs": [],
   "source": []
  },
  {
   "cell_type": "code",
   "execution_count": null,
   "metadata": {},
   "outputs": [],
   "source": []
  },
  {
   "cell_type": "code",
   "execution_count": null,
   "metadata": {},
   "outputs": [],
   "source": []
  },
  {
   "cell_type": "code",
   "execution_count": null,
   "metadata": {},
   "outputs": [],
   "source": []
  },
  {
   "cell_type": "code",
   "execution_count": null,
   "metadata": {},
   "outputs": [],
   "source": []
  },
  {
   "cell_type": "code",
   "execution_count": 166,
   "metadata": {},
   "outputs": [],
   "source": [
    "task <- \"task2/\"\n",
    "\n",
    "path_scores_task2 <- paste0(absPath, \"data/results/\", task, file_scores)\n",
    "path_accu_task2 <- paste0(absPath, \"data/results/\", task, file_accuracy)\n",
    "\n",
    "scores_task2 <- read.csv(file=path_scores_task2, header=TRUE, sep=\",\")\n",
    "accu_task2 <- read.csv(file=path_accu_task2, header=TRUE, sep=\",\")"
   ]
  },
  {
   "cell_type": "markdown",
   "metadata": {},
   "source": [
    "## Scores"
   ]
  },
  {
   "cell_type": "code",
   "execution_count": 167,
   "metadata": {},
   "outputs": [
    {
     "data": {
      "text/html": [
       "<table>\n",
       "<caption>A data.frame: 5 x 7</caption>\n",
       "<thead>\n",
       "\t<tr><th scope=col>X</th><th scope=col>enz_type</th><th scope=col>index</th><th scope=col>type_padding</th><th scope=col>architecture</th><th scope=col>variable</th><th scope=col>value</th></tr>\n",
       "\t<tr><th scope=col>&lt;int&gt;</th><th scope=col>&lt;fct&gt;</th><th scope=col>&lt;int&gt;</th><th scope=col>&lt;fct&gt;</th><th scope=col>&lt;fct&gt;</th><th scope=col>&lt;fct&gt;</th><th scope=col>&lt;dbl&gt;</th></tr>\n",
       "</thead>\n",
       "<tbody>\n",
       "\t<tr><td>0</td><td>1</td><td>0</td><td>post_padding</td><td>1_conv</td><td>f1-score</td><td>0.4609665</td></tr>\n",
       "\t<tr><td>1</td><td>2</td><td>0</td><td>post_padding</td><td>1_conv</td><td>f1-score</td><td>0.6056475</td></tr>\n",
       "\t<tr><td>2</td><td>3</td><td>0</td><td>post_padding</td><td>1_conv</td><td>f1-score</td><td>0.5493562</td></tr>\n",
       "\t<tr><td>3</td><td>4</td><td>0</td><td>post_padding</td><td>1_conv</td><td>f1-score</td><td>0.4986877</td></tr>\n",
       "\t<tr><td>4</td><td>5</td><td>0</td><td>post_padding</td><td>1_conv</td><td>f1-score</td><td>0.6060606</td></tr>\n",
       "</tbody>\n",
       "</table>\n"
      ],
      "text/latex": [
       "A data.frame: 5 x 7\n",
       "\\begin{tabular}{r|lllllll}\n",
       " X & enz\\_type & index & type\\_padding & architecture & variable & value\\\\\n",
       " <int> & <fct> & <int> & <fct> & <fct> & <fct> & <dbl>\\\\\n",
       "\\hline\n",
       "\t 0 & 1 & 0 & post\\_padding & 1\\_conv & f1-score & 0.4609665\\\\\n",
       "\t 1 & 2 & 0 & post\\_padding & 1\\_conv & f1-score & 0.6056475\\\\\n",
       "\t 2 & 3 & 0 & post\\_padding & 1\\_conv & f1-score & 0.5493562\\\\\n",
       "\t 3 & 4 & 0 & post\\_padding & 1\\_conv & f1-score & 0.4986877\\\\\n",
       "\t 4 & 5 & 0 & post\\_padding & 1\\_conv & f1-score & 0.6060606\\\\\n",
       "\\end{tabular}\n"
      ],
      "text/markdown": [
       "\n",
       "A data.frame: 5 x 7\n",
       "\n",
       "| X &lt;int&gt; | enz_type &lt;fct&gt; | index &lt;int&gt; | type_padding &lt;fct&gt; | architecture &lt;fct&gt; | variable &lt;fct&gt; | value &lt;dbl&gt; |\n",
       "|---|---|---|---|---|---|---|\n",
       "| 0 | 1 | 0 | post_padding | 1_conv | f1-score | 0.4609665 |\n",
       "| 1 | 2 | 0 | post_padding | 1_conv | f1-score | 0.6056475 |\n",
       "| 2 | 3 | 0 | post_padding | 1_conv | f1-score | 0.5493562 |\n",
       "| 3 | 4 | 0 | post_padding | 1_conv | f1-score | 0.4986877 |\n",
       "| 4 | 5 | 0 | post_padding | 1_conv | f1-score | 0.6060606 |\n",
       "\n"
      ],
      "text/plain": [
       "  X enz_type index type_padding architecture variable value    \n",
       "1 0 1        0     post_padding 1_conv       f1-score 0.4609665\n",
       "2 1 2        0     post_padding 1_conv       f1-score 0.6056475\n",
       "3 2 3        0     post_padding 1_conv       f1-score 0.5493562\n",
       "4 3 4        0     post_padding 1_conv       f1-score 0.4986877\n",
       "5 4 5        0     post_padding 1_conv       f1-score 0.6060606"
      ]
     },
     "metadata": {},
     "output_type": "display_data"
    },
    {
     "data": {
      "text/html": [
       "<ol class=list-inline>\n",
       "\t<li>9600</li>\n",
       "\t<li>7</li>\n",
       "</ol>\n"
      ],
      "text/latex": [
       "\\begin{enumerate*}\n",
       "\\item 9600\n",
       "\\item 7\n",
       "\\end{enumerate*}\n"
      ],
      "text/markdown": [
       "1. 9600\n",
       "2. 7\n",
       "\n",
       "\n"
      ],
      "text/plain": [
       "[1] 9600    7"
      ]
     },
     "metadata": {},
     "output_type": "display_data"
    }
   ],
   "source": [
    "scores_task2[0:5,]\n",
    "dim(scores_task2)\n",
    "scores_task2$X <- NULL"
   ]
  },
  {
   "cell_type": "code",
   "execution_count": 168,
   "metadata": {},
   "outputs": [
    {
     "data": {
      "text/html": [
       "<ol class=list-inline>\n",
       "\t<li>6720</li>\n",
       "\t<li>6</li>\n",
       "</ol>\n"
      ],
      "text/latex": [
       "\\begin{enumerate*}\n",
       "\\item 6720\n",
       "\\item 6\n",
       "\\end{enumerate*}\n"
      ],
      "text/markdown": [
       "1. 6720\n",
       "2. 6\n",
       "\n",
       "\n"
      ],
      "text/plain": [
       "[1] 6720    6"
      ]
     },
     "metadata": {},
     "output_type": "display_data"
    },
    {
     "data": {
      "text/html": [
       "<dl class=dl-horizontal>\n",
       "\t<dt>enz_type</dt>\n",
       "\t\t<dd>'factor'</dd>\n",
       "\t<dt>index</dt>\n",
       "\t\t<dd>'integer'</dd>\n",
       "\t<dt>type_padding</dt>\n",
       "\t\t<dd>'factor'</dd>\n",
       "\t<dt>architecture</dt>\n",
       "\t\t<dd>'factor'</dd>\n",
       "\t<dt>variable</dt>\n",
       "\t\t<dd>'factor'</dd>\n",
       "\t<dt>value</dt>\n",
       "\t\t<dd>'numeric'</dd>\n",
       "</dl>\n"
      ],
      "text/latex": [
       "\\begin{description*}\n",
       "\\item[enz\\textbackslash{}\\_type] 'factor'\n",
       "\\item[index] 'integer'\n",
       "\\item[type\\textbackslash{}\\_padding] 'factor'\n",
       "\\item[architecture] 'factor'\n",
       "\\item[variable] 'factor'\n",
       "\\item[value] 'numeric'\n",
       "\\end{description*}\n"
      ],
      "text/markdown": [
       "enz_type\n",
       ":   'factor'index\n",
       ":   'integer'type_padding\n",
       ":   'factor'architecture\n",
       ":   'factor'variable\n",
       ":   'factor'value\n",
       ":   'numeric'\n",
       "\n"
      ],
      "text/plain": [
       "    enz_type        index type_padding architecture     variable        value \n",
       "    \"factor\"    \"integer\"     \"factor\"     \"factor\"     \"factor\"    \"numeric\" "
      ]
     },
     "metadata": {},
     "output_type": "display_data"
    }
   ],
   "source": [
    "#filtering \n",
    "scores_task2 <- scores_task2[scores_task2$enz_type %in% c(1,2,3,4,5,6,7),]\n",
    "dim(scores_task2)\n",
    "sapply(scores_task2, class)"
   ]
  },
  {
   "cell_type": "code",
   "execution_count": 169,
   "metadata": {},
   "outputs": [],
   "source": [
    "# habria que hacer un unmelt de variable-value\n",
    "scores_task2_dcasted <- dcast(data = scores_task2, formula = enz_type+index+type_padding+architecture~variable,\n",
    "                              fun.aggregate = sum,value.var = \"value\")"
   ]
  },
  {
   "cell_type": "code",
   "execution_count": 170,
   "metadata": {
    "scrolled": false
   },
   "outputs": [
    {
     "data": {
      "text/html": [
       "<table>\n",
       "<caption>A data.frame: 5 x 7</caption>\n",
       "<thead>\n",
       "\t<tr><th scope=col>enz_type</th><th scope=col>index</th><th scope=col>type_padding</th><th scope=col>architecture</th><th scope=col>f1_score</th><th scope=col>precision</th><th scope=col>recall</th></tr>\n",
       "\t<tr><th scope=col>&lt;fct&gt;</th><th scope=col>&lt;int&gt;</th><th scope=col>&lt;fct&gt;</th><th scope=col>&lt;fct&gt;</th><th scope=col>&lt;dbl&gt;</th><th scope=col>&lt;dbl&gt;</th><th scope=col>&lt;dbl&gt;</th></tr>\n",
       "</thead>\n",
       "<tbody>\n",
       "\t<tr><td>1</td><td>0</td><td>aug_padding</td><td>1_conv     </td><td>0.4514306</td><td>0.4031546</td><td>0.51284109</td></tr>\n",
       "\t<tr><td>1</td><td>0</td><td>aug_padding</td><td>bi_lstm    </td><td>0.1046196</td><td>0.3407080</td><td>0.06179775</td></tr>\n",
       "\t<tr><td>1</td><td>0</td><td>aug_padding</td><td>only_denses</td><td>0.4247295</td><td>0.3453997</td><td>0.55136437</td></tr>\n",
       "\t<tr><td>1</td><td>0</td><td>aug_padding</td><td>stack_conv </td><td>0.4891587</td><td>0.5320755</td><td>0.45264848</td></tr>\n",
       "\t<tr><td>1</td><td>0</td><td>ext_padding</td><td>1_conv     </td><td>0.3833866</td><td>0.2678571</td><td>0.67415730</td></tr>\n",
       "</tbody>\n",
       "</table>\n"
      ],
      "text/latex": [
       "A data.frame: 5 x 7\n",
       "\\begin{tabular}{r|lllllll}\n",
       " enz\\_type & index & type\\_padding & architecture & f1\\_score & precision & recall\\\\\n",
       " <fct> & <int> & <fct> & <fct> & <dbl> & <dbl> & <dbl>\\\\\n",
       "\\hline\n",
       "\t 1 & 0 & aug\\_padding & 1\\_conv      & 0.4514306 & 0.4031546 & 0.51284109\\\\\n",
       "\t 1 & 0 & aug\\_padding & bi\\_lstm     & 0.1046196 & 0.3407080 & 0.06179775\\\\\n",
       "\t 1 & 0 & aug\\_padding & only\\_denses & 0.4247295 & 0.3453997 & 0.55136437\\\\\n",
       "\t 1 & 0 & aug\\_padding & stack\\_conv  & 0.4891587 & 0.5320755 & 0.45264848\\\\\n",
       "\t 1 & 0 & ext\\_padding & 1\\_conv      & 0.3833866 & 0.2678571 & 0.67415730\\\\\n",
       "\\end{tabular}\n"
      ],
      "text/markdown": [
       "\n",
       "A data.frame: 5 x 7\n",
       "\n",
       "| enz_type &lt;fct&gt; | index &lt;int&gt; | type_padding &lt;fct&gt; | architecture &lt;fct&gt; | f1_score &lt;dbl&gt; | precision &lt;dbl&gt; | recall &lt;dbl&gt; |\n",
       "|---|---|---|---|---|---|---|\n",
       "| 1 | 0 | aug_padding | 1_conv      | 0.4514306 | 0.4031546 | 0.51284109 |\n",
       "| 1 | 0 | aug_padding | bi_lstm     | 0.1046196 | 0.3407080 | 0.06179775 |\n",
       "| 1 | 0 | aug_padding | only_denses | 0.4247295 | 0.3453997 | 0.55136437 |\n",
       "| 1 | 0 | aug_padding | stack_conv  | 0.4891587 | 0.5320755 | 0.45264848 |\n",
       "| 1 | 0 | ext_padding | 1_conv      | 0.3833866 | 0.2678571 | 0.67415730 |\n",
       "\n"
      ],
      "text/plain": [
       "  enz_type index type_padding architecture f1_score  precision recall    \n",
       "1 1        0     aug_padding  1_conv       0.4514306 0.4031546 0.51284109\n",
       "2 1        0     aug_padding  bi_lstm      0.1046196 0.3407080 0.06179775\n",
       "3 1        0     aug_padding  only_denses  0.4247295 0.3453997 0.55136437\n",
       "4 1        0     aug_padding  stack_conv   0.4891587 0.5320755 0.45264848\n",
       "5 1        0     ext_padding  1_conv       0.3833866 0.2678571 0.67415730"
      ]
     },
     "metadata": {},
     "output_type": "display_data"
    }
   ],
   "source": [
    "#tengo que cambiar el nombre de f1-score\n",
    "colnames(scores_task2_dcasted) <- c(\"enz_type\", \"index\", \"type_padding\", \"architecture\", \"f1_score\",\n",
    "                                    \"precision\", \"recall\")\n",
    "scores_task2_dcasted[0:5,]"
   ]
  },
  {
   "cell_type": "code",
   "execution_count": 171,
   "metadata": {},
   "outputs": [
    {
     "data": {
      "text/html": [
       "<table>\n",
       "<caption>A data.frame: 5 x 7</caption>\n",
       "<thead>\n",
       "\t<tr><th scope=col>enz_type</th><th scope=col>index</th><th scope=col>type_padding</th><th scope=col>architecture</th><th scope=col>f1_score</th><th scope=col>precision</th><th scope=col>recall</th></tr>\n",
       "\t<tr><th scope=col>&lt;fct&gt;</th><th scope=col>&lt;int&gt;</th><th scope=col>&lt;fct&gt;</th><th scope=col>&lt;fct&gt;</th><th scope=col>&lt;dbl&gt;</th><th scope=col>&lt;dbl&gt;</th><th scope=col>&lt;dbl&gt;</th></tr>\n",
       "</thead>\n",
       "<tbody>\n",
       "\t<tr><td>1</td><td>0</td><td>aug_padding</td><td>1_conv     </td><td>0.4514306</td><td>0.4031546</td><td>0.51284109</td></tr>\n",
       "\t<tr><td>1</td><td>0</td><td>aug_padding</td><td>bi_lstm    </td><td>0.1046196</td><td>0.3407080</td><td>0.06179775</td></tr>\n",
       "\t<tr><td>1</td><td>0</td><td>aug_padding</td><td>only_denses</td><td>0.4247295</td><td>0.3453997</td><td>0.55136437</td></tr>\n",
       "\t<tr><td>1</td><td>0</td><td>aug_padding</td><td>stack_conv </td><td>0.4891587</td><td>0.5320755</td><td>0.45264848</td></tr>\n",
       "\t<tr><td>1</td><td>0</td><td>ext_padding</td><td>1_conv     </td><td>0.3833866</td><td>0.2678571</td><td>0.67415730</td></tr>\n",
       "</tbody>\n",
       "</table>\n"
      ],
      "text/latex": [
       "A data.frame: 5 x 7\n",
       "\\begin{tabular}{r|lllllll}\n",
       " enz\\_type & index & type\\_padding & architecture & f1\\_score & precision & recall\\\\\n",
       " <fct> & <int> & <fct> & <fct> & <dbl> & <dbl> & <dbl>\\\\\n",
       "\\hline\n",
       "\t 1 & 0 & aug\\_padding & 1\\_conv      & 0.4514306 & 0.4031546 & 0.51284109\\\\\n",
       "\t 1 & 0 & aug\\_padding & bi\\_lstm     & 0.1046196 & 0.3407080 & 0.06179775\\\\\n",
       "\t 1 & 0 & aug\\_padding & only\\_denses & 0.4247295 & 0.3453997 & 0.55136437\\\\\n",
       "\t 1 & 0 & aug\\_padding & stack\\_conv  & 0.4891587 & 0.5320755 & 0.45264848\\\\\n",
       "\t 1 & 0 & ext\\_padding & 1\\_conv      & 0.3833866 & 0.2678571 & 0.67415730\\\\\n",
       "\\end{tabular}\n"
      ],
      "text/markdown": [
       "\n",
       "A data.frame: 5 x 7\n",
       "\n",
       "| enz_type &lt;fct&gt; | index &lt;int&gt; | type_padding &lt;fct&gt; | architecture &lt;fct&gt; | f1_score &lt;dbl&gt; | precision &lt;dbl&gt; | recall &lt;dbl&gt; |\n",
       "|---|---|---|---|---|---|---|\n",
       "| 1 | 0 | aug_padding | 1_conv      | 0.4514306 | 0.4031546 | 0.51284109 |\n",
       "| 1 | 0 | aug_padding | bi_lstm     | 0.1046196 | 0.3407080 | 0.06179775 |\n",
       "| 1 | 0 | aug_padding | only_denses | 0.4247295 | 0.3453997 | 0.55136437 |\n",
       "| 1 | 0 | aug_padding | stack_conv  | 0.4891587 | 0.5320755 | 0.45264848 |\n",
       "| 1 | 0 | ext_padding | 1_conv      | 0.3833866 | 0.2678571 | 0.67415730 |\n",
       "\n"
      ],
      "text/plain": [
       "  enz_type index type_padding architecture f1_score  precision recall    \n",
       "1 1        0     aug_padding  1_conv       0.4514306 0.4031546 0.51284109\n",
       "2 1        0     aug_padding  bi_lstm      0.1046196 0.3407080 0.06179775\n",
       "3 1        0     aug_padding  only_denses  0.4247295 0.3453997 0.55136437\n",
       "4 1        0     aug_padding  stack_conv   0.4891587 0.5320755 0.45264848\n",
       "5 1        0     ext_padding  1_conv       0.3833866 0.2678571 0.67415730"
      ]
     },
     "metadata": {},
     "output_type": "display_data"
    }
   ],
   "source": [
    "scores_task2_dcasted[0:5,]"
   ]
  },
  {
   "cell_type": "code",
   "execution_count": 172,
   "metadata": {},
   "outputs": [],
   "source": [
    "scores_task2_dcasted$architecture <- relevel(scores_task2_dcasted$architecture, \"only_denses\")\n",
    "scores_task2_dcasted$type_padding <- relevel(scores_task2_dcasted$type_padding, \"post_padding\")"
   ]
  },
  {
   "cell_type": "code",
   "execution_count": 173,
   "metadata": {},
   "outputs": [],
   "source": [
    "lm_f1_task2_additive <- lm(f1_score~architecture+enz_type+type_padding, \n",
    "                           data=scores_task2_dcasted)"
   ]
  },
  {
   "cell_type": "code",
   "execution_count": 174,
   "metadata": {},
   "outputs": [
    {
     "data": {
      "text/plain": [
       "\n",
       "Call:\n",
       "lm(formula = f1_score ~ architecture + enz_type + type_padding, \n",
       "    data = scores_task2_dcasted)\n",
       "\n",
       "Residuals:\n",
       "     Min       1Q   Median       3Q      Max \n",
       "-0.51449 -0.05887 -0.00777  0.04113  0.40756 \n",
       "\n",
       "Coefficients:\n",
       "                           Estimate Std. Error t value Pr(>|t|)    \n",
       "(Intercept)               0.4422464  0.0090377  48.934  < 2e-16 ***\n",
       "architecture1_conv        0.0206864  0.0061998   3.337 0.000862 ***\n",
       "architecturebi_lstm      -0.4157025  0.0061998 -67.051  < 2e-16 ***\n",
       "architecturestack_conv    0.0101555  0.0061998   1.638 0.101557    \n",
       "enz_type2                 0.2559840  0.0082016  31.212  < 2e-16 ***\n",
       "enz_type3                 0.0938845  0.0082016  11.447  < 2e-16 ***\n",
       "enz_type4                 0.0039705  0.0082016   0.484 0.628352    \n",
       "enz_type5                 0.1226206  0.0082016  14.951  < 2e-16 ***\n",
       "enz_type6                 0.0426076  0.0082016   5.195 2.23e-07 ***\n",
       "enz_type7                 0.0722387  0.0082016   8.808  < 2e-16 ***\n",
       "type_paddingaug_padding  -0.0153667  0.0087679  -1.753 0.079806 .  \n",
       "type_paddingext_padding  -0.0015559  0.0087679  -0.177 0.859166    \n",
       "type_paddingmid_padding   0.0222004  0.0087679   2.532 0.011409 *  \n",
       "type_paddingpre_padding   0.0009777  0.0087679   0.112 0.911221    \n",
       "type_paddingrnd_padding  -0.0725757  0.0087679  -8.277  < 2e-16 ***\n",
       "type_paddingstrf_padding -0.0001829  0.0087679  -0.021 0.983360    \n",
       "type_paddingzoom_padding -0.0286755  0.0087679  -3.271 0.001090 ** \n",
       "---\n",
       "Signif. codes:  0 ‘***’ 0.001 ‘**’ 0.01 ‘*’ 0.05 ‘.’ 0.1 ‘ ’ 1\n",
       "\n",
       "Residual standard error: 0.1037 on 2223 degrees of freedom\n",
       "Multiple R-squared:  0.795,\tAdjusted R-squared:  0.7936 \n",
       "F-statistic: 538.9 on 16 and 2223 DF,  p-value: < 2.2e-16\n"
      ]
     },
     "metadata": {},
     "output_type": "display_data"
    }
   ],
   "source": [
    "summary(lm_f1_task2_additive)"
   ]
  },
  {
   "cell_type": "code",
   "execution_count": 213,
   "metadata": {},
   "outputs": [
    {
     "data": {
      "text/html": [
       "<table>\n",
       "<caption>A matrix: 17 x 4 of type dbl</caption>\n",
       "<thead>\n",
       "\t<tr><th></th><th scope=col>Estimate</th><th scope=col>Std. Error</th><th scope=col>t value</th><th scope=col>Pr(&gt;|t|)</th></tr>\n",
       "</thead>\n",
       "<tbody>\n",
       "\t<tr><th scope=row>(Intercept)</th><td> 0.4422464340</td><td>0.009037700</td><td> 48.93351823</td><td> 0.000000e+00</td></tr>\n",
       "\t<tr><th scope=row>architecture1_conv</th><td> 0.0206864331</td><td>0.006199811</td><td>  3.33662334</td><td> 8.619870e-04</td></tr>\n",
       "\t<tr><th scope=row>architecturebi_lstm</th><td>-0.4157025061</td><td>0.006199811</td><td>-67.05083831</td><td> 0.000000e+00</td></tr>\n",
       "\t<tr><th scope=row>architecturestack_conv</th><td> 0.0101554714</td><td>0.006199811</td><td>  1.63802927</td><td> 1.015571e-01</td></tr>\n",
       "\t<tr><th scope=row>enz_type2</th><td> 0.2559839638</td><td>0.008201579</td><td> 31.21154769</td><td>1.157582e-177</td></tr>\n",
       "\t<tr><th scope=row>enz_type3</th><td> 0.0938845446</td><td>0.008201579</td><td> 11.44713090</td><td> 1.603864e-29</td></tr>\n",
       "\t<tr><th scope=row>enz_type4</th><td> 0.0039705100</td><td>0.008201579</td><td>  0.48411533</td><td> 6.283517e-01</td></tr>\n",
       "\t<tr><th scope=row>enz_type5</th><td> 0.1226205896</td><td>0.008201579</td><td> 14.95085210</td><td> 3.131778e-48</td></tr>\n",
       "\t<tr><th scope=row>enz_type6</th><td> 0.0426075747</td><td>0.008201579</td><td>  5.19504554</td><td> 2.233191e-07</td></tr>\n",
       "\t<tr><th scope=row>enz_type7</th><td> 0.0722386887</td><td>0.008201579</td><td>  8.80790048</td><td> 2.513275e-18</td></tr>\n",
       "\t<tr><th scope=row>type_paddingaug_padding</th><td>-0.0153666998</td><td>0.008767856</td><td> -1.75261764</td><td> 7.980551e-02</td></tr>\n",
       "\t<tr><th scope=row>type_paddingext_padding</th><td>-0.0015559152</td><td>0.008767856</td><td> -0.17745673</td><td> 8.591658e-01</td></tr>\n",
       "\t<tr><th scope=row>type_paddingmid_padding</th><td> 0.0222004389</td><td>0.008767856</td><td>  2.53202583</td><td> 1.140890e-02</td></tr>\n",
       "\t<tr><th scope=row>type_paddingpre_padding</th><td> 0.0009777188</td><td>0.008767856</td><td>  0.11151172</td><td> 9.112206e-01</td></tr>\n",
       "\t<tr><th scope=row>type_paddingrnd_padding</th><td>-0.0725757250</td><td>0.008767856</td><td> -8.27747647</td><td> 2.142664e-16</td></tr>\n",
       "\t<tr><th scope=row>type_paddingstrf_padding</th><td>-0.0001828877</td><td>0.008767856</td><td> -0.02085889</td><td> 9.833601e-01</td></tr>\n",
       "\t<tr><th scope=row>type_paddingzoom_padding</th><td>-0.0286754994</td><td>0.008767856</td><td> -3.27052567</td><td> 1.089879e-03</td></tr>\n",
       "</tbody>\n",
       "</table>\n"
      ],
      "text/latex": [
       "A matrix: 17 x 4 of type dbl\n",
       "\\begin{tabular}{r|llll}\n",
       "  & Estimate & Std. Error & t value & Pr(>\\textbar{}t\\textbar{})\\\\\n",
       "\\hline\n",
       "\t(Intercept) &  0.4422464340 & 0.009037700 &  48.93351823 &  0.000000e+00\\\\\n",
       "\tarchitecture1\\_conv &  0.0206864331 & 0.006199811 &   3.33662334 &  8.619870e-04\\\\\n",
       "\tarchitecturebi\\_lstm & -0.4157025061 & 0.006199811 & -67.05083831 &  0.000000e+00\\\\\n",
       "\tarchitecturestack\\_conv &  0.0101554714 & 0.006199811 &   1.63802927 &  1.015571e-01\\\\\n",
       "\tenz\\_type2 &  0.2559839638 & 0.008201579 &  31.21154769 & 1.157582e-177\\\\\n",
       "\tenz\\_type3 &  0.0938845446 & 0.008201579 &  11.44713090 &  1.603864e-29\\\\\n",
       "\tenz\\_type4 &  0.0039705100 & 0.008201579 &   0.48411533 &  6.283517e-01\\\\\n",
       "\tenz\\_type5 &  0.1226205896 & 0.008201579 &  14.95085210 &  3.131778e-48\\\\\n",
       "\tenz\\_type6 &  0.0426075747 & 0.008201579 &   5.19504554 &  2.233191e-07\\\\\n",
       "\tenz\\_type7 &  0.0722386887 & 0.008201579 &   8.80790048 &  2.513275e-18\\\\\n",
       "\ttype\\_paddingaug\\_padding & -0.0153666998 & 0.008767856 &  -1.75261764 &  7.980551e-02\\\\\n",
       "\ttype\\_paddingext\\_padding & -0.0015559152 & 0.008767856 &  -0.17745673 &  8.591658e-01\\\\\n",
       "\ttype\\_paddingmid\\_padding &  0.0222004389 & 0.008767856 &   2.53202583 &  1.140890e-02\\\\\n",
       "\ttype\\_paddingpre\\_padding &  0.0009777188 & 0.008767856 &   0.11151172 &  9.112206e-01\\\\\n",
       "\ttype\\_paddingrnd\\_padding & -0.0725757250 & 0.008767856 &  -8.27747647 &  2.142664e-16\\\\\n",
       "\ttype\\_paddingstrf\\_padding & -0.0001828877 & 0.008767856 &  -0.02085889 &  9.833601e-01\\\\\n",
       "\ttype\\_paddingzoom\\_padding & -0.0286754994 & 0.008767856 &  -3.27052567 &  1.089879e-03\\\\\n",
       "\\end{tabular}\n"
      ],
      "text/markdown": [
       "\n",
       "A matrix: 17 x 4 of type dbl\n",
       "\n",
       "| <!--/--> | Estimate | Std. Error | t value | Pr(&gt;|t|) |\n",
       "|---|---|---|---|---|\n",
       "| (Intercept) |  0.4422464340 | 0.009037700 |  48.93351823 |  0.000000e+00 |\n",
       "| architecture1_conv |  0.0206864331 | 0.006199811 |   3.33662334 |  8.619870e-04 |\n",
       "| architecturebi_lstm | -0.4157025061 | 0.006199811 | -67.05083831 |  0.000000e+00 |\n",
       "| architecturestack_conv |  0.0101554714 | 0.006199811 |   1.63802927 |  1.015571e-01 |\n",
       "| enz_type2 |  0.2559839638 | 0.008201579 |  31.21154769 | 1.157582e-177 |\n",
       "| enz_type3 |  0.0938845446 | 0.008201579 |  11.44713090 |  1.603864e-29 |\n",
       "| enz_type4 |  0.0039705100 | 0.008201579 |   0.48411533 |  6.283517e-01 |\n",
       "| enz_type5 |  0.1226205896 | 0.008201579 |  14.95085210 |  3.131778e-48 |\n",
       "| enz_type6 |  0.0426075747 | 0.008201579 |   5.19504554 |  2.233191e-07 |\n",
       "| enz_type7 |  0.0722386887 | 0.008201579 |   8.80790048 |  2.513275e-18 |\n",
       "| type_paddingaug_padding | -0.0153666998 | 0.008767856 |  -1.75261764 |  7.980551e-02 |\n",
       "| type_paddingext_padding | -0.0015559152 | 0.008767856 |  -0.17745673 |  8.591658e-01 |\n",
       "| type_paddingmid_padding |  0.0222004389 | 0.008767856 |   2.53202583 |  1.140890e-02 |\n",
       "| type_paddingpre_padding |  0.0009777188 | 0.008767856 |   0.11151172 |  9.112206e-01 |\n",
       "| type_paddingrnd_padding | -0.0725757250 | 0.008767856 |  -8.27747647 |  2.142664e-16 |\n",
       "| type_paddingstrf_padding | -0.0001828877 | 0.008767856 |  -0.02085889 |  9.833601e-01 |\n",
       "| type_paddingzoom_padding | -0.0286754994 | 0.008767856 |  -3.27052567 |  1.089879e-03 |\n",
       "\n"
      ],
      "text/plain": [
       "                         Estimate      Std. Error  t value      Pr(>|t|)     \n",
       "(Intercept)               0.4422464340 0.009037700  48.93351823  0.000000e+00\n",
       "architecture1_conv        0.0206864331 0.006199811   3.33662334  8.619870e-04\n",
       "architecturebi_lstm      -0.4157025061 0.006199811 -67.05083831  0.000000e+00\n",
       "architecturestack_conv    0.0101554714 0.006199811   1.63802927  1.015571e-01\n",
       "enz_type2                 0.2559839638 0.008201579  31.21154769 1.157582e-177\n",
       "enz_type3                 0.0938845446 0.008201579  11.44713090  1.603864e-29\n",
       "enz_type4                 0.0039705100 0.008201579   0.48411533  6.283517e-01\n",
       "enz_type5                 0.1226205896 0.008201579  14.95085210  3.131778e-48\n",
       "enz_type6                 0.0426075747 0.008201579   5.19504554  2.233191e-07\n",
       "enz_type7                 0.0722386887 0.008201579   8.80790048  2.513275e-18\n",
       "type_paddingaug_padding  -0.0153666998 0.008767856  -1.75261764  7.980551e-02\n",
       "type_paddingext_padding  -0.0015559152 0.008767856  -0.17745673  8.591658e-01\n",
       "type_paddingmid_padding   0.0222004389 0.008767856   2.53202583  1.140890e-02\n",
       "type_paddingpre_padding   0.0009777188 0.008767856   0.11151172  9.112206e-01\n",
       "type_paddingrnd_padding  -0.0725757250 0.008767856  -8.27747647  2.142664e-16\n",
       "type_paddingstrf_padding -0.0001828877 0.008767856  -0.02085889  9.833601e-01\n",
       "type_paddingzoom_padding -0.0286754994 0.008767856  -3.27052567  1.089879e-03"
      ]
     },
     "metadata": {},
     "output_type": "display_data"
    },
    {
     "data": {
      "text/html": [
       "<dl class=dl-horizontal>\n",
       "\t<dt>(Intercept)</dt>\n",
       "\t\t<dd>0</dd>\n",
       "\t<dt>architecture1_conv</dt>\n",
       "\t\t<dd>0.00162819772099744</dd>\n",
       "\t<dt>architecturebi_lstm</dt>\n",
       "\t\t<dd>0</dd>\n",
       "\t<dt>architecturestack_conv</dt>\n",
       "\t\t<dd>0.132805451798895</dd>\n",
       "\t<dt>enz_type2</dt>\n",
       "\t\t<dd>6.55962960785969e-177</dd>\n",
       "\t<dt>enz_type3</dt>\n",
       "\t\t<dd>5.45313898655747e-29</dd>\n",
       "\t<dt>enz_type4</dt>\n",
       "\t\t<dd>0.762998503192393</dd>\n",
       "\t<dt>enz_type5</dt>\n",
       "\t\t<dd>1.33100562088683e-47</dd>\n",
       "\t<dt>enz_type6</dt>\n",
       "\t\t<dd>4.74553160840097e-07</dd>\n",
       "\t<dt>enz_type7</dt>\n",
       "\t\t<dd>7.12094632040682e-18</dd>\n",
       "\t<dt>type_paddingaug_padding</dt>\n",
       "\t\t<dd>0.11305780532202</dd>\n",
       "\t<dt>type_paddingext_padding</dt>\n",
       "\t\t<dd>0.968171927107618</dd>\n",
       "\t<dt>type_paddingmid_padding</dt>\n",
       "\t\t<dd>0.0176319344762909</dd>\n",
       "\t<dt>type_paddingpre_padding</dt>\n",
       "\t\t<dd>0.968171927107618</dd>\n",
       "\t<dt>type_paddingrnd_padding</dt>\n",
       "\t\t<dd>5.20361225498132e-16</dd>\n",
       "\t<dt>type_paddingstrf_padding</dt>\n",
       "\t\t<dd>0.983360093398319</dd>\n",
       "\t<dt>type_paddingzoom_padding</dt>\n",
       "\t\t<dd>0.00185279510068266</dd>\n",
       "</dl>\n"
      ],
      "text/latex": [
       "\\begin{description*}\n",
       "\\item[(Intercept)] 0\n",
       "\\item[architecture1\\textbackslash{}\\_conv] 0.00162819772099744\n",
       "\\item[architecturebi\\textbackslash{}\\_lstm] 0\n",
       "\\item[architecturestack\\textbackslash{}\\_conv] 0.132805451798895\n",
       "\\item[enz\\textbackslash{}\\_type2] 6.55962960785969e-177\n",
       "\\item[enz\\textbackslash{}\\_type3] 5.45313898655747e-29\n",
       "\\item[enz\\textbackslash{}\\_type4] 0.762998503192393\n",
       "\\item[enz\\textbackslash{}\\_type5] 1.33100562088683e-47\n",
       "\\item[enz\\textbackslash{}\\_type6] 4.74553160840097e-07\n",
       "\\item[enz\\textbackslash{}\\_type7] 7.12094632040682e-18\n",
       "\\item[type\\textbackslash{}\\_paddingaug\\textbackslash{}\\_padding] 0.11305780532202\n",
       "\\item[type\\textbackslash{}\\_paddingext\\textbackslash{}\\_padding] 0.968171927107618\n",
       "\\item[type\\textbackslash{}\\_paddingmid\\textbackslash{}\\_padding] 0.0176319344762909\n",
       "\\item[type\\textbackslash{}\\_paddingpre\\textbackslash{}\\_padding] 0.968171927107618\n",
       "\\item[type\\textbackslash{}\\_paddingrnd\\textbackslash{}\\_padding] 5.20361225498132e-16\n",
       "\\item[type\\textbackslash{}\\_paddingstrf\\textbackslash{}\\_padding] 0.983360093398319\n",
       "\\item[type\\textbackslash{}\\_paddingzoom\\textbackslash{}\\_padding] 0.00185279510068266\n",
       "\\end{description*}\n"
      ],
      "text/markdown": [
       "(Intercept)\n",
       ":   0architecture1_conv\n",
       ":   0.00162819772099744architecturebi_lstm\n",
       ":   0architecturestack_conv\n",
       ":   0.132805451798895enz_type2\n",
       ":   6.55962960785969e-177enz_type3\n",
       ":   5.45313898655747e-29enz_type4\n",
       ":   0.762998503192393enz_type5\n",
       ":   1.33100562088683e-47enz_type6\n",
       ":   4.74553160840097e-07enz_type7\n",
       ":   7.12094632040682e-18type_paddingaug_padding\n",
       ":   0.11305780532202type_paddingext_padding\n",
       ":   0.968171927107618type_paddingmid_padding\n",
       ":   0.0176319344762909type_paddingpre_padding\n",
       ":   0.968171927107618type_paddingrnd_padding\n",
       ":   5.20361225498132e-16type_paddingstrf_padding\n",
       ":   0.983360093398319type_paddingzoom_padding\n",
       ":   0.00185279510068266\n",
       "\n"
      ],
      "text/plain": [
       "             (Intercept)       architecture1_conv      architecturebi_lstm \n",
       "            0.000000e+00             1.628198e-03             0.000000e+00 \n",
       "  architecturestack_conv                enz_type2                enz_type3 \n",
       "            1.328055e-01            6.559630e-177             5.453139e-29 \n",
       "               enz_type4                enz_type5                enz_type6 \n",
       "            7.629985e-01             1.331006e-47             4.745532e-07 \n",
       "               enz_type7  type_paddingaug_padding  type_paddingext_padding \n",
       "            7.120946e-18             1.130578e-01             9.681719e-01 \n",
       " type_paddingmid_padding  type_paddingpre_padding  type_paddingrnd_padding \n",
       "            1.763193e-02             9.681719e-01             5.203612e-16 \n",
       "type_paddingstrf_padding type_paddingzoom_padding \n",
       "            9.833601e-01             1.852795e-03 "
      ]
     },
     "metadata": {},
     "output_type": "display_data"
    }
   ],
   "source": [
    "sm <- summary(lm_f1_task2_additive)\n",
    "sm$coefficients\n",
    "p.adjust(sm$coefficients[,4], method = \"fdr\")"
   ]
  },
  {
   "cell_type": "code",
   "execution_count": 175,
   "metadata": {
    "scrolled": true
   },
   "outputs": [
    {
     "data": {
      "text/plain": [
       "\n",
       "Call:\n",
       "lm(formula = f1_score ~ architecture + enz_type + type_padding + \n",
       "    type_padding:architecture, data = subset(scores_task2_dcasted, \n",
       "    architecture %in% soa_arch & type_padding %in% soa_pad))\n",
       "\n",
       "Residuals:\n",
       "     Min       1Q   Median       3Q      Max \n",
       "-0.20633 -0.06346 -0.01382  0.05131  0.36483 \n",
       "\n",
       "Coefficients:\n",
       "                                                Estimate Std. Error t value\n",
       "(Intercept)                                     0.020241   0.016375   1.236\n",
       "architecturestack_conv                          0.443730   0.017505  25.349\n",
       "enz_type2                                       0.344084   0.016375  21.013\n",
       "enz_type3                                       0.109937   0.016375   6.714\n",
       "enz_type4                                      -0.008815   0.016375  -0.538\n",
       "enz_type5                                       0.065530   0.016375   4.002\n",
       "enz_type6                                       0.057103   0.016375   3.487\n",
       "enz_type7                                       0.059785   0.016375   3.651\n",
       "type_paddingext_padding                        -0.030924   0.017505  -1.767\n",
       "type_paddingmid_padding                         0.042694   0.017505   2.439\n",
       "type_paddingpre_padding                         0.007215   0.017505   0.412\n",
       "architecturestack_conv:type_paddingext_padding  0.017343   0.024756   0.701\n",
       "architecturestack_conv:type_paddingmid_padding -0.038830   0.024756  -1.569\n",
       "architecturestack_conv:type_paddingpre_padding -0.034073   0.024756  -1.376\n",
       "                                               Pr(>|t|)    \n",
       "(Intercept)                                    0.216947    \n",
       "architecturestack_conv                          < 2e-16 ***\n",
       "enz_type2                                       < 2e-16 ***\n",
       "enz_type3                                      4.76e-11 ***\n",
       "enz_type4                                      0.590585    \n",
       "enz_type5                                      7.15e-05 ***\n",
       "enz_type6                                      0.000527 ***\n",
       "enz_type7                                      0.000286 ***\n",
       "type_paddingext_padding                        0.077860 .  \n",
       "type_paddingmid_padding                        0.015048 *  \n",
       "type_paddingpre_padding                        0.680396    \n",
       "architecturestack_conv:type_paddingext_padding 0.483870    \n",
       "architecturestack_conv:type_paddingmid_padding 0.117342    \n",
       "architecturestack_conv:type_paddingpre_padding 0.169276    \n",
       "---\n",
       "Signif. codes:  0 ‘***’ 0.001 ‘**’ 0.01 ‘*’ 0.05 ‘.’ 0.1 ‘ ’ 1\n",
       "\n",
       "Residual standard error: 0.1036 on 546 degrees of freedom\n",
       "Multiple R-squared:  0.849,\tAdjusted R-squared:  0.8454 \n",
       "F-statistic: 236.2 on 13 and 546 DF,  p-value: < 2.2e-16\n"
      ]
     },
     "metadata": {},
     "output_type": "display_data"
    }
   ],
   "source": [
    "soa_arch <- c(\"stack_conv\", \"bi_lstm\")\n",
    "soa_pad <- c(\"post_padding\", \"pre_padding\", \"mid_padding\", \"ext_padding\")\n",
    "lm_f1_task2_additive_soa <- lm(f1_score~architecture+enz_type+type_padding+type_padding:architecture,\n",
    "                               data=subset(scores_task2_dcasted, architecture %in% soa_arch &\n",
    "                                          type_padding %in% soa_pad))\n",
    "summary(lm_f1_task2_additive_soa)"
   ]
  },
  {
   "cell_type": "code",
   "execution_count": 214,
   "metadata": {},
   "outputs": [
    {
     "data": {
      "text/html": [
       "<table>\n",
       "<caption>A matrix: 14 x 4 of type dbl</caption>\n",
       "<thead>\n",
       "\t<tr><th></th><th scope=col>Estimate</th><th scope=col>Std. Error</th><th scope=col>t value</th><th scope=col>Pr(&gt;|t|)</th></tr>\n",
       "</thead>\n",
       "<tbody>\n",
       "\t<tr><th scope=row>(Intercept)</th><td> 0.020240849</td><td>0.01637454</td><td> 1.2361168</td><td>2.169467e-01</td></tr>\n",
       "\t<tr><th scope=row>architecturestack_conv</th><td> 0.443729609</td><td>0.01750512</td><td>25.3485555</td><td>2.753774e-94</td></tr>\n",
       "\t<tr><th scope=row>enz_type2</th><td> 0.344083652</td><td>0.01637454</td><td>21.0133271</td><td>2.784364e-72</td></tr>\n",
       "\t<tr><th scope=row>enz_type3</th><td> 0.109936709</td><td>0.01637454</td><td> 6.7138791</td><td>4.762129e-11</td></tr>\n",
       "\t<tr><th scope=row>enz_type4</th><td>-0.008814513</td><td>0.01637454</td><td>-0.5383059</td><td>5.905853e-01</td></tr>\n",
       "\t<tr><th scope=row>enz_type5</th><td> 0.065530204</td><td>0.01637454</td><td> 4.0019559</td><td>7.149597e-05</td></tr>\n",
       "\t<tr><th scope=row>enz_type6</th><td> 0.057103372</td><td>0.01637454</td><td> 3.4873259</td><td>5.271776e-04</td></tr>\n",
       "\t<tr><th scope=row>enz_type7</th><td> 0.059784596</td><td>0.01637454</td><td> 3.6510693</td><td>2.862712e-04</td></tr>\n",
       "\t<tr><th scope=row>type_paddingext_padding</th><td>-0.030923912</td><td>0.01750512</td><td>-1.7665635</td><td>7.786005e-02</td></tr>\n",
       "\t<tr><th scope=row>type_paddingmid_padding</th><td> 0.042693956</td><td>0.01750512</td><td> 2.4389405</td><td>1.504790e-02</td></tr>\n",
       "\t<tr><th scope=row>type_paddingpre_padding</th><td> 0.007214622</td><td>0.01750512</td><td> 0.4121434</td><td>6.803961e-01</td></tr>\n",
       "\t<tr><th scope=row>architecturestack_conv:type_paddingext_padding</th><td> 0.017343307</td><td>0.02475598</td><td> 0.7005703</td><td>4.838696e-01</td></tr>\n",
       "\t<tr><th scope=row>architecturestack_conv:type_paddingmid_padding</th><td>-0.038829939</td><td>0.02475598</td><td>-1.5685072</td><td>1.173421e-01</td></tr>\n",
       "\t<tr><th scope=row>architecturestack_conv:type_paddingpre_padding</th><td>-0.034072991</td><td>0.02475598</td><td>-1.3763537</td><td>1.692763e-01</td></tr>\n",
       "</tbody>\n",
       "</table>\n"
      ],
      "text/latex": [
       "A matrix: 14 x 4 of type dbl\n",
       "\\begin{tabular}{r|llll}\n",
       "  & Estimate & Std. Error & t value & Pr(>\\textbar{}t\\textbar{})\\\\\n",
       "\\hline\n",
       "\t(Intercept) &  0.020240849 & 0.01637454 &  1.2361168 & 2.169467e-01\\\\\n",
       "\tarchitecturestack\\_conv &  0.443729609 & 0.01750512 & 25.3485555 & 2.753774e-94\\\\\n",
       "\tenz\\_type2 &  0.344083652 & 0.01637454 & 21.0133271 & 2.784364e-72\\\\\n",
       "\tenz\\_type3 &  0.109936709 & 0.01637454 &  6.7138791 & 4.762129e-11\\\\\n",
       "\tenz\\_type4 & -0.008814513 & 0.01637454 & -0.5383059 & 5.905853e-01\\\\\n",
       "\tenz\\_type5 &  0.065530204 & 0.01637454 &  4.0019559 & 7.149597e-05\\\\\n",
       "\tenz\\_type6 &  0.057103372 & 0.01637454 &  3.4873259 & 5.271776e-04\\\\\n",
       "\tenz\\_type7 &  0.059784596 & 0.01637454 &  3.6510693 & 2.862712e-04\\\\\n",
       "\ttype\\_paddingext\\_padding & -0.030923912 & 0.01750512 & -1.7665635 & 7.786005e-02\\\\\n",
       "\ttype\\_paddingmid\\_padding &  0.042693956 & 0.01750512 &  2.4389405 & 1.504790e-02\\\\\n",
       "\ttype\\_paddingpre\\_padding &  0.007214622 & 0.01750512 &  0.4121434 & 6.803961e-01\\\\\n",
       "\tarchitecturestack\\_conv:type\\_paddingext\\_padding &  0.017343307 & 0.02475598 &  0.7005703 & 4.838696e-01\\\\\n",
       "\tarchitecturestack\\_conv:type\\_paddingmid\\_padding & -0.038829939 & 0.02475598 & -1.5685072 & 1.173421e-01\\\\\n",
       "\tarchitecturestack\\_conv:type\\_paddingpre\\_padding & -0.034072991 & 0.02475598 & -1.3763537 & 1.692763e-01\\\\\n",
       "\\end{tabular}\n"
      ],
      "text/markdown": [
       "\n",
       "A matrix: 14 x 4 of type dbl\n",
       "\n",
       "| <!--/--> | Estimate | Std. Error | t value | Pr(&gt;|t|) |\n",
       "|---|---|---|---|---|\n",
       "| (Intercept) |  0.020240849 | 0.01637454 |  1.2361168 | 2.169467e-01 |\n",
       "| architecturestack_conv |  0.443729609 | 0.01750512 | 25.3485555 | 2.753774e-94 |\n",
       "| enz_type2 |  0.344083652 | 0.01637454 | 21.0133271 | 2.784364e-72 |\n",
       "| enz_type3 |  0.109936709 | 0.01637454 |  6.7138791 | 4.762129e-11 |\n",
       "| enz_type4 | -0.008814513 | 0.01637454 | -0.5383059 | 5.905853e-01 |\n",
       "| enz_type5 |  0.065530204 | 0.01637454 |  4.0019559 | 7.149597e-05 |\n",
       "| enz_type6 |  0.057103372 | 0.01637454 |  3.4873259 | 5.271776e-04 |\n",
       "| enz_type7 |  0.059784596 | 0.01637454 |  3.6510693 | 2.862712e-04 |\n",
       "| type_paddingext_padding | -0.030923912 | 0.01750512 | -1.7665635 | 7.786005e-02 |\n",
       "| type_paddingmid_padding |  0.042693956 | 0.01750512 |  2.4389405 | 1.504790e-02 |\n",
       "| type_paddingpre_padding |  0.007214622 | 0.01750512 |  0.4121434 | 6.803961e-01 |\n",
       "| architecturestack_conv:type_paddingext_padding |  0.017343307 | 0.02475598 |  0.7005703 | 4.838696e-01 |\n",
       "| architecturestack_conv:type_paddingmid_padding | -0.038829939 | 0.02475598 | -1.5685072 | 1.173421e-01 |\n",
       "| architecturestack_conv:type_paddingpre_padding | -0.034072991 | 0.02475598 | -1.3763537 | 1.692763e-01 |\n",
       "\n"
      ],
      "text/plain": [
       "                                               Estimate     Std. Error\n",
       "(Intercept)                                     0.020240849 0.01637454\n",
       "architecturestack_conv                          0.443729609 0.01750512\n",
       "enz_type2                                       0.344083652 0.01637454\n",
       "enz_type3                                       0.109936709 0.01637454\n",
       "enz_type4                                      -0.008814513 0.01637454\n",
       "enz_type5                                       0.065530204 0.01637454\n",
       "enz_type6                                       0.057103372 0.01637454\n",
       "enz_type7                                       0.059784596 0.01637454\n",
       "type_paddingext_padding                        -0.030923912 0.01750512\n",
       "type_paddingmid_padding                         0.042693956 0.01750512\n",
       "type_paddingpre_padding                         0.007214622 0.01750512\n",
       "architecturestack_conv:type_paddingext_padding  0.017343307 0.02475598\n",
       "architecturestack_conv:type_paddingmid_padding -0.038829939 0.02475598\n",
       "architecturestack_conv:type_paddingpre_padding -0.034072991 0.02475598\n",
       "                                               t value    Pr(>|t|)    \n",
       "(Intercept)                                     1.2361168 2.169467e-01\n",
       "architecturestack_conv                         25.3485555 2.753774e-94\n",
       "enz_type2                                      21.0133271 2.784364e-72\n",
       "enz_type3                                       6.7138791 4.762129e-11\n",
       "enz_type4                                      -0.5383059 5.905853e-01\n",
       "enz_type5                                       4.0019559 7.149597e-05\n",
       "enz_type6                                       3.4873259 5.271776e-04\n",
       "enz_type7                                       3.6510693 2.862712e-04\n",
       "type_paddingext_padding                        -1.7665635 7.786005e-02\n",
       "type_paddingmid_padding                         2.4389405 1.504790e-02\n",
       "type_paddingpre_padding                         0.4121434 6.803961e-01\n",
       "architecturestack_conv:type_paddingext_padding  0.7005703 4.838696e-01\n",
       "architecturestack_conv:type_paddingmid_padding -1.5685072 1.173421e-01\n",
       "architecturestack_conv:type_paddingpre_padding -1.3763537 1.692763e-01"
      ]
     },
     "metadata": {},
     "output_type": "display_data"
    },
    {
     "data": {
      "text/html": [
       "<dl class=dl-horizontal>\n",
       "\t<dt>(Intercept)</dt>\n",
       "\t\t<dd>0.27611392414325</dd>\n",
       "\t<dt>architecturestack_conv</dt>\n",
       "\t\t<dd>3.8552839086935e-93</dd>\n",
       "\t<dt>enz_type2</dt>\n",
       "\t\t<dd>1.94905473501245e-71</dd>\n",
       "\t<dt>enz_type3</dt>\n",
       "\t\t<dd>2.22232676534143e-10</dd>\n",
       "\t<dt>enz_type4</dt>\n",
       "\t\t<dd>0.636014900600512</dd>\n",
       "\t<dt>enz_type5</dt>\n",
       "\t\t<dd>0.000250235883172054</dd>\n",
       "\t<dt>enz_type6</dt>\n",
       "\t\t<dd>0.00123008102594163</dd>\n",
       "\t<dt>enz_type7</dt>\n",
       "\t\t<dd>0.00080155935829521</dd>\n",
       "\t<dt>type_paddingext_padding</dt>\n",
       "\t\t<dd>0.136255086512753</dd>\n",
       "\t<dt>type_paddingmid_padding</dt>\n",
       "\t\t<dd>0.0300958020013744</dd>\n",
       "\t<dt>type_paddingpre_padding</dt>\n",
       "\t\t<dd>0.680396054433365</dd>\n",
       "\t<dt>architecturestack_conv:type_paddingext_padding</dt>\n",
       "\t\t<dd>0.564514589068155</dd>\n",
       "\t<dt>architecturestack_conv:type_paddingmid_padding</dt>\n",
       "\t\t<dd>0.182532217413187</dd>\n",
       "\t<dt>architecturestack_conv:type_paddingpre_padding</dt>\n",
       "\t\t<dd>0.23698686016343</dd>\n",
       "</dl>\n"
      ],
      "text/latex": [
       "\\begin{description*}\n",
       "\\item[(Intercept)] 0.27611392414325\n",
       "\\item[architecturestack\\textbackslash{}\\_conv] 3.8552839086935e-93\n",
       "\\item[enz\\textbackslash{}\\_type2] 1.94905473501245e-71\n",
       "\\item[enz\\textbackslash{}\\_type3] 2.22232676534143e-10\n",
       "\\item[enz\\textbackslash{}\\_type4] 0.636014900600512\n",
       "\\item[enz\\textbackslash{}\\_type5] 0.000250235883172054\n",
       "\\item[enz\\textbackslash{}\\_type6] 0.00123008102594163\n",
       "\\item[enz\\textbackslash{}\\_type7] 0.00080155935829521\n",
       "\\item[type\\textbackslash{}\\_paddingext\\textbackslash{}\\_padding] 0.136255086512753\n",
       "\\item[type\\textbackslash{}\\_paddingmid\\textbackslash{}\\_padding] 0.0300958020013744\n",
       "\\item[type\\textbackslash{}\\_paddingpre\\textbackslash{}\\_padding] 0.680396054433365\n",
       "\\item[architecturestack\\textbackslash{}\\_conv:type\\textbackslash{}\\_paddingext\\textbackslash{}\\_padding] 0.564514589068155\n",
       "\\item[architecturestack\\textbackslash{}\\_conv:type\\textbackslash{}\\_paddingmid\\textbackslash{}\\_padding] 0.182532217413187\n",
       "\\item[architecturestack\\textbackslash{}\\_conv:type\\textbackslash{}\\_paddingpre\\textbackslash{}\\_padding] 0.23698686016343\n",
       "\\end{description*}\n"
      ],
      "text/markdown": [
       "(Intercept)\n",
       ":   0.27611392414325architecturestack_conv\n",
       ":   3.8552839086935e-93enz_type2\n",
       ":   1.94905473501245e-71enz_type3\n",
       ":   2.22232676534143e-10enz_type4\n",
       ":   0.636014900600512enz_type5\n",
       ":   0.000250235883172054enz_type6\n",
       ":   0.00123008102594163enz_type7\n",
       ":   0.00080155935829521type_paddingext_padding\n",
       ":   0.136255086512753type_paddingmid_padding\n",
       ":   0.0300958020013744type_paddingpre_padding\n",
       ":   0.680396054433365architecturestack_conv:type_paddingext_padding\n",
       ":   0.564514589068155architecturestack_conv:type_paddingmid_padding\n",
       ":   0.182532217413187architecturestack_conv:type_paddingpre_padding\n",
       ":   0.23698686016343\n",
       "\n"
      ],
      "text/plain": [
       "                                   (Intercept) \n",
       "                                  2.761139e-01 \n",
       "                        architecturestack_conv \n",
       "                                  3.855284e-93 \n",
       "                                     enz_type2 \n",
       "                                  1.949055e-71 \n",
       "                                     enz_type3 \n",
       "                                  2.222327e-10 \n",
       "                                     enz_type4 \n",
       "                                  6.360149e-01 \n",
       "                                     enz_type5 \n",
       "                                  2.502359e-04 \n",
       "                                     enz_type6 \n",
       "                                  1.230081e-03 \n",
       "                                     enz_type7 \n",
       "                                  8.015594e-04 \n",
       "                       type_paddingext_padding \n",
       "                                  1.362551e-01 \n",
       "                       type_paddingmid_padding \n",
       "                                  3.009580e-02 \n",
       "                       type_paddingpre_padding \n",
       "                                  6.803961e-01 \n",
       "architecturestack_conv:type_paddingext_padding \n",
       "                                  5.645146e-01 \n",
       "architecturestack_conv:type_paddingmid_padding \n",
       "                                  1.825322e-01 \n",
       "architecturestack_conv:type_paddingpre_padding \n",
       "                                  2.369869e-01 "
      ]
     },
     "metadata": {},
     "output_type": "display_data"
    }
   ],
   "source": [
    "sm <- summary(lm_f1_task2_additive_soa)\n",
    "sm$coefficients\n",
    "p.adjust(sm$coefficients[,4], method = \"fdr\")"
   ]
  },
  {
   "cell_type": "code",
   "execution_count": 182,
   "metadata": {},
   "outputs": [],
   "source": [
    "soa_pad <- c(\"post_padding\", \"strf_padding\", \"rnd_padding\", \"zoom_padding\")\n",
    "lm_f1_task2_additive_soa2 <- lm(f1_score~architecture+enz_type+type_padding+type_padding*architecture,\n",
    "                               data=subset(scores_task2_dcasted, architecture %in% soa_arch &\n",
    "                                          type_padding %in% soa_pad))"
   ]
  },
  {
   "cell_type": "code",
   "execution_count": 183,
   "metadata": {},
   "outputs": [
    {
     "data": {
      "text/plain": [
       "\n",
       "Call:\n",
       "lm(formula = f1_score ~ architecture + enz_type + type_padding + \n",
       "    type_padding * architecture, data = subset(scores_task2_dcasted, \n",
       "    architecture %in% soa_arch & type_padding %in% soa_pad))\n",
       "\n",
       "Residuals:\n",
       "     Min       1Q   Median       3Q      Max \n",
       "-0.40811 -0.04638 -0.00637  0.04437  0.37064 \n",
       "\n",
       "Coefficients:\n",
       "                                                  Estimate Std. Error t value\n",
       "(Intercept)                                      0.0405106  0.0150445   2.693\n",
       "architecturestack_conv                           0.4437296  0.0160832  27.590\n",
       "enz_type2                                        0.3422050  0.0150445  22.746\n",
       "enz_type3                                        0.0662313  0.0150445   4.402\n",
       "enz_type4                                       -0.0078110  0.0150445  -0.519\n",
       "enz_type5                                        0.0633978  0.0150445   4.214\n",
       "enz_type6                                       -0.0003121  0.0150445  -0.021\n",
       "enz_type7                                        0.0220250  0.0150445   1.464\n",
       "type_paddingrnd_padding                         -0.0341399  0.0160832  -2.123\n",
       "type_paddingstrf_padding                        -0.0341399  0.0160832  -2.123\n",
       "type_paddingzoom_padding                        -0.0161549  0.0160832  -1.004\n",
       "architecturestack_conv:type_paddingrnd_padding  -0.0640145  0.0227451  -2.814\n",
       "architecturestack_conv:type_paddingstrf_padding  0.0273799  0.0227451   1.204\n",
       "architecturestack_conv:type_paddingzoom_padding -0.0220386  0.0227451  -0.969\n",
       "                                                Pr(>|t|)    \n",
       "(Intercept)                                      0.00730 ** \n",
       "architecturestack_conv                           < 2e-16 ***\n",
       "enz_type2                                        < 2e-16 ***\n",
       "enz_type3                                       1.29e-05 ***\n",
       "enz_type4                                        0.60383    \n",
       "enz_type5                                       2.94e-05 ***\n",
       "enz_type6                                        0.98346    \n",
       "enz_type7                                        0.14377    \n",
       "type_paddingrnd_padding                          0.03423 *  \n",
       "type_paddingstrf_padding                         0.03423 *  \n",
       "type_paddingzoom_padding                         0.31560    \n",
       "architecturestack_conv:type_paddingrnd_padding   0.00506 ** \n",
       "architecturestack_conv:type_paddingstrf_padding  0.22920    \n",
       "architecturestack_conv:type_paddingzoom_padding  0.33300    \n",
       "---\n",
       "Signif. codes:  0 ‘***’ 0.001 ‘**’ 0.01 ‘*’ 0.05 ‘.’ 0.1 ‘ ’ 1\n",
       "\n",
       "Residual standard error: 0.09515 on 546 degrees of freedom\n",
       "Multiple R-squared:  0.8719,\tAdjusted R-squared:  0.8688 \n",
       "F-statistic: 285.8 on 13 and 546 DF,  p-value: < 2.2e-16\n"
      ]
     },
     "metadata": {},
     "output_type": "display_data"
    }
   ],
   "source": [
    "summary(lm_f1_task2_additive_soa2)"
   ]
  },
  {
   "cell_type": "code",
   "execution_count": 215,
   "metadata": {},
   "outputs": [
    {
     "data": {
      "text/html": [
       "<table>\n",
       "<caption>A matrix: 14 x 4 of type dbl</caption>\n",
       "<thead>\n",
       "\t<tr><th></th><th scope=col>Estimate</th><th scope=col>Std. Error</th><th scope=col>t value</th><th scope=col>Pr(&gt;|t|)</th></tr>\n",
       "</thead>\n",
       "<tbody>\n",
       "\t<tr><th scope=row>(Intercept)</th><td> 0.020240849</td><td>0.01637454</td><td> 1.2361168</td><td>2.169467e-01</td></tr>\n",
       "\t<tr><th scope=row>architecturestack_conv</th><td> 0.443729609</td><td>0.01750512</td><td>25.3485555</td><td>2.753774e-94</td></tr>\n",
       "\t<tr><th scope=row>enz_type2</th><td> 0.344083652</td><td>0.01637454</td><td>21.0133271</td><td>2.784364e-72</td></tr>\n",
       "\t<tr><th scope=row>enz_type3</th><td> 0.109936709</td><td>0.01637454</td><td> 6.7138791</td><td>4.762129e-11</td></tr>\n",
       "\t<tr><th scope=row>enz_type4</th><td>-0.008814513</td><td>0.01637454</td><td>-0.5383059</td><td>5.905853e-01</td></tr>\n",
       "\t<tr><th scope=row>enz_type5</th><td> 0.065530204</td><td>0.01637454</td><td> 4.0019559</td><td>7.149597e-05</td></tr>\n",
       "\t<tr><th scope=row>enz_type6</th><td> 0.057103372</td><td>0.01637454</td><td> 3.4873259</td><td>5.271776e-04</td></tr>\n",
       "\t<tr><th scope=row>enz_type7</th><td> 0.059784596</td><td>0.01637454</td><td> 3.6510693</td><td>2.862712e-04</td></tr>\n",
       "\t<tr><th scope=row>type_paddingext_padding</th><td>-0.030923912</td><td>0.01750512</td><td>-1.7665635</td><td>7.786005e-02</td></tr>\n",
       "\t<tr><th scope=row>type_paddingmid_padding</th><td> 0.042693956</td><td>0.01750512</td><td> 2.4389405</td><td>1.504790e-02</td></tr>\n",
       "\t<tr><th scope=row>type_paddingpre_padding</th><td> 0.007214622</td><td>0.01750512</td><td> 0.4121434</td><td>6.803961e-01</td></tr>\n",
       "\t<tr><th scope=row>architecturestack_conv:type_paddingext_padding</th><td> 0.017343307</td><td>0.02475598</td><td> 0.7005703</td><td>4.838696e-01</td></tr>\n",
       "\t<tr><th scope=row>architecturestack_conv:type_paddingmid_padding</th><td>-0.038829939</td><td>0.02475598</td><td>-1.5685072</td><td>1.173421e-01</td></tr>\n",
       "\t<tr><th scope=row>architecturestack_conv:type_paddingpre_padding</th><td>-0.034072991</td><td>0.02475598</td><td>-1.3763537</td><td>1.692763e-01</td></tr>\n",
       "</tbody>\n",
       "</table>\n"
      ],
      "text/latex": [
       "A matrix: 14 x 4 of type dbl\n",
       "\\begin{tabular}{r|llll}\n",
       "  & Estimate & Std. Error & t value & Pr(>\\textbar{}t\\textbar{})\\\\\n",
       "\\hline\n",
       "\t(Intercept) &  0.020240849 & 0.01637454 &  1.2361168 & 2.169467e-01\\\\\n",
       "\tarchitecturestack\\_conv &  0.443729609 & 0.01750512 & 25.3485555 & 2.753774e-94\\\\\n",
       "\tenz\\_type2 &  0.344083652 & 0.01637454 & 21.0133271 & 2.784364e-72\\\\\n",
       "\tenz\\_type3 &  0.109936709 & 0.01637454 &  6.7138791 & 4.762129e-11\\\\\n",
       "\tenz\\_type4 & -0.008814513 & 0.01637454 & -0.5383059 & 5.905853e-01\\\\\n",
       "\tenz\\_type5 &  0.065530204 & 0.01637454 &  4.0019559 & 7.149597e-05\\\\\n",
       "\tenz\\_type6 &  0.057103372 & 0.01637454 &  3.4873259 & 5.271776e-04\\\\\n",
       "\tenz\\_type7 &  0.059784596 & 0.01637454 &  3.6510693 & 2.862712e-04\\\\\n",
       "\ttype\\_paddingext\\_padding & -0.030923912 & 0.01750512 & -1.7665635 & 7.786005e-02\\\\\n",
       "\ttype\\_paddingmid\\_padding &  0.042693956 & 0.01750512 &  2.4389405 & 1.504790e-02\\\\\n",
       "\ttype\\_paddingpre\\_padding &  0.007214622 & 0.01750512 &  0.4121434 & 6.803961e-01\\\\\n",
       "\tarchitecturestack\\_conv:type\\_paddingext\\_padding &  0.017343307 & 0.02475598 &  0.7005703 & 4.838696e-01\\\\\n",
       "\tarchitecturestack\\_conv:type\\_paddingmid\\_padding & -0.038829939 & 0.02475598 & -1.5685072 & 1.173421e-01\\\\\n",
       "\tarchitecturestack\\_conv:type\\_paddingpre\\_padding & -0.034072991 & 0.02475598 & -1.3763537 & 1.692763e-01\\\\\n",
       "\\end{tabular}\n"
      ],
      "text/markdown": [
       "\n",
       "A matrix: 14 x 4 of type dbl\n",
       "\n",
       "| <!--/--> | Estimate | Std. Error | t value | Pr(&gt;|t|) |\n",
       "|---|---|---|---|---|\n",
       "| (Intercept) |  0.020240849 | 0.01637454 |  1.2361168 | 2.169467e-01 |\n",
       "| architecturestack_conv |  0.443729609 | 0.01750512 | 25.3485555 | 2.753774e-94 |\n",
       "| enz_type2 |  0.344083652 | 0.01637454 | 21.0133271 | 2.784364e-72 |\n",
       "| enz_type3 |  0.109936709 | 0.01637454 |  6.7138791 | 4.762129e-11 |\n",
       "| enz_type4 | -0.008814513 | 0.01637454 | -0.5383059 | 5.905853e-01 |\n",
       "| enz_type5 |  0.065530204 | 0.01637454 |  4.0019559 | 7.149597e-05 |\n",
       "| enz_type6 |  0.057103372 | 0.01637454 |  3.4873259 | 5.271776e-04 |\n",
       "| enz_type7 |  0.059784596 | 0.01637454 |  3.6510693 | 2.862712e-04 |\n",
       "| type_paddingext_padding | -0.030923912 | 0.01750512 | -1.7665635 | 7.786005e-02 |\n",
       "| type_paddingmid_padding |  0.042693956 | 0.01750512 |  2.4389405 | 1.504790e-02 |\n",
       "| type_paddingpre_padding |  0.007214622 | 0.01750512 |  0.4121434 | 6.803961e-01 |\n",
       "| architecturestack_conv:type_paddingext_padding |  0.017343307 | 0.02475598 |  0.7005703 | 4.838696e-01 |\n",
       "| architecturestack_conv:type_paddingmid_padding | -0.038829939 | 0.02475598 | -1.5685072 | 1.173421e-01 |\n",
       "| architecturestack_conv:type_paddingpre_padding | -0.034072991 | 0.02475598 | -1.3763537 | 1.692763e-01 |\n",
       "\n"
      ],
      "text/plain": [
       "                                               Estimate     Std. Error\n",
       "(Intercept)                                     0.020240849 0.01637454\n",
       "architecturestack_conv                          0.443729609 0.01750512\n",
       "enz_type2                                       0.344083652 0.01637454\n",
       "enz_type3                                       0.109936709 0.01637454\n",
       "enz_type4                                      -0.008814513 0.01637454\n",
       "enz_type5                                       0.065530204 0.01637454\n",
       "enz_type6                                       0.057103372 0.01637454\n",
       "enz_type7                                       0.059784596 0.01637454\n",
       "type_paddingext_padding                        -0.030923912 0.01750512\n",
       "type_paddingmid_padding                         0.042693956 0.01750512\n",
       "type_paddingpre_padding                         0.007214622 0.01750512\n",
       "architecturestack_conv:type_paddingext_padding  0.017343307 0.02475598\n",
       "architecturestack_conv:type_paddingmid_padding -0.038829939 0.02475598\n",
       "architecturestack_conv:type_paddingpre_padding -0.034072991 0.02475598\n",
       "                                               t value    Pr(>|t|)    \n",
       "(Intercept)                                     1.2361168 2.169467e-01\n",
       "architecturestack_conv                         25.3485555 2.753774e-94\n",
       "enz_type2                                      21.0133271 2.784364e-72\n",
       "enz_type3                                       6.7138791 4.762129e-11\n",
       "enz_type4                                      -0.5383059 5.905853e-01\n",
       "enz_type5                                       4.0019559 7.149597e-05\n",
       "enz_type6                                       3.4873259 5.271776e-04\n",
       "enz_type7                                       3.6510693 2.862712e-04\n",
       "type_paddingext_padding                        -1.7665635 7.786005e-02\n",
       "type_paddingmid_padding                         2.4389405 1.504790e-02\n",
       "type_paddingpre_padding                         0.4121434 6.803961e-01\n",
       "architecturestack_conv:type_paddingext_padding  0.7005703 4.838696e-01\n",
       "architecturestack_conv:type_paddingmid_padding -1.5685072 1.173421e-01\n",
       "architecturestack_conv:type_paddingpre_padding -1.3763537 1.692763e-01"
      ]
     },
     "metadata": {},
     "output_type": "display_data"
    },
    {
     "data": {
      "text/html": [
       "<dl class=dl-horizontal>\n",
       "\t<dt>(Intercept)</dt>\n",
       "\t\t<dd>0.27611392414325</dd>\n",
       "\t<dt>architecturestack_conv</dt>\n",
       "\t\t<dd>3.8552839086935e-93</dd>\n",
       "\t<dt>enz_type2</dt>\n",
       "\t\t<dd>1.94905473501245e-71</dd>\n",
       "\t<dt>enz_type3</dt>\n",
       "\t\t<dd>2.22232676534143e-10</dd>\n",
       "\t<dt>enz_type4</dt>\n",
       "\t\t<dd>0.636014900600512</dd>\n",
       "\t<dt>enz_type5</dt>\n",
       "\t\t<dd>0.000250235883172054</dd>\n",
       "\t<dt>enz_type6</dt>\n",
       "\t\t<dd>0.00123008102594163</dd>\n",
       "\t<dt>enz_type7</dt>\n",
       "\t\t<dd>0.00080155935829521</dd>\n",
       "\t<dt>type_paddingext_padding</dt>\n",
       "\t\t<dd>0.136255086512753</dd>\n",
       "\t<dt>type_paddingmid_padding</dt>\n",
       "\t\t<dd>0.0300958020013744</dd>\n",
       "\t<dt>type_paddingpre_padding</dt>\n",
       "\t\t<dd>0.680396054433365</dd>\n",
       "\t<dt>architecturestack_conv:type_paddingext_padding</dt>\n",
       "\t\t<dd>0.564514589068155</dd>\n",
       "\t<dt>architecturestack_conv:type_paddingmid_padding</dt>\n",
       "\t\t<dd>0.182532217413187</dd>\n",
       "\t<dt>architecturestack_conv:type_paddingpre_padding</dt>\n",
       "\t\t<dd>0.23698686016343</dd>\n",
       "</dl>\n"
      ],
      "text/latex": [
       "\\begin{description*}\n",
       "\\item[(Intercept)] 0.27611392414325\n",
       "\\item[architecturestack\\textbackslash{}\\_conv] 3.8552839086935e-93\n",
       "\\item[enz\\textbackslash{}\\_type2] 1.94905473501245e-71\n",
       "\\item[enz\\textbackslash{}\\_type3] 2.22232676534143e-10\n",
       "\\item[enz\\textbackslash{}\\_type4] 0.636014900600512\n",
       "\\item[enz\\textbackslash{}\\_type5] 0.000250235883172054\n",
       "\\item[enz\\textbackslash{}\\_type6] 0.00123008102594163\n",
       "\\item[enz\\textbackslash{}\\_type7] 0.00080155935829521\n",
       "\\item[type\\textbackslash{}\\_paddingext\\textbackslash{}\\_padding] 0.136255086512753\n",
       "\\item[type\\textbackslash{}\\_paddingmid\\textbackslash{}\\_padding] 0.0300958020013744\n",
       "\\item[type\\textbackslash{}\\_paddingpre\\textbackslash{}\\_padding] 0.680396054433365\n",
       "\\item[architecturestack\\textbackslash{}\\_conv:type\\textbackslash{}\\_paddingext\\textbackslash{}\\_padding] 0.564514589068155\n",
       "\\item[architecturestack\\textbackslash{}\\_conv:type\\textbackslash{}\\_paddingmid\\textbackslash{}\\_padding] 0.182532217413187\n",
       "\\item[architecturestack\\textbackslash{}\\_conv:type\\textbackslash{}\\_paddingpre\\textbackslash{}\\_padding] 0.23698686016343\n",
       "\\end{description*}\n"
      ],
      "text/markdown": [
       "(Intercept)\n",
       ":   0.27611392414325architecturestack_conv\n",
       ":   3.8552839086935e-93enz_type2\n",
       ":   1.94905473501245e-71enz_type3\n",
       ":   2.22232676534143e-10enz_type4\n",
       ":   0.636014900600512enz_type5\n",
       ":   0.000250235883172054enz_type6\n",
       ":   0.00123008102594163enz_type7\n",
       ":   0.00080155935829521type_paddingext_padding\n",
       ":   0.136255086512753type_paddingmid_padding\n",
       ":   0.0300958020013744type_paddingpre_padding\n",
       ":   0.680396054433365architecturestack_conv:type_paddingext_padding\n",
       ":   0.564514589068155architecturestack_conv:type_paddingmid_padding\n",
       ":   0.182532217413187architecturestack_conv:type_paddingpre_padding\n",
       ":   0.23698686016343\n",
       "\n"
      ],
      "text/plain": [
       "                                   (Intercept) \n",
       "                                  2.761139e-01 \n",
       "                        architecturestack_conv \n",
       "                                  3.855284e-93 \n",
       "                                     enz_type2 \n",
       "                                  1.949055e-71 \n",
       "                                     enz_type3 \n",
       "                                  2.222327e-10 \n",
       "                                     enz_type4 \n",
       "                                  6.360149e-01 \n",
       "                                     enz_type5 \n",
       "                                  2.502359e-04 \n",
       "                                     enz_type6 \n",
       "                                  1.230081e-03 \n",
       "                                     enz_type7 \n",
       "                                  8.015594e-04 \n",
       "                       type_paddingext_padding \n",
       "                                  1.362551e-01 \n",
       "                       type_paddingmid_padding \n",
       "                                  3.009580e-02 \n",
       "                       type_paddingpre_padding \n",
       "                                  6.803961e-01 \n",
       "architecturestack_conv:type_paddingext_padding \n",
       "                                  5.645146e-01 \n",
       "architecturestack_conv:type_paddingmid_padding \n",
       "                                  1.825322e-01 \n",
       "architecturestack_conv:type_paddingpre_padding \n",
       "                                  2.369869e-01 "
      ]
     },
     "metadata": {},
     "output_type": "display_data"
    }
   ],
   "source": [
    "sm <- summary(lm_f1_task2_additive_soa)\n",
    "sm$coefficients\n",
    "p.adjust(sm$coefficients[,4], method = \"fdr\")"
   ]
  },
  {
   "cell_type": "code",
   "execution_count": 185,
   "metadata": {},
   "outputs": [
    {
     "data": {
      "text/plain": [
       "\n",
       "Call:\n",
       "lm(formula = f1_score ~ enz_type + type_padding, data = subset(scores_task2_dcasted, \n",
       "    architecture == \"only_denses\"))\n",
       "\n",
       "Residuals:\n",
       "     Min       1Q   Median       3Q      Max \n",
       "-0.49560 -0.03289  0.00192  0.03583  0.43419 \n",
       "\n",
       "Coefficients:\n",
       "                         Estimate Std. Error t value Pr(>|t|)    \n",
       "(Intercept)               0.43554    0.01546  28.170  < 2e-16 ***\n",
       "enz_type2                 0.15236    0.01546   9.854  < 2e-16 ***\n",
       "enz_type3                 0.10727    0.01546   6.938 1.13e-11 ***\n",
       "enz_type4                 0.00524    0.01546   0.339 0.734809    \n",
       "enz_type5                 0.16644    0.01546  10.765  < 2e-16 ***\n",
       "enz_type6                 0.05805    0.01546   3.754 0.000192 ***\n",
       "enz_type7                 0.02208    0.01546   1.428 0.153929    \n",
       "type_paddingaug_padding   0.02269    0.01653   1.373 0.170354    \n",
       "type_paddingext_padding   0.03393    0.01653   2.053 0.040543 *  \n",
       "type_paddingmid_padding   0.03373    0.01653   2.041 0.041749 *  \n",
       "type_paddingpre_padding   0.03286    0.01653   1.988 0.047312 *  \n",
       "type_paddingrnd_padding  -0.06017    0.01653  -3.640 0.000299 ***\n",
       "type_paddingstrf_padding  0.03981    0.01653   2.409 0.016340 *  \n",
       "type_paddingzoom_padding -0.05310    0.01653  -3.213 0.001393 ** \n",
       "---\n",
       "Signif. codes:  0 ‘***’ 0.001 ‘**’ 0.01 ‘*’ 0.05 ‘.’ 0.1 ‘ ’ 1\n",
       "\n",
       "Residual standard error: 0.09779 on 546 degrees of freedom\n",
       "Multiple R-squared:  0.3746,\tAdjusted R-squared:  0.3597 \n",
       "F-statistic: 25.16 on 13 and 546 DF,  p-value: < 2.2e-16\n"
      ]
     },
     "metadata": {},
     "output_type": "display_data"
    }
   ],
   "source": [
    "lm_f1_task2_additive_soa3 <- lm(f1_score~enz_type+type_padding, \n",
    "                                data=subset(scores_task2_dcasted, architecture==\"only_denses\"))\n",
    "\n",
    "summary(lm_f1_task2_additive_soa3 )"
   ]
  },
  {
   "cell_type": "code",
   "execution_count": 218,
   "metadata": {},
   "outputs": [
    {
     "data": {
      "text/html": [
       "<table>\n",
       "<caption>A matrix: 14 x 4 of type dbl</caption>\n",
       "<thead>\n",
       "\t<tr><th></th><th scope=col>Estimate</th><th scope=col>Std. Error</th><th scope=col>t value</th><th scope=col>Pr(&gt;|t|)</th></tr>\n",
       "</thead>\n",
       "<tbody>\n",
       "\t<tr><th scope=row>(Intercept)</th><td> 0.43553976</td><td>0.01546120</td><td>28.1698463</td><td>1.741656e-108</td></tr>\n",
       "\t<tr><th scope=row>enz_type2</th><td> 0.15235663</td><td>0.01546120</td><td> 9.8541241</td><td> 3.405529e-21</td></tr>\n",
       "\t<tr><th scope=row>enz_type3</th><td> 0.10726905</td><td>0.01546120</td><td> 6.9379490</td><td> 1.130344e-11</td></tr>\n",
       "\t<tr><th scope=row>enz_type4</th><td> 0.00523993</td><td>0.01546120</td><td> 0.3389082</td><td> 7.348091e-01</td></tr>\n",
       "\t<tr><th scope=row>enz_type5</th><td> 0.16644026</td><td>0.01546120</td><td>10.7650255</td><td> 1.223724e-24</td></tr>\n",
       "\t<tr><th scope=row>enz_type6</th><td> 0.05804601</td><td>0.01546120</td><td> 3.7543005</td><td> 1.924697e-04</td></tr>\n",
       "\t<tr><th scope=row>enz_type7</th><td> 0.02207506</td><td>0.01546120</td><td> 1.4277713</td><td> 1.539294e-01</td></tr>\n",
       "\t<tr><th scope=row>type_paddingaug_padding</th><td> 0.02269191</td><td>0.01652872</td><td> 1.3728774</td><td> 1.703540e-01</td></tr>\n",
       "\t<tr><th scope=row>type_paddingext_padding</th><td> 0.03393440</td><td>0.01652872</td><td> 2.0530565</td><td> 4.054303e-02</td></tr>\n",
       "\t<tr><th scope=row>type_paddingmid_padding</th><td> 0.03373219</td><td>0.01652872</td><td> 2.0408223</td><td> 4.174890e-02</td></tr>\n",
       "\t<tr><th scope=row>type_paddingpre_padding</th><td> 0.03285887</td><td>0.01652872</td><td> 1.9879863</td><td> 4.731216e-02</td></tr>\n",
       "\t<tr><th scope=row>type_paddingrnd_padding</th><td>-0.06016516</td><td>0.01652872</td><td>-3.6400367</td><td> 2.985142e-04</td></tr>\n",
       "\t<tr><th scope=row>type_paddingstrf_padding</th><td> 0.03981258</td><td>0.01652872</td><td> 2.4086905</td><td> 1.634008e-02</td></tr>\n",
       "\t<tr><th scope=row>type_paddingzoom_padding</th><td>-0.05309974</td><td>0.01652872</td><td>-3.2125734</td><td> 1.393064e-03</td></tr>\n",
       "</tbody>\n",
       "</table>\n"
      ],
      "text/latex": [
       "A matrix: 14 x 4 of type dbl\n",
       "\\begin{tabular}{r|llll}\n",
       "  & Estimate & Std. Error & t value & Pr(>\\textbar{}t\\textbar{})\\\\\n",
       "\\hline\n",
       "\t(Intercept) &  0.43553976 & 0.01546120 & 28.1698463 & 1.741656e-108\\\\\n",
       "\tenz\\_type2 &  0.15235663 & 0.01546120 &  9.8541241 &  3.405529e-21\\\\\n",
       "\tenz\\_type3 &  0.10726905 & 0.01546120 &  6.9379490 &  1.130344e-11\\\\\n",
       "\tenz\\_type4 &  0.00523993 & 0.01546120 &  0.3389082 &  7.348091e-01\\\\\n",
       "\tenz\\_type5 &  0.16644026 & 0.01546120 & 10.7650255 &  1.223724e-24\\\\\n",
       "\tenz\\_type6 &  0.05804601 & 0.01546120 &  3.7543005 &  1.924697e-04\\\\\n",
       "\tenz\\_type7 &  0.02207506 & 0.01546120 &  1.4277713 &  1.539294e-01\\\\\n",
       "\ttype\\_paddingaug\\_padding &  0.02269191 & 0.01652872 &  1.3728774 &  1.703540e-01\\\\\n",
       "\ttype\\_paddingext\\_padding &  0.03393440 & 0.01652872 &  2.0530565 &  4.054303e-02\\\\\n",
       "\ttype\\_paddingmid\\_padding &  0.03373219 & 0.01652872 &  2.0408223 &  4.174890e-02\\\\\n",
       "\ttype\\_paddingpre\\_padding &  0.03285887 & 0.01652872 &  1.9879863 &  4.731216e-02\\\\\n",
       "\ttype\\_paddingrnd\\_padding & -0.06016516 & 0.01652872 & -3.6400367 &  2.985142e-04\\\\\n",
       "\ttype\\_paddingstrf\\_padding &  0.03981258 & 0.01652872 &  2.4086905 &  1.634008e-02\\\\\n",
       "\ttype\\_paddingzoom\\_padding & -0.05309974 & 0.01652872 & -3.2125734 &  1.393064e-03\\\\\n",
       "\\end{tabular}\n"
      ],
      "text/markdown": [
       "\n",
       "A matrix: 14 x 4 of type dbl\n",
       "\n",
       "| <!--/--> | Estimate | Std. Error | t value | Pr(&gt;|t|) |\n",
       "|---|---|---|---|---|\n",
       "| (Intercept) |  0.43553976 | 0.01546120 | 28.1698463 | 1.741656e-108 |\n",
       "| enz_type2 |  0.15235663 | 0.01546120 |  9.8541241 |  3.405529e-21 |\n",
       "| enz_type3 |  0.10726905 | 0.01546120 |  6.9379490 |  1.130344e-11 |\n",
       "| enz_type4 |  0.00523993 | 0.01546120 |  0.3389082 |  7.348091e-01 |\n",
       "| enz_type5 |  0.16644026 | 0.01546120 | 10.7650255 |  1.223724e-24 |\n",
       "| enz_type6 |  0.05804601 | 0.01546120 |  3.7543005 |  1.924697e-04 |\n",
       "| enz_type7 |  0.02207506 | 0.01546120 |  1.4277713 |  1.539294e-01 |\n",
       "| type_paddingaug_padding |  0.02269191 | 0.01652872 |  1.3728774 |  1.703540e-01 |\n",
       "| type_paddingext_padding |  0.03393440 | 0.01652872 |  2.0530565 |  4.054303e-02 |\n",
       "| type_paddingmid_padding |  0.03373219 | 0.01652872 |  2.0408223 |  4.174890e-02 |\n",
       "| type_paddingpre_padding |  0.03285887 | 0.01652872 |  1.9879863 |  4.731216e-02 |\n",
       "| type_paddingrnd_padding | -0.06016516 | 0.01652872 | -3.6400367 |  2.985142e-04 |\n",
       "| type_paddingstrf_padding |  0.03981258 | 0.01652872 |  2.4086905 |  1.634008e-02 |\n",
       "| type_paddingzoom_padding | -0.05309974 | 0.01652872 | -3.2125734 |  1.393064e-03 |\n",
       "\n"
      ],
      "text/plain": [
       "                         Estimate    Std. Error t value    Pr(>|t|)     \n",
       "(Intercept)               0.43553976 0.01546120 28.1698463 1.741656e-108\n",
       "enz_type2                 0.15235663 0.01546120  9.8541241  3.405529e-21\n",
       "enz_type3                 0.10726905 0.01546120  6.9379490  1.130344e-11\n",
       "enz_type4                 0.00523993 0.01546120  0.3389082  7.348091e-01\n",
       "enz_type5                 0.16644026 0.01546120 10.7650255  1.223724e-24\n",
       "enz_type6                 0.05804601 0.01546120  3.7543005  1.924697e-04\n",
       "enz_type7                 0.02207506 0.01546120  1.4277713  1.539294e-01\n",
       "type_paddingaug_padding   0.02269191 0.01652872  1.3728774  1.703540e-01\n",
       "type_paddingext_padding   0.03393440 0.01652872  2.0530565  4.054303e-02\n",
       "type_paddingmid_padding   0.03373219 0.01652872  2.0408223  4.174890e-02\n",
       "type_paddingpre_padding   0.03285887 0.01652872  1.9879863  4.731216e-02\n",
       "type_paddingrnd_padding  -0.06016516 0.01652872 -3.6400367  2.985142e-04\n",
       "type_paddingstrf_padding  0.03981258 0.01652872  2.4086905  1.634008e-02\n",
       "type_paddingzoom_padding -0.05309974 0.01652872 -3.2125734  1.393064e-03"
      ]
     },
     "metadata": {},
     "output_type": "display_data"
    },
    {
     "data": {
      "text/html": [
       "<dl class=dl-horizontal>\n",
       "\t<dt>(Intercept)</dt>\n",
       "\t\t<dd>2.4383181579595e-107</dd>\n",
       "\t<dt>enz_type2</dt>\n",
       "\t\t<dd>1.58924680204209e-20</dd>\n",
       "\t<dt>enz_type3</dt>\n",
       "\t\t<dd>3.95620536906054e-11</dd>\n",
       "\t<dt>enz_type4</dt>\n",
       "\t\t<dd>0.734809149746282</dd>\n",
       "\t<dt>enz_type5</dt>\n",
       "\t\t<dd>8.56607126005061e-24</dd>\n",
       "\t<dt>enz_type6</dt>\n",
       "\t\t<dd>0.000538915268504743</dd>\n",
       "\t<dt>enz_type7</dt>\n",
       "\t\t<dd>0.179584294455501</dd>\n",
       "\t<dt>type_paddingaug_padding</dt>\n",
       "\t\t<dd>0.183458197425256</dd>\n",
       "\t<dt>type_paddingext_padding</dt>\n",
       "\t\t<dd>0.05844846106653</dd>\n",
       "\t<dt>type_paddingmid_padding</dt>\n",
       "\t\t<dd>0.05844846106653</dd>\n",
       "\t<dt>type_paddingpre_padding</dt>\n",
       "\t\t<dd>0.0602154738976378</dd>\n",
       "\t<dt>type_paddingrnd_padding</dt>\n",
       "\t\t<dd>0.000696533024877474</dd>\n",
       "\t<dt>type_paddingstrf_padding</dt>\n",
       "\t\t<dd>0.0285951343503794</dd>\n",
       "\t<dt>type_paddingzoom_padding</dt>\n",
       "\t\t<dd>0.00278612880370175</dd>\n",
       "</dl>\n"
      ],
      "text/latex": [
       "\\begin{description*}\n",
       "\\item[(Intercept)] 2.4383181579595e-107\n",
       "\\item[enz\\textbackslash{}\\_type2] 1.58924680204209e-20\n",
       "\\item[enz\\textbackslash{}\\_type3] 3.95620536906054e-11\n",
       "\\item[enz\\textbackslash{}\\_type4] 0.734809149746282\n",
       "\\item[enz\\textbackslash{}\\_type5] 8.56607126005061e-24\n",
       "\\item[enz\\textbackslash{}\\_type6] 0.000538915268504743\n",
       "\\item[enz\\textbackslash{}\\_type7] 0.179584294455501\n",
       "\\item[type\\textbackslash{}\\_paddingaug\\textbackslash{}\\_padding] 0.183458197425256\n",
       "\\item[type\\textbackslash{}\\_paddingext\\textbackslash{}\\_padding] 0.05844846106653\n",
       "\\item[type\\textbackslash{}\\_paddingmid\\textbackslash{}\\_padding] 0.05844846106653\n",
       "\\item[type\\textbackslash{}\\_paddingpre\\textbackslash{}\\_padding] 0.0602154738976378\n",
       "\\item[type\\textbackslash{}\\_paddingrnd\\textbackslash{}\\_padding] 0.000696533024877474\n",
       "\\item[type\\textbackslash{}\\_paddingstrf\\textbackslash{}\\_padding] 0.0285951343503794\n",
       "\\item[type\\textbackslash{}\\_paddingzoom\\textbackslash{}\\_padding] 0.00278612880370175\n",
       "\\end{description*}\n"
      ],
      "text/markdown": [
       "(Intercept)\n",
       ":   2.4383181579595e-107enz_type2\n",
       ":   1.58924680204209e-20enz_type3\n",
       ":   3.95620536906054e-11enz_type4\n",
       ":   0.734809149746282enz_type5\n",
       ":   8.56607126005061e-24enz_type6\n",
       ":   0.000538915268504743enz_type7\n",
       ":   0.179584294455501type_paddingaug_padding\n",
       ":   0.183458197425256type_paddingext_padding\n",
       ":   0.05844846106653type_paddingmid_padding\n",
       ":   0.05844846106653type_paddingpre_padding\n",
       ":   0.0602154738976378type_paddingrnd_padding\n",
       ":   0.000696533024877474type_paddingstrf_padding\n",
       ":   0.0285951343503794type_paddingzoom_padding\n",
       ":   0.00278612880370175\n",
       "\n"
      ],
      "text/plain": [
       "             (Intercept)                enz_type2                enz_type3 \n",
       "           2.438318e-107             1.589247e-20             3.956205e-11 \n",
       "               enz_type4                enz_type5                enz_type6 \n",
       "            7.348091e-01             8.566071e-24             5.389153e-04 \n",
       "               enz_type7  type_paddingaug_padding  type_paddingext_padding \n",
       "            1.795843e-01             1.834582e-01             5.844846e-02 \n",
       " type_paddingmid_padding  type_paddingpre_padding  type_paddingrnd_padding \n",
       "            5.844846e-02             6.021547e-02             6.965330e-04 \n",
       "type_paddingstrf_padding type_paddingzoom_padding \n",
       "            2.859513e-02             2.786129e-03 "
      ]
     },
     "metadata": {},
     "output_type": "display_data"
    }
   ],
   "source": [
    "sm <- summary(lm_f1_task2_additive_soa3)\n",
    "sm$coefficients\n",
    "p.adjust(sm$coefficients[,4], method = \"fdr\")"
   ]
  },
  {
   "cell_type": "code",
   "execution_count": 186,
   "metadata": {},
   "outputs": [
    {
     "data": {
      "text/plain": [
       "\n",
       "Call:\n",
       "lm(formula = f1_score ~ architecture + enz_type + type_padding + \n",
       "    type_padding:architecture, data = subset(scores_task2_dcasted, \n",
       "    type_padding %in% soa_pad))\n",
       "\n",
       "Residuals:\n",
       "     Min       1Q   Median       3Q      Max \n",
       "-0.51926 -0.05773 -0.00332  0.04109  0.38064 \n",
       "\n",
       "Coefficients:\n",
       "                                                Estimate Std. Error t value\n",
       "(Intercept)                                      0.42715    0.01598  26.736\n",
       "architecture1_conv                               0.04128    0.01708   2.417\n",
       "architecturebi_lstm                             -0.39870    0.01708 -23.343\n",
       "architecturestack_conv                           0.04503    0.01708   2.636\n",
       "enz_type2                                        0.25161    0.01598  15.749\n",
       "enz_type3                                        0.09749    0.01598   6.102\n",
       "enz_type4                                       -0.01585    0.01598  -0.992\n",
       "enz_type5                                        0.10563    0.01598   6.612\n",
       "enz_type6                                        0.03917    0.01598   2.451\n",
       "enz_type7                                        0.09211    0.01598   5.765\n",
       "type_paddingstrf_padding                         0.03981    0.01708   2.331\n",
       "architecture1_conv:type_paddingstrf_padding     -0.03946    0.02415  -1.634\n",
       "architecturebi_lstm:type_paddingstrf_padding    -0.07395    0.02415  -3.062\n",
       "architecturestack_conv:type_paddingstrf_padding -0.04657    0.02415  -1.928\n",
       "                                                Pr(>|t|)    \n",
       "(Intercept)                                      < 2e-16 ***\n",
       "architecture1_conv                               0.01598 *  \n",
       "architecturebi_lstm                              < 2e-16 ***\n",
       "architecturestack_conv                           0.00862 ** \n",
       "enz_type2                                        < 2e-16 ***\n",
       "enz_type3                                       1.99e-09 ***\n",
       "enz_type4                                        0.32175    \n",
       "enz_type5                                       9.07e-11 ***\n",
       "enz_type6                                        0.01454 *  \n",
       "enz_type7                                       1.36e-08 ***\n",
       "type_paddingstrf_padding                         0.02012 *  \n",
       "architecture1_conv:type_paddingstrf_padding      0.10294    \n",
       "architecturebi_lstm:type_paddingstrf_padding     0.00231 ** \n",
       "architecturestack_conv:type_paddingstrf_padding  0.05436 .  \n",
       "---\n",
       "Signif. codes:  0 ‘***’ 0.001 ‘**’ 0.01 ‘*’ 0.05 ‘.’ 0.1 ‘ ’ 1\n",
       "\n",
       "Residual standard error: 0.101 on 546 degrees of freedom\n",
       "Multiple R-squared:  0.8191,\tAdjusted R-squared:  0.8148 \n",
       "F-statistic: 190.1 on 13 and 546 DF,  p-value: < 2.2e-16\n"
      ]
     },
     "metadata": {},
     "output_type": "display_data"
    }
   ],
   "source": [
    "soa_pad <- c(\"post_padding\", \"strf_padding\")\n",
    "lm_f1_task2_soa4 <- lm(f1_score~architecture+enz_type+type_padding+type_padding:architecture, \n",
    "                               data=subset(scores_task2_dcasted, type_padding %in% soa_pad))\n",
    "summary(lm_f1_task2_soa4)"
   ]
  },
  {
   "cell_type": "code",
   "execution_count": 220,
   "metadata": {},
   "outputs": [
    {
     "data": {
      "text/html": [
       "<table>\n",
       "<caption>A matrix: 14 x 4 of type dbl</caption>\n",
       "<thead>\n",
       "\t<tr><th></th><th scope=col>Estimate</th><th scope=col>Std. Error</th><th scope=col>t value</th><th scope=col>Pr(&gt;|t|)</th></tr>\n",
       "</thead>\n",
       "<tbody>\n",
       "\t<tr><th scope=row>(Intercept)</th><td> 0.42714847</td><td>0.01597669</td><td> 26.7357282</td><td>2.710379e-101</td></tr>\n",
       "\t<tr><th scope=row>architecture1_conv</th><td> 0.04128025</td><td>0.01707980</td><td>  2.4169046</td><td> 1.597987e-02</td></tr>\n",
       "\t<tr><th scope=row>architecturebi_lstm</th><td>-0.39869932</td><td>0.01707980</td><td>-23.3433233</td><td> 4.170817e-84</td></tr>\n",
       "\t<tr><th scope=row>architecturestack_conv</th><td> 0.04503029</td><td>0.01707980</td><td>  2.6364642</td><td> 8.615936e-03</td></tr>\n",
       "\t<tr><th scope=row>enz_type2</th><td> 0.25161494</td><td>0.01597669</td><td> 15.7488769</td><td> 2.413403e-46</td></tr>\n",
       "\t<tr><th scope=row>enz_type3</th><td> 0.09748874</td><td>0.01597669</td><td>  6.1019357</td><td> 1.987196e-09</td></tr>\n",
       "\t<tr><th scope=row>enz_type4</th><td>-0.01584517</td><td>0.01597669</td><td> -0.9917679</td><td> 3.217501e-01</td></tr>\n",
       "\t<tr><th scope=row>enz_type5</th><td> 0.10563108</td><td>0.01597669</td><td>  6.6115744</td><td> 9.067041e-11</td></tr>\n",
       "\t<tr><th scope=row>enz_type6</th><td> 0.03916583</td><td>0.01597669</td><td>  2.4514354</td><td> 1.454107e-02</td></tr>\n",
       "\t<tr><th scope=row>enz_type7</th><td> 0.09211050</td><td>0.01597669</td><td>  5.7653050</td><td> 1.364747e-08</td></tr>\n",
       "\t<tr><th scope=row>type_paddingstrf_padding</th><td> 0.03981258</td><td>0.01707980</td><td>  2.3309743</td><td> 2.011784e-02</td></tr>\n",
       "\t<tr><th scope=row>architecture1_conv:type_paddingstrf_padding</th><td>-0.03945690</td><td>0.02415449</td><td> -1.6335224</td><td> 1.029356e-01</td></tr>\n",
       "\t<tr><th scope=row>architecturebi_lstm:type_paddingstrf_padding</th><td>-0.07395245</td><td>0.02415449</td><td> -3.0616443</td><td> 2.309601e-03</td></tr>\n",
       "\t<tr><th scope=row>architecturestack_conv:type_paddingstrf_padding</th><td>-0.04657252</td><td>0.02415449</td><td> -1.9281106</td><td> 5.435960e-02</td></tr>\n",
       "</tbody>\n",
       "</table>\n"
      ],
      "text/latex": [
       "A matrix: 14 x 4 of type dbl\n",
       "\\begin{tabular}{r|llll}\n",
       "  & Estimate & Std. Error & t value & Pr(>\\textbar{}t\\textbar{})\\\\\n",
       "\\hline\n",
       "\t(Intercept) &  0.42714847 & 0.01597669 &  26.7357282 & 2.710379e-101\\\\\n",
       "\tarchitecture1\\_conv &  0.04128025 & 0.01707980 &   2.4169046 &  1.597987e-02\\\\\n",
       "\tarchitecturebi\\_lstm & -0.39869932 & 0.01707980 & -23.3433233 &  4.170817e-84\\\\\n",
       "\tarchitecturestack\\_conv &  0.04503029 & 0.01707980 &   2.6364642 &  8.615936e-03\\\\\n",
       "\tenz\\_type2 &  0.25161494 & 0.01597669 &  15.7488769 &  2.413403e-46\\\\\n",
       "\tenz\\_type3 &  0.09748874 & 0.01597669 &   6.1019357 &  1.987196e-09\\\\\n",
       "\tenz\\_type4 & -0.01584517 & 0.01597669 &  -0.9917679 &  3.217501e-01\\\\\n",
       "\tenz\\_type5 &  0.10563108 & 0.01597669 &   6.6115744 &  9.067041e-11\\\\\n",
       "\tenz\\_type6 &  0.03916583 & 0.01597669 &   2.4514354 &  1.454107e-02\\\\\n",
       "\tenz\\_type7 &  0.09211050 & 0.01597669 &   5.7653050 &  1.364747e-08\\\\\n",
       "\ttype\\_paddingstrf\\_padding &  0.03981258 & 0.01707980 &   2.3309743 &  2.011784e-02\\\\\n",
       "\tarchitecture1\\_conv:type\\_paddingstrf\\_padding & -0.03945690 & 0.02415449 &  -1.6335224 &  1.029356e-01\\\\\n",
       "\tarchitecturebi\\_lstm:type\\_paddingstrf\\_padding & -0.07395245 & 0.02415449 &  -3.0616443 &  2.309601e-03\\\\\n",
       "\tarchitecturestack\\_conv:type\\_paddingstrf\\_padding & -0.04657252 & 0.02415449 &  -1.9281106 &  5.435960e-02\\\\\n",
       "\\end{tabular}\n"
      ],
      "text/markdown": [
       "\n",
       "A matrix: 14 x 4 of type dbl\n",
       "\n",
       "| <!--/--> | Estimate | Std. Error | t value | Pr(&gt;|t|) |\n",
       "|---|---|---|---|---|\n",
       "| (Intercept) |  0.42714847 | 0.01597669 |  26.7357282 | 2.710379e-101 |\n",
       "| architecture1_conv |  0.04128025 | 0.01707980 |   2.4169046 |  1.597987e-02 |\n",
       "| architecturebi_lstm | -0.39869932 | 0.01707980 | -23.3433233 |  4.170817e-84 |\n",
       "| architecturestack_conv |  0.04503029 | 0.01707980 |   2.6364642 |  8.615936e-03 |\n",
       "| enz_type2 |  0.25161494 | 0.01597669 |  15.7488769 |  2.413403e-46 |\n",
       "| enz_type3 |  0.09748874 | 0.01597669 |   6.1019357 |  1.987196e-09 |\n",
       "| enz_type4 | -0.01584517 | 0.01597669 |  -0.9917679 |  3.217501e-01 |\n",
       "| enz_type5 |  0.10563108 | 0.01597669 |   6.6115744 |  9.067041e-11 |\n",
       "| enz_type6 |  0.03916583 | 0.01597669 |   2.4514354 |  1.454107e-02 |\n",
       "| enz_type7 |  0.09211050 | 0.01597669 |   5.7653050 |  1.364747e-08 |\n",
       "| type_paddingstrf_padding |  0.03981258 | 0.01707980 |   2.3309743 |  2.011784e-02 |\n",
       "| architecture1_conv:type_paddingstrf_padding | -0.03945690 | 0.02415449 |  -1.6335224 |  1.029356e-01 |\n",
       "| architecturebi_lstm:type_paddingstrf_padding | -0.07395245 | 0.02415449 |  -3.0616443 |  2.309601e-03 |\n",
       "| architecturestack_conv:type_paddingstrf_padding | -0.04657252 | 0.02415449 |  -1.9281106 |  5.435960e-02 |\n",
       "\n"
      ],
      "text/plain": [
       "                                                Estimate    Std. Error\n",
       "(Intercept)                                      0.42714847 0.01597669\n",
       "architecture1_conv                               0.04128025 0.01707980\n",
       "architecturebi_lstm                             -0.39869932 0.01707980\n",
       "architecturestack_conv                           0.04503029 0.01707980\n",
       "enz_type2                                        0.25161494 0.01597669\n",
       "enz_type3                                        0.09748874 0.01597669\n",
       "enz_type4                                       -0.01584517 0.01597669\n",
       "enz_type5                                        0.10563108 0.01597669\n",
       "enz_type6                                        0.03916583 0.01597669\n",
       "enz_type7                                        0.09211050 0.01597669\n",
       "type_paddingstrf_padding                         0.03981258 0.01707980\n",
       "architecture1_conv:type_paddingstrf_padding     -0.03945690 0.02415449\n",
       "architecturebi_lstm:type_paddingstrf_padding    -0.07395245 0.02415449\n",
       "architecturestack_conv:type_paddingstrf_padding -0.04657252 0.02415449\n",
       "                                                t value     Pr(>|t|)     \n",
       "(Intercept)                                      26.7357282 2.710379e-101\n",
       "architecture1_conv                                2.4169046  1.597987e-02\n",
       "architecturebi_lstm                             -23.3433233  4.170817e-84\n",
       "architecturestack_conv                            2.6364642  8.615936e-03\n",
       "enz_type2                                        15.7488769  2.413403e-46\n",
       "enz_type3                                         6.1019357  1.987196e-09\n",
       "enz_type4                                        -0.9917679  3.217501e-01\n",
       "enz_type5                                         6.6115744  9.067041e-11\n",
       "enz_type6                                         2.4514354  1.454107e-02\n",
       "enz_type7                                         5.7653050  1.364747e-08\n",
       "type_paddingstrf_padding                          2.3309743  2.011784e-02\n",
       "architecture1_conv:type_paddingstrf_padding      -1.6335224  1.029356e-01\n",
       "architecturebi_lstm:type_paddingstrf_padding     -3.0616443  2.309601e-03\n",
       "architecturestack_conv:type_paddingstrf_padding  -1.9281106  5.435960e-02"
      ]
     },
     "metadata": {},
     "output_type": "display_data"
    },
    {
     "data": {
      "text/html": [
       "<dl class=dl-horizontal>\n",
       "\t<dt>(Intercept)</dt>\n",
       "\t\t<dd>3.79453097413607e-100</dd>\n",
       "\t<dt>architecture1_conv</dt>\n",
       "\t\t<dd>0.0223718170075844</dd>\n",
       "\t<dt>architecturebi_lstm</dt>\n",
       "\t\t<dd>2.91957155581587e-83</dd>\n",
       "\t<dt>architecturestack_conv</dt>\n",
       "\t\t<dd>0.0150778883079564</dd>\n",
       "\t<dt>enz_type2</dt>\n",
       "\t\t<dd>1.12625474762537e-45</dd>\n",
       "\t<dt>enz_type3</dt>\n",
       "\t\t<dd>5.56414743168874e-09</dd>\n",
       "\t<dt>enz_type4</dt>\n",
       "\t\t<dd>0.321750067200949</dd>\n",
       "\t<dt>enz_type5</dt>\n",
       "\t\t<dd>3.17346447205116e-10</dd>\n",
       "\t<dt>enz_type6</dt>\n",
       "\t\t<dd>0.0223718170075844</dd>\n",
       "\t<dt>enz_type7</dt>\n",
       "\t\t<dd>3.1844102779593e-08</dd>\n",
       "\t<dt>type_paddingstrf_padding</dt>\n",
       "\t\t<dd>0.0256045282268576</dd>\n",
       "\t<dt>architecture1_conv:type_paddingstrf_padding</dt>\n",
       "\t\t<dd>0.110853757995581</dd>\n",
       "\t<dt>architecturebi_lstm:type_paddingstrf_padding</dt>\n",
       "\t\t<dd>0.00461920177716613</dd>\n",
       "\t<dt>architecturestack_conv:type_paddingstrf_padding</dt>\n",
       "\t\t<dd>0.0634195311011406</dd>\n",
       "</dl>\n"
      ],
      "text/latex": [
       "\\begin{description*}\n",
       "\\item[(Intercept)] 3.79453097413607e-100\n",
       "\\item[architecture1\\textbackslash{}\\_conv] 0.0223718170075844\n",
       "\\item[architecturebi\\textbackslash{}\\_lstm] 2.91957155581587e-83\n",
       "\\item[architecturestack\\textbackslash{}\\_conv] 0.0150778883079564\n",
       "\\item[enz\\textbackslash{}\\_type2] 1.12625474762537e-45\n",
       "\\item[enz\\textbackslash{}\\_type3] 5.56414743168874e-09\n",
       "\\item[enz\\textbackslash{}\\_type4] 0.321750067200949\n",
       "\\item[enz\\textbackslash{}\\_type5] 3.17346447205116e-10\n",
       "\\item[enz\\textbackslash{}\\_type6] 0.0223718170075844\n",
       "\\item[enz\\textbackslash{}\\_type7] 3.1844102779593e-08\n",
       "\\item[type\\textbackslash{}\\_paddingstrf\\textbackslash{}\\_padding] 0.0256045282268576\n",
       "\\item[architecture1\\textbackslash{}\\_conv:type\\textbackslash{}\\_paddingstrf\\textbackslash{}\\_padding] 0.110853757995581\n",
       "\\item[architecturebi\\textbackslash{}\\_lstm:type\\textbackslash{}\\_paddingstrf\\textbackslash{}\\_padding] 0.00461920177716613\n",
       "\\item[architecturestack\\textbackslash{}\\_conv:type\\textbackslash{}\\_paddingstrf\\textbackslash{}\\_padding] 0.0634195311011406\n",
       "\\end{description*}\n"
      ],
      "text/markdown": [
       "(Intercept)\n",
       ":   3.79453097413607e-100architecture1_conv\n",
       ":   0.0223718170075844architecturebi_lstm\n",
       ":   2.91957155581587e-83architecturestack_conv\n",
       ":   0.0150778883079564enz_type2\n",
       ":   1.12625474762537e-45enz_type3\n",
       ":   5.56414743168874e-09enz_type4\n",
       ":   0.321750067200949enz_type5\n",
       ":   3.17346447205116e-10enz_type6\n",
       ":   0.0223718170075844enz_type7\n",
       ":   3.1844102779593e-08type_paddingstrf_padding\n",
       ":   0.0256045282268576architecture1_conv:type_paddingstrf_padding\n",
       ":   0.110853757995581architecturebi_lstm:type_paddingstrf_padding\n",
       ":   0.00461920177716613architecturestack_conv:type_paddingstrf_padding\n",
       ":   0.0634195311011406\n",
       "\n"
      ],
      "text/plain": [
       "                                    (Intercept) \n",
       "                                  3.794531e-100 \n",
       "                             architecture1_conv \n",
       "                                   2.237182e-02 \n",
       "                            architecturebi_lstm \n",
       "                                   2.919572e-83 \n",
       "                         architecturestack_conv \n",
       "                                   1.507789e-02 \n",
       "                                      enz_type2 \n",
       "                                   1.126255e-45 \n",
       "                                      enz_type3 \n",
       "                                   5.564147e-09 \n",
       "                                      enz_type4 \n",
       "                                   3.217501e-01 \n",
       "                                      enz_type5 \n",
       "                                   3.173464e-10 \n",
       "                                      enz_type6 \n",
       "                                   2.237182e-02 \n",
       "                                      enz_type7 \n",
       "                                   3.184410e-08 \n",
       "                       type_paddingstrf_padding \n",
       "                                   2.560453e-02 \n",
       "    architecture1_conv:type_paddingstrf_padding \n",
       "                                   1.108538e-01 \n",
       "   architecturebi_lstm:type_paddingstrf_padding \n",
       "                                   4.619202e-03 \n",
       "architecturestack_conv:type_paddingstrf_padding \n",
       "                                   6.341953e-02 "
      ]
     },
     "metadata": {},
     "output_type": "display_data"
    }
   ],
   "source": [
    "sm <- summary(lm_f1_task2_soa4)\n",
    "sm$coefficients\n",
    "p.adjust(sm$coefficients[,4], method = \"fdr\")"
   ]
  },
  {
   "cell_type": "code",
   "execution_count": 193,
   "metadata": {},
   "outputs": [
    {
     "data": {
      "text/plain": [
       "\n",
       "Call:\n",
       "lm(formula = f1_score ~ architecture + enz_type + type_padding + \n",
       "    type_padding:architecture, data = subset(scores_task2_dcasted_aug, \n",
       "    type_padding %in% soa_pad))\n",
       "\n",
       "Residuals:\n",
       "     Min       1Q   Median       3Q      Max \n",
       "-0.51669 -0.05483 -0.00686  0.03844  0.38321 \n",
       "\n",
       "Coefficients:\n",
       "                                                 Estimate Std. Error t value\n",
       "(Intercept)                                      0.450800   0.014164  31.827\n",
       "architecture1_conv                               0.004791   0.016355   0.293\n",
       "architecturebi_lstm                             -0.442202   0.016355 -27.037\n",
       "architecturestack_conv                          -0.027212   0.016355  -1.664\n",
       "enz_type2                                        0.252614   0.012492  20.223\n",
       "enz_type3                                        0.087289   0.012492   6.988\n",
       "enz_type4                                       -0.001736   0.012492  -0.139\n",
       "enz_type5                                        0.111277   0.012492   8.908\n",
       "enz_type6                                        0.025423   0.012492   2.035\n",
       "enz_type7                                        0.088583   0.012492   7.091\n",
       "type_paddingpost_padding                        -0.022692   0.016355  -1.387\n",
       "type_paddingstrf_padding                         0.017121   0.016355   1.047\n",
       "architecture1_conv:type_paddingpost_padding      0.036490   0.023130   1.578\n",
       "architecturebi_lstm:type_paddingpost_padding     0.043502   0.023130   1.881\n",
       "architecturestack_conv:type_paddingpost_padding  0.072243   0.023130   3.123\n",
       "architecture1_conv:type_paddingstrf_padding     -0.002967   0.023130  -0.128\n",
       "architecturebi_lstm:type_paddingstrf_padding    -0.030450   0.023130  -1.316\n",
       "architecturestack_conv:type_paddingstrf_padding  0.025670   0.023130   1.110\n",
       "                                                Pr(>|t|)    \n",
       "(Intercept)                                      < 2e-16 ***\n",
       "architecture1_conv                               0.76966    \n",
       "architecturebi_lstm                              < 2e-16 ***\n",
       "architecturestack_conv                           0.09653 .  \n",
       "enz_type2                                        < 2e-16 ***\n",
       "enz_type3                                       5.77e-12 ***\n",
       "enz_type4                                        0.88952    \n",
       "enz_type5                                        < 2e-16 ***\n",
       "enz_type6                                        0.04215 *  \n",
       "enz_type7                                       2.86e-12 ***\n",
       "type_paddingpost_padding                         0.16569    \n",
       "type_paddingstrf_padding                         0.29551    \n",
       "architecture1_conv:type_paddingpost_padding      0.11505    \n",
       "architecturebi_lstm:type_paddingpost_padding     0.06036 .  \n",
       "architecturestack_conv:type_paddingpost_padding  0.00185 ** \n",
       "architecture1_conv:type_paddingstrf_padding      0.89795    \n",
       "architecturebi_lstm:type_paddingstrf_padding     0.18838    \n",
       "architecturestack_conv:type_paddingstrf_padding  0.26740    \n",
       "---\n",
       "Signif. codes:  0 ‘***’ 0.001 ‘**’ 0.01 ‘*’ 0.05 ‘.’ 0.1 ‘ ’ 1\n",
       "\n",
       "Residual standard error: 0.09676 on 822 degrees of freedom\n",
       "Multiple R-squared:  0.828,\tAdjusted R-squared:  0.8245 \n",
       "F-statistic: 232.8 on 17 and 822 DF,  p-value: < 2.2e-16\n"
      ]
     },
     "metadata": {},
     "output_type": "display_data"
    }
   ],
   "source": [
    "soa_pad <- c(\"post_padding\", \"strf_padding\", \"aug_padding\")\n",
    "scores_task2_dcasted_aug <- scores_task2_dcasted\n",
    "scores_task2_dcasted_aug$type_padding <- relevel(scores_task2_dcasted_aug$type_padding, \"aug_padding\")\n",
    "lm_f1_task2_soa5 <- lm(f1_score~architecture+enz_type+type_padding+type_padding:architecture, \n",
    "                               data=subset(scores_task2_dcasted_aug, type_padding %in% soa_pad))\n",
    "summary(lm_f1_task2_soa5)"
   ]
  },
  {
   "cell_type": "code",
   "execution_count": 222,
   "metadata": {},
   "outputs": [
    {
     "data": {
      "text/html": [
       "<table>\n",
       "<caption>A matrix: 18 x 4 of type dbl</caption>\n",
       "<thead>\n",
       "\t<tr><th></th><th scope=col>Estimate</th><th scope=col>Std. Error</th><th scope=col>t value</th><th scope=col>Pr(&gt;|t|)</th></tr>\n",
       "</thead>\n",
       "<tbody>\n",
       "\t<tr><th scope=row>(Intercept)</th><td> 0.450799865</td><td>0.01416422</td><td> 31.8266548</td><td>1.726186e-145</td></tr>\n",
       "\t<tr><th scope=row>architecture1_conv</th><td> 0.004790672</td><td>0.01635544</td><td>  0.2929101</td><td> 7.696648e-01</td></tr>\n",
       "\t<tr><th scope=row>architecturebi_lstm</th><td>-0.442201638</td><td>0.01635544</td><td>-27.0369810</td><td>1.118016e-115</td></tr>\n",
       "\t<tr><th scope=row>architecturestack_conv</th><td>-0.027212264</td><td>0.01635544</td><td> -1.6638054</td><td> 9.653248e-02</td></tr>\n",
       "\t<tr><th scope=row>enz_type2</th><td> 0.252613582</td><td>0.01249167</td><td> 20.2225607</td><td> 4.034840e-74</td></tr>\n",
       "\t<tr><th scope=row>enz_type3</th><td> 0.087289177</td><td>0.01249167</td><td>  6.9877901</td><td> 5.772940e-12</td></tr>\n",
       "\t<tr><th scope=row>enz_type4</th><td>-0.001735849</td><td>0.01249167</td><td> -0.1389605</td><td> 8.895154e-01</td></tr>\n",
       "\t<tr><th scope=row>enz_type5</th><td> 0.111276659</td><td>0.01249167</td><td>  8.9080681</td><td> 3.289375e-18</td></tr>\n",
       "\t<tr><th scope=row>enz_type6</th><td> 0.025423426</td><td>0.01249167</td><td>  2.0352301</td><td> 4.214806e-02</td></tr>\n",
       "\t<tr><th scope=row>enz_type7</th><td> 0.088582561</td><td>0.01249167</td><td>  7.0913298</td><td> 2.864575e-12</td></tr>\n",
       "\t<tr><th scope=row>type_paddingpost_padding</th><td>-0.022691911</td><td>0.01635544</td><td> -1.3874231</td><td> 1.656888e-01</td></tr>\n",
       "\t<tr><th scope=row>type_paddingstrf_padding</th><td> 0.017120668</td><td>0.01635544</td><td>  1.0467876</td><td> 2.955053e-01</td></tr>\n",
       "\t<tr><th scope=row>architecture1_conv:type_paddingpost_padding</th><td> 0.036489579</td><td>0.02313008</td><td>  1.5775811</td><td> 1.150466e-01</td></tr>\n",
       "\t<tr><th scope=row>architecturebi_lstm:type_paddingpost_padding</th><td> 0.043502314</td><td>0.02313008</td><td>  1.8807679</td><td> 6.035680e-02</td></tr>\n",
       "\t<tr><th scope=row>architecturestack_conv:type_paddingpost_padding</th><td> 0.072242549</td><td>0.02313008</td><td>  3.1233159</td><td> 1.850941e-03</td></tr>\n",
       "\t<tr><th scope=row>architecture1_conv:type_paddingstrf_padding</th><td>-0.002967317</td><td>0.02313008</td><td> -0.1282882</td><td> 8.979523e-01</td></tr>\n",
       "\t<tr><th scope=row>architecturebi_lstm:type_paddingstrf_padding</th><td>-0.030450134</td><td>0.02313008</td><td> -1.3164733</td><td> 1.883822e-01</td></tr>\n",
       "\t<tr><th scope=row>architecturestack_conv:type_paddingstrf_padding</th><td> 0.025670027</td><td>0.02313008</td><td>  1.1098114</td><td> 2.674049e-01</td></tr>\n",
       "</tbody>\n",
       "</table>\n"
      ],
      "text/latex": [
       "A matrix: 18 x 4 of type dbl\n",
       "\\begin{tabular}{r|llll}\n",
       "  & Estimate & Std. Error & t value & Pr(>\\textbar{}t\\textbar{})\\\\\n",
       "\\hline\n",
       "\t(Intercept) &  0.450799865 & 0.01416422 &  31.8266548 & 1.726186e-145\\\\\n",
       "\tarchitecture1\\_conv &  0.004790672 & 0.01635544 &   0.2929101 &  7.696648e-01\\\\\n",
       "\tarchitecturebi\\_lstm & -0.442201638 & 0.01635544 & -27.0369810 & 1.118016e-115\\\\\n",
       "\tarchitecturestack\\_conv & -0.027212264 & 0.01635544 &  -1.6638054 &  9.653248e-02\\\\\n",
       "\tenz\\_type2 &  0.252613582 & 0.01249167 &  20.2225607 &  4.034840e-74\\\\\n",
       "\tenz\\_type3 &  0.087289177 & 0.01249167 &   6.9877901 &  5.772940e-12\\\\\n",
       "\tenz\\_type4 & -0.001735849 & 0.01249167 &  -0.1389605 &  8.895154e-01\\\\\n",
       "\tenz\\_type5 &  0.111276659 & 0.01249167 &   8.9080681 &  3.289375e-18\\\\\n",
       "\tenz\\_type6 &  0.025423426 & 0.01249167 &   2.0352301 &  4.214806e-02\\\\\n",
       "\tenz\\_type7 &  0.088582561 & 0.01249167 &   7.0913298 &  2.864575e-12\\\\\n",
       "\ttype\\_paddingpost\\_padding & -0.022691911 & 0.01635544 &  -1.3874231 &  1.656888e-01\\\\\n",
       "\ttype\\_paddingstrf\\_padding &  0.017120668 & 0.01635544 &   1.0467876 &  2.955053e-01\\\\\n",
       "\tarchitecture1\\_conv:type\\_paddingpost\\_padding &  0.036489579 & 0.02313008 &   1.5775811 &  1.150466e-01\\\\\n",
       "\tarchitecturebi\\_lstm:type\\_paddingpost\\_padding &  0.043502314 & 0.02313008 &   1.8807679 &  6.035680e-02\\\\\n",
       "\tarchitecturestack\\_conv:type\\_paddingpost\\_padding &  0.072242549 & 0.02313008 &   3.1233159 &  1.850941e-03\\\\\n",
       "\tarchitecture1\\_conv:type\\_paddingstrf\\_padding & -0.002967317 & 0.02313008 &  -0.1282882 &  8.979523e-01\\\\\n",
       "\tarchitecturebi\\_lstm:type\\_paddingstrf\\_padding & -0.030450134 & 0.02313008 &  -1.3164733 &  1.883822e-01\\\\\n",
       "\tarchitecturestack\\_conv:type\\_paddingstrf\\_padding &  0.025670027 & 0.02313008 &   1.1098114 &  2.674049e-01\\\\\n",
       "\\end{tabular}\n"
      ],
      "text/markdown": [
       "\n",
       "A matrix: 18 x 4 of type dbl\n",
       "\n",
       "| <!--/--> | Estimate | Std. Error | t value | Pr(&gt;|t|) |\n",
       "|---|---|---|---|---|\n",
       "| (Intercept) |  0.450799865 | 0.01416422 |  31.8266548 | 1.726186e-145 |\n",
       "| architecture1_conv |  0.004790672 | 0.01635544 |   0.2929101 |  7.696648e-01 |\n",
       "| architecturebi_lstm | -0.442201638 | 0.01635544 | -27.0369810 | 1.118016e-115 |\n",
       "| architecturestack_conv | -0.027212264 | 0.01635544 |  -1.6638054 |  9.653248e-02 |\n",
       "| enz_type2 |  0.252613582 | 0.01249167 |  20.2225607 |  4.034840e-74 |\n",
       "| enz_type3 |  0.087289177 | 0.01249167 |   6.9877901 |  5.772940e-12 |\n",
       "| enz_type4 | -0.001735849 | 0.01249167 |  -0.1389605 |  8.895154e-01 |\n",
       "| enz_type5 |  0.111276659 | 0.01249167 |   8.9080681 |  3.289375e-18 |\n",
       "| enz_type6 |  0.025423426 | 0.01249167 |   2.0352301 |  4.214806e-02 |\n",
       "| enz_type7 |  0.088582561 | 0.01249167 |   7.0913298 |  2.864575e-12 |\n",
       "| type_paddingpost_padding | -0.022691911 | 0.01635544 |  -1.3874231 |  1.656888e-01 |\n",
       "| type_paddingstrf_padding |  0.017120668 | 0.01635544 |   1.0467876 |  2.955053e-01 |\n",
       "| architecture1_conv:type_paddingpost_padding |  0.036489579 | 0.02313008 |   1.5775811 |  1.150466e-01 |\n",
       "| architecturebi_lstm:type_paddingpost_padding |  0.043502314 | 0.02313008 |   1.8807679 |  6.035680e-02 |\n",
       "| architecturestack_conv:type_paddingpost_padding |  0.072242549 | 0.02313008 |   3.1233159 |  1.850941e-03 |\n",
       "| architecture1_conv:type_paddingstrf_padding | -0.002967317 | 0.02313008 |  -0.1282882 |  8.979523e-01 |\n",
       "| architecturebi_lstm:type_paddingstrf_padding | -0.030450134 | 0.02313008 |  -1.3164733 |  1.883822e-01 |\n",
       "| architecturestack_conv:type_paddingstrf_padding |  0.025670027 | 0.02313008 |   1.1098114 |  2.674049e-01 |\n",
       "\n"
      ],
      "text/plain": [
       "                                                Estimate     Std. Error\n",
       "(Intercept)                                      0.450799865 0.01416422\n",
       "architecture1_conv                               0.004790672 0.01635544\n",
       "architecturebi_lstm                             -0.442201638 0.01635544\n",
       "architecturestack_conv                          -0.027212264 0.01635544\n",
       "enz_type2                                        0.252613582 0.01249167\n",
       "enz_type3                                        0.087289177 0.01249167\n",
       "enz_type4                                       -0.001735849 0.01249167\n",
       "enz_type5                                        0.111276659 0.01249167\n",
       "enz_type6                                        0.025423426 0.01249167\n",
       "enz_type7                                        0.088582561 0.01249167\n",
       "type_paddingpost_padding                        -0.022691911 0.01635544\n",
       "type_paddingstrf_padding                         0.017120668 0.01635544\n",
       "architecture1_conv:type_paddingpost_padding      0.036489579 0.02313008\n",
       "architecturebi_lstm:type_paddingpost_padding     0.043502314 0.02313008\n",
       "architecturestack_conv:type_paddingpost_padding  0.072242549 0.02313008\n",
       "architecture1_conv:type_paddingstrf_padding     -0.002967317 0.02313008\n",
       "architecturebi_lstm:type_paddingstrf_padding    -0.030450134 0.02313008\n",
       "architecturestack_conv:type_paddingstrf_padding  0.025670027 0.02313008\n",
       "                                                t value     Pr(>|t|)     \n",
       "(Intercept)                                      31.8266548 1.726186e-145\n",
       "architecture1_conv                                0.2929101  7.696648e-01\n",
       "architecturebi_lstm                             -27.0369810 1.118016e-115\n",
       "architecturestack_conv                           -1.6638054  9.653248e-02\n",
       "enz_type2                                        20.2225607  4.034840e-74\n",
       "enz_type3                                         6.9877901  5.772940e-12\n",
       "enz_type4                                        -0.1389605  8.895154e-01\n",
       "enz_type5                                         8.9080681  3.289375e-18\n",
       "enz_type6                                         2.0352301  4.214806e-02\n",
       "enz_type7                                         7.0913298  2.864575e-12\n",
       "type_paddingpost_padding                         -1.3874231  1.656888e-01\n",
       "type_paddingstrf_padding                          1.0467876  2.955053e-01\n",
       "architecture1_conv:type_paddingpost_padding       1.5775811  1.150466e-01\n",
       "architecturebi_lstm:type_paddingpost_padding      1.8807679  6.035680e-02\n",
       "architecturestack_conv:type_paddingpost_padding   3.1233159  1.850941e-03\n",
       "architecture1_conv:type_paddingstrf_padding      -0.1282882  8.979523e-01\n",
       "architecturebi_lstm:type_paddingstrf_padding     -1.3164733  1.883822e-01\n",
       "architecturestack_conv:type_paddingstrf_padding   1.1098114  2.674049e-01"
      ]
     },
     "metadata": {},
     "output_type": "display_data"
    },
    {
     "data": {
      "text/html": [
       "<dl class=dl-horizontal>\n",
       "\t<dt>(Intercept)</dt>\n",
       "\t\t<dd>3.10713433336911e-144</dd>\n",
       "\t<dt>architecture1_conv</dt>\n",
       "\t\t<dd>0.865872905902696</dd>\n",
       "\t<dt>architecturebi_lstm</dt>\n",
       "\t\t<dd>1.00621462309691e-114</dd>\n",
       "\t<dt>architecturestack_conv</dt>\n",
       "\t\t<dd>0.173758462008967</dd>\n",
       "\t<dt>enz_type2</dt>\n",
       "\t\t<dd>2.42090395620596e-73</dd>\n",
       "\t<dt>enz_type3</dt>\n",
       "\t\t<dd>1.73188203004187e-11</dd>\n",
       "\t<dt>enz_type4</dt>\n",
       "\t\t<dd>0.897952268334815</dd>\n",
       "\t<dt>enz_type5</dt>\n",
       "\t\t<dd>1.48021857026803e-17</dd>\n",
       "\t<dt>enz_type6</dt>\n",
       "\t\t<dd>0.094833128328062</dd>\n",
       "\t<dt>enz_type7</dt>\n",
       "\t\t<dd>1.03124712238846e-11</dd>\n",
       "\t<dt>type_paddingpost_padding</dt>\n",
       "\t\t<dd>0.248533220294681</dd>\n",
       "\t<dt>type_paddingstrf_padding</dt>\n",
       "\t\t<dd>0.354606323547709</dd>\n",
       "\t<dt>architecture1_conv:type_paddingpost_padding</dt>\n",
       "\t\t<dd>0.188258092040971</dd>\n",
       "\t<dt>architecturebi_lstm:type_paddingpost_padding</dt>\n",
       "\t\t<dd>0.120713594634301</dd>\n",
       "\t<dt>architecturestack_conv:type_paddingpost_padding</dt>\n",
       "\t\t<dd>0.00475956282364502</dd>\n",
       "\t<dt>architecture1_conv:type_paddingstrf_padding</dt>\n",
       "\t\t<dd>0.897952268334815</dd>\n",
       "\t<dt>architecturebi_lstm:type_paddingstrf_padding</dt>\n",
       "\t\t<dd>0.260836864145837</dd>\n",
       "\t<dt>architecturestack_conv:type_paddingstrf_padding</dt>\n",
       "\t\t<dd>0.343806272261495</dd>\n",
       "</dl>\n"
      ],
      "text/latex": [
       "\\begin{description*}\n",
       "\\item[(Intercept)] 3.10713433336911e-144\n",
       "\\item[architecture1\\textbackslash{}\\_conv] 0.865872905902696\n",
       "\\item[architecturebi\\textbackslash{}\\_lstm] 1.00621462309691e-114\n",
       "\\item[architecturestack\\textbackslash{}\\_conv] 0.173758462008967\n",
       "\\item[enz\\textbackslash{}\\_type2] 2.42090395620596e-73\n",
       "\\item[enz\\textbackslash{}\\_type3] 1.73188203004187e-11\n",
       "\\item[enz\\textbackslash{}\\_type4] 0.897952268334815\n",
       "\\item[enz\\textbackslash{}\\_type5] 1.48021857026803e-17\n",
       "\\item[enz\\textbackslash{}\\_type6] 0.094833128328062\n",
       "\\item[enz\\textbackslash{}\\_type7] 1.03124712238846e-11\n",
       "\\item[type\\textbackslash{}\\_paddingpost\\textbackslash{}\\_padding] 0.248533220294681\n",
       "\\item[type\\textbackslash{}\\_paddingstrf\\textbackslash{}\\_padding] 0.354606323547709\n",
       "\\item[architecture1\\textbackslash{}\\_conv:type\\textbackslash{}\\_paddingpost\\textbackslash{}\\_padding] 0.188258092040971\n",
       "\\item[architecturebi\\textbackslash{}\\_lstm:type\\textbackslash{}\\_paddingpost\\textbackslash{}\\_padding] 0.120713594634301\n",
       "\\item[architecturestack\\textbackslash{}\\_conv:type\\textbackslash{}\\_paddingpost\\textbackslash{}\\_padding] 0.00475956282364502\n",
       "\\item[architecture1\\textbackslash{}\\_conv:type\\textbackslash{}\\_paddingstrf\\textbackslash{}\\_padding] 0.897952268334815\n",
       "\\item[architecturebi\\textbackslash{}\\_lstm:type\\textbackslash{}\\_paddingstrf\\textbackslash{}\\_padding] 0.260836864145837\n",
       "\\item[architecturestack\\textbackslash{}\\_conv:type\\textbackslash{}\\_paddingstrf\\textbackslash{}\\_padding] 0.343806272261495\n",
       "\\end{description*}\n"
      ],
      "text/markdown": [
       "(Intercept)\n",
       ":   3.10713433336911e-144architecture1_conv\n",
       ":   0.865872905902696architecturebi_lstm\n",
       ":   1.00621462309691e-114architecturestack_conv\n",
       ":   0.173758462008967enz_type2\n",
       ":   2.42090395620596e-73enz_type3\n",
       ":   1.73188203004187e-11enz_type4\n",
       ":   0.897952268334815enz_type5\n",
       ":   1.48021857026803e-17enz_type6\n",
       ":   0.094833128328062enz_type7\n",
       ":   1.03124712238846e-11type_paddingpost_padding\n",
       ":   0.248533220294681type_paddingstrf_padding\n",
       ":   0.354606323547709architecture1_conv:type_paddingpost_padding\n",
       ":   0.188258092040971architecturebi_lstm:type_paddingpost_padding\n",
       ":   0.120713594634301architecturestack_conv:type_paddingpost_padding\n",
       ":   0.00475956282364502architecture1_conv:type_paddingstrf_padding\n",
       ":   0.897952268334815architecturebi_lstm:type_paddingstrf_padding\n",
       ":   0.260836864145837architecturestack_conv:type_paddingstrf_padding\n",
       ":   0.343806272261495\n",
       "\n"
      ],
      "text/plain": [
       "                                    (Intercept) \n",
       "                                  3.107134e-144 \n",
       "                             architecture1_conv \n",
       "                                   8.658729e-01 \n",
       "                            architecturebi_lstm \n",
       "                                  1.006215e-114 \n",
       "                         architecturestack_conv \n",
       "                                   1.737585e-01 \n",
       "                                      enz_type2 \n",
       "                                   2.420904e-73 \n",
       "                                      enz_type3 \n",
       "                                   1.731882e-11 \n",
       "                                      enz_type4 \n",
       "                                   8.979523e-01 \n",
       "                                      enz_type5 \n",
       "                                   1.480219e-17 \n",
       "                                      enz_type6 \n",
       "                                   9.483313e-02 \n",
       "                                      enz_type7 \n",
       "                                   1.031247e-11 \n",
       "                       type_paddingpost_padding \n",
       "                                   2.485332e-01 \n",
       "                       type_paddingstrf_padding \n",
       "                                   3.546063e-01 \n",
       "    architecture1_conv:type_paddingpost_padding \n",
       "                                   1.882581e-01 \n",
       "   architecturebi_lstm:type_paddingpost_padding \n",
       "                                   1.207136e-01 \n",
       "architecturestack_conv:type_paddingpost_padding \n",
       "                                   4.759563e-03 \n",
       "    architecture1_conv:type_paddingstrf_padding \n",
       "                                   8.979523e-01 \n",
       "   architecturebi_lstm:type_paddingstrf_padding \n",
       "                                   2.608369e-01 \n",
       "architecturestack_conv:type_paddingstrf_padding \n",
       "                                   3.438063e-01 "
      ]
     },
     "metadata": {},
     "output_type": "display_data"
    }
   ],
   "source": [
    "sm <- summary(lm_f1_task2_soa5)\n",
    "sm$coefficients\n",
    "p.adjust(sm$coefficients[,4], method = \"fdr\")"
   ]
  },
  {
   "cell_type": "markdown",
   "metadata": {},
   "source": [
    "## Accuracy"
   ]
  },
  {
   "cell_type": "code",
   "execution_count": 73,
   "metadata": {},
   "outputs": [
    {
     "data": {
      "text/html": [
       "<table>\n",
       "<caption>A data.frame: 5 x 5</caption>\n",
       "<thead>\n",
       "\t<tr><th scope=col>X</th><th scope=col>index</th><th scope=col>variable</th><th scope=col>value</th><th scope=col>architecture</th></tr>\n",
       "\t<tr><th scope=col>&lt;int&gt;</th><th scope=col>&lt;int&gt;</th><th scope=col>&lt;fct&gt;</th><th scope=col>&lt;dbl&gt;</th><th scope=col>&lt;fct&gt;</th></tr>\n",
       "</thead>\n",
       "<tbody>\n",
       "\t<tr><td>0</td><td>0</td><td>post_padding</td><td>0.5472170</td><td>1_conv</td></tr>\n",
       "\t<tr><td>1</td><td>1</td><td>post_padding</td><td>0.5284553</td><td>1_conv</td></tr>\n",
       "\t<tr><td>2</td><td>2</td><td>post_padding</td><td>0.5121951</td><td>1_conv</td></tr>\n",
       "\t<tr><td>3</td><td>3</td><td>post_padding</td><td>0.5247029</td><td>1_conv</td></tr>\n",
       "\t<tr><td>4</td><td>4</td><td>post_padding</td><td>0.5247029</td><td>1_conv</td></tr>\n",
       "</tbody>\n",
       "</table>\n"
      ],
      "text/latex": [
       "A data.frame: 5 x 5\n",
       "\\begin{tabular}{r|lllll}\n",
       " X & index & variable & value & architecture\\\\\n",
       " <int> & <int> & <fct> & <dbl> & <fct>\\\\\n",
       "\\hline\n",
       "\t 0 & 0 & post\\_padding & 0.5472170 & 1\\_conv\\\\\n",
       "\t 1 & 1 & post\\_padding & 0.5284553 & 1\\_conv\\\\\n",
       "\t 2 & 2 & post\\_padding & 0.5121951 & 1\\_conv\\\\\n",
       "\t 3 & 3 & post\\_padding & 0.5247029 & 1\\_conv\\\\\n",
       "\t 4 & 4 & post\\_padding & 0.5247029 & 1\\_conv\\\\\n",
       "\\end{tabular}\n"
      ],
      "text/markdown": [
       "\n",
       "A data.frame: 5 x 5\n",
       "\n",
       "| X &lt;int&gt; | index &lt;int&gt; | variable &lt;fct&gt; | value &lt;dbl&gt; | architecture &lt;fct&gt; |\n",
       "|---|---|---|---|---|\n",
       "| 0 | 0 | post_padding | 0.5472170 | 1_conv |\n",
       "| 1 | 1 | post_padding | 0.5284553 | 1_conv |\n",
       "| 2 | 2 | post_padding | 0.5121951 | 1_conv |\n",
       "| 3 | 3 | post_padding | 0.5247029 | 1_conv |\n",
       "| 4 | 4 | post_padding | 0.5247029 | 1_conv |\n",
       "\n"
      ],
      "text/plain": [
       "  X index variable     value     architecture\n",
       "1 0 0     post_padding 0.5472170 1_conv      \n",
       "2 1 1     post_padding 0.5284553 1_conv      \n",
       "3 2 2     post_padding 0.5121951 1_conv      \n",
       "4 3 3     post_padding 0.5247029 1_conv      \n",
       "5 4 4     post_padding 0.5247029 1_conv      "
      ]
     },
     "metadata": {},
     "output_type": "display_data"
    }
   ],
   "source": [
    "accu_task2[0:5,]"
   ]
  },
  {
   "cell_type": "code",
   "execution_count": 81,
   "metadata": {},
   "outputs": [
    {
     "data": {
      "text/html": [
       "<dl class=dl-horizontal>\n",
       "\t<dt>index</dt>\n",
       "\t\t<dd>'integer'</dd>\n",
       "\t<dt>variable</dt>\n",
       "\t\t<dd>'factor'</dd>\n",
       "\t<dt>value</dt>\n",
       "\t\t<dd>'numeric'</dd>\n",
       "\t<dt>architecture</dt>\n",
       "\t\t<dd>'factor'</dd>\n",
       "</dl>\n"
      ],
      "text/latex": [
       "\\begin{description*}\n",
       "\\item[index] 'integer'\n",
       "\\item[variable] 'factor'\n",
       "\\item[value] 'numeric'\n",
       "\\item[architecture] 'factor'\n",
       "\\end{description*}\n"
      ],
      "text/markdown": [
       "index\n",
       ":   'integer'variable\n",
       ":   'factor'value\n",
       ":   'numeric'architecture\n",
       ":   'factor'\n",
       "\n"
      ],
      "text/plain": [
       "       index     variable        value architecture \n",
       "   \"integer\"     \"factor\"    \"numeric\"     \"factor\" "
      ]
     },
     "metadata": {},
     "output_type": "display_data"
    }
   ],
   "source": [
    "#filtering \n",
    "sapply(accu_task2, class)"
   ]
  },
  {
   "cell_type": "code",
   "execution_count": 82,
   "metadata": {},
   "outputs": [
    {
     "data": {
      "text/html": [
       "<table>\n",
       "<caption>A data.frame: 5 x 4</caption>\n",
       "<thead>\n",
       "\t<tr><th scope=col>index</th><th scope=col>type_padding</th><th scope=col>accuracy</th><th scope=col>architecture</th></tr>\n",
       "\t<tr><th scope=col>&lt;int&gt;</th><th scope=col>&lt;fct&gt;</th><th scope=col>&lt;dbl&gt;</th><th scope=col>&lt;fct&gt;</th></tr>\n",
       "</thead>\n",
       "<tbody>\n",
       "\t<tr><td>0</td><td>post_padding</td><td>0.5472170</td><td>1_conv</td></tr>\n",
       "\t<tr><td>1</td><td>post_padding</td><td>0.5284553</td><td>1_conv</td></tr>\n",
       "\t<tr><td>2</td><td>post_padding</td><td>0.5121951</td><td>1_conv</td></tr>\n",
       "\t<tr><td>3</td><td>post_padding</td><td>0.5247029</td><td>1_conv</td></tr>\n",
       "\t<tr><td>4</td><td>post_padding</td><td>0.5247029</td><td>1_conv</td></tr>\n",
       "</tbody>\n",
       "</table>\n"
      ],
      "text/latex": [
       "A data.frame: 5 x 4\n",
       "\\begin{tabular}{r|llll}\n",
       " index & type\\_padding & accuracy & architecture\\\\\n",
       " <int> & <fct> & <dbl> & <fct>\\\\\n",
       "\\hline\n",
       "\t 0 & post\\_padding & 0.5472170 & 1\\_conv\\\\\n",
       "\t 1 & post\\_padding & 0.5284553 & 1\\_conv\\\\\n",
       "\t 2 & post\\_padding & 0.5121951 & 1\\_conv\\\\\n",
       "\t 3 & post\\_padding & 0.5247029 & 1\\_conv\\\\\n",
       "\t 4 & post\\_padding & 0.5247029 & 1\\_conv\\\\\n",
       "\\end{tabular}\n"
      ],
      "text/markdown": [
       "\n",
       "A data.frame: 5 x 4\n",
       "\n",
       "| index &lt;int&gt; | type_padding &lt;fct&gt; | accuracy &lt;dbl&gt; | architecture &lt;fct&gt; |\n",
       "|---|---|---|---|\n",
       "| 0 | post_padding | 0.5472170 | 1_conv |\n",
       "| 1 | post_padding | 0.5284553 | 1_conv |\n",
       "| 2 | post_padding | 0.5121951 | 1_conv |\n",
       "| 3 | post_padding | 0.5247029 | 1_conv |\n",
       "| 4 | post_padding | 0.5247029 | 1_conv |\n",
       "\n"
      ],
      "text/plain": [
       "  index type_padding accuracy  architecture\n",
       "1 0     post_padding 0.5472170 1_conv      \n",
       "2 1     post_padding 0.5284553 1_conv      \n",
       "3 2     post_padding 0.5121951 1_conv      \n",
       "4 3     post_padding 0.5247029 1_conv      \n",
       "5 4     post_padding 0.5247029 1_conv      "
      ]
     },
     "metadata": {},
     "output_type": "display_data"
    }
   ],
   "source": [
    "#cambio el nombre a las columnas\n",
    "colnames(accu_task2) <- c(\"index\", \"type_padding\", \"accuracy\", \"architecture\")\n",
    "accu_task2[0:5,]"
   ]
  },
  {
   "cell_type": "code",
   "execution_count": 91,
   "metadata": {},
   "outputs": [],
   "source": [
    "lm_accu_task2 <- lm(accuracy~architecture+type_padding+ type_padding:architecture, data=accu_task2)"
   ]
  },
  {
   "cell_type": "code",
   "execution_count": 92,
   "metadata": {},
   "outputs": [
    {
     "data": {
      "text/plain": [
       "\n",
       "Call:\n",
       "lm(formula = accuracy ~ architecture + type_padding + type_padding:architecture, \n",
       "    data = accu_task2)\n",
       "\n",
       "Residuals:\n",
       "      Min        1Q    Median        3Q       Max \n",
       "-0.058286 -0.006551  0.000000  0.008456  0.043340 \n",
       "\n",
       "Coefficients:\n",
       "                                                  Estimate Std. Error t value\n",
       "(Intercept)                                       0.547923   0.004672 117.279\n",
       "architecturebi_lstm                              -0.185580   0.006607 -28.088\n",
       "architectureonly_denses                          -0.012088   0.006607  -1.830\n",
       "architecturestack_conv                           -0.021379   0.006607  -3.236\n",
       "type_paddingext_padding                          -0.009086   0.006607  -1.375\n",
       "type_paddingmid_padding                          -0.009086   0.006607  -1.375\n",
       "type_paddingpost_padding                         -0.017716   0.006607  -2.681\n",
       "type_paddingpre_padding                          -0.015528   0.006607  -2.350\n",
       "type_paddingrnd_padding                          -0.092763   0.006607 -14.040\n",
       "type_paddingstrf_padding                          0.008112   0.006607   1.228\n",
       "type_paddingzoom_padding                          0.002234   0.006607   0.338\n",
       "architecturebi_lstm:type_paddingext_padding       0.008470   0.009344   0.906\n",
       "architectureonly_denses:type_paddingext_padding   0.017154   0.009344   1.836\n",
       "architecturestack_conv:type_paddingext_padding    0.032011   0.009344   3.426\n",
       "architecturebi_lstm:type_paddingmid_padding       0.050558   0.009344   5.411\n",
       "architectureonly_denses:type_paddingmid_padding   0.018154   0.009344   1.943\n",
       "architecturestack_conv:type_paddingmid_padding    0.051711   0.009344   5.534\n",
       "architecturebi_lstm:type_paddingpost_padding      0.031359   0.009344   3.356\n",
       "architectureonly_denses:type_paddingpost_padding  0.013589   0.009344   1.454\n",
       "architecturestack_conv:type_paddingpost_padding   0.051211   0.009344   5.481\n",
       "architecturebi_lstm:type_paddingpre_padding       0.033986   0.009344   3.637\n",
       "architectureonly_denses:type_paddingpre_padding   0.021656   0.009344   2.318\n",
       "architecturestack_conv:type_paddingpre_padding    0.033825   0.009344   3.620\n",
       "architecturebi_lstm:type_paddingrnd_padding       0.091271   0.009344   9.768\n",
       "architectureonly_denses:type_paddingrnd_padding   0.029974   0.009344   3.208\n",
       "architecturestack_conv:type_paddingrnd_padding    0.075163   0.009344   8.044\n",
       "architecturebi_lstm:type_paddingstrf_padding     -0.009604   0.009344  -1.028\n",
       "architectureonly_denses:type_paddingstrf_padding  0.012213   0.009344   1.307\n",
       "architecturestack_conv:type_paddingstrf_padding   0.030760   0.009344   3.292\n",
       "architecturebi_lstm:type_paddingzoom_padding      0.004842   0.009344   0.518\n",
       "architectureonly_denses:type_paddingzoom_padding -0.010551   0.009344  -1.129\n",
       "architecturestack_conv:type_paddingzoom_padding   0.001930   0.009344   0.207\n",
       "                                                 Pr(>|t|)    \n",
       "(Intercept)                                       < 2e-16 ***\n",
       "architecturebi_lstm                               < 2e-16 ***\n",
       "architectureonly_denses                          0.068354 .  \n",
       "architecturestack_conv                           0.001354 ** \n",
       "type_paddingext_padding                          0.170142    \n",
       "type_paddingmid_padding                          0.170142    \n",
       "type_paddingpost_padding                         0.007754 ** \n",
       "type_paddingpre_padding                          0.019442 *  \n",
       "type_paddingrnd_padding                           < 2e-16 ***\n",
       "type_paddingstrf_padding                         0.220525    \n",
       "type_paddingzoom_padding                         0.735572    \n",
       "architecturebi_lstm:type_paddingext_padding      0.365466    \n",
       "architectureonly_denses:type_paddingext_padding  0.067417 .  \n",
       "architecturestack_conv:type_paddingext_padding   0.000702 ***\n",
       "architecturebi_lstm:type_paddingmid_padding      1.32e-07 ***\n",
       "architectureonly_denses:type_paddingmid_padding  0.053003 .  \n",
       "architecturestack_conv:type_paddingmid_padding   7.03e-08 ***\n",
       "architecturebi_lstm:type_paddingpost_padding     0.000897 ***\n",
       "architectureonly_denses:type_paddingpost_padding 0.146951    \n",
       "architecturestack_conv:type_paddingpost_padding  9.26e-08 ***\n",
       "architecturebi_lstm:type_paddingpre_padding      0.000326 ***\n",
       "architectureonly_denses:type_paddingpre_padding  0.021166 *  \n",
       "architecturestack_conv:type_paddingpre_padding   0.000348 ***\n",
       "architecturebi_lstm:type_paddingrnd_padding       < 2e-16 ***\n",
       "architectureonly_denses:type_paddingrnd_padding  0.001488 ** \n",
       "architecturestack_conv:type_paddingrnd_padding   2.28e-14 ***\n",
       "architecturebi_lstm:type_paddingstrf_padding     0.304877    \n",
       "architectureonly_denses:type_paddingstrf_padding 0.192236    \n",
       "architecturestack_conv:type_paddingstrf_padding  0.001119 ** \n",
       "architecturebi_lstm:type_paddingzoom_padding     0.604693    \n",
       "architectureonly_denses:type_paddingzoom_padding 0.259747    \n",
       "architecturestack_conv:type_paddingzoom_padding  0.836524    \n",
       "---\n",
       "Signif. codes:  0 ‘***’ 0.001 ‘**’ 0.01 ‘*’ 0.05 ‘.’ 0.1 ‘ ’ 1\n",
       "\n",
       "Residual standard error: 0.01477 on 288 degrees of freedom\n",
       "Multiple R-squared:  0.9659,\tAdjusted R-squared:  0.9623 \n",
       "F-statistic: 263.5 on 31 and 288 DF,  p-value: < 2.2e-16\n"
      ]
     },
     "metadata": {},
     "output_type": "display_data"
    }
   ],
   "source": [
    "summary(lm_accu_task2)"
   ]
  },
  {
   "cell_type": "markdown",
   "metadata": {},
   "source": [
    "## Construyendo tablas"
   ]
  },
  {
   "cell_type": "code",
   "execution_count": 107,
   "metadata": {},
   "outputs": [
    {
     "name": "stdout",
     "output_type": "stream",
     "text": [
      "\n",
      "% Table created by stargazer v.5.2.2 by Marek Hlavac, Harvard University. E-mail: hlavac at fas.harvard.edu\n",
      "% Date and time: Wed, Oct 30, 2019 - 12:29:50 PM\n",
      "% Requires LaTeX packages: dcolumn \n",
      "\\begin{table}[!htbp] \\centering \n",
      "  \\caption{Linear models on F1 score} \n",
      "  \\label{} \n",
      "\\begin{tabular}{@{\\extracolsep{5pt}}lD{.}{.}{-3} D{.}{.}{-3} } \n",
      "\\\\[-1.8ex]\\hline \n",
      "\\hline \\\\[-1.8ex] \n",
      " & \\multicolumn{2}{c}{\\textit{Dependent variable:}} \\\\ \n",
      "\\cline{2-3} \n",
      "\\\\[-1.8ex] & \\multicolumn{2}{c}{accuracy} \\\\ \n",
      "\\\\[-1.8ex] & \\multicolumn{1}{c}{(1)} & \\multicolumn{1}{c}{(2)}\\\\ \n",
      "\\hline \\\\[-1.8ex] \n",
      " architecturebi\\_lstm & -0.040^{***} & -0.186^{***} \\\\ \n",
      "  & (0.009) & (0.007) \\\\ \n",
      "  & & \\\\ \n",
      " architectureonly\\_denses & 0.143^{***} & -0.012^{*} \\\\ \n",
      "  & (0.009) & (0.007) \\\\ \n",
      "  & & \\\\ \n",
      " architecturestack\\_conv & 0.033^{***} & -0.021^{***} \\\\ \n",
      "  & (0.009) & (0.007) \\\\ \n",
      "  & & \\\\ \n",
      " type\\_paddingext\\_padding & 0.085^{***} & -0.009 \\\\ \n",
      "  & (0.009) & (0.007) \\\\ \n",
      "  & & \\\\ \n",
      " type\\_paddingmid\\_padding & 0.110^{***} & -0.009 \\\\ \n",
      "  & (0.009) & (0.007) \\\\ \n",
      "  & & \\\\ \n",
      " type\\_paddingpost\\_padding & 0.115^{***} & -0.018^{***} \\\\ \n",
      "  & (0.009) & (0.007) \\\\ \n",
      "  & & \\\\ \n",
      " type\\_paddingpre\\_padding & 0.101^{***} & -0.016^{**} \\\\ \n",
      "  & (0.009) & (0.007) \\\\ \n",
      "  & & \\\\ \n",
      " type\\_paddingrnd\\_padding & 0.032^{***} & -0.093^{***} \\\\ \n",
      "  & (0.009) & (0.007) \\\\ \n",
      "  & & \\\\ \n",
      " type\\_paddingstrf\\_padding & 0.110^{***} & 0.008 \\\\ \n",
      "  & (0.009) & (0.007) \\\\ \n",
      "  & & \\\\ \n",
      " type\\_paddingzoom\\_padding & 0.111^{***} & 0.002 \\\\ \n",
      "  & (0.009) & (0.007) \\\\ \n",
      "  & & \\\\ \n",
      " architecturebi\\_lstm:type\\_paddingext\\_padding & -0.123^{***} & 0.008 \\\\ \n",
      "  & (0.013) & (0.009) \\\\ \n",
      "  & & \\\\ \n",
      " architectureonly\\_denses:type\\_paddingext\\_padding & -0.089^{***} & 0.017^{*} \\\\ \n",
      "  & (0.013) & (0.009) \\\\ \n",
      "  & & \\\\ \n",
      " architecturestack\\_conv:type\\_paddingext\\_padding & 0.0004 & 0.032^{***} \\\\ \n",
      "  & (0.013) & (0.009) \\\\ \n",
      "  & & \\\\ \n",
      " architecturebi\\_lstm:type\\_paddingmid\\_padding & -0.004 & 0.051^{***} \\\\ \n",
      "  & (0.013) & (0.009) \\\\ \n",
      "  & & \\\\ \n",
      " architectureonly\\_denses:type\\_paddingmid\\_padding & -0.100^{***} & 0.018^{*} \\\\ \n",
      "  & (0.013) & (0.009) \\\\ \n",
      "  & & \\\\ \n",
      " architecturestack\\_conv:type\\_paddingmid\\_padding & -0.027^{**} & 0.052^{***} \\\\ \n",
      "  & (0.013) & (0.009) \\\\ \n",
      "  & & \\\\ \n",
      " architecturebi\\_lstm:type\\_paddingpost\\_padding & -0.027^{**} & 0.031^{***} \\\\ \n",
      "  & (0.013) & (0.009) \\\\ \n",
      "  & & \\\\ \n",
      " architectureonly\\_denses:type\\_paddingpost\\_padding & -0.116^{***} & 0.014 \\\\ \n",
      "  & (0.013) & (0.009) \\\\ \n",
      "  & & \\\\ \n",
      " architecturestack\\_conv:type\\_paddingpost\\_padding & -0.026^{**} & 0.051^{***} \\\\ \n",
      "  & (0.013) & (0.009) \\\\ \n",
      "  & & \\\\ \n",
      " architecturebi\\_lstm:type\\_paddingpre\\_padding & -0.027^{**} & 0.034^{***} \\\\ \n",
      "  & (0.013) & (0.009) \\\\ \n",
      "  & & \\\\ \n",
      " architectureonly\\_denses:type\\_paddingpre\\_padding & -0.102^{***} & 0.022^{**} \\\\ \n",
      "  & (0.013) & (0.009) \\\\ \n",
      "  & & \\\\ \n",
      " architecturestack\\_conv:type\\_paddingpre\\_padding & -0.028^{**} & 0.034^{***} \\\\ \n",
      "  & (0.013) & (0.009) \\\\ \n",
      "  & & \\\\ \n",
      " architecturebi\\_lstm:type\\_paddingrnd\\_padding & 0.003 & 0.091^{***} \\\\ \n",
      "  & (0.013) & (0.009) \\\\ \n",
      "  & & \\\\ \n",
      " architectureonly\\_denses:type\\_paddingrnd\\_padding & -0.036^{***} & 0.030^{***} \\\\ \n",
      "  & (0.013) & (0.009) \\\\ \n",
      "  & & \\\\ \n",
      " architecturestack\\_conv:type\\_paddingrnd\\_padding & -0.008 & 0.075^{***} \\\\ \n",
      "  & (0.013) & (0.009) \\\\ \n",
      "  & & \\\\ \n",
      " architecturebi\\_lstm:type\\_paddingstrf\\_padding & -0.064^{***} & -0.010 \\\\ \n",
      "  & (0.013) & (0.009) \\\\ \n",
      "  & & \\\\ \n",
      " architectureonly\\_denses:type\\_paddingstrf\\_padding & -0.081^{***} & 0.012 \\\\ \n",
      "  & (0.013) & (0.009) \\\\ \n",
      "  & & \\\\ \n",
      " architecturestack\\_conv:type\\_paddingstrf\\_padding & -0.049^{***} & 0.031^{***} \\\\ \n",
      "  & (0.013) & (0.009) \\\\ \n",
      "  & & \\\\ \n",
      " architecturebi\\_lstm:type\\_paddingzoom\\_padding & -0.028^{**} & 0.005 \\\\ \n",
      "  & (0.013) & (0.009) \\\\ \n",
      "  & & \\\\ \n",
      " architectureonly\\_denses:type\\_paddingzoom\\_padding & -0.118^{***} & -0.011 \\\\ \n",
      "  & (0.013) & (0.009) \\\\ \n",
      "  & & \\\\ \n",
      " architecturestack\\_conv:type\\_paddingzoom\\_padding & -0.039^{***} & 0.002 \\\\ \n",
      "  & (0.013) & (0.009) \\\\ \n",
      "  & & \\\\ \n",
      " Constant & 0.758^{***} & 0.548^{***} \\\\ \n",
      "  & (0.006) & (0.005) \\\\ \n",
      "  & & \\\\ \n",
      "\\hline \\\\[-1.8ex] \n",
      "Observations & \\multicolumn{1}{c}{320} & \\multicolumn{1}{c}{320} \\\\ \n",
      "R$^{2}$ & \\multicolumn{1}{c}{0.904} & \\multicolumn{1}{c}{0.966} \\\\ \n",
      "Adjusted R$^{2}$ & \\multicolumn{1}{c}{0.894} & \\multicolumn{1}{c}{0.962} \\\\ \n",
      "Residual Std. Error (df = 288) & \\multicolumn{1}{c}{0.020} & \\multicolumn{1}{c}{0.015} \\\\ \n",
      "F Statistic (df = 31; 288) & \\multicolumn{1}{c}{87.505$^{***}$} & \\multicolumn{1}{c}{263.459$^{***}$} \\\\ \n",
      "\\hline \n",
      "\\hline \\\\[-1.8ex] \n",
      "\\textit{Note:}  & \\multicolumn{2}{r}{$^{*}$p$<$0.1; $^{**}$p$<$0.05; $^{***}$p$<$0.01} \\\\ \n",
      "\\end{tabular} \n",
      "\\end{table} \n"
     ]
    }
   ],
   "source": [
    "stargazer(lm_acc_task1,lm_accu_task2, title=\"Linear models on F1 score\", align=TRUE)"
   ]
  },
  {
   "cell_type": "code",
   "execution_count": 109,
   "metadata": {},
   "outputs": [
    {
     "name": "stdout",
     "output_type": "stream",
     "text": [
      "\n",
      "% Table created by stargazer v.5.2.2 by Marek Hlavac, Harvard University. E-mail: hlavac at fas.harvard.edu\n",
      "% Date and time: Wed, Oct 30, 2019 - 12:30:37 PM\n",
      "% Requires LaTeX packages: dcolumn \n",
      "\\begin{table}[!htbp] \\centering \n",
      "  \\caption{Linear models on F1 score} \n",
      "  \\label{} \n",
      "\\begin{tabular}{@{\\extracolsep{5pt}}lD{.}{.}{-3} D{.}{.}{-3} } \n",
      "\\\\[-1.8ex]\\hline \n",
      "\\hline \\\\[-1.8ex] \n",
      " & \\multicolumn{2}{c}{\\textit{Dependent variable:}} \\\\ \n",
      "\\cline{2-3} \n",
      "\\\\[-1.8ex] & \\multicolumn{2}{c}{f1\\_score} \\\\ \n",
      "\\\\[-1.8ex] & \\multicolumn{1}{c}{(1)} & \\multicolumn{1}{c}{(2)}\\\\ \n",
      "\\hline \\\\[-1.8ex] \n",
      " architecturebi\\_lstm & -0.081^{***} & -0.436^{***} \\\\ \n",
      "  & (0.005) & (0.006) \\\\ \n",
      "  & & \\\\ \n",
      " architectureonly\\_denses & 0.063^{***} & -0.021^{***} \\\\ \n",
      "  & (0.005) & (0.006) \\\\ \n",
      "  & & \\\\ \n",
      " architecturestack\\_conv & 0.011^{**} & -0.011^{*} \\\\ \n",
      "  & (0.005) & (0.006) \\\\ \n",
      "  & & \\\\ \n",
      " enz\\_type1 & 0.024^{***} &  \\\\ \n",
      "  & (0.004) &  \\\\ \n",
      "  & & \\\\ \n",
      " enz\\_type2 &  & 0.256^{***} \\\\ \n",
      "  &  & (0.008) \\\\ \n",
      "  & & \\\\ \n",
      " enz\\_type3 &  & 0.094^{***} \\\\ \n",
      "  &  & (0.008) \\\\ \n",
      "  & & \\\\ \n",
      " enz\\_type4 &  & 0.004 \\\\ \n",
      "  &  & (0.008) \\\\ \n",
      "  & & \\\\ \n",
      " enz\\_type5 &  & 0.123^{***} \\\\ \n",
      "  &  & (0.008) \\\\ \n",
      "  & & \\\\ \n",
      " enz\\_type6 &  & 0.043^{***} \\\\ \n",
      "  &  & (0.008) \\\\ \n",
      "  & & \\\\ \n",
      " enz\\_type7 &  & 0.072^{***} \\\\ \n",
      "  &  & (0.008) \\\\ \n",
      "  & & \\\\ \n",
      " type\\_paddingext\\_padding & 0.028^{***} & 0.014 \\\\ \n",
      "  & (0.007) & (0.009) \\\\ \n",
      "  & & \\\\ \n",
      " type\\_paddingmid\\_padding & 0.078^{***} & 0.038^{***} \\\\ \n",
      "  & (0.007) & (0.009) \\\\ \n",
      "  & & \\\\ \n",
      " type\\_paddingpost\\_padding & 0.073^{***} & 0.015^{*} \\\\ \n",
      "  & (0.007) & (0.009) \\\\ \n",
      "  & & \\\\ \n",
      " type\\_paddingpre\\_padding & 0.061^{***} & 0.016^{*} \\\\ \n",
      "  & (0.007) & (0.009) \\\\ \n",
      "  & & \\\\ \n",
      " type\\_paddingrnd\\_padding & 0.021^{***} & -0.057^{***} \\\\ \n",
      "  & (0.007) & (0.009) \\\\ \n",
      "  & & \\\\ \n",
      " type\\_paddingstrf\\_padding & 0.063^{***} & 0.015^{*} \\\\ \n",
      "  & (0.007) & (0.009) \\\\ \n",
      "  & & \\\\ \n",
      " type\\_paddingzoom\\_padding & 0.065^{***} & -0.013 \\\\ \n",
      "  & (0.007) & (0.009) \\\\ \n",
      "  & & \\\\ \n",
      " Constant & 0.779^{***} & 0.448^{***} \\\\ \n",
      "  & (0.006) & (0.009) \\\\ \n",
      "  & & \\\\ \n",
      "\\hline \\\\[-1.8ex] \n",
      "Observations & \\multicolumn{1}{c}{640} & \\multicolumn{1}{c}{2,240} \\\\ \n",
      "R$^{2}$ & \\multicolumn{1}{c}{0.642} & \\multicolumn{1}{c}{0.795} \\\\ \n",
      "Adjusted R$^{2}$ & \\multicolumn{1}{c}{0.636} & \\multicolumn{1}{c}{0.794} \\\\ \n",
      "Residual Std. Error & \\multicolumn{1}{c}{0.045 (df = 628)} & \\multicolumn{1}{c}{0.104 (df = 2223)} \\\\ \n",
      "F Statistic & \\multicolumn{1}{c}{102.553$^{***}$ (df = 11; 628)} & \\multicolumn{1}{c}{538.906$^{***}$ (df = 16; 2223)} \\\\ \n",
      "\\hline \n",
      "\\hline \\\\[-1.8ex] \n",
      "\\textit{Note:}  & \\multicolumn{2}{r}{$^{*}$p$<$0.1; $^{**}$p$<$0.05; $^{***}$p$<$0.01} \\\\ \n",
      "\\end{tabular} \n",
      "\\end{table} \n"
     ]
    }
   ],
   "source": [
    "stargazer(lm_f1_task1,lm_f1_task2, title=\"Linear models on F1 score\", align=TRUE)"
   ]
  },
  {
   "cell_type": "code",
   "execution_count": null,
   "metadata": {},
   "outputs": [],
   "source": []
  }
 ],
 "metadata": {
  "kernelspec": {
   "display_name": "R",
   "language": "R",
   "name": "ir"
  },
  "language_info": {
   "codemirror_mode": "r",
   "file_extension": ".r",
   "mimetype": "text/x-r-source",
   "name": "R",
   "pygments_lexer": "r",
   "version": "3.4.4"
  }
 },
 "nbformat": 4,
 "nbformat_minor": 2
}
