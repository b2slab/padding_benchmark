{
 "cells": [
  {
   "cell_type": "code",
   "execution_count": 294,
   "metadata": {},
   "outputs": [],
   "source": [
    "# install.packages(\"stargazer\")\n",
    "#install.packages(\"mvtnorm\")\n",
    "#install.packages(\"emmeans\")\n",
    "#install.packages(\"plyr\")\n",
    "#install.packages(\"magrittr\")\n",
    "#install.packages(\"dplyr\")\n",
    "#install.packages(\"svglite\")\n",
    "#install.packages(\"gridExtra\")"
   ]
  },
  {
   "cell_type": "code",
   "execution_count": 1,
   "metadata": {},
   "outputs": [
    {
     "name": "stderr",
     "output_type": "stream",
     "text": [
      "\n",
      "Please cite as: \n",
      "\n",
      " Hlavac, Marek (2018). stargazer: Well-Formatted Regression and Summary Statistics Tables.\n",
      " R package version 5.2.2. https://CRAN.R-project.org/package=stargazer \n",
      "\n",
      "\n",
      "Attaching package: ‘dplyr’\n",
      "\n",
      "The following objects are masked from ‘package:plyr’:\n",
      "\n",
      "    arrange, count, desc, failwith, id, mutate, rename, summarise,\n",
      "    summarize\n",
      "\n",
      "The following objects are masked from ‘package:stats’:\n",
      "\n",
      "    filter, lag\n",
      "\n",
      "The following objects are masked from ‘package:base’:\n",
      "\n",
      "    intersect, setdiff, setequal, union\n",
      "\n",
      "\n",
      "Attaching package: ‘gridExtra’\n",
      "\n",
      "The following object is masked from ‘package:dplyr’:\n",
      "\n",
      "    combine\n",
      "\n"
     ]
    }
   ],
   "source": [
    "library(\"reshape2\")\n",
    "library(\"stargazer\")\n",
    "library(\"ggplot2\")\n",
    "library(\"magrittr\")\n",
    "library(\"plyr\")\n",
    "library(\"dplyr\")\n",
    "library(\"grid\")\n",
    "library(\"gridExtra\")\n",
    "#library(\"svglite\")\n",
    "#library(\"emmeans\")"
   ]
  },
  {
   "cell_type": "code",
   "execution_count": 2,
   "metadata": {},
   "outputs": [],
   "source": [
    "absPath = '/home/angela/padding_EBI/'"
   ]
  },
  {
   "cell_type": "code",
   "execution_count": 3,
   "metadata": {},
   "outputs": [],
   "source": [
    "file_scores <- \"scores_final.csv\"\n",
    "file_accuracy <- \"accu_final.csv\""
   ]
  },
  {
   "cell_type": "markdown",
   "metadata": {},
   "source": [
    "### Defining functions"
   ]
  },
  {
   "cell_type": "code",
   "execution_count": 4,
   "metadata": {},
   "outputs": [],
   "source": [
    "postproc_lm <- function(lm_res){\n",
    "    sm <- summary(lm_res)\n",
    "    sm_df <- as.data.frame(sm$coefficients)\n",
    "    colnames(sm_df) <- c(\"Estimate\", \"Std.Error\", \"t.value\", \"p_val\")\n",
    "    sm_df[\"p_adjusted\"] = p.adjust(sm_df$p_val, method = \"fdr\")\n",
    "    index <- sm_df[\"p_adjusted\"] >= 0.05\n",
    "    #sm_df$Estimate[index] <- 0\n",
    "    return(sm_df)\n",
    "}\n",
    "\n",
    "dividing_rownames <- function(group, df){\n",
    "    names <- c()\n",
    "    estimates <- c()\n",
    "    pvals <- c()\n",
    "    indices <- grep(group,rownames(df))\n",
    "    subgroup <- rownames(df)[indices]\n",
    "    for (i in 1:length(subgroup)){\n",
    "        sg <- unlist(strsplit(subgroup[i], group)[1])[2]\n",
    "        names <- c(names, sg)\n",
    "        estimates <- c(estimates, df[subgroup[i], \"Estimate\"])\n",
    "        pvals <- c(pvals, df[subgroup[i], \"p_adjusted\"])\n",
    "              }\n",
    "    mini_df <- data.frame(\"estimates\"=estimates, \"p_valor\"=pvals)\n",
    "    mini_df$significant <- mini_df[\"p_valor\"] < 0.05\n",
    "    rownames(mini_df) <- names\n",
    "    mini_df[group] <- rownames(mini_df)\n",
    "    mini_df[\"x\"] <- 1\n",
    "    return(mini_df)\n",
    "}    \n",
    "\n",
    "values_significant <- c(\"black\", NA)\n",
    "names(values_significant) <- c(TRUE, FALSE)\n",
    "\n",
    "separating_interactions <- function(group1, group2, df){\n",
    "    estimates_list <- c()\n",
    "    xs <- c()\n",
    "    ys <- c()\n",
    "    interactions <- grep(\":\", rownames(df))\n",
    "    df_int <- df[interactions,]\n",
    "    df_esti <- df[-interactions,]\n",
    "    pvals_list <- c()\n",
    "    for (i in 1:length(rownames(df_int))){\n",
    "        sg <- unlist(strsplit(rownames(df_int)[i], \":\")[1])\n",
    "        x <- unlist(strsplit(sg[1], group1)[1])[2]\n",
    "        y <- unlist(strsplit(sg[2], group2)[1])[2]\n",
    "        estimates_list <- c(estimates_list, df[rownames(df_int)[i], \"Estimate\"])\n",
    "        pvals_list <- c(pvals_list, df_int[rownames(df_int)[i], \"p_adjusted\"])\n",
    "        xs <- c(xs, x)\n",
    "        ys <- c(ys, y)\n",
    "        }\n",
    "    interactions_df <- data.frame(\"estimates\"=estimates_list, \"x\"=xs, \"y\"=ys, \"p_val\"=pvals_list)\n",
    "    interactions_df$significant <- interactions_df$p_val < 0.05\n",
    "    newList <- list(\"estimates_df\"=df_esti, \"interactions_df\"=interactions_df)\n",
    "    return(newList)\n",
    "\n",
    "}\n",
    "\n",
    "plotting_additive <- function(group, df){\n",
    "    ggplot(df, aes_string( x=\"x\", y=group)) +\n",
    "geom_tile(aes(fill = estimates), colour = \"white\", height=1, width=1) + \n",
    "geom_tile(aes(color=significant), fill=NA, size=0.5, height=1, width=1) + \n",
    "scale_fill_gradient2(limits=c(-1, 1)) + \n",
    "scale_color_manual(values= values_significant) +  \n",
    "theme_bw() + \n",
    "theme(axis.title.x=element_blank(), axis.text.x=element_blank(), axis.ticks.x=element_blank(),\n",
    "     axis.title.y=element_blank(), axis.text.y=element_text(size=11))+ \n",
    "coord_equal()\n",
    "}\n",
    "\n",
    "plotting_interactions <- function(df){\n",
    "    ggplot(df$interactions_df, aes( x=x, y=y)) +\n",
    "geom_tile(aes(fill = estimates), colour = \"white\") + \n",
    "geom_tile(aes(color=significant), fill=NA, size=0.5) + \n",
    "scale_fill_gradient2(limits=c(-1, 1)) + \n",
    "scale_color_manual(values= values_significant) +  \n",
    "theme_bw() + \n",
    "theme(axis.title.x=element_blank(), axis.ticks.x=element_blank(),\n",
    "     axis.title.y=element_blank(), axis.text.y=element_text(size=11),\n",
    "     axis.text.x=element_text(size=10)) +\n",
    "coord_equal()\n",
    "    \n",
    "}\n",
    "\n",
    "\n",
    "plot_coefs_inter <- function(mod, method.adjust = \"fdr\", q.signif = .05) {\n",
    "    df.coef <- as.data.frame(summary(mod)$coef)\n",
    "    \n",
    "    nm <- rownames(df.coef)\n",
    "    nm.split <- strsplit(nm, split = \":\")\n",
    "    \n",
    "    df.coef$x1 <- sapply(nm.split, function(x) x[[1]])\n",
    "    df.coef$x2 <- sapply(nm.split, function(x) {\n",
    "        if (length(x) < 2) return(\"No interaction\")\n",
    "        x[[2]]\n",
    "    })\n",
    "    df.coef$p.adjust <- p.adjust(df.coef$`Pr(>|t|)`, method = method.adjust)\n",
    "    df.coef$Significance <- ifelse(\n",
    "        df.coef$p.adjust < q.signif, \n",
    "        paste0(\"q<\", q.signif), paste0(\"q>=\", q.signif))\n",
    "                         \n",
    "    #añadido por angela 30/12/19\n",
    "    #df.coef$Sign <- ifelse((df.coef$Estimate) & < 0, \"-\", \"+\")\n",
    "    df.coef$Sign[df.coef$p.adjust>0.05] <- ' '    \n",
    "    df.coef$Sign[(df.coef$p.adjust<=0.05)&(df.coef$Estimate>=0)] <- '+'\n",
    "    df.coef$Sign[(df.coef$p.adjust<=0.05)&(df.coef$Estimate<0)] <- '-'\n",
    "                    \n",
    "    values_significant <- c(\"black\", NA)\n",
    "    names(values_significant) <- c(paste0(\"q<\", q.signif), paste0(\"q>=\", q.signif))\n",
    "    \n",
    "    \n",
    "    # if (is.null(order.vars)) {\n",
    "    #     message(\"order.vars not supplied. Sorting alphabetically...\")\n",
    "    #     order.vars <- unique(sort(sapply(nm.split, function(x) x[[1]])))\n",
    "    # }\n",
    "    \n",
    "    var.factor <- mod$xlevels\n",
    "    df.factor <- plyr::ldply(\n",
    "        names(var.factor), \n",
    "        function(x) {\n",
    "            data.frame(\n",
    "                var.name = x, \n",
    "                var.level = var.factor[[x]], \n",
    "                x = paste0(x, var.factor[[x]]), \n",
    "                stringsAsFactors = FALSE\n",
    "            )\n",
    "        }\n",
    "    )\n",
    "                         \n",
    "    labs_new <- c(\"arch.\", \"enz\", \"Int.\", \"pad.\")\n",
    "    names(labs_new) <- c(\"architecture\", \"enz_type\", \"(Intercept)\", \"type_padding\")\n",
    "    \n",
    "    df.coef %<>% \n",
    "        join(rename_all(df.factor, function(x) paste0(x, \"1\"))) %>%\n",
    "        join(rename_all(df.factor, function(x) paste0(x, \"2\"))) %>%\n",
    "        mutate(facet1 = ifelse(is.na(var.name1), x1, var.name1), \n",
    "               facet2 = ifelse(is.na(var.name2), x2, var.name2), \n",
    "               tick1 = ifelse(is.na(var.level1), x1, var.level1), \n",
    "               tick2 = ifelse(is.na(var.level2), x2, var.level2))\n",
    "    \n",
    "    ggplot(df.coef, aes(x = tick1, y = tick2 \n",
    "                        #,fill = Estimate \n",
    "                        #,colour = Significance\n",
    "                       )) +\n",
    "        #geom_tile(lwd = 2) +\n",
    "        geom_tile(aes(fill=Estimate)) +\n",
    "        geom_tile(aes(color=Significance), fill=NA, size=0.5) +\n",
    "        scale_colour_manual(values = values_significant) +\n",
    "        scale_fill_gradient2(low = \"cornflowerblue\", mid = \"gray90\", high = \"indianred\", limits=c(-1, 1)) +\n",
    "        facet_grid(facet2~facet1, scales = \"free\", space = \"free\", \n",
    "                   labeller=labeller(facet1=labs_new)) +\n",
    "        #añadido por angela 30/12\n",
    "        geom_text(aes(label=Sign), size=7) +\n",
    "        theme_bw() +\n",
    "        theme(aspect.ratio = 1, \n",
    "              panel.grid = element_blank(), \n",
    "              strip.text.y = element_text(angle = 0), \n",
    "              axis.text.x = element_text(angle = 45, vjust = 1, hjust = 1)\n",
    "              #, legend.position = \"none\"\n",
    "             #strip.text.x = element_text(size=9)\n",
    "             ) +\n",
    "        # he intentado que el cuadrado de la leyenda salga bien pero esta pocho\n",
    "        # guides(colour = guide_legend(fill = \"white\")) + \n",
    "        xlab(\"\") +\n",
    "        ylab(\"\")\n",
    "}\n",
    "                    \n",
    "\n",
    "#mod <- lm(Sepal.Length ~ Sepal.Width + Species*Petal.Width, data = iris)\n",
    "#plot_coefs_inter(mod)\n",
    "#plot_coefs_inter(mod, q.signif = 1e-5)"
   ]
  },
  {
   "cell_type": "markdown",
   "metadata": {},
   "source": [
    "### Defining equations"
   ]
  },
  {
   "cell_type": "code",
   "execution_count": 5,
   "metadata": {},
   "outputs": [],
   "source": [
    "equation1 <- formula(f1_score~architecture+enz_type+type_padding)\n",
    "equation2 <- formula(f1_score~enz_type+type_padding)\n",
    "equation3 <- formula(f1_score~architecture+enz_type+type_padding+type_padding:architecture)\n",
    "equation4 <- formula(f1_score~architecture+enz_type+type_padding+type_padding:enz_type)"
   ]
  },
  {
   "cell_type": "markdown",
   "metadata": {},
   "source": [
    "# Task 1"
   ]
  },
  {
   "cell_type": "code",
   "execution_count": 6,
   "metadata": {},
   "outputs": [],
   "source": [
    "task <- \"task1/\"\n",
    "\n",
    "path_scores_task1 <- paste0(absPath, \"data/results/\", task, file_scores)\n",
    "#path_accu_task1 <- paste0(absPath, \"data/results/\", task, file_accuracy)\n",
    "\n",
    "scores_task1 <- read.csv(file=path_scores_task1, header=TRUE, sep=\",\")\n",
    "#accu_task1 <- read.csv(file=path_accu_task1, header=TRUE, sep=\",\")"
   ]
  },
  {
   "cell_type": "markdown",
   "metadata": {},
   "source": [
    "## Scores"
   ]
  },
  {
   "cell_type": "code",
   "execution_count": 7,
   "metadata": {},
   "outputs": [
    {
     "data": {
      "text/html": [
       "<table>\n",
       "<caption>A data.frame: 5 x 7</caption>\n",
       "<thead>\n",
       "\t<tr><th scope=col>X</th><th scope=col>enz_type</th><th scope=col>index</th><th scope=col>type_padding</th><th scope=col>architecture</th><th scope=col>variable</th><th scope=col>value</th></tr>\n",
       "\t<tr><th scope=col>&lt;int&gt;</th><th scope=col>&lt;fct&gt;</th><th scope=col>&lt;int&gt;</th><th scope=col>&lt;fct&gt;</th><th scope=col>&lt;fct&gt;</th><th scope=col>&lt;fct&gt;</th><th scope=col>&lt;dbl&gt;</th></tr>\n",
       "</thead>\n",
       "<tbody>\n",
       "\t<tr><td>0</td><td>0           </td><td>0</td><td>post_padding</td><td>1_conv</td><td>f1-score</td><td>0.8548043</td></tr>\n",
       "\t<tr><td>1</td><td>1           </td><td>0</td><td>post_padding</td><td>1_conv</td><td>f1-score</td><td>0.8642715</td></tr>\n",
       "\t<tr><td>2</td><td>micro avg   </td><td>0</td><td>post_padding</td><td>1_conv</td><td>f1-score</td><td>0.8596974</td></tr>\n",
       "\t<tr><td>3</td><td>macro avg   </td><td>0</td><td>post_padding</td><td>1_conv</td><td>f1-score</td><td>0.8595379</td></tr>\n",
       "\t<tr><td>4</td><td>weighted avg</td><td>0</td><td>post_padding</td><td>1_conv</td><td>f1-score</td><td>0.8600099</td></tr>\n",
       "</tbody>\n",
       "</table>\n"
      ],
      "text/latex": [
       "A data.frame: 5 x 7\n",
       "\\begin{tabular}{r|lllllll}\n",
       " X & enz\\_type & index & type\\_padding & architecture & variable & value\\\\\n",
       " <int> & <fct> & <int> & <fct> & <fct> & <fct> & <dbl>\\\\\n",
       "\\hline\n",
       "\t 0 & 0            & 0 & post\\_padding & 1\\_conv & f1-score & 0.8548043\\\\\n",
       "\t 1 & 1            & 0 & post\\_padding & 1\\_conv & f1-score & 0.8642715\\\\\n",
       "\t 2 & micro avg    & 0 & post\\_padding & 1\\_conv & f1-score & 0.8596974\\\\\n",
       "\t 3 & macro avg    & 0 & post\\_padding & 1\\_conv & f1-score & 0.8595379\\\\\n",
       "\t 4 & weighted avg & 0 & post\\_padding & 1\\_conv & f1-score & 0.8600099\\\\\n",
       "\\end{tabular}\n"
      ],
      "text/markdown": [
       "\n",
       "A data.frame: 5 x 7\n",
       "\n",
       "| X &lt;int&gt; | enz_type &lt;fct&gt; | index &lt;int&gt; | type_padding &lt;fct&gt; | architecture &lt;fct&gt; | variable &lt;fct&gt; | value &lt;dbl&gt; |\n",
       "|---|---|---|---|---|---|---|\n",
       "| 0 | 0            | 0 | post_padding | 1_conv | f1-score | 0.8548043 |\n",
       "| 1 | 1            | 0 | post_padding | 1_conv | f1-score | 0.8642715 |\n",
       "| 2 | micro avg    | 0 | post_padding | 1_conv | f1-score | 0.8596974 |\n",
       "| 3 | macro avg    | 0 | post_padding | 1_conv | f1-score | 0.8595379 |\n",
       "| 4 | weighted avg | 0 | post_padding | 1_conv | f1-score | 0.8600099 |\n",
       "\n"
      ],
      "text/plain": [
       "  X enz_type     index type_padding architecture variable value    \n",
       "1 0 0            0     post_padding 1_conv       f1-score 0.8548043\n",
       "2 1 1            0     post_padding 1_conv       f1-score 0.8642715\n",
       "3 2 micro avg    0     post_padding 1_conv       f1-score 0.8596974\n",
       "4 3 macro avg    0     post_padding 1_conv       f1-score 0.8595379\n",
       "5 4 weighted avg 0     post_padding 1_conv       f1-score 0.8600099"
      ]
     },
     "metadata": {},
     "output_type": "display_data"
    },
    {
     "data": {
      "text/html": [
       "<dl class=dl-horizontal>\n",
       "\t<dt>enz_type</dt>\n",
       "\t\t<dd>'factor'</dd>\n",
       "\t<dt>index</dt>\n",
       "\t\t<dd>'integer'</dd>\n",
       "\t<dt>type_padding</dt>\n",
       "\t\t<dd>'factor'</dd>\n",
       "\t<dt>architecture</dt>\n",
       "\t\t<dd>'factor'</dd>\n",
       "\t<dt>variable</dt>\n",
       "\t\t<dd>'factor'</dd>\n",
       "\t<dt>value</dt>\n",
       "\t\t<dd>'numeric'</dd>\n",
       "</dl>\n"
      ],
      "text/latex": [
       "\\begin{description*}\n",
       "\\item[enz\\textbackslash{}\\_type] 'factor'\n",
       "\\item[index] 'integer'\n",
       "\\item[type\\textbackslash{}\\_padding] 'factor'\n",
       "\\item[architecture] 'factor'\n",
       "\\item[variable] 'factor'\n",
       "\\item[value] 'numeric'\n",
       "\\end{description*}\n"
      ],
      "text/markdown": [
       "enz_type\n",
       ":   'factor'index\n",
       ":   'integer'type_padding\n",
       ":   'factor'architecture\n",
       ":   'factor'variable\n",
       ":   'factor'value\n",
       ":   'numeric'\n",
       "\n"
      ],
      "text/plain": [
       "    enz_type        index type_padding architecture     variable        value \n",
       "    \"factor\"    \"integer\"     \"factor\"     \"factor\"     \"factor\"    \"numeric\" "
      ]
     },
     "metadata": {},
     "output_type": "display_data"
    },
    {
     "data": {
      "text/html": [
       "<table>\n",
       "<caption>A data.frame: 5 x 7</caption>\n",
       "<thead>\n",
       "\t<tr><th scope=col>enz_type</th><th scope=col>index</th><th scope=col>type_padding</th><th scope=col>architecture</th><th scope=col>f1_score</th><th scope=col>precision</th><th scope=col>recall</th></tr>\n",
       "\t<tr><th scope=col>&lt;fct&gt;</th><th scope=col>&lt;int&gt;</th><th scope=col>&lt;fct&gt;</th><th scope=col>&lt;fct&gt;</th><th scope=col>&lt;dbl&gt;</th><th scope=col>&lt;dbl&gt;</th><th scope=col>&lt;dbl&gt;</th></tr>\n",
       "</thead>\n",
       "<tbody>\n",
       "\t<tr><td>0</td><td>0</td><td>aug_padding</td><td>1_conv     </td><td>0.7512593</td><td>0.6471795</td><td>0.8952308</td></tr>\n",
       "\t<tr><td>0</td><td>0</td><td>aug_padding</td><td>only_denses</td><td>0.8760426</td><td>0.8434343</td><td>0.9112736</td></tr>\n",
       "\t<tr><td>0</td><td>0</td><td>aug_padding</td><td>stack_conv </td><td>0.7811460</td><td>0.6844007</td><td>0.9097457</td></tr>\n",
       "\t<tr><td>0</td><td>0</td><td>ext_padding</td><td>1_conv     </td><td>0.8403179</td><td>0.7971213</td><td>0.8884645</td></tr>\n",
       "\t<tr><td>0</td><td>0</td><td>ext_padding</td><td>only_denses</td><td>0.8888097</td><td>0.8329993</td><td>0.9526356</td></tr>\n",
       "</tbody>\n",
       "</table>\n"
      ],
      "text/latex": [
       "A data.frame: 5 x 7\n",
       "\\begin{tabular}{r|lllllll}\n",
       " enz\\_type & index & type\\_padding & architecture & f1\\_score & precision & recall\\\\\n",
       " <fct> & <int> & <fct> & <fct> & <dbl> & <dbl> & <dbl>\\\\\n",
       "\\hline\n",
       "\t 0 & 0 & aug\\_padding & 1\\_conv      & 0.7512593 & 0.6471795 & 0.8952308\\\\\n",
       "\t 0 & 0 & aug\\_padding & only\\_denses & 0.8760426 & 0.8434343 & 0.9112736\\\\\n",
       "\t 0 & 0 & aug\\_padding & stack\\_conv  & 0.7811460 & 0.6844007 & 0.9097457\\\\\n",
       "\t 0 & 0 & ext\\_padding & 1\\_conv      & 0.8403179 & 0.7971213 & 0.8884645\\\\\n",
       "\t 0 & 0 & ext\\_padding & only\\_denses & 0.8888097 & 0.8329993 & 0.9526356\\\\\n",
       "\\end{tabular}\n"
      ],
      "text/markdown": [
       "\n",
       "A data.frame: 5 x 7\n",
       "\n",
       "| enz_type &lt;fct&gt; | index &lt;int&gt; | type_padding &lt;fct&gt; | architecture &lt;fct&gt; | f1_score &lt;dbl&gt; | precision &lt;dbl&gt; | recall &lt;dbl&gt; |\n",
       "|---|---|---|---|---|---|---|\n",
       "| 0 | 0 | aug_padding | 1_conv      | 0.7512593 | 0.6471795 | 0.8952308 |\n",
       "| 0 | 0 | aug_padding | only_denses | 0.8760426 | 0.8434343 | 0.9112736 |\n",
       "| 0 | 0 | aug_padding | stack_conv  | 0.7811460 | 0.6844007 | 0.9097457 |\n",
       "| 0 | 0 | ext_padding | 1_conv      | 0.8403179 | 0.7971213 | 0.8884645 |\n",
       "| 0 | 0 | ext_padding | only_denses | 0.8888097 | 0.8329993 | 0.9526356 |\n",
       "\n"
      ],
      "text/plain": [
       "  enz_type index type_padding architecture f1_score  precision recall   \n",
       "1 0        0     aug_padding  1_conv       0.7512593 0.6471795 0.8952308\n",
       "2 0        0     aug_padding  only_denses  0.8760426 0.8434343 0.9112736\n",
       "3 0        0     aug_padding  stack_conv   0.7811460 0.6844007 0.9097457\n",
       "4 0        0     ext_padding  1_conv       0.8403179 0.7971213 0.8884645\n",
       "5 0        0     ext_padding  only_denses  0.8888097 0.8329993 0.9526356"
      ]
     },
     "metadata": {},
     "output_type": "display_data"
    }
   ],
   "source": [
    "scores_task1[0:5,]\n",
    "scores_task1$X <- NULL\n",
    "#filtering \n",
    "scores_task1 <- scores_task1[scores_task1$enz_type %in% c(0,1),]\n",
    "sapply(scores_task1, class)\n",
    "# habria que hacer un unmelt de variable-value\n",
    "scores_task1_dcasted <- dcast(data = scores_task1,formula = enz_type+index+type_padding+architecture~variable,\n",
    "                              fun.aggregate = sum,value.var = \"value\")\n",
    "#tengo que cambiar el nombre de f1-score\n",
    "colnames(scores_task1_dcasted) <- c(\"enz_type\", \"index\", \"type_padding\", \"architecture\", \"f1_score\",\n",
    "                                    \"precision\", \"recall\")\n",
    "scores_task1_dcasted[0:5,]"
   ]
  },
  {
   "cell_type": "markdown",
   "metadata": {},
   "source": [
    "# 0.Full additive model"
   ]
  },
  {
   "cell_type": "markdown",
   "metadata": {},
   "source": [
    "## changing reference"
   ]
  },
  {
   "cell_type": "code",
   "execution_count": 8,
   "metadata": {},
   "outputs": [],
   "source": [
    "scores_task1_dcasted$architecture <- relevel(scores_task1_dcasted$architecture, \"only_denses\")\n",
    "scores_task1_dcasted$type_padding <- relevel(scores_task1_dcasted$type_padding, \"post_padding\")"
   ]
  },
  {
   "cell_type": "code",
   "execution_count": 9,
   "metadata": {},
   "outputs": [],
   "source": [
    "lm_f1_task1_additive <- lm(equation1, data=scores_task1_dcasted)"
   ]
  },
  {
   "cell_type": "code",
   "execution_count": 10,
   "metadata": {},
   "outputs": [
    {
     "data": {
      "text/plain": [
       "\n",
       "Call:\n",
       "lm(formula = equation1, data = scores_task1_dcasted)\n",
       "\n",
       "Residuals:\n",
       "     Min       1Q   Median       3Q      Max \n",
       "-0.20864 -0.01473  0.00259  0.01725  0.06311 \n",
       "\n",
       "Coefficients:\n",
       "                           Estimate Std. Error t value Pr(>|t|)    \n",
       "(Intercept)               9.164e-01  4.069e-03 225.221  < 2e-16 ***\n",
       "architecture1_conv       -6.329e-02  3.005e-03 -21.061  < 2e-16 ***\n",
       "architecturestack_conv   -5.235e-02  3.005e-03 -17.421  < 2e-16 ***\n",
       "enz_type1                 1.239e-02  2.454e-03   5.048 6.41e-07 ***\n",
       "type_paddingaug_padding  -6.870e-02  4.907e-03 -13.999  < 2e-16 ***\n",
       "type_paddingext_padding  -1.290e-02  4.907e-03  -2.628  0.00887 ** \n",
       "type_paddingmid_padding   6.469e-05  4.907e-03   0.013  0.98949    \n",
       "type_paddingpre_padding  -1.068e-02  4.907e-03  -2.176  0.03007 *  \n",
       "type_paddingrnd_padding  -5.257e-02  4.907e-03 -10.712  < 2e-16 ***\n",
       "type_paddingstrf_padding -1.089e-03  4.907e-03  -0.222  0.82445    \n",
       "type_paddingzoom_padding -9.626e-03  4.907e-03  -1.962  0.05040 .  \n",
       "---\n",
       "Signif. codes:  0 ‘***’ 0.001 ‘**’ 0.01 ‘*’ 0.05 ‘.’ 0.1 ‘ ’ 1\n",
       "\n",
       "Residual standard error: 0.02688 on 469 degrees of freedom\n",
       "Multiple R-squared:  0.6657,\tAdjusted R-squared:  0.6586 \n",
       "F-statistic: 93.39 on 10 and 469 DF,  p-value: < 2.2e-16\n"
      ]
     },
     "metadata": {},
     "output_type": "display_data"
    }
   ],
   "source": [
    "summary(lm_f1_task1_additive)"
   ]
  },
  {
   "cell_type": "code",
   "execution_count": 11,
   "metadata": {},
   "outputs": [
    {
     "name": "stderr",
     "output_type": "stream",
     "text": [
      "Joining by: x1\n",
      "Joining by: x2\n",
      "Saving 6.67 x 6.67 in image\n"
     ]
    },
    {
     "data": {
      "image/png": "[encoded data removed]",
      "text/plain": [
       "plot without title"
      ]
     },
     "metadata": {},
     "output_type": "display_data"
    }
   ],
   "source": [
    "file_path <- paste0(absPath, \"data/results/\", task, \"linear_models_f1/\")\n",
    "\n",
    "g1_task1 = plot_coefs_inter(lm_f1_task1_additive)\n",
    "g1_task1\n",
    "ggsave(\"full_additive.eps\", device=\"eps\", path=file_path)"
   ]
  },
  {
   "cell_type": "code",
   "execution_count": 12,
   "metadata": {
    "scrolled": true
   },
   "outputs": [
    {
     "data": {
      "text/html": [
       "<table>\n",
       "<caption>A data.frame: 11 x 5</caption>\n",
       "<thead>\n",
       "\t<tr><th></th><th scope=col>Estimate</th><th scope=col>Std.Error</th><th scope=col>t.value</th><th scope=col>p_val</th><th scope=col>p_adjusted</th></tr>\n",
       "\t<tr><th></th><th scope=col>&lt;dbl&gt;</th><th scope=col>&lt;dbl&gt;</th><th scope=col>&lt;dbl&gt;</th><th scope=col>&lt;dbl&gt;</th><th scope=col>&lt;dbl&gt;</th></tr>\n",
       "</thead>\n",
       "<tbody>\n",
       "\t<tr><th scope=row>(Intercept)</th><td> 9.163729e-01</td><td>0.004068765</td><td>225.22135931</td><td>0.000000e+00</td><td>0.000000e+00</td></tr>\n",
       "\t<tr><th scope=row>architecture1_conv</th><td>-6.328732e-02</td><td>0.003004982</td><td>-21.06079467</td><td>8.528275e-70</td><td>4.690551e-69</td></tr>\n",
       "\t<tr><th scope=row>architecturestack_conv</th><td>-5.235050e-02</td><td>0.003004982</td><td>-17.42123361</td><td>8.820571e-53</td><td>3.234209e-52</td></tr>\n",
       "\t<tr><th scope=row>enz_type1</th><td> 1.238517e-02</td><td>0.002453558</td><td>  5.04784149</td><td>6.405137e-07</td><td>1.174275e-06</td></tr>\n",
       "\t<tr><th scope=row>type_paddingaug_padding</th><td>-6.869563e-02</td><td>0.004907116</td><td>-13.99918661</td><td>1.866753e-37</td><td>5.133572e-37</td></tr>\n",
       "\t<tr><th scope=row>type_paddingext_padding</th><td>-1.289588e-02</td><td>0.004907116</td><td> -2.62799515</td><td>8.870553e-03</td><td>1.393944e-02</td></tr>\n",
       "\t<tr><th scope=row>type_paddingmid_padding</th><td> 6.469193e-05</td><td>0.004907116</td><td>  0.01318329</td><td>9.894872e-01</td><td>9.894872e-01</td></tr>\n",
       "\t<tr><th scope=row>type_paddingpre_padding</th><td>-1.067660e-02</td><td>0.004907116</td><td> -2.17573883</td><td>3.007336e-02</td><td>4.135087e-02</td></tr>\n",
       "\t<tr><th scope=row>type_paddingrnd_padding</th><td>-5.256738e-02</td><td>0.004907116</td><td>-10.71248110</td><td>4.209378e-24</td><td>9.260631e-24</td></tr>\n",
       "\t<tr><th scope=row>type_paddingstrf_padding</th><td>-1.089142e-03</td><td>0.004907116</td><td> -0.22195155</td><td>8.244482e-01</td><td>9.068930e-01</td></tr>\n",
       "\t<tr><th scope=row>type_paddingzoom_padding</th><td>-9.625819e-03</td><td>0.004907116</td><td> -1.96160423</td><td>5.039969e-02</td><td>6.159962e-02</td></tr>\n",
       "</tbody>\n",
       "</table>\n"
      ],
      "text/latex": [
       "A data.frame: 11 x 5\n",
       "\\begin{tabular}{r|lllll}\n",
       "  & Estimate & Std.Error & t.value & p\\_val & p\\_adjusted\\\\\n",
       "  & <dbl> & <dbl> & <dbl> & <dbl> & <dbl>\\\\\n",
       "\\hline\n",
       "\t(Intercept) &  9.163729e-01 & 0.004068765 & 225.22135931 & 0.000000e+00 & 0.000000e+00\\\\\n",
       "\tarchitecture1\\_conv & -6.328732e-02 & 0.003004982 & -21.06079467 & 8.528275e-70 & 4.690551e-69\\\\\n",
       "\tarchitecturestack\\_conv & -5.235050e-02 & 0.003004982 & -17.42123361 & 8.820571e-53 & 3.234209e-52\\\\\n",
       "\tenz\\_type1 &  1.238517e-02 & 0.002453558 &   5.04784149 & 6.405137e-07 & 1.174275e-06\\\\\n",
       "\ttype\\_paddingaug\\_padding & -6.869563e-02 & 0.004907116 & -13.99918661 & 1.866753e-37 & 5.133572e-37\\\\\n",
       "\ttype\\_paddingext\\_padding & -1.289588e-02 & 0.004907116 &  -2.62799515 & 8.870553e-03 & 1.393944e-02\\\\\n",
       "\ttype\\_paddingmid\\_padding &  6.469193e-05 & 0.004907116 &   0.01318329 & 9.894872e-01 & 9.894872e-01\\\\\n",
       "\ttype\\_paddingpre\\_padding & -1.067660e-02 & 0.004907116 &  -2.17573883 & 3.007336e-02 & 4.135087e-02\\\\\n",
       "\ttype\\_paddingrnd\\_padding & -5.256738e-02 & 0.004907116 & -10.71248110 & 4.209378e-24 & 9.260631e-24\\\\\n",
       "\ttype\\_paddingstrf\\_padding & -1.089142e-03 & 0.004907116 &  -0.22195155 & 8.244482e-01 & 9.068930e-01\\\\\n",
       "\ttype\\_paddingzoom\\_padding & -9.625819e-03 & 0.004907116 &  -1.96160423 & 5.039969e-02 & 6.159962e-02\\\\\n",
       "\\end{tabular}\n"
      ],
      "text/markdown": [
       "\n",
       "A data.frame: 11 x 5\n",
       "\n",
       "| <!--/--> | Estimate &lt;dbl&gt; | Std.Error &lt;dbl&gt; | t.value &lt;dbl&gt; | p_val &lt;dbl&gt; | p_adjusted &lt;dbl&gt; |\n",
       "|---|---|---|---|---|---|\n",
       "| (Intercept) |  9.163729e-01 | 0.004068765 | 225.22135931 | 0.000000e+00 | 0.000000e+00 |\n",
       "| architecture1_conv | -6.328732e-02 | 0.003004982 | -21.06079467 | 8.528275e-70 | 4.690551e-69 |\n",
       "| architecturestack_conv | -5.235050e-02 | 0.003004982 | -17.42123361 | 8.820571e-53 | 3.234209e-52 |\n",
       "| enz_type1 |  1.238517e-02 | 0.002453558 |   5.04784149 | 6.405137e-07 | 1.174275e-06 |\n",
       "| type_paddingaug_padding | -6.869563e-02 | 0.004907116 | -13.99918661 | 1.866753e-37 | 5.133572e-37 |\n",
       "| type_paddingext_padding | -1.289588e-02 | 0.004907116 |  -2.62799515 | 8.870553e-03 | 1.393944e-02 |\n",
       "| type_paddingmid_padding |  6.469193e-05 | 0.004907116 |   0.01318329 | 9.894872e-01 | 9.894872e-01 |\n",
       "| type_paddingpre_padding | -1.067660e-02 | 0.004907116 |  -2.17573883 | 3.007336e-02 | 4.135087e-02 |\n",
       "| type_paddingrnd_padding | -5.256738e-02 | 0.004907116 | -10.71248110 | 4.209378e-24 | 9.260631e-24 |\n",
       "| type_paddingstrf_padding | -1.089142e-03 | 0.004907116 |  -0.22195155 | 8.244482e-01 | 9.068930e-01 |\n",
       "| type_paddingzoom_padding | -9.625819e-03 | 0.004907116 |  -1.96160423 | 5.039969e-02 | 6.159962e-02 |\n",
       "\n"
      ],
      "text/plain": [
       "                         Estimate      Std.Error   t.value      p_val       \n",
       "(Intercept)               9.163729e-01 0.004068765 225.22135931 0.000000e+00\n",
       "architecture1_conv       -6.328732e-02 0.003004982 -21.06079467 8.528275e-70\n",
       "architecturestack_conv   -5.235050e-02 0.003004982 -17.42123361 8.820571e-53\n",
       "enz_type1                 1.238517e-02 0.002453558   5.04784149 6.405137e-07\n",
       "type_paddingaug_padding  -6.869563e-02 0.004907116 -13.99918661 1.866753e-37\n",
       "type_paddingext_padding  -1.289588e-02 0.004907116  -2.62799515 8.870553e-03\n",
       "type_paddingmid_padding   6.469193e-05 0.004907116   0.01318329 9.894872e-01\n",
       "type_paddingpre_padding  -1.067660e-02 0.004907116  -2.17573883 3.007336e-02\n",
       "type_paddingrnd_padding  -5.256738e-02 0.004907116 -10.71248110 4.209378e-24\n",
       "type_paddingstrf_padding -1.089142e-03 0.004907116  -0.22195155 8.244482e-01\n",
       "type_paddingzoom_padding -9.625819e-03 0.004907116  -1.96160423 5.039969e-02\n",
       "                         p_adjusted  \n",
       "(Intercept)              0.000000e+00\n",
       "architecture1_conv       4.690551e-69\n",
       "architecturestack_conv   3.234209e-52\n",
       "enz_type1                1.174275e-06\n",
       "type_paddingaug_padding  5.133572e-37\n",
       "type_paddingext_padding  1.393944e-02\n",
       "type_paddingmid_padding  9.894872e-01\n",
       "type_paddingpre_padding  4.135087e-02\n",
       "type_paddingrnd_padding  9.260631e-24\n",
       "type_paddingstrf_padding 9.068930e-01\n",
       "type_paddingzoom_padding 6.159962e-02"
      ]
     },
     "metadata": {},
     "output_type": "display_data"
    }
   ],
   "source": [
    "sm0_df <- postproc_lm(lm_f1_task1_additive)\n",
    "sm0_df"
   ]
  },
  {
   "cell_type": "code",
   "execution_count": 13,
   "metadata": {},
   "outputs": [],
   "source": [
    "# Dividing lm in representable tiles\n",
    "arch_df_0 <- dividing_rownames(\"architecture\", sm0_df)\n",
    "enz_df_0 <- dividing_rownames(\"enz_type\", sm0_df)\n",
    "pad_df_0 <- dividing_rownames(\"type_padding\", sm0_df)"
   ]
  },
  {
   "cell_type": "code",
   "execution_count": 104,
   "metadata": {},
   "outputs": [
    {
     "data": {
      "text/html": [
       "<dl class=dl-horizontal>\n",
       "\t<dt>1</dt>\n",
       "\t\t<dd>0.864022385434194</dd>\n",
       "\t<dt>2</dt>\n",
       "\t\t<dd>0.853085568346999</dd>\n",
       "\t<dt>3</dt>\n",
       "\t\t<dd>0.916372886464596</dd>\n",
       "</dl>\n"
      ],
      "text/latex": [
       "\\begin{description*}\n",
       "\\item[1] 0.864022385434194\n",
       "\\item[2] 0.853085568346999\n",
       "\\item[3] 0.916372886464596\n",
       "\\end{description*}\n"
      ],
      "text/markdown": [
       "1\n",
       ":   0.8640223854341942\n",
       ":   0.8530855683469993\n",
       ":   0.916372886464596\n",
       "\n"
      ],
      "text/plain": [
       "        1         2         3 \n",
       "0.8640224 0.8530856 0.9163729 "
      ]
     },
     "metadata": {},
     "output_type": "display_data"
    }
   ],
   "source": [
    "# comparison predictions\n",
    "new_df <- data.frame(\"enz_type\" = c(\"0\", \"0\", \"0\"), \n",
    "                     \"type_padding\" = c(\"post_padding\", \"post_padding\", \"post_padding\"), \n",
    "                     \"architecture\" = c(\"stack_conv\", \"1_conv\", \"only_denses\"))\n",
    "predict(lm_f1_task1_additive, new_df)"
   ]
  },
  {
   "cell_type": "code",
   "execution_count": 14,
   "metadata": {},
   "outputs": [],
   "source": [
    "#options(repr.plot.width=2.5, repr.plot.height=3)\n",
    "#plotting_additive(\"architecture\", arch_df_1)"
   ]
  },
  {
   "cell_type": "code",
   "execution_count": 15,
   "metadata": {},
   "outputs": [],
   "source": [
    "#options(repr.plot.width=2.25, repr.plot.height=3)\n",
    "#plotting_additive(\"enz_type\", enz_df_1)"
   ]
  },
  {
   "cell_type": "code",
   "execution_count": 16,
   "metadata": {
    "scrolled": true
   },
   "outputs": [],
   "source": [
    "#options(repr.plot.width=2.5, repr.plot.height=3)\n",
    "#plotting_additive(\"type_padding\", pad_df_1)"
   ]
  },
  {
   "cell_type": "markdown",
   "metadata": {},
   "source": [
    "# A. Does padding position affect performance?"
   ]
  },
  {
   "cell_type": "code",
   "execution_count": 17,
   "metadata": {},
   "outputs": [
    {
     "data": {
      "text/plain": [
       "\n",
       "Call:\n",
       "lm(formula = equation2, data = subset(scores_task1_dcasted, architecture %in% \n",
       "    soa_arch & type_padding %in% soa_pad))\n",
       "\n",
       "Residuals:\n",
       "      Min        1Q    Median        3Q       Max \n",
       "-0.041921 -0.009628  0.002466  0.010496  0.031514 \n",
       "\n",
       "Coefficients:\n",
       "                           Estimate Std. Error t value Pr(>|t|)    \n",
       "(Intercept)               0.8960292  0.0035231 254.333  < 2e-16 ***\n",
       "enz_type1                 0.0081015  0.0024912   3.252  0.00145 ** \n",
       "type_paddingaug_padding  -0.0001935  0.0046606  -0.042  0.96695    \n",
       "type_paddingext_padding  -0.0041699  0.0046606  -0.895  0.37257    \n",
       "type_paddingmid_padding   0.0105087  0.0046606   2.255  0.02579 *  \n",
       "type_paddingpre_padding  -0.0008379  0.0046606  -0.180  0.85760    \n",
       "type_paddingstrf_padding  0.0300487  0.0046606   6.447 1.97e-09 ***\n",
       "type_paddingzoom_padding -0.0067748  0.0046606  -1.454  0.14842    \n",
       "---\n",
       "Signif. codes:  0 ‘***’ 0.001 ‘**’ 0.01 ‘*’ 0.05 ‘.’ 0.1 ‘ ’ 1\n",
       "\n",
       "Residual standard error: 0.01474 on 132 degrees of freedom\n",
       "Multiple R-squared:  0.4287,\tAdjusted R-squared:  0.3984 \n",
       "F-statistic: 14.15 on 7 and 132 DF,  p-value: 1.297e-13\n"
      ]
     },
     "metadata": {},
     "output_type": "display_data"
    }
   ],
   "source": [
    "#choosing_levels\n",
    "soa_arch <- c(\"only_denses\")\n",
    "soa_pad <- c(\"post_padding\", \"pre_padding\", \"mid_padding\", \"ext_padding\", \"ext_padding\", \"strf_padding\",\n",
    "            \"zoom_padding\", \"aug_padding\")\n",
    "lm_f1_task1_A <- lm(equation2, \n",
    "                               data=subset(scores_task1_dcasted, architecture %in% soa_arch & \n",
    "                                           type_padding %in% soa_pad))\n",
    "summary(lm_f1_task1_A)"
   ]
  },
  {
   "cell_type": "code",
   "execution_count": 18,
   "metadata": {},
   "outputs": [
    {
     "name": "stderr",
     "output_type": "stream",
     "text": [
      "Joining by: x1\n",
      "Joining by: x2\n",
      "Saving 6.67 x 6.67 in image\n"
     ]
    },
    {
     "data": {
      "image/png": "[encoded data removed]",
      "text/plain": [
       "plot without title"
      ]
     },
     "metadata": {},
     "output_type": "display_data"
    }
   ],
   "source": [
    "file_path <- paste0(absPath, \"data/results/\", task, \"linear_models_f1/\")\n",
    "\n",
    "g2_task1 = plot_coefs_inter(lm_f1_task1_A)\n",
    "g2_task1\n",
    "ggsave(\"A.eps\", device=\"eps\", path=file_path)"
   ]
  },
  {
   "cell_type": "code",
   "execution_count": 19,
   "metadata": {},
   "outputs": [],
   "source": [
    "A_df <- postproc_lm(lm_f1_task1_A)\n",
    "enz_df_A <- dividing_rownames(\"enz_type\", A_df)\n",
    "pad_df_A <- dividing_rownames(\"type_padding\", A_df)"
   ]
  },
  {
   "cell_type": "code",
   "execution_count": 81,
   "metadata": {},
   "outputs": [
    {
     "data": {
      "text/html": [
       "<dl class=dl-horizontal>\n",
       "\t<dt>1</dt>\n",
       "\t\t<dd>0.926077843057951</dd>\n",
       "\t<dt>2</dt>\n",
       "\t\t<dd>0.896029170426862</dd>\n",
       "</dl>\n"
      ],
      "text/latex": [
       "\\begin{description*}\n",
       "\\item[1] 0.926077843057951\n",
       "\\item[2] 0.896029170426862\n",
       "\\end{description*}\n"
      ],
      "text/markdown": [
       "1\n",
       ":   0.9260778430579512\n",
       ":   0.896029170426862\n",
       "\n"
      ],
      "text/plain": [
       "        1         2 \n",
       "0.9260778 0.8960292 "
      ]
     },
     "metadata": {},
     "output_type": "display_data"
    }
   ],
   "source": [
    "# comparison predictions\n",
    "new_df <- data.frame(\"enz_type\" = c(\"0\", \"0\"), \"type_padding\" = c(\"strf_padding\", \"post_padding\"), \n",
    "                     \"architecture\" = c(\"only_denses\", \"only_denses\"))\n",
    "predict(lm_f1_task1_A, new_df)"
   ]
  },
  {
   "cell_type": "code",
   "execution_count": 106,
   "metadata": {},
   "outputs": [
    {
     "data": {
      "text/html": [
       "<dl class=dl-horizontal>\n",
       "\t<dt>1</dt>\n",
       "\t\t<dd>0.896029170426862</dd>\n",
       "\t<dt>2</dt>\n",
       "\t\t<dd>0.895191315633867</dd>\n",
       "</dl>\n"
      ],
      "text/latex": [
       "\\begin{description*}\n",
       "\\item[1] 0.896029170426862\n",
       "\\item[2] 0.895191315633867\n",
       "\\end{description*}\n"
      ],
      "text/markdown": [
       "1\n",
       ":   0.8960291704268622\n",
       ":   0.895191315633867\n",
       "\n"
      ],
      "text/plain": [
       "        1         2 \n",
       "0.8960292 0.8951913 "
      ]
     },
     "metadata": {},
     "output_type": "display_data"
    }
   ],
   "source": []
  },
  {
   "cell_type": "markdown",
   "metadata": {},
   "source": [
    "## B. What is the effect of switching between dense paddings?"
   ]
  },
  {
   "cell_type": "code",
   "execution_count": 20,
   "metadata": {},
   "outputs": [],
   "source": [
    "soa_arch <- c(\"stack_conv\")\n",
    "soa_pad <- c(\"post_padding\", \"pre_padding\", \"mid_padding\", \"ext_padding\")\n",
    "lm_f1_task1_B <- lm(equation2,\n",
    "                               data=subset(scores_task1_dcasted, architecture %in% soa_arch \n",
    "                                           & type_padding %in% soa_pad))"
   ]
  },
  {
   "cell_type": "code",
   "execution_count": 21,
   "metadata": {
    "scrolled": false
   },
   "outputs": [
    {
     "data": {
      "text/plain": [
       "\n",
       "Call:\n",
       "lm(formula = equation2, data = subset(scores_task1_dcasted, architecture %in% \n",
       "    soa_arch & type_padding %in% soa_pad))\n",
       "\n",
       "Residuals:\n",
       "      Min        1Q    Median        3Q       Max \n",
       "-0.080301 -0.009995  0.001617  0.015475  0.041790 \n",
       "\n",
       "Coefficients:\n",
       "                         Estimate Std. Error t value Pr(>|t|)    \n",
       "(Intercept)              0.876330   0.005811 150.802   <2e-16 ***\n",
       "enz_type1                0.005626   0.005198   1.082   0.2825    \n",
       "type_paddingext_padding -0.003933   0.007351  -0.535   0.5942    \n",
       "type_paddingmid_padding -0.005576   0.007351  -0.759   0.4505    \n",
       "type_paddingpre_padding -0.016601   0.007351  -2.258   0.0268 *  \n",
       "---\n",
       "Signif. codes:  0 ‘***’ 0.001 ‘**’ 0.01 ‘*’ 0.05 ‘.’ 0.1 ‘ ’ 1\n",
       "\n",
       "Residual standard error: 0.02324 on 75 degrees of freedom\n",
       "Multiple R-squared:  0.08299,\tAdjusted R-squared:  0.03409 \n",
       "F-statistic: 1.697 on 4 and 75 DF,  p-value: 0.1596\n"
      ]
     },
     "metadata": {},
     "output_type": "display_data"
    }
   ],
   "source": [
    "summary(lm_f1_task1_B)"
   ]
  },
  {
   "cell_type": "code",
   "execution_count": 22,
   "metadata": {},
   "outputs": [
    {
     "name": "stderr",
     "output_type": "stream",
     "text": [
      "Joining by: x1\n",
      "Joining by: x2\n",
      "Saving 6.67 x 6.67 in image\n"
     ]
    },
    {
     "data": {
      "image/png": "[encoded data removed]",
      "text/plain": [
       "plot without title"
      ]
     },
     "metadata": {},
     "output_type": "display_data"
    }
   ],
   "source": [
    "file_path <- paste0(absPath, \"data/results/\", task, \"linear_models_f1/\")\n",
    "\n",
    "g2_task1 = plot_coefs_inter(lm_f1_task1_B)\n",
    "g2_task1\n",
    "ggsave(\"B.eps\", device=\"eps\", path=file_path)\n"
   ]
  },
  {
   "cell_type": "code",
   "execution_count": 23,
   "metadata": {},
   "outputs": [],
   "source": [
    "B_df <- postproc_lm(lm_f1_task1_B)\n",
    "#sm2_df_proc <- separating_interactions(\"architecture\", \"type_padding\", sm2_df)"
   ]
  },
  {
   "cell_type": "code",
   "execution_count": 24,
   "metadata": {},
   "outputs": [],
   "source": [
    "# Dividing lm in representable tiles\n",
    "#arch_df_2 <- dividing_rownames(\"architecture\", sm2_df_proc$estimates_df)\n",
    "#enz_df_B <- dividing_rownames(\"enz_type\", sm2_df_proc$estimates_df)\n",
    "#pad_df_B <- dividing_rownames(\"type_padding\", sm2_df_proc$estimates_df)\n",
    "enz_df_B <- dividing_rownames(\"enz_type\", B_df)\n",
    "pad_df_B <- dividing_rownames(\"type_padding\", B_df)"
   ]
  },
  {
   "cell_type": "code",
   "execution_count": 25,
   "metadata": {},
   "outputs": [],
   "source": [
    "#options(repr.plot.width=2.5, repr.plot.height=3)\n",
    "#plotting_additive(\"architecture\", arch_df_2)"
   ]
  },
  {
   "cell_type": "code",
   "execution_count": 26,
   "metadata": {},
   "outputs": [],
   "source": [
    "#options(repr.plot.width=2.5, repr.plot.height=3)\n",
    "#plotting_additive(\"enz_type\", enz_df_2)"
   ]
  },
  {
   "cell_type": "code",
   "execution_count": 27,
   "metadata": {},
   "outputs": [],
   "source": [
    "#options(repr.plot.width=2.5, repr.plot.height=3)\n",
    "#plotting_additive(\"type_padding\", pad_df_2)"
   ]
  },
  {
   "cell_type": "code",
   "execution_count": 28,
   "metadata": {},
   "outputs": [],
   "source": [
    "#options(repr.plot.width=4, repr.plot.height=3)\n",
    "#plotting_interactions(sm2_df_proc)"
   ]
  },
  {
   "cell_type": "markdown",
   "metadata": {},
   "source": [
    "## C. What is the effect of changing from the standard dense padding to sparse padding?"
   ]
  },
  {
   "cell_type": "code",
   "execution_count": 29,
   "metadata": {},
   "outputs": [
    {
     "data": {
      "text/plain": [
       "\n",
       "Call:\n",
       "lm(formula = equation2, data = subset(scores_task1_dcasted, architecture %in% \n",
       "    soa_arch & type_padding %in% soa2_pad))\n",
       "\n",
       "Residuals:\n",
       "      Min        1Q    Median        3Q       Max \n",
       "-0.071659 -0.007650  0.001943  0.010807  0.034880 \n",
       "\n",
       "Coefficients:\n",
       "                          Estimate Std. Error t value Pr(>|t|)    \n",
       "(Intercept)               0.868249   0.004332 200.421  < 2e-16 ***\n",
       "enz_type1                 0.021787   0.003875   5.623 3.06e-07 ***\n",
       "type_paddingrnd_padding  -0.066916   0.005480 -12.211  < 2e-16 ***\n",
       "type_paddingstrf_padding -0.027942   0.005480  -5.099 2.48e-06 ***\n",
       "type_paddingzoom_padding -0.016820   0.005480  -3.070  0.00298 ** \n",
       "---\n",
       "Signif. codes:  0 ‘***’ 0.001 ‘**’ 0.01 ‘*’ 0.05 ‘.’ 0.1 ‘ ’ 1\n",
       "\n",
       "Residual standard error: 0.01733 on 75 degrees of freedom\n",
       "Multiple R-squared:  0.7202,\tAdjusted R-squared:  0.7053 \n",
       "F-statistic: 48.26 on 4 and 75 DF,  p-value: < 2.2e-16\n"
      ]
     },
     "metadata": {},
     "output_type": "display_data"
    }
   ],
   "source": [
    "# interactions non significant\n",
    "soa2_pad <- c(\"post_padding\", \"strf_padding\", \"rnd_padding\", \"zoom_padding\")\n",
    "lm_f1_task1_C <- lm(equation2, \n",
    "                               data=subset(scores_task1_dcasted, architecture %in% soa_arch \n",
    "                                           & type_padding %in% soa2_pad))\n",
    "summary(lm_f1_task1_C)"
   ]
  },
  {
   "cell_type": "code",
   "execution_count": 30,
   "metadata": {},
   "outputs": [
    {
     "name": "stderr",
     "output_type": "stream",
     "text": [
      "Joining by: x1\n",
      "Joining by: x2\n",
      "Saving 6.67 x 6.67 in image\n"
     ]
    },
    {
     "data": {
      "image/png": "[encoded data removed]",
      "text/plain": [
       "plot without title"
      ]
     },
     "metadata": {},
     "output_type": "display_data"
    }
   ],
   "source": [
    "file_path <- paste0(absPath, \"data/results/\", task, \"linear_models_f1/\")\n",
    "\n",
    "g3_task1 = plot_coefs_inter(lm_f1_task1_C)\n",
    "\n",
    "g3_task1\n",
    "ggsave(\"C.eps\", device=\"eps\", path=file_path)"
   ]
  },
  {
   "cell_type": "code",
   "execution_count": 31,
   "metadata": {},
   "outputs": [],
   "source": [
    "C_df <- postproc_lm(lm_f1_task1_C)\n",
    "#sm3_df_proc <- separating_interactions(\"architecture\", \"type_padding\", sm3_df)\n",
    "\n",
    "# Dividing lm in representable tiles\n",
    "enz_df_C <- dividing_rownames(\"enz_type\", C_df)\n",
    "pad_df_C <- dividing_rownames(\"type_padding\", C_df)\n",
    "#arch_df_3 <- dividing_rownames(\"architecture\", sm3_df_proc$estimates_df)\n",
    "#enz_df_3 <- dividing_rownames(\"enz_type\", sm3_df_proc$estimates_df)\n",
    "#pad_df_3 <- dividing_rownames(\"type_padding\", sm3_df_proc$estimates_df)"
   ]
  },
  {
   "cell_type": "code",
   "execution_count": 86,
   "metadata": {},
   "outputs": [
    {
     "data": {
      "text/html": [
       "<dl class=dl-horizontal>\n",
       "\t<dt>1</dt>\n",
       "\t\t<dd>0.84030697372453</dd>\n",
       "\t<dt>2</dt>\n",
       "\t\t<dd>0.801333359994236</dd>\n",
       "\t<dt>3</dt>\n",
       "\t\t<dd>0.851428955475148</dd>\n",
       "\t<dt>4</dt>\n",
       "\t\t<dd>0.868249238735088</dd>\n",
       "</dl>\n"
      ],
      "text/latex": [
       "\\begin{description*}\n",
       "\\item[1] 0.84030697372453\n",
       "\\item[2] 0.801333359994236\n",
       "\\item[3] 0.851428955475148\n",
       "\\item[4] 0.868249238735088\n",
       "\\end{description*}\n"
      ],
      "text/markdown": [
       "1\n",
       ":   0.840306973724532\n",
       ":   0.8013333599942363\n",
       ":   0.8514289554751484\n",
       ":   0.868249238735088\n",
       "\n"
      ],
      "text/plain": [
       "        1         2         3         4 \n",
       "0.8403070 0.8013334 0.8514290 0.8682492 "
      ]
     },
     "metadata": {},
     "output_type": "display_data"
    }
   ],
   "source": [
    "# comparison predictions\n",
    "new_df <- data.frame(\"enz_type\" = c(\"0\", \"0\", \"0\", \"0\"), \"type_padding\" = c(\"strf_padding\", \"rnd_padding\", \n",
    "                                                                            \"zoom_padding\", \"post_padding\"), \n",
    "                     \"architecture\" = c(\"stack_conv\", \"stack_conv\", \"stack_conv\", \"stack_conv\"))\n",
    "predict(lm_f1_task1_C, new_df)"
   ]
  },
  {
   "cell_type": "code",
   "execution_count": 32,
   "metadata": {},
   "outputs": [],
   "source": [
    "#options(repr.plot.width=2.5, repr.plot.height=3)\n",
    "#plotting_additive(\"architecture\", arch_df_3)"
   ]
  },
  {
   "cell_type": "code",
   "execution_count": 33,
   "metadata": {},
   "outputs": [],
   "source": [
    "#options(repr.plot.width=2.5, repr.plot.height=3)\n",
    "#plotting_additive(\"enz_type\", enz_df_3)"
   ]
  },
  {
   "cell_type": "code",
   "execution_count": 34,
   "metadata": {},
   "outputs": [],
   "source": [
    "#options(repr.plot.width=2.5, repr.plot.height=3)\n",
    "#plotting_additive(\"type_padding\", pad_df_3)"
   ]
  },
  {
   "cell_type": "code",
   "execution_count": 35,
   "metadata": {},
   "outputs": [],
   "source": [
    "#options(repr.plot.width=4, repr.plot.height=3)\n",
    "#plotting_interactions(sm3_df_proc)"
   ]
  },
  {
   "cell_type": "code",
   "execution_count": 36,
   "metadata": {},
   "outputs": [],
   "source": [
    "#options(repr.plot.width=2.5, repr.plot.height=3)\n",
    "#plotting_additive(\"enz_type\", enz_df_4)"
   ]
  },
  {
   "cell_type": "code",
   "execution_count": 37,
   "metadata": {},
   "outputs": [],
   "source": [
    "#options(repr.plot.width=2.5, repr.plot.height=3)\n",
    "#plotting_additive(\"type_padding\", pad_df_4)"
   ]
  },
  {
   "cell_type": "markdown",
   "metadata": {},
   "source": [
    "# D. Is an ensemble of paddings beneficial?"
   ]
  },
  {
   "cell_type": "code",
   "execution_count": 38,
   "metadata": {},
   "outputs": [
    {
     "data": {
      "text/plain": [
       "\n",
       "Call:\n",
       "lm(formula = equation3, data = subset(scores_task1_dcasted, type_padding %in% \n",
       "    soa_pad))\n",
       "\n",
       "Residuals:\n",
       "      Min        1Q    Median        3Q       Max \n",
       "-0.172396 -0.010122  0.002626  0.009788  0.056167 \n",
       "\n",
       "Coefficients:\n",
       "                                                  Estimate Std. Error t value\n",
       "(Intercept)                                       0.785555   0.005151 152.509\n",
       "architectureonly_denses                           0.109864   0.006911  15.898\n",
       "architecture1_conv                               -0.033960   0.006911  -4.914\n",
       "enz_type1                                         0.008935   0.003258   2.743\n",
       "type_paddingpost_padding                          0.089120   0.006911  12.896\n",
       "type_paddingstrf_padding                          0.061178   0.006911   8.853\n",
       "architectureonly_denses:type_paddingpost_padding -0.088927   0.009773  -9.099\n",
       "architecture1_conv:type_paddingpost_padding       0.027653   0.009773   2.830\n",
       "architectureonly_denses:type_paddingstrf_padding -0.030936   0.009773  -3.165\n",
       "architecture1_conv:type_paddingstrf_padding       0.050222   0.009773   5.139\n",
       "                                                 Pr(>|t|)    \n",
       "(Intercept)                                       < 2e-16 ***\n",
       "architectureonly_denses                           < 2e-16 ***\n",
       "architecture1_conv                               2.08e-06 ***\n",
       "enz_type1                                         0.00674 ** \n",
       "type_paddingpost_padding                          < 2e-16 ***\n",
       "type_paddingstrf_padding                         1.09e-15 ***\n",
       "architectureonly_denses:type_paddingpost_padding 2.38e-16 ***\n",
       "architecture1_conv:type_paddingpost_padding       0.00522 ** \n",
       "architectureonly_denses:type_paddingstrf_padding  0.00184 ** \n",
       "architecture1_conv:type_paddingstrf_padding      7.53e-07 ***\n",
       "---\n",
       "Signif. codes:  0 ‘***’ 0.001 ‘**’ 0.01 ‘*’ 0.05 ‘.’ 0.1 ‘ ’ 1\n",
       "\n",
       "Residual standard error: 0.02185 on 170 degrees of freedom\n",
       "Multiple R-squared:  0.8586,\tAdjusted R-squared:  0.8511 \n",
       "F-statistic: 114.7 on 9 and 170 DF,  p-value: < 2.2e-16\n"
      ]
     },
     "metadata": {},
     "output_type": "display_data"
    }
   ],
   "source": [
    "soa_pad <- c(\"post_padding\", \"strf_padding\", \"aug_padding\")\n",
    "#changing reference \n",
    "scores_task1_dcasted$architecture <- relevel(scores_task1_dcasted$architecture, \"stack_conv\")\n",
    "scores_task1_dcasted$type_padding <- relevel(scores_task1_dcasted$type_padding, \"aug_padding\")\n",
    "\n",
    "lm_f1_task1_D <- lm(equation3, data=subset(scores_task1_dcasted, \n",
    "                                           type_padding %in% soa_pad))\n",
    "summary(lm_f1_task1_D)"
   ]
  },
  {
   "cell_type": "code",
   "execution_count": 39,
   "metadata": {},
   "outputs": [
    {
     "name": "stderr",
     "output_type": "stream",
     "text": [
      "Joining by: x1\n",
      "Joining by: x2\n",
      "Saving 6.67 x 6.67 in image\n"
     ]
    },
    {
     "data": {
      "image/png": "[encoded data removed]",
      "text/plain": [
       "plot without title"
      ]
     },
     "metadata": {},
     "output_type": "display_data"
    }
   ],
   "source": [
    "file_path <- paste0(absPath, \"data/results/\", task, \"linear_models_f1/\")\n",
    "\n",
    "g5_task1 <- plot_coefs_inter(lm_f1_task1_D)\n",
    "g5_task1\n",
    "ggsave(\"D.eps\", device=\"eps\", path=file_path)\n"
   ]
  },
  {
   "cell_type": "code",
   "execution_count": 40,
   "metadata": {},
   "outputs": [],
   "source": [
    "D_df <- postproc_lm(lm_f1_task1_D)\n",
    "D_df_proc <- separating_interactions(\"architecture\", \"type_padding\", D_df)"
   ]
  },
  {
   "cell_type": "code",
   "execution_count": 41,
   "metadata": {
    "scrolled": true
   },
   "outputs": [],
   "source": [
    "# Dividing lm in representable tiles\n",
    "arch_df_D <- dividing_rownames(\"architecture\", D_df_proc$estimates_df)\n",
    "enz_df_D <- dividing_rownames(\"enz_type\", D_df_proc$estimates_df)\n",
    "pad_df_D <- dividing_rownames(\"type_padding\", D_df_proc$estimates_df)"
   ]
  },
  {
   "cell_type": "code",
   "execution_count": 90,
   "metadata": {},
   "outputs": [
    {
     "data": {
      "text/html": [
       "<dl class=dl-horizontal>\n",
       "\t<dt>1</dt>\n",
       "\t\t<dd>0.785555132774228</dd>\n",
       "\t<dt>2</dt>\n",
       "\t\t<dd>0.874675166566854</dd>\n",
       "\t<dt>3</dt>\n",
       "\t\t<dd>0.846732901556296</dd>\n",
       "</dl>\n"
      ],
      "text/latex": [
       "\\begin{description*}\n",
       "\\item[1] 0.785555132774228\n",
       "\\item[2] 0.874675166566854\n",
       "\\item[3] 0.846732901556296\n",
       "\\end{description*}\n"
      ],
      "text/markdown": [
       "1\n",
       ":   0.7855551327742282\n",
       ":   0.8746751665668543\n",
       ":   0.846732901556296\n",
       "\n"
      ],
      "text/plain": [
       "        1         2         3 \n",
       "0.7855551 0.8746752 0.8467329 "
      ]
     },
     "metadata": {},
     "output_type": "display_data"
    }
   ],
   "source": [
    "# comparison predictions\n",
    "new_df <- data.frame(\"enz_type\" = c(\"0\", \"0\", \"0\"), \"type_padding\" = c(\"aug_padding\", \"post_padding\", \n",
    "                                                                            \"strf_padding\"), \n",
    "                     \"architecture\" = c(\"stack_conv\", \"stack_conv\", \"stack_conv\"))\n",
    "predict(lm_f1_task1_D, new_df)"
   ]
  },
  {
   "cell_type": "code",
   "execution_count": 91,
   "metadata": {},
   "outputs": [
    {
     "data": {
      "text/html": [
       "<dl class=dl-horizontal>\n",
       "\t<dt>1</dt>\n",
       "\t\t<dd>0.785555132774228</dd>\n",
       "\t<dt>2</dt>\n",
       "\t\t<dd>0.751594746458151</dd>\n",
       "\t<dt>3</dt>\n",
       "\t\t<dd>0.89541875289636</dd>\n",
       "</dl>\n"
      ],
      "text/latex": [
       "\\begin{description*}\n",
       "\\item[1] 0.785555132774228\n",
       "\\item[2] 0.751594746458151\n",
       "\\item[3] 0.89541875289636\n",
       "\\end{description*}\n"
      ],
      "text/markdown": [
       "1\n",
       ":   0.7855551327742282\n",
       ":   0.7515947464581513\n",
       ":   0.89541875289636\n",
       "\n"
      ],
      "text/plain": [
       "        1         2         3 \n",
       "0.7855551 0.7515947 0.8954188 "
      ]
     },
     "metadata": {},
     "output_type": "display_data"
    }
   ],
   "source": [
    "new_df <- data.frame(\"enz_type\" = c(\"0\", \"0\", \"0\"), \"type_padding\" = c(\"aug_padding\", \"aug_padding\", \n",
    "                                                                            \"aug_padding\"), \n",
    "                     \"architecture\" = c(\"stack_conv\", \"1_conv\", \"only_denses\"))\n",
    "predict(lm_f1_task1_D, new_df)"
   ]
  },
  {
   "cell_type": "code",
   "execution_count": 92,
   "metadata": {},
   "outputs": [
    {
     "data": {
      "text/html": [
       "<dl class=dl-horizontal>\n",
       "\t<dt>1</dt>\n",
       "\t\t<dd>0.785555132774228</dd>\n",
       "\t<dt>2</dt>\n",
       "\t\t<dd>0.862994302525492</dd>\n",
       "\t<dt>3</dt>\n",
       "\t\t<dd>0.868368135975901</dd>\n",
       "</dl>\n"
      ],
      "text/latex": [
       "\\begin{description*}\n",
       "\\item[1] 0.785555132774228\n",
       "\\item[2] 0.862994302525492\n",
       "\\item[3] 0.868368135975901\n",
       "\\end{description*}\n"
      ],
      "text/markdown": [
       "1\n",
       ":   0.7855551327742282\n",
       ":   0.8629943025254923\n",
       ":   0.868368135975901\n",
       "\n"
      ],
      "text/plain": [
       "        1         2         3 \n",
       "0.7855551 0.8629943 0.8683681 "
      ]
     },
     "metadata": {},
     "output_type": "display_data"
    }
   ],
   "source": [
    "new_df <- data.frame(\"enz_type\" = c(\"0\", \"0\", \"0\"), \"type_padding\" = c(\"aug_padding\", \"strf_padding\", \n",
    "                                                                            \"post_padding\"), \n",
    "                     \"architecture\" = c(\"stack_conv\", \"1_conv\", \"1_conv\"))\n",
    "predict(lm_f1_task1_D, new_df)"
   ]
  },
  {
   "cell_type": "code",
   "execution_count": 95,
   "metadata": {},
   "outputs": [
    {
     "data": {
      "text/html": [
       "<dl class=dl-horizontal>\n",
       "\t<dt>1</dt>\n",
       "\t\t<dd>0.785555132774228</dd>\n",
       "\t<dt>2</dt>\n",
       "\t\t<dd>0.846732901556296</dd>\n",
       "\t<dt>3</dt>\n",
       "\t\t<dd>0.874675166566854</dd>\n",
       "\t<dt>4</dt>\n",
       "\t\t<dd>0.751594746458151</dd>\n",
       "\t<dt>5</dt>\n",
       "\t\t<dd>0.862994302525492</dd>\n",
       "\t<dt>6</dt>\n",
       "\t\t<dd>0.868368135975901</dd>\n",
       "</dl>\n"
      ],
      "text/latex": [
       "\\begin{description*}\n",
       "\\item[1] 0.785555132774228\n",
       "\\item[2] 0.846732901556296\n",
       "\\item[3] 0.874675166566854\n",
       "\\item[4] 0.751594746458151\n",
       "\\item[5] 0.862994302525492\n",
       "\\item[6] 0.868368135975901\n",
       "\\end{description*}\n"
      ],
      "text/markdown": [
       "1\n",
       ":   0.7855551327742282\n",
       ":   0.8467329015562963\n",
       ":   0.8746751665668544\n",
       ":   0.7515947464581515\n",
       ":   0.8629943025254926\n",
       ":   0.868368135975901\n",
       "\n"
      ],
      "text/plain": [
       "        1         2         3         4         5         6 \n",
       "0.7855551 0.8467329 0.8746752 0.7515947 0.8629943 0.8683681 "
      ]
     },
     "metadata": {},
     "output_type": "display_data"
    }
   ],
   "source": [
    "new_df <- data.frame(\"enz_type\" = c(\"0\", \"0\", \"0\", \"0\", \"0\", \"0\"), \"type_padding\" = c(\"aug_padding\", \"strf_padding\", \n",
    "                                                                            \"post_padding\", \"aug_padding\", \n",
    "                                                                       \"strf_padding\", \n",
    "                                                                            \"post_padding\"), \n",
    "                     \"architecture\" = c(\"stack_conv\", \"stack_conv\", \"stack_conv\", \"1_conv\", \"1_conv\", \"1_conv\"))\n",
    "predict(lm_f1_task1_D, new_df)"
   ]
  },
  {
   "cell_type": "code",
   "execution_count": 96,
   "metadata": {},
   "outputs": [
    {
     "data": {
      "text/html": [
       "<dl class=dl-horizontal>\n",
       "\t<dt>1</dt>\n",
       "\t\t<dd>0.785555132774228</dd>\n",
       "\t<dt>2</dt>\n",
       "\t\t<dd>0.846732901556296</dd>\n",
       "\t<dt>3</dt>\n",
       "\t\t<dd>0.874675166566854</dd>\n",
       "\t<dt>4</dt>\n",
       "\t\t<dd>0.89541875289636</dd>\n",
       "\t<dt>5</dt>\n",
       "\t\t<dd>0.925660890503565</dd>\n",
       "\t<dt>6</dt>\n",
       "\t\t<dd>0.895612217872477</dd>\n",
       "</dl>\n"
      ],
      "text/latex": [
       "\\begin{description*}\n",
       "\\item[1] 0.785555132774228\n",
       "\\item[2] 0.846732901556296\n",
       "\\item[3] 0.874675166566854\n",
       "\\item[4] 0.89541875289636\n",
       "\\item[5] 0.925660890503565\n",
       "\\item[6] 0.895612217872477\n",
       "\\end{description*}\n"
      ],
      "text/markdown": [
       "1\n",
       ":   0.7855551327742282\n",
       ":   0.8467329015562963\n",
       ":   0.8746751665668544\n",
       ":   0.895418752896365\n",
       ":   0.9256608905035656\n",
       ":   0.895612217872477\n",
       "\n"
      ],
      "text/plain": [
       "        1         2         3         4         5         6 \n",
       "0.7855551 0.8467329 0.8746752 0.8954188 0.9256609 0.8956122 "
      ]
     },
     "metadata": {},
     "output_type": "display_data"
    }
   ],
   "source": [
    "new_df <- data.frame(\"enz_type\" = c(\"0\", \"0\", \"0\", \"0\", \"0\", \"0\"), \"type_padding\" = c(\"aug_padding\", \"strf_padding\", \n",
    "                                                                            \"post_padding\", \"aug_padding\", \n",
    "                                                                       \"strf_padding\", \n",
    "                                                                            \"post_padding\"), \n",
    "                     \"architecture\" = c(\"stack_conv\", \"stack_conv\", \"stack_conv\", \"only_denses\", \"only_denses\", \n",
    "                                        \"only_denses\"))\n",
    "predict(lm_f1_task1_D, new_df)"
   ]
  },
  {
   "cell_type": "code",
   "execution_count": 42,
   "metadata": {},
   "outputs": [],
   "source": [
    "#options(repr.plot.width=2.5, repr.plot.height=3)\n",
    "#plotting_additive(\"architecture\", arch_df_5)"
   ]
  },
  {
   "cell_type": "code",
   "execution_count": 43,
   "metadata": {},
   "outputs": [],
   "source": [
    "#options(repr.plot.width=2.5, repr.plot.height=3)\n",
    "#plotting_additive(\"enz_type\", enz_df_5)"
   ]
  },
  {
   "cell_type": "code",
   "execution_count": 44,
   "metadata": {},
   "outputs": [],
   "source": [
    "#options(repr.plot.width=2.5, repr.plot.height=3)\n",
    "#plotting_additive(\"type_padding\", pad_df_5)"
   ]
  },
  {
   "cell_type": "code",
   "execution_count": 45,
   "metadata": {},
   "outputs": [],
   "source": [
    "#options(repr.plot.width=4, repr.plot.height=3)\n",
    "#plotting_interactions(sm5_df_proc)"
   ]
  },
  {
   "cell_type": "markdown",
   "metadata": {},
   "source": [
    "# E. How does enzyme type might affect differentlythe performances of some padding types?"
   ]
  },
  {
   "cell_type": "code",
   "execution_count": 46,
   "metadata": {},
   "outputs": [
    {
     "data": {
      "text/plain": [
       "\n",
       "Call:\n",
       "lm(formula = equation4, data = subset(scores_task1_dcasted, type_padding %in% \n",
       "    soa_pad))\n",
       "\n",
       "Residuals:\n",
       "      Min        1Q    Median        3Q       Max \n",
       "-0.051774 -0.009807 -0.000451  0.011532  0.046835 \n",
       "\n",
       "Coefficients:\n",
       "                                    Estimate Std. Error t value Pr(>|t|)    \n",
       "(Intercept)                         0.861281   0.004159 207.088   <2e-16 ***\n",
       "architectureonly_denses             0.049933   0.004159  12.006   <2e-16 ***\n",
       "architecture1_conv                  0.004977   0.004159   1.197   0.2339    \n",
       "enz_type1                           0.008870   0.004802   1.847   0.0673 .  \n",
       "type_paddingstrf_padding           -0.005928   0.004802  -1.234   0.2196    \n",
       "enz_type1:type_paddingstrf_padding  0.009678   0.006792   1.425   0.1569    \n",
       "---\n",
       "Signif. codes:  0 ‘***’ 0.001 ‘**’ 0.01 ‘*’ 0.05 ‘.’ 0.1 ‘ ’ 1\n",
       "\n",
       "Residual standard error: 0.0186 on 114 degrees of freedom\n",
       "Multiple R-squared:  0.6291,\tAdjusted R-squared:  0.6128 \n",
       "F-statistic: 38.67 on 5 and 114 DF,  p-value: < 2.2e-16\n"
      ]
     },
     "metadata": {},
     "output_type": "display_data"
    }
   ],
   "source": [
    "soa_pad <- c(\"post_padding\", \"strf_padding\")\n",
    "#scores_task1_dcasted_aug <- scores_task1_dcasted\n",
    "#changing reference\n",
    "scores_task1_dcasted$type_padding <- relevel(scores_task1_dcasted$type_padding, \"post_padding\")\n",
    "\n",
    "lm_f1_task1_E <- lm(equation4, data=subset(scores_task1_dcasted, type_padding %in% soa_pad))\n",
    "summary(lm_f1_task1_E)"
   ]
  },
  {
   "cell_type": "code",
   "execution_count": 47,
   "metadata": {},
   "outputs": [
    {
     "name": "stderr",
     "output_type": "stream",
     "text": [
      "Joining by: x1\n",
      "Joining by: x2\n",
      "Saving 6.67 x 6.67 in image\n"
     ]
    },
    {
     "data": {
      "image/png": "[encoded data removed]",
      "text/plain": [
       "plot without title"
      ]
     },
     "metadata": {},
     "output_type": "display_data"
    }
   ],
   "source": [
    "file_path <- paste0(absPath, \"data/results/\", task, \"linear_models_f1/\")\n",
    "\n",
    "g6_task1 <- plot_coefs_inter(lm_f1_task1_E)\n",
    "g6_task1\n",
    "ggsave(\"E.eps\", device=\"eps\", path=file_path)"
   ]
  },
  {
   "cell_type": "code",
   "execution_count": 48,
   "metadata": {},
   "outputs": [],
   "source": [
    "E_df <- postproc_lm(lm_f1_task1_E)\n",
    "E_df_proc <- separating_interactions(\"architecture\", \"type_padding\", E_df)"
   ]
  },
  {
   "cell_type": "code",
   "execution_count": 49,
   "metadata": {},
   "outputs": [],
   "source": [
    "# Dividing lm in representable tiles\n",
    "arch_df_E <- dividing_rownames(\"architecture\", E_df_proc$estimates_df)\n",
    "enz_df_E <- dividing_rownames(\"enz_type\", E_df_proc$estimates_df)\n",
    "pad_df_E <- dividing_rownames(\"type_padding\", E_df_proc$estimates_df)"
   ]
  },
  {
   "cell_type": "markdown",
   "metadata": {},
   "source": [
    "## ESTA ULTIMA NO ES NECESARIA, SOLO TIENE SENTIDO PARA TASK 2"
   ]
  },
  {
   "cell_type": "code",
   "execution_count": 50,
   "metadata": {},
   "outputs": [],
   "source": [
    "#options(repr.plot.width=2.5, repr.plot.height=3)\n",
    "#plotting_additive(\"architecture\", arch_df_6)"
   ]
  },
  {
   "cell_type": "code",
   "execution_count": 51,
   "metadata": {},
   "outputs": [],
   "source": [
    "#options(repr.plot.width=2.5, repr.plot.height=3)\n",
    "#plotting_additive(\"type_padding\", pad_df_6)"
   ]
  },
  {
   "cell_type": "code",
   "execution_count": 52,
   "metadata": {},
   "outputs": [],
   "source": [
    "#options(repr.plot.width=2.5, repr.plot.height=3)\n",
    "#plotting_additive(\"enz_type\", enz_df_6)"
   ]
  },
  {
   "cell_type": "code",
   "execution_count": 53,
   "metadata": {},
   "outputs": [],
   "source": [
    "#options(repr.plot.width=4, repr.plot.height=3)\n",
    "#plotting_interactions(sm6_df_proc)"
   ]
  },
  {
   "cell_type": "markdown",
   "metadata": {},
   "source": [
    "# Task 2"
   ]
  },
  {
   "cell_type": "code",
   "execution_count": 54,
   "metadata": {},
   "outputs": [],
   "source": [
    "task <- \"task2/\"\n",
    "\n",
    "path_scores_task2 <- paste0(absPath, \"data/results/\", task, file_scores)\n",
    "#path_accu_task2 <- paste0(absPath, \"data/results/\", task, file_accuracy)\n",
    "\n",
    "scores_task2 <- read.csv(file=path_scores_task2, header=TRUE, sep=\",\")\n",
    "#accu_task2 <- read.csv(file=path_accu_task2, header=TRUE, sep=\",\")"
   ]
  },
  {
   "cell_type": "markdown",
   "metadata": {},
   "source": [
    "## Scores"
   ]
  },
  {
   "cell_type": "code",
   "execution_count": 55,
   "metadata": {},
   "outputs": [
    {
     "data": {
      "text/html": [
       "<table>\n",
       "<caption>A data.frame: 5 x 7</caption>\n",
       "<thead>\n",
       "\t<tr><th scope=col>X</th><th scope=col>enz_type</th><th scope=col>index</th><th scope=col>type_padding</th><th scope=col>architecture</th><th scope=col>variable</th><th scope=col>value</th></tr>\n",
       "\t<tr><th scope=col>&lt;int&gt;</th><th scope=col>&lt;fct&gt;</th><th scope=col>&lt;int&gt;</th><th scope=col>&lt;fct&gt;</th><th scope=col>&lt;fct&gt;</th><th scope=col>&lt;fct&gt;</th><th scope=col>&lt;dbl&gt;</th></tr>\n",
       "</thead>\n",
       "<tbody>\n",
       "\t<tr><td>0</td><td>1</td><td>0</td><td>post_padding</td><td>1_conv</td><td>f1-score</td><td>0.4609665</td></tr>\n",
       "\t<tr><td>1</td><td>2</td><td>0</td><td>post_padding</td><td>1_conv</td><td>f1-score</td><td>0.6056475</td></tr>\n",
       "\t<tr><td>2</td><td>3</td><td>0</td><td>post_padding</td><td>1_conv</td><td>f1-score</td><td>0.5493562</td></tr>\n",
       "\t<tr><td>3</td><td>4</td><td>0</td><td>post_padding</td><td>1_conv</td><td>f1-score</td><td>0.4986877</td></tr>\n",
       "\t<tr><td>4</td><td>5</td><td>0</td><td>post_padding</td><td>1_conv</td><td>f1-score</td><td>0.6060606</td></tr>\n",
       "</tbody>\n",
       "</table>\n"
      ],
      "text/latex": [
       "A data.frame: 5 x 7\n",
       "\\begin{tabular}{r|lllllll}\n",
       " X & enz\\_type & index & type\\_padding & architecture & variable & value\\\\\n",
       " <int> & <fct> & <int> & <fct> & <fct> & <fct> & <dbl>\\\\\n",
       "\\hline\n",
       "\t 0 & 1 & 0 & post\\_padding & 1\\_conv & f1-score & 0.4609665\\\\\n",
       "\t 1 & 2 & 0 & post\\_padding & 1\\_conv & f1-score & 0.6056475\\\\\n",
       "\t 2 & 3 & 0 & post\\_padding & 1\\_conv & f1-score & 0.5493562\\\\\n",
       "\t 3 & 4 & 0 & post\\_padding & 1\\_conv & f1-score & 0.4986877\\\\\n",
       "\t 4 & 5 & 0 & post\\_padding & 1\\_conv & f1-score & 0.6060606\\\\\n",
       "\\end{tabular}\n"
      ],
      "text/markdown": [
       "\n",
       "A data.frame: 5 x 7\n",
       "\n",
       "| X &lt;int&gt; | enz_type &lt;fct&gt; | index &lt;int&gt; | type_padding &lt;fct&gt; | architecture &lt;fct&gt; | variable &lt;fct&gt; | value &lt;dbl&gt; |\n",
       "|---|---|---|---|---|---|---|\n",
       "| 0 | 1 | 0 | post_padding | 1_conv | f1-score | 0.4609665 |\n",
       "| 1 | 2 | 0 | post_padding | 1_conv | f1-score | 0.6056475 |\n",
       "| 2 | 3 | 0 | post_padding | 1_conv | f1-score | 0.5493562 |\n",
       "| 3 | 4 | 0 | post_padding | 1_conv | f1-score | 0.4986877 |\n",
       "| 4 | 5 | 0 | post_padding | 1_conv | f1-score | 0.6060606 |\n",
       "\n"
      ],
      "text/plain": [
       "  X enz_type index type_padding architecture variable value    \n",
       "1 0 1        0     post_padding 1_conv       f1-score 0.4609665\n",
       "2 1 2        0     post_padding 1_conv       f1-score 0.6056475\n",
       "3 2 3        0     post_padding 1_conv       f1-score 0.5493562\n",
       "4 3 4        0     post_padding 1_conv       f1-score 0.4986877\n",
       "5 4 5        0     post_padding 1_conv       f1-score 0.6060606"
      ]
     },
     "metadata": {},
     "output_type": "display_data"
    },
    {
     "data": {
      "text/html": [
       "<ol class=list-inline>\n",
       "\t<li>7200</li>\n",
       "\t<li>7</li>\n",
       "</ol>\n"
      ],
      "text/latex": [
       "\\begin{enumerate*}\n",
       "\\item 7200\n",
       "\\item 7\n",
       "\\end{enumerate*}\n"
      ],
      "text/markdown": [
       "1. 7200\n",
       "2. 7\n",
       "\n",
       "\n"
      ],
      "text/plain": [
       "[1] 7200    7"
      ]
     },
     "metadata": {},
     "output_type": "display_data"
    },
    {
     "data": {
      "text/html": [
       "<ol class=list-inline>\n",
       "\t<li>5040</li>\n",
       "\t<li>6</li>\n",
       "</ol>\n"
      ],
      "text/latex": [
       "\\begin{enumerate*}\n",
       "\\item 5040\n",
       "\\item 6\n",
       "\\end{enumerate*}\n"
      ],
      "text/markdown": [
       "1. 5040\n",
       "2. 6\n",
       "\n",
       "\n"
      ],
      "text/plain": [
       "[1] 5040    6"
      ]
     },
     "metadata": {},
     "output_type": "display_data"
    },
    {
     "data": {
      "text/html": [
       "<dl class=dl-horizontal>\n",
       "\t<dt>enz_type</dt>\n",
       "\t\t<dd>'factor'</dd>\n",
       "\t<dt>index</dt>\n",
       "\t\t<dd>'integer'</dd>\n",
       "\t<dt>type_padding</dt>\n",
       "\t\t<dd>'factor'</dd>\n",
       "\t<dt>architecture</dt>\n",
       "\t\t<dd>'factor'</dd>\n",
       "\t<dt>variable</dt>\n",
       "\t\t<dd>'factor'</dd>\n",
       "\t<dt>value</dt>\n",
       "\t\t<dd>'numeric'</dd>\n",
       "</dl>\n"
      ],
      "text/latex": [
       "\\begin{description*}\n",
       "\\item[enz\\textbackslash{}\\_type] 'factor'\n",
       "\\item[index] 'integer'\n",
       "\\item[type\\textbackslash{}\\_padding] 'factor'\n",
       "\\item[architecture] 'factor'\n",
       "\\item[variable] 'factor'\n",
       "\\item[value] 'numeric'\n",
       "\\end{description*}\n"
      ],
      "text/markdown": [
       "enz_type\n",
       ":   'factor'index\n",
       ":   'integer'type_padding\n",
       ":   'factor'architecture\n",
       ":   'factor'variable\n",
       ":   'factor'value\n",
       ":   'numeric'\n",
       "\n"
      ],
      "text/plain": [
       "    enz_type        index type_padding architecture     variable        value \n",
       "    \"factor\"    \"integer\"     \"factor\"     \"factor\"     \"factor\"    \"numeric\" "
      ]
     },
     "metadata": {},
     "output_type": "display_data"
    },
    {
     "data": {
      "text/html": [
       "<table>\n",
       "<caption>A data.frame: 5 x 7</caption>\n",
       "<thead>\n",
       "\t<tr><th scope=col>enz_type</th><th scope=col>index</th><th scope=col>type_padding</th><th scope=col>architecture</th><th scope=col>f1_score</th><th scope=col>precision</th><th scope=col>recall</th></tr>\n",
       "\t<tr><th scope=col>&lt;fct&gt;</th><th scope=col>&lt;int&gt;</th><th scope=col>&lt;fct&gt;</th><th scope=col>&lt;fct&gt;</th><th scope=col>&lt;dbl&gt;</th><th scope=col>&lt;dbl&gt;</th><th scope=col>&lt;dbl&gt;</th></tr>\n",
       "</thead>\n",
       "<tbody>\n",
       "\t<tr><td>1</td><td>0</td><td>aug_padding</td><td>1_conv     </td><td>0.4514306</td><td>0.4031546</td><td>0.5128411</td></tr>\n",
       "\t<tr><td>1</td><td>0</td><td>aug_padding</td><td>only_denses</td><td>0.4247295</td><td>0.3453997</td><td>0.5513644</td></tr>\n",
       "\t<tr><td>1</td><td>0</td><td>aug_padding</td><td>stack_conv </td><td>0.4891587</td><td>0.5320755</td><td>0.4526485</td></tr>\n",
       "\t<tr><td>1</td><td>0</td><td>ext_padding</td><td>1_conv     </td><td>0.3833866</td><td>0.2678571</td><td>0.6741573</td></tr>\n",
       "\t<tr><td>1</td><td>0</td><td>ext_padding</td><td>only_denses</td><td>0.5026738</td><td>0.4795918</td><td>0.5280899</td></tr>\n",
       "</tbody>\n",
       "</table>\n"
      ],
      "text/latex": [
       "A data.frame: 5 x 7\n",
       "\\begin{tabular}{r|lllllll}\n",
       " enz\\_type & index & type\\_padding & architecture & f1\\_score & precision & recall\\\\\n",
       " <fct> & <int> & <fct> & <fct> & <dbl> & <dbl> & <dbl>\\\\\n",
       "\\hline\n",
       "\t 1 & 0 & aug\\_padding & 1\\_conv      & 0.4514306 & 0.4031546 & 0.5128411\\\\\n",
       "\t 1 & 0 & aug\\_padding & only\\_denses & 0.4247295 & 0.3453997 & 0.5513644\\\\\n",
       "\t 1 & 0 & aug\\_padding & stack\\_conv  & 0.4891587 & 0.5320755 & 0.4526485\\\\\n",
       "\t 1 & 0 & ext\\_padding & 1\\_conv      & 0.3833866 & 0.2678571 & 0.6741573\\\\\n",
       "\t 1 & 0 & ext\\_padding & only\\_denses & 0.5026738 & 0.4795918 & 0.5280899\\\\\n",
       "\\end{tabular}\n"
      ],
      "text/markdown": [
       "\n",
       "A data.frame: 5 x 7\n",
       "\n",
       "| enz_type &lt;fct&gt; | index &lt;int&gt; | type_padding &lt;fct&gt; | architecture &lt;fct&gt; | f1_score &lt;dbl&gt; | precision &lt;dbl&gt; | recall &lt;dbl&gt; |\n",
       "|---|---|---|---|---|---|---|\n",
       "| 1 | 0 | aug_padding | 1_conv      | 0.4514306 | 0.4031546 | 0.5128411 |\n",
       "| 1 | 0 | aug_padding | only_denses | 0.4247295 | 0.3453997 | 0.5513644 |\n",
       "| 1 | 0 | aug_padding | stack_conv  | 0.4891587 | 0.5320755 | 0.4526485 |\n",
       "| 1 | 0 | ext_padding | 1_conv      | 0.3833866 | 0.2678571 | 0.6741573 |\n",
       "| 1 | 0 | ext_padding | only_denses | 0.5026738 | 0.4795918 | 0.5280899 |\n",
       "\n"
      ],
      "text/plain": [
       "  enz_type index type_padding architecture f1_score  precision recall   \n",
       "1 1        0     aug_padding  1_conv       0.4514306 0.4031546 0.5128411\n",
       "2 1        0     aug_padding  only_denses  0.4247295 0.3453997 0.5513644\n",
       "3 1        0     aug_padding  stack_conv   0.4891587 0.5320755 0.4526485\n",
       "4 1        0     ext_padding  1_conv       0.3833866 0.2678571 0.6741573\n",
       "5 1        0     ext_padding  only_denses  0.5026738 0.4795918 0.5280899"
      ]
     },
     "metadata": {},
     "output_type": "display_data"
    }
   ],
   "source": [
    "scores_task2[0:5,]\n",
    "dim(scores_task2)\n",
    "scores_task2$X <- NULL\n",
    "\n",
    "#filtering \n",
    "scores_task2 <- scores_task2[scores_task2$enz_type %in% c(1,2,3,4,5,6,7),]\n",
    "dim(scores_task2)\n",
    "sapply(scores_task2, class)\n",
    "\n",
    "# habria que hacer un unmelt de variable-value\n",
    "scores_task2_dcasted <- dcast(data = scores_task2, formula = enz_type+index+type_padding+architecture~variable,\n",
    "                              fun.aggregate = sum,value.var = \"value\")\n",
    "\n",
    "#tengo que cambiar el nombre de f1-score\n",
    "colnames(scores_task2_dcasted) <- c(\"enz_type\", \"index\", \"type_padding\", \"architecture\", \"f1_score\",\n",
    "                                    \"precision\", \"recall\")\n",
    "scores_task2_dcasted[0:5,]"
   ]
  },
  {
   "cell_type": "markdown",
   "metadata": {},
   "source": [
    "# 0.Full additive model"
   ]
  },
  {
   "cell_type": "markdown",
   "metadata": {},
   "source": [
    "## changing reference values"
   ]
  },
  {
   "cell_type": "code",
   "execution_count": 56,
   "metadata": {},
   "outputs": [],
   "source": [
    "scores_task2_dcasted$architecture <- relevel(scores_task2_dcasted$architecture, \"only_denses\")\n",
    "scores_task2_dcasted$type_padding <- relevel(scores_task2_dcasted$type_padding, \"post_padding\")"
   ]
  },
  {
   "cell_type": "code",
   "execution_count": 57,
   "metadata": {},
   "outputs": [
    {
     "data": {
      "text/plain": [
       "\n",
       "Call:\n",
       "lm(formula = equation1, data = scores_task2_dcasted)\n",
       "\n",
       "Residuals:\n",
       "     Min       1Q   Median       3Q      Max \n",
       "-0.54382 -0.03001 -0.00083  0.03148  0.37667 \n",
       "\n",
       "Coefficients:\n",
       "                          Estimate Std. Error t value Pr(>|t|)    \n",
       "(Intercept)               0.443785   0.008134  54.560  < 2e-16 ***\n",
       "architecture1_conv        0.020686   0.004981   4.153 3.45e-05 ***\n",
       "architecturestack_conv    0.010155   0.004981   2.039   0.0416 *  \n",
       "enz_type2                 0.167146   0.007609  21.968  < 2e-16 ***\n",
       "enz_type3                 0.096535   0.007609  12.688  < 2e-16 ***\n",
       "enz_type4                 0.008054   0.007609   1.059   0.2900    \n",
       "enz_type5                 0.167209   0.007609  21.976  < 2e-16 ***\n",
       "enz_type6                 0.044160   0.007609   5.804 7.74e-09 ***\n",
       "enz_type7                 0.100034   0.007609  13.147  < 2e-16 ***\n",
       "type_paddingaug_padding  -0.013552   0.008134  -1.666   0.0959 .  \n",
       "type_paddingext_padding   0.008233   0.008134   1.012   0.3116    \n",
       "type_paddingmid_padding   0.015369   0.008134   1.890   0.0590 .  \n",
       "type_paddingpre_padding  -0.001101   0.008134  -0.135   0.8923    \n",
       "type_paddingrnd_padding  -0.085388   0.008134 -10.498  < 2e-16 ***\n",
       "type_paddingstrf_padding  0.011136   0.008134   1.369   0.1712    \n",
       "type_paddingzoom_padding -0.032849   0.008134  -4.039 5.62e-05 ***\n",
       "---\n",
       "Signif. codes:  0 ‘***’ 0.001 ‘**’ 0.01 ‘*’ 0.05 ‘.’ 0.1 ‘ ’ 1\n",
       "\n",
       "Residual standard error: 0.08335 on 1664 degrees of freedom\n",
       "Multiple R-squared:  0.4275,\tAdjusted R-squared:  0.4223 \n",
       "F-statistic: 82.83 on 15 and 1664 DF,  p-value: < 2.2e-16\n"
      ]
     },
     "metadata": {},
     "output_type": "display_data"
    }
   ],
   "source": [
    "lm_f1_task2_additive <- lm(equation1, data=scores_task2_dcasted)\n",
    "\n",
    "summary(lm_f1_task2_additive)"
   ]
  },
  {
   "cell_type": "code",
   "execution_count": 58,
   "metadata": {},
   "outputs": [
    {
     "name": "stderr",
     "output_type": "stream",
     "text": [
      "Joining by: x1\n",
      "Joining by: x2\n",
      "Saving 6.67 x 6.67 in image\n"
     ]
    },
    {
     "data": {
      "image/png": "[encoded data removed]",
      "text/plain": [
       "plot without title"
      ]
     },
     "metadata": {},
     "output_type": "display_data"
    }
   ],
   "source": [
    "file_path <- paste0(absPath, \"data/results/\", task, \"linear_models_f1/\")\n",
    "\n",
    "g1_task2 <- plot_coefs_inter(lm_f1_task2_additive)\n",
    "g1_task2\n",
    "\n",
    "ggsave(\"full_additive.eps\", device=\"eps\", path=file_path)"
   ]
  },
  {
   "cell_type": "code",
   "execution_count": 59,
   "metadata": {},
   "outputs": [
    {
     "data": {
      "text/html": [
       "<table>\n",
       "<caption>A data.frame: 16 x 5</caption>\n",
       "<thead>\n",
       "\t<tr><th></th><th scope=col>Estimate</th><th scope=col>Std.Error</th><th scope=col>t.value</th><th scope=col>p_val</th><th scope=col>p_adjusted</th></tr>\n",
       "\t<tr><th></th><th scope=col>&lt;dbl&gt;</th><th scope=col>&lt;dbl&gt;</th><th scope=col>&lt;dbl&gt;</th><th scope=col>&lt;dbl&gt;</th><th scope=col>&lt;dbl&gt;</th></tr>\n",
       "</thead>\n",
       "<tbody>\n",
       "\t<tr><th scope=row>(Intercept)</th><td> 0.443784919</td><td>0.008133927</td><td> 54.5597404</td><td>0.000000e+00</td><td>0.000000e+00</td></tr>\n",
       "\t<tr><th scope=row>architecture1_conv</th><td> 0.020686433</td><td>0.004980992</td><td>  4.1530746</td><td>3.446647e-05</td><td>6.893294e-05</td></tr>\n",
       "\t<tr><th scope=row>architecturestack_conv</th><td> 0.010155471</td><td>0.004980992</td><td>  2.0388450</td><td>4.162326e-02</td><td>6.659721e-02</td></tr>\n",
       "\t<tr><th scope=row>enz_type2</th><td> 0.167146063</td><td>0.007608592</td><td> 21.9680688</td><td>3.960775e-94</td><td>2.112414e-93</td></tr>\n",
       "\t<tr><th scope=row>enz_type3</th><td> 0.096534757</td><td>0.007608592</td><td> 12.6875987</td><td>2.816229e-35</td><td>9.011931e-35</td></tr>\n",
       "\t<tr><th scope=row>enz_type4</th><td> 0.008054171</td><td>0.007608592</td><td>  1.0585626</td><td>2.899527e-01</td><td>3.313745e-01</td></tr>\n",
       "\t<tr><th scope=row>enz_type5</th><td> 0.167209427</td><td>0.007608592</td><td> 21.9763968</td><td>3.436019e-94</td><td>2.112414e-93</td></tr>\n",
       "\t<tr><th scope=row>enz_type6</th><td> 0.044159634</td><td>0.007608592</td><td>  5.8039170</td><td>7.741350e-09</td><td>1.769452e-08</td></tr>\n",
       "\t<tr><th scope=row>enz_type7</th><td> 0.100033559</td><td>0.007608592</td><td> 13.1474477</td><td>1.233710e-37</td><td>4.934840e-37</td></tr>\n",
       "\t<tr><th scope=row>type_paddingaug_padding</th><td>-0.013552132</td><td>0.008133927</td><td> -1.6661242</td><td>9.587689e-02</td><td>1.278359e-01</td></tr>\n",
       "\t<tr><th scope=row>type_paddingext_padding</th><td> 0.008233417</td><td>0.008133927</td><td>  1.0122316</td><td>3.115745e-01</td><td>3.323461e-01</td></tr>\n",
       "\t<tr><th scope=row>type_paddingmid_padding</th><td> 0.015369266</td><td>0.008133927</td><td>  1.8895261</td><td>5.899507e-02</td><td>8.581101e-02</td></tr>\n",
       "\t<tr><th scope=row>type_paddingpre_padding</th><td>-0.001101249</td><td>0.008133927</td><td> -0.1353896</td><td>8.923202e-01</td><td>8.923202e-01</td></tr>\n",
       "\t<tr><th scope=row>type_paddingrnd_padding</th><td>-0.085387677</td><td>0.008133927</td><td>-10.4977193</td><td>5.246211e-25</td><td>1.398990e-24</td></tr>\n",
       "\t<tr><th scope=row>type_paddingstrf_padding</th><td> 0.011136106</td><td>0.008133927</td><td>  1.3690935</td><td>1.711548e-01</td><td>2.106521e-01</td></tr>\n",
       "\t<tr><th scope=row>type_paddingzoom_padding</th><td>-0.032849026</td><td>0.008133927</td><td> -4.0385201</td><td>5.623620e-05</td><td>9.997546e-05</td></tr>\n",
       "</tbody>\n",
       "</table>\n"
      ],
      "text/latex": [
       "A data.frame: 16 x 5\n",
       "\\begin{tabular}{r|lllll}\n",
       "  & Estimate & Std.Error & t.value & p\\_val & p\\_adjusted\\\\\n",
       "  & <dbl> & <dbl> & <dbl> & <dbl> & <dbl>\\\\\n",
       "\\hline\n",
       "\t(Intercept) &  0.443784919 & 0.008133927 &  54.5597404 & 0.000000e+00 & 0.000000e+00\\\\\n",
       "\tarchitecture1\\_conv &  0.020686433 & 0.004980992 &   4.1530746 & 3.446647e-05 & 6.893294e-05\\\\\n",
       "\tarchitecturestack\\_conv &  0.010155471 & 0.004980992 &   2.0388450 & 4.162326e-02 & 6.659721e-02\\\\\n",
       "\tenz\\_type2 &  0.167146063 & 0.007608592 &  21.9680688 & 3.960775e-94 & 2.112414e-93\\\\\n",
       "\tenz\\_type3 &  0.096534757 & 0.007608592 &  12.6875987 & 2.816229e-35 & 9.011931e-35\\\\\n",
       "\tenz\\_type4 &  0.008054171 & 0.007608592 &   1.0585626 & 2.899527e-01 & 3.313745e-01\\\\\n",
       "\tenz\\_type5 &  0.167209427 & 0.007608592 &  21.9763968 & 3.436019e-94 & 2.112414e-93\\\\\n",
       "\tenz\\_type6 &  0.044159634 & 0.007608592 &   5.8039170 & 7.741350e-09 & 1.769452e-08\\\\\n",
       "\tenz\\_type7 &  0.100033559 & 0.007608592 &  13.1474477 & 1.233710e-37 & 4.934840e-37\\\\\n",
       "\ttype\\_paddingaug\\_padding & -0.013552132 & 0.008133927 &  -1.6661242 & 9.587689e-02 & 1.278359e-01\\\\\n",
       "\ttype\\_paddingext\\_padding &  0.008233417 & 0.008133927 &   1.0122316 & 3.115745e-01 & 3.323461e-01\\\\\n",
       "\ttype\\_paddingmid\\_padding &  0.015369266 & 0.008133927 &   1.8895261 & 5.899507e-02 & 8.581101e-02\\\\\n",
       "\ttype\\_paddingpre\\_padding & -0.001101249 & 0.008133927 &  -0.1353896 & 8.923202e-01 & 8.923202e-01\\\\\n",
       "\ttype\\_paddingrnd\\_padding & -0.085387677 & 0.008133927 & -10.4977193 & 5.246211e-25 & 1.398990e-24\\\\\n",
       "\ttype\\_paddingstrf\\_padding &  0.011136106 & 0.008133927 &   1.3690935 & 1.711548e-01 & 2.106521e-01\\\\\n",
       "\ttype\\_paddingzoom\\_padding & -0.032849026 & 0.008133927 &  -4.0385201 & 5.623620e-05 & 9.997546e-05\\\\\n",
       "\\end{tabular}\n"
      ],
      "text/markdown": [
       "\n",
       "A data.frame: 16 x 5\n",
       "\n",
       "| <!--/--> | Estimate &lt;dbl&gt; | Std.Error &lt;dbl&gt; | t.value &lt;dbl&gt; | p_val &lt;dbl&gt; | p_adjusted &lt;dbl&gt; |\n",
       "|---|---|---|---|---|---|\n",
       "| (Intercept) |  0.443784919 | 0.008133927 |  54.5597404 | 0.000000e+00 | 0.000000e+00 |\n",
       "| architecture1_conv |  0.020686433 | 0.004980992 |   4.1530746 | 3.446647e-05 | 6.893294e-05 |\n",
       "| architecturestack_conv |  0.010155471 | 0.004980992 |   2.0388450 | 4.162326e-02 | 6.659721e-02 |\n",
       "| enz_type2 |  0.167146063 | 0.007608592 |  21.9680688 | 3.960775e-94 | 2.112414e-93 |\n",
       "| enz_type3 |  0.096534757 | 0.007608592 |  12.6875987 | 2.816229e-35 | 9.011931e-35 |\n",
       "| enz_type4 |  0.008054171 | 0.007608592 |   1.0585626 | 2.899527e-01 | 3.313745e-01 |\n",
       "| enz_type5 |  0.167209427 | 0.007608592 |  21.9763968 | 3.436019e-94 | 2.112414e-93 |\n",
       "| enz_type6 |  0.044159634 | 0.007608592 |   5.8039170 | 7.741350e-09 | 1.769452e-08 |\n",
       "| enz_type7 |  0.100033559 | 0.007608592 |  13.1474477 | 1.233710e-37 | 4.934840e-37 |\n",
       "| type_paddingaug_padding | -0.013552132 | 0.008133927 |  -1.6661242 | 9.587689e-02 | 1.278359e-01 |\n",
       "| type_paddingext_padding |  0.008233417 | 0.008133927 |   1.0122316 | 3.115745e-01 | 3.323461e-01 |\n",
       "| type_paddingmid_padding |  0.015369266 | 0.008133927 |   1.8895261 | 5.899507e-02 | 8.581101e-02 |\n",
       "| type_paddingpre_padding | -0.001101249 | 0.008133927 |  -0.1353896 | 8.923202e-01 | 8.923202e-01 |\n",
       "| type_paddingrnd_padding | -0.085387677 | 0.008133927 | -10.4977193 | 5.246211e-25 | 1.398990e-24 |\n",
       "| type_paddingstrf_padding |  0.011136106 | 0.008133927 |   1.3690935 | 1.711548e-01 | 2.106521e-01 |\n",
       "| type_paddingzoom_padding | -0.032849026 | 0.008133927 |  -4.0385201 | 5.623620e-05 | 9.997546e-05 |\n",
       "\n"
      ],
      "text/plain": [
       "                         Estimate     Std.Error   t.value     p_val       \n",
       "(Intercept)               0.443784919 0.008133927  54.5597404 0.000000e+00\n",
       "architecture1_conv        0.020686433 0.004980992   4.1530746 3.446647e-05\n",
       "architecturestack_conv    0.010155471 0.004980992   2.0388450 4.162326e-02\n",
       "enz_type2                 0.167146063 0.007608592  21.9680688 3.960775e-94\n",
       "enz_type3                 0.096534757 0.007608592  12.6875987 2.816229e-35\n",
       "enz_type4                 0.008054171 0.007608592   1.0585626 2.899527e-01\n",
       "enz_type5                 0.167209427 0.007608592  21.9763968 3.436019e-94\n",
       "enz_type6                 0.044159634 0.007608592   5.8039170 7.741350e-09\n",
       "enz_type7                 0.100033559 0.007608592  13.1474477 1.233710e-37\n",
       "type_paddingaug_padding  -0.013552132 0.008133927  -1.6661242 9.587689e-02\n",
       "type_paddingext_padding   0.008233417 0.008133927   1.0122316 3.115745e-01\n",
       "type_paddingmid_padding   0.015369266 0.008133927   1.8895261 5.899507e-02\n",
       "type_paddingpre_padding  -0.001101249 0.008133927  -0.1353896 8.923202e-01\n",
       "type_paddingrnd_padding  -0.085387677 0.008133927 -10.4977193 5.246211e-25\n",
       "type_paddingstrf_padding  0.011136106 0.008133927   1.3690935 1.711548e-01\n",
       "type_paddingzoom_padding -0.032849026 0.008133927  -4.0385201 5.623620e-05\n",
       "                         p_adjusted  \n",
       "(Intercept)              0.000000e+00\n",
       "architecture1_conv       6.893294e-05\n",
       "architecturestack_conv   6.659721e-02\n",
       "enz_type2                2.112414e-93\n",
       "enz_type3                9.011931e-35\n",
       "enz_type4                3.313745e-01\n",
       "enz_type5                2.112414e-93\n",
       "enz_type6                1.769452e-08\n",
       "enz_type7                4.934840e-37\n",
       "type_paddingaug_padding  1.278359e-01\n",
       "type_paddingext_padding  3.323461e-01\n",
       "type_paddingmid_padding  8.581101e-02\n",
       "type_paddingpre_padding  8.923202e-01\n",
       "type_paddingrnd_padding  1.398990e-24\n",
       "type_paddingstrf_padding 2.106521e-01\n",
       "type_paddingzoom_padding 9.997546e-05"
      ]
     },
     "metadata": {},
     "output_type": "display_data"
    }
   ],
   "source": [
    "df2_0 <- postproc_lm(lm_f1_task2_additive)\n",
    "df2_0\n",
    "\n",
    "# Dividing lm in representable tiles\n",
    "arch_df2_0 <- dividing_rownames(\"architecture\", df2_0)\n",
    "enz_df2_0 <- dividing_rownames(\"enz_type\", df2_0)\n",
    "pad_df2_0 <- dividing_rownames(\"type_padding\", df2_0)"
   ]
  },
  {
   "cell_type": "code",
   "execution_count": 105,
   "metadata": {},
   "outputs": [
    {
     "data": {
      "text/html": [
       "<dl class=dl-horizontal>\n",
       "\t<dt>1</dt>\n",
       "\t\t<dd>0.453940390350244</dd>\n",
       "\t<dt>2</dt>\n",
       "\t\t<dd>0.464471352069836</dd>\n",
       "\t<dt>3</dt>\n",
       "\t\t<dd>0.443784918923452</dd>\n",
       "</dl>\n"
      ],
      "text/latex": [
       "\\begin{description*}\n",
       "\\item[1] 0.453940390350244\n",
       "\\item[2] 0.464471352069836\n",
       "\\item[3] 0.443784918923452\n",
       "\\end{description*}\n"
      ],
      "text/markdown": [
       "1\n",
       ":   0.4539403903502442\n",
       ":   0.4644713520698363\n",
       ":   0.443784918923452\n",
       "\n"
      ],
      "text/plain": [
       "        1         2         3 \n",
       "0.4539404 0.4644714 0.4437849 "
      ]
     },
     "metadata": {},
     "output_type": "display_data"
    }
   ],
   "source": [
    "# comparison predictions\n",
    "new_df <- data.frame(\"enz_type\" = c(\"1\", \"1\", \"1\"), \n",
    "                     \"type_padding\" = c(\"post_padding\", \"post_padding\", \"post_padding\"), \n",
    "                     \"architecture\" = c(\"stack_conv\", \"1_conv\", \"only_denses\"))\n",
    "predict(lm_f1_task2_additive, new_df)"
   ]
  },
  {
   "cell_type": "code",
   "execution_count": 60,
   "metadata": {},
   "outputs": [],
   "source": [
    "#options(repr.plot.width=2.5, repr.plot.height=3)\n",
    "#plotting_additive(\"architecture\", arch_df2_1)"
   ]
  },
  {
   "cell_type": "code",
   "execution_count": 61,
   "metadata": {},
   "outputs": [],
   "source": [
    "#options(repr.plot.width=2.5, repr.plot.height=3)\n",
    "#plotting_additive(\"enz_type\", enz_df2_1)"
   ]
  },
  {
   "cell_type": "code",
   "execution_count": 62,
   "metadata": {},
   "outputs": [],
   "source": [
    "#options(repr.plot.width=2.5, repr.plot.height=3)\n",
    "#plotting_additive(\"type_padding\", pad_df2_1)"
   ]
  },
  {
   "cell_type": "markdown",
   "metadata": {},
   "source": [
    "# A. Does padding position affect performance?"
   ]
  },
  {
   "cell_type": "code",
   "execution_count": 63,
   "metadata": {},
   "outputs": [
    {
     "data": {
      "text/plain": [
       "\n",
       "Call:\n",
       "lm(formula = equation2, data = subset(scores_task2_dcasted, architecture %in% \n",
       "    soa_arch & type_padding %in% soa_pad))\n",
       "\n",
       "Residuals:\n",
       "     Min       1Q   Median       3Q      Max \n",
       "-0.49069 -0.03106 -0.00024  0.03885  0.41443 \n",
       "\n",
       "Coefficients:\n",
       "                          Estimate Std. Error t value Pr(>|t|)    \n",
       "(Intercept)               0.432488   0.016133  26.807  < 2e-16 ***\n",
       "enz_type2                 0.158877   0.016742   9.490  < 2e-16 ***\n",
       "enz_type3                 0.104954   0.016742   6.269 8.15e-10 ***\n",
       "enz_type4                 0.005896   0.016742   0.352  0.72488    \n",
       "enz_type5                 0.164581   0.016742   9.830  < 2e-16 ***\n",
       "enz_type6                 0.053596   0.016742   3.201  0.00146 ** \n",
       "enz_type7                 0.044887   0.016742   2.681  0.00759 ** \n",
       "type_paddingaug_padding   0.022692   0.016742   1.355  0.17594    \n",
       "type_paddingext_padding   0.033934   0.016742   2.027  0.04323 *  \n",
       "type_paddingmid_padding   0.033732   0.016742   2.015  0.04449 *  \n",
       "type_paddingpre_padding   0.032859   0.016742   1.963  0.05027 .  \n",
       "type_paddingstrf_padding  0.039813   0.016742   2.378  0.01780 *  \n",
       "type_paddingzoom_padding -0.053100   0.016742  -3.172  0.00161 ** \n",
       "---\n",
       "Signif. codes:  0 ‘***’ 0.001 ‘**’ 0.01 ‘*’ 0.05 ‘.’ 0.1 ‘ ’ 1\n",
       "\n",
       "Residual standard error: 0.09905 on 477 degrees of freedom\n",
       "Multiple R-squared:  0.3389,\tAdjusted R-squared:  0.3223 \n",
       "F-statistic: 20.38 on 12 and 477 DF,  p-value: < 2.2e-16\n"
      ]
     },
     "metadata": {},
     "output_type": "display_data"
    }
   ],
   "source": [
    "#choosing_levels\n",
    "soa_pad <- c(\"post_padding\", \"pre_padding\", \"mid_padding\", \"ext_padding\", \"ext_padding\", \"strf_padding\",\n",
    "            \"zoom_padding\", \"aug_padding\")\n",
    "soa_arch = c(\"only_denses\")\n",
    "lm_f1_task2_A <- lm(equation2, data=subset(scores_task2_dcasted, architecture %in% soa_arch & \n",
    "                                           type_padding %in% soa_pad))\n",
    "summary(lm_f1_task2_A)"
   ]
  },
  {
   "cell_type": "code",
   "execution_count": 64,
   "metadata": {},
   "outputs": [
    {
     "name": "stderr",
     "output_type": "stream",
     "text": [
      "Joining by: x1\n",
      "Joining by: x2\n",
      "Saving 6.67 x 6.67 in image\n"
     ]
    },
    {
     "data": {
      "image/png": "[encoded data removed]",
      "text/plain": [
       "plot without title"
      ]
     },
     "metadata": {},
     "output_type": "display_data"
    }
   ],
   "source": [
    "file_path <- paste0(absPath, \"data/results/\", task, \"linear_models_f1/\")\n",
    "\n",
    "g2_task2 <- plot_coefs_inter(lm_f1_task2_A)\n",
    "g2_task2\n",
    "\n",
    "ggsave(\"A.eps\", device=\"eps\", path=file_path)"
   ]
  },
  {
   "cell_type": "code",
   "execution_count": 65,
   "metadata": {},
   "outputs": [],
   "source": [
    "A_df2 <- postproc_lm(lm_f1_task2_A)\n",
    "#A_df2_proc <- separating_interactions(\"architecture\", \"type_padding\", sm2_df2)\n",
    "\n",
    "# Dividing lm in representable tiles\n",
    "#arch_df2_A <- dividing_rownames(\"architecture\", sm2_df2_proc$estimates_df)\n",
    "enz_df2_A <- dividing_rownames(\"enz_type\", A_df2)\n",
    "pad_df2_A <- dividing_rownames(\"type_padding\", A_df2)"
   ]
  },
  {
   "cell_type": "code",
   "execution_count": 83,
   "metadata": {},
   "outputs": [
    {
     "data": {
      "text/html": [
       "<dl class=dl-horizontal>\n",
       "\t<dt>1</dt>\n",
       "\t\t<dd>0.472300376807975</dd>\n",
       "\t<dt>2</dt>\n",
       "\t\t<dd>0.432487798247038</dd>\n",
       "\t<dt>3</dt>\n",
       "\t\t<dd>0.379388062430085</dd>\n",
       "</dl>\n"
      ],
      "text/latex": [
       "\\begin{description*}\n",
       "\\item[1] 0.472300376807975\n",
       "\\item[2] 0.432487798247038\n",
       "\\item[3] 0.379388062430085\n",
       "\\end{description*}\n"
      ],
      "text/markdown": [
       "1\n",
       ":   0.4723003768079752\n",
       ":   0.4324877982470383\n",
       ":   0.379388062430085\n",
       "\n"
      ],
      "text/plain": [
       "        1         2         3 \n",
       "0.4723004 0.4324878 0.3793881 "
      ]
     },
     "metadata": {},
     "output_type": "display_data"
    }
   ],
   "source": [
    "# comparison predictions\n",
    "new_df <- data.frame(\"enz_type\" = c(\"1\", \"1\", \"1\"), \"type_padding\" = c(\"strf_padding\", \"post_padding\", \n",
    "                                                                       \"zoom_padding\"), \n",
    "                     \"architecture\" = c(\"only_denses\", \"only_denses\", \"only_denses\"))\n",
    "predict(lm_f1_task2_A, new_df)"
   ]
  },
  {
   "cell_type": "code",
   "execution_count": null,
   "metadata": {},
   "outputs": [],
   "source": []
  },
  {
   "cell_type": "markdown",
   "metadata": {},
   "source": [
    "# B. What is the effect of switching between dense paddings?"
   ]
  },
  {
   "cell_type": "code",
   "execution_count": 66,
   "metadata": {},
   "outputs": [
    {
     "data": {
      "text/plain": [
       "\n",
       "Call:\n",
       "lm(formula = equation2, data = subset(scores_task2_dcasted, architecture %in% \n",
       "    soa_arch & type_padding %in% soa_pad))\n",
       "\n",
       "Residuals:\n",
       "      Min        1Q    Median        3Q       Max \n",
       "-0.218032 -0.025983 -0.002036  0.026660  0.280054 \n",
       "\n",
       "Coefficients:\n",
       "                         Estimate Std. Error t value Pr(>|t|)    \n",
       "(Intercept)              0.483710   0.011663  41.472  < 2e-16 ***\n",
       "enz_type2                0.156819   0.013800  11.363  < 2e-16 ***\n",
       "enz_type3                0.060256   0.013800   4.366  1.8e-05 ***\n",
       "enz_type4               -0.012944   0.013800  -0.938   0.3491    \n",
       "enz_type5                0.136308   0.013800   9.877  < 2e-16 ***\n",
       "enz_type6                0.024190   0.013800   1.753   0.0808 .  \n",
       "enz_type7                0.124816   0.013800   9.044  < 2e-16 ***\n",
       "type_paddingext_padding -0.013581   0.010432  -1.302   0.1941    \n",
       "type_paddingmid_padding  0.003864   0.010432   0.370   0.7114    \n",
       "type_paddingpre_padding -0.026858   0.010432  -2.575   0.0106 *  \n",
       "---\n",
       "Signif. codes:  0 ‘***’ 0.001 ‘**’ 0.01 ‘*’ 0.05 ‘.’ 0.1 ‘ ’ 1\n",
       "\n",
       "Residual standard error: 0.06172 on 270 degrees of freedom\n",
       "Multiple R-squared:  0.538,\tAdjusted R-squared:  0.5226 \n",
       "F-statistic: 34.93 on 9 and 270 DF,  p-value: < 2.2e-16\n"
      ]
     },
     "metadata": {},
     "output_type": "display_data"
    }
   ],
   "source": [
    "soa_arch <- c(\"stack_conv\")\n",
    "soa_pad <- c(\"post_padding\", \"pre_padding\", \"mid_padding\", \"ext_padding\")\n",
    "lm_f1_task2_B <- lm(equation2,data=subset(scores_task2_dcasted, architecture %in% soa_arch \n",
    "                                           & type_padding %in% soa_pad))\n",
    "summary(lm_f1_task2_B)"
   ]
  },
  {
   "cell_type": "code",
   "execution_count": 67,
   "metadata": {},
   "outputs": [
    {
     "name": "stderr",
     "output_type": "stream",
     "text": [
      "Joining by: x1\n",
      "Joining by: x2\n",
      "Saving 6.67 x 6.67 in image\n"
     ]
    },
    {
     "data": {
      "image/png": "[encoded data removed]",
      "text/plain": [
       "plot without title"
      ]
     },
     "metadata": {},
     "output_type": "display_data"
    }
   ],
   "source": [
    "file_path <- paste0(absPath, \"data/results/\", task, \"linear_models_f1/\")\n",
    "\n",
    "g3_task2 <- plot_coefs_inter(lm_f1_task2_B)\n",
    "g3_task2\n",
    "\n",
    "ggsave(\"B.eps\", device=\"eps\", path=file_path)"
   ]
  },
  {
   "cell_type": "code",
   "execution_count": 68,
   "metadata": {},
   "outputs": [],
   "source": [
    "B_df2 <- postproc_lm(lm_f1_task2_B)\n",
    "#B_df2_proc <- separating_interactions(\"architecture\", \"type_padding\", B_df2)\n",
    "\n",
    "# Dividing lm in representable tiles\n",
    "#arch_df2_2 <- dividing_rownames(\"architecture\", sm2_df2_proc$estimates_df)\n",
    "enz_df2_B <- dividing_rownames(\"enz_type\", B_df2)\n",
    "pad_df2_B <- dividing_rownames(\"type_padding\", B_df2)"
   ]
  },
  {
   "cell_type": "code",
   "execution_count": 84,
   "metadata": {},
   "outputs": [
    {
     "data": {
      "text/html": [
       "<dl class=dl-horizontal>\n",
       "\t<dt>1</dt>\n",
       "\t\t<dd>0.456851856145686</dd>\n",
       "\t<dt>2</dt>\n",
       "\t\t<dd>0.483710224771527</dd>\n",
       "</dl>\n"
      ],
      "text/latex": [
       "\\begin{description*}\n",
       "\\item[1] 0.456851856145686\n",
       "\\item[2] 0.483710224771527\n",
       "\\end{description*}\n"
      ],
      "text/markdown": [
       "1\n",
       ":   0.4568518561456862\n",
       ":   0.483710224771527\n",
       "\n"
      ],
      "text/plain": [
       "        1         2 \n",
       "0.4568519 0.4837102 "
      ]
     },
     "metadata": {},
     "output_type": "display_data"
    }
   ],
   "source": [
    "# comparison predictions\n",
    "new_df <- data.frame(\"enz_type\" = c(\"1\", \"1\"), \"type_padding\" = c(\"pre_padding\", \"post_padding\"), \n",
    "                     \"architecture\" = c(\"only_denses\", \"only_denses\"))\n",
    "predict(lm_f1_task2_B, new_df)"
   ]
  },
  {
   "cell_type": "markdown",
   "metadata": {},
   "source": [
    "## C. What is the effect of changing from the standard dense padding to sparse padding?"
   ]
  },
  {
   "cell_type": "code",
   "execution_count": 69,
   "metadata": {},
   "outputs": [
    {
     "data": {
      "text/plain": [
       "\n",
       "Call:\n",
       "lm(formula = equation2, data = subset(scores_task2_dcasted, architecture %in% \n",
       "    soa_arch & type_padding %in% soa2_pad))\n",
       "\n",
       "Residuals:\n",
       "     Min       1Q   Median       3Q      Max \n",
       "-0.44954 -0.02996 -0.00160  0.03050  0.32921 \n",
       "\n",
       "Coefficients:\n",
       "                           Estimate Std. Error t value Pr(>|t|)    \n",
       "(Intercept)               0.4981867  0.0143139  34.804  < 2e-16 ***\n",
       "enz_type2                 0.1584222  0.0169365   9.354  < 2e-16 ***\n",
       "enz_type3                 0.0636325  0.0169365   3.757 0.000211 ***\n",
       "enz_type4                -0.0149684  0.0169365  -0.884 0.377591    \n",
       "enz_type5                 0.1322510  0.0169365   7.809 1.28e-13 ***\n",
       "enz_type6                -0.0007323  0.0169365  -0.043 0.965542    \n",
       "enz_type7                 0.0495055  0.0169365   2.923 0.003760 ** \n",
       "type_paddingrnd_padding  -0.0981544  0.0128028  -7.667 3.20e-13 ***\n",
       "type_paddingstrf_padding -0.0067599  0.0128028  -0.528 0.597929    \n",
       "type_paddingzoom_padding -0.0381935  0.0128028  -2.983 0.003113 ** \n",
       "---\n",
       "Signif. codes:  0 ‘***’ 0.001 ‘**’ 0.01 ‘*’ 0.05 ‘.’ 0.1 ‘ ’ 1\n",
       "\n",
       "Residual standard error: 0.07574 on 270 degrees of freedom\n",
       "Multiple R-squared:  0.4974,\tAdjusted R-squared:  0.4807 \n",
       "F-statistic: 29.69 on 9 and 270 DF,  p-value: < 2.2e-16\n"
      ]
     },
     "metadata": {},
     "output_type": "display_data"
    }
   ],
   "source": [
    "# interactions non significant\n",
    "soa2_pad <- c(\"post_padding\", \"strf_padding\", \"rnd_padding\", \"zoom_padding\")\n",
    "lm_f1_task2_C <- lm(equation2,data=subset(scores_task2_dcasted, architecture %in% soa_arch \n",
    "                                           & type_padding %in% soa2_pad))\n",
    "summary(lm_f1_task2_C)"
   ]
  },
  {
   "cell_type": "code",
   "execution_count": 70,
   "metadata": {},
   "outputs": [
    {
     "name": "stderr",
     "output_type": "stream",
     "text": [
      "Joining by: x1\n",
      "Joining by: x2\n",
      "Saving 6.67 x 6.67 in image\n"
     ]
    },
    {
     "data": {
      "image/png": "[encoded data removed]",
      "text/plain": [
       "plot without title"
      ]
     },
     "metadata": {},
     "output_type": "display_data"
    }
   ],
   "source": [
    "file_path <- paste0(absPath, \"data/results/\", task, \"linear_models_f1/\")\n",
    "\n",
    "g4_task2 <- plot_coefs_inter(lm_f1_task2_C)\n",
    "g4_task2\n",
    "\n",
    "ggsave(\"C.eps\", device=\"eps\", path=file_path)"
   ]
  },
  {
   "cell_type": "code",
   "execution_count": 71,
   "metadata": {},
   "outputs": [],
   "source": [
    "C_df2 <- postproc_lm(lm_f1_task2_C)\n",
    "#C_df2_proc <- separating_interactions(\"architecture\", \"type_padding\", sm2_df2)\n",
    "\n",
    "# Dividing lm in representable tiles\n",
    "#arch_df2_2 <- dividing_rownames(\"architecture\", sm2_df2_proc$estimates_df)\n",
    "enz_df2_C <- dividing_rownames(\"enz_type\", C_df2)\n",
    "pad_df2_C <- dividing_rownames(\"type_padding\", C_df2)"
   ]
  },
  {
   "cell_type": "code",
   "execution_count": 87,
   "metadata": {},
   "outputs": [
    {
     "data": {
      "text/html": [
       "<dl class=dl-horizontal>\n",
       "\t<dt>1</dt>\n",
       "\t\t<dd>0.49818668518857</dd>\n",
       "\t<dt>2</dt>\n",
       "\t\t<dd>0.400032317943281</dd>\n",
       "\t<dt>3</dt>\n",
       "\t\t<dd>0.459993138930023</dd>\n",
       "</dl>\n"
      ],
      "text/latex": [
       "\\begin{description*}\n",
       "\\item[1] 0.49818668518857\n",
       "\\item[2] 0.400032317943281\n",
       "\\item[3] 0.459993138930023\n",
       "\\end{description*}\n"
      ],
      "text/markdown": [
       "1\n",
       ":   0.498186685188572\n",
       ":   0.4000323179432813\n",
       ":   0.459993138930023\n",
       "\n"
      ],
      "text/plain": [
       "        1         2         3 \n",
       "0.4981867 0.4000323 0.4599931 "
      ]
     },
     "metadata": {},
     "output_type": "display_data"
    }
   ],
   "source": [
    "# comparison predictions\n",
    "new_df <- data.frame(\"enz_type\" = c(\"1\", \"1\", \"1\"), \"type_padding\" = c(\"post_padding\", \"rnd_padding\", \n",
    "                                                                       \"zoom_padding\"), \n",
    "                     \"architecture\" = c(\"stack_conv\", \"stack_conv\", \"stack_conv\"))\n",
    "predict(lm_f1_task2_C, new_df)"
   ]
  },
  {
   "cell_type": "code",
   "execution_count": null,
   "metadata": {},
   "outputs": [],
   "source": []
  },
  {
   "cell_type": "markdown",
   "metadata": {},
   "source": [
    "# D. Is an ensemble of paddings beneficial?"
   ]
  },
  {
   "cell_type": "code",
   "execution_count": 72,
   "metadata": {},
   "outputs": [
    {
     "data": {
      "text/plain": [
       "\n",
       "Call:\n",
       "lm(formula = equation3, data = subset(scores_task2_dcasted, type_padding %in% \n",
       "    soa_pad))\n",
       "\n",
       "Residuals:\n",
       "     Min       1Q   Median       3Q      Max \n",
       "-0.54992 -0.02824 -0.00008  0.02566  0.34998 \n",
       "\n",
       "Coefficients:\n",
       "                                                  Estimate Std. Error t value\n",
       "(Intercept)                                       0.421404   0.011650  36.172\n",
       "architectureonly_denses                           0.027212   0.012762   2.132\n",
       "architecture1_conv                                0.032003   0.012762   2.508\n",
       "enz_type2                                         0.165884   0.011255  14.739\n",
       "enz_type3                                         0.092673   0.011255   8.234\n",
       "enz_type4                                         0.003403   0.011255   0.302\n",
       "enz_type5                                         0.154250   0.011255  13.705\n",
       "enz_type6                                         0.038533   0.011255   3.424\n",
       "enz_type7                                         0.123991   0.011255  11.016\n",
       "type_paddingpost_padding                          0.049551   0.012762   3.883\n",
       "type_paddingstrf_padding                          0.042791   0.012762   3.353\n",
       "architectureonly_denses:type_paddingpost_padding -0.072243   0.018048  -4.003\n",
       "architecture1_conv:type_paddingpost_padding      -0.035753   0.018048  -1.981\n",
       "architectureonly_denses:type_paddingstrf_padding -0.025670   0.018048  -1.422\n",
       "architecture1_conv:type_paddingstrf_padding      -0.028637   0.018048  -1.587\n",
       "                                                 Pr(>|t|)    \n",
       "(Intercept)                                       < 2e-16 ***\n",
       "architectureonly_denses                          0.033379 *  \n",
       "architecture1_conv                               0.012410 *  \n",
       "enz_type2                                         < 2e-16 ***\n",
       "enz_type3                                        1.09e-15 ***\n",
       "enz_type4                                        0.762483    \n",
       "enz_type5                                         < 2e-16 ***\n",
       "enz_type6                                        0.000659 ***\n",
       "enz_type7                                         < 2e-16 ***\n",
       "type_paddingpost_padding                         0.000115 ***\n",
       "type_paddingstrf_padding                         0.000849 ***\n",
       "architectureonly_denses:type_paddingpost_padding 7.03e-05 ***\n",
       "architecture1_conv:type_paddingpost_padding      0.048040 *  \n",
       "architectureonly_denses:type_paddingstrf_padding 0.155446    \n",
       "architecture1_conv:type_paddingstrf_padding      0.113092    \n",
       "---\n",
       "Signif. codes:  0 ‘***’ 0.001 ‘**’ 0.01 ‘*’ 0.05 ‘.’ 0.1 ‘ ’ 1\n",
       "\n",
       "Residual standard error: 0.0755 on 615 degrees of freedom\n",
       "Multiple R-squared:  0.4437,\tAdjusted R-squared:  0.4311 \n",
       "F-statistic: 35.04 on 14 and 615 DF,  p-value: < 2.2e-16\n"
      ]
     },
     "metadata": {},
     "output_type": "display_data"
    }
   ],
   "source": [
    "soa_pad <- c(\"post_padding\", \"strf_padding\", \"aug_padding\")\n",
    "#changing reference \n",
    "scores_task2_dcasted$architecture <- relevel(scores_task2_dcasted$architecture, \"stack_conv\")\n",
    "scores_task2_dcasted$type_padding <- relevel(scores_task2_dcasted$type_padding, \"aug_padding\")\n",
    "\n",
    "lm_f1_task2_D <- lm(equation3, data=subset(scores_task2_dcasted, \n",
    "                                           type_padding %in% soa_pad))\n",
    "summary(lm_f1_task2_D)"
   ]
  },
  {
   "cell_type": "code",
   "execution_count": 73,
   "metadata": {},
   "outputs": [
    {
     "name": "stderr",
     "output_type": "stream",
     "text": [
      "Joining by: x1\n",
      "Joining by: x2\n",
      "Saving 6.67 x 6.67 in image\n"
     ]
    },
    {
     "data": {
      "image/png": "[encoded data removed]",
      "text/plain": [
       "plot without title"
      ]
     },
     "metadata": {},
     "output_type": "display_data"
    }
   ],
   "source": [
    "file_path <- paste0(absPath, \"data/results/\", task, \"linear_models_f1/\")\n",
    "\n",
    "g5_task2 <- plot_coefs_inter(lm_f1_task2_D)\n",
    "g5_task2\n",
    "\n",
    "ggsave(\"D.eps\", device=\"eps\", path=file_path)"
   ]
  },
  {
   "cell_type": "code",
   "execution_count": 74,
   "metadata": {},
   "outputs": [],
   "source": [
    "D_df2 <- postproc_lm(lm_f1_task2_D)\n",
    "D_df2_proc <- separating_interactions(\"architecture\", \"type_padding\", D_df2)\n",
    "\n",
    "arch_df2_D <- dividing_rownames(\"architecture\", D_df2_proc$estimates_df)\n",
    "enz_df2_D <- dividing_rownames(\"enz_type\", D_df2_proc$estimates_df)\n",
    "pad_df2_D <- dividing_rownames(\"type_padding\", D_df2_proc$estimates_df)"
   ]
  },
  {
   "cell_type": "code",
   "execution_count": 98,
   "metadata": {},
   "outputs": [
    {
     "data": {
      "text/html": [
       "<dl class=dl-horizontal>\n",
       "\t<dt>1</dt>\n",
       "\t\t<dd>0.421404120939285</dd>\n",
       "\t<dt>2</dt>\n",
       "\t\t<dd>0.464194815563577</dd>\n",
       "\t<dt>3</dt>\n",
       "\t\t<dd>0.470954759219076</dd>\n",
       "</dl>\n"
      ],
      "text/latex": [
       "\\begin{description*}\n",
       "\\item[1] 0.421404120939285\n",
       "\\item[2] 0.464194815563577\n",
       "\\item[3] 0.470954759219076\n",
       "\\end{description*}\n"
      ],
      "text/markdown": [
       "1\n",
       ":   0.4214041209392852\n",
       ":   0.4641948155635773\n",
       ":   0.470954759219076\n",
       "\n"
      ],
      "text/plain": [
       "        1         2         3 \n",
       "0.4214041 0.4641948 0.4709548 "
      ]
     },
     "metadata": {},
     "output_type": "display_data"
    }
   ],
   "source": [
    "new_df <- data.frame(\"enz_type\" = c(\"1\", \"1\", \"1\"), \"type_padding\" = c(\"aug_padding\", \"strf_padding\", \n",
    "                                                                            \"post_padding\"), \n",
    "                     \"architecture\" = c(\"stack_conv\", \"stack_conv\", \"stack_conv\"))\n",
    "predict(lm_f1_task2_D, new_df)"
   ]
  },
  {
   "cell_type": "code",
   "execution_count": 99,
   "metadata": {},
   "outputs": [
    {
     "data": {
      "text/html": [
       "<dl class=dl-horizontal>\n",
       "\t<dt>1</dt>\n",
       "\t\t<dd>0.421404120939285</dd>\n",
       "\t<dt>2</dt>\n",
       "\t\t<dd>0.453407057105802</dd>\n",
       "\t<dt>3</dt>\n",
       "\t\t<dd>0.448616384682733</dd>\n",
       "</dl>\n"
      ],
      "text/latex": [
       "\\begin{description*}\n",
       "\\item[1] 0.421404120939285\n",
       "\\item[2] 0.453407057105802\n",
       "\\item[3] 0.448616384682733\n",
       "\\end{description*}\n"
      ],
      "text/markdown": [
       "1\n",
       ":   0.4214041209392852\n",
       ":   0.4534070571058023\n",
       ":   0.448616384682733\n",
       "\n"
      ],
      "text/plain": [
       "        1         2         3 \n",
       "0.4214041 0.4534071 0.4486164 "
      ]
     },
     "metadata": {},
     "output_type": "display_data"
    }
   ],
   "source": [
    "new_df <- data.frame(\"enz_type\" = c(\"1\", \"1\", \"1\"), \"type_padding\" = c(\"aug_padding\", \"aug_padding\", \n",
    "                                                                            \"aug_padding\"), \n",
    "                     \"architecture\" = c(\"stack_conv\", \"1_conv\", \"only_denses\"))\n",
    "predict(lm_f1_task2_D, new_df)"
   ]
  },
  {
   "cell_type": "code",
   "execution_count": 102,
   "metadata": {},
   "outputs": [
    {
     "data": {
      "text/html": [
       "<dl class=dl-horizontal>\n",
       "\t<dt>1</dt>\n",
       "\t\t<dd>0.470954759219076</dd>\n",
       "\t<dt>2</dt>\n",
       "\t\t<dd>0.425924474150733</dd>\n",
       "\t<dt>3</dt>\n",
       "\t\t<dd>0.421404120939285</dd>\n",
       "\t<dt>4</dt>\n",
       "\t\t<dd>0.448616384682733</dd>\n",
       "</dl>\n"
      ],
      "text/latex": [
       "\\begin{description*}\n",
       "\\item[1] 0.470954759219076\n",
       "\\item[2] 0.425924474150733\n",
       "\\item[3] 0.421404120939285\n",
       "\\item[4] 0.448616384682733\n",
       "\\end{description*}\n"
      ],
      "text/markdown": [
       "1\n",
       ":   0.4709547592190762\n",
       ":   0.4259244741507333\n",
       ":   0.4214041209392854\n",
       ":   0.448616384682733\n",
       "\n"
      ],
      "text/plain": [
       "        1         2         3         4 \n",
       "0.4709548 0.4259245 0.4214041 0.4486164 "
      ]
     },
     "metadata": {},
     "output_type": "display_data"
    }
   ],
   "source": [
    "new_df <- data.frame(\"enz_type\" = c(\"1\", \"1\"), \"type_padding\" = c(\"post_padding\", \"post_padding\", \n",
    "                                                                  \"aug_padding\", \"aug_padding\"), \n",
    "                     \"architecture\" = c(\"stack_conv\", \"only_denses\", \"stack_conv\", \"only_denses\"))\n",
    "predict(lm_f1_task2_D, new_df)"
   ]
  },
  {
   "cell_type": "markdown",
   "metadata": {},
   "source": [
    "# E. How does enzyme type might affect differentlythe performances of some padding types?"
   ]
  },
  {
   "cell_type": "code",
   "execution_count": 75,
   "metadata": {},
   "outputs": [
    {
     "data": {
      "text/plain": [
       "\n",
       "Call:\n",
       "lm(formula = equation4, data = subset(scores_task2_dcasted, type_padding %in% \n",
       "    soa_pad))\n",
       "\n",
       "Residuals:\n",
       "     Min       1Q   Median       3Q      Max \n",
       "-0.57547 -0.02300  0.00090  0.02577  0.34416 \n",
       "\n",
       "Coefficients:\n",
       "                                     Estimate Std. Error t value Pr(>|t|)    \n",
       "(Intercept)                         0.4570784  0.0160386  28.499  < 2e-16 ***\n",
       "architectureonly_denses            -0.0217440  0.0098216  -2.214 0.027393 *  \n",
       "architecture1_conv                 -0.0001922  0.0098216  -0.020 0.984395    \n",
       "enz_type2                           0.1619765  0.0212170   7.634 1.66e-13 ***\n",
       "enz_type3                           0.0979910  0.0212170   4.619 5.20e-06 ***\n",
       "enz_type4                          -0.0026738  0.0212170  -0.126 0.899779    \n",
       "enz_type5                           0.1411368  0.0212170   6.652 9.42e-11 ***\n",
       "enz_type6                           0.0746707  0.0212170   3.519 0.000482 ***\n",
       "enz_type7                           0.1401308  0.0212170   6.605 1.26e-10 ***\n",
       "type_paddingstrf_padding            0.0299318  0.0212170   1.411 0.159089    \n",
       "enz_type2:type_paddingstrf_padding -0.0059961  0.0300054  -0.200 0.841710    \n",
       "enz_type3:type_paddingstrf_padding -0.0093012  0.0300054  -0.310 0.756734    \n",
       "enz_type4:type_paddingstrf_padding -0.0358112  0.0300054  -1.193 0.233377    \n",
       "enz_type5:type_paddingstrf_padding  0.0005044  0.0300054   0.017 0.986597    \n",
       "enz_type6:type_paddingstrf_padding -0.0474274  0.0300054  -1.581 0.114746    \n",
       "enz_type7:type_paddingstrf_padding -0.0335386  0.0300054  -1.118 0.264337    \n",
       "---\n",
       "Signif. codes:  0 ‘***’ 0.001 ‘**’ 0.01 ‘*’ 0.05 ‘.’ 0.1 ‘ ’ 1\n",
       "\n",
       "Residual standard error: 0.08217 on 404 degrees of freedom\n",
       "Multiple R-squared:  0.4048,\tAdjusted R-squared:  0.3827 \n",
       "F-statistic: 18.32 on 15 and 404 DF,  p-value: < 2.2e-16\n"
      ]
     },
     "metadata": {},
     "output_type": "display_data"
    }
   ],
   "source": [
    "soa_pad <- c(\"post_padding\", \"strf_padding\")\n",
    "#scores_task1_dcasted_aug <- scores_task1_dcasted\n",
    "#changing reference\n",
    "scores_task2_dcasted$type_padding <- relevel(scores_task2_dcasted$type_padding, \"post_padding\")\n",
    "\n",
    "lm_f1_task2_E <- lm(equation4, data=subset(scores_task2_dcasted, type_padding %in% soa_pad))\n",
    "summary(lm_f1_task2_E)"
   ]
  },
  {
   "cell_type": "code",
   "execution_count": 76,
   "metadata": {},
   "outputs": [
    {
     "name": "stderr",
     "output_type": "stream",
     "text": [
      "Joining by: x1\n",
      "Joining by: x2\n",
      "Saving 6.67 x 6.67 in image\n"
     ]
    },
    {
     "data": {
      "image/png": "[encoded data removed]",
      "text/plain": [
       "plot without title"
      ]
     },
     "metadata": {},
     "output_type": "display_data"
    }
   ],
   "source": [
    "file_path <- paste0(absPath, \"data/results/\", task, \"linear_models_f1/\")\n",
    "\n",
    "g6_task2 <- plot_coefs_inter(lm_f1_task2_E)\n",
    "g6_task2\n",
    "\n",
    "ggsave(\"E.eps\", device=\"eps\", path=file_path)"
   ]
  },
  {
   "cell_type": "code",
   "execution_count": 77,
   "metadata": {},
   "outputs": [],
   "source": [
    "E_df2 <- postproc_lm(lm_f1_task2_E)\n",
    "E_df2_proc <- separating_interactions(\"architecture\", \"type_padding\", E_df2)\n",
    "\n",
    "arch_df2_E <- dividing_rownames(\"architecture\", E_df2_proc$estimates_df)\n",
    "enz_df2_E <- dividing_rownames(\"enz_type\", E_df2_proc$estimates_df)\n",
    "pad_df2_E <- dividing_rownames(\"type_padding\", E_df2_proc$estimates_df)"
   ]
  },
  {
   "cell_type": "code",
   "execution_count": 103,
   "metadata": {},
   "outputs": [
    {
     "data": {
      "text/html": [
       "<dl class=dl-horizontal>\n",
       "\t<dt>1</dt>\n",
       "\t\t<dd>0.457078432929244</dd>\n",
       "\t<dt>2</dt>\n",
       "\t\t<dd>0.619054922825234</dd>\n",
       "\t<dt>3</dt>\n",
       "\t\t<dd>0.555069472328109</dd>\n",
       "\t<dt>4</dt>\n",
       "\t\t<dd>0.454404663174547</dd>\n",
       "\t<dt>5</dt>\n",
       "\t\t<dd>0.598215192395395</dd>\n",
       "\t<dt>6</dt>\n",
       "\t\t<dd>0.531749136081885</dd>\n",
       "\t<dt>7</dt>\n",
       "\t\t<dd>0.597209238023837</dd>\n",
       "</dl>\n"
      ],
      "text/latex": [
       "\\begin{description*}\n",
       "\\item[1] 0.457078432929244\n",
       "\\item[2] 0.619054922825234\n",
       "\\item[3] 0.555069472328109\n",
       "\\item[4] 0.454404663174547\n",
       "\\item[5] 0.598215192395395\n",
       "\\item[6] 0.531749136081885\n",
       "\\item[7] 0.597209238023837\n",
       "\\end{description*}\n"
      ],
      "text/markdown": [
       "1\n",
       ":   0.4570784329292442\n",
       ":   0.6190549228252343\n",
       ":   0.5550694723281094\n",
       ":   0.4544046631745475\n",
       ":   0.5982151923953956\n",
       ":   0.5317491360818857\n",
       ":   0.597209238023837\n",
       "\n"
      ],
      "text/plain": [
       "        1         2         3         4         5         6         7 \n",
       "0.4570784 0.6190549 0.5550695 0.4544047 0.5982152 0.5317491 0.5972092 "
      ]
     },
     "metadata": {},
     "output_type": "display_data"
    }
   ],
   "source": [
    "# comparison predictions\n",
    "new_df <- data.frame(\"enz_type\" = c(\"1\", \"2\", \"3\", \"4\", \"5\", \"6\", \"7\"), \n",
    "                     \"type_padding\" = c(\"post_padding\", \"post_padding\", \"post_padding\", \n",
    "                                        \"post_padding\", \"post_padding\",\"post_padding\",\"post_padding\"), \n",
    "                     \"architecture\" = c(\"stack_conv\", \"stack_conv\", \"stack_conv\", \"stack_conv\", \"stack_conv\",\n",
    "                                       \"stack_conv\", \"stack_conv\"))\n",
    "predict(lm_f1_task2_E, new_df)"
   ]
  },
  {
   "cell_type": "markdown",
   "metadata": {},
   "source": [
    "## Construyendo tablas"
   ]
  },
  {
   "cell_type": "markdown",
   "metadata": {},
   "source": [
    "## Full additive models"
   ]
  },
  {
   "cell_type": "code",
   "execution_count": 68,
   "metadata": {},
   "outputs": [
    {
     "name": "stdout",
     "output_type": "stream",
     "text": [
      "\n",
      "% Table created by stargazer v.5.2.2 by Marek Hlavac, Harvard University. E-mail: hlavac at fas.harvard.edu\n",
      "% Date and time: Mon, Dec 30, 2019 - 12:18:44 AM\n",
      "\\begin{table}[!htbp] \\centering \n",
      "  \\caption{Full additive linear models on F1-score. The reference levels were omitted.} \n",
      "  \\label{tab:lm_full_additive} \n",
      "\\begin{tabular}{@{\\extracolsep{5pt}}lcc} \n",
      "\\\\[-1.8ex]\\hline \n",
      "\\hline \\\\[-1.8ex] \n",
      " & Task 1 & Task 2 \\\\ \n",
      " architecture1\\_conv & $-$0.063$^{***}$ ($-$0.069, $-$0.057) & 0.021$^{***}$ (0.011, 0.030) \\\\ \n",
      "  architecturestack\\_conv & $-$0.052$^{***}$ ($-$0.058, $-$0.046) & 0.010$^{**}$ (0.0004, 0.020) \\\\ \n",
      "  enz\\_type1 & 0.012$^{***}$ (0.008, 0.017) &  \\\\ \n",
      "  enz\\_type2 &  & 0.167$^{***}$ (0.152, 0.182) \\\\ \n",
      "  enz\\_type3 &  & 0.097$^{***}$ (0.082, 0.111) \\\\ \n",
      "  enz\\_type4 &  & 0.008 ($-$0.007, 0.023) \\\\ \n",
      "  enz\\_type5 &  & 0.167$^{***}$ (0.152, 0.182) \\\\ \n",
      "  enz\\_type6 &  & 0.044$^{***}$ (0.029, 0.059) \\\\ \n",
      "  enz\\_type7 &  & 0.100$^{***}$ (0.085, 0.115) \\\\ \n",
      "  type\\_paddingaug\\_padding & $-$0.069$^{***}$ ($-$0.078, $-$0.059) & $-$0.014$^{*}$ ($-$0.029, 0.002) \\\\ \n",
      "  type\\_paddingext\\_padding & $-$0.013$^{***}$ ($-$0.023, $-$0.003) & 0.008 ($-$0.008, 0.024) \\\\ \n",
      "  type\\_paddingmid\\_padding & 0.0001 ($-$0.010, 0.010) & 0.015$^{*}$ ($-$0.001, 0.031) \\\\ \n",
      "  type\\_paddingpre\\_padding & $-$0.011$^{**}$ ($-$0.020, $-$0.001) & $-$0.001 ($-$0.017, 0.015) \\\\ \n",
      "  type\\_paddingrnd\\_padding & $-$0.053$^{***}$ ($-$0.062, $-$0.043) & $-$0.085$^{***}$ ($-$0.101, $-$0.069) \\\\ \n",
      "  type\\_paddingstrf\\_padding & $-$0.001 ($-$0.011, 0.009) & 0.011 ($-$0.005, 0.027) \\\\ \n",
      "  type\\_paddingzoom\\_padding & $-$0.010$^{*}$ ($-$0.019, $-$0.00001) & $-$0.033$^{***}$ ($-$0.049, $-$0.017) \\\\ \n",
      "  Constant & 0.916$^{***}$ (0.908, 0.924) & 0.444$^{***}$ (0.428, 0.460) \\\\ \n",
      " \\hline \\\\[-1.8ex] \n",
      "Observations & 480 & 1,680 \\\\ \n",
      "R$^{2}$ & 0.666 & 0.427 \\\\ \n",
      "Adjusted R$^{2}$ & 0.659 & 0.422 \\\\ \n",
      "Residual Std. Error & 0.027 (df = 469) & 0.083 (df = 1664) \\\\ \n",
      "F Statistic & 93.390$^{***}$ (df = 10; 469) & 82.834$^{***}$ (df = 15; 1664) \\\\ \n",
      "\\hline \n",
      "\\hline \\\\[-1.8ex] \n",
      "\\textit{Note:}  & \\multicolumn{2}{r}{$^{*}$p$<$0.1; $^{**}$p$<$0.05; $^{***}$p$<$0.01} \\\\ \n",
      "\\end{tabular} \n",
      "\\end{table} \n"
     ]
    }
   ],
   "source": [
    "stargazer::stargazer(lm_f1_task1_additive, lm_f1_task2_additive,   \n",
    "          column.labels = c(\"Task 1\", \"Task 2\"), \n",
    "  model.numbers = FALSE,\n",
    "  ci = TRUE, ci.level = 0.95, \n",
    "  single.row = TRUE, omit.table.layout = \"mdl\", \n",
    "  label = \"tab:lm_full_additive\",\n",
    "  title = \"Full additive linear models on F1-score. The reference levels were omitted.\", \n",
    "  type = 'latex'\n",
    "          #,out = paste0(dir_out, \"/1_cv_models.tex\"\n",
    "         )"
   ]
  },
  {
   "cell_type": "markdown",
   "metadata": {},
   "source": [
    "## A. Does padding position affect performance?"
   ]
  },
  {
   "cell_type": "code",
   "execution_count": 69,
   "metadata": {},
   "outputs": [
    {
     "name": "stdout",
     "output_type": "stream",
     "text": [
      "\n",
      "% Table created by stargazer v.5.2.2 by Marek Hlavac, Harvard University. E-mail: hlavac at fas.harvard.edu\n",
      "% Date and time: Mon, Dec 30, 2019 - 12:28:30 AM\n",
      "\\begin{table}[!htbp] \\centering \n",
      "  \\caption{Linear model on F1-score to analyze if padding position affects performance. The reference levels were omitted.} \n",
      "  \\label{tab:A} \n",
      "\\begin{tabular}{@{\\extracolsep{5pt}}lcc} \n",
      "\\\\[-1.8ex]\\hline \n",
      "\\hline \\\\[-1.8ex] \n",
      " & Task 1 & Task 2 \\\\ \n",
      " enz\\_type1 & 0.006 ($-$0.005, 0.016) &  \\\\ \n",
      "  enz\\_type2 &  & 0.157$^{***}$ (0.130, 0.184) \\\\ \n",
      "  enz\\_type3 &  & 0.060$^{***}$ (0.033, 0.087) \\\\ \n",
      "  enz\\_type4 &  & $-$0.013 ($-$0.040, 0.014) \\\\ \n",
      "  enz\\_type5 &  & 0.136$^{***}$ (0.109, 0.163) \\\\ \n",
      "  enz\\_type6 &  & 0.024$^{*}$ ($-$0.003, 0.051) \\\\ \n",
      "  enz\\_type7 &  & 0.125$^{***}$ (0.098, 0.152) \\\\ \n",
      "  type\\_paddingext\\_padding & $-$0.004 ($-$0.018, 0.010) & $-$0.014 ($-$0.034, 0.007) \\\\ \n",
      "  type\\_paddingmid\\_padding & $-$0.006 ($-$0.020, 0.009) & 0.004 ($-$0.017, 0.024) \\\\ \n",
      "  type\\_paddingpre\\_padding & $-$0.017$^{**}$ ($-$0.031, $-$0.002) & $-$0.027$^{**}$ ($-$0.047, $-$0.006) \\\\ \n",
      "  Constant & 0.876$^{***}$ (0.865, 0.888) & 0.484$^{***}$ (0.461, 0.507) \\\\ \n",
      " \\hline \\\\[-1.8ex] \n",
      "Observations & 80 & 280 \\\\ \n",
      "R$^{2}$ & 0.083 & 0.538 \\\\ \n",
      "Adjusted R$^{2}$ & 0.034 & 0.523 \\\\ \n",
      "Residual Std. Error & 0.023 (df = 75) & 0.062 (df = 270) \\\\ \n",
      "F Statistic & 1.697 (df = 4; 75) & 34.933$^{***}$ (df = 9; 270) \\\\ \n",
      "\\hline \n",
      "\\hline \\\\[-1.8ex] \n",
      "\\textit{Note:}  & \\multicolumn{2}{r}{$^{*}$p$<$0.1; $^{**}$p$<$0.05; $^{***}$p$<$0.01} \\\\ \n",
      "\\end{tabular} \n",
      "\\end{table} \n"
     ]
    }
   ],
   "source": [
    "stargazer::stargazer(lm_f1_task1_A, lm_f1_task2_A,   \n",
    "          column.labels = c(\"Task 1\", \"Task 2\"), \n",
    "  model.numbers = FALSE,\n",
    "  ci = TRUE, ci.level = 0.95, \n",
    "  single.row = TRUE, omit.table.layout = \"mdl\", \n",
    "  label = \"tab:A\",\n",
    "  title = \"Linear model on F1-score to analyze if padding position affects performance. The reference levels were omitted.\", \n",
    "  type = 'latex'\n",
    "          #,out = paste0(dir_out, \"/1_cv_models.tex\"\n",
    "         )"
   ]
  },
  {
   "cell_type": "markdown",
   "metadata": {},
   "source": [
    "## B. What is the effect of switching between dense paddings?"
   ]
  },
  {
   "cell_type": "code",
   "execution_count": 70,
   "metadata": {},
   "outputs": [
    {
     "name": "stdout",
     "output_type": "stream",
     "text": [
      "\n",
      "% Table created by stargazer v.5.2.2 by Marek Hlavac, Harvard University. E-mail: hlavac at fas.harvard.edu\n",
      "% Date and time: Mon, Dec 30, 2019 - 12:28:30 AM\n",
      "\\begin{table}[!htbp] \\centering \n",
      "  \\caption{Linear model on F1-score to analyze what is the effect of switching between dense paddings. The reference levels were omitted.} \n",
      "  \\label{tab:B} \n",
      "\\begin{tabular}{@{\\extracolsep{5pt}}lcc} \n",
      "\\\\[-1.8ex]\\hline \n",
      "\\hline \\\\[-1.8ex] \n",
      " & Task 1 & Task 2 \\\\ \n",
      " enz\\_type1 & 0.006 ($-$0.005, 0.016) &  \\\\ \n",
      "  enz\\_type2 &  & 0.157$^{***}$ (0.130, 0.184) \\\\ \n",
      "  enz\\_type3 &  & 0.060$^{***}$ (0.033, 0.087) \\\\ \n",
      "  enz\\_type4 &  & $-$0.013 ($-$0.040, 0.014) \\\\ \n",
      "  enz\\_type5 &  & 0.136$^{***}$ (0.109, 0.163) \\\\ \n",
      "  enz\\_type6 &  & 0.024$^{*}$ ($-$0.003, 0.051) \\\\ \n",
      "  enz\\_type7 &  & 0.125$^{***}$ (0.098, 0.152) \\\\ \n",
      "  type\\_paddingext\\_padding & $-$0.004 ($-$0.018, 0.010) & $-$0.014 ($-$0.034, 0.007) \\\\ \n",
      "  type\\_paddingmid\\_padding & $-$0.006 ($-$0.020, 0.009) & 0.004 ($-$0.017, 0.024) \\\\ \n",
      "  type\\_paddingpre\\_padding & $-$0.017$^{**}$ ($-$0.031, $-$0.002) & $-$0.027$^{**}$ ($-$0.047, $-$0.006) \\\\ \n",
      "  Constant & 0.876$^{***}$ (0.865, 0.888) & 0.484$^{***}$ (0.461, 0.507) \\\\ \n",
      " \\hline \\\\[-1.8ex] \n",
      "Observations & 80 & 280 \\\\ \n",
      "R$^{2}$ & 0.083 & 0.538 \\\\ \n",
      "Adjusted R$^{2}$ & 0.034 & 0.523 \\\\ \n",
      "Residual Std. Error & 0.023 (df = 75) & 0.062 (df = 270) \\\\ \n",
      "F Statistic & 1.697 (df = 4; 75) & 34.933$^{***}$ (df = 9; 270) \\\\ \n",
      "\\hline \n",
      "\\hline \\\\[-1.8ex] \n",
      "\\textit{Note:}  & \\multicolumn{2}{r}{$^{*}$p$<$0.1; $^{**}$p$<$0.05; $^{***}$p$<$0.01} \\\\ \n",
      "\\end{tabular} \n",
      "\\end{table} \n"
     ]
    }
   ],
   "source": [
    "stargazer::stargazer(lm_f1_task1_B, lm_f1_task2_B,   \n",
    "          column.labels = c(\"Task 1\", \"Task 2\"), \n",
    "  model.numbers = FALSE,\n",
    "  ci = TRUE, ci.level = 0.95, \n",
    "  single.row = TRUE, omit.table.layout = \"mdl\", \n",
    "  label = \"tab:B\",\n",
    "  title = \"Linear model on F1-score to analyze what is the effect of switching between dense paddings. The reference levels were omitted.\", \n",
    "  type = 'latex'\n",
    "          #,out = paste0(dir_out, \"/1_cv_models.tex\"\n",
    "         )"
   ]
  },
  {
   "cell_type": "markdown",
   "metadata": {},
   "source": [
    "## C. What is the effect of changing from the standard dense padding to sparse paddings?"
   ]
  },
  {
   "cell_type": "code",
   "execution_count": 71,
   "metadata": {},
   "outputs": [
    {
     "name": "stdout",
     "output_type": "stream",
     "text": [
      "\n",
      "% Table created by stargazer v.5.2.2 by Marek Hlavac, Harvard University. E-mail: hlavac at fas.harvard.edu\n",
      "% Date and time: Mon, Dec 30, 2019 - 12:28:30 AM\n",
      "\\begin{table}[!htbp] \\centering \n",
      "  \\caption{Linear model on F1-score to analyze what is the effect of changing from the standard dense padding to sparse paddings. The reference levels were omitted.} \n",
      "  \\label{tab:C} \n",
      "\\begin{tabular}{@{\\extracolsep{5pt}}lcc} \n",
      "\\\\[-1.8ex]\\hline \n",
      "\\hline \\\\[-1.8ex] \n",
      " & Task 1 & Task 2 \\\\ \n",
      " enz\\_type1 & 0.022$^{***}$ (0.014, 0.029) &  \\\\ \n",
      "  enz\\_type2 &  & 0.158$^{***}$ (0.125, 0.192) \\\\ \n",
      "  enz\\_type3 &  & 0.064$^{***}$ (0.030, 0.097) \\\\ \n",
      "  enz\\_type4 &  & $-$0.015 ($-$0.048, 0.018) \\\\ \n",
      "  enz\\_type5 &  & 0.132$^{***}$ (0.099, 0.165) \\\\ \n",
      "  enz\\_type6 &  & $-$0.001 ($-$0.034, 0.032) \\\\ \n",
      "  enz\\_type7 &  & 0.050$^{***}$ (0.016, 0.083) \\\\ \n",
      "  type\\_paddingrnd\\_padding & $-$0.067$^{***}$ ($-$0.078, $-$0.056) & $-$0.098$^{***}$ ($-$0.123, $-$0.073) \\\\ \n",
      "  type\\_paddingstrf\\_padding & $-$0.028$^{***}$ ($-$0.039, $-$0.017) & $-$0.007 ($-$0.032, 0.018) \\\\ \n",
      "  type\\_paddingzoom\\_padding & $-$0.017$^{***}$ ($-$0.028, $-$0.006) & $-$0.038$^{***}$ ($-$0.063, $-$0.013) \\\\ \n",
      "  Constant & 0.868$^{***}$ (0.860, 0.877) & 0.498$^{***}$ (0.470, 0.526) \\\\ \n",
      " \\hline \\\\[-1.8ex] \n",
      "Observations & 80 & 280 \\\\ \n",
      "R$^{2}$ & 0.720 & 0.497 \\\\ \n",
      "Adjusted R$^{2}$ & 0.705 & 0.481 \\\\ \n",
      "Residual Std. Error & 0.017 (df = 75) & 0.076 (df = 270) \\\\ \n",
      "F Statistic & 48.257$^{***}$ (df = 4; 75) & 29.692$^{***}$ (df = 9; 270) \\\\ \n",
      "\\hline \n",
      "\\hline \\\\[-1.8ex] \n",
      "\\textit{Note:}  & \\multicolumn{2}{r}{$^{*}$p$<$0.1; $^{**}$p$<$0.05; $^{***}$p$<$0.01} \\\\ \n",
      "\\end{tabular} \n",
      "\\end{table} \n"
     ]
    }
   ],
   "source": [
    "stargazer::stargazer(lm_f1_task1_C, lm_f1_task2_C,   \n",
    "          column.labels = c(\"Task 1\", \"Task 2\"), \n",
    "  model.numbers = FALSE,\n",
    "  ci = TRUE, ci.level = 0.95, \n",
    "  single.row = TRUE, omit.table.layout = \"mdl\", \n",
    "  label = \"tab:C\",\n",
    "  title = \"Linear model on F1-score to analyze what is the effect of changing from the standard dense padding to sparse paddings. The reference levels were omitted.\", \n",
    "  type = 'latex'\n",
    "          #,out = paste0(dir_out, \"/1_cv_models.tex\"\n",
    "         )"
   ]
  },
  {
   "cell_type": "markdown",
   "metadata": {},
   "source": [
    "## D. Is an ensemble of paddings beneficial?"
   ]
  },
  {
   "cell_type": "code",
   "execution_count": 72,
   "metadata": {},
   "outputs": [
    {
     "name": "stdout",
     "output_type": "stream",
     "text": [
      "\n",
      "% Table created by stargazer v.5.2.2 by Marek Hlavac, Harvard University. E-mail: hlavac at fas.harvard.edu\n",
      "% Date and time: Mon, Dec 30, 2019 - 12:28:30 AM\n",
      "\\begin{table}[!htbp] \\centering \n",
      "  \\caption{Linear model on F1-score to analyze if an ensemble of paddings is beneficial. The reference levels were omitted.} \n",
      "  \\label{tab:D} \n",
      "\\begin{tabular}{@{\\extracolsep{5pt}}lcc} \n",
      "\\\\[-1.8ex]\\hline \n",
      "\\hline \\\\[-1.8ex] \n",
      " & Task 1 & Task 2 \\\\ \n",
      " architecture1\\_conv & $-$0.034$^{***}$ ($-$0.048, $-$0.020) & 0.032$^{**}$ (0.007, 0.057) \\\\ \n",
      "  enz\\_type2 &  & 0.166$^{***}$ (0.144, 0.188) \\\\ \n",
      "  enz\\_type3 &  & 0.093$^{***}$ (0.071, 0.115) \\\\ \n",
      "  enz\\_type4 &  & 0.003 ($-$0.019, 0.025) \\\\ \n",
      "  enz\\_type5 &  & 0.154$^{***}$ (0.132, 0.176) \\\\ \n",
      "  enz\\_type6 &  & 0.039$^{***}$ (0.016, 0.061) \\\\ \n",
      "  enz\\_type7 &  & 0.124$^{***}$ (0.102, 0.146) \\\\ \n",
      "  architectureonly\\_denses & 0.110$^{***}$ (0.096, 0.123) & 0.027$^{**}$ (0.002, 0.052) \\\\ \n",
      "  enz\\_type1 & 0.009$^{***}$ (0.003, 0.015) &  \\\\ \n",
      "  type\\_paddingpost\\_padding & 0.089$^{***}$ (0.076, 0.103) & 0.050$^{***}$ (0.025, 0.075) \\\\ \n",
      "  type\\_paddingstrf\\_padding & 0.061$^{***}$ (0.048, 0.075) & 0.043$^{***}$ (0.018, 0.068) \\\\ \n",
      "  architecture1\\_conv:type\\_paddingpost\\_padding & 0.028$^{***}$ (0.008, 0.047) & $-$0.036$^{**}$ ($-$0.071, $-$0.0004) \\\\ \n",
      "  architectureonly\\_denses:type\\_paddingpost\\_padding & $-$0.089$^{***}$ ($-$0.108, $-$0.070) & $-$0.072$^{***}$ ($-$0.108, $-$0.037) \\\\ \n",
      "  architecture1\\_conv:type\\_paddingstrf\\_padding & 0.050$^{***}$ (0.031, 0.069) & $-$0.029 ($-$0.064, 0.007) \\\\ \n",
      "  architectureonly\\_denses:type\\_paddingstrf\\_padding & $-$0.031$^{***}$ ($-$0.050, $-$0.012) & $-$0.026 ($-$0.061, 0.010) \\\\ \n",
      "  Constant & 0.786$^{***}$ (0.775, 0.796) & 0.421$^{***}$ (0.399, 0.444) \\\\ \n",
      " \\hline \\\\[-1.8ex] \n",
      "Observations & 180 & 630 \\\\ \n",
      "R$^{2}$ & 0.859 & 0.444 \\\\ \n",
      "Adjusted R$^{2}$ & 0.851 & 0.431 \\\\ \n",
      "Residual Std. Error & 0.022 (df = 170) & 0.076 (df = 615) \\\\ \n",
      "F Statistic & 114.720$^{***}$ (df = 9; 170) & 35.043$^{***}$ (df = 14; 615) \\\\ \n",
      "\\hline \n",
      "\\hline \\\\[-1.8ex] \n",
      "\\textit{Note:}  & \\multicolumn{2}{r}{$^{*}$p$<$0.1; $^{**}$p$<$0.05; $^{***}$p$<$0.01} \\\\ \n",
      "\\end{tabular} \n",
      "\\end{table} \n"
     ]
    }
   ],
   "source": [
    "stargazer::stargazer(lm_f1_task1_D, lm_f1_task2_D,   \n",
    "          column.labels = c(\"Task 1\", \"Task 2\"), \n",
    "  model.numbers = FALSE,\n",
    "  ci = TRUE, ci.level = 0.95, \n",
    "  single.row = TRUE, omit.table.layout = \"mdl\", \n",
    "  label = \"tab:D\",\n",
    "  title = \"Linear model on F1-score to analyze if an ensemble of paddings is beneficial. The reference levels were omitted.\", \n",
    "  type = 'latex'\n",
    "          #,out = paste0(dir_out, \"/1_cv_models.tex\"\n",
    "         )"
   ]
  },
  {
   "cell_type": "markdown",
   "metadata": {},
   "source": [
    "## E. How does enzyme type might affect differently the performances of some padding types?"
   ]
  },
  {
   "cell_type": "code",
   "execution_count": 73,
   "metadata": {},
   "outputs": [
    {
     "name": "stdout",
     "output_type": "stream",
     "text": [
      "\n",
      "% Table created by stargazer v.5.2.2 by Marek Hlavac, Harvard University. E-mail: hlavac at fas.harvard.edu\n",
      "% Date and time: Mon, Dec 30, 2019 - 12:28:31 AM\n",
      "\\begin{table}[!htbp] \\centering \n",
      "  \\caption{Linear model on F1-score to analyze how does enzyme type might affect differently the performances of some padding types. The reference levels were omitted.} \n",
      "  \\label{tab:E} \n",
      "\\begin{tabular}{@{\\extracolsep{5pt}}lcc} \n",
      "\\\\[-1.8ex]\\hline \n",
      "\\hline \\\\[-1.8ex] \n",
      " & Task 1 & Task 2 \\\\ \n",
      " architecture1\\_conv & 0.005 ($-$0.003, 0.013) & $-$0.0002 ($-$0.019, 0.019) \\\\ \n",
      "  enz\\_type2 &  & 0.162$^{***}$ (0.120, 0.204) \\\\ \n",
      "  enz\\_type3 &  & 0.098$^{***}$ (0.056, 0.140) \\\\ \n",
      "  enz\\_type4 &  & $-$0.003 ($-$0.044, 0.039) \\\\ \n",
      "  enz\\_type5 &  & 0.141$^{***}$ (0.100, 0.183) \\\\ \n",
      "  enz\\_type6 &  & 0.075$^{***}$ (0.033, 0.116) \\\\ \n",
      "  enz\\_type7 &  & 0.140$^{***}$ (0.099, 0.182) \\\\ \n",
      "  architectureonly\\_denses & 0.050$^{***}$ (0.042, 0.058) & $-$0.022$^{**}$ ($-$0.041, $-$0.002) \\\\ \n",
      "  enz\\_type1 & 0.009$^{*}$ ($-$0.001, 0.018) &  \\\\ \n",
      "  type\\_paddingstrf\\_padding & $-$0.006 ($-$0.015, 0.003) & 0.030 ($-$0.012, 0.072) \\\\ \n",
      "  enz\\_type1:type\\_paddingstrf\\_padding & 0.010 ($-$0.004, 0.023) &  \\\\ \n",
      "  enz\\_type2:type\\_paddingstrf\\_padding &  & $-$0.006 ($-$0.065, 0.053) \\\\ \n",
      "  enz\\_type3:type\\_paddingstrf\\_padding &  & $-$0.009 ($-$0.068, 0.050) \\\\ \n",
      "  enz\\_type4:type\\_paddingstrf\\_padding &  & $-$0.036 ($-$0.095, 0.023) \\\\ \n",
      "  enz\\_type5:type\\_paddingstrf\\_padding &  & 0.001 ($-$0.058, 0.059) \\\\ \n",
      "  enz\\_type6:type\\_paddingstrf\\_padding &  & $-$0.047 ($-$0.106, 0.011) \\\\ \n",
      "  enz\\_type7:type\\_paddingstrf\\_padding &  & $-$0.034 ($-$0.092, 0.025) \\\\ \n",
      "  Constant & 0.861$^{***}$ (0.853, 0.869) & 0.457$^{***}$ (0.426, 0.489) \\\\ \n",
      " \\hline \\\\[-1.8ex] \n",
      "Observations & 120 & 420 \\\\ \n",
      "R$^{2}$ & 0.629 & 0.405 \\\\ \n",
      "Adjusted R$^{2}$ & 0.613 & 0.383 \\\\ \n",
      "Residual Std. Error & 0.019 (df = 114) & 0.082 (df = 404) \\\\ \n",
      "F Statistic & 38.674$^{***}$ (df = 5; 114) & 18.319$^{***}$ (df = 15; 404) \\\\ \n",
      "\\hline \n",
      "\\hline \\\\[-1.8ex] \n",
      "\\textit{Note:}  & \\multicolumn{2}{r}{$^{*}$p$<$0.1; $^{**}$p$<$0.05; $^{***}$p$<$0.01} \\\\ \n",
      "\\end{tabular} \n",
      "\\end{table} \n"
     ]
    }
   ],
   "source": [
    "stargazer::stargazer(lm_f1_task1_E, lm_f1_task2_E,   \n",
    "          column.labels = c(\"Task 1\", \"Task 2\"), \n",
    "  model.numbers = FALSE,\n",
    "  ci = TRUE, ci.level = 0.95, \n",
    "  single.row = TRUE, omit.table.layout = \"mdl\", \n",
    "  label = \"tab:E\",\n",
    "  title = \"Linear model on F1-score to analyze how does enzyme type might affect differently the performances of some padding types. The reference levels were omitted.\", \n",
    "  type = 'latex'\n",
    "          #,out = paste0(dir_out, \"/1_cv_models.tex\"\n",
    "         )"
   ]
  },
  {
   "cell_type": "markdown",
   "metadata": {},
   "source": [
    "## Grobbing"
   ]
  },
  {
   "cell_type": "markdown",
   "metadata": {},
   "source": [
    "## Full model"
   ]
  },
  {
   "cell_type": "code",
   "execution_count": 409,
   "metadata": {},
   "outputs": [
    {
     "data": {
      "image/png": "[encoded data removed]",
      "text/plain": [
       "plot without title"
      ]
     },
     "metadata": {},
     "output_type": "display_data"
    }
   ],
   "source": [
    "options(repr.plot.width=6.7)\n",
    "gs = list(ggplotGrob(g1_task1), ggplotGrob(g1_task2))\n",
    "grid.arrange(grobs = gs, ncol=2)"
   ]
  },
  {
   "cell_type": "code",
   "execution_count": null,
   "metadata": {},
   "outputs": [],
   "source": []
  }
 ],
 "metadata": {
  "kernelspec": {
   "display_name": "R",
   "language": "R",
   "name": "ir"
  },
  "language_info": {
   "codemirror_mode": "r",
   "file_extension": ".r",
   "mimetype": "text/x-r-source",
   "name": "R",
   "pygments_lexer": "r",
   "version": "3.4.4"
  }
 },
 "nbformat": 4,
 "nbformat_minor": 2
}
