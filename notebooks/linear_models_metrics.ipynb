{
 "cells": [
  {
   "cell_type": "code",
   "execution_count": 24,
   "metadata": {},
   "outputs": [],
   "source": [
    "library(\"reshape2\")"
   ]
  },
  {
   "cell_type": "code",
   "execution_count": 2,
   "metadata": {},
   "outputs": [],
   "source": [
    "absPath = '/home/angela/padding_EBI/'"
   ]
  },
  {
   "cell_type": "code",
   "execution_count": null,
   "metadata": {},
   "outputs": [],
   "source": [
    "file_scores <- \"scores_final.csv\"\n",
    "file_accuracy <- \"accu_final.csv\""
   ]
  },
  {
   "cell_type": "markdown",
   "metadata": {},
   "source": [
    "# Task 1"
   ]
  },
  {
   "cell_type": "code",
   "execution_count": 6,
   "metadata": {},
   "outputs": [],
   "source": [
    "task <- \"task1/\"\n",
    "\n",
    "path_scores_task1 <- paste0(absPath, \"data/results/\", task, file_scores)\n",
    "path_accu_task1 <- paste0(absPath, \"data/results/\", task, file_accuracy)\n",
    "\n",
    "scores_task1 <- read.csv(file=path_scores_task1, header=TRUE, sep=\",\")\n",
    "accu_task1 <- read.csv(file=path_accu_task1, header=TRUE, sep=\",\")"
   ]
  },
  {
   "cell_type": "markdown",
   "metadata": {},
   "source": [
    "## Scores"
   ]
  },
  {
   "cell_type": "code",
   "execution_count": 13,
   "metadata": {},
   "outputs": [
    {
     "data": {
      "text/html": [
       "<table>\n",
       "<caption>A data.frame: 5 x 7</caption>\n",
       "<thead>\n",
       "\t<tr><th scope=col>X</th><th scope=col>enz_type</th><th scope=col>index</th><th scope=col>type_padding</th><th scope=col>architecture</th><th scope=col>variable</th><th scope=col>value</th></tr>\n",
       "\t<tr><th scope=col>&lt;int&gt;</th><th scope=col>&lt;fct&gt;</th><th scope=col>&lt;int&gt;</th><th scope=col>&lt;fct&gt;</th><th scope=col>&lt;fct&gt;</th><th scope=col>&lt;fct&gt;</th><th scope=col>&lt;dbl&gt;</th></tr>\n",
       "</thead>\n",
       "<tbody>\n",
       "\t<tr><td>0</td><td>0           </td><td>0</td><td>post_padding</td><td>1_conv</td><td>f1-score</td><td>0.8548043</td></tr>\n",
       "\t<tr><td>1</td><td>1           </td><td>0</td><td>post_padding</td><td>1_conv</td><td>f1-score</td><td>0.8642715</td></tr>\n",
       "\t<tr><td>2</td><td>micro avg   </td><td>0</td><td>post_padding</td><td>1_conv</td><td>f1-score</td><td>0.8596974</td></tr>\n",
       "\t<tr><td>3</td><td>macro avg   </td><td>0</td><td>post_padding</td><td>1_conv</td><td>f1-score</td><td>0.8595379</td></tr>\n",
       "\t<tr><td>4</td><td>weighted avg</td><td>0</td><td>post_padding</td><td>1_conv</td><td>f1-score</td><td>0.8600099</td></tr>\n",
       "</tbody>\n",
       "</table>\n"
      ],
      "text/latex": [
       "A data.frame: 5 x 7\n",
       "\\begin{tabular}{r|lllllll}\n",
       " X & enz\\_type & index & type\\_padding & architecture & variable & value\\\\\n",
       " <int> & <fct> & <int> & <fct> & <fct> & <fct> & <dbl>\\\\\n",
       "\\hline\n",
       "\t 0 & 0            & 0 & post\\_padding & 1\\_conv & f1-score & 0.8548043\\\\\n",
       "\t 1 & 1            & 0 & post\\_padding & 1\\_conv & f1-score & 0.8642715\\\\\n",
       "\t 2 & micro avg    & 0 & post\\_padding & 1\\_conv & f1-score & 0.8596974\\\\\n",
       "\t 3 & macro avg    & 0 & post\\_padding & 1\\_conv & f1-score & 0.8595379\\\\\n",
       "\t 4 & weighted avg & 0 & post\\_padding & 1\\_conv & f1-score & 0.8600099\\\\\n",
       "\\end{tabular}\n"
      ],
      "text/markdown": [
       "\n",
       "A data.frame: 5 x 7\n",
       "\n",
       "| X &lt;int&gt; | enz_type &lt;fct&gt; | index &lt;int&gt; | type_padding &lt;fct&gt; | architecture &lt;fct&gt; | variable &lt;fct&gt; | value &lt;dbl&gt; |\n",
       "|---|---|---|---|---|---|---|\n",
       "| 0 | 0            | 0 | post_padding | 1_conv | f1-score | 0.8548043 |\n",
       "| 1 | 1            | 0 | post_padding | 1_conv | f1-score | 0.8642715 |\n",
       "| 2 | micro avg    | 0 | post_padding | 1_conv | f1-score | 0.8596974 |\n",
       "| 3 | macro avg    | 0 | post_padding | 1_conv | f1-score | 0.8595379 |\n",
       "| 4 | weighted avg | 0 | post_padding | 1_conv | f1-score | 0.8600099 |\n",
       "\n"
      ],
      "text/plain": [
       "  X enz_type     index type_padding architecture variable value    \n",
       "1 0 0            0     post_padding 1_conv       f1-score 0.8548043\n",
       "2 1 1            0     post_padding 1_conv       f1-score 0.8642715\n",
       "3 2 micro avg    0     post_padding 1_conv       f1-score 0.8596974\n",
       "4 3 macro avg    0     post_padding 1_conv       f1-score 0.8595379\n",
       "5 4 weighted avg 0     post_padding 1_conv       f1-score 0.8600099"
      ]
     },
     "metadata": {},
     "output_type": "display_data"
    }
   ],
   "source": [
    "scores_task1[0:5,]\n",
    "scores_task1$X <- NULL"
   ]
  },
  {
   "cell_type": "code",
   "execution_count": 16,
   "metadata": {},
   "outputs": [
    {
     "data": {
      "text/html": [
       "<dl class=dl-horizontal>\n",
       "\t<dt>enz_type</dt>\n",
       "\t\t<dd>'factor'</dd>\n",
       "\t<dt>index</dt>\n",
       "\t\t<dd>'integer'</dd>\n",
       "\t<dt>type_padding</dt>\n",
       "\t\t<dd>'factor'</dd>\n",
       "\t<dt>architecture</dt>\n",
       "\t\t<dd>'factor'</dd>\n",
       "\t<dt>variable</dt>\n",
       "\t\t<dd>'factor'</dd>\n",
       "\t<dt>value</dt>\n",
       "\t\t<dd>'numeric'</dd>\n",
       "</dl>\n"
      ],
      "text/latex": [
       "\\begin{description*}\n",
       "\\item[enz\\textbackslash{}\\_type] 'factor'\n",
       "\\item[index] 'integer'\n",
       "\\item[type\\textbackslash{}\\_padding] 'factor'\n",
       "\\item[architecture] 'factor'\n",
       "\\item[variable] 'factor'\n",
       "\\item[value] 'numeric'\n",
       "\\end{description*}\n"
      ],
      "text/markdown": [
       "enz_type\n",
       ":   'factor'index\n",
       ":   'integer'type_padding\n",
       ":   'factor'architecture\n",
       ":   'factor'variable\n",
       ":   'factor'value\n",
       ":   'numeric'\n",
       "\n"
      ],
      "text/plain": [
       "    enz_type        index type_padding architecture     variable        value \n",
       "    \"factor\"    \"integer\"     \"factor\"     \"factor\"     \"factor\"    \"numeric\" "
      ]
     },
     "metadata": {},
     "output_type": "display_data"
    }
   ],
   "source": [
    "#filtering \n",
    "scores_task1 <- scores_task1[scores_task1$enz_type %in% c(0,1),]\n",
    "\n",
    "sapply(scores_task1, class)"
   ]
  },
  {
   "cell_type": "code",
   "execution_count": 31,
   "metadata": {},
   "outputs": [],
   "source": [
    "# habria que hacer un unmelt de variable-value\n",
    "scores_task1_dcasted <- dcast(data = scores_task1,formula = enz_type+index+type_padding+architecture~variable,\n",
    "                              fun.aggregate = sum,value.var = \"value\")"
   ]
  },
  {
   "cell_type": "code",
   "execution_count": 33,
   "metadata": {},
   "outputs": [
    {
     "data": {
      "text/html": [
       "<table>\n",
       "<caption>A data.frame: 5 x 7</caption>\n",
       "<thead>\n",
       "\t<tr><th scope=col>enz_type</th><th scope=col>index</th><th scope=col>type_padding</th><th scope=col>architecture</th><th scope=col>f1_score</th><th scope=col>precision</th><th scope=col>recall</th></tr>\n",
       "\t<tr><th scope=col>&lt;fct&gt;</th><th scope=col>&lt;int&gt;</th><th scope=col>&lt;fct&gt;</th><th scope=col>&lt;fct&gt;</th><th scope=col>&lt;dbl&gt;</th><th scope=col>&lt;dbl&gt;</th><th scope=col>&lt;dbl&gt;</th></tr>\n",
       "</thead>\n",
       "<tbody>\n",
       "\t<tr><td>0</td><td>0</td><td>aug_padding</td><td>1_conv     </td><td>0.7512593</td><td>0.6471795</td><td>0.8952308</td></tr>\n",
       "\t<tr><td>0</td><td>0</td><td>aug_padding</td><td>bi_lstm    </td><td>0.7167895</td><td>0.5736383</td><td>0.9551457</td></tr>\n",
       "\t<tr><td>0</td><td>0</td><td>aug_padding</td><td>only_denses</td><td>0.8760426</td><td>0.8434343</td><td>0.9112736</td></tr>\n",
       "\t<tr><td>0</td><td>0</td><td>aug_padding</td><td>stack_conv </td><td>0.7811460</td><td>0.6844007</td><td>0.9097457</td></tr>\n",
       "\t<tr><td>0</td><td>0</td><td>ext_padding</td><td>1_conv     </td><td>0.8403179</td><td>0.7971213</td><td>0.8884645</td></tr>\n",
       "</tbody>\n",
       "</table>\n"
      ],
      "text/latex": [
       "A data.frame: 5 x 7\n",
       "\\begin{tabular}{r|lllllll}\n",
       " enz\\_type & index & type\\_padding & architecture & f1\\_score & precision & recall\\\\\n",
       " <fct> & <int> & <fct> & <fct> & <dbl> & <dbl> & <dbl>\\\\\n",
       "\\hline\n",
       "\t 0 & 0 & aug\\_padding & 1\\_conv      & 0.7512593 & 0.6471795 & 0.8952308\\\\\n",
       "\t 0 & 0 & aug\\_padding & bi\\_lstm     & 0.7167895 & 0.5736383 & 0.9551457\\\\\n",
       "\t 0 & 0 & aug\\_padding & only\\_denses & 0.8760426 & 0.8434343 & 0.9112736\\\\\n",
       "\t 0 & 0 & aug\\_padding & stack\\_conv  & 0.7811460 & 0.6844007 & 0.9097457\\\\\n",
       "\t 0 & 0 & ext\\_padding & 1\\_conv      & 0.8403179 & 0.7971213 & 0.8884645\\\\\n",
       "\\end{tabular}\n"
      ],
      "text/markdown": [
       "\n",
       "A data.frame: 5 x 7\n",
       "\n",
       "| enz_type &lt;fct&gt; | index &lt;int&gt; | type_padding &lt;fct&gt; | architecture &lt;fct&gt; | f1_score &lt;dbl&gt; | precision &lt;dbl&gt; | recall &lt;dbl&gt; |\n",
       "|---|---|---|---|---|---|---|\n",
       "| 0 | 0 | aug_padding | 1_conv      | 0.7512593 | 0.6471795 | 0.8952308 |\n",
       "| 0 | 0 | aug_padding | bi_lstm     | 0.7167895 | 0.5736383 | 0.9551457 |\n",
       "| 0 | 0 | aug_padding | only_denses | 0.8760426 | 0.8434343 | 0.9112736 |\n",
       "| 0 | 0 | aug_padding | stack_conv  | 0.7811460 | 0.6844007 | 0.9097457 |\n",
       "| 0 | 0 | ext_padding | 1_conv      | 0.8403179 | 0.7971213 | 0.8884645 |\n",
       "\n"
      ],
      "text/plain": [
       "  enz_type index type_padding architecture f1_score  precision recall   \n",
       "1 0        0     aug_padding  1_conv       0.7512593 0.6471795 0.8952308\n",
       "2 0        0     aug_padding  bi_lstm      0.7167895 0.5736383 0.9551457\n",
       "3 0        0     aug_padding  only_denses  0.8760426 0.8434343 0.9112736\n",
       "4 0        0     aug_padding  stack_conv   0.7811460 0.6844007 0.9097457\n",
       "5 0        0     ext_padding  1_conv       0.8403179 0.7971213 0.8884645"
      ]
     },
     "metadata": {},
     "output_type": "display_data"
    }
   ],
   "source": [
    "#tengo que cambiar el nombre de f1-score\n",
    "colnames(scores_task1_dcasted) <- c(\"enz_type\", \"index\", \"type_padding\", \"architecture\", \"f1_score\",\n",
    "                                    \"precision\", \"recall\")\n",
    "scores_task1_dcasted[0:5,]"
   ]
  },
  {
   "cell_type": "code",
   "execution_count": 35,
   "metadata": {},
   "outputs": [],
   "source": [
    "lm_f1_task1 <- lm(f1_score~architecture+enz_type+type_padding, data=scores_task1_dcasted)"
   ]
  },
  {
   "cell_type": "code",
   "execution_count": 36,
   "metadata": {},
   "outputs": [
    {
     "data": {
      "text/plain": [
       "\n",
       "Call:\n",
       "lm(formula = f1_score ~ architecture + enz_type + type_padding, \n",
       "    data = scores_task1_dcasted)\n",
       "\n",
       "Residuals:\n",
       "     Min       1Q   Median       3Q      Max \n",
       "-0.72626 -0.01819  0.00412  0.02333  0.09002 \n",
       "\n",
       "Coefficients:\n",
       "                          Estimate Std. Error t value Pr(>|t|)    \n",
       "(Intercept)               0.779111   0.006112 127.471  < 2e-16 ***\n",
       "architecturebi_lstm      -0.080619   0.004990 -16.155  < 2e-16 ***\n",
       "architectureonly_denses   0.063287   0.004990  12.682  < 2e-16 ***\n",
       "architecturestack_conv    0.010937   0.004990   2.192  0.02878 *  \n",
       "enz_type1                 0.024232   0.003529   6.867 1.58e-11 ***\n",
       "type_paddingext_padding   0.027770   0.007058   3.935 9.26e-05 ***\n",
       "type_paddingmid_padding   0.078306   0.007058  11.095  < 2e-16 ***\n",
       "type_paddingpost_padding  0.073154   0.007058  10.365  < 2e-16 ***\n",
       "type_paddingpre_padding   0.061448   0.007058   8.707  < 2e-16 ***\n",
       "type_paddingrnd_padding   0.020639   0.007058   2.924  0.00358 ** \n",
       "type_paddingstrf_padding  0.062846   0.007058   8.905  < 2e-16 ***\n",
       "type_paddingzoom_padding  0.064763   0.007058   9.176  < 2e-16 ***\n",
       "---\n",
       "Signif. codes:  0 ‘***’ 0.001 ‘**’ 0.01 ‘*’ 0.05 ‘.’ 0.1 ‘ ’ 1\n",
       "\n",
       "Residual standard error: 0.04464 on 628 degrees of freedom\n",
       "Multiple R-squared:  0.6424,\tAdjusted R-squared:  0.6361 \n",
       "F-statistic: 102.6 on 11 and 628 DF,  p-value: < 2.2e-16\n"
      ]
     },
     "metadata": {},
     "output_type": "display_data"
    }
   ],
   "source": [
    "summary(lm_f1_task1)"
   ]
  },
  {
   "cell_type": "markdown",
   "metadata": {},
   "source": [
    "### Accuracy"
   ]
  },
  {
   "cell_type": "code",
   "execution_count": 9,
   "metadata": {},
   "outputs": [
    {
     "data": {
      "text/html": [
       "<table>\n",
       "<caption>A data.frame: 5 x 5</caption>\n",
       "<thead>\n",
       "\t<tr><th scope=col>X</th><th scope=col>index</th><th scope=col>variable</th><th scope=col>value</th><th scope=col>architecture</th></tr>\n",
       "\t<tr><th scope=col>&lt;int&gt;</th><th scope=col>&lt;int&gt;</th><th scope=col>&lt;fct&gt;</th><th scope=col>&lt;dbl&gt;</th><th scope=col>&lt;fct&gt;</th></tr>\n",
       "</thead>\n",
       "<tbody>\n",
       "\t<tr><td>0</td><td>0</td><td>post_padding</td><td>0.8596974</td><td>1_conv</td></tr>\n",
       "\t<tr><td>1</td><td>1</td><td>post_padding</td><td>0.8820495</td><td>1_conv</td></tr>\n",
       "\t<tr><td>2</td><td>2</td><td>post_padding</td><td>0.8786107</td><td>1_conv</td></tr>\n",
       "\t<tr><td>3</td><td>3</td><td>post_padding</td><td>0.8772352</td><td>1_conv</td></tr>\n",
       "\t<tr><td>4</td><td>4</td><td>post_padding</td><td>0.8693260</td><td>1_conv</td></tr>\n",
       "</tbody>\n",
       "</table>\n"
      ],
      "text/latex": [
       "A data.frame: 5 x 5\n",
       "\\begin{tabular}{r|lllll}\n",
       " X & index & variable & value & architecture\\\\\n",
       " <int> & <int> & <fct> & <dbl> & <fct>\\\\\n",
       "\\hline\n",
       "\t 0 & 0 & post\\_padding & 0.8596974 & 1\\_conv\\\\\n",
       "\t 1 & 1 & post\\_padding & 0.8820495 & 1\\_conv\\\\\n",
       "\t 2 & 2 & post\\_padding & 0.8786107 & 1\\_conv\\\\\n",
       "\t 3 & 3 & post\\_padding & 0.8772352 & 1\\_conv\\\\\n",
       "\t 4 & 4 & post\\_padding & 0.8693260 & 1\\_conv\\\\\n",
       "\\end{tabular}\n"
      ],
      "text/markdown": [
       "\n",
       "A data.frame: 5 x 5\n",
       "\n",
       "| X &lt;int&gt; | index &lt;int&gt; | variable &lt;fct&gt; | value &lt;dbl&gt; | architecture &lt;fct&gt; |\n",
       "|---|---|---|---|---|\n",
       "| 0 | 0 | post_padding | 0.8596974 | 1_conv |\n",
       "| 1 | 1 | post_padding | 0.8820495 | 1_conv |\n",
       "| 2 | 2 | post_padding | 0.8786107 | 1_conv |\n",
       "| 3 | 3 | post_padding | 0.8772352 | 1_conv |\n",
       "| 4 | 4 | post_padding | 0.8693260 | 1_conv |\n",
       "\n"
      ],
      "text/plain": [
       "  X index variable     value     architecture\n",
       "1 0 0     post_padding 0.8596974 1_conv      \n",
       "2 1 1     post_padding 0.8820495 1_conv      \n",
       "3 2 2     post_padding 0.8786107 1_conv      \n",
       "4 3 3     post_padding 0.8772352 1_conv      \n",
       "5 4 4     post_padding 0.8693260 1_conv      "
      ]
     },
     "metadata": {},
     "output_type": "display_data"
    }
   ],
   "source": [
    "accu_task1[0:5,]"
   ]
  },
  {
   "cell_type": "code",
   "execution_count": 11,
   "metadata": {},
   "outputs": [],
   "source": [
    "accu_task1$X <- NULL\n",
    "#de momento no lo hago con la accuracy porque no tengo tipo de enzima"
   ]
  },
  {
   "cell_type": "markdown",
   "metadata": {},
   "source": [
    "# Task 2"
   ]
  },
  {
   "cell_type": "code",
   "execution_count": null,
   "metadata": {},
   "outputs": [],
   "source": [
    "task <- \"task2/\"\n",
    "\n",
    "path_scores_task2 <- paste0(absPath, \"data/results/\", task, file_scores)\n",
    "path_accu_task2 <- paste0(absPath, \"data/results/\", task, file_accuracy)\n",
    "\n",
    "scores_task2 <- read.csv(file=path_scores_task2, header=TRUE, sep=\",\")\n",
    "accu_task2 <- read.csv(file=path_accu_task2, header=TRUE, sep=\",\")"
   ]
  },
  {
   "cell_type": "markdown",
   "metadata": {},
   "source": [
    "## Scores"
   ]
  },
  {
   "cell_type": "code",
   "execution_count": null,
   "metadata": {},
   "outputs": [],
   "source": [
    "scores_task2[0:5,]\n",
    "scores_task2$X <- NULL"
   ]
  },
  {
   "cell_type": "code",
   "execution_count": null,
   "metadata": {},
   "outputs": [],
   "source": [
    "#filtering \n",
    "scores_task2 <- scores_task2[scores_task2$enz_type %in% c(0,1),]\n",
    "\n",
    "sapply(scores_task2, class)"
   ]
  },
  {
   "cell_type": "code",
   "execution_count": null,
   "metadata": {},
   "outputs": [],
   "source": [
    "# habria que hacer un unmelt de variable-value\n",
    "scores_task2_dcasted <- dcast(data = scores_task2, formula = enz_type+index+type_padding+architecture~variable,\n",
    "                              fun.aggregate = sum,value.var = \"value\")"
   ]
  },
  {
   "cell_type": "code",
   "execution_count": null,
   "metadata": {},
   "outputs": [],
   "source": [
    "#tengo que cambiar el nombre de f1-score\n",
    "colnames(scores_task2_dcasted) <- c(\"enz_type\", \"index\", \"type_padding\", \"architecture\", \"f1_score\",\n",
    "                                    \"precision\", \"recall\")\n",
    "scores_task2_dcasted[0:5,]"
   ]
  },
  {
   "cell_type": "code",
   "execution_count": null,
   "metadata": {},
   "outputs": [],
   "source": [
    "lm_f1_task2 <- lm(f1_score~architecture+enz_type+type_padding, data=scores_task2_dcasted)"
   ]
  },
  {
   "cell_type": "code",
   "execution_count": null,
   "metadata": {},
   "outputs": [],
   "source": [
    "summary(lm_f1_task2)"
   ]
  },
  {
   "cell_type": "markdown",
   "metadata": {},
   "source": [
    "## Accuracy"
   ]
  },
  {
   "cell_type": "code",
   "execution_count": null,
   "metadata": {},
   "outputs": [],
   "source": []
  }
 ],
 "metadata": {
  "kernelspec": {
   "display_name": "R",
   "language": "R",
   "name": "ir"
  },
  "language_info": {
   "codemirror_mode": "r",
   "file_extension": ".r",
   "mimetype": "text/x-r-source",
   "name": "R",
   "pygments_lexer": "r",
   "version": "3.4.4"
  }
 },
 "nbformat": 4,
 "nbformat_minor": 2
}
