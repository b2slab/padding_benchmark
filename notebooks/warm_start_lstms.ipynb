{
 "cells": [
  {
   "cell_type": "code",
   "execution_count": 1,
   "metadata": {},
   "outputs": [
    {
     "name": "stderr",
     "output_type": "stream",
     "text": [
      "Using TensorFlow backend.\n"
     ]
    }
   ],
   "source": [
    "from __future__ import division, absolute_import\n",
    "\n",
    "import os\n",
    "import sys\n",
    "import random\n",
    "\n",
    "import numpy as np\n",
    "import datetime\n",
    "\n",
    "#root\n",
    "absPath = '/home/angela/padding_EBI/'\n",
    "sys.path.insert(0, absPath)\n",
    "\n",
    "#from src.Target import Target\n",
    "\n",
    "np.random.seed(8)\n",
    "random.seed(8)\n",
    "\n",
    "from src.preprocessing import *\n",
    "from src.model_architecture import *\n",
    "from src.training_model import *\n",
    "from src.postprocessing import *\n",
    "from src.comparing_results import *\n",
    "#from src.callbacks import *\n",
    "%matplotlib inline"
   ]
  },
  {
   "cell_type": "markdown",
   "metadata": {},
   "source": [
    "### Defining parameters"
   ]
  },
  {
   "cell_type": "code",
   "execution_count": 2,
   "metadata": {},
   "outputs": [],
   "source": [
    "list_paddings = [\n",
    "    'post_padding', 'pre_padding', 'mid_padding', 'strf_padding', 'ext_padding', \n",
    "                'rnd_padding', \n",
    "                 'aug_padding',\n",
    "                \"zoom_padding\"\n",
    "]\n",
    "\n",
    "#hierarchy of folders: annotation/dataset/architecture/n_neurs/task/padding\n",
    "folder = 'EC_number/archaea/rnn_conv/256rnn/'\n",
    "column = \"EC number\"\n",
    "\n",
    "n_folds = 10\n",
    "\n",
    "dicti = creating_dict()\n",
    "\n",
    "max_lenn = 1000\n",
    "\n",
    "n_class = 7 #number of classes to output\n",
    "drop_per = 0.2 #Input dropout \n",
    "n_neur = [313,76]\n",
    "drop_hid = 0.5\n",
    "dict_size = len(dicti)\n",
    "final_act = \"softmax\"\n",
    "n_filt = 64 #None\n",
    "kernel_size = [5] #[1,3,5,9,15]#[5] #None\n",
    "pool_size = 10 #None\n",
    "n_hid = 256 #None\n",
    "\n",
    "batch_size = 54\n",
    "epochss = 500\n",
    "\n",
    "callbacks_list = [None, None, None, None, False, False, False, False]\n",
    "task = \"task2/\"\n",
    "#architecture = \"only_denses\"\n",
    "#architecture = \"conv_dense\"\n",
    "architecture = \"rnn_conv\"\n",
    "#architecture = \"stack_conv\""
   ]
  },
  {
   "cell_type": "code",
   "execution_count": 3,
   "metadata": {},
   "outputs": [],
   "source": [
    "lr=.0001\n",
    "optimizer = Adam(lr=lr)"
   ]
  },
  {
   "cell_type": "markdown",
   "metadata": {},
   "source": [
    "### Loading stuff"
   ]
  },
  {
   "cell_type": "code",
   "execution_count": 4,
   "metadata": {},
   "outputs": [],
   "source": [
    "###LOADING ENZYME INDICES BECAUSE THIS IS TASK 2\n",
    "\n",
    "file_idcs_aug = os.path.join(absPath, 'data/', folder, 'idcs_aug_enz.pickle')\n",
    "\n",
    "with open(file_idcs_aug, \"rb\") as input_file:\n",
    "    k_aug_indices = pickle.load(input_file)\n",
    "    \n",
    "file_idcs = os.path.join(absPath, 'data/', folder, 'idcs_data_enz.pickle')\n",
    "\n",
    "with open(file_idcs, \"rb\") as input_file:\n",
    "    splitting_sets = pickle.load(input_file)"
   ]
  },
  {
   "cell_type": "markdown",
   "metadata": {},
   "source": [
    "### Deep learning model - task 2"
   ]
  },
  {
   "cell_type": "code",
   "execution_count": 5,
   "metadata": {},
   "outputs": [
    {
     "name": "stdout",
     "output_type": "stream",
     "text": [
      "_________________________________________________________________\n",
      "Layer (type)                 Output Shape              Param #   \n",
      "=================================================================\n",
      "input_1 (InputLayer)         (None, 1000, 26)          0         \n",
      "_________________________________________________________________\n",
      "dropout_1 (Dropout)          (None, 1000, 26)          0         \n",
      "_________________________________________________________________\n",
      "conv1d_1 (Conv1D)            (None, 1000, 64)          8384      \n",
      "_________________________________________________________________\n",
      "max_pooling1d_1 (MaxPooling1 (None, 100, 64)           0         \n",
      "_________________________________________________________________\n",
      "dropout_2 (Dropout)          (None, 100, 64)           0         \n",
      "_________________________________________________________________\n",
      "bidirectional_1 (Bidirection (None, 512)               657408    \n",
      "_________________________________________________________________\n",
      "dense_1 (Dense)              (None, 313)               160569    \n",
      "_________________________________________________________________\n",
      "dropout_3 (Dropout)          (None, 313)               0         \n",
      "_________________________________________________________________\n",
      "dense_2 (Dense)              (None, 76)                23864     \n",
      "_________________________________________________________________\n",
      "dropout_4 (Dropout)          (None, 76)                0         \n",
      "_________________________________________________________________\n",
      "dense_3 (Dense)              (None, 7)                 539       \n",
      "=================================================================\n",
      "Total params: 850,764\n",
      "Trainable params: 850,764\n",
      "Non-trainable params: 0\n",
      "_________________________________________________________________\n",
      "None\n"
     ]
    }
   ],
   "source": [
    "generators_dict = {} \n",
    "for model_type in list_paddings:\n",
    "    generators_dict[model_type] = trainval_generators(splitting_sets, k_aug_indices, model_type, \n",
    "                                                      folder, batch_size, 'labels_task2', True)\n",
    "    \n",
    "model = building_convrnn_model_task2(max_lenn, dict_size, n_neur, n_class, drop_per, drop_hid, \n",
    "                                 n_filt, kernel_size, pool_size, n_hid, final_act, folder, optimizer)"
   ]
  },
  {
   "cell_type": "code",
   "execution_count": 6,
   "metadata": {},
   "outputs": [
    {
     "data": {
      "text/plain": [
       "[<keras.engine.input_layer.InputLayer at 0x7f43943fd2b0>,\n",
       " <keras.layers.core.Dropout at 0x7f43943fd320>,\n",
       " <keras.layers.convolutional.Conv1D at 0x7f43943fd588>,\n",
       " <keras.layers.core.Dense at 0x7f43943fd470>,\n",
       " <keras.layers.core.Dropout at 0x7f43943fd6d8>,\n",
       " <keras.layers.core.Dense at 0x7f43943fd710>,\n",
       " <keras.layers.core.Dropout at 0x7f43943fd860>,\n",
       " <keras.layers.core.Flatten at 0x7f43943fd898>,\n",
       " <keras.layers.core.Dense at 0x7f43943fd908>]"
      ]
     },
     "execution_count": 6,
     "metadata": {},
     "output_type": "execute_result"
    }
   ],
   "source": [
    "# Ejemplo para saber la lista de layers del modelo cnn y del rnn\n",
    "paddng = \"mid_padding\"\n",
    "n_fold = \"0\"\n",
    "cnn_model_path = \"\".join((absPath, \"data/checkpoint/EC_number/archaea/1conv/64filts_size5/\", \n",
    "                     task, paddng, \"/\", n_fold, \"/\"))\n",
    "cnn_model_file = os.listdir(cnn_model_path)[0]\n",
    "cnn_model = load_model(\"\".join((cnn_model_path, cnn_model_file)))\n",
    "\n",
    "cnn_model.layers"
   ]
  },
  {
   "cell_type": "code",
   "execution_count": 7,
   "metadata": {},
   "outputs": [],
   "source": [
    "#warm_start(model, paddng, folder, task, n_fold, 2)"
   ]
  },
  {
   "cell_type": "code",
   "execution_count": 8,
   "metadata": {},
   "outputs": [
    {
     "data": {
      "text/plain": [
       "[<keras.engine.input_layer.InputLayer at 0x7f439b5e6a58>,\n",
       " <keras.layers.core.Dropout at 0x7f439b5e6940>,\n",
       " <keras.layers.convolutional.Conv1D at 0x7f439b5e6be0>,\n",
       " <keras.layers.pooling.MaxPooling1D at 0x7f4448cb92b0>,\n",
       " <keras.layers.core.Dropout at 0x7f4399e9c940>,\n",
       " <keras.layers.wrappers.Bidirectional at 0x7f43998ec0f0>,\n",
       " <keras.layers.core.Dense at 0x7f43998ec208>,\n",
       " <keras.layers.core.Dropout at 0x7f4399af8eb8>,\n",
       " <keras.layers.core.Dense at 0x7f4399c8e0b8>,\n",
       " <keras.layers.core.Dropout at 0x7f4399a3c6d8>,\n",
       " <keras.layers.core.Dense at 0x7f4399a3c4e0>]"
      ]
     },
     "execution_count": 8,
     "metadata": {},
     "output_type": "execute_result"
    }
   ],
   "source": [
    "model.layers"
   ]
  },
  {
   "cell_type": "markdown",
   "metadata": {},
   "source": [
    "### Defining functions"
   ]
  },
  {
   "cell_type": "code",
   "execution_count": 9,
   "metadata": {},
   "outputs": [],
   "source": [
    "def warm_start(model_rnn, model_type, folder, task, idx, n_layer):\n",
    "    cnn_model_path = \"\".join((absPath, \"data/checkpoint/EC_number/archaea/1conv/64filts_size5/\", \n",
    "                     task, model_type, \"/\", str(idx), \"/\"))\n",
    "    cnn_model_file = os.listdir(cnn_model_path)[0]\n",
    "    cnn_model = load_model(\"\".join((cnn_model_path, cnn_model_file)))\n",
    "    conv_layer_cnn = cnn_model.layers[n_layer].get_weights()\n",
    "    model_rnn.layers[n_layer].set_weights(conv_layer_cnn)\n",
    "    model_rnn.layers[n_layer].trainable = False\n",
    "    return model_rnn\n",
    "\n",
    "def model_training_simplified(model_type, folder, task, idx, callbacks_list, train_generator, val_generator, \n",
    "                              architecture, max_len, dict_size,\n",
    "                             batch_size, n_neur, n_class, drop_per, drop_hid, final_act,\n",
    "                             epochss, len_train, len_val, n_filt, kernel_size, pool_size, nhid, \n",
    "                             optimizer, n_layer):\n",
    "    folder_cp = ''.join(string for string in [folder, task, model_type, '/', str(idx)])\n",
    "    if not os.path.exists(os.path.join(absPath, 'data/checkpoint/', folder_cp)):\n",
    "        os.makedirs(''.join(string for string in [absPath, 'data/checkpoint/', folder_cp]))\n",
    "    callbacks_list = calling_callbacks(folder_cp, folder, model_type, callbacks_list[0], callbacks_list[1], \n",
    "                                        callbacks_list[2], callbacks_list[3], callbacks_list[4], \n",
    "                                        callbacks_list[5], callbacks_list[6], callbacks_list[7])\n",
    "    folder_task =  ''.join(string for string in [folder, task])\n",
    "    model_rnn = model_choice(architecture, task, folder, max_len, dict_size, n_neur, n_class, drop_per, drop_hid, \n",
    "                            final_act, n_filt=n_filt, kernel_size=kernel_size, pool_size=pool_size, \n",
    "                         nhid = nhid, optimizer=optimizer)\n",
    "    model = warm_start(model_rnn, model_type, folder, task, idx, n_layer)\n",
    "    #recompiling to fix the weights\n",
    "    model.compile(loss='categorical_crossentropy', optimizer = optimizer, metrics=['accuracy'])\n",
    "    #writing log file \n",
    "    log_file = ''.join(string for string in [absPath, 'data/checkpoint/', folder, task, 'log_file.txt' ]) \n",
    "    f = open(log_file, 'a+')\n",
    "    print('Model type: %s \\n' % model_type, file=f)\n",
    "    print('Fold: %i \\n' % idx, file=f)\n",
    "    start = time.time()\n",
    "    formatted_time = datetime.datetime.now()\n",
    "    print('Starting time: %s \\n' % formatted_time, file=f)\n",
    "    history = model.fit_generator(generator=train_generator, \n",
    "                            validation_data=val_generator,\n",
    "                            steps_per_epoch= int(len_train/batch_size),\n",
    "                            validation_steps=int(len_val/batch_size),\n",
    "                            epochs=epochss,\n",
    "                            callbacks=callbacks_list,\n",
    "                            verbose=1)\n",
    "    end = time.time()\n",
    "    formatted_endtime = datetime.datetime.now()\n",
    "    print('Finishing time: %s \\n' % formatted_endtime, file=f)\n",
    "    count_time(start, end, folder, model_type, task)\n",
    "    saving_results(history, model_type, folder, task, idx, True)\n",
    "    f.close()    "
   ]
  },
  {
   "cell_type": "markdown",
   "metadata": {},
   "source": [
    "### Training model"
   ]
  },
  {
   "cell_type": "code",
   "execution_count": null,
   "metadata": {},
   "outputs": [
    {
     "name": "stdout",
     "output_type": "stream",
     "text": [
      "_________________________________________________________________\n",
      "Layer (type)                 Output Shape              Param #   \n",
      "=================================================================\n",
      "input_2 (InputLayer)         (None, 1000, 26)          0         \n",
      "_________________________________________________________________\n",
      "dropout_5 (Dropout)          (None, 1000, 26)          0         \n",
      "_________________________________________________________________\n",
      "conv1d_2 (Conv1D)            (None, 1000, 64)          8384      \n",
      "_________________________________________________________________\n",
      "max_pooling1d_2 (MaxPooling1 (None, 100, 64)           0         \n",
      "_________________________________________________________________\n",
      "dropout_6 (Dropout)          (None, 100, 64)           0         \n",
      "_________________________________________________________________\n",
      "bidirectional_2 (Bidirection (None, 512)               657408    \n",
      "_________________________________________________________________\n",
      "dense_4 (Dense)              (None, 313)               160569    \n",
      "_________________________________________________________________\n",
      "dropout_7 (Dropout)          (None, 313)               0         \n",
      "_________________________________________________________________\n",
      "dense_5 (Dense)              (None, 76)                23864     \n",
      "_________________________________________________________________\n",
      "dropout_8 (Dropout)          (None, 76)                0         \n",
      "_________________________________________________________________\n",
      "dense_6 (Dense)              (None, 7)                 539       \n",
      "=================================================================\n",
      "Total params: 850,764\n",
      "Trainable params: 850,764\n",
      "Non-trainable params: 0\n",
      "_________________________________________________________________\n",
      "None\n",
      "Epoch 1/500\n",
      "138/138 [==============================] - 41s 298ms/step - loss: 0.8670 - acc: 0.2256 - val_loss: 0.3321 - val_acc: 0.1003\n",
      "\n",
      "Epoch 00001: val_acc improved from -inf to 0.10026, saving model to /home/angela/padding_EBI/data/checkpoint/EC_number/archaea/rnn_conv/256rnn/task2/post_padding/0/weights-improvement-001-0.1003.hdf5\n",
      "Epoch 2/500\n",
      "138/138 [==============================] - 39s 279ms/step - loss: 0.8389 - acc: 0.1706 - val_loss: 0.3276 - val_acc: 0.1003\n",
      "\n",
      "Epoch 00002: val_acc did not improve from 0.10026\n",
      "Epoch 3/500\n",
      "138/138 [==============================] - 39s 280ms/step - loss: 0.8289 - acc: 0.1660 - val_loss: 0.3257 - val_acc: 0.1003\n",
      "\n",
      "Epoch 00003: val_acc did not improve from 0.10026\n",
      "Epoch 4/500\n",
      "138/138 [==============================] - 39s 279ms/step - loss: 0.8247 - acc: 0.1668 - val_loss: 0.3249 - val_acc: 0.1003\n",
      "\n",
      "Epoch 00004: val_acc did not improve from 0.10026\n",
      "Epoch 5/500\n",
      "138/138 [==============================] - 39s 281ms/step - loss: 0.8194 - acc: 0.1742 - val_loss: 0.3189 - val_acc: 0.1003\n",
      "\n",
      "Epoch 00005: val_acc did not improve from 0.10026\n",
      "Epoch 6/500\n",
      "138/138 [==============================] - 39s 279ms/step - loss: 0.8161 - acc: 0.1720 - val_loss: 0.3167 - val_acc: 0.1003\n",
      "\n",
      "Epoch 00006: val_acc did not improve from 0.10026\n",
      "Epoch 7/500\n",
      "138/138 [==============================] - 39s 280ms/step - loss: 0.8116 - acc: 0.1719 - val_loss: 0.3167 - val_acc: 0.1003\n",
      "\n",
      "Epoch 00007: val_acc did not improve from 0.10026\n",
      "Epoch 8/500\n",
      "138/138 [==============================] - 39s 281ms/step - loss: 0.8106 - acc: 0.1753 - val_loss: 0.3159 - val_acc: 0.1003\n",
      "\n",
      "Epoch 00008: val_acc did not improve from 0.10026\n",
      "Epoch 9/500\n",
      "138/138 [==============================] - 39s 280ms/step - loss: 0.8071 - acc: 0.1765 - val_loss: 0.3130 - val_acc: 0.1003\n",
      "\n",
      "Epoch 00009: val_acc did not improve from 0.10026\n",
      "Epoch 10/500\n",
      "138/138 [==============================] - 39s 281ms/step - loss: 0.8052 - acc: 0.1736 - val_loss: 0.3120 - val_acc: 0.1003\n",
      "\n",
      "Epoch 00010: val_acc did not improve from 0.10026\n",
      "Epoch 11/500\n",
      "138/138 [==============================] - 39s 279ms/step - loss: 0.8061 - acc: 0.1751 - val_loss: 0.3117 - val_acc: 0.1003\n",
      "\n",
      "Epoch 00011: val_acc did not improve from 0.10026\n",
      "Epoch 12/500\n",
      "138/138 [==============================] - 39s 281ms/step - loss: 0.8028 - acc: 0.1749 - val_loss: 0.3108 - val_acc: 0.1003\n",
      "\n",
      "Epoch 00012: val_acc did not improve from 0.10026\n",
      "Epoch 13/500\n",
      "138/138 [==============================] - 38s 278ms/step - loss: 0.8010 - acc: 0.1747 - val_loss: 0.3108 - val_acc: 0.1003\n",
      "\n",
      "Epoch 00013: val_acc did not improve from 0.10026\n",
      "Epoch 14/500\n",
      "138/138 [==============================] - 39s 281ms/step - loss: 0.8012 - acc: 0.1746 - val_loss: 0.3118 - val_acc: 0.1003\n",
      "\n",
      "Epoch 00014: val_acc did not improve from 0.10026\n",
      "Epoch 15/500\n",
      "138/138 [==============================] - 38s 279ms/step - loss: 0.8008 - acc: 0.1755 - val_loss: 0.3113 - val_acc: 0.1003\n",
      "\n",
      "Epoch 00015: val_acc did not improve from 0.10026\n",
      "Epoch 16/500\n",
      " 76/138 [===============>..............] - ETA: 16s - loss: 0.5911 - acc: 0.1503"
     ]
    }
   ],
   "source": [
    "for model_type in list_paddings:\n",
    "    generators = generators_dict[model_type]\n",
    "    for idx,i in enumerate(generators):\n",
    "        if model_type == \"aug_padding\":\n",
    "            i_train, i_val, i_test = k_aug_indices[idx]\n",
    "        else: \n",
    "            i_train, i_val, i_test = splitting_sets[idx]\n",
    "        len_train, len_val, len_test = len(i_train), len(i_val), len(i_test)\n",
    "        train_generator, val_generator = i\n",
    "        # a partir de aqui hay que añadir el tema del warm start\n",
    "        model_training_simplified(model_type, folder, task, idx, callbacks_list, train_generator, \n",
    "                        val_generator, architecture, max_lenn, dict_size, batch_size, \n",
    "                        n_neur, n_class, drop_per, drop_hid, final_act, epochss, \n",
    "                        len_train, len_val,\n",
    "                        n_filt = n_filt, kernel_size=kernel_size, pool_size=pool_size,\n",
    "                      nhid=n_hid, optimizer=optimizer, n_layer=2)"
   ]
  },
  {
   "cell_type": "code",
   "execution_count": null,
   "metadata": {},
   "outputs": [],
   "source": []
  },
  {
   "cell_type": "code",
   "execution_count": null,
   "metadata": {},
   "outputs": [],
   "source": []
  },
  {
   "cell_type": "code",
   "execution_count": null,
   "metadata": {},
   "outputs": [],
   "source": []
  },
  {
   "cell_type": "code",
   "execution_count": null,
   "metadata": {},
   "outputs": [],
   "source": []
  },
  {
   "cell_type": "code",
   "execution_count": null,
   "metadata": {},
   "outputs": [],
   "source": []
  },
  {
   "cell_type": "code",
   "execution_count": null,
   "metadata": {},
   "outputs": [],
   "source": []
  }
 ],
 "metadata": {
  "kernelspec": {
   "display_name": "Python 3",
   "language": "python",
   "name": "python3"
  },
  "language_info": {
   "codemirror_mode": {
    "name": "ipython",
    "version": 3
   },
   "file_extension": ".py",
   "mimetype": "text/x-python",
   "name": "python",
   "nbconvert_exporter": "python",
   "pygments_lexer": "ipython3",
   "version": "3.6.7"
  }
 },
 "nbformat": 4,
 "nbformat_minor": 2
}
