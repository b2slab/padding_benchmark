{
 "cells": [
  {
   "cell_type": "code",
   "execution_count": 160,
   "metadata": {},
   "outputs": [],
   "source": [
    "import sys\n",
    "import os\n",
    "\n",
    "import random\n",
    "import pandas as pd\n",
    "import numpy as np\n",
    "import matplotlib.pyplot as plt\n",
    "\n",
    "from random import choice\n",
    "from string import ascii_lowercase\n",
    "\n",
    "import tensorflow as tf\n",
    "import keras\n",
    "from keras.models import Sequential, Model\n",
    "from keras.layers import Dense, Dropout, LSTM, Bidirectional, Input, concatenate, Reshape, Flatten\n",
    "from keras.callbacks import ModelCheckpoint\n",
    "from keras.layers.convolutional import Conv1D, MaxPooling1D\n",
    "from keras.optimizers import Adam\n",
    "from keras.utils import plot_model\n",
    "from keras.backend.tensorflow_backend import set_session \n",
    "from keras.utils import np_utils\n",
    "from keras.preprocessing import sequence\n",
    "from sklearn.model_selection import train_test_split\n",
    "from sklearn import metrics\n",
    "\n",
    "\n",
    "#root\n",
    "absPath = '/home/angela/padding_uniprot/'\n",
    "sys.path.insert(0, absPath)\n",
    "\n",
    "from src.Target import Target"
   ]
  },
  {
   "cell_type": "code",
   "execution_count": 16,
   "metadata": {},
   "outputs": [],
   "source": [
    "random.seed(8)"
   ]
  },
  {
   "cell_type": "code",
   "execution_count": 111,
   "metadata": {},
   "outputs": [],
   "source": [
    "os.environ[\"CUDA_VISIBLE_DEVICES\"]=\"1\"\n",
    "tf.set_random_seed(22)\n",
    "config = tf.ConfigProto() \n",
    "config.gpu_options.per_process_gpu_memory_fraction = 1"
   ]
  },
  {
   "cell_type": "code",
   "execution_count": 6,
   "metadata": {},
   "outputs": [],
   "source": [
    "#list of amino acids\n",
    "list_aas = ['A', 'B', 'C', 'D', 'E', 'F', 'G', 'H', 'I', 'K', 'L', 'M', 'N', 'O', 'P', 'Q', 'R', 'S', \n",
    "            'T', 'U', 'V', 'W', 'X', 'Y', 'Z']\n",
    "#length of sequences\n",
    "m = 500\n",
    "#sample size (number of sequences)\n",
    "n=20000\n",
    "#creating random sequences\n",
    "rdm_seqs = []\n",
    "for i in range(n):\n",
    "    rdm_seqs.append(\"\".join(choice(list_aas) for j in range(m)))"
   ]
  },
  {
   "cell_type": "code",
   "execution_count": 10,
   "metadata": {},
   "outputs": [
    {
     "name": "stdout",
     "output_type": "stream",
     "text": [
      "There are 20000 sequences\n",
      "Example of first sequence:  LFFPPVOYMUUXDTCQQMAVCXIKTLSWISPWGGKLEWMOQLBZEWSKKAWHLEHHUVIPXZCIZXFHDIPIGWQLIWWCHAZTLRNTLFEIVOIDPARYHIHSATBXZRUEEKTETXAOKNCETBMTGNUSEMQTKRMIPGAKKEIUXAEWSLOPIEMPNCWVNQHUSYVNEXANBDILFHWYCNSSYXKKHGFYAPBFTZZIFUOSDUBTBOYBHATQXRSNMIQXBBIHFDYHLBHAOWHDFUXBWNZTCHQYBXTTLDTEWTSVFLXEYBZGOVAXIFMLBCXXGUPQRNUCDEZBIBEZVMTITILDSWAGCODSLYIKXCMZHCGEDKSHXAIQOVSOWQYWLEYCARZXUFWENVTWZLKEVPIBOBUZOQWXWBHUZBTNFRXVTLPBFZYVIKVSPWCKOTZGDRWPPUYFQXQVPHATTYAEXFISFMKYBNNGNPWBEVHIYECAQFYZRMIDMSXXQXFAASETIQRWDEOCAELXNWTODNKCELLO\n",
      "Example of second sequence:  QUFEGRNGMDARHHBGPMSIQNYFXQAZXBLMSFBPKSUTPUPCNSWNTLDVUPGWYCOLPHNNBIFAWLMARNHVDPRFZPUDMAHHUGAOOXWIOQBTWXXZPQBNZZUBSVWZXHOKTUYSUIGBQOHGWCFYOBQCDBXWYVIMTERBWBEETMMMMDTKKXAEHMRHVQEWXNGCDIVCBDHMGNZIXHKSMLQBZQLMWGTDQBUNHMISYKELWBKOZCXLSFNQTECHNXXCLTGPYFAMMPVYERMQRMIQTMGWPAZNNTICUOXPGSBDGFVTRTFPMXVKQWXWPTGCANVMWHRGVTCUNNGCNOICYOHDTXBWQQMERZQYQVVIZHOZMFQIZIHDKWMCOGCSAILETVQMYNOZXPPOGFXYVOZCKXAMQEDCFIAUSGCQITMHZBETYQLTKRPMRCRCHRYVTPXGDIFTPFKYHARAAPYUTKHTWNBXQPGQHHWNYWFEMONFFZPGLSLDMMCSIKSPHNCIDHBGNUSAMPIE\n"
     ]
    }
   ],
   "source": [
    "print(\"There are\", len(rdm_seqs), \"sequences\")\n",
    "print(\"Example of first sequence: \", rdm_seqs[0])\n",
    "print(\"Example of second sequence: \", rdm_seqs[1])"
   ]
  },
  {
   "cell_type": "code",
   "execution_count": 43,
   "metadata": {},
   "outputs": [],
   "source": [
    "#In half of them we will introduce a very obvious motif\n",
    "syn_motif = 'A'*50\n",
    "#we take the first half of the sequences...\n",
    "seqs2motif = rdm_seqs[:int(n/2)]\n",
    "#...and we add the motif in a random position\n",
    "motif_seqs = []\n",
    "for i in seqs2motif:\n",
    "    pos = random.randint(0, m-len(syn_motif)-1)\n",
    "    motif_seqs.append(i[:pos-1] +syn_motif + i[pos+(len(syn_motif)-1):])"
   ]
  },
  {
   "cell_type": "code",
   "execution_count": 64,
   "metadata": {},
   "outputs": [],
   "source": [
    "#creating a dataframe for data\n",
    "df_seqs = pd.DataFrame(columns=['sequence', 'label'])\n",
    "df_seqs2 = pd.DataFrame(columns=['sequence', 'label'])"
   ]
  },
  {
   "cell_type": "code",
   "execution_count": 65,
   "metadata": {},
   "outputs": [],
   "source": [
    "#adding sequences with motifs and labelling them as \"2.0\" (for BigDL)\n",
    "df_seqs['sequence'] = motif_seqs\n",
    "df_seqs['label'] = '2.0'"
   ]
  },
  {
   "cell_type": "code",
   "execution_count": 67,
   "metadata": {},
   "outputs": [],
   "source": [
    "#adding sequences with no motifs and labelling them as \"1.0\" (for BigDL)\n",
    "df_seqs2['sequence'] = rdm_seqs[int(n/2):]\n",
    "df_seqs2['label'] = '1.0'"
   ]
  },
  {
   "cell_type": "code",
   "execution_count": 68,
   "metadata": {},
   "outputs": [],
   "source": [
    "#joining both dataframes\n",
    "df_seqs = pd.concat([df_seqs, df_seqs2])"
   ]
  },
  {
   "cell_type": "code",
   "execution_count": 69,
   "metadata": {},
   "outputs": [
    {
     "name": "stdout",
     "output_type": "stream",
     "text": [
      "<class 'pandas.core.frame.DataFrame'>\n",
      "Int64Index: 20000 entries, 0 to 9999\n",
      "Data columns (total 2 columns):\n",
      "sequence    20000 non-null object\n",
      "label       20000 non-null object\n",
      "dtypes: object(2)\n",
      "memory usage: 468.8+ KB\n"
     ]
    }
   ],
   "source": [
    "df_seqs.info()"
   ]
  },
  {
   "cell_type": "code",
   "execution_count": 70,
   "metadata": {},
   "outputs": [],
   "source": [
    "#shuffling rows\n",
    "df_seqs = df_seqs.sample(frac=1).reset_index(drop=True)"
   ]
  },
  {
   "cell_type": "code",
   "execution_count": 72,
   "metadata": {},
   "outputs": [
    {
     "data": {
      "text/html": [
       "<div>\n",
       "<style scoped>\n",
       "    .dataframe tbody tr th:only-of-type {\n",
       "        vertical-align: middle;\n",
       "    }\n",
       "\n",
       "    .dataframe tbody tr th {\n",
       "        vertical-align: top;\n",
       "    }\n",
       "\n",
       "    .dataframe thead th {\n",
       "        text-align: right;\n",
       "    }\n",
       "</style>\n",
       "<table border=\"1\" class=\"dataframe\">\n",
       "  <thead>\n",
       "    <tr style=\"text-align: right;\">\n",
       "      <th></th>\n",
       "      <th>sequence</th>\n",
       "      <th>label</th>\n",
       "    </tr>\n",
       "  </thead>\n",
       "  <tbody>\n",
       "    <tr>\n",
       "      <th>0</th>\n",
       "      <td>CGDCODAOLRPUZXSWDPRGVXAYTQFWBWATUTCOGSRNZGOMAZ...</td>\n",
       "      <td>1.0</td>\n",
       "    </tr>\n",
       "    <tr>\n",
       "      <th>1</th>\n",
       "      <td>MMNYHQWANCSPAAAAAAAAAAAAAAAAAAAAAAAAAAAAAAAAAA...</td>\n",
       "      <td>2.0</td>\n",
       "    </tr>\n",
       "    <tr>\n",
       "      <th>2</th>\n",
       "      <td>LERVLFPPWCYCWBCLALBHVFNDKKUOCLOREGOZNFZQRYTGFV...</td>\n",
       "      <td>1.0</td>\n",
       "    </tr>\n",
       "    <tr>\n",
       "      <th>3</th>\n",
       "      <td>MUILREERQPZVDNNUCKOLKTIYZAYYBUXCMAXLLEAFVUHDDP...</td>\n",
       "      <td>1.0</td>\n",
       "    </tr>\n",
       "    <tr>\n",
       "      <th>4</th>\n",
       "      <td>EFPKKDZBAPINAQIYFISIULXLWHARFGCIARSUYECLHKFYVB...</td>\n",
       "      <td>1.0</td>\n",
       "    </tr>\n",
       "  </tbody>\n",
       "</table>\n",
       "</div>"
      ],
      "text/plain": [
       "                                            sequence label\n",
       "0  CGDCODAOLRPUZXSWDPRGVXAYTQFWBWATUTCOGSRNZGOMAZ...   1.0\n",
       "1  MMNYHQWANCSPAAAAAAAAAAAAAAAAAAAAAAAAAAAAAAAAAA...   2.0\n",
       "2  LERVLFPPWCYCWBCLALBHVFNDKKUOCLOREGOZNFZQRYTGFV...   1.0\n",
       "3  MUILREERQPZVDNNUCKOLKTIYZAYYBUXCMAXLLEAFVUHDDP...   1.0\n",
       "4  EFPKKDZBAPINAQIYFISIULXLWHARFGCIARSUYECLHKFYVB...   1.0"
      ]
     },
     "execution_count": 72,
     "metadata": {},
     "output_type": "execute_result"
    }
   ],
   "source": [
    "df_seqs.head()"
   ]
  },
  {
   "cell_type": "code",
   "execution_count": 90,
   "metadata": {},
   "outputs": [],
   "source": [
    "df_seqs['label'] = df_seqs['label'].astype(float)"
   ]
  },
  {
   "cell_type": "code",
   "execution_count": 91,
   "metadata": {},
   "outputs": [
    {
     "name": "stdout",
     "output_type": "stream",
     "text": [
      "<class 'pandas.core.frame.DataFrame'>\n",
      "RangeIndex: 20000 entries, 0 to 19999\n",
      "Data columns (total 2 columns):\n",
      "sequence    20000 non-null object\n",
      "label       20000 non-null float64\n",
      "dtypes: float64(1), object(1)\n",
      "memory usage: 312.6+ KB\n"
     ]
    }
   ],
   "source": [
    "df_seqs.info()"
   ]
  },
  {
   "cell_type": "code",
   "execution_count": 73,
   "metadata": {},
   "outputs": [],
   "source": [
    "df_seqs.to_csv('/home/angela/padding_uniprot/data/syn_sequences.csv', \n",
    "              header=False, index=False)"
   ]
  },
  {
   "cell_type": "markdown",
   "metadata": {},
   "source": [
    "# Training model"
   ]
  },
  {
   "cell_type": "code",
   "execution_count": 139,
   "metadata": {},
   "outputs": [],
   "source": [
    "#Defining Adam optimizer\n",
    "epochss = 100\n",
    "#learning_rate = 5e-6\n",
    "#learning_rate = 0.01\n",
    "#decay_rate = learning_rate/epochss\n",
    "#adamm = Adam(lr=learning_rate, beta_1=0.1, beta_2=0.001, epsilon=1e-08, decay=decay_rate)\n",
    "adamm = Adam()"
   ]
  },
  {
   "cell_type": "code",
   "execution_count": 140,
   "metadata": {},
   "outputs": [],
   "source": [
    "# PARAMETERS\n",
    "n_hid = 256 #number of hidden neurons\n",
    "n_class = 2 #number of classes to output\n",
    "drop_per = 0.2 #Input dropout \n",
    "drop_hid = 0.5 #hidden neurons dropout\n",
    "n_filt = 10 # number of filter in the first convolutional layer\n",
    "n_filt2 = 64\n",
    "lng_inp = m #length of the input, which is the max length of targets\n",
    "dict_size = len(list_aas)\n",
    "\n",
    "#### CNN  filters ####\n",
    "f_size_a = 1\n",
    "f_size_b = 3\n",
    "f_size_c = 5\n",
    "f_size_d = 9\n",
    "f_size_e = 15\n",
    "f_size_f = 21"
   ]
  },
  {
   "cell_type": "code",
   "execution_count": 141,
   "metadata": {},
   "outputs": [],
   "source": [
    "input_seq = Input(shape=(lng_inp, dict_size), dtype='float32')\n",
    "dropout_seq = Dropout(drop_per)(input_seq)\n",
    "\n",
    "#Second convolutional layer\n",
    "conv_seq = Conv1D(filters=n_filt2, padding='same', strides=1, kernel_size=f_size_b, activation='relu')(dropout_seq)\n",
    "\n",
    "#Another dropout\n",
    "dropout_seq2 = Dropout(drop_hid)(conv_seq)\n",
    "\n",
    "#Bidirectional LSTM\n",
    "#bilstm_seq = Bidirectional(LSTM(n_hid, dropout=drop_hid, recurrent_dropout=drop_hid, activation='tanh'), merge_mode='concat')(dropout_seq2)\n",
    "reshape_seq = Flatten()(dropout_seq2)\n",
    "\n",
    "#Dense\n",
    "dense_seq1 = Dense(n_hid*2, activation='relu', input_dim=n_hid)(reshape_seq)\n",
    "dropout_seq3 = Dropout(drop_hid)(dense_seq1)\n",
    "\n",
    "main_dense = Dense(n_class, activation='softmax')(dropout_seq3)"
   ]
  },
  {
   "cell_type": "code",
   "execution_count": 142,
   "metadata": {},
   "outputs": [],
   "source": [
    "#Build and compile model\n",
    "model = Model(inputs=[input_seq], outputs=[main_dense])\n",
    "model.compile(loss='categorical_crossentropy', optimizer = adamm, metrics=['accuracy'])"
   ]
  },
  {
   "cell_type": "code",
   "execution_count": 143,
   "metadata": {},
   "outputs": [
    {
     "name": "stdout",
     "output_type": "stream",
     "text": [
      "_________________________________________________________________\n",
      "Layer (type)                 Output Shape              Param #   \n",
      "=================================================================\n",
      "input_4 (InputLayer)         (None, 500, 25)           0         \n",
      "_________________________________________________________________\n",
      "dropout_9 (Dropout)          (None, 500, 25)           0         \n",
      "_________________________________________________________________\n",
      "conv1d_4 (Conv1D)            (None, 500, 64)           4864      \n",
      "_________________________________________________________________\n",
      "dropout_10 (Dropout)         (None, 500, 64)           0         \n",
      "_________________________________________________________________\n",
      "flatten_3 (Flatten)          (None, 32000)             0         \n",
      "_________________________________________________________________\n",
      "dense_5 (Dense)              (None, 512)               16384512  \n",
      "_________________________________________________________________\n",
      "dropout_11 (Dropout)         (None, 512)               0         \n",
      "_________________________________________________________________\n",
      "dense_6 (Dense)              (None, 2)                 1026      \n",
      "=================================================================\n",
      "Total params: 16,390,402\n",
      "Trainable params: 16,390,402\n",
      "Non-trainable params: 0\n",
      "_________________________________________________________________\n",
      "None\n"
     ]
    }
   ],
   "source": [
    "print(model.summary())"
   ]
  },
  {
   "cell_type": "code",
   "execution_count": 144,
   "metadata": {},
   "outputs": [],
   "source": [
    "#taking data from dataframe\n",
    "seqs = df_seqs['sequence'].values\n",
    "labels = df_seqs['label'].values\n",
    "\n",
    "labels_replaced = [0.0 if i == 1.0 else 1.0 for i in labels]"
   ]
  },
  {
   "cell_type": "code",
   "execution_count": 145,
   "metadata": {},
   "outputs": [
    {
     "name": "stdout",
     "output_type": "stream",
     "text": [
      "[ 1.  2.  1.  1.  1.  2.  1.  1.  2.  1.]\n",
      "[0.0, 1.0, 0.0, 0.0, 0.0, 1.0, 0.0, 0.0, 1.0, 0.0]\n"
     ]
    }
   ],
   "source": [
    "print(labels[:10])\n",
    "print(labels_replaced[:10])"
   ]
  },
  {
   "cell_type": "code",
   "execution_count": 146,
   "metadata": {},
   "outputs": [],
   "source": [
    "#Getting amino acids dictionary\n",
    "nums = list(range(0, len(list_aas)))\n",
    "aa_to_int = dict(zip(list_aas, nums))"
   ]
  },
  {
   "cell_type": "code",
   "execution_count": 147,
   "metadata": {},
   "outputs": [
    {
     "data": {
      "text/plain": [
       "(20000, 500, 25)"
      ]
     },
     "execution_count": 147,
     "metadata": {},
     "output_type": "execute_result"
    }
   ],
   "source": [
    "#Processing data\n",
    "def target_to_int(seq, dictionary):\n",
    "    \"\"\"Translate a sequence of amino acids to a list of integers, given a dictionary\"\"\"\n",
    "    target_int = []\n",
    "    aminoacids = list(seq)\n",
    "    for i in aminoacids:\n",
    "        target_int.append(dictionary[i])\n",
    "    return target_int\n",
    "    \n",
    "def int_to_onehot(x_int, num_classes):\n",
    "    \"\"\"Translate a list of integers to one hot encoding\"\"\"\n",
    "    onehot = np_utils.to_categorical(x_int, num_classes=num_classes)\n",
    "    return onehot\n",
    "\n",
    "# 2nd: we convert amino acid sequences to integer sequences\n",
    "seqs_int = [target_to_int(x, aa_to_int) for x in seqs]\n",
    "seqs_int_array = sequence.pad_sequences(sequences=seqs_int, maxlen=m)\n",
    "\n",
    "# 3rd: we convert integer sequences to one hot\n",
    "seqs_onehot = int_to_onehot(list(seqs_int_array), len(aa_to_int))\n",
    "seqs_onehot.shape"
   ]
  },
  {
   "cell_type": "code",
   "execution_count": 148,
   "metadata": {},
   "outputs": [],
   "source": [
    "#Encode labels\n",
    "\n",
    "labels_onehot = [np_utils.to_categorical(x, num_classes=2) for x in labels_replaced]"
   ]
  },
  {
   "cell_type": "code",
   "execution_count": 149,
   "metadata": {},
   "outputs": [],
   "source": [
    "training_split = 0.8\n",
    "val_split = 0.5\n",
    "indices = list(np.arange(len(seqs_onehot)))\n",
    "\n",
    "x_train, x_valtest, y_train, y_valtest, idx_train, idx_valtest = train_test_split(\n",
    "    seqs_onehot, labels_onehot, indices, test_size=(1-training_split))\n",
    "\n",
    "x_val, x_test, y_val, y_test, idx_val, idx_test = train_test_split(\n",
    "    x_valtest, y_valtest, idx_valtest, test_size=0.5)"
   ]
  },
  {
   "cell_type": "code",
   "execution_count": 150,
   "metadata": {},
   "outputs": [
    {
     "name": "stdout",
     "output_type": "stream",
     "text": [
      "Train on 16000 samples, validate on 2000 samples\n",
      "Epoch 1/100\n",
      "16000/16000 [==============================] - 26s 2ms/step - loss: 0.0867 - acc: 0.9762 - val_loss: 1.0573e-04 - val_acc: 1.0000\n",
      "Epoch 2/100\n",
      "16000/16000 [==============================] - 25s 2ms/step - loss: 4.8661e-04 - acc: 1.0000 - val_loss: 2.6441e-05 - val_acc: 1.0000\n",
      "Epoch 3/100\n",
      "16000/16000 [==============================] - 25s 2ms/step - loss: 1.7698e-04 - acc: 1.0000 - val_loss: 5.5479e-06 - val_acc: 1.0000\n",
      "Epoch 4/100\n",
      "16000/16000 [==============================] - 17s 1ms/step - loss: 8.0733e-04 - acc: 0.9999 - val_loss: 1.2762e-05 - val_acc: 1.0000\n",
      "Epoch 5/100\n",
      "16000/16000 [==============================] - 14s 891us/step - loss: 1.0714e-04 - acc: 1.0000 - val_loss: 1.3915e-06 - val_acc: 1.0000\n",
      "Epoch 6/100\n",
      "16000/16000 [==============================] - 24s 2ms/step - loss: 4.3468e-05 - acc: 1.0000 - val_loss: 4.4990e-07 - val_acc: 1.0000\n",
      "Epoch 7/100\n",
      "16000/16000 [==============================] - 25s 2ms/step - loss: 0.0016 - acc: 0.9994 - val_loss: 3.8901e-06 - val_acc: 1.0000\n",
      "Epoch 8/100\n",
      "16000/16000 [==============================] - 25s 2ms/step - loss: 2.2607e-05 - acc: 1.0000 - val_loss: 3.3865e-07 - val_acc: 1.0000\n",
      "Epoch 9/100\n",
      "16000/16000 [==============================] - 25s 2ms/step - loss: 1.2517e-05 - acc: 1.0000 - val_loss: 2.5192e-07 - val_acc: 1.0000\n",
      "Epoch 10/100\n",
      "16000/16000 [==============================] - 25s 2ms/step - loss: 1.1406e-05 - acc: 1.0000 - val_loss: 1.9512e-07 - val_acc: 1.0000\n",
      "Epoch 11/100\n",
      "16000/16000 [==============================] - 25s 2ms/step - loss: 2.9992e-05 - acc: 1.0000 - val_loss: 1.6794e-07 - val_acc: 1.0000\n",
      "Epoch 12/100\n",
      "16000/16000 [==============================] - 25s 2ms/step - loss: 6.5342e-06 - acc: 1.0000 - val_loss: 1.5199e-07 - val_acc: 1.0000\n",
      "Epoch 13/100\n",
      "16000/16000 [==============================] - 25s 2ms/step - loss: 5.8089e-06 - acc: 1.0000 - val_loss: 1.2219e-07 - val_acc: 1.0000\n",
      "Epoch 14/100\n",
      "16000/16000 [==============================] - 25s 2ms/step - loss: 6.4113e-04 - acc: 0.9998 - val_loss: 1.2222e-07 - val_acc: 1.0000\n",
      "Epoch 15/100\n",
      "16000/16000 [==============================] - 25s 2ms/step - loss: 3.5505e-05 - acc: 1.0000 - val_loss: 1.2171e-07 - val_acc: 1.0000\n",
      "Epoch 16/100\n",
      "16000/16000 [==============================] - 25s 2ms/step - loss: 3.1647e-06 - acc: 1.0000 - val_loss: 1.1927e-07 - val_acc: 1.0000\n",
      "Epoch 17/100\n",
      "16000/16000 [==============================] - 25s 2ms/step - loss: 1.0429e-06 - acc: 1.0000 - val_loss: 1.1936e-07 - val_acc: 1.0000\n",
      "Epoch 18/100\n",
      "16000/16000 [==============================] - 25s 2ms/step - loss: 3.8531e-06 - acc: 1.0000 - val_loss: 1.1933e-07 - val_acc: 1.0000\n",
      "Epoch 19/100\n",
      "16000/16000 [==============================] - 25s 2ms/step - loss: 8.6614e-07 - acc: 1.0000 - val_loss: 1.1921e-07 - val_acc: 1.0000\n",
      "Epoch 20/100\n",
      "16000/16000 [==============================] - 25s 2ms/step - loss: 1.6005e-06 - acc: 1.0000 - val_loss: 1.1921e-07 - val_acc: 1.0000\n",
      "Epoch 21/100\n",
      "16000/16000 [==============================] - 25s 2ms/step - loss: 1.0866e-06 - acc: 1.0000 - val_loss: 1.1921e-07 - val_acc: 1.0000\n",
      "Epoch 22/100\n",
      "16000/16000 [==============================] - 25s 2ms/step - loss: 9.5739e-07 - acc: 1.0000 - val_loss: 1.1921e-07 - val_acc: 1.0000\n",
      "Epoch 23/100\n",
      "16000/16000 [==============================] - 25s 2ms/step - loss: 4.7925e-07 - acc: 1.0000 - val_loss: 1.1948e-07 - val_acc: 1.0000\n",
      "Epoch 24/100\n",
      "16000/16000 [==============================] - 24s 2ms/step - loss: 6.8532e-07 - acc: 1.0000 - val_loss: 1.1921e-07 - val_acc: 1.0000\n",
      "Epoch 25/100\n",
      "16000/16000 [==============================] - 24s 2ms/step - loss: 4.1267e-07 - acc: 1.0000 - val_loss: 1.1921e-07 - val_acc: 1.0000\n",
      "Epoch 26/100\n",
      "16000/16000 [==============================] - 25s 2ms/step - loss: 7.2227e-07 - acc: 1.0000 - val_loss: 1.1921e-07 - val_acc: 1.0000\n",
      "Epoch 27/100\n",
      "16000/16000 [==============================] - 25s 2ms/step - loss: 3.2033e-07 - acc: 1.0000 - val_loss: 1.1921e-07 - val_acc: 1.0000\n",
      "Epoch 28/100\n",
      "16000/16000 [==============================] - 25s 2ms/step - loss: 2.0279e-07 - acc: 1.0000 - val_loss: 1.1921e-07 - val_acc: 1.0000\n",
      "Epoch 29/100\n",
      "16000/16000 [==============================] - 17s 1ms/step - loss: 1.6817e-06 - acc: 1.0000 - val_loss: 1.1921e-07 - val_acc: 1.0000\n",
      "Epoch 30/100\n",
      "16000/16000 [==============================] - 14s 887us/step - loss: 1.8195e-07 - acc: 1.0000 - val_loss: 1.1921e-07 - val_acc: 1.0000\n",
      "Epoch 31/100\n",
      "16000/16000 [==============================] - 24s 1ms/step - loss: 6.6205e-07 - acc: 1.0000 - val_loss: 1.1921e-07 - val_acc: 1.0000\n",
      "Epoch 32/100\n",
      "16000/16000 [==============================] - 24s 2ms/step - loss: 1.9025e-07 - acc: 1.0000 - val_loss: 1.1921e-07 - val_acc: 1.0000\n",
      "Epoch 33/100\n",
      "16000/16000 [==============================] - 24s 2ms/step - loss: 3.2179e-06 - acc: 1.0000 - val_loss: 1.1921e-07 - val_acc: 1.0000\n",
      "Epoch 34/100\n",
      "16000/16000 [==============================] - 24s 2ms/step - loss: 1.0740e-04 - acc: 0.9999 - val_loss: 1.1921e-07 - val_acc: 1.0000\n",
      "Epoch 35/100\n",
      "16000/16000 [==============================] - 25s 2ms/step - loss: 4.6819e-06 - acc: 1.0000 - val_loss: 1.1921e-07 - val_acc: 1.0000\n",
      "Epoch 36/100\n",
      "16000/16000 [==============================] - 24s 1ms/step - loss: 1.1959e-05 - acc: 1.0000 - val_loss: 1.1921e-07 - val_acc: 1.0000\n",
      "Epoch 37/100\n",
      "16000/16000 [==============================] - 24s 2ms/step - loss: 2.8976e-07 - acc: 1.0000 - val_loss: 1.1921e-07 - val_acc: 1.0000\n",
      "Epoch 38/100\n",
      "16000/16000 [==============================] - 25s 2ms/step - loss: 1.4937e-07 - acc: 1.0000 - val_loss: 1.1921e-07 - val_acc: 1.0000\n",
      "Epoch 39/100\n",
      "16000/16000 [==============================] - 24s 2ms/step - loss: 1.6275e-07 - acc: 1.0000 - val_loss: 1.1921e-07 - val_acc: 1.0000\n",
      "Epoch 40/100\n",
      "16000/16000 [==============================] - 24s 2ms/step - loss: 1.3264e-07 - acc: 1.0000 - val_loss: 1.1921e-07 - val_acc: 1.0000\n",
      "Epoch 41/100\n",
      "16000/16000 [==============================] - 24s 1ms/step - loss: 1.3699e-07 - acc: 1.0000 - val_loss: 1.1921e-07 - val_acc: 1.0000\n",
      "Epoch 42/100\n",
      "16000/16000 [==============================] - 25s 2ms/step - loss: 1.5730e-07 - acc: 1.0000 - val_loss: 1.1921e-07 - val_acc: 1.0000\n",
      "Epoch 43/100\n",
      "16000/16000 [==============================] - 25s 2ms/step - loss: 1.3688e-07 - acc: 1.0000 - val_loss: 1.1921e-07 - val_acc: 1.0000\n",
      "Epoch 44/100\n",
      "16000/16000 [==============================] - 25s 2ms/step - loss: 4.5881e-04 - acc: 0.9999 - val_loss: 1.1921e-07 - val_acc: 1.0000\n",
      "Epoch 45/100\n",
      "16000/16000 [==============================] - 24s 2ms/step - loss: 3.1450e-05 - acc: 1.0000 - val_loss: 1.1921e-07 - val_acc: 1.0000\n",
      "Epoch 46/100\n",
      "16000/16000 [==============================] - 25s 2ms/step - loss: 2.4223e-07 - acc: 1.0000 - val_loss: 1.1921e-07 - val_acc: 1.0000\n",
      "Epoch 47/100\n",
      "16000/16000 [==============================] - 25s 2ms/step - loss: 1.2991e-06 - acc: 1.0000 - val_loss: 1.1921e-07 - val_acc: 1.0000\n",
      "Epoch 48/100\n",
      "16000/16000 [==============================] - 25s 2ms/step - loss: 1.2817e-07 - acc: 1.0000 - val_loss: 1.1921e-07 - val_acc: 1.0000\n",
      "Epoch 49/100\n",
      "16000/16000 [==============================] - 25s 2ms/step - loss: 1.2288e-07 - acc: 1.0000 - val_loss: 1.1921e-07 - val_acc: 1.0000\n",
      "Epoch 50/100\n",
      "16000/16000 [==============================] - 25s 2ms/step - loss: 1.9247e-07 - acc: 1.0000 - val_loss: 1.1921e-07 - val_acc: 1.0000\n",
      "Epoch 51/100\n",
      "16000/16000 [==============================] - 25s 2ms/step - loss: 2.5045e-07 - acc: 1.0000 - val_loss: 1.1921e-07 - val_acc: 1.0000\n",
      "Epoch 52/100\n",
      "16000/16000 [==============================] - 25s 2ms/step - loss: 1.2552e-07 - acc: 1.0000 - val_loss: 1.1921e-07 - val_acc: 1.0000\n",
      "Epoch 53/100\n",
      "16000/16000 [==============================] - 25s 2ms/step - loss: 1.2359e-07 - acc: 1.0000 - val_loss: 1.1921e-07 - val_acc: 1.0000\n",
      "Epoch 54/100\n",
      "16000/16000 [==============================] - 21s 1ms/step - loss: 1.3059e-07 - acc: 1.0000 - val_loss: 1.1921e-07 - val_acc: 1.0000\n",
      "Epoch 55/100\n",
      "16000/16000 [==============================] - 11s 706us/step - loss: 1.3838e-07 - acc: 1.0000 - val_loss: 1.1921e-07 - val_acc: 1.0000\n",
      "Epoch 56/100\n",
      "16000/16000 [==============================] - 25s 2ms/step - loss: 1.2471e-07 - acc: 1.0000 - val_loss: 1.1921e-07 - val_acc: 1.0000\n",
      "Epoch 57/100\n",
      "16000/16000 [==============================] - 24s 2ms/step - loss: 2.1526e-07 - acc: 1.0000 - val_loss: 1.1921e-07 - val_acc: 1.0000\n",
      "Epoch 58/100\n",
      "16000/16000 [==============================] - 25s 2ms/step - loss: 1.4723e-07 - acc: 1.0000 - val_loss: 1.1921e-07 - val_acc: 1.0000\n",
      "Epoch 59/100\n",
      "16000/16000 [==============================] - 25s 2ms/step - loss: 1.2190e-07 - acc: 1.0000 - val_loss: 1.1921e-07 - val_acc: 1.0000\n",
      "Epoch 60/100\n",
      "16000/16000 [==============================] - 25s 2ms/step - loss: 1.2371e-07 - acc: 1.0000 - val_loss: 1.1921e-07 - val_acc: 1.0000\n",
      "Epoch 61/100\n",
      "16000/16000 [==============================] - 25s 2ms/step - loss: 1.5332e-07 - acc: 1.0000 - val_loss: 1.1921e-07 - val_acc: 1.0000\n",
      "Epoch 62/100\n",
      "16000/16000 [==============================] - 25s 2ms/step - loss: 1.2676e-07 - acc: 1.0000 - val_loss: 1.1921e-07 - val_acc: 1.0000\n",
      "Epoch 63/100\n",
      "16000/16000 [==============================] - 25s 2ms/step - loss: 1.1982e-07 - acc: 1.0000 - val_loss: 1.1921e-07 - val_acc: 1.0000\n",
      "Epoch 64/100\n",
      "16000/16000 [==============================] - 24s 2ms/step - loss: 1.2171e-07 - acc: 1.0000 - val_loss: 1.1921e-07 - val_acc: 1.0000\n",
      "Epoch 65/100\n",
      "16000/16000 [==============================] - 24s 2ms/step - loss: 1.5719e-07 - acc: 1.0000 - val_loss: 1.1921e-07 - val_acc: 1.0000\n",
      "Epoch 66/100\n",
      "16000/16000 [==============================] - 24s 1ms/step - loss: 1.5356e-07 - acc: 1.0000 - val_loss: 1.1921e-07 - val_acc: 1.0000\n",
      "Epoch 67/100\n",
      "16000/16000 [==============================] - 24s 2ms/step - loss: 1.1986e-07 - acc: 1.0000 - val_loss: 1.1921e-07 - val_acc: 1.0000\n",
      "Epoch 68/100\n",
      "16000/16000 [==============================] - 24s 2ms/step - loss: 1.2185e-07 - acc: 1.0000 - val_loss: 1.1921e-07 - val_acc: 1.0000\n",
      "Epoch 69/100\n",
      "16000/16000 [==============================] - 25s 2ms/step - loss: 1.1944e-07 - acc: 1.0000 - val_loss: 1.1921e-07 - val_acc: 1.0000\n",
      "Epoch 70/100\n",
      "16000/16000 [==============================] - 25s 2ms/step - loss: 1.2152e-07 - acc: 1.0000 - val_loss: 1.1921e-07 - val_acc: 1.0000\n",
      "Epoch 71/100\n",
      "16000/16000 [==============================] - 25s 2ms/step - loss: 1.1980e-07 - acc: 1.0000 - val_loss: 1.1921e-07 - val_acc: 1.0000\n",
      "Epoch 72/100\n",
      "16000/16000 [==============================] - 25s 2ms/step - loss: 1.2088e-07 - acc: 1.0000 - val_loss: 1.1921e-07 - val_acc: 1.0000\n",
      "Epoch 73/100\n",
      "16000/16000 [==============================] - 25s 2ms/step - loss: 1.1923e-07 - acc: 1.0000 - val_loss: 1.1921e-07 - val_acc: 1.0000\n",
      "Epoch 74/100\n",
      "16000/16000 [==============================] - 25s 2ms/step - loss: 1.2111e-07 - acc: 1.0000 - val_loss: 1.1921e-07 - val_acc: 1.0000\n",
      "Epoch 75/100\n",
      "16000/16000 [==============================] - 25s 2ms/step - loss: 1.2719e-07 - acc: 1.0000 - val_loss: 1.1921e-07 - val_acc: 1.0000\n",
      "Epoch 76/100\n",
      "16000/16000 [==============================] - 25s 2ms/step - loss: 1.1938e-07 - acc: 1.0000 - val_loss: 1.1921e-07 - val_acc: 1.0000\n",
      "Epoch 77/100\n",
      "16000/16000 [==============================] - 25s 2ms/step - loss: 9.7695e-05 - acc: 0.9999 - val_loss: 1.1921e-07 - val_acc: 1.0000\n",
      "Epoch 78/100\n",
      "16000/16000 [==============================] - 25s 2ms/step - loss: 1.3212e-07 - acc: 1.0000 - val_loss: 1.1921e-07 - val_acc: 1.0000\n",
      "Epoch 79/100\n",
      "16000/16000 [==============================] - 22s 1ms/step - loss: 1.2551e-07 - acc: 1.0000 - val_loss: 1.1921e-07 - val_acc: 1.0000\n",
      "Epoch 80/100\n",
      "16000/16000 [==============================] - 11s 704us/step - loss: 9.3429e-04 - acc: 0.9997 - val_loss: 1.1921e-07 - val_acc: 1.0000\n",
      "Epoch 81/100\n",
      "16000/16000 [==============================] - 23s 1ms/step - loss: 4.1801e-07 - acc: 1.0000 - val_loss: 1.1921e-07 - val_acc: 1.0000\n",
      "Epoch 82/100\n",
      "16000/16000 [==============================] - 24s 2ms/step - loss: 1.6334e-07 - acc: 1.0000 - val_loss: 1.1921e-07 - val_acc: 1.0000\n",
      "Epoch 83/100\n",
      "16000/16000 [==============================] - 24s 2ms/step - loss: 1.2629e-07 - acc: 1.0000 - val_loss: 1.1921e-07 - val_acc: 1.0000\n",
      "Epoch 84/100\n",
      "16000/16000 [==============================] - 24s 2ms/step - loss: 1.3598e-07 - acc: 1.0000 - val_loss: 1.1921e-07 - val_acc: 1.0000\n",
      "Epoch 85/100\n",
      "16000/16000 [==============================] - 24s 2ms/step - loss: 1.3646e-07 - acc: 1.0000 - val_loss: 1.1921e-07 - val_acc: 1.0000\n",
      "Epoch 86/100\n",
      "16000/16000 [==============================] - 24s 2ms/step - loss: 1.3266e-07 - acc: 1.0000 - val_loss: 1.1921e-07 - val_acc: 1.0000\n",
      "Epoch 87/100\n",
      "16000/16000 [==============================] - 24s 2ms/step - loss: 1.2741e-07 - acc: 1.0000 - val_loss: 1.1921e-07 - val_acc: 1.0000\n",
      "Epoch 88/100\n",
      "16000/16000 [==============================] - 24s 2ms/step - loss: 6.0297e-07 - acc: 1.0000 - val_loss: 1.1921e-07 - val_acc: 1.0000\n",
      "Epoch 89/100\n",
      "16000/16000 [==============================] - 24s 2ms/step - loss: 2.9341e-07 - acc: 1.0000 - val_loss: 1.1921e-07 - val_acc: 1.0000\n",
      "Epoch 90/100\n",
      "16000/16000 [==============================] - 25s 2ms/step - loss: 1.3483e-07 - acc: 1.0000 - val_loss: 1.1921e-07 - val_acc: 1.0000\n",
      "Epoch 91/100\n",
      "16000/16000 [==============================] - 25s 2ms/step - loss: 1.2071e-07 - acc: 1.0000 - val_loss: 1.1921e-07 - val_acc: 1.0000\n",
      "Epoch 92/100\n",
      "16000/16000 [==============================] - 25s 2ms/step - loss: 8.0773e-07 - acc: 1.0000 - val_loss: 1.1921e-07 - val_acc: 1.0000\n",
      "Epoch 93/100\n",
      "16000/16000 [==============================] - 25s 2ms/step - loss: 1.2134e-07 - acc: 1.0000 - val_loss: 1.1921e-07 - val_acc: 1.0000\n",
      "Epoch 94/100\n",
      "16000/16000 [==============================] - 25s 2ms/step - loss: 2.5403e-07 - acc: 1.0000 - val_loss: 1.1921e-07 - val_acc: 1.0000\n",
      "Epoch 95/100\n",
      "16000/16000 [==============================] - 24s 2ms/step - loss: 1.2171e-07 - acc: 1.0000 - val_loss: 1.1921e-07 - val_acc: 1.0000\n",
      "Epoch 96/100\n",
      "16000/16000 [==============================] - 24s 2ms/step - loss: 1.2507e-07 - acc: 1.0000 - val_loss: 1.1921e-07 - val_acc: 1.0000\n",
      "Epoch 97/100\n",
      "16000/16000 [==============================] - 25s 2ms/step - loss: 1.2034e-07 - acc: 1.0000 - val_loss: 1.1921e-07 - val_acc: 1.0000\n",
      "Epoch 98/100\n",
      "16000/16000 [==============================] - 25s 2ms/step - loss: 1.2252e-07 - acc: 1.0000 - val_loss: 1.1921e-07 - val_acc: 1.0000\n",
      "Epoch 99/100\n",
      "16000/16000 [==============================] - 25s 2ms/step - loss: 1.2146e-07 - acc: 1.0000 - val_loss: 1.1921e-07 - val_acc: 1.0000\n",
      "Epoch 100/100\n",
      "16000/16000 [==============================] - 25s 2ms/step - loss: 2.4059e-07 - acc: 1.0000 - val_loss: 1.1921e-07 - val_acc: 1.0000\n"
     ]
    }
   ],
   "source": [
    "history = model.fit(x=x_train, y=np.asarray(y_train), \n",
    "                    validation_data=(x_val, np.asarray(y_val)), \n",
    "                    epochs=epochss, verbose=1)"
   ]
  },
  {
   "cell_type": "code",
   "execution_count": 154,
   "metadata": {},
   "outputs": [
    {
     "data": {
      "image/png": "[encoded data removed]",
      "text/plain": [
       "<matplotlib.figure.Figure at 0x7f50b1af4550>"
      ]
     },
     "metadata": {},
     "output_type": "display_data"
    },
    {
     "data": {
      "image/png": "[encoded data removed]",
      "text/plain": [
       "<matplotlib.figure.Figure at 0x7f50b1aa77b8>"
      ]
     },
     "metadata": {},
     "output_type": "display_data"
    }
   ],
   "source": [
    "history = history.history\n",
    "\n",
    "plt.plot(history['acc'])\n",
    "plt.plot(history['val_acc'])\n",
    "plt.title('model accuracy')\n",
    "plt.ylabel('accuracy')\n",
    "plt.xlabel('epoch')\n",
    "plt.legend(['train', 'test'], loc='upper left')\n",
    "plt.show()\n",
    "# summarize history for loss\n",
    "plt.plot(history['loss'])\n",
    "plt.plot(history['val_loss'])\n",
    "plt.title('model loss')\n",
    "plt.ylabel('loss')\n",
    "plt.xlabel('epoch')\n",
    "plt.legend(['train', 'test'], loc='upper left')\n",
    "plt.show()   "
   ]
  },
  {
   "cell_type": "code",
   "execution_count": 156,
   "metadata": {},
   "outputs": [],
   "source": [
    "y_predprob = model.predict(x_test)\n",
    "y_pred = y_predprob.argmax(axis=-1)\n",
    "y_test_scalar = np.asarray(y_test).argmax(axis=-1)\n",
    "y_prob = y_predprob[:,1]"
   ]
  },
  {
   "cell_type": "code",
   "execution_count": 157,
   "metadata": {},
   "outputs": [
    {
     "data": {
      "text/plain": [
       "Counter({0: 1012, 1: 988})"
      ]
     },
     "execution_count": 157,
     "metadata": {},
     "output_type": "execute_result"
    }
   ],
   "source": [
    "from collections import Counter\n",
    "Counter(y_pred)"
   ]
  },
  {
   "cell_type": "code",
   "execution_count": 158,
   "metadata": {},
   "outputs": [
    {
     "data": {
      "text/plain": [
       "array([[  1.00000000e+00,   1.05198597e-12],\n",
       "       [  1.36373876e-38,   1.00000000e+00],\n",
       "       [  1.00000000e+00,   1.11907738e-12],\n",
       "       [  0.00000000e+00,   1.00000000e+00],\n",
       "       [  1.00000000e+00,   5.32107670e-13],\n",
       "       [  0.00000000e+00,   1.00000000e+00],\n",
       "       [  0.00000000e+00,   1.00000000e+00],\n",
       "       [  0.00000000e+00,   1.00000000e+00],\n",
       "       [  1.00000000e+00,   7.30977887e-13],\n",
       "       [  0.00000000e+00,   1.00000000e+00]], dtype=float32)"
      ]
     },
     "execution_count": 158,
     "metadata": {},
     "output_type": "execute_result"
    }
   ],
   "source": [
    "y_predprob[:10]"
   ]
  },
  {
   "cell_type": "code",
   "execution_count": 161,
   "metadata": {},
   "outputs": [
    {
     "name": "stdout",
     "output_type": "stream",
     "text": [
      "\n",
      "Model Report\n",
      "Accuracy (test set): 1\n",
      "Confusion matrix:\n",
      "[[1012    0]\n",
      " [   0  988]]\n",
      "Detailed classification report:\n",
      "             precision    recall  f1-score   support\n",
      "\n",
      "          0       1.00      1.00      1.00      1012\n",
      "          1       1.00      1.00      1.00       988\n",
      "\n",
      "avg / total       1.00      1.00      1.00      2000\n",
      "\n"
     ]
    }
   ],
   "source": [
    "#model report\n",
    "print (\"\\nModel Report\")\n",
    "print (\"Accuracy (test set): %.4g\" % metrics.accuracy_score(y_test_scalar, y_pred))\n",
    "print(\"Confusion matrix:\")\n",
    "print (metrics.confusion_matrix(y_test_scalar, y_pred))\n",
    "print(\"Detailed classification report:\")\n",
    "print (metrics.classification_report(y_test_scalar, y_pred))"
   ]
  },
  {
   "cell_type": "code",
   "execution_count": null,
   "metadata": {},
   "outputs": [],
   "source": []
  }
 ],
 "metadata": {
  "kernelspec": {
   "display_name": "Python 3",
   "language": "python",
   "name": "python3"
  },
  "language_info": {
   "codemirror_mode": {
    "name": "ipython",
    "version": 3
   },
   "file_extension": ".py",
   "mimetype": "text/x-python",
   "name": "python",
   "nbconvert_exporter": "python",
   "pygments_lexer": "ipython3",
   "version": "3.6.7"
  }
 },
 "nbformat": 4,
 "nbformat_minor": 2
}
