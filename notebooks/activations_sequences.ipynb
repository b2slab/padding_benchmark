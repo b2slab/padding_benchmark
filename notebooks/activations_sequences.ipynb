{
 "cells": [
  {
   "cell_type": "code",
   "execution_count": 8,
   "metadata": {},
   "outputs": [],
   "source": [
    "from __future__ import division, absolute_import\n",
    "\n",
    "import os\n",
    "import sys\n",
    "import random\n",
    "\n",
    "os.environ[\"CUDA_DEVICE_ORDER\"] = \"PCI_BUS_ID\"   # see issue #152\n",
    "os.environ[\"CUDA_VISIBLE_DEVICES\"] = \"\"\n",
    "\n",
    "import h5py\n",
    "import pickle\n",
    "import numpy as np\n",
    "import keras\n",
    "import pandas as pd\n",
    "import random\n",
    "\n",
    "from glob import glob\n",
    "from keras.models import load_model\n",
    "from keras import models\n",
    "from sklearn.preprocessing import StandardScaler\n",
    "from sklearn.decomposition import PCA\n",
    "import matplotlib.pyplot as plt\n",
    "\n",
    "#root\n",
    "absPath = '/home/angela/padding_EBI/'\n",
    "sys.path.insert(0, absPath)\n",
    "\n",
    "from src.Target import Target\n",
    "\n",
    "np.random.seed(1)\n",
    "random.seed(1)\n",
    "%matplotlib inline"
   ]
  },
  {
   "cell_type": "code",
   "execution_count": 9,
   "metadata": {},
   "outputs": [],
   "source": [
    "list_paddings = ['ext_padding', 'mid_padding', 'post_padding', 'pre_padding', \n",
    "                 'rnd_padding', 'strf_padding',  \"zoom_padding\"]\n",
    "\n",
    "task = 'task1/'\n",
    "nfolds = 10\n",
    "folder = 'EC_number/archaea/1conv/64filts_size5/'\n",
    "nshape = (1, 1000, 26)\n",
    "nlayer = 2"
   ]
  },
  {
   "cell_type": "code",
   "execution_count": 34,
   "metadata": {},
   "outputs": [],
   "source": [
    "def search_model (folder, fold, task, padding):\n",
    "    model_path = \"\".join((absPath, \"data/checkpoint/\", folder, task, list_paddings[2], \"/\", \"1\", \"/\"))\n",
    "    model_file = glob(os.path.join(model_path, \"weights-*.hdf5\"))[0]\n",
    "    return model_file\n",
    "\n",
    "def random_prot_idx(folder, task):\n",
    "    if task == \"task1\":\n",
    "        file_idcs = os.path.join(absPath, 'data/', folder, 'idcs_split.pickle')\n",
    "    else:\n",
    "        file_idcs = os.path.join(absPath, 'data/', folder, 'idcs_data_enz.pickle')\n",
    "    with open(file_idcs, \"rb\") as input_file:\n",
    "        splitting_sets = pickle.load(input_file)[0]\n",
    "    i_train, i_val, i_test = splitting_sets\n",
    "    len_test = len(i_test)\n",
    "    rnd_index = random.randint(0, len_test-1)\n",
    "    protein_index = i_test[rnd_index]\n",
    "    return protein_index\n",
    "\n",
    "def load_prot(folder, protein_index, padding, labels_label, newshape):\n",
    "    data_path = os.path.join(absPath, \"data/\", folder, \"data.h5\")\n",
    "    f1 = h5py.File(data_path, 'r')\n",
    "    prot = f1[padding][protein_index]\n",
    "    label_prot = f1[labels_label][protein_index]\n",
    "    instarget = Target('AAAAAA')\n",
    "    aa_to_int = instarget.predefining_dict()\n",
    "    seq_onehot = instarget.int_to_onehot(list(prot), len(aa_to_int))\n",
    "    seq_reshaped = np.reshape(seq_onehot, newshape=newshape)\n",
    "    return seq_reshaped, label_prot\n",
    "\n",
    "def obtain_activations(model_path, n_layer, seq_reshaped):\n",
    "    model = load_model(model_path)\n",
    "    layer_output = model.layers[n_layer].output\n",
    "    activation_model = models.Model(inputs=model.input, outputs=layer_output) \n",
    "    activations = activation_model.predict(seq_reshaped, batch_size=1)\n",
    "    shape_act = activations.shape\n",
    "    activations_reshaped = np.reshape(activations, newshape=(shape_act[2], shape_act[1]))\n",
    "    #print(activations_reshaped.shape)\n",
    "    return activations_reshaped\n",
    "\n",
    "def activations_to_df(activations, padding, fold):\n",
    "    activations_df = pd.DataFrame(activations)\n",
    "    activations_df[\"padding\"] = padding\n",
    "    activations_df[\"order\"] = list(range(0,activations.shape[0]))\n",
    "    activations_df[\"fold\"] = fold\n",
    "    #label_prot_noonehot = np.argmax(label_prot, -1)\n",
    "    #activations_df[\"label\"] = label_prot_noonehot\n",
    "    return activations_df\n",
    "\n",
    "def train_pca(list_dfs, ncomps):\n",
    "    df_joint = pd.concat(list_dfs, ignore_index=True)\n",
    "    x = df_joint.drop(['order', 'padding', 'fold', 'label'], axis=1).values\n",
    "    x = StandardScaler().fit_transform(x)\n",
    "    pca = PCA(n_components=ncomps)\n",
    "    principalComponents = pca.fit_transform(x)\n",
    "    principal_df = pd.DataFrame(principalComponents, columns=[\"PC1\", \"PC2\"])\n",
    "    final_df = pd.concat([principal_df, df_joint[['padding']], df_joint[['order']], \n",
    "                          df_joint[['fold']], df_joint[['label']]], axis=1)\n",
    "    return final_df, pca\n",
    "\n",
    "def plot_pca(df, pca, list_paddings):\n",
    "    fig = plt.figure(figsize = (8,8))\n",
    "    ax = fig.add_subplot(1,1,1) \n",
    "    label_x = \" \".join((\"Principal Component 1 (\", str(round(pca.explained_variance_ratio_[0]*100, 2)), \"%)\"))\n",
    "    label_y = \" \".join((\"Principal Component 2 (\", str(round(pca.explained_variance_ratio_[1]*100, 2)), \"%)\"))\n",
    "    ax.set_xlabel(label_x, fontsize = 15)\n",
    "    ax.set_ylabel(label_y, fontsize = 15)\n",
    "    ax.set_title('PCA of Conv1D (size=5)', fontsize = 20)\n",
    "    colors = [\"#FFED6F\",\"#BEBADA\",\"#FB8072\",\"#80B1D3\",\"#FDB462\",\"#B3DE69\",\n",
    "         \"#FCCDE5\"]\n",
    "    for padding, color in zip(list_paddings,colors):\n",
    "        indicesToKeep = df['padding'] == padding\n",
    "        print(padding, df.loc[indicesToKeep, 'PC1'].shape)\n",
    "        ax.scatter(df.loc[indicesToKeep, 'PC1']\n",
    "               , df.loc[indicesToKeep, 'PC2']\n",
    "               , c = color\n",
    "               , s = 50,\n",
    "                  alpha=1)\n",
    "    ax.legend(list_paddings)\n",
    "    ax.grid()\n",
    "    \n",
    "#function to select proteins of the test set with an specific enzimatic label\n",
    "def find_prot_labeled(folder, enz_label, quant=2):\n",
    "    data_path = os.path.join(absPath, \"data/\", folder, \"data.h5\")\n",
    "    f1 = h5py.File(data_path, 'r')\n",
    "    indices_enzymes = []\n",
    "    while len(indices_enzymes)<quant:\n",
    "        idx = random_prot_idx(folder, \"task2\")\n",
    "        label_prot = np.argmax(f1[\"labels_task2\"][idx])\n",
    "        if label_prot == enz_label:\n",
    "            indices_enzymes.append(idx)\n",
    "    return indices_enzymes\n",
    "\n",
    "def load_prot_labeled(folder, padding, newshape, enz_label, idx):\n",
    "    data_path = os.path.join(absPath, \"data/\", folder, \"data.h5\")\n",
    "    f1 = h5py.File(data_path, 'r')\n",
    "    instarget = Target('AAAAAA')\n",
    "    aa_to_int = instarget.predefining_dict()\n",
    "    prot = f1[padding][idx]\n",
    "    seq_onehot = instarget.int_to_onehot(list(prot), len(aa_to_int))\n",
    "    seq_reshaped = np.reshape(seq_onehot, newshape=newshape)\n",
    "    return seq_reshaped"
   ]
  },
  {
   "cell_type": "code",
   "execution_count": 11,
   "metadata": {},
   "outputs": [
    {
     "name": "stdout",
     "output_type": "stream",
     "text": [
      "15840\n",
      "Model type:  ext_padding\n",
      "Model type:  mid_padding\n",
      "Model type:  post_padding\n",
      "Model type:  pre_padding\n",
      "Model type:  rnd_padding\n",
      "Model type:  strf_padding\n",
      "Model type:  zoom_padding\n"
     ]
    }
   ],
   "source": [
    "# Defining protein to take\n",
    "idx = random_prot_idx(folder, \"task1\")\n",
    "print(idx)\n",
    "#Define list of dataframes\n",
    "lista_dfs = []\n",
    "for model_type in list_paddings:\n",
    "    print(\"Model type: \", model_type)\n",
    "    for fold in range(nfolds):\n",
    "        model = search_model(folder, str(fold), task, model_type)\n",
    "        prot, label = load_prot(folder, idx, model_type, \"labels_task1\", nshape)\n",
    "        activations = obtain_activations(model, nlayer, prot)\n",
    "        act_df = activations_to_df(activations, model_type, fold, label)\n",
    "        lista_dfs.append(act_df)"
   ]
  },
  {
   "cell_type": "code",
   "execution_count": 12,
   "metadata": {},
   "outputs": [
    {
     "name": "stdout",
     "output_type": "stream",
     "text": [
      "ext_padding (640,)\n",
      "mid_padding (640,)\n",
      "post_padding (640,)\n",
      "pre_padding (640,)\n",
      "rnd_padding (640,)\n",
      "strf_padding (640,)\n",
      "zoom_padding (640,)\n"
     ]
    },
    {
     "data": {
      "image/png": "[encoded data removed]",
      "text/plain": [
       "<Figure size 576x576 with 1 Axes>"
      ]
     },
     "metadata": {
      "needs_background": "light"
     },
     "output_type": "display_data"
    }
   ],
   "source": [
    "final_df, pca = train_pca(lista_dfs, 2)\n",
    "plot_pca(final_df, pca, list_paddings)"
   ]
  },
  {
   "cell_type": "code",
   "execution_count": 32,
   "metadata": {},
   "outputs": [
    {
     "name": "stdout",
     "output_type": "stream",
     "text": [
      "[17638, 3416] 1\n",
      "[11266, 11893] 2\n",
      "[16285, 1886] 3\n",
      "[18074, 16317] 4\n",
      "[14193, 16115] 5\n",
      "[11947, 16196] 6\n"
     ]
    }
   ],
   "source": [
    "#de momento lo haré sin la clase 7\n",
    "prots_pca = []\n",
    "for enz_label in range(1,7):\n",
    "    indices_enzymes = find_prot_labeled(folder, enz_label)\n",
    "    print(indices_enzymes, enz_label)\n",
    "    for idx,i in enumerate(indices_enzymes):\n",
    "        for padding in list_paddings:\n",
    "            seq = load_prot_labeled(folder, padding, nshape, enz_label, i)\n",
    "            prots_pca.append((seq,enz_label, padding))\n",
    "            #print(enz_label, \"prot\", idx)\n",
    "    "
   ]
  },
  {
   "cell_type": "code",
   "execution_count": null,
   "metadata": {},
   "outputs": [
    {
     "name": "stdout",
     "output_type": "stream",
     "text": [
      "Model type:  ext_padding enzyme type 1\n",
      "Model type:  mid_padding enzyme type 1\n",
      "Model type:  post_padding enzyme type 1\n",
      "Model type:  pre_padding enzyme type 1\n",
      "Model type:  rnd_padding enzyme type 1\n",
      "Model type:  strf_padding enzyme type 1\n",
      "Model type:  zoom_padding enzyme type 1\n",
      "Model type:  ext_padding enzyme type 1\n",
      "Model type:  mid_padding enzyme type 1\n",
      "Model type:  post_padding enzyme type 1\n",
      "Model type:  pre_padding enzyme type 1\n",
      "Model type:  rnd_padding enzyme type 1\n",
      "Model type:  strf_padding enzyme type 1\n",
      "Model type:  zoom_padding enzyme type 1\n",
      "Model type:  ext_padding enzyme type 2\n",
      "Model type:  mid_padding enzyme type 2\n",
      "Model type:  post_padding enzyme type 2\n",
      "Model type:  pre_padding enzyme type 2\n"
     ]
    }
   ],
   "source": [
    "#Define list of dataframes\n",
    "task = \"task2/\"\n",
    "lista_dfs = []\n",
    "for tup in prots_pca:\n",
    "    model_type = tup[2]\n",
    "    enz_type = tup[1]\n",
    "    prot = tup[0]\n",
    "    print(\"Model type: \", model_type, \"enzyme type\", enz_type)\n",
    "    for fold in range(nfolds):\n",
    "        model = search_model(folder, str(fold), task, model_type)\n",
    "        activations = obtain_activations(model, nlayer, prot)\n",
    "        act_df = activations_to_df(activations, model_type, fold)\n",
    "        act_df[\"enzyme_type\"] = tup[1]\n",
    "        lista_dfs.append(act_df)"
   ]
  },
  {
   "cell_type": "code",
   "execution_count": null,
   "metadata": {},
   "outputs": [],
   "source": [
    "#investigar dfs\n",
    "\n",
    "len(lista_dfs)"
   ]
  },
  {
   "cell_type": "code",
   "execution_count": null,
   "metadata": {},
   "outputs": [],
   "source": [
    "# ha tardado un huevo en ejecutarse asi que deberia guardarlo\n",
    "filename = \"activations_enzymeType.pickle\"\n",
    "pickle_path = \"\".join((absPath, \"data/results/\", task, filename))\n",
    "\n",
    "with open(pickle_path, 'wb') as handle:\n",
    "    pickle.dump(lista_dfs, handle, protocol=pickle.HIGHEST_PROTOCOL)"
   ]
  },
  {
   "cell_type": "code",
   "execution_count": 7,
   "metadata": {},
   "outputs": [
    {
     "name": "stdout",
     "output_type": "stream",
     "text": [
      "12821\n"
     ]
    }
   ],
   "source": [
    "lista_dfs[0].shape"
   ]
  },
  {
   "cell_type": "code",
   "execution_count": 28,
   "metadata": {},
   "outputs": [],
   "source": [
    "final_df, pca = train_pca(lista_dfs, 2)\n",
    "plot_pca(final_df, pca, list_paddings)"
   ]
  },
  {
   "cell_type": "code",
   "execution_count": 26,
   "metadata": {},
   "outputs": [
    {
     "ename": "KeyboardInterrupt",
     "evalue": "",
     "output_type": "error",
     "traceback": [
      "\u001b[0;31m---------------------------------------------------------------------------\u001b[0m",
      "\u001b[0;31mKeyboardInterrupt\u001b[0m                         Traceback (most recent call last)",
      "\u001b[0;32m<ipython-input-26-55937f051d5f>\u001b[0m in \u001b[0;36m<module>\u001b[0;34m()\u001b[0m\n\u001b[0;32m----> 1\u001b[0;31m \u001b[0mload_prot_labeled\u001b[0m\u001b[0;34m(\u001b[0m\u001b[0mfolder\u001b[0m\u001b[0;34m,\u001b[0m \u001b[0;34m\"mid_padding\"\u001b[0m\u001b[0;34m,\u001b[0m \u001b[0mnshape\u001b[0m\u001b[0;34m,\u001b[0m \u001b[0;36m7\u001b[0m\u001b[0;34m)\u001b[0m\u001b[0;34m\u001b[0m\u001b[0;34m\u001b[0m\u001b[0m\n\u001b[0m",
      "\u001b[0;32m<ipython-input-20-4abca802b409>\u001b[0m in \u001b[0;36mload_prot_labeled\u001b[0;34m(folder, padding, newshape, enz_label)\u001b[0m\n\u001b[1;32m      8\u001b[0m     \u001b[0mlist_labels\u001b[0m \u001b[0;34m=\u001b[0m \u001b[0;34m[\u001b[0m\u001b[0;34m]\u001b[0m\u001b[0;34m\u001b[0m\u001b[0;34m\u001b[0m\u001b[0m\n\u001b[1;32m      9\u001b[0m     \u001b[0;32mwhile\u001b[0m \u001b[0mlen\u001b[0m\u001b[0;34m(\u001b[0m\u001b[0mlist_enzymes\u001b[0m\u001b[0;34m)\u001b[0m\u001b[0;34m<\u001b[0m\u001b[0;36m2\u001b[0m\u001b[0;34m:\u001b[0m\u001b[0;34m\u001b[0m\u001b[0;34m\u001b[0m\u001b[0m\n\u001b[0;32m---> 10\u001b[0;31m         \u001b[0midx\u001b[0m \u001b[0;34m=\u001b[0m \u001b[0mrandom_prot_idx\u001b[0m\u001b[0;34m(\u001b[0m\u001b[0mfolder\u001b[0m\u001b[0;34m,\u001b[0m \u001b[0;34m\"task2\"\u001b[0m\u001b[0;34m)\u001b[0m\u001b[0;34m\u001b[0m\u001b[0;34m\u001b[0m\u001b[0m\n\u001b[0m\u001b[1;32m     11\u001b[0m         \u001b[0mlabel_prot\u001b[0m \u001b[0;34m=\u001b[0m \u001b[0mnp\u001b[0m\u001b[0;34m.\u001b[0m\u001b[0margmax\u001b[0m\u001b[0;34m(\u001b[0m\u001b[0mf1\u001b[0m\u001b[0;34m[\u001b[0m\u001b[0;34m\"labels_task2\"\u001b[0m\u001b[0;34m]\u001b[0m\u001b[0;34m[\u001b[0m\u001b[0midx\u001b[0m\u001b[0;34m]\u001b[0m\u001b[0;34m)\u001b[0m\u001b[0;34m\u001b[0m\u001b[0;34m\u001b[0m\u001b[0m\n\u001b[1;32m     12\u001b[0m         \u001b[0;32mif\u001b[0m \u001b[0mlabel_prot\u001b[0m \u001b[0;34m==\u001b[0m \u001b[0menz_label\u001b[0m\u001b[0;34m:\u001b[0m\u001b[0;34m\u001b[0m\u001b[0;34m\u001b[0m\u001b[0m\n",
      "\u001b[0;32m<ipython-input-20-4abca802b409>\u001b[0m in \u001b[0;36mrandom_prot_idx\u001b[0;34m(folder, task)\u001b[0m\n\u001b[1;32m     25\u001b[0m         \u001b[0mfile_idcs\u001b[0m \u001b[0;34m=\u001b[0m \u001b[0mos\u001b[0m\u001b[0;34m.\u001b[0m\u001b[0mpath\u001b[0m\u001b[0;34m.\u001b[0m\u001b[0mjoin\u001b[0m\u001b[0;34m(\u001b[0m\u001b[0mabsPath\u001b[0m\u001b[0;34m,\u001b[0m \u001b[0;34m'data/'\u001b[0m\u001b[0;34m,\u001b[0m \u001b[0mfolder\u001b[0m\u001b[0;34m,\u001b[0m \u001b[0;34m'idcs_data_enz.pickle'\u001b[0m\u001b[0;34m)\u001b[0m\u001b[0;34m\u001b[0m\u001b[0;34m\u001b[0m\u001b[0m\n\u001b[1;32m     26\u001b[0m     \u001b[0;32mwith\u001b[0m \u001b[0mopen\u001b[0m\u001b[0;34m(\u001b[0m\u001b[0mfile_idcs\u001b[0m\u001b[0;34m,\u001b[0m \u001b[0;34m\"rb\"\u001b[0m\u001b[0;34m)\u001b[0m \u001b[0;32mas\u001b[0m \u001b[0minput_file\u001b[0m\u001b[0;34m:\u001b[0m\u001b[0;34m\u001b[0m\u001b[0;34m\u001b[0m\u001b[0m\n\u001b[0;32m---> 27\u001b[0;31m         \u001b[0msplitting_sets\u001b[0m \u001b[0;34m=\u001b[0m \u001b[0mpickle\u001b[0m\u001b[0;34m.\u001b[0m\u001b[0mload\u001b[0m\u001b[0;34m(\u001b[0m\u001b[0minput_file\u001b[0m\u001b[0;34m)\u001b[0m\u001b[0;34m[\u001b[0m\u001b[0;36m0\u001b[0m\u001b[0;34m]\u001b[0m\u001b[0;34m\u001b[0m\u001b[0;34m\u001b[0m\u001b[0m\n\u001b[0m\u001b[1;32m     28\u001b[0m     \u001b[0mi_train\u001b[0m\u001b[0;34m,\u001b[0m \u001b[0mi_val\u001b[0m\u001b[0;34m,\u001b[0m \u001b[0mi_test\u001b[0m \u001b[0;34m=\u001b[0m \u001b[0msplitting_sets\u001b[0m\u001b[0;34m\u001b[0m\u001b[0;34m\u001b[0m\u001b[0m\n\u001b[1;32m     29\u001b[0m     \u001b[0mlen_test\u001b[0m \u001b[0;34m=\u001b[0m \u001b[0mlen\u001b[0m\u001b[0;34m(\u001b[0m\u001b[0mi_test\u001b[0m\u001b[0;34m)\u001b[0m\u001b[0;34m\u001b[0m\u001b[0;34m\u001b[0m\u001b[0m\n",
      "\u001b[0;31mKeyboardInterrupt\u001b[0m: "
     ]
    }
   ],
   "source": []
  },
  {
   "cell_type": "code",
   "execution_count": null,
   "metadata": {},
   "outputs": [],
   "source": [
    "#tb seria interesante comparar misma conv entre 1conv y rnn"
   ]
  },
  {
   "cell_type": "code",
   "execution_count": 14,
   "metadata": {},
   "outputs": [
    {
     "data": {
      "text/plain": [
       "4480"
      ]
     },
     "execution_count": 14,
     "metadata": {},
     "output_type": "execute_result"
    }
   ],
   "source": []
  },
  {
   "cell_type": "code",
   "execution_count": 19,
   "metadata": {},
   "outputs": [
    {
     "data": {
      "text/plain": [
       "1"
      ]
     },
     "execution_count": 19,
     "metadata": {},
     "output_type": "execute_result"
    }
   ],
   "source": [
    "# como cojo indice 7\n",
    "def find_prot_labeled(folder, enz_label, quant=2):\n",
    "    data_path = os.path.join(absPath, \"data/\", folder, \"data.h5\")\n",
    "    f1 = h5py.File(data_path, 'r')\n",
    "    indices_enzymes = []\n",
    "    if enz_label != 7:\n",
    "        while len(indices_enzymes)<quant:\n",
    "            idx = random_prot_idx(folder, \"task2\")\n",
    "            label_prot = np.argmax(f1[\"labels_task2\"][idx])\n",
    "            if label_prot == enz_label:\n",
    "                indices_enzymes.append(idx)\n",
    "    else:\n",
    "        f1[\"labels_task2\"][idx]\n",
    "    return indices_enzymes"
   ]
  },
  {
   "cell_type": "code",
   "execution_count": 25,
   "metadata": {},
   "outputs": [
    {
     "data": {
      "text/plain": [
       "[1, 2, 3, 4, 5, 6, 7]"
      ]
     },
     "execution_count": 25,
     "metadata": {},
     "output_type": "execute_result"
    }
   ],
   "source": [
    "f1[\"labels_task2\"][idx]"
   ]
  },
  {
   "cell_type": "code",
   "execution_count": null,
   "metadata": {},
   "outputs": [],
   "source": []
  }
 ],
 "metadata": {
  "kernelspec": {
   "display_name": "Python 3",
   "language": "python",
   "name": "python3"
  },
  "language_info": {
   "codemirror_mode": {
    "name": "ipython",
    "version": 3
   },
   "file_extension": ".py",
   "mimetype": "text/x-python",
   "name": "python",
   "nbconvert_exporter": "python",
   "pygments_lexer": "ipython3",
   "version": "3.6.7"
  }
 },
 "nbformat": 4,
 "nbformat_minor": 2
}
