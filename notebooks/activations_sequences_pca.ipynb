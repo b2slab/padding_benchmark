{
 "cells": [
  {
   "cell_type": "code",
   "execution_count": 1,
   "metadata": {},
   "outputs": [
    {
     "name": "stderr",
     "output_type": "stream",
     "text": [
      "Using TensorFlow backend.\n"
     ]
    }
   ],
   "source": [
    "from __future__ import division, absolute_import\n",
    "\n",
    "import os\n",
    "import sys\n",
    "import random\n",
    "\n",
    "#os.environ[\"CUDA_DEVICE_ORDER\"] = \"PCI_BUS_ID\"   # see issue #152\n",
    "#os.environ[\"CUDA_VISIBLE_DEVICES\"] = \"\"\n",
    "\n",
    "import h5py\n",
    "import pickle\n",
    "import numpy as np\n",
    "import keras\n",
    "import pandas as pd\n",
    "import random\n",
    "\n",
    "from glob import glob\n",
    "from keras.models import load_model\n",
    "from keras import models\n",
    "from sklearn.preprocessing import StandardScaler\n",
    "from sklearn.decomposition import PCA\n",
    "import matplotlib.pyplot as plt\n",
    "import datetime\n",
    "from plotnine import *\n",
    "\n",
    "#root\n",
    "absPath = '/home/angela/padding_EBI/'\n",
    "sys.path.insert(0, absPath)\n",
    "\n",
    "from src.Target import Target\n",
    "from src.processing_activations import *\n",
    "\n",
    "#para no imprimir warnings chungos\n",
    "import warnings \n",
    "warnings.simplefilter(\"ignore\")\n",
    "\n",
    "np.random.seed(1)\n",
    "random.seed(1)\n",
    "%matplotlib inline"
   ]
  },
  {
   "cell_type": "code",
   "execution_count": 2,
   "metadata": {},
   "outputs": [],
   "source": [
    "list_paddings = ['ext_padding', 'mid_padding', 'post_padding', 'pre_padding', \n",
    "                 'rnd_padding', 'strf_padding',  \"zoom_padding\"]\n",
    "\n",
    "nfolds = 10\n",
    "folder = 'EC_number/archaea/1conv/64filts_size5/'\n",
    "nshape = (1, 1000, 26)\n",
    "nlayer = 2"
   ]
  },
  {
   "cell_type": "markdown",
   "metadata": {},
   "source": [
    "# Task 1"
   ]
  },
  {
   "cell_type": "code",
   "execution_count": 3,
   "metadata": {},
   "outputs": [
    {
     "name": "stdout",
     "output_type": "stream",
     "text": [
      "[15066, 12675, 2534, 13134, 18931, 454, 3706] 0\n",
      "[6586, 10257, 6480, 11790, 11511, 16316, 9507] 1\n"
     ]
    }
   ],
   "source": [
    "#coger al azar 7 enzimas y 7 no enzimas para comparar\n",
    "prots_pca_task1 = []\n",
    "list_indices_enzymes_task1 = []\n",
    "for enz_label in [0,1]:\n",
    "    indices_enzymes_task1 = find_prot_labeled(folder, enz_label, 7, \"task1\", \"labels_task1\")\n",
    "    print(indices_enzymes_task1, enz_label)\n",
    "    list_indices_enzymes_task1.append((indices_enzymes_task1, enz_label))\n",
    "    for idx,i in enumerate(indices_enzymes_task1):\n",
    "        for padding in list_paddings:\n",
    "            seq = load_prot_labeled(folder, padding, nshape, enz_label, i)\n",
    "            prots_pca_task1.append((seq, enz_label, padding))\n",
    "            #print(enz_label, \"prot\", idx)"
   ]
  },
  {
   "cell_type": "code",
   "execution_count": 4,
   "metadata": {},
   "outputs": [],
   "source": [
    "task = 'task1/'"
   ]
  },
  {
   "cell_type": "code",
   "execution_count": null,
   "metadata": {},
   "outputs": [],
   "source": [
    "#Define list of dataframes\n",
    "lista_dfs = []\n",
    "contador = 0\n",
    "for tup in prots_pca_task1:\n",
    "    model_type = tup[2]\n",
    "    enz_type = tup[1]\n",
    "    prot = tup[0]\n",
    "    for fold in range(nfolds):\n",
    "        contador = contador + 1\n",
    "        #print(\"Model type: \", model_type, \"enzyme type\", enz_type)\n",
    "        model = search_model(folder, str(fold), task, model_type)\n",
    "        #writing log file \n",
    "        log_file = ''.join(string for string in [absPath, 'data/results/', folder, task, 'log_file_pca.txt' ])\n",
    "        f = open(log_file, 'a+')\n",
    "        print('Iteracion número %s' % contador, file=f)\n",
    "        print('Model type: %s \\n' % model_type, file=f)\n",
    "        print('Enzyme type: %s \\n' % enz_type, file=f)\n",
    "        formatted_time = datetime.datetime.now()\n",
    "        print('Starting time: %s \\n' % formatted_time, file=f)\n",
    "        activations = obtain_activations(model, nlayer, prot)\n",
    "        act_df = activations_to_df(activations, model_type, fold)\n",
    "        act_df[\"enzyme_type\"] = tup[1]\n",
    "        formatted_endtime = datetime.datetime.now()\n",
    "        print('Finishing time: %s \\n' % formatted_endtime, file=f)\n",
    "        lista_dfs.append(act_df)\n",
    "        f.close()"
   ]
  },
  {
   "cell_type": "code",
   "execution_count": null,
   "metadata": {},
   "outputs": [],
   "source": [
    "# ha tardado un huevo en ejecutarse asi que deberia guardarlo\n",
    "filename = \"activations_enzymeType.pickle\"\n",
    "pickle_path = \"\".join((absPath, \"data/results/\", folder, task, filename))\n",
    "with open(pickle_path, 'wb') as handle:\n",
    "    pickle.dump(lista_dfs, handle, protocol=pickle.HIGHEST_PROTOCOL)\n",
    "\n",
    "#loading it\n",
    "#with open(filename, 'rb') as handle:\n",
    "#    lista_dfs = pickle.load(handle)"
   ]
  },
  {
   "cell_type": "code",
   "execution_count": null,
   "metadata": {},
   "outputs": [],
   "source": [
    "1+1"
   ]
  },
  {
   "cell_type": "code",
   "execution_count": null,
   "metadata": {},
   "outputs": [],
   "source": []
  },
  {
   "cell_type": "code",
   "execution_count": null,
   "metadata": {},
   "outputs": [],
   "source": []
  },
  {
   "cell_type": "code",
   "execution_count": null,
   "metadata": {},
   "outputs": [],
   "source": []
  },
  {
   "cell_type": "code",
   "execution_count": null,
   "metadata": {},
   "outputs": [],
   "source": []
  },
  {
   "cell_type": "code",
   "execution_count": null,
   "metadata": {},
   "outputs": [],
   "source": [
    "#TASK2\n",
    "\n",
    "prots_pca = []\n",
    "list_indices_enzymes = []\n",
    "for enz_label in range(1,8):\n",
    "    indices_enzymes = find_prot_labeled(folder, enz_label)\n",
    "    print(indices_enzymes, enz_label)\n",
    "    list_indices_enzymes.append((indices_enzymes, enz_label))\n",
    "    for idx,i in enumerate(indices_enzymes):\n",
    "        for padding in list_paddings:\n",
    "            seq = load_prot_labeled(folder, padding, nshape, enz_label, i)\n",
    "            prots_pca.append((seq,enz_label, padding))\n",
    "            #print(enz_label, \"prot\", idx)"
   ]
  },
  {
   "cell_type": "code",
   "execution_count": null,
   "metadata": {},
   "outputs": [],
   "source": []
  },
  {
   "cell_type": "code",
   "execution_count": null,
   "metadata": {},
   "outputs": [],
   "source": []
  },
  {
   "cell_type": "code",
   "execution_count": null,
   "metadata": {},
   "outputs": [],
   "source": []
  },
  {
   "cell_type": "code",
   "execution_count": null,
   "metadata": {},
   "outputs": [],
   "source": [
    "lista_dfs[0].columns"
   ]
  },
  {
   "cell_type": "code",
   "execution_count": null,
   "metadata": {},
   "outputs": [],
   "source": [
    "lista_dfs[0].shape"
   ]
  },
  {
   "cell_type": "code",
   "execution_count": null,
   "metadata": {},
   "outputs": [],
   "source": [
    "final_df, pca = train_pca(lista_dfs, 2)"
   ]
  },
  {
   "cell_type": "code",
   "execution_count": null,
   "metadata": {},
   "outputs": [],
   "source": [
    "final_df.shape"
   ]
  },
  {
   "cell_type": "code",
   "execution_count": null,
   "metadata": {},
   "outputs": [],
   "source": [
    "plot_pca(final_df, pca, \"padding\", list_paddings)"
   ]
  },
  {
   "cell_type": "code",
   "execution_count": null,
   "metadata": {},
   "outputs": [],
   "source": [
    "plot_pca_per_padding(final_df, pca)"
   ]
  },
  {
   "cell_type": "code",
   "execution_count": null,
   "metadata": {},
   "outputs": [],
   "source": [
    "density_facet(final_df, pca)"
   ]
  },
  {
   "cell_type": "code",
   "execution_count": null,
   "metadata": {},
   "outputs": [],
   "source": []
  },
  {
   "cell_type": "code",
   "execution_count": null,
   "metadata": {},
   "outputs": [],
   "source": [
    "#cambiar respecto a la nueva funcion de train_pca\n",
    "df_joint = pd.concat(lista_dfs, ignore_index=True)\n",
    "x = df_joint.drop(['order', 'padding', 'fold', \"enzyme_type\",\n",
    "                       #, 'label'\n",
    "                      ], axis=1).values\n",
    "x = StandardScaler().fit_transform(x)\n",
    "pca = PCA(n_components=2)\n",
    "pca.fit(x)\n",
    "principalComponents = pca.fit_transform(x)"
   ]
  },
  {
   "cell_type": "code",
   "execution_count": null,
   "metadata": {},
   "outputs": [],
   "source": [
    "myplot(principalComponents, np.transpose(pca.components_))"
   ]
  },
  {
   "cell_type": "code",
   "execution_count": null,
   "metadata": {},
   "outputs": [],
   "source": [
    "# guardamos final_df en un csv\n",
    "task = \"task1/\"\n",
    "filename = \"pca.csv\"\n",
    "pickle_path = \"\".join((absPath, \"data/results/\", task, filename))\n",
    "\n",
    "#with open(pickle_path, 'wb') as handle:\n",
    "#    pickle.dump(final_df, handle, protocol=pickle.HIGHEST_PROTOCOL)\n",
    "\n",
    "final_df.to_csv(pickle_path)"
   ]
  },
  {
   "cell_type": "markdown",
   "metadata": {},
   "source": [
    "# Task 2"
   ]
  },
  {
   "cell_type": "code",
   "execution_count": null,
   "metadata": {},
   "outputs": [],
   "source": [
    "task = 'task2/'"
   ]
  },
  {
   "cell_type": "code",
   "execution_count": null,
   "metadata": {},
   "outputs": [],
   "source": [
    "# Defining protein to take\n",
    "idx_2 = random_prot_idx(folder, \"task2\")\n",
    "print(idx_2)\n",
    "#Define list of dataframes\n",
    "lista_dfs_task2 = []\n",
    "for model_type in list_paddings:\n",
    "    print(\"Model type: \", model_type)\n",
    "    for fold in range(nfolds):\n",
    "        model = search_model(folder, str(fold), task, model_type)\n",
    "        prot, label = load_prot(folder, idx_2, model_type, \"labels_task2\", nshape)\n",
    "        activations = obtain_activations(model, nlayer, prot)\n",
    "        act_df = activations_to_df(activations, model_type, fold, label)\n",
    "        lista_dfs_task2.append(act_df)"
   ]
  },
  {
   "cell_type": "code",
   "execution_count": null,
   "metadata": {},
   "outputs": [],
   "source": [
    "def saving_activations_plot(packagee, type_plot, p=None):\n",
    "    if packagee == \"plt\":\n",
    "        extension = \".png\"\n",
    "        file_fig = ''.join(string for string in [absPath,'data/results/', folder, task, 'pcaActivations_',\n",
    "                                             typle_plot, extension])\n",
    "        plt.savefig(file_fig)\n",
    "    else:\n",
    "        extension = \".pdf\"\n",
    "        path_fig = ''.join(string for string in [absPath,'data/results/', folder, task])\n",
    "        file_fig = ''.join(string for string in ['pcaActivations_', typle_plot, extension])\n",
    "        p.save(path = path_fig, format = 'pdf', dpi=300, filename=file_fig)"
   ]
  },
  {
   "cell_type": "code",
   "execution_count": null,
   "metadata": {},
   "outputs": [],
   "source": [
    "\n"
   ]
  },
  {
   "cell_type": "code",
   "execution_count": null,
   "metadata": {},
   "outputs": [],
   "source": []
  },
  {
   "cell_type": "code",
   "execution_count": null,
   "metadata": {},
   "outputs": [],
   "source": []
  },
  {
   "cell_type": "code",
   "execution_count": null,
   "metadata": {},
   "outputs": [],
   "source": []
  },
  {
   "cell_type": "code",
   "execution_count": null,
   "metadata": {},
   "outputs": [],
   "source": []
  },
  {
   "cell_type": "code",
   "execution_count": null,
   "metadata": {},
   "outputs": [],
   "source": [
    "#tb seria interesante comparar misma conv entre 1conv y rnn"
   ]
  },
  {
   "cell_type": "code",
   "execution_count": null,
   "metadata": {},
   "outputs": [],
   "source": []
  },
  {
   "cell_type": "code",
   "execution_count": null,
   "metadata": {},
   "outputs": [],
   "source": []
  },
  {
   "cell_type": "code",
   "execution_count": null,
   "metadata": {},
   "outputs": [],
   "source": []
  },
  {
   "cell_type": "code",
   "execution_count": null,
   "metadata": {},
   "outputs": [],
   "source": []
  },
  {
   "cell_type": "code",
   "execution_count": null,
   "metadata": {},
   "outputs": [],
   "source": []
  }
 ],
 "metadata": {
  "kernelspec": {
   "display_name": "Python 3",
   "language": "python",
   "name": "python3"
  },
  "language_info": {
   "codemirror_mode": {
    "name": "ipython",
    "version": 3
   },
   "file_extension": ".py",
   "mimetype": "text/x-python",
   "name": "python",
   "nbconvert_exporter": "python",
   "pygments_lexer": "ipython3",
   "version": "3.6.7"
  }
 },
 "nbformat": 4,
 "nbformat_minor": 2
}
