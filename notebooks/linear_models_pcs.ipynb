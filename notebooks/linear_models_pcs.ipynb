{
 "cells": [
  {
   "cell_type": "code",
   "execution_count": 1,
   "metadata": {},
   "outputs": [],
   "source": [
    "absPath = '/home/angela/padding_EBI/'"
   ]
  },
  {
   "cell_type": "markdown",
   "metadata": {},
   "source": [
    "## Task 2, 1Conv 64 filters size=5"
   ]
  },
  {
   "cell_type": "code",
   "execution_count": 2,
   "metadata": {},
   "outputs": [],
   "source": [
    "task <- \"task2/\""
   ]
  },
  {
   "cell_type": "code",
   "execution_count": 3,
   "metadata": {},
   "outputs": [],
   "source": [
    "filename <- \"pca_1fold.csv\"\n",
    "file_path <- paste0(absPath, \"data/results/\", task, filename)"
   ]
  },
  {
   "cell_type": "code",
   "execution_count": 4,
   "metadata": {},
   "outputs": [],
   "source": [
    "pc1_task2_conv <- read.csv(file=file_path, header=TRUE, sep=\",\")"
   ]
  },
  {
   "cell_type": "code",
   "execution_count": 5,
   "metadata": {},
   "outputs": [
    {
     "data": {
      "text/html": [
       "<table>\n",
       "<caption>A data.frame: 5 x 8</caption>\n",
       "<thead>\n",
       "\t<tr><th scope=col>X</th><th scope=col>PC1</th><th scope=col>PC2</th><th scope=col>padding</th><th scope=col>order</th><th scope=col>fold</th><th scope=col>enzyme_type</th><th scope=col>sequence_length</th></tr>\n",
       "\t<tr><th scope=col>&lt;int&gt;</th><th scope=col>&lt;dbl&gt;</th><th scope=col>&lt;dbl&gt;</th><th scope=col>&lt;fct&gt;</th><th scope=col>&lt;int&gt;</th><th scope=col>&lt;int&gt;</th><th scope=col>&lt;int&gt;</th><th scope=col>&lt;int&gt;</th></tr>\n",
       "</thead>\n",
       "<tbody>\n",
       "\t<tr><td>0</td><td>-8.604600</td><td> 6.8498683</td><td>ext_padding</td><td>0</td><td>5</td><td>1</td><td>335</td></tr>\n",
       "\t<tr><td>1</td><td>-8.736626</td><td> 7.4334731</td><td>ext_padding</td><td>1</td><td>5</td><td>1</td><td>335</td></tr>\n",
       "\t<tr><td>2</td><td>-8.442528</td><td> 5.5230832</td><td>ext_padding</td><td>2</td><td>5</td><td>1</td><td>335</td></tr>\n",
       "\t<tr><td>3</td><td>-8.460973</td><td>-0.3648063</td><td>ext_padding</td><td>3</td><td>5</td><td>1</td><td>335</td></tr>\n",
       "\t<tr><td>4</td><td>-8.680471</td><td>-5.2850909</td><td>ext_padding</td><td>4</td><td>5</td><td>1</td><td>335</td></tr>\n",
       "</tbody>\n",
       "</table>\n"
      ],
      "text/latex": [
       "A data.frame: 5 x 8\n",
       "\\begin{tabular}{r|llllllll}\n",
       " X & PC1 & PC2 & padding & order & fold & enzyme\\_type & sequence\\_length\\\\\n",
       " <int> & <dbl> & <dbl> & <fct> & <int> & <int> & <int> & <int>\\\\\n",
       "\\hline\n",
       "\t 0 & -8.604600 &  6.8498683 & ext\\_padding & 0 & 5 & 1 & 335\\\\\n",
       "\t 1 & -8.736626 &  7.4334731 & ext\\_padding & 1 & 5 & 1 & 335\\\\\n",
       "\t 2 & -8.442528 &  5.5230832 & ext\\_padding & 2 & 5 & 1 & 335\\\\\n",
       "\t 3 & -8.460973 & -0.3648063 & ext\\_padding & 3 & 5 & 1 & 335\\\\\n",
       "\t 4 & -8.680471 & -5.2850909 & ext\\_padding & 4 & 5 & 1 & 335\\\\\n",
       "\\end{tabular}\n"
      ],
      "text/markdown": [
       "\n",
       "A data.frame: 5 x 8\n",
       "\n",
       "| X &lt;int&gt; | PC1 &lt;dbl&gt; | PC2 &lt;dbl&gt; | padding &lt;fct&gt; | order &lt;int&gt; | fold &lt;int&gt; | enzyme_type &lt;int&gt; | sequence_length &lt;int&gt; |\n",
       "|---|---|---|---|---|---|---|---|\n",
       "| 0 | -8.604600 |  6.8498683 | ext_padding | 0 | 5 | 1 | 335 |\n",
       "| 1 | -8.736626 |  7.4334731 | ext_padding | 1 | 5 | 1 | 335 |\n",
       "| 2 | -8.442528 |  5.5230832 | ext_padding | 2 | 5 | 1 | 335 |\n",
       "| 3 | -8.460973 | -0.3648063 | ext_padding | 3 | 5 | 1 | 335 |\n",
       "| 4 | -8.680471 | -5.2850909 | ext_padding | 4 | 5 | 1 | 335 |\n",
       "\n"
      ],
      "text/plain": [
       "  X PC1       PC2        padding     order fold enzyme_type sequence_length\n",
       "1 0 -8.604600  6.8498683 ext_padding 0     5    1           335            \n",
       "2 1 -8.736626  7.4334731 ext_padding 1     5    1           335            \n",
       "3 2 -8.442528  5.5230832 ext_padding 2     5    1           335            \n",
       "4 3 -8.460973 -0.3648063 ext_padding 3     5    1           335            \n",
       "5 4 -8.680471 -5.2850909 ext_padding 4     5    1           335            "
      ]
     },
     "metadata": {},
     "output_type": "display_data"
    }
   ],
   "source": [
    "pc1_task2_conv[0:5,]"
   ]
  },
  {
   "cell_type": "code",
   "execution_count": 6,
   "metadata": {},
   "outputs": [],
   "source": [
    "pc1_task2_conv$X <- NULL"
   ]
  },
  {
   "cell_type": "code",
   "execution_count": 7,
   "metadata": {},
   "outputs": [
    {
     "data": {
      "text/html": [
       "<ol class=list-inline>\n",
       "\t<li>'PC1'</li>\n",
       "\t<li>'PC2'</li>\n",
       "\t<li>'padding'</li>\n",
       "\t<li>'order'</li>\n",
       "\t<li>'fold'</li>\n",
       "\t<li>'enzyme_type'</li>\n",
       "\t<li>'sequence_length'</li>\n",
       "</ol>\n"
      ],
      "text/latex": [
       "\\begin{enumerate*}\n",
       "\\item 'PC1'\n",
       "\\item 'PC2'\n",
       "\\item 'padding'\n",
       "\\item 'order'\n",
       "\\item 'fold'\n",
       "\\item 'enzyme\\_type'\n",
       "\\item 'sequence\\_length'\n",
       "\\end{enumerate*}\n"
      ],
      "text/markdown": [
       "1. 'PC1'\n",
       "2. 'PC2'\n",
       "3. 'padding'\n",
       "4. 'order'\n",
       "5. 'fold'\n",
       "6. 'enzyme_type'\n",
       "7. 'sequence_length'\n",
       "\n",
       "\n"
      ],
      "text/plain": [
       "[1] \"PC1\"             \"PC2\"             \"padding\"         \"order\"          \n",
       "[5] \"fold\"            \"enzyme_type\"     \"sequence_length\""
      ]
     },
     "metadata": {},
     "output_type": "display_data"
    }
   ],
   "source": [
    "colnames(pc1_task2_conv)"
   ]
  },
  {
   "cell_type": "code",
   "execution_count": 8,
   "metadata": {},
   "outputs": [
    {
     "data": {
      "text/html": [
       "<dl class=dl-horizontal>\n",
       "\t<dt>PC1</dt>\n",
       "\t\t<dd>'numeric'</dd>\n",
       "\t<dt>PC2</dt>\n",
       "\t\t<dd>'numeric'</dd>\n",
       "\t<dt>padding</dt>\n",
       "\t\t<dd>'factor'</dd>\n",
       "\t<dt>order</dt>\n",
       "\t\t<dd>'integer'</dd>\n",
       "\t<dt>fold</dt>\n",
       "\t\t<dd>'integer'</dd>\n",
       "\t<dt>enzyme_type</dt>\n",
       "\t\t<dd>'integer'</dd>\n",
       "\t<dt>sequence_length</dt>\n",
       "\t\t<dd>'integer'</dd>\n",
       "</dl>\n"
      ],
      "text/latex": [
       "\\begin{description*}\n",
       "\\item[PC1] 'numeric'\n",
       "\\item[PC2] 'numeric'\n",
       "\\item[padding] 'factor'\n",
       "\\item[order] 'integer'\n",
       "\\item[fold] 'integer'\n",
       "\\item[enzyme\\textbackslash{}\\_type] 'integer'\n",
       "\\item[sequence\\textbackslash{}\\_length] 'integer'\n",
       "\\end{description*}\n"
      ],
      "text/markdown": [
       "PC1\n",
       ":   'numeric'PC2\n",
       ":   'numeric'padding\n",
       ":   'factor'order\n",
       ":   'integer'fold\n",
       ":   'integer'enzyme_type\n",
       ":   'integer'sequence_length\n",
       ":   'integer'\n",
       "\n"
      ],
      "text/plain": [
       "            PC1             PC2         padding           order            fold \n",
       "      \"numeric\"       \"numeric\"        \"factor\"       \"integer\"       \"integer\" \n",
       "    enzyme_type sequence_length \n",
       "      \"integer\"       \"integer\" "
      ]
     },
     "metadata": {},
     "output_type": "display_data"
    }
   ],
   "source": [
    "sapply(pc1_task2_conv, class)"
   ]
  },
  {
   "cell_type": "code",
   "execution_count": 9,
   "metadata": {},
   "outputs": [],
   "source": [
    "# converting each column to the corresponding type\n",
    "cols <- c(\"padding\", \"order\", \"fold\", \"enzyme_type\")"
   ]
  },
  {
   "cell_type": "code",
   "execution_count": 10,
   "metadata": {},
   "outputs": [],
   "source": [
    "pc1_task2_conv[cols] <- lapply(pc1_task2_conv[cols], factor)"
   ]
  },
  {
   "cell_type": "code",
   "execution_count": 11,
   "metadata": {},
   "outputs": [],
   "source": [
    "lm.fit <- lm(PC1 ~ padding * enzyme_type, data=pc1_task2_conv)"
   ]
  },
  {
   "cell_type": "code",
   "execution_count": 12,
   "metadata": {},
   "outputs": [
    {
     "data": {
      "text/plain": [
       "\n",
       "Call:\n",
       "lm(formula = PC1 ~ padding * enzyme_type, data = pc1_task2_conv)\n",
       "\n",
       "Residuals:\n",
       "    Min      1Q  Median      3Q     Max \n",
       "-17.447  -5.044  -1.113   2.757  28.732 \n",
       "\n",
       "Coefficients:\n",
       "                                 Estimate Std. Error t value Pr(>|t|)    \n",
       "(Intercept)                       0.96373    0.75942   1.269 0.204475    \n",
       "paddingmid_padding               -2.97243    1.07398  -2.768 0.005662 ** \n",
       "paddingpost_padding              -2.54550    1.07398  -2.370 0.017811 *  \n",
       "paddingpre_padding               -5.35861    1.07398  -4.989 6.22e-07 ***\n",
       "paddingrnd_padding                4.48910    1.07398   4.180 2.96e-05 ***\n",
       "paddingstrf_padding               0.41422    1.07398   0.386 0.699744    \n",
       "paddingzoom_padding               2.64270    1.07398   2.461 0.013895 *  \n",
       "enzyme_type2                     -6.21178    1.07398  -5.784 7.65e-09 ***\n",
       "enzyme_type3                     -4.60047    1.07398  -4.284 1.87e-05 ***\n",
       "enzyme_type4                     -4.22939    1.07398  -3.938 8.30e-05 ***\n",
       "enzyme_type5                      1.00987    1.07398   0.940 0.347096    \n",
       "enzyme_type6                      4.86632    1.07398   4.531 5.98e-06 ***\n",
       "enzyme_type7                      2.11325    1.07398   1.968 0.049149 *  \n",
       "paddingmid_padding:enzyme_type2   1.26976    1.51884   0.836 0.403184    \n",
       "paddingpost_padding:enzyme_type2  0.85832    1.51884   0.565 0.572016    \n",
       "paddingpre_padding:enzyme_type2  -1.35682    1.51884  -0.893 0.371717    \n",
       "paddingrnd_padding:enzyme_type2   3.08208    1.51884   2.029 0.042477 *  \n",
       "paddingstrf_padding:enzyme_type2  6.60006    1.51884   4.345 1.41e-05 ***\n",
       "paddingzoom_padding:enzyme_type2  9.08163    1.51884   5.979 2.36e-09 ***\n",
       "paddingmid_padding:enzyme_type3   1.07967    1.51884   0.711 0.477203    \n",
       "paddingpost_padding:enzyme_type3  0.72399    1.51884   0.477 0.633612    \n",
       "paddingpre_padding:enzyme_type3  -0.95547    1.51884  -0.629 0.529320    \n",
       "paddingrnd_padding:enzyme_type3   2.44915    1.51884   1.613 0.106900    \n",
       "paddingstrf_padding:enzyme_type3  5.04175    1.51884   3.319 0.000907 ***\n",
       "paddingzoom_padding:enzyme_type3  6.95893    1.51884   4.582 4.70e-06 ***\n",
       "paddingmid_padding:enzyme_type4   1.08507    1.51884   0.714 0.475002    \n",
       "paddingpost_padding:enzyme_type4  0.77173    1.51884   0.508 0.611399    \n",
       "paddingpre_padding:enzyme_type4  -0.85999    1.51884  -0.566 0.571268    \n",
       "paddingrnd_padding:enzyme_type4   2.08037    1.51884   1.370 0.170827    \n",
       "paddingstrf_padding:enzyme_type4  4.58987    1.51884   3.022 0.002522 ** \n",
       "paddingzoom_padding:enzyme_type4  5.81330    1.51884   3.827 0.000131 ***\n",
       "paddingmid_padding:enzyme_type5   0.01915    1.51884   0.013 0.989943    \n",
       "paddingpost_padding:enzyme_type5  0.08172    1.51884   0.054 0.957092    \n",
       "paddingpre_padding:enzyme_type5   0.12244    1.51884   0.081 0.935751    \n",
       "paddingrnd_padding:enzyme_type5  -0.51583    1.51884  -0.340 0.734154    \n",
       "paddingstrf_padding:enzyme_type5 -0.78905    1.51884  -0.520 0.603425    \n",
       "paddingzoom_padding:enzyme_type5 -1.53129    1.51884  -1.008 0.313398    \n",
       "paddingmid_padding:enzyme_type6  -1.03639    1.51884  -0.682 0.495039    \n",
       "paddingpost_padding:enzyme_type6 -0.77694    1.51884  -0.512 0.608996    \n",
       "paddingpre_padding:enzyme_type6   0.93447    1.51884   0.615 0.538412    \n",
       "paddingrnd_padding:enzyme_type6  -2.39684    1.51884  -1.578 0.114600    \n",
       "paddingstrf_padding:enzyme_type6 -4.95122    1.51884  -3.260 0.001121 ** \n",
       "paddingzoom_padding:enzyme_type6 -6.09611    1.51884  -4.014 6.05e-05 ***\n",
       "paddingmid_padding:enzyme_type7  -0.28624    1.51884  -0.188 0.850521    \n",
       "paddingpost_padding:enzyme_type7 -0.11036    1.51884  -0.073 0.942076    \n",
       "paddingpre_padding:enzyme_type7   0.55438    1.51884   0.365 0.715123    \n",
       "paddingrnd_padding:enzyme_type7  -1.16493    1.51884  -0.767 0.443118    \n",
       "paddingstrf_padding:enzyme_type7 -1.93118    1.51884  -1.271 0.203604    \n",
       "paddingzoom_padding:enzyme_type7 -2.98313    1.51884  -1.964 0.049565 *  \n",
       "---\n",
       "Signif. codes:  0 ‘***’ 0.001 ‘**’ 0.01 ‘*’ 0.05 ‘.’ 0.1 ‘ ’ 1\n",
       "\n",
       "Residual standard error: 8.592 on 6223 degrees of freedom\n",
       "Multiple R-squared:  0.2259,\tAdjusted R-squared:  0.2199 \n",
       "F-statistic: 37.83 on 48 and 6223 DF,  p-value: < 2.2e-16\n"
      ]
     },
     "metadata": {},
     "output_type": "display_data"
    }
   ],
   "source": [
    "summary(lm.fit)"
   ]
  },
  {
   "cell_type": "code",
   "execution_count": 13,
   "metadata": {},
   "outputs": [
    {
     "data": {
      "text/plain": [
       "\n",
       "Call:\n",
       "lm(formula = PC1 ~ padding + enzyme_type + sequence_length:padding, \n",
       "    data = pc1_task2_conv)\n",
       "\n",
       "Residuals:\n",
       "    Min      1Q  Median      3Q     Max \n",
       "-21.161  -5.038  -1.028   2.642  30.430 \n",
       "\n",
       "Coefficients:\n",
       "                                     Estimate Std. Error t value Pr(>|t|)    \n",
       "(Intercept)                         -8.818546   0.835284 -10.558  < 2e-16 ***\n",
       "paddingmid_padding                  -0.777348   0.900073  -0.864    0.388    \n",
       "paddingpost_padding                 -1.051614   0.900073  -1.168    0.243    \n",
       "paddingpre_padding                  -7.310362   0.900073  -8.122 5.48e-16 ***\n",
       "paddingrnd_padding                   9.390316   0.900073  10.433  < 2e-16 ***\n",
       "paddingstrf_padding                 10.791646   0.900073  11.990  < 2e-16 ***\n",
       "paddingzoom_padding                 16.136665   0.900073  17.928  < 2e-16 ***\n",
       "enzyme_type2                         0.078352   0.521284   0.150    0.881    \n",
       "enzyme_type3                         0.207738   0.471472   0.441    0.660    \n",
       "enzyme_type4                         0.055452   0.458456   0.121    0.904    \n",
       "enzyme_type5                         0.166219   0.401176   0.414    0.679    \n",
       "enzyme_type6                         0.111868   0.475907   0.235    0.814    \n",
       "enzyme_type7                         0.012957   0.416415   0.031    0.975    \n",
       "paddingext_padding:sequence_length   0.025548   0.002071  12.338  < 2e-16 ***\n",
       "paddingmid_padding:sequence_length   0.019986   0.002071   9.652  < 2e-16 ***\n",
       "paddingpost_padding:sequence_length  0.021804   0.002071  10.530  < 2e-16 ***\n",
       "paddingpre_padding:sequence_length   0.030634   0.002071  14.794  < 2e-16 ***\n",
       "paddingrnd_padding:sequence_length   0.012615   0.002071   6.092 1.18e-09 ***\n",
       "paddingstrf_padding:sequence_length -0.001383   0.002071  -0.668    0.504    \n",
       "paddingzoom_padding:sequence_length -0.009424   0.002071  -4.551 5.44e-06 ***\n",
       "---\n",
       "Signif. codes:  0 ‘***’ 0.001 ‘**’ 0.01 ‘*’ 0.05 ‘.’ 0.1 ‘ ’ 1\n",
       "\n",
       "Residual standard error: 8.437 on 6252 degrees of freedom\n",
       "Multiple R-squared:   0.25,\tAdjusted R-squared:  0.2477 \n",
       "F-statistic: 109.7 on 19 and 6252 DF,  p-value: < 2.2e-16\n"
      ]
     },
     "metadata": {},
     "output_type": "display_data"
    }
   ],
   "source": [
    "lm.fit.additive <- lm(PC1 ~ padding + enzyme_type + sequence_length:padding, data=pc1_task2_conv)\n",
    "summary(lm.fit.additive)"
   ]
  },
  {
   "cell_type": "code",
   "execution_count": 14,
   "metadata": {},
   "outputs": [
    {
     "data": {
      "text/html": [
       "<ol class=list-inline>\n",
       "\t<li>6272</li>\n",
       "\t<li>7</li>\n",
       "</ol>\n"
      ],
      "text/latex": [
       "\\begin{enumerate*}\n",
       "\\item 6272\n",
       "\\item 7\n",
       "\\end{enumerate*}\n"
      ],
      "text/markdown": [
       "1. 6272\n",
       "2. 7\n",
       "\n",
       "\n"
      ],
      "text/plain": [
       "[1] 6272    7"
      ]
     },
     "metadata": {},
     "output_type": "display_data"
    }
   ],
   "source": [
    "dim(pc1_task2_conv)"
   ]
  },
  {
   "cell_type": "code",
   "execution_count": null,
   "metadata": {},
   "outputs": [],
   "source": []
  }
 ],
 "metadata": {
  "kernelspec": {
   "display_name": "R",
   "language": "R",
   "name": "ir"
  },
  "language_info": {
   "codemirror_mode": "r",
   "file_extension": ".r",
   "mimetype": "text/x-r-source",
   "name": "R",
   "pygments_lexer": "r",
   "version": "3.4.4"
  }
 },
 "nbformat": 4,
 "nbformat_minor": 2
}
