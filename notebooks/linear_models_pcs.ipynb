{
 "cells": [
  {
   "cell_type": "code",
   "execution_count": 2,
   "metadata": {},
   "outputs": [],
   "source": [
    "absPath = '/home/angela/padding_EBI/'"
   ]
  },
  {
   "cell_type": "markdown",
   "metadata": {},
   "source": [
    "## Task 2, 1Conv 64 filters size=5"
   ]
  },
  {
   "cell_type": "code",
   "execution_count": 3,
   "metadata": {},
   "outputs": [],
   "source": [
    "task <- \"task2/\""
   ]
  },
  {
   "cell_type": "code",
   "execution_count": 4,
   "metadata": {},
   "outputs": [],
   "source": [
    "filename <- \"pca_1fold.csv\"\n",
    "file_path <- paste0(absPath, \"data/results/\", task, filename)"
   ]
  },
  {
   "cell_type": "code",
   "execution_count": 7,
   "metadata": {},
   "outputs": [],
   "source": [
    "pc1_task2_conv <- read.csv(file=file_path, header=TRUE, sep=\",\")"
   ]
  },
  {
   "cell_type": "code",
   "execution_count": 15,
   "metadata": {},
   "outputs": [
    {
     "data": {
      "text/html": [
       "<table>\n",
       "<caption>A data.frame: 5 x 8</caption>\n",
       "<thead>\n",
       "\t<tr><th scope=col>X</th><th scope=col>PC1</th><th scope=col>PC2</th><th scope=col>padding</th><th scope=col>order</th><th scope=col>fold</th><th scope=col>enzyme_type</th><th scope=col>sequence_length</th></tr>\n",
       "\t<tr><th scope=col>&lt;int&gt;</th><th scope=col>&lt;dbl&gt;</th><th scope=col>&lt;dbl&gt;</th><th scope=col>&lt;fct&gt;</th><th scope=col>&lt;int&gt;</th><th scope=col>&lt;int&gt;</th><th scope=col>&lt;int&gt;</th><th scope=col>&lt;int&gt;</th></tr>\n",
       "</thead>\n",
       "<tbody>\n",
       "\t<tr><td>0</td><td>-12.17526</td><td>-5.0735850</td><td>ext_padding</td><td>0</td><td>5</td><td>1</td><td>335</td></tr>\n",
       "\t<tr><td>1</td><td>-12.34445</td><td>-7.3674784</td><td>ext_padding</td><td>1</td><td>5</td><td>1</td><td>335</td></tr>\n",
       "\t<tr><td>2</td><td>-12.36046</td><td>-4.9340305</td><td>ext_padding</td><td>2</td><td>5</td><td>1</td><td>335</td></tr>\n",
       "\t<tr><td>3</td><td>-12.31320</td><td>-0.1741115</td><td>ext_padding</td><td>3</td><td>5</td><td>1</td><td>335</td></tr>\n",
       "\t<tr><td>4</td><td>-12.40351</td><td> 4.7684560</td><td>ext_padding</td><td>4</td><td>5</td><td>1</td><td>335</td></tr>\n",
       "</tbody>\n",
       "</table>\n"
      ],
      "text/latex": [
       "A data.frame: 5 x 8\n",
       "\\begin{tabular}{r|llllllll}\n",
       " X & PC1 & PC2 & padding & order & fold & enzyme\\_type & sequence\\_length\\\\\n",
       " <int> & <dbl> & <dbl> & <fct> & <int> & <int> & <int> & <int>\\\\\n",
       "\\hline\n",
       "\t 0 & -12.17526 & -5.0735850 & ext\\_padding & 0 & 5 & 1 & 335\\\\\n",
       "\t 1 & -12.34445 & -7.3674784 & ext\\_padding & 1 & 5 & 1 & 335\\\\\n",
       "\t 2 & -12.36046 & -4.9340305 & ext\\_padding & 2 & 5 & 1 & 335\\\\\n",
       "\t 3 & -12.31320 & -0.1741115 & ext\\_padding & 3 & 5 & 1 & 335\\\\\n",
       "\t 4 & -12.40351 &  4.7684560 & ext\\_padding & 4 & 5 & 1 & 335\\\\\n",
       "\\end{tabular}\n"
      ],
      "text/markdown": [
       "\n",
       "A data.frame: 5 x 8\n",
       "\n",
       "| X &lt;int&gt; | PC1 &lt;dbl&gt; | PC2 &lt;dbl&gt; | padding &lt;fct&gt; | order &lt;int&gt; | fold &lt;int&gt; | enzyme_type &lt;int&gt; | sequence_length &lt;int&gt; |\n",
       "|---|---|---|---|---|---|---|---|\n",
       "| 0 | -12.17526 | -5.0735850 | ext_padding | 0 | 5 | 1 | 335 |\n",
       "| 1 | -12.34445 | -7.3674784 | ext_padding | 1 | 5 | 1 | 335 |\n",
       "| 2 | -12.36046 | -4.9340305 | ext_padding | 2 | 5 | 1 | 335 |\n",
       "| 3 | -12.31320 | -0.1741115 | ext_padding | 3 | 5 | 1 | 335 |\n",
       "| 4 | -12.40351 |  4.7684560 | ext_padding | 4 | 5 | 1 | 335 |\n",
       "\n"
      ],
      "text/plain": [
       "  X PC1       PC2        padding     order fold enzyme_type sequence_length\n",
       "1 0 -12.17526 -5.0735850 ext_padding 0     5    1           335            \n",
       "2 1 -12.34445 -7.3674784 ext_padding 1     5    1           335            \n",
       "3 2 -12.36046 -4.9340305 ext_padding 2     5    1           335            \n",
       "4 3 -12.31320 -0.1741115 ext_padding 3     5    1           335            \n",
       "5 4 -12.40351  4.7684560 ext_padding 4     5    1           335            "
      ]
     },
     "metadata": {},
     "output_type": "display_data"
    }
   ],
   "source": [
    "pc1_task2_conv[0:5,]"
   ]
  },
  {
   "cell_type": "code",
   "execution_count": 16,
   "metadata": {},
   "outputs": [],
   "source": [
    "pc1_task2_conv$X <- NULL"
   ]
  },
  {
   "cell_type": "code",
   "execution_count": 17,
   "metadata": {},
   "outputs": [
    {
     "data": {
      "text/html": [
       "<ol class=list-inline>\n",
       "\t<li>'PC1'</li>\n",
       "\t<li>'PC2'</li>\n",
       "\t<li>'padding'</li>\n",
       "\t<li>'order'</li>\n",
       "\t<li>'fold'</li>\n",
       "\t<li>'enzyme_type'</li>\n",
       "\t<li>'sequence_length'</li>\n",
       "</ol>\n"
      ],
      "text/latex": [
       "\\begin{enumerate*}\n",
       "\\item 'PC1'\n",
       "\\item 'PC2'\n",
       "\\item 'padding'\n",
       "\\item 'order'\n",
       "\\item 'fold'\n",
       "\\item 'enzyme\\_type'\n",
       "\\item 'sequence\\_length'\n",
       "\\end{enumerate*}\n"
      ],
      "text/markdown": [
       "1. 'PC1'\n",
       "2. 'PC2'\n",
       "3. 'padding'\n",
       "4. 'order'\n",
       "5. 'fold'\n",
       "6. 'enzyme_type'\n",
       "7. 'sequence_length'\n",
       "\n",
       "\n"
      ],
      "text/plain": [
       "[1] \"PC1\"             \"PC2\"             \"padding\"         \"order\"          \n",
       "[5] \"fold\"            \"enzyme_type\"     \"sequence_length\""
      ]
     },
     "metadata": {},
     "output_type": "display_data"
    }
   ],
   "source": [
    "colnames(pc1_task2_conv)"
   ]
  },
  {
   "cell_type": "code",
   "execution_count": 20,
   "metadata": {},
   "outputs": [
    {
     "data": {
      "text/html": [
       "<dl class=dl-horizontal>\n",
       "\t<dt>PC1</dt>\n",
       "\t\t<dd>'numeric'</dd>\n",
       "\t<dt>PC2</dt>\n",
       "\t\t<dd>'numeric'</dd>\n",
       "\t<dt>padding</dt>\n",
       "\t\t<dd>'factor'</dd>\n",
       "\t<dt>order</dt>\n",
       "\t\t<dd>'factor'</dd>\n",
       "\t<dt>fold</dt>\n",
       "\t\t<dd>'factor'</dd>\n",
       "\t<dt>enzyme_type</dt>\n",
       "\t\t<dd>'factor'</dd>\n",
       "\t<dt>sequence_length</dt>\n",
       "\t\t<dd>'integer'</dd>\n",
       "</dl>\n"
      ],
      "text/latex": [
       "\\begin{description*}\n",
       "\\item[PC1] 'numeric'\n",
       "\\item[PC2] 'numeric'\n",
       "\\item[padding] 'factor'\n",
       "\\item[order] 'factor'\n",
       "\\item[fold] 'factor'\n",
       "\\item[enzyme\\textbackslash{}\\_type] 'factor'\n",
       "\\item[sequence\\textbackslash{}\\_length] 'integer'\n",
       "\\end{description*}\n"
      ],
      "text/markdown": [
       "PC1\n",
       ":   'numeric'PC2\n",
       ":   'numeric'padding\n",
       ":   'factor'order\n",
       ":   'factor'fold\n",
       ":   'factor'enzyme_type\n",
       ":   'factor'sequence_length\n",
       ":   'integer'\n",
       "\n"
      ],
      "text/plain": [
       "            PC1             PC2         padding           order            fold \n",
       "      \"numeric\"       \"numeric\"        \"factor\"        \"factor\"        \"factor\" \n",
       "    enzyme_type sequence_length \n",
       "       \"factor\"       \"integer\" "
      ]
     },
     "metadata": {},
     "output_type": "display_data"
    }
   ],
   "source": [
    "sapply(pc1_task2_conv, class)"
   ]
  },
  {
   "cell_type": "code",
   "execution_count": 18,
   "metadata": {},
   "outputs": [],
   "source": [
    "# converting each column to the corresponding type\n",
    "cols <- c(\"padding\", \"order\", \"fold\", \"enzyme_type\")"
   ]
  },
  {
   "cell_type": "code",
   "execution_count": 19,
   "metadata": {},
   "outputs": [],
   "source": [
    "pc1_task2_conv[cols] <- lapply(pc1_task2_conv[cols], factor)"
   ]
  },
  {
   "cell_type": "code",
   "execution_count": 21,
   "metadata": {},
   "outputs": [],
   "source": [
    "lm.fit <- lm(PC1 ~ padding * enzyme_type, data=pc1_task2_conv)"
   ]
  },
  {
   "cell_type": "code",
   "execution_count": 22,
   "metadata": {},
   "outputs": [
    {
     "data": {
      "text/plain": [
       "\n",
       "Call:\n",
       "lm(formula = PC1 ~ padding * enzyme_type, data = pc1_task2_conv)\n",
       "\n",
       "Residuals:\n",
       "    Min      1Q  Median      3Q     Max \n",
       "-16.282  -5.947  -1.901   4.847  31.003 \n",
       "\n",
       "Coefficients:\n",
       "                                  Estimate Std. Error t value Pr(>|t|)    \n",
       "(Intercept)                      -1.695094   0.894431  -1.895 0.058117 .  \n",
       "paddingmid_padding               -0.027650   1.264916  -0.022 0.982561    \n",
       "paddingpost_padding              -0.004050   1.264916  -0.003 0.997446    \n",
       "paddingpre_padding               -0.010619   1.264916  -0.008 0.993302    \n",
       "paddingrnd_padding               -0.625928   1.264916  -0.495 0.620732    \n",
       "paddingstrf_padding              -1.038101   1.264916  -0.821 0.411856    \n",
       "paddingzoom_padding              18.592369   1.264916  14.698  < 2e-16 ***\n",
       "enzyme_type2                     -6.791167   1.264916  -5.369 8.21e-08 ***\n",
       "enzyme_type3                     -5.031218   1.264916  -3.978 7.04e-05 ***\n",
       "enzyme_type4                     -4.673906   1.264916  -3.695 0.000222 ***\n",
       "enzyme_type5                      1.472161   1.264916   1.164 0.244533    \n",
       "enzyme_type6                      5.509860   1.264916   4.356 1.35e-05 ***\n",
       "enzyme_type7                      2.598720   1.264916   2.054 0.039973 *  \n",
       "paddingmid_padding:enzyme_type2   0.002018   1.788862   0.001 0.999100    \n",
       "paddingpost_padding:enzyme_type2 -0.001085   1.788862  -0.001 0.999516    \n",
       "paddingpre_padding:enzyme_type2   0.006124   1.788862   0.003 0.997268    \n",
       "paddingrnd_padding:enzyme_type2   0.318990   1.788862   0.178 0.858477    \n",
       "paddingstrf_padding:enzyme_type2  0.328668   1.788862   0.184 0.854231    \n",
       "paddingzoom_padding:enzyme_type2  8.944000   1.788862   5.000 5.90e-07 ***\n",
       "paddingmid_padding:enzyme_type3  -0.007939   1.788862  -0.004 0.996459    \n",
       "paddingpost_padding:enzyme_type3 -0.003191   1.788862  -0.002 0.998577    \n",
       "paddingpre_padding:enzyme_type3  -0.001816   1.788862  -0.001 0.999190    \n",
       "paddingrnd_padding:enzyme_type3   0.165243   1.788862   0.092 0.926405    \n",
       "paddingstrf_padding:enzyme_type3  0.042416   1.788862   0.024 0.981084    \n",
       "paddingzoom_padding:enzyme_type3  6.577795   1.788862   3.677 0.000238 ***\n",
       "paddingmid_padding:enzyme_type4  -0.001197   1.788862  -0.001 0.999466    \n",
       "paddingpost_padding:enzyme_type4  0.001514   1.788862   0.001 0.999325    \n",
       "paddingpre_padding:enzyme_type4  -0.001784   1.788862  -0.001 0.999204    \n",
       "paddingrnd_padding:enzyme_type4   0.167434   1.788862   0.094 0.925431    \n",
       "paddingstrf_padding:enzyme_type4  0.187734   1.788862   0.105 0.916422    \n",
       "paddingzoom_padding:enzyme_type4  5.744902   1.788862   3.211 0.001327 ** \n",
       "paddingmid_padding:enzyme_type5   0.007529   1.788862   0.004 0.996642    \n",
       "paddingpost_padding:enzyme_type5  0.002863   1.788862   0.002 0.998723    \n",
       "paddingpre_padding:enzyme_type5   0.009401   1.788862   0.005 0.995807    \n",
       "paddingrnd_padding:enzyme_type5  -0.188316   1.788862  -0.105 0.916164    \n",
       "paddingstrf_padding:enzyme_type5 -0.236205   1.788862  -0.132 0.894955    \n",
       "paddingzoom_padding:enzyme_type5 -0.247779   1.788862  -0.139 0.889840    \n",
       "paddingmid_padding:enzyme_type6   0.004196   1.788862   0.002 0.998129    \n",
       "paddingpost_padding:enzyme_type6  0.001991   1.788862   0.001 0.999112    \n",
       "paddingpre_padding:enzyme_type6  -0.001082   1.788862  -0.001 0.999517    \n",
       "paddingrnd_padding:enzyme_type6  -0.078506   1.788862  -0.044 0.964997    \n",
       "paddingstrf_padding:enzyme_type6  0.126081   1.788862   0.070 0.943813    \n",
       "paddingzoom_padding:enzyme_type6 -5.818294   1.788862  -3.253 0.001150 ** \n",
       "paddingmid_padding:enzyme_type7  -0.002503   1.788862  -0.001 0.998884    \n",
       "paddingpost_padding:enzyme_type7 -0.004217   1.788862  -0.002 0.998119    \n",
       "paddingpre_padding:enzyme_type7  -0.010375   1.788862  -0.006 0.995373    \n",
       "paddingrnd_padding:enzyme_type7  -0.110185   1.788862  -0.062 0.950888    \n",
       "paddingstrf_padding:enzyme_type7  0.018741   1.788862   0.010 0.991642    \n",
       "paddingzoom_padding:enzyme_type7 -2.676575   1.788862  -1.496 0.134641    \n",
       "---\n",
       "Signif. codes:  0 ‘***’ 0.001 ‘**’ 0.01 ‘*’ 0.05 ‘.’ 0.1 ‘ ’ 1\n",
       "\n",
       "Residual standard error: 10.12 on 6223 degrees of freedom\n",
       "Multiple R-squared:  0.3994,\tAdjusted R-squared:  0.3947 \n",
       "F-statistic:  86.2 on 48 and 6223 DF,  p-value: < 2.2e-16\n"
      ]
     },
     "metadata": {},
     "output_type": "display_data"
    }
   ],
   "source": [
    "summary(lm.fit)"
   ]
  },
  {
   "cell_type": "code",
   "execution_count": 23,
   "metadata": {},
   "outputs": [
    {
     "data": {
      "text/plain": [
       "\n",
       "Call:\n",
       "lm(formula = PC1 ~ padding + enzyme_type, data = pc1_task2_conv)\n",
       "\n",
       "Residuals:\n",
       "    Min      1Q  Median      3Q     Max \n",
       "-15.187  -6.560  -2.586   5.878  29.903 \n",
       "\n",
       "Coefficients:\n",
       "                     Estimate Std. Error t value Pr(>|t|)    \n",
       "(Intercept)         -1.965841   0.466152  -4.217 2.51e-05 ***\n",
       "paddingmid_padding  -0.027350   0.483749  -0.057  0.95492    \n",
       "paddingpost_padding -0.004353   0.483749  -0.009  0.99282    \n",
       "paddingpre_padding  -0.010552   0.483749  -0.022  0.98260    \n",
       "paddingrnd_padding  -0.586691   0.483749  -1.213  0.22525    \n",
       "paddingstrf_padding -0.971324   0.483749  -2.008  0.04470 *  \n",
       "paddingzoom_padding 20.381519   0.483749  42.132  < 2e-16 ***\n",
       "enzyme_type2        -5.419922   0.483749 -11.204  < 2e-16 ***\n",
       "enzyme_type3        -4.063717   0.483749  -8.400  < 2e-16 ***\n",
       "enzyme_type4        -3.802677   0.483749  -7.861 4.46e-15 ***\n",
       "enzyme_type5         1.378945   0.483749   2.851  0.00438 ** \n",
       "enzyme_type6         4.686200   0.483749   9.687  < 2e-16 ***\n",
       "enzyme_type7         2.200847   0.483749   4.550 5.48e-06 ***\n",
       "---\n",
       "Signif. codes:  0 ‘***’ 0.001 ‘**’ 0.01 ‘*’ 0.05 ‘.’ 0.1 ‘ ’ 1\n",
       "\n",
       "Residual standard error: 10.24 on 6259 degrees of freedom\n",
       "Multiple R-squared:  0.3815,\tAdjusted R-squared:  0.3803 \n",
       "F-statistic: 321.7 on 12 and 6259 DF,  p-value: < 2.2e-16\n"
      ]
     },
     "metadata": {},
     "output_type": "display_data"
    }
   ],
   "source": [
    "lm.fit.additive <- lm(PC1 ~ padding + enzyme_type, data=pc1_task2_conv)\n",
    "summary(lm.fit.additive)"
   ]
  },
  {
   "cell_type": "code",
   "execution_count": 28,
   "metadata": {},
   "outputs": [
    {
     "data": {
      "text/html": [
       "<ol class=list-inline>\n",
       "\t<li>6272</li>\n",
       "\t<li>7</li>\n",
       "</ol>\n"
      ],
      "text/latex": [
       "\\begin{enumerate*}\n",
       "\\item 6272\n",
       "\\item 7\n",
       "\\end{enumerate*}\n"
      ],
      "text/markdown": [
       "1. 6272\n",
       "2. 7\n",
       "\n",
       "\n"
      ],
      "text/plain": [
       "[1] 6272    7"
      ]
     },
     "metadata": {},
     "output_type": "display_data"
    }
   ],
   "source": [
    "dim(pc1_task2_conv)"
   ]
  },
  {
   "cell_type": "code",
   "execution_count": null,
   "metadata": {},
   "outputs": [],
   "source": []
  }
 ],
 "metadata": {
  "kernelspec": {
   "display_name": "R",
   "language": "R",
   "name": "ir"
  },
  "language_info": {
   "codemirror_mode": "r",
   "file_extension": ".r",
   "mimetype": "text/x-r-source",
   "name": "R",
   "pygments_lexer": "r",
   "version": "3.4.4"
  }
 },
 "nbformat": 4,
 "nbformat_minor": 2
}
