{
 "cells": [
  {
   "cell_type": "code",
   "execution_count": 1,
   "metadata": {},
   "outputs": [
    {
     "name": "stderr",
     "output_type": "stream",
     "text": [
      "Using TensorFlow backend.\n"
     ]
    }
   ],
   "source": [
    "from __future__ import division, absolute_import\n",
    "\n",
    "import os\n",
    "import sys\n",
    "import random\n",
    "\n",
    "import numpy as np\n",
    "import datetime\n",
    "\n",
    "#root\n",
    "absPath = '/home/angela/padding_EBI/'\n",
    "sys.path.insert(0, absPath)\n",
    "\n",
    "#from src.Target import Target\n",
    "\n",
    "np.random.seed(8)\n",
    "random.seed(8)\n",
    "\n",
    "from src.preprocessing import *\n",
    "from src.model_architecture import *\n",
    "from src.training_model import *\n",
    "from src.postprocessing import *\n",
    "from src.comparing_results import *\n",
    "#from src.callbacks import *\n",
    "%matplotlib inline"
   ]
  },
  {
   "cell_type": "code",
   "execution_count": 2,
   "metadata": {},
   "outputs": [],
   "source": [
    "max_lenn = 1000\n",
    "column = \"EC number\"\n",
    "folder = 'EC_number/archaea/3denses/bio_neurons/'"
   ]
  },
  {
   "cell_type": "code",
   "execution_count": 3,
   "metadata": {},
   "outputs": [
    {
     "name": "stderr",
     "output_type": "stream",
     "text": [
      "/home/angela/padding_EBI/src/preprocessing.py:35: FutureWarning: read_table is deprecated, use read_csv instead.\n",
      "  df = pd.read_table(file_in,compression='gzip',sep='\\t')\n"
     ]
    },
    {
     "name": "stdout",
     "output_type": "stream",
     "text": [
      "0        MIIGYFDGLCEPKNPGGIATFGFVIYLDNRKIEGYGLAEKPFSINS...\n",
      "1        MIIEGEVVSGLGEGRYFLSLPPYKEIFKKILGFEPYEGTLNLKLDR...\n",
      "2        MNINEILKKLINKSDLEINEAEELAKAIIRGEVPEILVSAILVALR...\n",
      "3        MVVPLKRIDKIRWEIPKFDKRMRVPGRVYADEVLLEKMKNDRTLEQ...\n",
      "4        MERAFIEWYPRGYGVAFKIKKKIYEKLSKYQKIEVYETEGFGRLLA...\n",
      "5        MMMGVELAFPKVVGKQVYGSLYECDEDVLKDTKRLEQIIKEAADIG...\n",
      "6        MPRLIKDRVPTPERSVGERVRDFGEVNLGYSWELALREAERCLQCP...\n",
      "7        MGYNEQERAFIEWYPRGYGVGFKVKRRLFETQTEYQRLEIYETEGF...\n",
      "8        MVDIVKRRDWEKKEKKKIAIERIDTLFTLAERVARYSPDLAKRYVE...\n",
      "9        MNVEEMKKIAAKEALKFIEDDMVIGLGTGSTTAYFIKLLGEKLKRG...\n",
      "10       MKKRVVTAGTFDILHPGHYEILKFAKSLGDELIVIVARDETVKKLK...\n",
      "11       MNNVEKAIEALKKGEIILVYDSDEREGETDMVVASQFITPEHIRIM...\n",
      "12       MVMVMEKKPYIISNVGMTLDGKLATINNDSRISCEEDLIRVHKIRA...\n",
      "13       MAVVKEVLEIAEKIKNMEIRGAGKIARSAAYALQLQAEKSKATNVD...\n",
      "14       MRLSWVIGGAQGTGIDTAANIFGNAVASAGYYIYGNREYYSNIKGG...\n",
      "15       MAAFTPQWNDWCPGCGNFGILNAEQQAIVELGVDTKNVVVVSGIGC...\n",
      "16       MVEKFDTIYDYYVDKGYEPSKKRDIIAVFRVTPAEGYTIEQAAGAV...\n",
      "17       MAEKFESRGIEEASSEVPTQRRCGAMEVHHRLLRSASYVRERDQIE...\n",
      "18       MIEEEVLKIIKPTEEDKKGIEKVLEIIRERLNKLDFEVEGSFRKGT...\n",
      "19       MDERDALRISREIAGEVRKAIASMPLRERVKDVGMGKDGTPTKAAD...\n",
      "20       MKWDEIGKNIAKEIEKEILPYFGRKDKSYVVGTSPSGDETEIFDKI...\n",
      "21       MTERRHDREFVRTFFTSPTAVEGEDDSAKMLRRAAGLRGMQAPDVW...\n",
      "22       MSKLTTGSFSIEDLESVQITINNIVGAAKEAAEEKAKELVNAGPTL...\n",
      "23       MSLEALFNPKSVAVIGASAKPGKIGYAIMKNLIEYGYEGKIYPVNI...\n",
      "24       MKTPPVLKRRREGVTDYRKRYRLVISRETRAVIRQTRKGLIIQLVD...\n",
      "25       MDLEYQKKLAAKVAGVGLDRVRINPEKIDLVSEAVTRADIRRLIRS...\n",
      "26       MSKLLTESDSLKVIRRILEGSPKRRFNEAVDLVVVLRGIDLKRDPN...\n",
      "27       MAFDRQKLVEAVKEAKARAKPRNFTQTVEMAVNLKDVDLRKPENRF...\n",
      "28       MVSVDQVKKAREGKKRRFTQTFELIFNLKNVDLRKYRLSTYIVLPR...\n",
      "29       MVQKPHSFRRKTRKKLRKHPRRRGLPPLTRFLQEFEVGQKVHIVIE...\n",
      "                               ...                        \n",
      "19355    MGTETATLGGGCFWCTEAAMEELAGVTDVTSGYAGGDTADPSYRDV...\n",
      "19356    MEDVCYLAGGCFWCMEAVFKDIYGINDVQPGYAGGTTVNPTYEEVC...\n",
      "19357    MERATFAAGCFWGVEAAFSKVEGVISTKVGYTGGTLKDPTYKDVST...\n",
      "19358    MANTETAVFGMGCFWSAEELFRHVDGVISTEVGYMGGNVKNPTYGQ...\n",
      "19359    MKDRIPIFSVAKNRVEMVERIELSDDEWREILDPEAFRVARKAGTE...\n",
      "19360    MTEATGIVGEFLTLKEGTDADLLAMQCGDFYEFFAEDAEIVADELD...\n",
      "19361    MPRLVLASAPAKIILFGEHSVVYGKPAIASAIDLRTYVRAEFNDSG...\n",
      "19362    MTITQMISEILMHNTVYNYILSLISIILFIVIGKYANALIERLADK...\n",
      "19363    MNMEIFGNSISNILIFVVITLLGIFIGKIVDKIVRNYLKKIIDKTK...\n",
      "19364    MGIAFFAGGCFWGIEAGFQKVPGVINTKVGYMGGHTIEPTYQEVCS...\n",
      "19365    MTNTETAVFGMGCFWSAEELFRKIKGVISTEVGFMGGTVKNPTYGQ...\n",
      "19366    MIIETPSKVILFGEHAVVYGYRAISMAIDLTSTIEIKETQEDEIIL...\n",
      "19367    MRVLASAPAKIILFGEHSVVYGKPAIAAAINLRTYVWAEFNERGAI...\n",
      "19368    MMFVHIADNHLGYRQYNLDDREKDIYDSFKLCIKKILEIKPDVVLH...\n",
      "19369    MKFAHLADVHLGYEQFNKPQRAEEFANTFKKALEMCVKESVDFIII...\n",
      "19370    MEVATLGGGCFWCTEAVYKRVKGVISVKPGYSGGHVPNPTYEDVCT...\n",
      "19371    MVKLTMEPVTRIEGHAKITVHLDDAGNVEDTRLHVMEFRGFEKFLQ...\n",
      "19372    MAQNKIEKSEEDWKSVLTPEQYHVLRQKGTERPFSGNLYYNKEKGI...\n",
      "19373    MNVIDLFSGCGGFSKGFLDENFRILGAIENFKPVVKTYLYNIKAPV...\n",
      "19374    MATEYALRMGDGKRVFLAREKIMEEIEAGTANAADLGEIPALSADE...\n",
      "19375    EECEREKPPEGLAMDFIKRQFEIGEPEKDLCLIAQGLVCMGPATTS...\n",
      "19376    MIAFISDLHLGNIYANKKETEEHSYNALAKIEEKLLEYQPDLVLVG...\n",
      "19377    MIGVDMKLETLVNNGPAVIFLCRAETGWPVETVTANIVRFGYSPKD...\n",
      "19378    KLAEILMMPGKTVSVEQGMEIPVTHDIGTIRLDGDQGNSGVGIPSS...\n",
      "19379    MGIVDEFQALKAETDADLLAMQVGDFYEFFAADARTVASVLDLQVS...\n",
      "19380    MDAALGPPDAMAASEGDLTPMMSQYFELTRRYDDALVLFQVGDFYE...\n",
      "19381    MTTDTDTDVDAGTDLEPQPEGPPEKMLTRRTELTPMLSQYLDCCEA...\n",
      "19382    MATEYALRMGDGKRVFLTKEKIMAEIEAGTANAADLGDIPALNDNE...\n",
      "19383    MTKMMTPAMCQYYEAKQAYPDTLIFFRMGDFYESFGEDAKTIAKEL...\n",
      "19384    MGIVDEFQALKAETDADLLAMQVGDFYEFFAADARTVASVLDLQVS...\n",
      "Name: target, Length: 19385, dtype: object\n",
      "0        0000000000000000000000000000000000000000000000...\n",
      "1        0000000000000000000000000000000000000000000000...\n",
      "2        0000000000000000000000000000000000000000000000...\n",
      "3        0000000000000000000000000000000000000000000000...\n",
      "4        0000000000000000000000000000000000000000000000...\n",
      "5        0000000000000000000000000000000000000000000000...\n",
      "6        0000000000000000000000000000000000000000000000...\n",
      "7        0000000000000000000000000000000000000000000000...\n",
      "8        0000000000000000000000000000000000000000000000...\n",
      "9        0000000000000000000000000000000000000000000000...\n",
      "10       0000000000000000000000000000000000000000000000...\n",
      "11       0000000000000000000000000000000000000000000000...\n",
      "12       0000000000000000000000000000000000000000000000...\n",
      "13       0000000000000000000000000000000000000000000000...\n",
      "14       0000000000000000000000000000000000000000000000...\n",
      "15       0000000000000000000000000000000000000000000000...\n",
      "16       0000000000000000000000000000000000000000000000...\n",
      "17       0000000000000000000000000000000000000000000000...\n",
      "18       0000000000000000000000000000000000000000000000...\n",
      "19       0000000000000000000000000000000000000000000000...\n",
      "20       0000000000000000000000000000000000000000000000...\n",
      "21       0000000000000000000000000000000000000000000000...\n",
      "22       0000000000000000000000000000000000000000000000...\n",
      "23       0000000000000000000000000000000000000000000000...\n",
      "24       0000000000000000000000000000000000000000000000...\n",
      "25       0000000000000000000000000000000000000000000000...\n",
      "26       0000000000000000000000000000000000000000000000...\n",
      "27       0000000000000000000000000000000000000000000000...\n",
      "28       0000000000000000000000000000000000000000000000...\n",
      "29       0000000000000000000000000000000000000000000000...\n",
      "                               ...                        \n",
      "19355    0000000000000000000000000000000000000000000000...\n",
      "19356    0000000000000000000000000000000000000000000000...\n",
      "19357    0000000000000000000000000000000000000000000000...\n",
      "19358    0000000000000000000000000000000000000000000000...\n",
      "19359    0000000000000000000000000000000000000000000000...\n",
      "19360    0000000000000000000000000000000000000000000000...\n",
      "19361    0000000000000000000000000000000000000000000000...\n",
      "19362    0000000000000000000000000000000000000000000000...\n",
      "19363    0000000000000000000000000000000000000000000000...\n",
      "19364    0000000000000000000000000000000000000000000000...\n",
      "19365    0000000000000000000000000000000000000000000000...\n",
      "19366    0000000000000000000000000000000000000000000000...\n",
      "19367    0000000000000000000000000000000000000000000000...\n",
      "19368    0000000000000000000000000000000000000000000000...\n",
      "19369    0000000000000000000000000000000000000000000000...\n",
      "19370    0000000000000000000000000000000000000000000000...\n",
      "19371    0000000000000000000000000000000000000000000000...\n",
      "19372    0000000000000000000000000000000000000000000000...\n",
      "19373    0000000000000000000000000000000000000000000000...\n",
      "19374    0000000000000000000000000000000000000000000000...\n",
      "19375    0000000000000000000000000000000000000000000000...\n",
      "19376    0000000000000000000000000000000000000000000000...\n",
      "19377    00MIGVDMKLETLVNNGPAVIFLCRAETGWPVETVTANIVRFGYSP...\n",
      "19378    0000000000000000000000000000000000000000000000...\n",
      "19379    0000000000000000000000000000000000000000000000...\n",
      "19380    0000000000000000000000000000000000000000000000...\n",
      "19381    0000000000000000000000000000000000000000000000...\n",
      "19382    0000000000000000000000000000000000000000000000...\n",
      "19383    0000000000000000000000000000000000000000000000...\n",
      "19384    0000000000000000000000000000000000000000000000...\n",
      "Name: target, Length: 19385, dtype: object\n",
      "0        MIIGYFDGLCEPKNPGGIATFGFVIYLDNRKIEGYGLAEKPFSINS...\n",
      "1        MIIEGEVVSGLGEGRYFLSLPPYKEIFKKILGFEPYEGTLNLKLDR...\n",
      "2        MNINEILKKLINKSDLEINEAEELAKAIIRGEVPEILVSAILVALR...\n",
      "3        MVVPLKRIDKIRWEIPKFDKRMRVPGRVYADEVLLEKMKNDRTLEQ...\n",
      "4        MERAFIEWYPRGYGVAFKIKKKIYEKLSKYQKIEVYETEGFGRLLA...\n",
      "5        MMMGVELAFPKVVGKQVYGSLYECDEDVLKDTKRLEQIIKEAADIG...\n",
      "6        MPRLIKDRVPTPERSVGERVRDFGEVNLGYSWELALREAERCLQCP...\n",
      "7        MGYNEQERAFIEWYPRGYGVGFKVKRRLFETQTEYQRLEIYETEGF...\n",
      "8        MVDIVKRRDWEKKEKKKIAIERIDTLFTLAERVARYSPDLAKRYVE...\n",
      "9        MNVEEMKKIAAKEALKFIEDDMVIGLGTGSTTAYFIKLLGEKLKRG...\n",
      "10       MKKRVVTAGTFDILHPGHYEILKFAKSLGDELIVIVARDETVKKLK...\n",
      "11       MNNVEKAIEALKKGEIILVYDSDEREGETDMVVASQFITPEHIRIM...\n",
      "12       MVMVMEKKPYIISNVGMTLDGKLATINNDSRISCEEDLIRVHKIRA...\n",
      "13       MAVVKEVLEIAEKIKNMEIRGAGKIARSAAYALQLQAEKSKATNVD...\n",
      "14       MRLSWVIGGAQGTGIDTAANIFGNAVASAGYYIYGNREYYSNIKGG...\n",
      "15       MAAFTPQWNDWCPGCGNFGILNAEQQAIVELGVDTKNVVVVSGIGC...\n",
      "16       MVEKFDTIYDYYVDKGYEPSKKRDIIAVFRVTPAEGYTIEQAAGAV...\n",
      "17       MAEKFESRGIEEASSEVPTQRRCGAMEVHHRLLRSASYVRERDQIE...\n",
      "18       MIEEEVLKIIKPTEEDKKGIEKVLEIIRERLNKLDFEVEGSFRKGT...\n",
      "19       MDERDALRISREIAGEVRKAIASMPLRERVKDVGMGKDGTPTKAAD...\n",
      "20       MKWDEIGKNIAKEIEKEILPYFGRKDKSYVVGTSPSGDETEIFDKI...\n",
      "21       MTERRHDREFVRTFFTSPTAVEGEDDSAKMLRRAAGLRGMQAPDVW...\n",
      "22       MSKLTTGSFSIEDLESVQITINNIVGAAKEAAEEKAKELVNAGPTL...\n",
      "23       MSLEALFNPKSVAVIGASAKPGKIGYAIMKNLIEYGYEGKIYPVNI...\n",
      "24       MKTPPVLKRRREGVTDYRKRYRLVISRETRAVIRQTRKGLIIQLVD...\n",
      "25       MDLEYQKKLAAKVAGVGLDRVRINPEKIDLVSEAVTRADIRRLIRS...\n",
      "26       MSKLLTESDSLKVIRRILEGSPKRRFNEAVDLVVVLRGIDLKRDPN...\n",
      "27       MAFDRQKLVEAVKEAKARAKPRNFTQTVEMAVNLKDVDLRKPENRF...\n",
      "28       MVSVDQVKKAREGKKRRFTQTFELIFNLKNVDLRKYRLSTYIVLPR...\n",
      "29       MVQKPHSFRRKTRKKLRKHPRRRGLPPLTRFLQEFEVGQKVHIVIE...\n",
      "                               ...                        \n",
      "19355    MGTETATLGGGCFWCTEAAMEELAGVTDVTSGYAGGDTADPSYRDV...\n",
      "19356    MEDVCYLAGGCFWCMEAVFKDIYGINDVQPGYAGGTTVNPTYEEVC...\n",
      "19357    MERATFAAGCFWGVEAAFSKVEGVISTKVGYTGGTLKDPTYKDVST...\n",
      "19358    MANTETAVFGMGCFWSAEELFRHVDGVISTEVGYMGGNVKNPTYGQ...\n",
      "19359    MKDRIPIFSVAKNRVEMVERIELSDDEWREILDPEAFRVARKAGTE...\n",
      "19360    MTEATGIVGEFLTLKEGTDADLLAMQCGDFYEFFAEDAEIVADELD...\n",
      "19361    MPRLVLASAPAKIILFGEHSVVYGKPAIASAIDLRTYVRAEFNDSG...\n",
      "19362    MTITQMISEILMHNTVYNYILSLISIILFIVIGKYANALIERLADK...\n",
      "19363    MNMEIFGNSISNILIFVVITLLGIFIGKIVDKIVRNYLKKIIDKTK...\n",
      "19364    MGIAFFAGGCFWGIEAGFQKVPGVINTKVGYMGGHTIEPTYQEVCS...\n",
      "19365    MTNTETAVFGMGCFWSAEELFRKIKGVISTEVGFMGGTVKNPTYGQ...\n",
      "19366    MIIETPSKVILFGEHAVVYGYRAISMAIDLTSTIEIKETQEDEIIL...\n",
      "19367    MRVLASAPAKIILFGEHSVVYGKPAIAAAINLRTYVWAEFNERGAI...\n",
      "19368    MMFVHIADNHLGYRQYNLDDREKDIYDSFKLCIKKILEIKPDVVLH...\n",
      "19369    MKFAHLADVHLGYEQFNKPQRAEEFANTFKKALEMCVKESVDFIII...\n",
      "19370    MEVATLGGGCFWCTEAVYKRVKGVISVKPGYSGGHVPNPTYEDVCT...\n",
      "19371    MVKLTMEPVTRIEGHAKITVHLDDAGNVEDTRLHVMEFRGFEKFLQ...\n",
      "19372    MAQNKIEKSEEDWKSVLTPEQYHVLRQKGTERPFSGNLYYNKEKGI...\n",
      "19373    MNVIDLFSGCGGFSKGFLDENFRILGAIENFKPVVKTYLYNIKAPV...\n",
      "19374    MATEYALRMGDGKRVFLAREKIMEEIEAGTANAADLGEIPALSADE...\n",
      "19375    EECEREKPPEGLAMDFIKRQFEIGEPEKDLCLIAQGLVCMGPATTS...\n",
      "19376    MIAFISDLHLGNIYANKKETEEHSYNALAKIEEKLLEYQPDLVLVG...\n",
      "19377    MIGVDMKLETLVNNGPAVIFLCRAETGWPVETVTANIVRFGYSPKD...\n",
      "19378    KLAEILMMPGKTVSVEQGMEIPVTHDIGTIRLDGDQGNSGVGIPSS...\n",
      "19379    MGIVDEFQALKAETDADLLAMQVGDFYEFFAADARTVASVLDLQVS...\n",
      "19380    MDAALGPPDAMAASEGDLTPMMSQYFELTRRYDDALVLFQVGDFYE...\n",
      "19381    MTTDTDTDVDAGTDLEPQPEGPPEKMLTRRTELTPMLSQYLDCCEA...\n",
      "19382    MATEYALRMGDGKRVFLTKEKIMAEIEAGTANAADLGDIPALNDNE...\n",
      "19383    MTKMMTPAMCQYYEAKQAYPDTLIFFRMGDFYESFGEDAKTIAKEL...\n",
      "19384    MGIVDEFQALKAETDADLLAMQVGDFYEFFAADARTVASVLDLQVS...\n",
      "Name: target, Length: 19385, dtype: object\n"
     ]
    },
    {
     "name": "stdout",
     "output_type": "stream",
     "text": [
      "0        M000000I000000I000000G000000Y000000F000000D000...\n",
      "1        M0000000I0000000I0000000E0000000G0000000E00000...\n",
      "2        M00N00I00N00E00I00L00K00K00L00I00N00K00S00D00L...\n",
      "3        MVVPLKR0IDKIRWE0IPKFDKR0MRVPGRV0YADEVLL0EKMKND...\n",
      "4        M000E000R000A000F000I000E000W000Y000P000R000G0...\n",
      "5        M0000000M0000000M0000000G0000000V0000000E00000...\n",
      "6        M0P0R0L0I0K0D0R0V0P0T0P0E0R0S0V0G0E0R0V0R0D0F0...\n",
      "7        M00G00Y00N00E00Q00E00R00A00F00I00E00W000Y00P00...\n",
      "8        M0000000V0000000D0000000I0000000V0000000K00000...\n",
      "9        M000N000V000E000E000M000K000K000I000A000A000K0...\n",
      "10       M000000K000000K000000R000000V000000V000000T000...\n",
      "11       M000N000N000V000E000K000A000I000E000A000L000K0...\n",
      "12       M000V000M000V000M000E000K000K000P000Y0000I000I...\n",
      "13       M00A00V00V00K00E00V00L00E00I00A00E00K00I00K00N...\n",
      "14       MR0LS0WV0IG0GA0QG0TG0ID0TA0AN0IF0GN0AV0AS0AG0Y...\n",
      "15       M00A00A00F00T00P00Q00W00N00D00W00C00P00G00C00G...\n",
      "16       M0V0E0K0F0D0T0I0Y0D0Y0Y0V0D0K0G0Y0E0P0S0K0K0R0...\n",
      "17       M00A00E00K00F00E00S00R00G00I00E00E00A00S00S00E...\n",
      "18       M0I0E0E0E0V0L0K0I0I0K0P0T0E0E0D0K0K0G0I0E0K0V0...\n",
      "19       M000D000E000R000D000A000L000R000I000S000R000E0...\n",
      "20       M000K000W000D000E000I000G000K000N000I000A000K0...\n",
      "21       M0T0E0R0R0H0D0R0E0F0V0R0T0F0F0T0S0P0T0A0V0E0G0...\n",
      "22       MSKL0TTGS0FSIE0DLES0VQIT0INNI0VGAA0KEAA0EEKA0K...\n",
      "23       M0S0L0E0A0L0F0N0P0K0S0V0A0V0I0G0A0S0A0K0P0G0K0...\n",
      "24       M00000K00000T00000P00000P00000V00000L00000K000...\n",
      "25       M0000000D0000000L0000000E0000000Y0000000Q00000...\n",
      "26       M000S000K000L000L000T000E000S000D000S000L000K0...\n",
      "27       M0000A0000F0000D0000R0000Q0000K0000L0000V0000E...\n",
      "28       M0000V0000S0000V0000D0000Q0000V0000K0000K0000A...\n",
      "29       M000000000V000000000Q000000000K000000000P00000...\n",
      "                               ...                        \n",
      "19355    M00000G00000T00000E00000T00000A00000T00000L000...\n",
      "19356    M00000E00000D00000V00000C00000Y00000L00000A000...\n",
      "19357    M000000E000000R000000A000000T000000F000000A000...\n",
      "19358    M00000A00000N00000T00000E00000T00000A00000V000...\n",
      "19359    M000000K000000D000000R000000I000000P000000I000...\n",
      "19360    MTEATGIVGEFL0TLKEGTDADLLA0MQCGDFYEFFAE0DAEIVAD...\n",
      "19361    M00P00R00L00V00L00A00S00A00P00A00K00I00I00L00F...\n",
      "19362    M00T00I00T00Q00M00I00S00E00I00L00M00H00N00T00V...\n",
      "19363    M00N00M00E00I00F00G00N00S00I00S00N00I00L00I00F...\n",
      "19364    M00000G00000I00000A00000F00000F00000A00000G000...\n",
      "19365    M00000T00000N00000T00000E00000T00000A00000V000...\n",
      "19366    M00I00I00E00T00P00S00K00V00I00L00F00G00E00H00A...\n",
      "19367    M00R00V00L00A00S00A00P00A00K00I00I00L00F00G00E...\n",
      "19368    M00M00F00V00H00I00A00D00N00H00L00G00Y00R00Q00Y...\n",
      "19369    M0K0F0A0H0L0A0D0V0H0L0G0Y0E0Q0F0N0K0P0Q0R0A0E0...\n",
      "19370    M00000E00000V00000A00000T00000L00000G00000G000...\n",
      "19371    M0V0K0L0T0M0E0P0V0T0R0I0E0G0H0A0K0I0T0V0H0L0D0...\n",
      "19372    M000000A000000Q000000N000000K000000I000000E000...\n",
      "19373    M00N00V00I00D00L00F00S00G00C00G00G00F00S00K00G...\n",
      "19374    M0A0T0E0Y0A0L0R0M0G0D0G0K0R0V0F0L0A0R0E0K0I0M0...\n",
      "19375    E0000000E0000000C0000000E0000000R0000000E00000...\n",
      "19376    M00I00A00F00I00S00D00L00H00L00G00N00I00Y00A00N...\n",
      "19377    MIGVDMKLETLVNNGPAVIFLCRAETGWPVETVTANIVRFGYSPKD...\n",
      "19378    K0L0A0E0I0L0M0M0P0G0K0T0V0S0V0E0Q0G0M0E0I0P0V0...\n",
      "19379    MGIVDEF0QALKAET0DADLLAM0QVGDFYE0FFAADAR0TVASVL...\n",
      "19380    MDAALG0PPDAMA0ASEGDL0TPMMSQ0YFELTR0RYDDAL0VLFQ...\n",
      "19381    MTTDTDTDVDAGTD0LEPQPEGPPEKMLT0RRTELTPMLSQYL0DC...\n",
      "19382    M0A0T0E0Y0A0L0R0M0G0D0G0K0R0V0F0L0T0K0E0K0I0M0...\n",
      "19383    MTKMMTPAM0CQYYEAKQA0YPDTLIFFR0MGDFYESFG0EDAKTI...\n",
      "19384    MGIVDEF0QALKAET0DADLLAM0QVGDFYE0FFAADAR0TVASVL...\n",
      "Name: target, Length: 19385, dtype: object\n",
      "0        0000000000000000000000000000000000000000000000...\n",
      "1        0000000000000000000000000000000000000000000000...\n",
      "2        0000000000000000000000000000000000000000000000...\n",
      "3        0000000000000000000000000000000000000000000000...\n",
      "4        0000000000000000000000000000000000000000000000...\n",
      "5        0000000000000000000000000000000000000000000000...\n",
      "6        0000000000000000000000000000000000000000000000...\n",
      "7        0000000000000000000000000000000000000000000000...\n",
      "8        0000000000000000000000000000000000000000000000...\n",
      "9        0000000000000000000000000000000000000000000000...\n",
      "10       0000000000000000000000000000000000000000000000...\n",
      "11       0000000000000000000000000000000000000000000000...\n",
      "12       0000000000000000000000000000000000000000000000...\n",
      "13       0000000000000000000000000000000000000000000000...\n",
      "14       0000000000000000000000000000000000000000000000...\n",
      "15       0000000000000000000000000000000000000000000000...\n",
      "16       0000000000000000000000000000000000000000000000...\n",
      "17       0000000000000000000000000000000000000000000000...\n",
      "18       0000000000000000000000000000000000000000000000...\n",
      "19       0000000000000000000000000000000000000000000000...\n",
      "20       0000000000000000000000000000000000000000000000...\n",
      "21       0000000000000000000000000000000000000000000000...\n",
      "22       0000000000000000000000000000000000000000000000...\n",
      "23       0000000000000000000000000000000000000000000000...\n",
      "24       0000000000000000000000000000000000000000000000...\n",
      "25       0000000000000000000000000000000000000000000000...\n",
      "26       0000000000000000000000000000000000000000000000...\n",
      "27       0000000000000000000000000000000000000000000000...\n",
      "28       0000000000000000000000000000000000000000000000...\n",
      "29       0000000000000000000000000000000000000000000000...\n",
      "                               ...                        \n",
      "19355    0000000000000000000000000000000000000000000000...\n",
      "19356    0000000000000000000000000000000000000000000000...\n",
      "19357    0000000000000000000000000000000000000000000000...\n",
      "19358    0000000000000000000000000000000000000000000000...\n",
      "19359    0000000000000000000000000000000000000000000000...\n",
      "19360    000000000000000000000000000000000000000MTEATGI...\n",
      "19361    0000000000000000000000000000000000000000000000...\n",
      "19362    0000000000000000000000000000000000000000000000...\n",
      "19363    0000000000000000000000000000000000000000000000...\n",
      "19364    0000000000000000000000000000000000000000000000...\n",
      "19365    0000000000000000000000000000000000000000000000...\n",
      "19366    0000000000000000000000000000000000000000000000...\n",
      "19367    0000000000000000000000000000000000000000000000...\n",
      "19368    0000000000000000000000000000000000000000000000...\n",
      "19369    0000000000000000000000000000000000000000000000...\n",
      "19370    0000000000000000000000000000000000000000000000...\n",
      "19371    0000000000000000000000000000000000000000000000...\n",
      "19372    0000000000000000000000000000000000000000000000...\n",
      "19373    0000000000000000000000000000000000000000000000...\n",
      "19374    0000000000000000000000000000000000000000000000...\n",
      "19375    0000000000000000000000000000000000000000000000...\n",
      "19376    0000000000000000000000000000000000000000000000...\n",
      "19377    0MIGVDMKLETLVNNGPAVIFLCRAETGWPVETVTANIVRFGYSPK...\n",
      "19378    0000000000000000000000000000000000000000000000...\n",
      "19379    0000000000000000000000000000000000000000000000...\n",
      "19380    0000000000000000000000000000000000000000000000...\n",
      "19381    0000000000000000000000000000000000MTTDTDTDVDAG...\n",
      "19382    0000000000000000000000000000000000000000000000...\n",
      "19383    0000000000000000000000000000000000000000000000...\n",
      "19384    0000000000000000000000000000000000000000000000...\n",
      "Name: target, Length: 19385, dtype: object\n",
      "0        M0I0000IG0Y00000F00DGL000C0E0P00000KN0P00G0000...\n",
      "1        00M00II0E000G0000000E0V00000V0SGLG0EG0000R000Y...\n",
      "2        00M0000NI0NE00000I0000L00KK000000L0000I00NKSD0...\n",
      "3        MVVPLK0R0IDKIR00WEI0PK0FDKRMRVPGRV0YADEVLLEKMK...\n",
      "4        00000MERA0F0IEW0YPR00GY00G000V0A0F0KIKK0KI00Y0...\n",
      "5        MMM0G000V0E00000000L00AFP0KVV0GK00000Q0VYGS00L...\n",
      "6        MP0R0L0IKD000RVP00TPERS00V00G0ER0VRD000FG000EV...\n",
      "7        0MGY0N0000E0QER0AF00IE00W000YP000RG00Y0GV00G0F...\n",
      "8        0M0000VDIVK0000000R0000RD00WE00K0000KE000KK000...\n",
      "9        MN0V0EEM0K0K00I00AA00K000000E0000A00LKFI0E00DD...\n",
      "10       0M0K0K0RV0V0T0A000G0T0F0D0ILH00PG0HY0EILKFA000...\n",
      "11       M0NN00VE00K0A000000IE000A0000L000K00K0G000E000...\n",
      "12       MV0M0V00M00EKKPY00I0IS0N0VGM0000T0L00D0000G000...\n",
      "13       M00AVVKEVL00EI0A000EK00I0KNM0E0IR0G000A0G0K0I0...\n",
      "14       MR000LS0WV000IGGAQ0GTGIDTAAN00IFGNAV0A0SAGYYI0...\n",
      "15       MA0AFT0PQW0N000000000D00W0CP0G0CGN0FGILN00A0EQ...\n",
      "16       MVE0K0000FD0TIY0D00YYVD00KGYEPS00000KK0R0000DI...\n",
      "17       0M00AE000KFES0RG00IE0E0ASS0E0VPT00Q0RRC0000G00...\n",
      "18       MIE00EE0VL0KI0IK000P0TE0EDK0K0GIE0KVL0EI0I0RER...\n",
      "19       M0D0E0RD0A00LR000I0SR0000000E0I00A0G0E0V0RK0AI...\n",
      "20       0M000000K000000WDE0I0000GKN0000IA00K0E0I0E00K0...\n",
      "21       M0T00ERR000000HD00REF0V0R00TFF0TSPTAVE0GEDDSAK...\n",
      "22       MSKLTTGSFSIEDLESVQ0ITINNI0V0GAAKEAAEE0KAK0ELVN...\n",
      "23       00MSL0E00AL00FNPKSV0A00V00I0G000000AS0AK0PGKIG...\n",
      "24       0M00KTPP0000VL000KRR0000000000000R0E000GV00TDY...\n",
      "25       MDL0E0Y00000000QK00KLAA00KV0AG0000VG0LD0R00V00...\n",
      "26       0000MS000K0L00LTE0SDS0LK0V0I0R0000R00ILEGSPK00...\n",
      "27       M00A000FDR000Q000KL0VE000AV00KE00AK0AR0A0KP000...\n",
      "28       00M0V0SVDQVK00KAR0E00GKK000R00R0F000TQT0FELI0F...\n",
      "29       MV000Q000KP0HS00FR000000RK0T0R00KK000000L00000...\n",
      "                               ...                        \n",
      "19355    M0G0000000000TE0TATLGG00GC00FW000CT0000E0AA0ME...\n",
      "19356    00M0E00D00VCY0LAG0GCF00WCME0000A000V0000000F00...\n",
      "19357    M0ERATF000A00A0000G0CFWGV00000000EAAFS00KV00E0...\n",
      "19358    0M0000AN00TETA0VF0GM0G0C000FW000S00AE0EL0FR000...\n",
      "19359    0MK00D0RIP00IFSV0A0KNR000VE000MVE0RI000ELSDD00...\n",
      "19360    MT0EATGIVGEFLTLKEGTDAD0LLAMQCGDFYEFFAEDAEIVAD0...\n",
      "19361    M0P00R0LV00L0A00S0A0PA0KI00I000L0FGEHSV0V0YGKP...\n",
      "19362    MT0I00TQ00M0I0S00E000IL0000M0HNTV00YNYILS0LI0S...\n",
      "19363    0M000N000000MEI0FGN0SISN0IL0IF0VV0000IT00L0L0G...\n",
      "19364    M0000GIAF0000000F000A00GG0C000F000WG000I0E00AG...\n",
      "19365    MTN000TE0TA0VFGMG0CF00W00SAEEL00FR00K0000IKG0V...\n",
      "19366    0M0IIETPS00K0VIL00FGE0H0000A000VV00Y0G0000YR0A...\n",
      "19367    M00R0V00LASA00PAKI0I0L0F00GE0H00SVV0Y00GK00P0A...\n",
      "19368    00MM0F0V0H0000I0A0000DN000HLG000Y00R00Q0Y0NL00...\n",
      "19369    M0K00FA0H0LA00DV0HLGYE000Q00F00NKPQ00RA0E000E0...\n",
      "19370    00ME000VA0TL0GGG0000C00F0W0C0TE0000A0000V0Y0K0...\n",
      "19371    M000VKL0TM000EP0V00TRI00000E0G00000HAKIT0V0H0L...\n",
      "19372    0M0000AQN000KIEK0S0EEDWK000S0V0L00T0000P0EQ00Y...\n",
      "19373    MNV0000ID0LFSG000C000GG00F00000S0K0000GFLDENFR...\n",
      "19374    MATEYAL00RM0G0D000GKR00VF0LAR0E00KIM0E0EI00000...\n",
      "19375    EE000000CERE0KP0PE00GLA000M0D0F0IK000R0000Q00F...\n",
      "19376    0M0I0000AFISDL000HL0000GNIYANKK0ET0EE00H0S00Y0...\n",
      "19377    MIGVDMKLETLVNNGPAVIFLCRAETGWPVETVTANIVRFGYSPKD...\n",
      "19378    0KLA000EIL000M00MPG0KT0V000S0V00E000QG0MEIP0V0...\n",
      "19379    MGIVDEFQALKAETDADL0LAMQVGDFY0EFFAADAR0TVASVL0D...\n",
      "19380    MDAA00LGPPDAMAASEGDLT0PMMSQYFELT0R0RYDDALVLFQV...\n",
      "19381    MTTDTDTDVDAGTDLEPQPEGPPEKMLTRRTELTPMLSQYL0DCC0...\n",
      "19382    MA0TEY0AL0RMGD0G0KR00VF0LT00KEK0I0M0AE0I000EA0...\n",
      "19383    MTKMMTPAM0CQYYEAKQAY000PDTLIFFRMGDFYESFGEDAKTI...\n",
      "19384    0MGIVDEFQALKAETDADL0LAMQVGDFY0EFFAADARTVASVLDL...\n",
      "Name: target, Length: 19385, dtype: object\n"
     ]
    }
   ],
   "source": [
    "list_padding_short = ['post_padding', 'pre_padding', 'mid_padding', 'strf_padding', 'ext_padding', \n",
    "                 'rnd_padding']\n",
    "\n",
    "#loading data\n",
    "file_in= \"\".join([absPath, 'raw_data/uniprot-reviewed_yes+AND+taxonomy_archaea-EC.tab.gz'])\n",
    "df = loading_data(file_in, column)\n",
    "#filtering\n",
    "df_filt = filtering_over_maxlen(df, max_lenn)\n",
    "dicti = creating_dict()\n",
    "\n",
    "\n",
    "#processing sequences\n",
    "dicti_padding = {}\n",
    "for i in list_padding_short:\n",
    "    dicti_padding[i] = processing_sequences(df_filt, i, max_lenn)"
   ]
  },
  {
   "cell_type": "code",
   "execution_count": 4,
   "metadata": {},
   "outputs": [
    {
     "name": "stdout",
     "output_type": "stream",
     "text": [
      "1.0    10658\n",
      "0.0     8727\n",
      "Name: enzyme, dtype: int64\n",
      "(7,)\n",
      "Shape of the resulting encoding (19385, 7)\n"
     ]
    }
   ],
   "source": [
    "# creating binary enzyme/no enzyme label\n",
    "df_bin = binarizing_EC(df_filt)\n",
    "\n",
    "#processing enzyme class label\n",
    "df_digit1 = first_digit_EC(df_bin)\n",
    "\n",
    "labels_task1 = bin_to_onehot(df_digit1, 2)\n",
    "\n",
    "labels_task2 = encoding_as_multilabel(df_digit1, folder)"
   ]
  },
  {
   "cell_type": "code",
   "execution_count": 5,
   "metadata": {},
   "outputs": [],
   "source": [
    "vars_padding = dicti_padding"
   ]
  },
  {
   "cell_type": "code",
   "execution_count": 6,
   "metadata": {},
   "outputs": [
    {
     "data": {
      "text/plain": [
       "array([12,  9,  9,  5,  7,  5, 21, 21, 18,  7, 11,  7,  5,  7, 17, 24,  6,\n",
       "       11, 18, 11, 15, 15, 24, 10,  5,  9,  6, 10, 10,  9, 11,  7,  6,  5,\n",
       "       15, 24,  5,  7, 19, 11, 13, 11, 10, 11,  4, 17,  5,  6,  4,  9, 13,\n",
       "       10,  6, 10, 24,  9,  5, 19,  5,  4,  6,  5,  6, 13,  7, 10, 17,  6,\n",
       "        6,  7, 21, 10, 21, 11, 15,  9, 10,  9, 11,  9,  7, 13, 10, 10,  9,\n",
       "        4,  7,  1,  9, 21, 21, 15, 10, 10, 19, 24,  8, 18, 18,  5,  9,  9,\n",
       "        5,  9,  9,  1, 15, 12, 10, 11, 17,  5, 16,  6, 13, 11, 10,  4,  7,\n",
       "        4, 21,  9, 10,  9, 11,  9, 10,  7,  4, 10,  4,  5,  0,  0,  0,  0,\n",
       "        0,  0,  0,  0,  0,  0,  0,  0,  0,  0,  0,  0,  0,  0,  0,  0,  0,\n",
       "        0,  0,  0,  0,  0,  0,  0,  0,  0,  0,  0,  0,  0,  0,  0,  0,  0,\n",
       "        0,  0,  0,  0,  0,  0,  0,  0,  0,  0,  0,  0,  0,  0,  0,  0,  0,\n",
       "        0,  0,  0,  0,  0,  0,  0,  0,  0,  0,  0,  0,  0,  0,  0,  0,  0,\n",
       "        0,  0,  0,  0,  0,  0,  0,  0,  0,  0,  0,  0,  0,  0,  0,  0,  0,\n",
       "        0,  0,  0,  0,  0,  0,  0,  0,  0,  0,  0,  0,  0,  0,  0,  0,  0,\n",
       "        0,  0,  0,  0,  0,  0,  0,  0,  0,  0,  0,  0,  0,  0,  0,  0,  0,\n",
       "        0,  0,  0,  0,  0,  0,  0,  0,  0,  0,  0,  0,  0,  0,  0,  0,  0,\n",
       "        0,  0,  0,  0,  0,  0,  0,  0,  0,  0,  0,  0,  0,  0,  0,  0,  0,\n",
       "        0,  0,  0,  0,  0,  0,  0,  0,  0,  0,  0,  0,  0,  0,  0,  0,  0,\n",
       "        0,  0,  0,  0,  0,  0,  0,  0,  0,  0,  0,  0,  0,  0,  0,  0,  0,\n",
       "        0,  0,  0,  0,  0,  0,  0,  0,  0,  0,  0,  0,  0,  0,  0,  0,  0,\n",
       "        0,  0,  0,  0,  0,  0,  0,  0,  0,  0,  0,  0,  0,  0,  0,  0,  0,\n",
       "        0,  0,  0,  0,  0,  0,  0,  0,  0,  0,  0,  0,  0,  0,  0,  0,  0,\n",
       "        0,  0,  0,  0,  0,  0,  0,  0,  0,  0,  0,  0,  0,  0,  0,  0,  0,\n",
       "        0,  0,  0,  0,  0,  0,  0,  0,  0,  0,  0,  0,  0,  0,  0,  0,  0,\n",
       "        0,  0,  0,  0,  0,  0,  0,  0,  0,  0,  0,  0,  0,  0,  0,  0,  0,\n",
       "        0,  0,  0,  0,  0,  0,  0,  0,  0,  0,  0,  0,  0,  0,  0,  0,  0,\n",
       "        0,  0,  0,  0,  0,  0,  0,  0,  0,  0,  0,  0,  0,  0,  0,  0,  0,\n",
       "        0,  0,  0,  0,  0,  0,  0,  0,  0,  0,  0,  0,  0,  0,  0,  0,  0,\n",
       "        0,  0,  0,  0,  0,  0,  0,  0,  0,  0,  0,  0,  0,  0,  0,  0,  0,\n",
       "        0,  0,  0,  0,  0,  0,  0,  0,  0,  0,  0,  0,  0,  0,  0,  0,  0,\n",
       "        0,  0,  0,  0,  0,  0,  0,  0,  0,  0,  0,  0,  0,  0,  0,  0,  0,\n",
       "        0,  0,  0,  0,  0,  0,  0,  0,  0,  0,  0,  0,  0,  0,  0,  0,  0,\n",
       "        0,  0,  0,  0,  0,  0,  0,  0,  0,  0,  0,  0,  0,  0,  0,  0,  0,\n",
       "        0,  0,  0,  0,  0,  0,  0,  0,  0,  0,  0,  0,  0,  0,  0,  0,  0,\n",
       "        0,  0,  0,  0,  0,  0,  0,  0,  0,  0,  0,  0,  0,  0,  0,  0,  0,\n",
       "        0,  0,  0,  0,  0,  0,  0,  0,  0,  0,  0,  0,  0,  0,  0,  0,  0,\n",
       "        0,  0,  0,  0,  0,  0,  0,  0,  0,  0,  0,  0,  0,  0,  0,  0,  0,\n",
       "        0,  0,  0,  0,  0,  0,  0,  0,  0,  0,  0,  0,  0,  0,  0,  0,  0,\n",
       "        0,  0,  0,  0,  0,  0,  0,  0,  0,  0,  0,  0,  0,  0,  0,  0,  0,\n",
       "        0,  0,  0,  0,  0,  0,  0,  0,  0,  0,  0,  0,  0,  0,  0,  0,  0,\n",
       "        0,  0,  0,  0,  0,  0,  0,  0,  0,  0,  0,  0,  0,  0,  0,  0,  0,\n",
       "        0,  0,  0,  0,  0,  0,  0,  0,  0,  0,  0,  0,  0,  0,  0,  0,  0,\n",
       "        0,  0,  0,  0,  0,  0,  0,  0,  0,  0,  0,  0,  0,  0,  0,  0,  0,\n",
       "        0,  0,  0,  0,  0,  0,  0,  0,  0,  0,  0,  0,  0,  0,  0,  0,  0,\n",
       "        0,  0,  0,  0,  0,  0,  0,  0,  0,  0,  0,  0,  0,  0,  0,  0,  0,\n",
       "        0,  0,  0,  0,  0,  0,  0,  0,  0,  0,  0,  0,  0,  0,  0,  0,  0,\n",
       "        0,  0,  0,  0,  0,  0,  0,  0,  0,  0,  0,  0,  0,  0,  0,  0,  0,\n",
       "        0,  0,  0,  0,  0,  0,  0,  0,  0,  0,  0,  0,  0,  0,  0,  0,  0,\n",
       "        0,  0,  0,  0,  0,  0,  0,  0,  0,  0,  0,  0,  0,  0,  0,  0,  0,\n",
       "        0,  0,  0,  0,  0,  0,  0,  0,  0,  0,  0,  0,  0,  0,  0,  0,  0,\n",
       "        0,  0,  0,  0,  0,  0,  0,  0,  0,  0,  0,  0,  0,  0,  0,  0,  0,\n",
       "        0,  0,  0,  0,  0,  0,  0,  0,  0,  0,  0,  0,  0,  0,  0,  0,  0,\n",
       "        0,  0,  0,  0,  0,  0,  0,  0,  0,  0,  0,  0,  0,  0,  0,  0,  0,\n",
       "        0,  0,  0,  0,  0,  0,  0,  0,  0,  0,  0,  0,  0,  0,  0,  0,  0,\n",
       "        0,  0,  0,  0,  0,  0,  0,  0,  0,  0,  0,  0,  0,  0,  0,  0,  0,\n",
       "        0,  0,  0,  0,  0,  0,  0,  0,  0,  0,  0,  0,  0,  0,  0,  0,  0,\n",
       "        0,  0,  0,  0,  0,  0,  0,  0,  0,  0,  0,  0,  0,  0,  0,  0,  0,\n",
       "        0,  0,  0,  0,  0,  0,  0,  0,  0,  0,  0,  0,  0,  0,  0,  0,  0,\n",
       "        0,  0,  0,  0,  0,  0,  0,  0,  0,  0,  0,  0,  0,  0], dtype=int32)"
      ]
     },
     "execution_count": 6,
     "metadata": {},
     "output_type": "execute_result"
    }
   ],
   "source": [
    "dicti_padding[\"post_padding\"][1]"
   ]
  },
  {
   "cell_type": "code",
   "execution_count": 7,
   "metadata": {},
   "outputs": [
    {
     "data": {
      "text/plain": [
       "array([ 0.,  1.], dtype=float32)"
      ]
     },
     "execution_count": 7,
     "metadata": {},
     "output_type": "execute_result"
    }
   ],
   "source": [
    "labels_task1[1]"
   ]
  },
  {
   "cell_type": "code",
   "execution_count": 8,
   "metadata": {},
   "outputs": [
    {
     "data": {
      "text/plain": [
       "array([ 0.,  1.,  0.,  0.,  0.,  0.,  0.])"
      ]
     },
     "execution_count": 8,
     "metadata": {},
     "output_type": "execute_result"
    }
   ],
   "source": [
    "labels_task2[1]"
   ]
  },
  {
   "cell_type": "code",
   "execution_count": 9,
   "metadata": {},
   "outputs": [],
   "source": [
    "\"\"\"creating augmented data from all the types of padding from a specific set of indices\"\"\"\n",
    "#creating idx of the length of data\n",
    "idx_data = list(range(len(vars_padding['post_padding'])))\n",
    "#creating empty list for sequences and labels\n",
    "seqs, lbl_task1, lbl_task2 = [],[],[]"
   ]
  },
  {
   "cell_type": "code",
   "execution_count": 10,
   "metadata": {},
   "outputs": [],
   "source": [
    "#joining the paddings\n",
    "for idx in idx_data:\n",
    "    for padding_type, value in vars_padding.items():\n",
    "        seqs.append(value[idx]), lbl_task1.append(labels_task1[idx])\n",
    "        if isinstance(labels_task2, np.ndarray): \n",
    "            lbl_task2.append(labels_task2[idx])"
   ]
  },
  {
   "cell_type": "code",
   "execution_count": 22,
   "metadata": {},
   "outputs": [
    {
     "data": {
      "text/plain": [
       "116310"
      ]
     },
     "execution_count": 22,
     "metadata": {},
     "output_type": "execute_result"
    }
   ],
   "source": [
    "len(seqs)"
   ]
  },
  {
   "cell_type": "code",
   "execution_count": 11,
   "metadata": {},
   "outputs": [
    {
     "data": {
      "text/plain": [
       "array([12,  9,  9,  5,  7,  5, 21, 21, 18,  7, 11,  7,  5,  7, 17, 24,  6,\n",
       "       11, 18, 11, 15, 15, 24, 10,  5,  9,  6, 10, 10,  9, 11,  7,  6,  5,\n",
       "       15, 24,  5,  7, 19, 11, 13, 11, 10, 11,  4, 17,  5,  6,  4,  9, 13,\n",
       "       10,  6, 10, 24,  9,  5, 19,  5,  4,  6,  5,  6, 13,  7, 10,  0,  0,\n",
       "        0,  0,  0,  0,  0,  0,  0,  0,  0,  0,  0,  0,  0,  0,  0,  0,  0,\n",
       "        0,  0,  0,  0,  0,  0,  0,  0,  0,  0,  0,  0,  0,  0,  0,  0,  0,\n",
       "        0,  0,  0,  0,  0,  0,  0,  0,  0,  0,  0,  0,  0,  0,  0,  0,  0,\n",
       "        0,  0,  0,  0,  0,  0,  0,  0,  0,  0,  0,  0,  0,  0,  0,  0,  0,\n",
       "        0,  0,  0,  0,  0,  0,  0,  0,  0,  0,  0,  0,  0,  0,  0,  0,  0,\n",
       "        0,  0,  0,  0,  0,  0,  0,  0,  0,  0,  0,  0,  0,  0,  0,  0,  0,\n",
       "        0,  0,  0,  0,  0,  0,  0,  0,  0,  0,  0,  0,  0,  0,  0,  0,  0,\n",
       "        0,  0,  0,  0,  0,  0,  0,  0,  0,  0,  0,  0,  0,  0,  0,  0,  0,\n",
       "        0,  0,  0,  0,  0,  0,  0,  0,  0,  0,  0,  0,  0,  0,  0,  0,  0,\n",
       "        0,  0,  0,  0,  0,  0,  0,  0,  0,  0,  0,  0,  0,  0,  0,  0,  0,\n",
       "        0,  0,  0,  0,  0,  0,  0,  0,  0,  0,  0,  0,  0,  0,  0,  0,  0,\n",
       "        0,  0,  0,  0,  0,  0,  0,  0,  0,  0,  0,  0,  0,  0,  0,  0,  0,\n",
       "        0,  0,  0,  0,  0,  0,  0,  0,  0,  0,  0,  0,  0,  0,  0,  0,  0,\n",
       "        0,  0,  0,  0,  0,  0,  0,  0,  0,  0,  0,  0,  0,  0,  0,  0,  0,\n",
       "        0,  0,  0,  0,  0,  0,  0,  0,  0,  0,  0,  0,  0,  0,  0,  0,  0,\n",
       "        0,  0,  0,  0,  0,  0,  0,  0,  0,  0,  0,  0,  0,  0,  0,  0,  0,\n",
       "        0,  0,  0,  0,  0,  0,  0,  0,  0,  0,  0,  0,  0,  0,  0,  0,  0,\n",
       "        0,  0,  0,  0,  0,  0,  0,  0,  0,  0,  0,  0,  0,  0,  0,  0,  0,\n",
       "        0,  0,  0,  0,  0,  0,  0,  0,  0,  0,  0,  0,  0,  0,  0,  0,  0,\n",
       "        0,  0,  0,  0,  0,  0,  0,  0,  0,  0,  0,  0,  0,  0,  0,  0,  0,\n",
       "        0,  0,  0,  0,  0,  0,  0,  0,  0,  0,  0,  0,  0,  0,  0,  0,  0,\n",
       "        0,  0,  0,  0,  0,  0,  0,  0,  0,  0,  0,  0,  0,  0,  0,  0,  0,\n",
       "        0,  0,  0,  0,  0,  0,  0,  0,  0,  0,  0,  0,  0,  0,  0,  0,  0,\n",
       "        0,  0,  0,  0,  0,  0,  0,  0,  0,  0,  0,  0,  0,  0,  0,  0,  0,\n",
       "        0,  0,  0,  0,  0,  0,  0,  0,  0,  0,  0,  0,  0,  0,  0,  0,  0,\n",
       "        0,  0,  0,  0,  0,  0,  0,  0,  0,  0,  0,  0,  0,  0,  0,  0,  0,\n",
       "        0,  0,  0,  0,  0,  0,  0,  0,  0,  0,  0,  0,  0,  0,  0,  0,  0,\n",
       "        0,  0,  0,  0,  0,  0,  0,  0,  0,  0,  0,  0,  0,  0,  0,  0,  0,\n",
       "        0,  0,  0,  0,  0,  0,  0,  0,  0,  0,  0,  0,  0,  0,  0,  0,  0,\n",
       "        0,  0,  0,  0,  0,  0,  0,  0,  0,  0,  0,  0,  0,  0,  0,  0,  0,\n",
       "        0,  0,  0,  0,  0,  0,  0,  0,  0,  0,  0,  0,  0,  0,  0,  0,  0,\n",
       "        0,  0,  0,  0,  0,  0,  0,  0,  0,  0,  0,  0,  0,  0,  0,  0,  0,\n",
       "        0,  0,  0,  0,  0,  0,  0,  0,  0,  0,  0,  0,  0,  0,  0,  0,  0,\n",
       "        0,  0,  0,  0,  0,  0,  0,  0,  0,  0,  0,  0,  0,  0,  0,  0,  0,\n",
       "        0,  0,  0,  0,  0,  0,  0,  0,  0,  0,  0,  0,  0,  0,  0,  0,  0,\n",
       "        0,  0,  0,  0,  0,  0,  0,  0,  0,  0,  0,  0,  0,  0,  0,  0,  0,\n",
       "        0,  0,  0,  0,  0,  0,  0,  0,  0,  0,  0,  0,  0,  0,  0,  0,  0,\n",
       "        0,  0,  0,  0,  0,  0,  0,  0,  0,  0,  0,  0,  0,  0,  0,  0,  0,\n",
       "        0,  0,  0,  0,  0,  0,  0,  0,  0,  0,  0,  0,  0,  0,  0,  0,  0,\n",
       "        0,  0,  0,  0,  0,  0,  0,  0,  0,  0,  0,  0,  0,  0,  0,  0,  0,\n",
       "        0,  0,  0,  0,  0,  0,  0,  0,  0,  0,  0,  0,  0,  0,  0,  0,  0,\n",
       "        0,  0,  0,  0,  0,  0,  0,  0,  0,  0,  0,  0,  0,  0,  0,  0,  0,\n",
       "        0,  0,  0,  0,  0,  0,  0,  0,  0,  0,  0,  0,  0,  0,  0,  0,  0,\n",
       "        0,  0,  0,  0,  0,  0,  0,  0,  0,  0,  0,  0,  0,  0,  0,  0,  0,\n",
       "        0,  0,  0,  0,  0,  0,  0,  0,  0,  0,  0,  0,  0,  0,  0,  0,  0,\n",
       "        0,  0,  0,  0,  0,  0,  0,  0,  0,  0,  0,  0,  0,  0,  0,  0,  0,\n",
       "        0,  0,  0,  0,  0,  0,  0,  0,  0,  0,  0,  0,  0,  0,  0,  0,  0,\n",
       "        0,  0,  0,  0,  0,  0,  0,  0,  0,  0,  0,  0,  0,  0,  0,  0,  0,\n",
       "        0,  0,  0,  0,  0,  0,  0,  0,  0,  0,  0,  0,  0,  0,  0,  0,  0,\n",
       "        0,  0,  0,  0,  0,  0,  0,  0,  0,  0,  0,  0,  0,  0,  0,  0,  0,\n",
       "        0,  0,  0,  0,  0,  0,  0,  0,  0,  0,  0,  0,  0,  0,  0,  0, 17,\n",
       "        6,  6,  7, 21, 10, 21, 11, 15,  9, 10,  9, 11,  9,  7, 13, 10, 10,\n",
       "        9,  4,  7,  1,  9, 21, 21, 15, 10, 10, 19, 24,  8, 18, 18,  5,  9,\n",
       "        9,  5,  9,  9,  1, 15, 12, 10, 11, 17,  5, 16,  6, 13, 11, 10,  4,\n",
       "        7,  4, 21,  9, 10,  9, 11,  9, 10,  7,  4, 10,  4,  5], dtype=int32)"
      ]
     },
     "execution_count": 11,
     "metadata": {},
     "output_type": "execute_result"
    }
   ],
   "source": [
    "seqs[8]"
   ]
  },
  {
   "cell_type": "code",
   "execution_count": 12,
   "metadata": {},
   "outputs": [
    {
     "data": {
      "text/plain": [
       "[array([ 0.,  1.], dtype=float32),\n",
       " array([ 0.,  1.], dtype=float32),\n",
       " array([ 0.,  1.], dtype=float32),\n",
       " array([ 0.,  1.], dtype=float32),\n",
       " array([ 0.,  1.], dtype=float32),\n",
       " array([ 0.,  1.], dtype=float32),\n",
       " array([ 0.,  1.], dtype=float32)]"
      ]
     },
     "execution_count": 12,
     "metadata": {},
     "output_type": "execute_result"
    }
   ],
   "source": [
    "lbl_task1[6:13]"
   ]
  },
  {
   "cell_type": "code",
   "execution_count": 13,
   "metadata": {},
   "outputs": [
    {
     "data": {
      "text/plain": [
       "[array([ 0.,  1.,  0.,  0.,  0.,  0.,  0.]),\n",
       " array([ 0.,  1.,  0.,  0.,  0.,  0.,  0.]),\n",
       " array([ 0.,  1.,  0.,  0.,  0.,  0.,  0.]),\n",
       " array([ 0.,  1.,  0.,  0.,  0.,  0.,  0.]),\n",
       " array([ 0.,  1.,  0.,  0.,  0.,  0.,  0.]),\n",
       " array([ 0.,  1.,  0.,  0.,  0.,  0.,  0.]),\n",
       " array([ 0.,  1.,  0.,  0.,  0.,  0.,  0.]),\n",
       " array([ 0.,  1.,  0.,  0.,  0.,  0.,  0.]),\n",
       " array([ 0.,  1.,  0.,  0.,  0.,  0.,  0.])]"
      ]
     },
     "execution_count": 13,
     "metadata": {},
     "output_type": "execute_result"
    }
   ],
   "source": [
    "lbl_task2[6:15]"
   ]
  },
  {
   "cell_type": "code",
   "execution_count": 14,
   "metadata": {},
   "outputs": [],
   "source": [
    "file_idcs_aug = os.path.join(absPath, 'data/', folder, 'idcs_aug_enz.pickle')\n",
    "\n",
    "with open(file_idcs_aug, \"rb\") as input_file:\n",
    "    k_aug_indices = pickle.load(input_file)\n",
    "    \n",
    "file_idcs = os.path.join(absPath, 'data/', folder, 'idcs_data_enz.pickle')\n",
    "\n",
    "with open(file_idcs, \"rb\") as input_file:\n",
    "    splitting_sets = pickle.load(input_file)"
   ]
  },
  {
   "cell_type": "code",
   "execution_count": 15,
   "metadata": {},
   "outputs": [
    {
     "name": "stdout",
     "output_type": "stream",
     "text": [
      "4079\n",
      "10153\n",
      "10931\n",
      "14033\n"
     ]
    }
   ],
   "source": [
    "print(splitting_sets[3][0][0])\n",
    "print(splitting_sets[3][0][1])\n",
    "print(splitting_sets[3][0][2])\n",
    "print(splitting_sets[3][0][3])"
   ]
  },
  {
   "cell_type": "code",
   "execution_count": 16,
   "metadata": {},
   "outputs": [
    {
     "data": {
      "text/plain": [
       "array([12, 21, 10, 21, 13, 21,  9,  6,  8, 18,  9,  8,  7,  8, 19, 24, 10,\n",
       "       12,  1,  5,  1,  9,  1,  5,  7,  1, 17,  5, 21,  5,  7,  1,  5, 21,\n",
       "        5,  9, 24, 16, 21, 15,  5, 19, 11, 15, 24,  5, 21, 11,  5, 10, 12,\n",
       "        7,  1,  9,  5, 19, 10, 13, 11,  6,  1,  8,  9, 15, 21, 21, 19, 17,\n",
       "       18, 12, 24,  5,  4, 21,  6,  1,  7,  1,  4,  1, 11,  9,  6,  7, 19,\n",
       "       15, 19, 17, 24,  7, 13, 12, 19,  1, 16, 12, 17, 19, 21,  6,  4,  7,\n",
       "       11,  7,  7, 11, 22, 18, 17,  4,  1, 11, 21,  7, 10, 21,  7, 18, 21,\n",
       "        6, 19, 18, 18,  7, 19, 16,  8,  7,  7, 16,  5, 18, 19,  9, 11, 19,\n",
       "       19,  8, 21, 19, 11, 11,  8, 11,  7, 12,  9,  9, 21,  7, 11, 15, 24,\n",
       "       18,  5, 19, 17, 16, 17, 17, 12,  4,  5,  9, 19,  7,  7, 18, 15, 24,\n",
       "        7,  1, 18, 19,  9,  1,  7,  1,  5,  5, 13, 17, 16, 15, 18,  5, 13,\n",
       "        5, 11,  1, 12,  1, 17, 24, 16,  7, 17,  8, 21, 19, 16,  9,  1, 10,\n",
       "       10, 11,  9,  7,  0,  0,  0,  0,  0,  0,  0,  0,  0,  0,  0,  0,  0,\n",
       "        0,  0,  0,  0,  0,  0,  0,  0,  0,  0,  0,  0,  0,  0,  0,  0,  0,\n",
       "        0,  0,  0,  0,  0,  0,  0,  0,  0,  0,  0,  0,  0,  0,  0,  0,  0,\n",
       "        0,  0,  0,  0,  0,  0,  0,  0,  0,  0,  0,  0,  0,  0,  0,  0,  0,\n",
       "        0,  0,  0,  0,  0,  0,  0,  0,  0,  0,  0,  0,  0,  0,  0,  0,  0,\n",
       "        0,  0,  0,  0,  0,  0,  0,  0,  0,  0,  0,  0,  0,  0,  0,  0,  0,\n",
       "        0,  0,  0,  0,  0,  0,  0,  0,  0,  0,  0,  0,  0,  0,  0,  0,  0,\n",
       "        0,  0,  0,  0,  0,  0,  0,  0,  0,  0,  0,  0,  0,  0,  0,  0,  0,\n",
       "        0,  0,  0,  0,  0,  0,  0,  0,  0,  0,  0,  0,  0,  0,  0,  0,  0,\n",
       "        0,  0,  0,  0,  0,  0,  0,  0,  0,  0,  0,  0,  0,  0,  0,  0,  0,\n",
       "        0,  0,  0,  0,  0,  0,  0,  0,  0,  0,  0,  0,  0,  0,  0,  0,  0,\n",
       "        0,  0,  0,  0,  0,  0,  0,  0,  0,  0,  0,  0,  0,  0,  0,  0,  0,\n",
       "        0,  0,  0,  0,  0,  0,  0,  0,  0,  0,  0,  0,  0,  0,  0,  0,  0,\n",
       "        0,  0,  0,  0,  0,  0,  0,  0,  0,  0,  0,  0,  0,  0,  0,  0,  0,\n",
       "        0,  0,  0,  0,  0,  0,  0,  0,  0,  0,  0,  0,  0,  0,  0,  0,  0,\n",
       "        0,  0,  0,  0,  0,  0,  0,  0,  0,  0,  0,  0,  0,  0,  0,  0,  0,\n",
       "        0,  0,  0,  0,  0,  0,  0,  0,  0,  0,  0,  0,  0,  0,  0,  0,  0,\n",
       "        0,  0,  0,  0,  0,  0,  0,  0,  0,  0,  0,  0,  0,  0,  0,  0,  0,\n",
       "        0,  0,  0,  0,  0,  0,  0,  0,  0,  0,  0,  0,  0,  0,  0,  0,  0,\n",
       "        0,  0,  0,  0,  0,  0,  0,  0,  0,  0,  0,  0,  0,  0,  0,  0,  0,\n",
       "        0,  0,  0,  0,  0,  0,  0,  0,  0,  0,  0,  0,  0,  0,  0,  0,  0,\n",
       "        0,  0,  0,  0,  0,  0,  0,  0,  0,  0,  0,  0,  0,  0,  0,  0,  0,\n",
       "        0,  0,  0,  0,  0,  0,  0,  0,  0,  0,  0,  0,  0,  0,  0,  0,  0,\n",
       "        0,  0,  0,  0,  0,  0,  0,  0,  0,  0,  0,  0,  0,  0,  0,  0,  0,\n",
       "        0,  0,  0,  0,  0,  0,  0,  0,  0,  0,  0,  0,  0,  0,  0,  0,  0,\n",
       "        0,  0,  0,  0,  0,  0,  0,  0,  0,  0,  0,  0,  0,  0,  0,  0,  0,\n",
       "        0,  0,  0,  0,  0,  0,  0,  0,  0,  0,  0,  0,  0,  0,  0,  0,  0,\n",
       "        0,  0,  0,  0,  0,  0,  0,  0,  0,  0,  0,  0,  0,  0,  0,  0,  0,\n",
       "        0,  0,  0,  0,  0,  0,  0,  0,  0,  0,  0,  0,  0,  0,  0,  0,  0,\n",
       "        0,  0,  0,  0,  0,  0,  0,  0,  0,  0,  0,  0,  0,  0,  0,  0,  0,\n",
       "        0,  0,  0,  0,  0,  0,  0,  0,  0,  0,  0,  0,  0,  0,  0,  0,  0,\n",
       "        0,  0,  0,  0,  0,  0,  0,  0,  0,  0,  0,  0,  0,  0,  0,  0,  0,\n",
       "        0,  0,  0,  0,  0,  0,  0,  0,  0,  0,  0,  0,  0,  0,  0,  0,  0,\n",
       "        0,  0,  0,  0,  0,  0,  0,  0,  0,  0,  0,  0,  0,  0,  0,  0,  0,\n",
       "        0,  0,  0,  0,  0,  0,  0,  0,  0,  0,  0,  0,  0,  0,  0,  0,  0,\n",
       "        0,  0,  0,  0,  0,  0,  0,  0,  0,  0,  0,  0,  0,  0,  0,  0,  0,\n",
       "        0,  0,  0,  0,  0,  0,  0,  0,  0,  0,  0,  0,  0,  0,  0,  0,  0,\n",
       "        0,  0,  0,  0,  0,  0,  0,  0,  0,  0,  0,  0,  0,  0,  0,  0,  0,\n",
       "        0,  0,  0,  0,  0,  0,  0,  0,  0,  0,  0,  0,  0,  0,  0,  0,  0,\n",
       "        0,  0,  0,  0,  0,  0,  0,  0,  0,  0,  0,  0,  0,  0,  0,  0,  0,\n",
       "        0,  0,  0,  0,  0,  0,  0,  0,  0,  0,  0,  0,  0,  0,  0,  0,  0,\n",
       "        0,  0,  0,  0,  0,  0,  0,  0,  0,  0,  0,  0,  0,  0,  0,  0,  0,\n",
       "        0,  0,  0,  0,  0,  0,  0,  0,  0,  0,  0,  0,  0,  0,  0,  0,  0,\n",
       "        0,  0,  0,  0,  0,  0,  0,  0,  0,  0,  0,  0,  0,  0,  0,  0,  0,\n",
       "        0,  0,  0,  0,  0,  0,  0,  0,  0,  0,  0,  0,  0,  0,  0,  0,  0,\n",
       "        0,  0,  0,  0,  0,  0,  0,  0,  0,  0,  0,  0,  0,  0,  0,  0,  0,\n",
       "        0,  0,  0,  0,  0,  0,  0,  0,  0,  0,  0,  0,  0,  0], dtype=int32)"
      ]
     },
     "execution_count": 16,
     "metadata": {},
     "output_type": "execute_result"
    }
   ],
   "source": [
    "vars_padding['post_padding'][4079]"
   ]
  },
  {
   "cell_type": "code",
   "execution_count": 17,
   "metadata": {},
   "outputs": [
    {
     "name": "stdout",
     "output_type": "stream",
     "text": [
      "13921\n",
      "24215\n",
      "60058\n",
      "114366\n"
     ]
    }
   ],
   "source": [
    "print(k_aug_indices[3][0][0])\n",
    "print(k_aug_indices[3][0][1])\n",
    "print(k_aug_indices[3][0][2])\n",
    "print(k_aug_indices[3][0][3])"
   ]
  },
  {
   "cell_type": "code",
   "execution_count": 19,
   "metadata": {},
   "outputs": [
    {
     "name": "stdout",
     "output_type": "stream",
     "text": [
      "16140\n",
      "3456\n",
      "3462\n"
     ]
    }
   ],
   "source": [
    "print(len(k_aug_indices[3][0]))\n",
    "print(len(k_aug_indices[3][1]))\n",
    "print(len(k_aug_indices[3][2]))"
   ]
  },
  {
   "cell_type": "code",
   "execution_count": 20,
   "metadata": {},
   "outputs": [
    {
     "name": "stdout",
     "output_type": "stream",
     "text": [
      "7460\n",
      "1599\n",
      "1599\n"
     ]
    }
   ],
   "source": [
    "print(len(splitting_sets[3][0]))\n",
    "print(len(splitting_sets[3][1]))\n",
    "print(len(splitting_sets[3][2]))"
   ]
  },
  {
   "cell_type": "code",
   "execution_count": 21,
   "metadata": {},
   "outputs": [
    {
     "data": {
      "text/plain": [
       "19385"
      ]
     },
     "execution_count": 21,
     "metadata": {},
     "output_type": "execute_result"
    }
   ],
   "source": [
    "len(vars_padding[\"post_padding\"])"
   ]
  },
  {
   "cell_type": "code",
   "execution_count": null,
   "metadata": {},
   "outputs": [],
   "source": [
    "seqs[13921]"
   ]
  },
  {
   "cell_type": "code",
   "execution_count": 36,
   "metadata": {},
   "outputs": [
    {
     "data": {
      "text/plain": [
       "6"
      ]
     },
     "execution_count": 36,
     "metadata": {},
     "output_type": "execute_result"
    }
   ],
   "source": [
    "len(vars_padding)"
   ]
  },
  {
   "cell_type": "code",
   "execution_count": 31,
   "metadata": {},
   "outputs": [
    {
     "name": "stdout",
     "output_type": "stream",
     "text": [
      "19046\n",
      "[114276, 114277, 114278, 114279, 114280, 114281, 104640, 104641, 104642, 104643]\n",
      "14020\n",
      "[84120, 84121, 84122, 84123, 84124, 84125, 79410, 79411, 79412, 79413]\n",
      "14554\n",
      "[87324, 87325, 87326, 87327, 87328, 87329, 115092, 115093, 115094, 115095]\n",
      "4079\n",
      "[24474, 24475, 24476, 24477, 24478, 24479, 60918, 60919, 60920, 60921]\n",
      "13752\n",
      "[82512, 82513, 82514, 82515, 82516, 82517, 109290, 109291, 109292, 109293]\n",
      "10648\n",
      "[63888, 63889, 63890, 63891, 63892, 63893, 114372, 114373, 114374, 114375]\n",
      "4262\n",
      "[25572, 25573, 25574, 25575, 25576, 25577, 107772, 107773, 107774, 107775]\n",
      "16333\n",
      "[97998, 97999, 98000, 98001, 98002, 98003, 48222, 48223, 48224, 48225]\n",
      "13895\n",
      "[83370, 83371, 83372, 83373, 83374, 83375, 52584, 52585, 52586, 52587]\n",
      "18071\n",
      "[108426, 108427, 108428, 108429, 108430, 108431, 12900, 12901, 12902, 12903]\n"
     ]
    }
   ],
   "source": [
    "from itertools import chain\n",
    "indices = splitting_sets\n",
    "k_indices = []\n",
    "for k_fold in indices:\n",
    "    i_train, i_val, i_test = k_fold\n",
    "    print(i_train[0])\n",
    "    new_i_train = list(chain(*[list(range(x*len(vars_padding),(x*len(vars_padding)+len(vars_padding)))) \n",
    "                   for idx,x in enumerate(i_train)]))\n",
    "    print(new_i_train[0:10])\n",
    "    new_i_val = list(chain(*[list(range(x*len(vars_padding),(x*len(vars_padding)+len(vars_padding)))) \n",
    "                   for idx,x in enumerate(i_val)]))\n",
    "    new_i_test = list(chain(*[list(range(x*len(vars_padding),(x*len(vars_padding)+len(vars_padding)))) \n",
    "                   for idx,x in enumerate(i_test)]))\n",
    "    random.shuffle(new_i_train), random.shuffle(new_i_val), random.shuffle(new_i_test)\n",
    "    k_indices.append((new_i_train, new_i_val, new_i_test))      \n"
   ]
  },
  {
   "cell_type": "code",
   "execution_count": 35,
   "metadata": {},
   "outputs": [
    {
     "name": "stdout",
     "output_type": "stream",
     "text": [
      "44760\n",
      "9594\n",
      "9594\n"
     ]
    }
   ],
   "source": [
    "print(len(k_indices[0][0]))\n",
    "print(len(k_indices[0][1]))\n",
    "print(len(k_indices[0][2]))"
   ]
  },
  {
   "cell_type": "code",
   "execution_count": 27,
   "metadata": {},
   "outputs": [
    {
     "data": {
      "text/plain": [
       "array([12, 16, 10, 13, 16, 19,  9,  6, 11, 13, 19, 22, 10,  6, 11,  9, 19,\n",
       "       11,  8, 16, 10, 15, 22, 18, 19,  6,  6, 19, 10,  9, 15,  4,  6, 15,\n",
       "        8, 21, 11, 11, 10,  4,  9,  1, 10, 21,  7, 21,  7, 11, 21, 18,  7,\n",
       "        6,  4,  5,  1,  6, 11, 11, 13,  5,  4,  4,  9, 18, 10, 11, 13,  5,\n",
       "        4,  5, 10, 16, 11,  9, 10, 13,  6, 21, 10,  1, 10, 13,  3, 10, 17,\n",
       "        6, 21, 21,  5,  7,  6, 21, 16, 24,  9, 11,  9,  5,  4, 13, 11, 10,\n",
       "        4,  5,  5,  9,  6, 10, 19, 10, 24, 15, 13,  9, 24, 10, 10, 11, 11,\n",
       "       10,  6, 10,  4, 17, 12,  5, 13, 17, 24, 11, 15, 10, 13, 10, 10, 22,\n",
       "        6, 13, 22, 16,  1, 11, 17, 13, 24, 10,  6, 11,  9, 10, 13, 11, 13,\n",
       "       10, 10, 17,  9, 24, 21, 15, 19, 11,  4, 17, 10, 15, 24, 13, 17,  6,\n",
       "       18, 11,  7,  4,  4,  5, 11, 11, 15, 18,  7,  4, 21,  9,  6,  9, 16,\n",
       "       15, 24, 13,  4,  4,  4,  9, 24,  6, 11, 11,  7, 24, 11, 13, 18, 18,\n",
       "        6,  6, 17, 13, 24, 24, 11,  1, 13,  7,  7, 17, 17,  7,  7, 17, 21,\n",
       "        1,  6, 19, 16, 10, 11, 11,  5, 13,  1, 10,  9, 15, 19,  6, 18,  4,\n",
       "        5, 21, 10,  5, 10,  9, 10, 13,  9, 21, 10,  4,  9,  9, 24, 13, 11,\n",
       "       10, 13,  7, 10,  4,  9,  5, 13, 11,  5, 17, 16,  9,  4, 24,  9,  9,\n",
       "       21, 18,  1,  9, 13, 13, 13, 16,  6, 10,  7, 24, 16, 19, 19, 11, 10,\n",
       "       13, 11, 11, 10, 15, 10, 11, 10,  7,  0,  0,  0,  0,  0,  0,  0,  0,\n",
       "        0,  0,  0,  0,  0,  0,  0,  0,  0,  0,  0,  0,  0,  0,  0,  0,  0,\n",
       "        0,  0,  0,  0,  0,  0,  0,  0,  0,  0,  0,  0,  0,  0,  0,  0,  0,\n",
       "        0,  0,  0,  0,  0,  0,  0,  0,  0,  0,  0,  0,  0,  0,  0,  0,  0,\n",
       "        0,  0,  0,  0,  0,  0,  0,  0,  0,  0,  0,  0,  0,  0,  0,  0,  0,\n",
       "        0,  0,  0,  0,  0,  0,  0,  0,  0,  0,  0,  0,  0,  0,  0,  0,  0,\n",
       "        0,  0,  0,  0,  0,  0,  0,  0,  0,  0,  0,  0,  0,  0,  0,  0,  0,\n",
       "        0,  0,  0,  0,  0,  0,  0,  0,  0,  0,  0,  0,  0,  0,  0,  0,  0,\n",
       "        0,  0,  0,  0,  0,  0,  0,  0,  0,  0,  0,  0,  0,  0,  0,  0,  0,\n",
       "        0,  0,  0,  0,  0,  0,  0,  0,  0,  0,  0,  0,  0,  0,  0,  0,  0,\n",
       "        0,  0,  0,  0,  0,  0,  0,  0,  0,  0,  0,  0,  0,  0,  0,  0,  0,\n",
       "        0,  0,  0,  0,  0,  0,  0,  0,  0,  0,  0,  0,  0,  0,  0,  0,  0,\n",
       "        0,  0,  0,  0,  0,  0,  0,  0,  0,  0,  0,  0,  0,  0,  0,  0,  0,\n",
       "        0,  0,  0,  0,  0,  0,  0,  0,  0,  0,  0,  0,  0,  0,  0,  0,  0,\n",
       "        0,  0,  0,  0,  0,  0,  0,  0,  0,  0,  0,  0,  0,  0,  0,  0,  0,\n",
       "        0,  0,  0,  0,  0,  0,  0,  0,  0,  0,  0,  0,  0,  0,  0,  0,  0,\n",
       "        0,  0,  0,  0,  0,  0,  0,  0,  0,  0,  0,  0,  0,  0,  0,  0,  0,\n",
       "        0,  0,  0,  0,  0,  0,  0,  0,  0,  0,  0,  0,  0,  0,  0,  0,  0,\n",
       "        0,  0,  0,  0,  0,  0,  0,  0,  0,  0,  0,  0,  0,  0,  0,  0,  0,\n",
       "        0,  0,  0,  0,  0,  0,  0,  0,  0,  0,  0,  0,  0,  0,  0,  0,  0,\n",
       "        0,  0,  0,  0,  0,  0,  0,  0,  0,  0,  0,  0,  0,  0,  0,  0,  0,\n",
       "        0,  0,  0,  0,  0,  0,  0,  0,  0,  0,  0,  0,  0,  0,  0,  0,  0,\n",
       "        0,  0,  0,  0,  0,  0,  0,  0,  0,  0,  0,  0,  0,  0,  0,  0,  0,\n",
       "        0,  0,  0,  0,  0,  0,  0,  0,  0,  0,  0,  0,  0,  0,  0,  0,  0,\n",
       "        0,  0,  0,  0,  0,  0,  0,  0,  0,  0,  0,  0,  0,  0,  0,  0,  0,\n",
       "        0,  0,  0,  0,  0,  0,  0,  0,  0,  0,  0,  0,  0,  0,  0,  0,  0,\n",
       "        0,  0,  0,  0,  0,  0,  0,  0,  0,  0,  0,  0,  0,  0,  0,  0,  0,\n",
       "        0,  0,  0,  0,  0,  0,  0,  0,  0,  0,  0,  0,  0,  0,  0,  0,  0,\n",
       "        0,  0,  0,  0,  0,  0,  0,  0,  0,  0,  0,  0,  0,  0,  0,  0,  0,\n",
       "        0,  0,  0,  0,  0,  0,  0,  0,  0,  0,  0,  0,  0,  0,  0,  0,  0,\n",
       "        0,  0,  0,  0,  0,  0,  0,  0,  0,  0,  0,  0,  0,  0,  0,  0,  0,\n",
       "        0,  0,  0,  0,  0,  0,  0,  0,  0,  0,  0,  0,  0,  0,  0,  0,  0,\n",
       "        0,  0,  0,  0,  0,  0,  0,  0,  0,  0,  0,  0,  0,  0,  0,  0,  0,\n",
       "        0,  0,  0,  0,  0,  0,  0,  0,  0,  0,  0,  0,  0,  0,  0,  0,  0,\n",
       "        0,  0,  0,  0,  0,  0,  0,  0,  0,  0,  0,  0,  0,  0,  0,  0,  0,\n",
       "        0,  0,  0,  0,  0,  0,  0,  0,  0,  0,  0,  0,  0,  0,  0,  0,  0,\n",
       "        0,  0,  0,  0,  0,  0,  0,  0,  0,  0,  0,  0,  0,  0,  0,  0,  0,\n",
       "        0,  0,  0,  0,  0,  0,  0,  0,  0,  0,  0,  0,  0,  0,  0,  0,  0,\n",
       "        0,  0,  0,  0,  0,  0,  0,  0,  0,  0,  0,  0,  0,  0,  0,  0,  0,\n",
       "        0,  0,  0,  0,  0,  0,  0,  0,  0,  0,  0,  0,  0,  0,  0,  0,  0,\n",
       "        0,  0,  0,  0,  0,  0,  0,  0,  0,  0,  0,  0,  0,  0,  0,  0,  0,\n",
       "        0,  0,  0,  0,  0,  0,  0,  0,  0,  0,  0,  0,  0,  0], dtype=int32)"
      ]
     },
     "execution_count": 27,
     "metadata": {},
     "output_type": "execute_result"
    }
   ],
   "source": [
    "vars_padding[\"post_padding\"][19046]"
   ]
  },
  {
   "cell_type": "code",
   "execution_count": 30,
   "metadata": {},
   "outputs": [
    {
     "data": {
      "text/plain": [
       "array([12,  0,  0, 21,  0,  0, 18,  0,  0,  1,  0,  0,  9,  0,  0, 21,  0,\n",
       "        0, 11,  0,  0,  1,  0,  0,  7,  0,  0,  7,  0,  0, 24,  0,  0,  1,\n",
       "        0,  0, 19,  0,  0, 17,  0,  0, 11,  0,  0, 17,  0,  0, 15,  0,  0,\n",
       "       11,  0,  0, 18,  0,  0, 11,  0,  0, 19,  0,  0, 10,  0,  0, 15,  0,\n",
       "        0, 10,  0,  0,  1,  0,  0, 11,  0,  0, 11,  0,  0, 15,  0,  0, 21,\n",
       "        0,  0, 11,  0,  0,  7,  0,  0, 10,  0,  0, 15,  0,  0, 11,  0,  0,\n",
       "       12,  0,  0,  4,  0,  0, 24,  0,  0, 19,  0,  0, 11,  0,  0, 24,  0,\n",
       "        0, 18,  0,  0, 11,  0,  0,  1,  0,  0, 18,  0,  0, 18,  0,  0,  4,\n",
       "        0,  0, 21,  0,  0,  4,  0,  0, 19,  0,  0,  9,  0,  0, 24,  0,  0,\n",
       "       11,  0,  0, 18,  0,  0, 11,  0,  0, 17,  0,  0, 21,  0,  0, 12,  0,\n",
       "        0,  1,  0,  0,  4,  0,  0, 10,  0,  0, 21,  0,  0, 11,  0,  0,  4,\n",
       "        0,  0,  8,  0,  0, 21,  0,  0, 10,  0,  0, 16,  0,  0, 11,  0,  0,\n",
       "       13,  0,  0, 11,  0,  0, 16,  0,  0, 10,  0,  0, 13,  0,  0,  9,  0,\n",
       "        0, 21,  0,  0, 18,  0,  0, 21,  0,  0,  9,  0,  0,  5,  0,  0,  5,\n",
       "        0,  0, 18,  0,  0, 17,  0,  0, 11,  0,  0,  7,  0,  0,  4,  0,  0,\n",
       "        1,  0,  0,  7,  0,  0, 15,  0,  0, 11,  0,  0, 10,  0,  0,  6,  0,\n",
       "        0,  9,  0,  0, 13,  0,  0, 18,  0,  0, 10,  0,  0, 24,  0,  0, 13,\n",
       "        0,  0, 11,  0,  0, 18,  0,  0,  4,  0,  0,  4,  0,  0, 21,  0,  0,\n",
       "        9,  0,  0, 21,  0,  0, 21,  0,  0, 24,  0,  0,  7,  0,  0,  4,  0,\n",
       "        0,  9,  0,  0, 24,  0,  0,  1,  0,  0,  5,  0,  0,  9,  0,  0,  4,\n",
       "        0,  0,  6,  0,  0, 13,  0,  0, 10,  0,  0, 11,  0,  0, 11,  0,  0,\n",
       "        5,  0,  0, 24,  0,  0,  8,  0,  0, 16,  0,  0, 18,  0,  0, 10,  0,\n",
       "        0,  7,  0,  0,  3,  0,  0, 13,  0,  0,  1,  0,  0, 19,  0,  0, 11,\n",
       "        0,  0, 19,  0,  0,  1,  0,  0, 19,  0,  0, 16,  0,  0, 21,  0,  0,\n",
       "        5,  0,  0,  4,  0,  0, 15,  0,  0, 18,  0,  0, 17,  0,  0, 24,  0,\n",
       "        0,  7,  0,  0, 21,  0,  0, 11,  0,  0,  9,  0,  0, 19,  0,  0,  4,\n",
       "        0,  0,  7,  0,  0,  8,  0,  0, 17,  0,  0, 11,  0,  0,  9,  0,  0,\n",
       "       16,  0,  0,  9,  0,  0,  9,  0,  0,  5,  0,  0, 10,  0,  0, 15,  0,\n",
       "        0, 10,  0,  0, 19,  0,  0, 15,  0,  0, 11,  0,  0, 18,  0,  0, 13,\n",
       "        0,  0, 11,  0,  0, 21,  0,  0, 13,  0,  0,  1,  0,  0,  7,  0,  0,\n",
       "        9,  0,  0, 24,  0,  0, 21,  0,  0,  6,  0,  0, 10,  0,  0, 10,  0,\n",
       "        0,  5,  0,  0, 11,  0,  0, 11,  0,  0, 13,  0,  0, 10,  0,  0,  9,\n",
       "        0,  0,  4,  0,  0,  7,  0,  0, 11,  0,  0, 18,  0,  0,  9,  0,  0,\n",
       "       18,  0,  0, 17,  0,  0,  4,  0,  0,  6,  0,  0, 11,  0,  0, 15,  0,\n",
       "        0, 10,  0,  0, 11,  0,  0, 11,  0,  0, 21,  0,  0, 18,  0,  0,  4,\n",
       "        0,  0, 19,  0,  0,  3,  0,  0, 21,  0,  0, 18,  0,  0, 21,  0,  0,\n",
       "       24,  0,  0, 15,  0,  0, 24,  0,  0, 10,  0,  0,  7,  0,  0, 11,  0,\n",
       "       22,  0,  0, 12,  0,  4,  0,  0,  9,  0,  7,  0,  0, 21,  0, 15,  0,\n",
       "        0, 17,  0,  4,  0,  0, 24,  0, 12,  0,  0, 17,  0,  9,  0,  0, 13,\n",
       "        0, 11,  0,  0,  5,  0, 11,  0,  0, 11,  0, 19,  0,  0, 11,  0, 10,\n",
       "        0,  0, 24,  0, 15,  0,  0, 10,  0,  7,  0,  0,  6,  0,  9,  0,  0,\n",
       "       18,  0, 16,  0,  0, 18,  0,  1,  0,  0, 10,  0, 21,  0,  0, 18,  0,\n",
       "        5,  0,  0, 10,  0,  1,  0,  0,  5,  0, 11,  0,  0,  6,  0, 15,  0,\n",
       "        0, 15,  0,  6,  0,  0, 24,  0,  9,  0,  0,  7,  0,  4,  0,  0, 13,\n",
       "        0, 19,  0,  0, 19,  0, 21,  0,  0,  7,  0,  5,  0,  0,  7,  0, 18,\n",
       "        0,  0, 18,  0,  9,  0,  0, 17,  0, 13,  0,  0, 18,  0,  9,  0,  0,\n",
       "        9,  0,  7,  0,  0, 21,  0, 13,  0,  0, 13,  0, 17,  0,  0,  9,  0,\n",
       "        7,  0,  0, 13,  0,  7,  0,  0, 18,  0,  3,  0,  0, 21,  0,  5,  0,\n",
       "        0,  5,  0, 18,  0,  0,  9,  0, 11,  0,  0, 12,  0, 13,  0,  0,  4,\n",
       "        0, 21,  0,  0, 12,  0, 11,  0,  0,  7,  0,  4,  0,  0,  6,  0, 18,\n",
       "        0,  0, 11,  0,  9,  0,  0, 10,  0,  5,  0,  0, 18,  0, 21,  0,  0,\n",
       "        9,  0,  7,  0,  0,  4,  0,  5,  0,  0, 21,  0, 18,  0,  0, 11,  0,\n",
       "        7,  0,  0, 10,  0, 22,  0,  0, 13,  0, 17,  0,  0, 21,  0,  4,  0,\n",
       "        0,  7,  0,  1,  0,  0,  9,  0,  9,  0,  0,  7,  0,  4,  0,  0,  7,\n",
       "        0, 21,  0,  0, 11,  0,  9,  0,  0,  8,  0,  4,  0,  0, 16,  0, 21,\n",
       "        0,  0,  6,  0,  9,  0,  0, 13,  0, 17,  0,  0,  4,  0, 19,  0,  0,\n",
       "        9,  0,  9,  0,  0, 11,  0, 15,  0,  0,  4,  0, 10,  0,  0,  5,  0,\n",
       "       21,  0,  0,  1,  0,  5,  0,  0, 18,  0, 21,  0,  0, 24,  0,  4,  0,\n",
       "        0, 10,  0,  7,  0,  0, 10,  0,  9,  0,  0,  9,  0, 11], dtype=int32)"
      ]
     },
     "execution_count": 30,
     "metadata": {},
     "output_type": "execute_result"
    }
   ],
   "source": [
    "seqs[104643]"
   ]
  },
  {
   "cell_type": "code",
   "execution_count": null,
   "metadata": {},
   "outputs": [],
   "source": [
    "#los indices de augmented y los otros no encajan!!!"
   ]
  },
  {
   "cell_type": "code",
   "execution_count": null,
   "metadata": {},
   "outputs": [],
   "source": [
    "k_aug_indices[0]"
   ]
  },
  {
   "cell_type": "code",
   "execution_count": null,
   "metadata": {},
   "outputs": [],
   "source": []
  }
 ],
 "metadata": {
  "kernelspec": {
   "display_name": "Python 3",
   "language": "python",
   "name": "python3"
  },
  "language_info": {
   "codemirror_mode": {
    "name": "ipython",
    "version": 3
   },
   "file_extension": ".py",
   "mimetype": "text/x-python",
   "name": "python",
   "nbconvert_exporter": "python",
   "pygments_lexer": "ipython3",
   "version": "3.6.7"
  }
 },
 "nbformat": 4,
 "nbformat_minor": 2
}
